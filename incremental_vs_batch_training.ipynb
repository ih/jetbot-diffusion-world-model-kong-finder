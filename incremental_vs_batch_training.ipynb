{
 "cells": [
  {
   "cell_type": "markdown",
   "metadata": {},
   "source": [
    "# Incremental vs Batch Training\n",
    "This notebook copies each session directory one by one, runs incremental training, and logs evaluation metrics with wandb."
   ]
  },
  {
   "cell_type": "code",
   "execution_count": null,
   "metadata": {},
   "outputs": [],
   "source": [
    "import os, shutil, time, datetime\n",
    "import wandb\n",
    "from incremental_training import main as incremental_main\n",
    "from evaluate_holdout import evaluate_sampler_on_holdout\n",
    "\n",
    "wandb.init(project='incremental_vs_batch')"
   ]
  },
  {
   "cell_type": "code",
   "execution_count": null,
   "metadata": {},
   "outputs": [],
   "source": [
    "source_dir = r'C:\\Projects\\jetbot-diffusion-world-model-kong-finder-aux\\jetbot_laundry_session_data_two_actions'\n",
    "dest_dir = r'C:\\Projects\\jetbot-diffusion-world-model-kong-finder-aux\\jetbot_laundry_session_data_two_actions_incremental_test'\n",
    "os.makedirs(dest_dir, exist_ok=True)\n",
    "sessions = sorted([d for d in os.listdir(source_dir) if os.path.isdir(os.path.join(source_dir, d))])\n",
    "\n",
    "for session in sessions:\n",
    "    src = os.path.join(source_dir, session)\n",
    "    dst = os.path.join(dest_dir, session)\n",
    "    if not os.path.exists(dst):\n",
    "        shutil.copytree(src, dst)\n",
    "        print(f'Copied {src} -> {dst}')\n",
    "    else:\n",
    "        print(f'{dst} already exists, skipping copy')\n",
    "\n",
    "    start = time.time()\n",
    "    incremental_main()\n",
    "    duration = str(datetime.timedelta(seconds=time.time() - start))\n",
    "    print(f'Training took: {duration}')\n",
    "    wandb.log({'session': session, 'training_duration': duration})\n",
    "\n",
    "    metrics, paths = evaluate_sampler_on_holdout()\n",
    "    flat = {f'eval/{session}_{k}_{m}': v for k, vals in metrics.items() for m, v in vals.items()}\n",
    "    wandb.log(flat)\n",
    "    images = {f'eval/{session}_{name}': wandb.Image(path) for name, path in paths.items()}\n",
    "    if images:\n",
    "        wandb.log(images)\n",
    "\n",
    "wandb.finish()"
   ]
  }
 ],
 "metadata": {
  "kernelspec": {
   "display_name": "Python 3",
   "language": "python",
   "name": "python3"
  },
  "language_info": {
   "name": "python",
   "version": "3.12"
  }
 },
 "nbformat": 4,
 "nbformat_minor": 5
}
