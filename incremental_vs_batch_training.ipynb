{
 "cells": [
  {
   "cell_type": "markdown",
   "id": "055ba276",
   "metadata": {},
   "source": [
    "# Incremental vs Batch Training\n",
    "This notebook copies each session directory one by one, runs incremental training, and logs evaluation metrics with wandb."
   ]
  },
  {
   "cell_type": "code",
   "execution_count": 1,
   "id": "046609e7",
   "metadata": {},
   "outputs": [
    {
     "name": "stdout",
     "output_type": "stream",
     "text": [
      "Imports successful.\n",
      "Visualization helpers defined.\n",
      "Training and validation epoch functions adapted for Batch object and Denoiser.forward.\n"
     ]
    },
    {
     "name": "stderr",
     "output_type": "stream",
     "text": [
      "wandb: ERROR Failed to detect the name of this notebook. You can set it manually with the WANDB_NOTEBOOK_NAME environment variable to enable code saving.\n",
      "wandb: Currently logged in as: irvin-hwang (irvin-hwang-simulacra-systems) to https://api.wandb.ai. Use `wandb login --relogin` to force relogin\n"
     ]
    },
    {
     "data": {
      "text/html": [
       "Tracking run with wandb version 0.19.11"
      ],
      "text/plain": [
       "<IPython.core.display.HTML object>"
      ]
     },
     "metadata": {},
     "output_type": "display_data"
    },
    {
     "data": {
      "text/html": [
       "Run data is saved locally in <code>C:\\Projects\\jetbot-diffusion-world-model-kong-finder\\wandb\\run-20250716_105327-zvd4lq73</code>"
      ],
      "text/plain": [
       "<IPython.core.display.HTML object>"
      ]
     },
     "metadata": {},
     "output_type": "display_data"
    },
    {
     "data": {
      "text/html": [
       "Syncing run <strong><a href='https://wandb.ai/irvin-hwang-simulacra-systems/incremental_vs_batch/runs/zvd4lq73' target=\"_blank\">polished-resonance-10</a></strong> to <a href='https://wandb.ai/irvin-hwang-simulacra-systems/incremental_vs_batch' target=\"_blank\">Weights & Biases</a> (<a href='https://wandb.me/developer-guide' target=\"_blank\">docs</a>)<br>"
      ],
      "text/plain": [
       "<IPython.core.display.HTML object>"
      ]
     },
     "metadata": {},
     "output_type": "display_data"
    },
    {
     "data": {
      "text/html": [
       " View project at <a href='https://wandb.ai/irvin-hwang-simulacra-systems/incremental_vs_batch' target=\"_blank\">https://wandb.ai/irvin-hwang-simulacra-systems/incremental_vs_batch</a>"
      ],
      "text/plain": [
       "<IPython.core.display.HTML object>"
      ]
     },
     "metadata": {},
     "output_type": "display_data"
    },
    {
     "data": {
      "text/html": [
       " View run at <a href='https://wandb.ai/irvin-hwang-simulacra-systems/incremental_vs_batch/runs/zvd4lq73' target=\"_blank\">https://wandb.ai/irvin-hwang-simulacra-systems/incremental_vs_batch/runs/zvd4lq73</a>"
      ],
      "text/plain": [
       "<IPython.core.display.HTML object>"
      ]
     },
     "metadata": {},
     "output_type": "display_data"
    },
    {
     "data": {
      "text/html": [
       "<button onClick=\"this.nextSibling.style.display='block';this.style.display='none';\">Display W&B run</button><iframe src='https://wandb.ai/irvin-hwang-simulacra-systems/incremental_vs_batch/runs/zvd4lq73?jupyter=true' style='border:none;width:100%;height:420px;display:none;'></iframe>"
      ],
      "text/plain": [
       "<wandb.sdk.wandb_run.Run at 0x24d6f5d0f10>"
      ]
     },
     "execution_count": 1,
     "metadata": {},
     "output_type": "execute_result"
    }
   ],
   "source": [
    "import os, shutil, time, datetime\n",
    "import wandb\n",
    "import torch\n",
    "import gc\n",
    "from incremental_training import main as incremental_main\n",
    "from evaluate_holdout import evaluate_sampler_on_holdout\n",
    "\n",
    "wandb.init(project='incremental_vs_batch')"
   ]
  },
  {
   "cell_type": "code",
   "execution_count": null,
   "id": "2026b77a",
   "metadata": {},
   "outputs": [
    {
     "name": "stdout",
     "output_type": "stream",
     "text": [
      "C:\\Projects\\jetbot-diffusion-world-model-kong-finder-aux\\jetbot_laundry_session_data_two_actions_incremental_test\\session_20250528_094204 already exists, skipping copy\n",
      "C:\\Projects\\jetbot-diffusion-world-model-kong-finder-aux\\jetbot_laundry_session_data_two_actions_incremental_test\\session_20250528_094602 already exists, skipping copy\n",
      "Copied C:\\Projects\\jetbot-diffusion-world-model-kong-finder-aux\\jetbot_laundry_session_data_two_actions\\session_20250528_094947 -> C:\\Projects\\jetbot-diffusion-world-model-kong-finder-aux\\jetbot_laundry_session_data_two_actions_incremental_test\\session_20250528_094947\n",
      "Found 2 new sessions to collect.\n"
     ]
    },
    {
     "data": {
      "application/vnd.jupyter.widget-view+json": {
       "model_id": "50ba7afade8d45c3acdf8f0009d4d634",
       "version_major": 2,
       "version_minor": 0
      },
      "text/plain": [
       "Collecting New Sessions:   0%|          | 0/2 [00:00<?, ?it/s]"
      ]
     },
     "metadata": {},
     "output_type": "display_data"
    },
    {
     "name": "stdout",
     "output_type": "stream",
     "text": [
      "Wrote 9009 entries to C:\\Projects\\jetbot-diffusion-world-model-kong-finder-aux\\jetbot_new_data_incremental_test\\new.csv\n",
      "Loaded combined CSV with columns: ['session_id', 'image_path', 'timestamp', 'action']\n",
      "Fresh dataset size is 593.\n",
      "Loaded combined CSV with columns: ['session_id', 'image_path', 'timestamp', 'action']\n",
      "Full dataset size: 292\n",
      "Loading dataset split from C:\\Projects\\jetbot-diffusion-world-model-kong-finder-aux\\output_model_2hz_DIAMOND_laundry_incremental_test\\dataset_split.pth\n",
      "Starting training\n",
      "Incremental training for at least 12800 and at most 640000 with 640 number of steps per fresh data epoch\n"
     ]
    },
    {
     "data": {
      "application/vnd.jupyter.widget-view+json": {
       "model_id": "389e7de921bd4219882bebf2b03befb6",
       "version_major": 2,
       "version_minor": 0
      },
      "text/plain": [
       "Incremental Training Steps:   0%|          | 0/640000 [00:00<?, ?it/s]"
      ]
     },
     "metadata": {},
     "output_type": "display_data"
    },
    {
     "name": "stdout",
     "output_type": "stream",
     "text": [
      "Filtering dataset with 30 samples for actions: [0.0]\n"
     ]
    },
    {
     "data": {
      "application/vnd.jupyter.widget-view+json": {
       "model_id": "d3f1b57588c64f29af4cad4bb5ba2186",
       "version_major": 2,
       "version_minor": 0
      },
      "text/plain": [
       "Filtering Dataset:   0%|          | 0/30 [00:00<?, ?it/s]"
      ]
     },
     "metadata": {},
     "output_type": "display_data"
    },
    {
     "name": "stdout",
     "output_type": "stream",
     "text": [
      "Filtered down to 9 samples.\n",
      "Filtering dataset with 30 samples for actions: [0.13]\n"
     ]
    },
    {
     "data": {
      "application/vnd.jupyter.widget-view+json": {
       "model_id": "1c6fbad2fa344cfba9b85d2719f651bc",
       "version_major": 2,
       "version_minor": 0
      },
      "text/plain": [
       "Filtering Dataset:   0%|          | 0/30 [00:00<?, ?it/s]"
      ]
     },
     "metadata": {},
     "output_type": "display_data"
    },
    {
     "name": "stdout",
     "output_type": "stream",
     "text": [
      "Filtered down to 21 samples.\n"
     ]
    }
   ],
   "source": [
    "source_dir = r'C:\\Projects\\jetbot-diffusion-world-model-kong-finder-aux\\jetbot_laundry_session_data_two_actions'\n",
    "dest_dir = r'C:\\Projects\\jetbot-diffusion-world-model-kong-finder-aux\\jetbot_laundry_session_data_two_actions_incremental_test'\n",
    "os.makedirs(dest_dir, exist_ok=True)\n",
    "sessions = sorted([d for d in os.listdir(source_dir) if os.path.isdir(os.path.join(source_dir, d))])\n",
    "\n",
    "for session in sessions:\n",
    "    src = os.path.join(source_dir, session)\n",
    "    dst = os.path.join(dest_dir, session)\n",
    "    if os.path.exists(dst):\n",
    "        print(f'{dst} already exists, skipping copy')\n",
    "        continue\n",
    "    shutil.copytree(src, dst)\n",
    "    print(f'Copied {src} -> {dst}')\n",
    "\n",
    "    start = time.time()\n",
    "    incremental_main()\n",
    "    duration = str(datetime.timedelta(seconds=time.time() - start))\n",
    "    print(f'Training took: {duration}')\n",
    "    wandb.log({'session': session, 'training_duration': duration})\n",
    "\n",
    "    gc.collect()\n",
    "    torch.cuda.empty_cache()\n",
    "    \n",
    "    metrics, paths = evaluate_sampler_on_holdout()\n",
    "    flat = {f'eval/{session}_{k}_{m}': v for k, vals in metrics.items() for m, v in vals.items()}\n",
    "    wandb.log(flat)\n",
    "    images = {f'eval/{session}_{name}': wandb.Image(path) for name, path in paths.items()}\n",
    "    if images:\n",
    "        wandb.log(images)\n",
    "\n",
    "    gc.collect()\n",
    "    torch.cuda.empty_cache()\n",
    "\n",
    "\n",
    "wandb.finish()"
   ]
  },
  {
   "cell_type": "code",
   "execution_count": null,
   "id": "f4b1b07e-e60d-41a0-b1fe-86a2e77d0cff",
   "metadata": {},
   "outputs": [],
   "source": []
  }
 ],
 "metadata": {
  "kernelspec": {
   "display_name": "Python 3 (ipykernel)",
   "language": "python",
   "name": "python3"
  },
  "language_info": {
   "codemirror_mode": {
    "name": "ipython",
    "version": 3
   },
   "file_extension": ".py",
   "mimetype": "text/x-python",
   "name": "python",
   "nbconvert_exporter": "python",
   "pygments_lexer": "ipython3",
   "version": "3.11.9"
  }
 },
 "nbformat": 4,
 "nbformat_minor": 5
}
