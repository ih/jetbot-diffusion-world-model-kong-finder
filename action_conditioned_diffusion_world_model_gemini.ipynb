{
 "cells": [
  {
   "cell_type": "code",
   "execution_count": 1,
   "id": "33b40e0f-8c29-4a90-9e82-5995ef5a0506",
   "metadata": {},
   "outputs": [],
   "source": [
    "import torch\n",
    "import torch.nn as nn\n",
    "import torch.nn.functional as F\n",
    "import torchvision.transforms as transforms\n",
    "from torch.utils.data import Dataset, DataLoader\n",
    "from PIL import Image\n",
    "import numpy as np\n",
    "import os\n",
    "import matplotlib.pyplot as plt\n",
    "from tqdm.auto import tqdm\n",
    "import time\n",
    "import datetime\n",
    "import csv"
   ]
  },
  {
   "cell_type": "code",
   "execution_count": 17,
   "id": "4e89e9ec-9f79-4a17-800e-243b0864cbf4",
   "metadata": {},
   "outputs": [],
   "source": [
    "# --- Dataset ---\n",
    "class JetbotDataset(Dataset):\n",
    "    def __init__(self, image_dir, csv_path, image_size, num_prev_frames, transform=None):\n",
    "        self.image_dir = image_dir\n",
    "        self.csv_path = csv_path\n",
    "        self.image_size = image_size\n",
    "        self.transform = transform\n",
    "        self.num_prev_frames = num_prev_frames\n",
    "        self.image_paths, self.actions = self.load_data()\n",
    "        self.image_paths = self.image_paths[self.num_prev_frames:]\n",
    "        self.actions = self.actions[self.num_prev_frames:]\n",
    "\n",
    "\n",
    "    def load_data(self):\n",
    "        image_paths = []\n",
    "        actions = []\n",
    "        with open(self.csv_path, 'r') as csvfile:\n",
    "            reader = csv.DictReader(csvfile)\n",
    "            for row in reader:\n",
    "                image_paths.append(row['image_path'])\n",
    "                actions.append(float(row['action']))\n",
    "        return image_paths, actions\n",
    "\n",
    "    def __len__(self):\n",
    "        return len(self.image_paths)\n",
    "\n",
    "    def __getitem__(self, idx):\n",
    "        current_image_path = self.image_paths[idx]\n",
    "        current_image = Image.open(current_image_path).convert(\"RGB\")\n",
    "        current_action = self.actions[idx]\n",
    "\n",
    "        prev_frames = []\n",
    "        for i in range(self.num_prev_frames):\n",
    "            prev_image_path = self.image_paths[idx - (self.num_prev_frames - i)]\n",
    "            prev_image = Image.open(prev_image_path).convert(\"RGB\")\n",
    "            if self.transform:\n",
    "                prev_image = self.transform(prev_image)\n",
    "            prev_frames.append(prev_image)\n",
    "\n",
    "        if self.transform:\n",
    "            current_image = self.transform(current_image)\n",
    "\n",
    "        prev_frames_tensor = torch.cat(prev_frames, dim=0)\n",
    "\n",
    "        return current_image, torch.tensor([current_action], dtype=torch.float32), prev_frames_tensor\n",
    "\n",
    "# --- Diffusion Helpers ---\n",
    "def linear_beta_schedule(timesteps, beta_start, beta_end):\n",
    "    return torch.linspace(beta_start, beta_end, timesteps)\n",
    "\n",
    "def cosine_beta_schedule(timesteps, s=0.008):\n",
    "    steps = timesteps + 1\n",
    "    x = torch.linspace(0, timesteps, steps, dtype=torch.float64)\n",
    "    alphas_cumprod = torch.cos(((x / timesteps) + s) / (1 + s) * np.pi * 0.5) ** 2\n",
    "    alphas_cumprod = alphas_cumprod / alphas_cumprod[0]\n",
    "    betas = 1 - (alphas_cumprod[1:] / alphas_cumprod[:-1])\n",
    "    return torch.clip(betas, 0, 0.999)\n",
    "\n",
    "def get_index_from_list(vals, t, x_shape):\n",
    "    batch_size = t.shape[0]\n",
    "    out = vals.gather(-1, t)\n",
    "    return out.reshape(batch_size, *((1,) * (len(x_shape) - 1))).to(t.device)\n",
    "\n",
    "def forward_diffusion_sample(x_0, t, betas, device=\"cpu\"):\n",
    "    noise = torch.randn_like(x_0)\n",
    "    sqrt_alphas_cumprod_t = get_index_from_list(torch.sqrt(alphas_cumprod), t, x_0.shape)\n",
    "    sqrt_one_minus_alphas_cumprod_t = get_index_from_list(\n",
    "        torch.sqrt(1. - alphas_cumprod), t, x_0.shape\n",
    "    )\n",
    "    return sqrt_alphas_cumprod_t * x_0 + sqrt_one_minus_alphas_cumprod_t * noise, noise\n",
    "\n",
    "# --- U-Net Model ---\n",
    "class Block(nn.Module):\n",
    "    def __init__(self, in_ch, out_ch, time_emb_dim, up=False):\n",
    "        super().__init__()\n",
    "        self.time_mlp =  nn.Linear(time_emb_dim, out_ch)\n",
    "        if up:\n",
    "            self.conv1 = nn.Conv2d(2*in_ch, out_ch, 3, padding=1)\n",
    "            self.transform = nn.ConvTranspose2d(out_ch, out_ch, 4, 2, 1)\n",
    "        else:\n",
    "            self.conv1 = nn.Conv2d(in_ch, out_ch, 3, padding=1)\n",
    "            self.transform = nn.Conv2d(out_ch, out_ch, 4, 2, 1)\n",
    "        self.conv2 = nn.Conv2d(out_ch, out_ch, 3, padding=1)\n",
    "        self.bnorm1 = nn.BatchNorm2d(out_ch)\n",
    "        self.bnorm2 = nn.BatchNorm2d(out_ch)\n",
    "        self.relu  = nn.ReLU()\n",
    "\n",
    "    def forward(self, x, t, ):\n",
    "        h = self.bnorm1(self.relu(self.conv1(x)))\n",
    "        time_emb = self.relu(self.time_mlp(t))\n",
    "        time_emb = time_emb[(..., ) + (None, ) * 2]\n",
    "        h = h + time_emb\n",
    "        h = self.bnorm2(self.relu(self.conv2(h)))\n",
    "        return self.transform(h)\n",
    "\n",
    "class SinusoidalPositionEmbeddings(nn.Module):\n",
    "    def __init__(self, dim):\n",
    "        super().__init__()\n",
    "        self.dim = dim\n",
    "\n",
    "    def forward(self, time):\n",
    "        device = time.device\n",
    "        half_dim = self.dim // 2\n",
    "        embeddings = np.log(10000) / (half_dim - 1)\n",
    "        embeddings = torch.exp(torch.arange(half_dim, device=device) * -embeddings)\n",
    "        embeddings = time[:, None] * embeddings[None, :]\n",
    "        embeddings = torch.cat((embeddings.sin(), embeddings.cos()), dim=-1)\n",
    "        return embeddings\n",
    "\n",
    "class SimpleUNet(nn.Module):\n",
    "    def __init__(self, image_channels=3, down_channels=(64, 128, 256), up_channels=(256, 128, 64), time_emb_dim=32, num_prev_frames=4):\n",
    "        super().__init__()\n",
    "        self.time_mlp = nn.Sequential(\n",
    "                SinusoidalPositionEmbeddings(time_emb_dim),\n",
    "                nn.Linear(time_emb_dim, time_emb_dim),\n",
    "                nn.ReLU()\n",
    "            )\n",
    "        self.conv0 = nn.Conv2d(image_channels * (num_prev_frames + 1), down_channels[0], 3, padding=1)\n",
    "\n",
    "        self.downs = nn.ModuleList([Block(down_channels[i], down_channels[i+1], \\\n",
    "                                    time_emb_dim + 1) \\\n",
    "                    for i in range(len(down_channels)-1)])\n",
    "        self.ups = nn.ModuleList([Block(up_channels[i], up_channels[i+1], \\\n",
    "                                        time_emb_dim + 1, up=True) \\\n",
    "                    for i in range(len(up_channels)-1)])\n",
    "\n",
    "        self.output = nn.Conv2d(up_channels[-1], image_channels, 1)\n",
    "\n",
    "\n",
    "    def forward(self, x, timestep, action, prev_frames):\n",
    "        x = torch.cat([x, prev_frames], dim=1)\n",
    "\n",
    "        t = self.time_mlp(timestep)\n",
    "        if action is not None:\n",
    "            action = action.float()\n",
    "            if len(action.shape) == 1:\n",
    "                action = action.unsqueeze(1)\n",
    "            t = torch.cat([t, action], dim=1)\n",
    "\n",
    "        x = self.conv0(x)\n",
    "        residual_inputs = []\n",
    "        for down in self.downs:\n",
    "            x = down(x, t)\n",
    "            residual_inputs.append(x)\n",
    "        for up in self.ups:\n",
    "            residual_x = residual_inputs.pop()\n",
    "            x = torch.cat((x, residual_x), dim=1)\n",
    "            x = up(x, t)\n",
    "        return self.output(x)\n",
    "\n",
    "# --- Training Loop ---\n",
    "def train(model, dataloader, optimizer, betas, start_epoch, num_epochs, device, save_every, sample_every, checkpoint_dir, sample_dir, plot_dir, plot_every, use_fp16, accumulation_steps, num_prev_frames):\n",
    "    all_losses = []\n",
    "    start_time = time.time()\n",
    "    last_plot_epoch = 0\n",
    "\n",
    "    scaler = torch.cuda.amp.GradScaler(enabled=use_fp16)\n",
    "\n",
    "    for epoch in range(start_epoch, num_epochs):\n",
    "        model.train()\n",
    "        epoch_losses = []\n",
    "        optimizer.zero_grad()\n",
    "        pbar = tqdm(dataloader, desc=f\"Epoch {epoch+1}/{num_epochs}\")\n",
    "        for step, (images, actions, prev_frames) in enumerate(pbar):\n",
    "            images = images.to(device)\n",
    "            actions = actions.to(device)\n",
    "            prev_frames = prev_frames.to(device)\n",
    "            t = torch.randint(0, NUM_TIMESTEPS, (images.shape[0],), device=device).long()\n",
    "\n",
    "            with torch.cuda.amp.autocast(enabled=use_fp16):\n",
    "                x_noisy, noise = forward_diffusion_sample(images, t, betas, device)\n",
    "                predicted_noise = model(x_noisy, t, actions, prev_frames)\n",
    "                loss = F.mse_loss(noise, predicted_noise)\n",
    "                loss = loss / accumulation_steps\n",
    "\n",
    "            scaler.scale(loss).backward()\n",
    "\n",
    "            if (step + 1) % accumulation_steps == 0:\n",
    "                scaler.step(optimizer)\n",
    "                scaler.update()\n",
    "                optimizer.zero_grad()\n",
    "\n",
    "            epoch_losses.append(loss.item() * accumulation_steps)\n",
    "            pbar.set_postfix({\"Loss\": loss.item() * accumulation_steps})\n",
    "        if optimizer.param_groups[0]['params'][0].grad is not None: #Ensure optimizer had a step\n",
    "             scaler.step(optimizer)\n",
    "             scaler.update()\n",
    "             optimizer.zero_grad()\n",
    "\n",
    "        avg_epoch_loss = sum(epoch_losses) / len(epoch_losses)\n",
    "        all_losses.append(avg_epoch_loss)\n",
    "\n",
    "        if (epoch + 1) % save_every == 0:\n",
    "            torch.save({\n",
    "                'epoch': epoch + 1,\n",
    "                'model_state_dict': model.state_dict(),\n",
    "                'optimizer_state_dict': optimizer.state_dict(),\n",
    "                'loss': avg_epoch_loss,\n",
    "            }, os.path.join(checkpoint_dir, f\"model_epoch_{epoch+1}.pth\"))  # Save to checkpoint dir\n",
    "            print(f\"Saved model checkpoint at epoch {epoch+1}\")\n",
    "\n",
    "        if (epoch + 1) % sample_every == 0:\n",
    "            model.eval()\n",
    "            with torch.no_grad():\n",
    "                # 1. Randomly sample a frame and its history from the dataset\n",
    "                random_idx = torch.randint(0, len(dataset), (1,)).item()\n",
    "                real_current_frame, action, real_prev_frames = dataset[random_idx]\n",
    "                real_current_frame = real_current_frame.unsqueeze(0).to(device) # (C, H, W) -> (1, C, H, W)\n",
    "                real_prev_frames = real_prev_frames.unsqueeze(0).to(device)  # (N*C, H, W) -> (1, N*C, H, W)\n",
    "                action = action.to(device)\n",
    "\n",
    "                # 2. Noise the current frame\n",
    "                t_sample = torch.tensor([NUM_TIMESTEPS - 1], device=device, dtype=torch.long)\n",
    "                x_noisy, _ = forward_diffusion_sample(real_current_frame, t_sample, betas, device)\n",
    "                x = x_noisy\n",
    "\n",
    "                # 3. Denoise (sample)\n",
    "                for i in reversed(range(1, NUM_TIMESTEPS)):\n",
    "                    t = (torch.ones(1) * i).long().to(device)\n",
    "                    with torch.cuda.amp.autocast(enabled=use_fp16):\n",
    "                        predicted_noise = model(x, t, action, real_prev_frames)\n",
    "\n",
    "                    alpha = alphas[t][:, None, None, None]\n",
    "                    alpha_hat = alphas_cumprod[t][:, None, None, None]\n",
    "                    beta = betas[t][:, None, None, None]\n",
    "\n",
    "                    if i > 1:\n",
    "                        noise = torch.randn_like(x)\n",
    "                    else:\n",
    "                        noise = torch.zeros_like(x)\n",
    "                    x = 1 / torch.sqrt(alpha) * (x - ((1 - alpha) / (torch.sqrt(1 - alpha_hat))) * predicted_noise) + torch.sqrt(beta) * noise\n",
    "                predicted_next_frame = (x.clamp(-1, 1) + 1) / 2  # Un-normalize: [-1, 1] -> [0, 1]\n",
    "                predicted_next_frame = (predicted_next_frame * 255).type(torch.uint8) # [0, 1] -> [0, 255]\n",
    "\n",
    "                # 4. Prepare for visualization\n",
    "                #    - Convert prev_frames to a list of PIL Images\n",
    "                prev_images = []\n",
    "                for i in range(num_prev_frames):\n",
    "                    frame = real_prev_frames[0, (i * 3):(i + 1) * 3, :, :]  # Extract each frame (C, H, W)\n",
    "                    frame = (frame.clamp(-1, 1) + 1) / 2 # Unnormalize\n",
    "                    frame = (frame * 255).type(torch.uint8) # To uint8\n",
    "                    prev_images.append(transforms.ToPILImage()(frame))\n",
    "\n",
    "                #    - Convert current_frame to PIL Image\n",
    "                current_image = (real_current_frame[0].clamp(-1, 1) + 1) / 2  # Un-normalize: [-1, 1] -> [0, 1]\n",
    "                current_image = (current_image * 255).type(torch.uint8)       # [0, 1] -> [0, 255]\n",
    "                current_image = transforms.ToPILImage()(current_image).convert(\"RGB\")\n",
    "                #    - Convert predicted_next_frame to PIL Images\n",
    "                predicted_image = transforms.ToPILImage()(predicted_next_frame[0])\n",
    "\n",
    "                # 5. Create visualization (side-by-side)\n",
    "                total_width = (num_prev_frames + 2) * IMAGE_SIZE\n",
    "                max_height = IMAGE_SIZE\n",
    "                new_im = Image.new('RGB', (total_width, max_height))\n",
    "\n",
    "                x_offset = 0\n",
    "                for image in prev_images:\n",
    "                    new_im.paste(image, (x_offset,0))\n",
    "                    x_offset += IMAGE_SIZE\n",
    "                new_im.paste(current_image, (x_offset, 0))\n",
    "                x_offset += IMAGE_SIZE\n",
    "                new_im.paste(predicted_image, (x_offset, 0))\n",
    "\n",
    "\n",
    "                # 6. Save the combined image\n",
    "                new_im.save(os.path.join(sample_dir, f\"sample_epoch_{epoch+1}.png\"))\n",
    "                print(f\"Saved sample image at epoch {epoch+1}\")\n",
    "            model.train()\n",
    "\n",
    "        if (epoch + 1) % plot_every == 0:\n",
    "            elapsed_time = time.time() - start_time\n",
    "            formatted_time = str(datetime.timedelta(seconds=elapsed_time))\n",
    "\n",
    "            fig, axes = plt.subplots(1, 2, figsize=(16, 5))\n",
    "\n",
    "            axes[0].plot(all_losses)\n",
    "            axes[0].set_xlabel(\"Epoch\")\n",
    "            axes[0].set_ylabel(\"Loss\")\n",
    "            axes[0].set_title(f\"Training Loss from Start (Time: {formatted_time})\")\n",
    "            axes[0].grid(True)\n",
    "\n",
    "            axes[1].plot(range(last_plot_epoch + 1, epoch + 2), all_losses[last_plot_epoch:])\n",
    "            axes[1].set_xlabel(\"Epoch\")\n",
    "            axes[1].set_ylabel(\"Loss\")\n",
    "            axes[1].set_title(f\"Loss Since Last Plot (Epoch {last_plot_epoch + 1})\")\n",
    "            axes[1].grid(True)\n",
    "\n",
    "            plt.tight_layout()\n",
    "            plt.savefig(os.path.join(plot_dir, f\"loss_plot_epoch_{epoch+1}.png\"))  # Save to plot dir\n",
    "            plt.close()\n",
    "            print(f\"Epoch {epoch+1}: Loss = {avg_epoch_loss:.4f}, Time = {formatted_time}\")\n",
    "\n",
    "            last_plot_epoch = epoch\n",
    "\n",
    "\n",
    "    end_time = time.time()\n",
    "    total_time = end_time - start_time\n",
    "    formatted_time = str(datetime.timedelta(seconds=total_time))\n",
    "    print(f\"Total training time: {formatted_time}\")\n",
    "\n",
    "    return all_losses"
   ]
  },
  {
   "cell_type": "code",
   "execution_count": 20,
   "id": "56f7c308-a7f8-4ac4-a572-7d16ee1e3351",
   "metadata": {},
   "outputs": [],
   "source": [
    "# --- Configuration ---\n",
    "DATA_DIR = 'jetbot_data'\n",
    "IMAGE_DIR = os.path.join(DATA_DIR, 'images')\n",
    "CSV_PATH = os.path.join(DATA_DIR, 'data.csv')\n",
    "IMAGE_SIZE = 224\n",
    "BATCH_SIZE = 4\n",
    "LEARNING_RATE = 1e-4\n",
    "NUM_EPOCHS = 6000\n",
    "NUM_TIMESTEPS = 1000\n",
    "BETA_START = 1e-4\n",
    "BETA_END = 0.02\n",
    "DEVICE = \"cuda\" if torch.cuda.is_available() else \"cpu\"\n",
    "SAVE_MODEL_EVERY = 1000\n",
    "SAMPLE_EVERY = 100\n",
    "OUTPUT_DIR = 'output_action_conditioned_224_4prevframes'\n",
    "CHECKPOINT_DIR = os.path.join(OUTPUT_DIR, 'checkpoints')  # Checkpoint directory\n",
    "SAMPLE_DIR = os.path.join(OUTPUT_DIR, 'samples')        # Sample image directory\n",
    "PLOT_DIR = os.path.join(OUTPUT_DIR, 'plots')          # Loss plot directory\n",
    "LOAD_CHECKPOINT = None\n",
    "START_EPOCH = 0\n",
    "PLOT_EVERY = 100\n",
    "USE_FP16 = True\n",
    "ACCUMULATION_STEPS = 4\n",
    "NUM_PREV_FRAMES = 4\n",
    "\n",
    "# --- Create Directories ---\n",
    "os.makedirs(OUTPUT_DIR, exist_ok=True)\n",
    "os.makedirs(CHECKPOINT_DIR, exist_ok=True)\n",
    "os.makedirs(SAMPLE_DIR, exist_ok=True)\n",
    "os.makedirs(PLOT_DIR, exist_ok=True)\n"
   ]
  },
  {
   "cell_type": "code",
   "execution_count": null,
   "id": "356d5ca4-d8af-471b-afce-8023111e6f15",
   "metadata": {
    "scrolled": true
   },
   "outputs": [
    {
     "data": {
      "application/vnd.jupyter.widget-view+json": {
       "model_id": "3616068de6854394ad9d643a9a3ca3f4",
       "version_major": 2,
       "version_minor": 0
      },
      "text/plain": [
       "Epoch 1/6000:   0%|          | 0/32 [00:00<?, ?it/s]"
      ]
     },
     "metadata": {},
     "output_type": "display_data"
    },
    {
     "data": {
      "application/vnd.jupyter.widget-view+json": {
       "model_id": "0d91e3e206354989ab3f1b0bd290eb6e",
       "version_major": 2,
       "version_minor": 0
      },
      "text/plain": [
       "Epoch 2/6000:   0%|          | 0/32 [00:00<?, ?it/s]"
      ]
     },
     "metadata": {},
     "output_type": "display_data"
    },
    {
     "data": {
      "application/vnd.jupyter.widget-view+json": {
       "model_id": "ce248927f3854e65a319f09e1a40d6af",
       "version_major": 2,
       "version_minor": 0
      },
      "text/plain": [
       "Epoch 3/6000:   0%|          | 0/32 [00:00<?, ?it/s]"
      ]
     },
     "metadata": {},
     "output_type": "display_data"
    },
    {
     "data": {
      "application/vnd.jupyter.widget-view+json": {
       "model_id": "de28deb8e59c489a924705704467c7c5",
       "version_major": 2,
       "version_minor": 0
      },
      "text/plain": [
       "Epoch 4/6000:   0%|          | 0/32 [00:00<?, ?it/s]"
      ]
     },
     "metadata": {},
     "output_type": "display_data"
    },
    {
     "data": {
      "application/vnd.jupyter.widget-view+json": {
       "model_id": "eda08df378334c089b8cb6714f415c7d",
       "version_major": 2,
       "version_minor": 0
      },
      "text/plain": [
       "Epoch 5/6000:   0%|          | 0/32 [00:00<?, ?it/s]"
      ]
     },
     "metadata": {},
     "output_type": "display_data"
    },
    {
     "data": {
      "application/vnd.jupyter.widget-view+json": {
       "model_id": "ce5553ae13444d8eb9ddf48dc2f1a123",
       "version_major": 2,
       "version_minor": 0
      },
      "text/plain": [
       "Epoch 6/6000:   0%|          | 0/32 [00:00<?, ?it/s]"
      ]
     },
     "metadata": {},
     "output_type": "display_data"
    },
    {
     "data": {
      "application/vnd.jupyter.widget-view+json": {
       "model_id": "1fd3929d63bd4911bfe8cdd0b7866024",
       "version_major": 2,
       "version_minor": 0
      },
      "text/plain": [
       "Epoch 7/6000:   0%|          | 0/32 [00:00<?, ?it/s]"
      ]
     },
     "metadata": {},
     "output_type": "display_data"
    },
    {
     "data": {
      "application/vnd.jupyter.widget-view+json": {
       "model_id": "50c80dc383c94545b4e81c50a0a9f80f",
       "version_major": 2,
       "version_minor": 0
      },
      "text/plain": [
       "Epoch 8/6000:   0%|          | 0/32 [00:00<?, ?it/s]"
      ]
     },
     "metadata": {},
     "output_type": "display_data"
    },
    {
     "data": {
      "application/vnd.jupyter.widget-view+json": {
       "model_id": "5be423fcc7474aefaf71ae41dcf0c1a9",
       "version_major": 2,
       "version_minor": 0
      },
      "text/plain": [
       "Epoch 9/6000:   0%|          | 0/32 [00:00<?, ?it/s]"
      ]
     },
     "metadata": {},
     "output_type": "display_data"
    },
    {
     "data": {
      "application/vnd.jupyter.widget-view+json": {
       "model_id": "130d753848a54e79bff3924023253c90",
       "version_major": 2,
       "version_minor": 0
      },
      "text/plain": [
       "Epoch 10/6000:   0%|          | 0/32 [00:00<?, ?it/s]"
      ]
     },
     "metadata": {},
     "output_type": "display_data"
    },
    {
     "data": {
      "application/vnd.jupyter.widget-view+json": {
       "model_id": "4c349c115f2c45108bf11b734ad6bd80",
       "version_major": 2,
       "version_minor": 0
      },
      "text/plain": [
       "Epoch 11/6000:   0%|          | 0/32 [00:00<?, ?it/s]"
      ]
     },
     "metadata": {},
     "output_type": "display_data"
    },
    {
     "data": {
      "application/vnd.jupyter.widget-view+json": {
       "model_id": "3ca08f4a27f34f688f2d02a4901cd636",
       "version_major": 2,
       "version_minor": 0
      },
      "text/plain": [
       "Epoch 12/6000:   0%|          | 0/32 [00:00<?, ?it/s]"
      ]
     },
     "metadata": {},
     "output_type": "display_data"
    },
    {
     "data": {
      "application/vnd.jupyter.widget-view+json": {
       "model_id": "c30dc01ea10b4614af8b57d88670f41a",
       "version_major": 2,
       "version_minor": 0
      },
      "text/plain": [
       "Epoch 13/6000:   0%|          | 0/32 [00:00<?, ?it/s]"
      ]
     },
     "metadata": {},
     "output_type": "display_data"
    },
    {
     "data": {
      "application/vnd.jupyter.widget-view+json": {
       "model_id": "7791eff7e4084feeaa9240bb7c6a172e",
       "version_major": 2,
       "version_minor": 0
      },
      "text/plain": [
       "Epoch 14/6000:   0%|          | 0/32 [00:00<?, ?it/s]"
      ]
     },
     "metadata": {},
     "output_type": "display_data"
    },
    {
     "data": {
      "application/vnd.jupyter.widget-view+json": {
       "model_id": "37be91ebb88a45ac9779c0b088f0417a",
       "version_major": 2,
       "version_minor": 0
      },
      "text/plain": [
       "Epoch 15/6000:   0%|          | 0/32 [00:00<?, ?it/s]"
      ]
     },
     "metadata": {},
     "output_type": "display_data"
    },
    {
     "data": {
      "application/vnd.jupyter.widget-view+json": {
       "model_id": "60d05406bcc74e5abc5544440a07b61e",
       "version_major": 2,
       "version_minor": 0
      },
      "text/plain": [
       "Epoch 16/6000:   0%|          | 0/32 [00:00<?, ?it/s]"
      ]
     },
     "metadata": {},
     "output_type": "display_data"
    },
    {
     "data": {
      "application/vnd.jupyter.widget-view+json": {
       "model_id": "de5ba078eccd4923b7142a650a6219b5",
       "version_major": 2,
       "version_minor": 0
      },
      "text/plain": [
       "Epoch 17/6000:   0%|          | 0/32 [00:00<?, ?it/s]"
      ]
     },
     "metadata": {},
     "output_type": "display_data"
    },
    {
     "data": {
      "application/vnd.jupyter.widget-view+json": {
       "model_id": "990feb1b66b445d89f27a2105a0fd180",
       "version_major": 2,
       "version_minor": 0
      },
      "text/plain": [
       "Epoch 18/6000:   0%|          | 0/32 [00:00<?, ?it/s]"
      ]
     },
     "metadata": {},
     "output_type": "display_data"
    },
    {
     "data": {
      "application/vnd.jupyter.widget-view+json": {
       "model_id": "7c7e7c0b06d841de94043911c8b25f27",
       "version_major": 2,
       "version_minor": 0
      },
      "text/plain": [
       "Epoch 19/6000:   0%|          | 0/32 [00:00<?, ?it/s]"
      ]
     },
     "metadata": {},
     "output_type": "display_data"
    },
    {
     "data": {
      "application/vnd.jupyter.widget-view+json": {
       "model_id": "ad771859c3384c3f8354a3b2491b2f04",
       "version_major": 2,
       "version_minor": 0
      },
      "text/plain": [
       "Epoch 20/6000:   0%|          | 0/32 [00:00<?, ?it/s]"
      ]
     },
     "metadata": {},
     "output_type": "display_data"
    },
    {
     "data": {
      "application/vnd.jupyter.widget-view+json": {
       "model_id": "05805d94f91d4e278201bf7cea8d8de7",
       "version_major": 2,
       "version_minor": 0
      },
      "text/plain": [
       "Epoch 21/6000:   0%|          | 0/32 [00:00<?, ?it/s]"
      ]
     },
     "metadata": {},
     "output_type": "display_data"
    },
    {
     "data": {
      "application/vnd.jupyter.widget-view+json": {
       "model_id": "92e34475cb59434489c8153b52d876e1",
       "version_major": 2,
       "version_minor": 0
      },
      "text/plain": [
       "Epoch 22/6000:   0%|          | 0/32 [00:00<?, ?it/s]"
      ]
     },
     "metadata": {},
     "output_type": "display_data"
    },
    {
     "data": {
      "application/vnd.jupyter.widget-view+json": {
       "model_id": "bbb7e256639f4859892361557035eeed",
       "version_major": 2,
       "version_minor": 0
      },
      "text/plain": [
       "Epoch 23/6000:   0%|          | 0/32 [00:00<?, ?it/s]"
      ]
     },
     "metadata": {},
     "output_type": "display_data"
    },
    {
     "data": {
      "application/vnd.jupyter.widget-view+json": {
       "model_id": "c9b4acd3a63a4ce5ba51b59a8467abef",
       "version_major": 2,
       "version_minor": 0
      },
      "text/plain": [
       "Epoch 24/6000:   0%|          | 0/32 [00:00<?, ?it/s]"
      ]
     },
     "metadata": {},
     "output_type": "display_data"
    },
    {
     "data": {
      "application/vnd.jupyter.widget-view+json": {
       "model_id": "33dad8d06c6a48c5b2db9e5dbd5e7e89",
       "version_major": 2,
       "version_minor": 0
      },
      "text/plain": [
       "Epoch 25/6000:   0%|          | 0/32 [00:00<?, ?it/s]"
      ]
     },
     "metadata": {},
     "output_type": "display_data"
    },
    {
     "data": {
      "application/vnd.jupyter.widget-view+json": {
       "model_id": "4a31819a2d84489188ca2c8e20ff2fc0",
       "version_major": 2,
       "version_minor": 0
      },
      "text/plain": [
       "Epoch 26/6000:   0%|          | 0/32 [00:00<?, ?it/s]"
      ]
     },
     "metadata": {},
     "output_type": "display_data"
    },
    {
     "data": {
      "application/vnd.jupyter.widget-view+json": {
       "model_id": "6ebb285f100743fe9c5bf710aef2524d",
       "version_major": 2,
       "version_minor": 0
      },
      "text/plain": [
       "Epoch 27/6000:   0%|          | 0/32 [00:00<?, ?it/s]"
      ]
     },
     "metadata": {},
     "output_type": "display_data"
    },
    {
     "data": {
      "application/vnd.jupyter.widget-view+json": {
       "model_id": "f2192b50aedd433ab0bc7a5d0a7de06a",
       "version_major": 2,
       "version_minor": 0
      },
      "text/plain": [
       "Epoch 28/6000:   0%|          | 0/32 [00:00<?, ?it/s]"
      ]
     },
     "metadata": {},
     "output_type": "display_data"
    },
    {
     "data": {
      "application/vnd.jupyter.widget-view+json": {
       "model_id": "0a6b4115a97c43c79c8c1b64d08cab83",
       "version_major": 2,
       "version_minor": 0
      },
      "text/plain": [
       "Epoch 29/6000:   0%|          | 0/32 [00:00<?, ?it/s]"
      ]
     },
     "metadata": {},
     "output_type": "display_data"
    },
    {
     "data": {
      "application/vnd.jupyter.widget-view+json": {
       "model_id": "0f669709af944a769081119c6beab188",
       "version_major": 2,
       "version_minor": 0
      },
      "text/plain": [
       "Epoch 30/6000:   0%|          | 0/32 [00:00<?, ?it/s]"
      ]
     },
     "metadata": {},
     "output_type": "display_data"
    },
    {
     "data": {
      "application/vnd.jupyter.widget-view+json": {
       "model_id": "31f6e79b72a140579b67c0fc10ca39bb",
       "version_major": 2,
       "version_minor": 0
      },
      "text/plain": [
       "Epoch 31/6000:   0%|          | 0/32 [00:00<?, ?it/s]"
      ]
     },
     "metadata": {},
     "output_type": "display_data"
    },
    {
     "data": {
      "application/vnd.jupyter.widget-view+json": {
       "model_id": "55377aa84b57439787f3d901970e50a3",
       "version_major": 2,
       "version_minor": 0
      },
      "text/plain": [
       "Epoch 32/6000:   0%|          | 0/32 [00:00<?, ?it/s]"
      ]
     },
     "metadata": {},
     "output_type": "display_data"
    },
    {
     "data": {
      "application/vnd.jupyter.widget-view+json": {
       "model_id": "def55710dc4244fe80176d9fcec58e2b",
       "version_major": 2,
       "version_minor": 0
      },
      "text/plain": [
       "Epoch 33/6000:   0%|          | 0/32 [00:00<?, ?it/s]"
      ]
     },
     "metadata": {},
     "output_type": "display_data"
    },
    {
     "data": {
      "application/vnd.jupyter.widget-view+json": {
       "model_id": "b6cc7db12887401ca39fcd5b2a32c0e5",
       "version_major": 2,
       "version_minor": 0
      },
      "text/plain": [
       "Epoch 34/6000:   0%|          | 0/32 [00:00<?, ?it/s]"
      ]
     },
     "metadata": {},
     "output_type": "display_data"
    },
    {
     "data": {
      "application/vnd.jupyter.widget-view+json": {
       "model_id": "f1fab3a577c947b5963c8b8e5e586590",
       "version_major": 2,
       "version_minor": 0
      },
      "text/plain": [
       "Epoch 35/6000:   0%|          | 0/32 [00:00<?, ?it/s]"
      ]
     },
     "metadata": {},
     "output_type": "display_data"
    },
    {
     "data": {
      "application/vnd.jupyter.widget-view+json": {
       "model_id": "efdf038c92f64b27916861b182931a7a",
       "version_major": 2,
       "version_minor": 0
      },
      "text/plain": [
       "Epoch 36/6000:   0%|          | 0/32 [00:00<?, ?it/s]"
      ]
     },
     "metadata": {},
     "output_type": "display_data"
    },
    {
     "data": {
      "application/vnd.jupyter.widget-view+json": {
       "model_id": "ee179d6f6c5d48659149d1735509d8ce",
       "version_major": 2,
       "version_minor": 0
      },
      "text/plain": [
       "Epoch 37/6000:   0%|          | 0/32 [00:00<?, ?it/s]"
      ]
     },
     "metadata": {},
     "output_type": "display_data"
    },
    {
     "data": {
      "application/vnd.jupyter.widget-view+json": {
       "model_id": "54c2fdcddaba436599414a25e53ef910",
       "version_major": 2,
       "version_minor": 0
      },
      "text/plain": [
       "Epoch 38/6000:   0%|          | 0/32 [00:00<?, ?it/s]"
      ]
     },
     "metadata": {},
     "output_type": "display_data"
    },
    {
     "data": {
      "application/vnd.jupyter.widget-view+json": {
       "model_id": "ff5e20dd0636413dac37e3a70954d13c",
       "version_major": 2,
       "version_minor": 0
      },
      "text/plain": [
       "Epoch 39/6000:   0%|          | 0/32 [00:00<?, ?it/s]"
      ]
     },
     "metadata": {},
     "output_type": "display_data"
    },
    {
     "data": {
      "application/vnd.jupyter.widget-view+json": {
       "model_id": "a38a13aeda4742adb43dfd7dfc1ddcb1",
       "version_major": 2,
       "version_minor": 0
      },
      "text/plain": [
       "Epoch 40/6000:   0%|          | 0/32 [00:00<?, ?it/s]"
      ]
     },
     "metadata": {},
     "output_type": "display_data"
    },
    {
     "data": {
      "application/vnd.jupyter.widget-view+json": {
       "model_id": "0a4b150dea0945dcb6090c57b45230c1",
       "version_major": 2,
       "version_minor": 0
      },
      "text/plain": [
       "Epoch 41/6000:   0%|          | 0/32 [00:00<?, ?it/s]"
      ]
     },
     "metadata": {},
     "output_type": "display_data"
    },
    {
     "data": {
      "application/vnd.jupyter.widget-view+json": {
       "model_id": "42f0a43096d04cdbace3dcf09bd5d784",
       "version_major": 2,
       "version_minor": 0
      },
      "text/plain": [
       "Epoch 42/6000:   0%|          | 0/32 [00:00<?, ?it/s]"
      ]
     },
     "metadata": {},
     "output_type": "display_data"
    },
    {
     "data": {
      "application/vnd.jupyter.widget-view+json": {
       "model_id": "b720d51f7b7845b99948c5ee9c72377c",
       "version_major": 2,
       "version_minor": 0
      },
      "text/plain": [
       "Epoch 43/6000:   0%|          | 0/32 [00:00<?, ?it/s]"
      ]
     },
     "metadata": {},
     "output_type": "display_data"
    },
    {
     "data": {
      "application/vnd.jupyter.widget-view+json": {
       "model_id": "0423783cb7784834a8889b502fa064a4",
       "version_major": 2,
       "version_minor": 0
      },
      "text/plain": [
       "Epoch 44/6000:   0%|          | 0/32 [00:00<?, ?it/s]"
      ]
     },
     "metadata": {},
     "output_type": "display_data"
    },
    {
     "data": {
      "application/vnd.jupyter.widget-view+json": {
       "model_id": "4803fa3bdb11425da5e95bbefa540241",
       "version_major": 2,
       "version_minor": 0
      },
      "text/plain": [
       "Epoch 45/6000:   0%|          | 0/32 [00:00<?, ?it/s]"
      ]
     },
     "metadata": {},
     "output_type": "display_data"
    },
    {
     "data": {
      "application/vnd.jupyter.widget-view+json": {
       "model_id": "eddd9b42fb77425b91f75da169c025bc",
       "version_major": 2,
       "version_minor": 0
      },
      "text/plain": [
       "Epoch 46/6000:   0%|          | 0/32 [00:00<?, ?it/s]"
      ]
     },
     "metadata": {},
     "output_type": "display_data"
    },
    {
     "data": {
      "application/vnd.jupyter.widget-view+json": {
       "model_id": "f0e3ab370be24b3a85f6f21899fba1c2",
       "version_major": 2,
       "version_minor": 0
      },
      "text/plain": [
       "Epoch 47/6000:   0%|          | 0/32 [00:00<?, ?it/s]"
      ]
     },
     "metadata": {},
     "output_type": "display_data"
    },
    {
     "data": {
      "application/vnd.jupyter.widget-view+json": {
       "model_id": "150fc051ec144fb39f03c7e2acc6f421",
       "version_major": 2,
       "version_minor": 0
      },
      "text/plain": [
       "Epoch 48/6000:   0%|          | 0/32 [00:00<?, ?it/s]"
      ]
     },
     "metadata": {},
     "output_type": "display_data"
    },
    {
     "data": {
      "application/vnd.jupyter.widget-view+json": {
       "model_id": "965bb1a9d3e1429799705a0cf417adff",
       "version_major": 2,
       "version_minor": 0
      },
      "text/plain": [
       "Epoch 49/6000:   0%|          | 0/32 [00:00<?, ?it/s]"
      ]
     },
     "metadata": {},
     "output_type": "display_data"
    },
    {
     "data": {
      "application/vnd.jupyter.widget-view+json": {
       "model_id": "f5d629c0a007434385909719499e1a4e",
       "version_major": 2,
       "version_minor": 0
      },
      "text/plain": [
       "Epoch 50/6000:   0%|          | 0/32 [00:00<?, ?it/s]"
      ]
     },
     "metadata": {},
     "output_type": "display_data"
    },
    {
     "data": {
      "application/vnd.jupyter.widget-view+json": {
       "model_id": "3c4a9ba8e1fe4ed4ad1f738a68e2d351",
       "version_major": 2,
       "version_minor": 0
      },
      "text/plain": [
       "Epoch 51/6000:   0%|          | 0/32 [00:00<?, ?it/s]"
      ]
     },
     "metadata": {},
     "output_type": "display_data"
    },
    {
     "data": {
      "application/vnd.jupyter.widget-view+json": {
       "model_id": "8bee444500b240979a39c90f1a2912a8",
       "version_major": 2,
       "version_minor": 0
      },
      "text/plain": [
       "Epoch 52/6000:   0%|          | 0/32 [00:00<?, ?it/s]"
      ]
     },
     "metadata": {},
     "output_type": "display_data"
    },
    {
     "data": {
      "application/vnd.jupyter.widget-view+json": {
       "model_id": "99ac5431355f4c5c8b2889980035b2c4",
       "version_major": 2,
       "version_minor": 0
      },
      "text/plain": [
       "Epoch 53/6000:   0%|          | 0/32 [00:00<?, ?it/s]"
      ]
     },
     "metadata": {},
     "output_type": "display_data"
    },
    {
     "data": {
      "application/vnd.jupyter.widget-view+json": {
       "model_id": "daaa8e217e544d05b85c981c8f371fd8",
       "version_major": 2,
       "version_minor": 0
      },
      "text/plain": [
       "Epoch 54/6000:   0%|          | 0/32 [00:00<?, ?it/s]"
      ]
     },
     "metadata": {},
     "output_type": "display_data"
    },
    {
     "data": {
      "application/vnd.jupyter.widget-view+json": {
       "model_id": "3d16c55f794d4e098133e8b8224de693",
       "version_major": 2,
       "version_minor": 0
      },
      "text/plain": [
       "Epoch 55/6000:   0%|          | 0/32 [00:00<?, ?it/s]"
      ]
     },
     "metadata": {},
     "output_type": "display_data"
    },
    {
     "data": {
      "application/vnd.jupyter.widget-view+json": {
       "model_id": "604b5b915ef2458c8c5377f67641ac9b",
       "version_major": 2,
       "version_minor": 0
      },
      "text/plain": [
       "Epoch 56/6000:   0%|          | 0/32 [00:00<?, ?it/s]"
      ]
     },
     "metadata": {},
     "output_type": "display_data"
    },
    {
     "data": {
      "application/vnd.jupyter.widget-view+json": {
       "model_id": "bb97ccfa5473476ba8c94e8443db9169",
       "version_major": 2,
       "version_minor": 0
      },
      "text/plain": [
       "Epoch 57/6000:   0%|          | 0/32 [00:00<?, ?it/s]"
      ]
     },
     "metadata": {},
     "output_type": "display_data"
    },
    {
     "data": {
      "application/vnd.jupyter.widget-view+json": {
       "model_id": "a73c7886ef624fe6b45ba70d6e768cd8",
       "version_major": 2,
       "version_minor": 0
      },
      "text/plain": [
       "Epoch 58/6000:   0%|          | 0/32 [00:00<?, ?it/s]"
      ]
     },
     "metadata": {},
     "output_type": "display_data"
    },
    {
     "data": {
      "application/vnd.jupyter.widget-view+json": {
       "model_id": "348eee75f8624277a3193128106748ee",
       "version_major": 2,
       "version_minor": 0
      },
      "text/plain": [
       "Epoch 59/6000:   0%|          | 0/32 [00:00<?, ?it/s]"
      ]
     },
     "metadata": {},
     "output_type": "display_data"
    },
    {
     "data": {
      "application/vnd.jupyter.widget-view+json": {
       "model_id": "0c4231cd507c4fa6ac52516e4e2fc113",
       "version_major": 2,
       "version_minor": 0
      },
      "text/plain": [
       "Epoch 60/6000:   0%|          | 0/32 [00:00<?, ?it/s]"
      ]
     },
     "metadata": {},
     "output_type": "display_data"
    },
    {
     "data": {
      "application/vnd.jupyter.widget-view+json": {
       "model_id": "ba9cdbd6f0fe4b58b763af12e762dc46",
       "version_major": 2,
       "version_minor": 0
      },
      "text/plain": [
       "Epoch 61/6000:   0%|          | 0/32 [00:00<?, ?it/s]"
      ]
     },
     "metadata": {},
     "output_type": "display_data"
    },
    {
     "data": {
      "application/vnd.jupyter.widget-view+json": {
       "model_id": "007fce3048324cc7992824646bc83645",
       "version_major": 2,
       "version_minor": 0
      },
      "text/plain": [
       "Epoch 62/6000:   0%|          | 0/32 [00:00<?, ?it/s]"
      ]
     },
     "metadata": {},
     "output_type": "display_data"
    },
    {
     "data": {
      "application/vnd.jupyter.widget-view+json": {
       "model_id": "9c439f0c706d4c2cb86644ac8a2644b6",
       "version_major": 2,
       "version_minor": 0
      },
      "text/plain": [
       "Epoch 63/6000:   0%|          | 0/32 [00:00<?, ?it/s]"
      ]
     },
     "metadata": {},
     "output_type": "display_data"
    },
    {
     "data": {
      "application/vnd.jupyter.widget-view+json": {
       "model_id": "35e6373931454924804c184221a12b61",
       "version_major": 2,
       "version_minor": 0
      },
      "text/plain": [
       "Epoch 64/6000:   0%|          | 0/32 [00:00<?, ?it/s]"
      ]
     },
     "metadata": {},
     "output_type": "display_data"
    },
    {
     "data": {
      "application/vnd.jupyter.widget-view+json": {
       "model_id": "a0f7177f523e401c849ef4b018f81cd2",
       "version_major": 2,
       "version_minor": 0
      },
      "text/plain": [
       "Epoch 65/6000:   0%|          | 0/32 [00:00<?, ?it/s]"
      ]
     },
     "metadata": {},
     "output_type": "display_data"
    },
    {
     "data": {
      "application/vnd.jupyter.widget-view+json": {
       "model_id": "1a404368ce614841a4f1ac25076c5ef9",
       "version_major": 2,
       "version_minor": 0
      },
      "text/plain": [
       "Epoch 66/6000:   0%|          | 0/32 [00:00<?, ?it/s]"
      ]
     },
     "metadata": {},
     "output_type": "display_data"
    },
    {
     "data": {
      "application/vnd.jupyter.widget-view+json": {
       "model_id": "ce2915e32f8e4384b31ee48518f32afd",
       "version_major": 2,
       "version_minor": 0
      },
      "text/plain": [
       "Epoch 67/6000:   0%|          | 0/32 [00:00<?, ?it/s]"
      ]
     },
     "metadata": {},
     "output_type": "display_data"
    },
    {
     "data": {
      "application/vnd.jupyter.widget-view+json": {
       "model_id": "10a41c2ccaee465d8bca208d4210eef1",
       "version_major": 2,
       "version_minor": 0
      },
      "text/plain": [
       "Epoch 68/6000:   0%|          | 0/32 [00:00<?, ?it/s]"
      ]
     },
     "metadata": {},
     "output_type": "display_data"
    },
    {
     "data": {
      "application/vnd.jupyter.widget-view+json": {
       "model_id": "e6ed1e1ea9844aebbfc42d7abddba382",
       "version_major": 2,
       "version_minor": 0
      },
      "text/plain": [
       "Epoch 69/6000:   0%|          | 0/32 [00:00<?, ?it/s]"
      ]
     },
     "metadata": {},
     "output_type": "display_data"
    },
    {
     "data": {
      "application/vnd.jupyter.widget-view+json": {
       "model_id": "60ca294fa3e647dfa6ca85e69469b65c",
       "version_major": 2,
       "version_minor": 0
      },
      "text/plain": [
       "Epoch 70/6000:   0%|          | 0/32 [00:00<?, ?it/s]"
      ]
     },
     "metadata": {},
     "output_type": "display_data"
    },
    {
     "data": {
      "application/vnd.jupyter.widget-view+json": {
       "model_id": "be5fec2a9a474d00a313246098cf0006",
       "version_major": 2,
       "version_minor": 0
      },
      "text/plain": [
       "Epoch 71/6000:   0%|          | 0/32 [00:00<?, ?it/s]"
      ]
     },
     "metadata": {},
     "output_type": "display_data"
    },
    {
     "data": {
      "application/vnd.jupyter.widget-view+json": {
       "model_id": "d9a84aafe56b4c858a4b57a8ac420379",
       "version_major": 2,
       "version_minor": 0
      },
      "text/plain": [
       "Epoch 72/6000:   0%|          | 0/32 [00:00<?, ?it/s]"
      ]
     },
     "metadata": {},
     "output_type": "display_data"
    },
    {
     "data": {
      "application/vnd.jupyter.widget-view+json": {
       "model_id": "eaacdc2541d44c13bae452310e8b6e10",
       "version_major": 2,
       "version_minor": 0
      },
      "text/plain": [
       "Epoch 73/6000:   0%|          | 0/32 [00:00<?, ?it/s]"
      ]
     },
     "metadata": {},
     "output_type": "display_data"
    },
    {
     "data": {
      "application/vnd.jupyter.widget-view+json": {
       "model_id": "a08acadb49764aa8ac82e82c93ac5f0c",
       "version_major": 2,
       "version_minor": 0
      },
      "text/plain": [
       "Epoch 74/6000:   0%|          | 0/32 [00:00<?, ?it/s]"
      ]
     },
     "metadata": {},
     "output_type": "display_data"
    },
    {
     "data": {
      "application/vnd.jupyter.widget-view+json": {
       "model_id": "2c6a9cdecf254a389abc09f49d3a6dbd",
       "version_major": 2,
       "version_minor": 0
      },
      "text/plain": [
       "Epoch 75/6000:   0%|          | 0/32 [00:00<?, ?it/s]"
      ]
     },
     "metadata": {},
     "output_type": "display_data"
    },
    {
     "data": {
      "application/vnd.jupyter.widget-view+json": {
       "model_id": "e7967b1c2bb046679387cc0c0cfc5f64",
       "version_major": 2,
       "version_minor": 0
      },
      "text/plain": [
       "Epoch 76/6000:   0%|          | 0/32 [00:00<?, ?it/s]"
      ]
     },
     "metadata": {},
     "output_type": "display_data"
    },
    {
     "data": {
      "application/vnd.jupyter.widget-view+json": {
       "model_id": "c729c909ed6046ad95f3b244fced9969",
       "version_major": 2,
       "version_minor": 0
      },
      "text/plain": [
       "Epoch 77/6000:   0%|          | 0/32 [00:00<?, ?it/s]"
      ]
     },
     "metadata": {},
     "output_type": "display_data"
    },
    {
     "data": {
      "application/vnd.jupyter.widget-view+json": {
       "model_id": "96ce9cd2b1f3414b8e8711b19463736b",
       "version_major": 2,
       "version_minor": 0
      },
      "text/plain": [
       "Epoch 78/6000:   0%|          | 0/32 [00:00<?, ?it/s]"
      ]
     },
     "metadata": {},
     "output_type": "display_data"
    },
    {
     "data": {
      "application/vnd.jupyter.widget-view+json": {
       "model_id": "abd06b478fb04157b412fc2b5c8afbf1",
       "version_major": 2,
       "version_minor": 0
      },
      "text/plain": [
       "Epoch 79/6000:   0%|          | 0/32 [00:00<?, ?it/s]"
      ]
     },
     "metadata": {},
     "output_type": "display_data"
    },
    {
     "data": {
      "application/vnd.jupyter.widget-view+json": {
       "model_id": "2e11e9cd359f44eda7769c4bb516998c",
       "version_major": 2,
       "version_minor": 0
      },
      "text/plain": [
       "Epoch 80/6000:   0%|          | 0/32 [00:00<?, ?it/s]"
      ]
     },
     "metadata": {},
     "output_type": "display_data"
    },
    {
     "data": {
      "application/vnd.jupyter.widget-view+json": {
       "model_id": "01a6ab44566b43d1b2c2b12c34266f70",
       "version_major": 2,
       "version_minor": 0
      },
      "text/plain": [
       "Epoch 81/6000:   0%|          | 0/32 [00:00<?, ?it/s]"
      ]
     },
     "metadata": {},
     "output_type": "display_data"
    },
    {
     "data": {
      "application/vnd.jupyter.widget-view+json": {
       "model_id": "fed287a3338a411fabdf005bef95802e",
       "version_major": 2,
       "version_minor": 0
      },
      "text/plain": [
       "Epoch 82/6000:   0%|          | 0/32 [00:00<?, ?it/s]"
      ]
     },
     "metadata": {},
     "output_type": "display_data"
    },
    {
     "data": {
      "application/vnd.jupyter.widget-view+json": {
       "model_id": "fb2f95c9df074740881dd22e6494394f",
       "version_major": 2,
       "version_minor": 0
      },
      "text/plain": [
       "Epoch 83/6000:   0%|          | 0/32 [00:00<?, ?it/s]"
      ]
     },
     "metadata": {},
     "output_type": "display_data"
    },
    {
     "data": {
      "application/vnd.jupyter.widget-view+json": {
       "model_id": "7b4da7b407ea481db028baa81769b805",
       "version_major": 2,
       "version_minor": 0
      },
      "text/plain": [
       "Epoch 84/6000:   0%|          | 0/32 [00:00<?, ?it/s]"
      ]
     },
     "metadata": {},
     "output_type": "display_data"
    },
    {
     "data": {
      "application/vnd.jupyter.widget-view+json": {
       "model_id": "5073a9fcf95c4b9d84e3409387adef9c",
       "version_major": 2,
       "version_minor": 0
      },
      "text/plain": [
       "Epoch 85/6000:   0%|          | 0/32 [00:00<?, ?it/s]"
      ]
     },
     "metadata": {},
     "output_type": "display_data"
    },
    {
     "data": {
      "application/vnd.jupyter.widget-view+json": {
       "model_id": "1da3c918fde544ecacb802a7f21642af",
       "version_major": 2,
       "version_minor": 0
      },
      "text/plain": [
       "Epoch 86/6000:   0%|          | 0/32 [00:00<?, ?it/s]"
      ]
     },
     "metadata": {},
     "output_type": "display_data"
    },
    {
     "data": {
      "application/vnd.jupyter.widget-view+json": {
       "model_id": "8b25f2bf30734fef847bfcc8802b218a",
       "version_major": 2,
       "version_minor": 0
      },
      "text/plain": [
       "Epoch 87/6000:   0%|          | 0/32 [00:00<?, ?it/s]"
      ]
     },
     "metadata": {},
     "output_type": "display_data"
    },
    {
     "data": {
      "application/vnd.jupyter.widget-view+json": {
       "model_id": "b7032a00024a44ef8b984fe12c0516fa",
       "version_major": 2,
       "version_minor": 0
      },
      "text/plain": [
       "Epoch 88/6000:   0%|          | 0/32 [00:00<?, ?it/s]"
      ]
     },
     "metadata": {},
     "output_type": "display_data"
    },
    {
     "data": {
      "application/vnd.jupyter.widget-view+json": {
       "model_id": "53087b2ea4a54205a5728c7a000ffd8b",
       "version_major": 2,
       "version_minor": 0
      },
      "text/plain": [
       "Epoch 89/6000:   0%|          | 0/32 [00:00<?, ?it/s]"
      ]
     },
     "metadata": {},
     "output_type": "display_data"
    },
    {
     "data": {
      "application/vnd.jupyter.widget-view+json": {
       "model_id": "ea0b50cec2f84b228725466613646798",
       "version_major": 2,
       "version_minor": 0
      },
      "text/plain": [
       "Epoch 90/6000:   0%|          | 0/32 [00:00<?, ?it/s]"
      ]
     },
     "metadata": {},
     "output_type": "display_data"
    },
    {
     "data": {
      "application/vnd.jupyter.widget-view+json": {
       "model_id": "f134c020edc948238c9f3bb65b69cc26",
       "version_major": 2,
       "version_minor": 0
      },
      "text/plain": [
       "Epoch 91/6000:   0%|          | 0/32 [00:00<?, ?it/s]"
      ]
     },
     "metadata": {},
     "output_type": "display_data"
    },
    {
     "data": {
      "application/vnd.jupyter.widget-view+json": {
       "model_id": "3340c7db413946f6a3e8625596c675cf",
       "version_major": 2,
       "version_minor": 0
      },
      "text/plain": [
       "Epoch 92/6000:   0%|          | 0/32 [00:00<?, ?it/s]"
      ]
     },
     "metadata": {},
     "output_type": "display_data"
    },
    {
     "data": {
      "application/vnd.jupyter.widget-view+json": {
       "model_id": "78a2ff328ac24424a7d94f73668410c6",
       "version_major": 2,
       "version_minor": 0
      },
      "text/plain": [
       "Epoch 93/6000:   0%|          | 0/32 [00:00<?, ?it/s]"
      ]
     },
     "metadata": {},
     "output_type": "display_data"
    },
    {
     "data": {
      "application/vnd.jupyter.widget-view+json": {
       "model_id": "eac922c29f1447c7b09eede6fe3ca9f5",
       "version_major": 2,
       "version_minor": 0
      },
      "text/plain": [
       "Epoch 94/6000:   0%|          | 0/32 [00:00<?, ?it/s]"
      ]
     },
     "metadata": {},
     "output_type": "display_data"
    },
    {
     "data": {
      "application/vnd.jupyter.widget-view+json": {
       "model_id": "cee9579d94d84e40b0c70b8a9486dee9",
       "version_major": 2,
       "version_minor": 0
      },
      "text/plain": [
       "Epoch 95/6000:   0%|          | 0/32 [00:00<?, ?it/s]"
      ]
     },
     "metadata": {},
     "output_type": "display_data"
    },
    {
     "data": {
      "application/vnd.jupyter.widget-view+json": {
       "model_id": "cb532159482b4692bdb6b1e2356deb9c",
       "version_major": 2,
       "version_minor": 0
      },
      "text/plain": [
       "Epoch 96/6000:   0%|          | 0/32 [00:00<?, ?it/s]"
      ]
     },
     "metadata": {},
     "output_type": "display_data"
    },
    {
     "data": {
      "application/vnd.jupyter.widget-view+json": {
       "model_id": "e91b8905f0ee4877b2408bfc79be729d",
       "version_major": 2,
       "version_minor": 0
      },
      "text/plain": [
       "Epoch 97/6000:   0%|          | 0/32 [00:00<?, ?it/s]"
      ]
     },
     "metadata": {},
     "output_type": "display_data"
    },
    {
     "data": {
      "application/vnd.jupyter.widget-view+json": {
       "model_id": "a410d6ad944343daba59d7a9ac553377",
       "version_major": 2,
       "version_minor": 0
      },
      "text/plain": [
       "Epoch 98/6000:   0%|          | 0/32 [00:00<?, ?it/s]"
      ]
     },
     "metadata": {},
     "output_type": "display_data"
    },
    {
     "data": {
      "application/vnd.jupyter.widget-view+json": {
       "model_id": "83e9d0d2e73d40b598c3f0e4db23bebd",
       "version_major": 2,
       "version_minor": 0
      },
      "text/plain": [
       "Epoch 99/6000:   0%|          | 0/32 [00:00<?, ?it/s]"
      ]
     },
     "metadata": {},
     "output_type": "display_data"
    },
    {
     "data": {
      "application/vnd.jupyter.widget-view+json": {
       "model_id": "e94f58818c884adbbbbb000c41c32a31",
       "version_major": 2,
       "version_minor": 0
      },
      "text/plain": [
       "Epoch 100/6000:   0%|          | 0/32 [00:00<?, ?it/s]"
      ]
     },
     "metadata": {},
     "output_type": "display_data"
    },
    {
     "name": "stdout",
     "output_type": "stream",
     "text": [
      "Saved sample image at epoch 100\n",
      "Epoch 100: Loss = 0.0431, Time = 0:03:32.987892\n"
     ]
    },
    {
     "data": {
      "application/vnd.jupyter.widget-view+json": {
       "model_id": "9c4a30f22e814be6be9305f3aced6ca9",
       "version_major": 2,
       "version_minor": 0
      },
      "text/plain": [
       "Epoch 101/6000:   0%|          | 0/32 [00:00<?, ?it/s]"
      ]
     },
     "metadata": {},
     "output_type": "display_data"
    },
    {
     "data": {
      "application/vnd.jupyter.widget-view+json": {
       "model_id": "f8f2fa22a0bc4f9ab2e25a325d3844c0",
       "version_major": 2,
       "version_minor": 0
      },
      "text/plain": [
       "Epoch 102/6000:   0%|          | 0/32 [00:00<?, ?it/s]"
      ]
     },
     "metadata": {},
     "output_type": "display_data"
    },
    {
     "data": {
      "application/vnd.jupyter.widget-view+json": {
       "model_id": "dd07856a78664358bc88c88879e23d29",
       "version_major": 2,
       "version_minor": 0
      },
      "text/plain": [
       "Epoch 103/6000:   0%|          | 0/32 [00:00<?, ?it/s]"
      ]
     },
     "metadata": {},
     "output_type": "display_data"
    },
    {
     "data": {
      "application/vnd.jupyter.widget-view+json": {
       "model_id": "e2417a6282334084b85d1ce0f44ba6e9",
       "version_major": 2,
       "version_minor": 0
      },
      "text/plain": [
       "Epoch 104/6000:   0%|          | 0/32 [00:00<?, ?it/s]"
      ]
     },
     "metadata": {},
     "output_type": "display_data"
    },
    {
     "data": {
      "application/vnd.jupyter.widget-view+json": {
       "model_id": "fac1b5bfac2745f0bea691bf6edb42d2",
       "version_major": 2,
       "version_minor": 0
      },
      "text/plain": [
       "Epoch 105/6000:   0%|          | 0/32 [00:00<?, ?it/s]"
      ]
     },
     "metadata": {},
     "output_type": "display_data"
    },
    {
     "data": {
      "application/vnd.jupyter.widget-view+json": {
       "model_id": "7c68541f46914375bc0519607802bf9d",
       "version_major": 2,
       "version_minor": 0
      },
      "text/plain": [
       "Epoch 106/6000:   0%|          | 0/32 [00:00<?, ?it/s]"
      ]
     },
     "metadata": {},
     "output_type": "display_data"
    },
    {
     "data": {
      "application/vnd.jupyter.widget-view+json": {
       "model_id": "c0acea58eb674a069055222444360f70",
       "version_major": 2,
       "version_minor": 0
      },
      "text/plain": [
       "Epoch 107/6000:   0%|          | 0/32 [00:00<?, ?it/s]"
      ]
     },
     "metadata": {},
     "output_type": "display_data"
    },
    {
     "data": {
      "application/vnd.jupyter.widget-view+json": {
       "model_id": "d52d4b560f4748639f205a675a019068",
       "version_major": 2,
       "version_minor": 0
      },
      "text/plain": [
       "Epoch 108/6000:   0%|          | 0/32 [00:00<?, ?it/s]"
      ]
     },
     "metadata": {},
     "output_type": "display_data"
    },
    {
     "data": {
      "application/vnd.jupyter.widget-view+json": {
       "model_id": "599f50f744b54569a6036cb34bee524c",
       "version_major": 2,
       "version_minor": 0
      },
      "text/plain": [
       "Epoch 109/6000:   0%|          | 0/32 [00:00<?, ?it/s]"
      ]
     },
     "metadata": {},
     "output_type": "display_data"
    },
    {
     "data": {
      "application/vnd.jupyter.widget-view+json": {
       "model_id": "9325fa64ba144a2eb42c9762376e8949",
       "version_major": 2,
       "version_minor": 0
      },
      "text/plain": [
       "Epoch 110/6000:   0%|          | 0/32 [00:00<?, ?it/s]"
      ]
     },
     "metadata": {},
     "output_type": "display_data"
    },
    {
     "data": {
      "application/vnd.jupyter.widget-view+json": {
       "model_id": "20fe7daae68646758a02b6bf382f114d",
       "version_major": 2,
       "version_minor": 0
      },
      "text/plain": [
       "Epoch 111/6000:   0%|          | 0/32 [00:00<?, ?it/s]"
      ]
     },
     "metadata": {},
     "output_type": "display_data"
    },
    {
     "data": {
      "application/vnd.jupyter.widget-view+json": {
       "model_id": "09a6a0990e134a2e9ea6146700243b19",
       "version_major": 2,
       "version_minor": 0
      },
      "text/plain": [
       "Epoch 112/6000:   0%|          | 0/32 [00:00<?, ?it/s]"
      ]
     },
     "metadata": {},
     "output_type": "display_data"
    },
    {
     "data": {
      "application/vnd.jupyter.widget-view+json": {
       "model_id": "40de2afc01ca4318b1810bd011214a88",
       "version_major": 2,
       "version_minor": 0
      },
      "text/plain": [
       "Epoch 113/6000:   0%|          | 0/32 [00:00<?, ?it/s]"
      ]
     },
     "metadata": {},
     "output_type": "display_data"
    },
    {
     "data": {
      "application/vnd.jupyter.widget-view+json": {
       "model_id": "d16d4b95f94c4834b4b135aee0f02a62",
       "version_major": 2,
       "version_minor": 0
      },
      "text/plain": [
       "Epoch 114/6000:   0%|          | 0/32 [00:00<?, ?it/s]"
      ]
     },
     "metadata": {},
     "output_type": "display_data"
    },
    {
     "data": {
      "application/vnd.jupyter.widget-view+json": {
       "model_id": "c0fb9998b419437aa0e1d70afe1548be",
       "version_major": 2,
       "version_minor": 0
      },
      "text/plain": [
       "Epoch 115/6000:   0%|          | 0/32 [00:00<?, ?it/s]"
      ]
     },
     "metadata": {},
     "output_type": "display_data"
    },
    {
     "data": {
      "application/vnd.jupyter.widget-view+json": {
       "model_id": "3e8c0d8df3df44ccb5e3ee0ba004b0ac",
       "version_major": 2,
       "version_minor": 0
      },
      "text/plain": [
       "Epoch 116/6000:   0%|          | 0/32 [00:00<?, ?it/s]"
      ]
     },
     "metadata": {},
     "output_type": "display_data"
    },
    {
     "data": {
      "application/vnd.jupyter.widget-view+json": {
       "model_id": "fd6de172017e4b978ada9981c235f9bf",
       "version_major": 2,
       "version_minor": 0
      },
      "text/plain": [
       "Epoch 117/6000:   0%|          | 0/32 [00:00<?, ?it/s]"
      ]
     },
     "metadata": {},
     "output_type": "display_data"
    },
    {
     "data": {
      "application/vnd.jupyter.widget-view+json": {
       "model_id": "c786358c919d4e7a8bfd5bfd5de96320",
       "version_major": 2,
       "version_minor": 0
      },
      "text/plain": [
       "Epoch 118/6000:   0%|          | 0/32 [00:00<?, ?it/s]"
      ]
     },
     "metadata": {},
     "output_type": "display_data"
    },
    {
     "data": {
      "application/vnd.jupyter.widget-view+json": {
       "model_id": "596892d5922743559106c0101e3dd543",
       "version_major": 2,
       "version_minor": 0
      },
      "text/plain": [
       "Epoch 119/6000:   0%|          | 0/32 [00:00<?, ?it/s]"
      ]
     },
     "metadata": {},
     "output_type": "display_data"
    },
    {
     "data": {
      "application/vnd.jupyter.widget-view+json": {
       "model_id": "4065ee02069945b38531811e95d30085",
       "version_major": 2,
       "version_minor": 0
      },
      "text/plain": [
       "Epoch 120/6000:   0%|          | 0/32 [00:00<?, ?it/s]"
      ]
     },
     "metadata": {},
     "output_type": "display_data"
    },
    {
     "data": {
      "application/vnd.jupyter.widget-view+json": {
       "model_id": "91a311aa343e4d2dbf06e76afa1d824a",
       "version_major": 2,
       "version_minor": 0
      },
      "text/plain": [
       "Epoch 121/6000:   0%|          | 0/32 [00:00<?, ?it/s]"
      ]
     },
     "metadata": {},
     "output_type": "display_data"
    },
    {
     "data": {
      "application/vnd.jupyter.widget-view+json": {
       "model_id": "7bfb35cb050842ee8677464a99c6bce7",
       "version_major": 2,
       "version_minor": 0
      },
      "text/plain": [
       "Epoch 122/6000:   0%|          | 0/32 [00:00<?, ?it/s]"
      ]
     },
     "metadata": {},
     "output_type": "display_data"
    },
    {
     "data": {
      "application/vnd.jupyter.widget-view+json": {
       "model_id": "502230958f5b40e49d9b6476e064facc",
       "version_major": 2,
       "version_minor": 0
      },
      "text/plain": [
       "Epoch 123/6000:   0%|          | 0/32 [00:00<?, ?it/s]"
      ]
     },
     "metadata": {},
     "output_type": "display_data"
    },
    {
     "data": {
      "application/vnd.jupyter.widget-view+json": {
       "model_id": "160686822f86458fa84b36c02ec774cd",
       "version_major": 2,
       "version_minor": 0
      },
      "text/plain": [
       "Epoch 124/6000:   0%|          | 0/32 [00:00<?, ?it/s]"
      ]
     },
     "metadata": {},
     "output_type": "display_data"
    },
    {
     "data": {
      "application/vnd.jupyter.widget-view+json": {
       "model_id": "474612e10278419ea459efd42856dfa3",
       "version_major": 2,
       "version_minor": 0
      },
      "text/plain": [
       "Epoch 125/6000:   0%|          | 0/32 [00:00<?, ?it/s]"
      ]
     },
     "metadata": {},
     "output_type": "display_data"
    },
    {
     "data": {
      "application/vnd.jupyter.widget-view+json": {
       "model_id": "7c72782304bf44889c5d3f29239bd1b8",
       "version_major": 2,
       "version_minor": 0
      },
      "text/plain": [
       "Epoch 126/6000:   0%|          | 0/32 [00:00<?, ?it/s]"
      ]
     },
     "metadata": {},
     "output_type": "display_data"
    },
    {
     "data": {
      "application/vnd.jupyter.widget-view+json": {
       "model_id": "be264e89a5864689b63ba852cfc98459",
       "version_major": 2,
       "version_minor": 0
      },
      "text/plain": [
       "Epoch 127/6000:   0%|          | 0/32 [00:00<?, ?it/s]"
      ]
     },
     "metadata": {},
     "output_type": "display_data"
    },
    {
     "data": {
      "application/vnd.jupyter.widget-view+json": {
       "model_id": "44ac7a49f2ef4054836e41b98611ed72",
       "version_major": 2,
       "version_minor": 0
      },
      "text/plain": [
       "Epoch 128/6000:   0%|          | 0/32 [00:00<?, ?it/s]"
      ]
     },
     "metadata": {},
     "output_type": "display_data"
    },
    {
     "data": {
      "application/vnd.jupyter.widget-view+json": {
       "model_id": "9d61c161843949b3acc730c6468977cf",
       "version_major": 2,
       "version_minor": 0
      },
      "text/plain": [
       "Epoch 129/6000:   0%|          | 0/32 [00:00<?, ?it/s]"
      ]
     },
     "metadata": {},
     "output_type": "display_data"
    },
    {
     "data": {
      "application/vnd.jupyter.widget-view+json": {
       "model_id": "b9168f833faa4313aad1068d9e5508b0",
       "version_major": 2,
       "version_minor": 0
      },
      "text/plain": [
       "Epoch 130/6000:   0%|          | 0/32 [00:00<?, ?it/s]"
      ]
     },
     "metadata": {},
     "output_type": "display_data"
    },
    {
     "data": {
      "application/vnd.jupyter.widget-view+json": {
       "model_id": "4f9e94ec3603400e947f4d4b2dc8a232",
       "version_major": 2,
       "version_minor": 0
      },
      "text/plain": [
       "Epoch 131/6000:   0%|          | 0/32 [00:00<?, ?it/s]"
      ]
     },
     "metadata": {},
     "output_type": "display_data"
    },
    {
     "data": {
      "application/vnd.jupyter.widget-view+json": {
       "model_id": "44b69239aad84653a5ba44e6d2a6d552",
       "version_major": 2,
       "version_minor": 0
      },
      "text/plain": [
       "Epoch 132/6000:   0%|          | 0/32 [00:00<?, ?it/s]"
      ]
     },
     "metadata": {},
     "output_type": "display_data"
    },
    {
     "data": {
      "application/vnd.jupyter.widget-view+json": {
       "model_id": "934d41a3c67247239f0a3e1e6f9d4a8d",
       "version_major": 2,
       "version_minor": 0
      },
      "text/plain": [
       "Epoch 133/6000:   0%|          | 0/32 [00:00<?, ?it/s]"
      ]
     },
     "metadata": {},
     "output_type": "display_data"
    },
    {
     "data": {
      "application/vnd.jupyter.widget-view+json": {
       "model_id": "a8c9b32707014f8c988b8968b513334a",
       "version_major": 2,
       "version_minor": 0
      },
      "text/plain": [
       "Epoch 134/6000:   0%|          | 0/32 [00:00<?, ?it/s]"
      ]
     },
     "metadata": {},
     "output_type": "display_data"
    },
    {
     "data": {
      "application/vnd.jupyter.widget-view+json": {
       "model_id": "66fabcd670e344da91abdb7017d6ca47",
       "version_major": 2,
       "version_minor": 0
      },
      "text/plain": [
       "Epoch 135/6000:   0%|          | 0/32 [00:00<?, ?it/s]"
      ]
     },
     "metadata": {},
     "output_type": "display_data"
    },
    {
     "data": {
      "application/vnd.jupyter.widget-view+json": {
       "model_id": "7e6e1a6713834d61ba13d2ff220e7c86",
       "version_major": 2,
       "version_minor": 0
      },
      "text/plain": [
       "Epoch 136/6000:   0%|          | 0/32 [00:00<?, ?it/s]"
      ]
     },
     "metadata": {},
     "output_type": "display_data"
    },
    {
     "data": {
      "application/vnd.jupyter.widget-view+json": {
       "model_id": "04fb0ca0739a43c69a41ee803f10c485",
       "version_major": 2,
       "version_minor": 0
      },
      "text/plain": [
       "Epoch 137/6000:   0%|          | 0/32 [00:00<?, ?it/s]"
      ]
     },
     "metadata": {},
     "output_type": "display_data"
    },
    {
     "data": {
      "application/vnd.jupyter.widget-view+json": {
       "model_id": "d717c3a0574f42fe86df9c320e6b496b",
       "version_major": 2,
       "version_minor": 0
      },
      "text/plain": [
       "Epoch 138/6000:   0%|          | 0/32 [00:00<?, ?it/s]"
      ]
     },
     "metadata": {},
     "output_type": "display_data"
    },
    {
     "data": {
      "application/vnd.jupyter.widget-view+json": {
       "model_id": "295b15eb1f84423bb823d2f86544aaee",
       "version_major": 2,
       "version_minor": 0
      },
      "text/plain": [
       "Epoch 139/6000:   0%|          | 0/32 [00:00<?, ?it/s]"
      ]
     },
     "metadata": {},
     "output_type": "display_data"
    },
    {
     "data": {
      "application/vnd.jupyter.widget-view+json": {
       "model_id": "6761341cec284310869f5d29835a062b",
       "version_major": 2,
       "version_minor": 0
      },
      "text/plain": [
       "Epoch 140/6000:   0%|          | 0/32 [00:00<?, ?it/s]"
      ]
     },
     "metadata": {},
     "output_type": "display_data"
    },
    {
     "data": {
      "application/vnd.jupyter.widget-view+json": {
       "model_id": "b51c16e234024092ae65d5f920fbab5e",
       "version_major": 2,
       "version_minor": 0
      },
      "text/plain": [
       "Epoch 141/6000:   0%|          | 0/32 [00:00<?, ?it/s]"
      ]
     },
     "metadata": {},
     "output_type": "display_data"
    },
    {
     "data": {
      "application/vnd.jupyter.widget-view+json": {
       "model_id": "4c36f4d3593741158545a0e7e3634fc6",
       "version_major": 2,
       "version_minor": 0
      },
      "text/plain": [
       "Epoch 142/6000:   0%|          | 0/32 [00:00<?, ?it/s]"
      ]
     },
     "metadata": {},
     "output_type": "display_data"
    },
    {
     "data": {
      "application/vnd.jupyter.widget-view+json": {
       "model_id": "b97e80daf76348f198a7c9ef8fbfe3f2",
       "version_major": 2,
       "version_minor": 0
      },
      "text/plain": [
       "Epoch 143/6000:   0%|          | 0/32 [00:00<?, ?it/s]"
      ]
     },
     "metadata": {},
     "output_type": "display_data"
    },
    {
     "data": {
      "application/vnd.jupyter.widget-view+json": {
       "model_id": "c1280c04fb884b118af9453bb7c79ba9",
       "version_major": 2,
       "version_minor": 0
      },
      "text/plain": [
       "Epoch 144/6000:   0%|          | 0/32 [00:00<?, ?it/s]"
      ]
     },
     "metadata": {},
     "output_type": "display_data"
    },
    {
     "data": {
      "application/vnd.jupyter.widget-view+json": {
       "model_id": "ef47011488dd40399526fb6faf7735b2",
       "version_major": 2,
       "version_minor": 0
      },
      "text/plain": [
       "Epoch 145/6000:   0%|          | 0/32 [00:00<?, ?it/s]"
      ]
     },
     "metadata": {},
     "output_type": "display_data"
    },
    {
     "data": {
      "application/vnd.jupyter.widget-view+json": {
       "model_id": "da3c29762a9644a68abff8adb08ada8e",
       "version_major": 2,
       "version_minor": 0
      },
      "text/plain": [
       "Epoch 146/6000:   0%|          | 0/32 [00:00<?, ?it/s]"
      ]
     },
     "metadata": {},
     "output_type": "display_data"
    },
    {
     "data": {
      "application/vnd.jupyter.widget-view+json": {
       "model_id": "56b47e55dc794afd862e9bcc469de4e5",
       "version_major": 2,
       "version_minor": 0
      },
      "text/plain": [
       "Epoch 147/6000:   0%|          | 0/32 [00:00<?, ?it/s]"
      ]
     },
     "metadata": {},
     "output_type": "display_data"
    },
    {
     "data": {
      "application/vnd.jupyter.widget-view+json": {
       "model_id": "ec54721535ee4bb5943488b8926992bd",
       "version_major": 2,
       "version_minor": 0
      },
      "text/plain": [
       "Epoch 148/6000:   0%|          | 0/32 [00:00<?, ?it/s]"
      ]
     },
     "metadata": {},
     "output_type": "display_data"
    },
    {
     "data": {
      "application/vnd.jupyter.widget-view+json": {
       "model_id": "05e4cca9b5244c0ca774880511359523",
       "version_major": 2,
       "version_minor": 0
      },
      "text/plain": [
       "Epoch 149/6000:   0%|          | 0/32 [00:00<?, ?it/s]"
      ]
     },
     "metadata": {},
     "output_type": "display_data"
    },
    {
     "data": {
      "application/vnd.jupyter.widget-view+json": {
       "model_id": "499cd989366d49bf980a7ee2a3173290",
       "version_major": 2,
       "version_minor": 0
      },
      "text/plain": [
       "Epoch 150/6000:   0%|          | 0/32 [00:00<?, ?it/s]"
      ]
     },
     "metadata": {},
     "output_type": "display_data"
    },
    {
     "data": {
      "application/vnd.jupyter.widget-view+json": {
       "model_id": "47db7772b96f4072982e66498b1d6c90",
       "version_major": 2,
       "version_minor": 0
      },
      "text/plain": [
       "Epoch 151/6000:   0%|          | 0/32 [00:00<?, ?it/s]"
      ]
     },
     "metadata": {},
     "output_type": "display_data"
    },
    {
     "data": {
      "application/vnd.jupyter.widget-view+json": {
       "model_id": "7ead063d486847048ad5d947cb421ce0",
       "version_major": 2,
       "version_minor": 0
      },
      "text/plain": [
       "Epoch 152/6000:   0%|          | 0/32 [00:00<?, ?it/s]"
      ]
     },
     "metadata": {},
     "output_type": "display_data"
    },
    {
     "data": {
      "application/vnd.jupyter.widget-view+json": {
       "model_id": "2d8fe8ce462740b38cccfda8bc854344",
       "version_major": 2,
       "version_minor": 0
      },
      "text/plain": [
       "Epoch 153/6000:   0%|          | 0/32 [00:00<?, ?it/s]"
      ]
     },
     "metadata": {},
     "output_type": "display_data"
    },
    {
     "data": {
      "application/vnd.jupyter.widget-view+json": {
       "model_id": "05c4b140027142c6bdedc75bca3c761e",
       "version_major": 2,
       "version_minor": 0
      },
      "text/plain": [
       "Epoch 154/6000:   0%|          | 0/32 [00:00<?, ?it/s]"
      ]
     },
     "metadata": {},
     "output_type": "display_data"
    },
    {
     "data": {
      "application/vnd.jupyter.widget-view+json": {
       "model_id": "8c3fba3ae2a1486d96a694238a272b97",
       "version_major": 2,
       "version_minor": 0
      },
      "text/plain": [
       "Epoch 155/6000:   0%|          | 0/32 [00:00<?, ?it/s]"
      ]
     },
     "metadata": {},
     "output_type": "display_data"
    },
    {
     "data": {
      "application/vnd.jupyter.widget-view+json": {
       "model_id": "f83959dfa9b44052ad332fe6740805f9",
       "version_major": 2,
       "version_minor": 0
      },
      "text/plain": [
       "Epoch 156/6000:   0%|          | 0/32 [00:00<?, ?it/s]"
      ]
     },
     "metadata": {},
     "output_type": "display_data"
    },
    {
     "data": {
      "application/vnd.jupyter.widget-view+json": {
       "model_id": "ee0de1ed72fb424294073db3c491b6df",
       "version_major": 2,
       "version_minor": 0
      },
      "text/plain": [
       "Epoch 157/6000:   0%|          | 0/32 [00:00<?, ?it/s]"
      ]
     },
     "metadata": {},
     "output_type": "display_data"
    },
    {
     "data": {
      "application/vnd.jupyter.widget-view+json": {
       "model_id": "e4c3ab980bd14643b526b3c670ca410a",
       "version_major": 2,
       "version_minor": 0
      },
      "text/plain": [
       "Epoch 158/6000:   0%|          | 0/32 [00:00<?, ?it/s]"
      ]
     },
     "metadata": {},
     "output_type": "display_data"
    },
    {
     "data": {
      "application/vnd.jupyter.widget-view+json": {
       "model_id": "3f744dcd23264a30b97d62a74e5e6348",
       "version_major": 2,
       "version_minor": 0
      },
      "text/plain": [
       "Epoch 159/6000:   0%|          | 0/32 [00:00<?, ?it/s]"
      ]
     },
     "metadata": {},
     "output_type": "display_data"
    },
    {
     "data": {
      "application/vnd.jupyter.widget-view+json": {
       "model_id": "243655fa6d124b50a0537afac997ede1",
       "version_major": 2,
       "version_minor": 0
      },
      "text/plain": [
       "Epoch 160/6000:   0%|          | 0/32 [00:00<?, ?it/s]"
      ]
     },
     "metadata": {},
     "output_type": "display_data"
    },
    {
     "data": {
      "application/vnd.jupyter.widget-view+json": {
       "model_id": "a9a5981ed09b45b6ac8da8c917f84fb2",
       "version_major": 2,
       "version_minor": 0
      },
      "text/plain": [
       "Epoch 161/6000:   0%|          | 0/32 [00:00<?, ?it/s]"
      ]
     },
     "metadata": {},
     "output_type": "display_data"
    },
    {
     "data": {
      "application/vnd.jupyter.widget-view+json": {
       "model_id": "e340ff4b754149f5b123cbfd018ce1f4",
       "version_major": 2,
       "version_minor": 0
      },
      "text/plain": [
       "Epoch 162/6000:   0%|          | 0/32 [00:00<?, ?it/s]"
      ]
     },
     "metadata": {},
     "output_type": "display_data"
    },
    {
     "data": {
      "application/vnd.jupyter.widget-view+json": {
       "model_id": "8f910db4b5b144b1a8ece29c5719acec",
       "version_major": 2,
       "version_minor": 0
      },
      "text/plain": [
       "Epoch 163/6000:   0%|          | 0/32 [00:00<?, ?it/s]"
      ]
     },
     "metadata": {},
     "output_type": "display_data"
    },
    {
     "data": {
      "application/vnd.jupyter.widget-view+json": {
       "model_id": "8a50d4539cef4090a88faed44ffd0db8",
       "version_major": 2,
       "version_minor": 0
      },
      "text/plain": [
       "Epoch 164/6000:   0%|          | 0/32 [00:00<?, ?it/s]"
      ]
     },
     "metadata": {},
     "output_type": "display_data"
    },
    {
     "data": {
      "application/vnd.jupyter.widget-view+json": {
       "model_id": "fd5f9be0047e40a9a9399c7313096750",
       "version_major": 2,
       "version_minor": 0
      },
      "text/plain": [
       "Epoch 165/6000:   0%|          | 0/32 [00:00<?, ?it/s]"
      ]
     },
     "metadata": {},
     "output_type": "display_data"
    },
    {
     "data": {
      "application/vnd.jupyter.widget-view+json": {
       "model_id": "dc325a2330e04995aa13733e574299dc",
       "version_major": 2,
       "version_minor": 0
      },
      "text/plain": [
       "Epoch 166/6000:   0%|          | 0/32 [00:00<?, ?it/s]"
      ]
     },
     "metadata": {},
     "output_type": "display_data"
    },
    {
     "data": {
      "application/vnd.jupyter.widget-view+json": {
       "model_id": "9e2e4238d47248158df00fd29270e81b",
       "version_major": 2,
       "version_minor": 0
      },
      "text/plain": [
       "Epoch 167/6000:   0%|          | 0/32 [00:00<?, ?it/s]"
      ]
     },
     "metadata": {},
     "output_type": "display_data"
    },
    {
     "data": {
      "application/vnd.jupyter.widget-view+json": {
       "model_id": "774b41c4207745569dfbabc794ac3399",
       "version_major": 2,
       "version_minor": 0
      },
      "text/plain": [
       "Epoch 168/6000:   0%|          | 0/32 [00:00<?, ?it/s]"
      ]
     },
     "metadata": {},
     "output_type": "display_data"
    },
    {
     "data": {
      "application/vnd.jupyter.widget-view+json": {
       "model_id": "884ce1ae1bae43b4a44d437c528cb407",
       "version_major": 2,
       "version_minor": 0
      },
      "text/plain": [
       "Epoch 169/6000:   0%|          | 0/32 [00:00<?, ?it/s]"
      ]
     },
     "metadata": {},
     "output_type": "display_data"
    },
    {
     "data": {
      "application/vnd.jupyter.widget-view+json": {
       "model_id": "52d59bc30f43472fa143b74ebe5afa84",
       "version_major": 2,
       "version_minor": 0
      },
      "text/plain": [
       "Epoch 170/6000:   0%|          | 0/32 [00:00<?, ?it/s]"
      ]
     },
     "metadata": {},
     "output_type": "display_data"
    },
    {
     "data": {
      "application/vnd.jupyter.widget-view+json": {
       "model_id": "d6487b2e99ae49ebbb1c1dcb66b678a7",
       "version_major": 2,
       "version_minor": 0
      },
      "text/plain": [
       "Epoch 171/6000:   0%|          | 0/32 [00:00<?, ?it/s]"
      ]
     },
     "metadata": {},
     "output_type": "display_data"
    },
    {
     "data": {
      "application/vnd.jupyter.widget-view+json": {
       "model_id": "2d2cfd357ff54bf29f8364c9fc03d80a",
       "version_major": 2,
       "version_minor": 0
      },
      "text/plain": [
       "Epoch 172/6000:   0%|          | 0/32 [00:00<?, ?it/s]"
      ]
     },
     "metadata": {},
     "output_type": "display_data"
    },
    {
     "data": {
      "application/vnd.jupyter.widget-view+json": {
       "model_id": "7dee20dac325482ca421199ce7ef6fd3",
       "version_major": 2,
       "version_minor": 0
      },
      "text/plain": [
       "Epoch 173/6000:   0%|          | 0/32 [00:00<?, ?it/s]"
      ]
     },
     "metadata": {},
     "output_type": "display_data"
    },
    {
     "data": {
      "application/vnd.jupyter.widget-view+json": {
       "model_id": "39da5e4fd8a44994af99d690dad9e8ff",
       "version_major": 2,
       "version_minor": 0
      },
      "text/plain": [
       "Epoch 174/6000:   0%|          | 0/32 [00:00<?, ?it/s]"
      ]
     },
     "metadata": {},
     "output_type": "display_data"
    },
    {
     "data": {
      "application/vnd.jupyter.widget-view+json": {
       "model_id": "bcc79d417fc44d929af75533be67c979",
       "version_major": 2,
       "version_minor": 0
      },
      "text/plain": [
       "Epoch 175/6000:   0%|          | 0/32 [00:00<?, ?it/s]"
      ]
     },
     "metadata": {},
     "output_type": "display_data"
    },
    {
     "data": {
      "application/vnd.jupyter.widget-view+json": {
       "model_id": "a74b6820439a4d37bde05a50757fdba5",
       "version_major": 2,
       "version_minor": 0
      },
      "text/plain": [
       "Epoch 176/6000:   0%|          | 0/32 [00:00<?, ?it/s]"
      ]
     },
     "metadata": {},
     "output_type": "display_data"
    },
    {
     "data": {
      "application/vnd.jupyter.widget-view+json": {
       "model_id": "c1f25d1a429e4f7b8c9cac27bdb8318d",
       "version_major": 2,
       "version_minor": 0
      },
      "text/plain": [
       "Epoch 177/6000:   0%|          | 0/32 [00:00<?, ?it/s]"
      ]
     },
     "metadata": {},
     "output_type": "display_data"
    },
    {
     "data": {
      "application/vnd.jupyter.widget-view+json": {
       "model_id": "4a3248c15791486a80476742cee48d59",
       "version_major": 2,
       "version_minor": 0
      },
      "text/plain": [
       "Epoch 178/6000:   0%|          | 0/32 [00:00<?, ?it/s]"
      ]
     },
     "metadata": {},
     "output_type": "display_data"
    },
    {
     "data": {
      "application/vnd.jupyter.widget-view+json": {
       "model_id": "7dfcb762411e44ada781d1f9f27f6f32",
       "version_major": 2,
       "version_minor": 0
      },
      "text/plain": [
       "Epoch 179/6000:   0%|          | 0/32 [00:00<?, ?it/s]"
      ]
     },
     "metadata": {},
     "output_type": "display_data"
    },
    {
     "data": {
      "application/vnd.jupyter.widget-view+json": {
       "model_id": "98747a36a087474a8e241781d43ee242",
       "version_major": 2,
       "version_minor": 0
      },
      "text/plain": [
       "Epoch 180/6000:   0%|          | 0/32 [00:00<?, ?it/s]"
      ]
     },
     "metadata": {},
     "output_type": "display_data"
    },
    {
     "data": {
      "application/vnd.jupyter.widget-view+json": {
       "model_id": "b1536f0ae31c4e3a99e374662f6fd1d4",
       "version_major": 2,
       "version_minor": 0
      },
      "text/plain": [
       "Epoch 181/6000:   0%|          | 0/32 [00:00<?, ?it/s]"
      ]
     },
     "metadata": {},
     "output_type": "display_data"
    },
    {
     "data": {
      "application/vnd.jupyter.widget-view+json": {
       "model_id": "8475c33e52794efd893fdb9bded2c3df",
       "version_major": 2,
       "version_minor": 0
      },
      "text/plain": [
       "Epoch 182/6000:   0%|          | 0/32 [00:00<?, ?it/s]"
      ]
     },
     "metadata": {},
     "output_type": "display_data"
    },
    {
     "data": {
      "application/vnd.jupyter.widget-view+json": {
       "model_id": "bc532b70fd084e31bf9a65b5e335c64f",
       "version_major": 2,
       "version_minor": 0
      },
      "text/plain": [
       "Epoch 183/6000:   0%|          | 0/32 [00:00<?, ?it/s]"
      ]
     },
     "metadata": {},
     "output_type": "display_data"
    },
    {
     "data": {
      "application/vnd.jupyter.widget-view+json": {
       "model_id": "9c77c5031d1343bf8d1a10b55a9d6d9c",
       "version_major": 2,
       "version_minor": 0
      },
      "text/plain": [
       "Epoch 184/6000:   0%|          | 0/32 [00:00<?, ?it/s]"
      ]
     },
     "metadata": {},
     "output_type": "display_data"
    },
    {
     "data": {
      "application/vnd.jupyter.widget-view+json": {
       "model_id": "799559fb49f843cba54e7fadebdf6bc8",
       "version_major": 2,
       "version_minor": 0
      },
      "text/plain": [
       "Epoch 185/6000:   0%|          | 0/32 [00:00<?, ?it/s]"
      ]
     },
     "metadata": {},
     "output_type": "display_data"
    },
    {
     "data": {
      "application/vnd.jupyter.widget-view+json": {
       "model_id": "40f5e8e1da54461596edb9ac93490261",
       "version_major": 2,
       "version_minor": 0
      },
      "text/plain": [
       "Epoch 186/6000:   0%|          | 0/32 [00:00<?, ?it/s]"
      ]
     },
     "metadata": {},
     "output_type": "display_data"
    },
    {
     "data": {
      "application/vnd.jupyter.widget-view+json": {
       "model_id": "5b400bbc61ef422e9ce6b753ffd06e52",
       "version_major": 2,
       "version_minor": 0
      },
      "text/plain": [
       "Epoch 187/6000:   0%|          | 0/32 [00:00<?, ?it/s]"
      ]
     },
     "metadata": {},
     "output_type": "display_data"
    },
    {
     "data": {
      "application/vnd.jupyter.widget-view+json": {
       "model_id": "0bc9aca9e1de4018b31bcbe9366a6f9f",
       "version_major": 2,
       "version_minor": 0
      },
      "text/plain": [
       "Epoch 188/6000:   0%|          | 0/32 [00:00<?, ?it/s]"
      ]
     },
     "metadata": {},
     "output_type": "display_data"
    },
    {
     "data": {
      "application/vnd.jupyter.widget-view+json": {
       "model_id": "bdc976bab4334447b4e3ac021efc1a98",
       "version_major": 2,
       "version_minor": 0
      },
      "text/plain": [
       "Epoch 189/6000:   0%|          | 0/32 [00:00<?, ?it/s]"
      ]
     },
     "metadata": {},
     "output_type": "display_data"
    },
    {
     "data": {
      "application/vnd.jupyter.widget-view+json": {
       "model_id": "11f7ed20d8ea466dafb4c3c5d7b878a7",
       "version_major": 2,
       "version_minor": 0
      },
      "text/plain": [
       "Epoch 190/6000:   0%|          | 0/32 [00:00<?, ?it/s]"
      ]
     },
     "metadata": {},
     "output_type": "display_data"
    },
    {
     "data": {
      "application/vnd.jupyter.widget-view+json": {
       "model_id": "fc4051be02464a40976fcb999c86adfe",
       "version_major": 2,
       "version_minor": 0
      },
      "text/plain": [
       "Epoch 191/6000:   0%|          | 0/32 [00:00<?, ?it/s]"
      ]
     },
     "metadata": {},
     "output_type": "display_data"
    },
    {
     "data": {
      "application/vnd.jupyter.widget-view+json": {
       "model_id": "2da821de4db44f33b8384fe1ee7f1cce",
       "version_major": 2,
       "version_minor": 0
      },
      "text/plain": [
       "Epoch 192/6000:   0%|          | 0/32 [00:00<?, ?it/s]"
      ]
     },
     "metadata": {},
     "output_type": "display_data"
    },
    {
     "data": {
      "application/vnd.jupyter.widget-view+json": {
       "model_id": "92bf7b01c63748c4a9abb7e133e5aea6",
       "version_major": 2,
       "version_minor": 0
      },
      "text/plain": [
       "Epoch 193/6000:   0%|          | 0/32 [00:00<?, ?it/s]"
      ]
     },
     "metadata": {},
     "output_type": "display_data"
    },
    {
     "data": {
      "application/vnd.jupyter.widget-view+json": {
       "model_id": "8a931beb0fe04e7db1dfd03647188157",
       "version_major": 2,
       "version_minor": 0
      },
      "text/plain": [
       "Epoch 194/6000:   0%|          | 0/32 [00:00<?, ?it/s]"
      ]
     },
     "metadata": {},
     "output_type": "display_data"
    },
    {
     "data": {
      "application/vnd.jupyter.widget-view+json": {
       "model_id": "c099ef28930648b3a526b5c1a6bd00f8",
       "version_major": 2,
       "version_minor": 0
      },
      "text/plain": [
       "Epoch 195/6000:   0%|          | 0/32 [00:00<?, ?it/s]"
      ]
     },
     "metadata": {},
     "output_type": "display_data"
    },
    {
     "data": {
      "application/vnd.jupyter.widget-view+json": {
       "model_id": "2749ece919fc429695d6074f111b55fe",
       "version_major": 2,
       "version_minor": 0
      },
      "text/plain": [
       "Epoch 196/6000:   0%|          | 0/32 [00:00<?, ?it/s]"
      ]
     },
     "metadata": {},
     "output_type": "display_data"
    },
    {
     "data": {
      "application/vnd.jupyter.widget-view+json": {
       "model_id": "317e87c80aeb44a08790521422e26183",
       "version_major": 2,
       "version_minor": 0
      },
      "text/plain": [
       "Epoch 197/6000:   0%|          | 0/32 [00:00<?, ?it/s]"
      ]
     },
     "metadata": {},
     "output_type": "display_data"
    },
    {
     "data": {
      "application/vnd.jupyter.widget-view+json": {
       "model_id": "f7ac0d5be1824df7b3c55047b4a0bbdb",
       "version_major": 2,
       "version_minor": 0
      },
      "text/plain": [
       "Epoch 198/6000:   0%|          | 0/32 [00:00<?, ?it/s]"
      ]
     },
     "metadata": {},
     "output_type": "display_data"
    },
    {
     "data": {
      "application/vnd.jupyter.widget-view+json": {
       "model_id": "ce2c46ab42114a52a1bbebb1ebaf202e",
       "version_major": 2,
       "version_minor": 0
      },
      "text/plain": [
       "Epoch 199/6000:   0%|          | 0/32 [00:00<?, ?it/s]"
      ]
     },
     "metadata": {},
     "output_type": "display_data"
    },
    {
     "data": {
      "application/vnd.jupyter.widget-view+json": {
       "model_id": "772a8af6a71b4a06b3d1b19bd79c6c39",
       "version_major": 2,
       "version_minor": 0
      },
      "text/plain": [
       "Epoch 200/6000:   0%|          | 0/32 [00:00<?, ?it/s]"
      ]
     },
     "metadata": {},
     "output_type": "display_data"
    },
    {
     "name": "stdout",
     "output_type": "stream",
     "text": [
      "Saved sample image at epoch 200\n",
      "Epoch 200: Loss = 0.0400, Time = 0:07:06.094416\n"
     ]
    },
    {
     "data": {
      "application/vnd.jupyter.widget-view+json": {
       "model_id": "7b342f84a72d4ebaa12dc141b9a3e86f",
       "version_major": 2,
       "version_minor": 0
      },
      "text/plain": [
       "Epoch 201/6000:   0%|          | 0/32 [00:00<?, ?it/s]"
      ]
     },
     "metadata": {},
     "output_type": "display_data"
    },
    {
     "data": {
      "application/vnd.jupyter.widget-view+json": {
       "model_id": "69eba2a3cac043268f7eb9b6cad8c214",
       "version_major": 2,
       "version_minor": 0
      },
      "text/plain": [
       "Epoch 202/6000:   0%|          | 0/32 [00:00<?, ?it/s]"
      ]
     },
     "metadata": {},
     "output_type": "display_data"
    },
    {
     "data": {
      "application/vnd.jupyter.widget-view+json": {
       "model_id": "9d3be97ec7f445fe9e613b0b4a2ae514",
       "version_major": 2,
       "version_minor": 0
      },
      "text/plain": [
       "Epoch 203/6000:   0%|          | 0/32 [00:00<?, ?it/s]"
      ]
     },
     "metadata": {},
     "output_type": "display_data"
    },
    {
     "data": {
      "application/vnd.jupyter.widget-view+json": {
       "model_id": "6c5fbb99543b44e8a038d11226cfbc71",
       "version_major": 2,
       "version_minor": 0
      },
      "text/plain": [
       "Epoch 204/6000:   0%|          | 0/32 [00:00<?, ?it/s]"
      ]
     },
     "metadata": {},
     "output_type": "display_data"
    },
    {
     "data": {
      "application/vnd.jupyter.widget-view+json": {
       "model_id": "4d0d22addece49bd9085fe450c6d7122",
       "version_major": 2,
       "version_minor": 0
      },
      "text/plain": [
       "Epoch 205/6000:   0%|          | 0/32 [00:00<?, ?it/s]"
      ]
     },
     "metadata": {},
     "output_type": "display_data"
    },
    {
     "data": {
      "application/vnd.jupyter.widget-view+json": {
       "model_id": "c6a569d4a3a7419c88d471db72e10307",
       "version_major": 2,
       "version_minor": 0
      },
      "text/plain": [
       "Epoch 206/6000:   0%|          | 0/32 [00:00<?, ?it/s]"
      ]
     },
     "metadata": {},
     "output_type": "display_data"
    },
    {
     "data": {
      "application/vnd.jupyter.widget-view+json": {
       "model_id": "56731f6adfb04a97810ee311f549fa5b",
       "version_major": 2,
       "version_minor": 0
      },
      "text/plain": [
       "Epoch 207/6000:   0%|          | 0/32 [00:00<?, ?it/s]"
      ]
     },
     "metadata": {},
     "output_type": "display_data"
    },
    {
     "data": {
      "application/vnd.jupyter.widget-view+json": {
       "model_id": "d1aee17b314d45189d7945d2a83f88b3",
       "version_major": 2,
       "version_minor": 0
      },
      "text/plain": [
       "Epoch 208/6000:   0%|          | 0/32 [00:00<?, ?it/s]"
      ]
     },
     "metadata": {},
     "output_type": "display_data"
    },
    {
     "data": {
      "application/vnd.jupyter.widget-view+json": {
       "model_id": "98d63f6a7dc0490782f6095fb94f1c2a",
       "version_major": 2,
       "version_minor": 0
      },
      "text/plain": [
       "Epoch 209/6000:   0%|          | 0/32 [00:00<?, ?it/s]"
      ]
     },
     "metadata": {},
     "output_type": "display_data"
    },
    {
     "data": {
      "application/vnd.jupyter.widget-view+json": {
       "model_id": "c02d7fbfa9cb4cb18646097c6e4be4f2",
       "version_major": 2,
       "version_minor": 0
      },
      "text/plain": [
       "Epoch 210/6000:   0%|          | 0/32 [00:00<?, ?it/s]"
      ]
     },
     "metadata": {},
     "output_type": "display_data"
    },
    {
     "data": {
      "application/vnd.jupyter.widget-view+json": {
       "model_id": "98554fca594c4fa593534f100bdb9ba5",
       "version_major": 2,
       "version_minor": 0
      },
      "text/plain": [
       "Epoch 211/6000:   0%|          | 0/32 [00:00<?, ?it/s]"
      ]
     },
     "metadata": {},
     "output_type": "display_data"
    },
    {
     "data": {
      "application/vnd.jupyter.widget-view+json": {
       "model_id": "19f92f3d9d394df99b4e1309823997c5",
       "version_major": 2,
       "version_minor": 0
      },
      "text/plain": [
       "Epoch 212/6000:   0%|          | 0/32 [00:00<?, ?it/s]"
      ]
     },
     "metadata": {},
     "output_type": "display_data"
    },
    {
     "data": {
      "application/vnd.jupyter.widget-view+json": {
       "model_id": "216752c093ce48639101bc66e62242ea",
       "version_major": 2,
       "version_minor": 0
      },
      "text/plain": [
       "Epoch 213/6000:   0%|          | 0/32 [00:00<?, ?it/s]"
      ]
     },
     "metadata": {},
     "output_type": "display_data"
    },
    {
     "data": {
      "application/vnd.jupyter.widget-view+json": {
       "model_id": "83d411c20e7843c7813695f4c6e4bfb8",
       "version_major": 2,
       "version_minor": 0
      },
      "text/plain": [
       "Epoch 214/6000:   0%|          | 0/32 [00:00<?, ?it/s]"
      ]
     },
     "metadata": {},
     "output_type": "display_data"
    },
    {
     "data": {
      "application/vnd.jupyter.widget-view+json": {
       "model_id": "388e9d207bca431eaf51c8b79f7f3b80",
       "version_major": 2,
       "version_minor": 0
      },
      "text/plain": [
       "Epoch 215/6000:   0%|          | 0/32 [00:00<?, ?it/s]"
      ]
     },
     "metadata": {},
     "output_type": "display_data"
    },
    {
     "data": {
      "application/vnd.jupyter.widget-view+json": {
       "model_id": "39d847251db84155a7381757f528241b",
       "version_major": 2,
       "version_minor": 0
      },
      "text/plain": [
       "Epoch 216/6000:   0%|          | 0/32 [00:00<?, ?it/s]"
      ]
     },
     "metadata": {},
     "output_type": "display_data"
    },
    {
     "data": {
      "application/vnd.jupyter.widget-view+json": {
       "model_id": "b2600f2843e64d95b8af8f7732f6c714",
       "version_major": 2,
       "version_minor": 0
      },
      "text/plain": [
       "Epoch 217/6000:   0%|          | 0/32 [00:00<?, ?it/s]"
      ]
     },
     "metadata": {},
     "output_type": "display_data"
    },
    {
     "data": {
      "application/vnd.jupyter.widget-view+json": {
       "model_id": "378ff0850d494b69adf463d84fb2c87e",
       "version_major": 2,
       "version_minor": 0
      },
      "text/plain": [
       "Epoch 218/6000:   0%|          | 0/32 [00:00<?, ?it/s]"
      ]
     },
     "metadata": {},
     "output_type": "display_data"
    },
    {
     "data": {
      "application/vnd.jupyter.widget-view+json": {
       "model_id": "6a77648f79ac42bc9323c0dfef84413c",
       "version_major": 2,
       "version_minor": 0
      },
      "text/plain": [
       "Epoch 219/6000:   0%|          | 0/32 [00:00<?, ?it/s]"
      ]
     },
     "metadata": {},
     "output_type": "display_data"
    },
    {
     "data": {
      "application/vnd.jupyter.widget-view+json": {
       "model_id": "3a06bbd4a17243faa0cf4d47d6613714",
       "version_major": 2,
       "version_minor": 0
      },
      "text/plain": [
       "Epoch 220/6000:   0%|          | 0/32 [00:00<?, ?it/s]"
      ]
     },
     "metadata": {},
     "output_type": "display_data"
    },
    {
     "data": {
      "application/vnd.jupyter.widget-view+json": {
       "model_id": "22ab939b79634e8fad53816aad590996",
       "version_major": 2,
       "version_minor": 0
      },
      "text/plain": [
       "Epoch 221/6000:   0%|          | 0/32 [00:00<?, ?it/s]"
      ]
     },
     "metadata": {},
     "output_type": "display_data"
    },
    {
     "data": {
      "application/vnd.jupyter.widget-view+json": {
       "model_id": "dd490527d40c4ecaa62cfdcdcf6812a7",
       "version_major": 2,
       "version_minor": 0
      },
      "text/plain": [
       "Epoch 222/6000:   0%|          | 0/32 [00:00<?, ?it/s]"
      ]
     },
     "metadata": {},
     "output_type": "display_data"
    },
    {
     "data": {
      "application/vnd.jupyter.widget-view+json": {
       "model_id": "4e0151f39a0a4f829b33434565e1c6fb",
       "version_major": 2,
       "version_minor": 0
      },
      "text/plain": [
       "Epoch 223/6000:   0%|          | 0/32 [00:00<?, ?it/s]"
      ]
     },
     "metadata": {},
     "output_type": "display_data"
    },
    {
     "data": {
      "application/vnd.jupyter.widget-view+json": {
       "model_id": "48bb9b16e4c740a0b9fe2d410b74cc25",
       "version_major": 2,
       "version_minor": 0
      },
      "text/plain": [
       "Epoch 224/6000:   0%|          | 0/32 [00:00<?, ?it/s]"
      ]
     },
     "metadata": {},
     "output_type": "display_data"
    },
    {
     "data": {
      "application/vnd.jupyter.widget-view+json": {
       "model_id": "a4017f8388534ad58aa753bcd85a53f5",
       "version_major": 2,
       "version_minor": 0
      },
      "text/plain": [
       "Epoch 225/6000:   0%|          | 0/32 [00:00<?, ?it/s]"
      ]
     },
     "metadata": {},
     "output_type": "display_data"
    },
    {
     "data": {
      "application/vnd.jupyter.widget-view+json": {
       "model_id": "f29eefcc3f4e47f481d208d1c872651a",
       "version_major": 2,
       "version_minor": 0
      },
      "text/plain": [
       "Epoch 226/6000:   0%|          | 0/32 [00:00<?, ?it/s]"
      ]
     },
     "metadata": {},
     "output_type": "display_data"
    },
    {
     "data": {
      "application/vnd.jupyter.widget-view+json": {
       "model_id": "773c8e6ea4c24252b64a7c92c2cd44a4",
       "version_major": 2,
       "version_minor": 0
      },
      "text/plain": [
       "Epoch 227/6000:   0%|          | 0/32 [00:00<?, ?it/s]"
      ]
     },
     "metadata": {},
     "output_type": "display_data"
    },
    {
     "data": {
      "application/vnd.jupyter.widget-view+json": {
       "model_id": "8309a65330544330b3438d38c23b4ca7",
       "version_major": 2,
       "version_minor": 0
      },
      "text/plain": [
       "Epoch 228/6000:   0%|          | 0/32 [00:00<?, ?it/s]"
      ]
     },
     "metadata": {},
     "output_type": "display_data"
    },
    {
     "data": {
      "application/vnd.jupyter.widget-view+json": {
       "model_id": "a3bbd8bb083f4539bf28630bbd262bd5",
       "version_major": 2,
       "version_minor": 0
      },
      "text/plain": [
       "Epoch 229/6000:   0%|          | 0/32 [00:00<?, ?it/s]"
      ]
     },
     "metadata": {},
     "output_type": "display_data"
    },
    {
     "data": {
      "application/vnd.jupyter.widget-view+json": {
       "model_id": "9e870e1d39604b88a871564219da2fa9",
       "version_major": 2,
       "version_minor": 0
      },
      "text/plain": [
       "Epoch 230/6000:   0%|          | 0/32 [00:00<?, ?it/s]"
      ]
     },
     "metadata": {},
     "output_type": "display_data"
    },
    {
     "data": {
      "application/vnd.jupyter.widget-view+json": {
       "model_id": "6681baff693a4f5a963401823b871e7b",
       "version_major": 2,
       "version_minor": 0
      },
      "text/plain": [
       "Epoch 231/6000:   0%|          | 0/32 [00:00<?, ?it/s]"
      ]
     },
     "metadata": {},
     "output_type": "display_data"
    },
    {
     "data": {
      "application/vnd.jupyter.widget-view+json": {
       "model_id": "5d75ac0a87704f9796e3f8ca6f5e8fa4",
       "version_major": 2,
       "version_minor": 0
      },
      "text/plain": [
       "Epoch 232/6000:   0%|          | 0/32 [00:00<?, ?it/s]"
      ]
     },
     "metadata": {},
     "output_type": "display_data"
    },
    {
     "data": {
      "application/vnd.jupyter.widget-view+json": {
       "model_id": "0b57620d15ef41a1803011a6de717adf",
       "version_major": 2,
       "version_minor": 0
      },
      "text/plain": [
       "Epoch 233/6000:   0%|          | 0/32 [00:00<?, ?it/s]"
      ]
     },
     "metadata": {},
     "output_type": "display_data"
    },
    {
     "data": {
      "application/vnd.jupyter.widget-view+json": {
       "model_id": "de40e21913f447a7b5526e254ed93720",
       "version_major": 2,
       "version_minor": 0
      },
      "text/plain": [
       "Epoch 234/6000:   0%|          | 0/32 [00:00<?, ?it/s]"
      ]
     },
     "metadata": {},
     "output_type": "display_data"
    },
    {
     "data": {
      "application/vnd.jupyter.widget-view+json": {
       "model_id": "04f980d6399c40d3b3c78cd8bd2c5aeb",
       "version_major": 2,
       "version_minor": 0
      },
      "text/plain": [
       "Epoch 235/6000:   0%|          | 0/32 [00:00<?, ?it/s]"
      ]
     },
     "metadata": {},
     "output_type": "display_data"
    },
    {
     "data": {
      "application/vnd.jupyter.widget-view+json": {
       "model_id": "5b80f760af4746b4a422e2ddf7ff642e",
       "version_major": 2,
       "version_minor": 0
      },
      "text/plain": [
       "Epoch 236/6000:   0%|          | 0/32 [00:00<?, ?it/s]"
      ]
     },
     "metadata": {},
     "output_type": "display_data"
    },
    {
     "data": {
      "application/vnd.jupyter.widget-view+json": {
       "model_id": "ee07f51f7d08428693f067e63dd9dfc6",
       "version_major": 2,
       "version_minor": 0
      },
      "text/plain": [
       "Epoch 237/6000:   0%|          | 0/32 [00:00<?, ?it/s]"
      ]
     },
     "metadata": {},
     "output_type": "display_data"
    },
    {
     "data": {
      "application/vnd.jupyter.widget-view+json": {
       "model_id": "b012d004b279444b9dfc253f48a58e5a",
       "version_major": 2,
       "version_minor": 0
      },
      "text/plain": [
       "Epoch 238/6000:   0%|          | 0/32 [00:00<?, ?it/s]"
      ]
     },
     "metadata": {},
     "output_type": "display_data"
    },
    {
     "data": {
      "application/vnd.jupyter.widget-view+json": {
       "model_id": "063676d23c5b4150980ae6c8e785501f",
       "version_major": 2,
       "version_minor": 0
      },
      "text/plain": [
       "Epoch 239/6000:   0%|          | 0/32 [00:00<?, ?it/s]"
      ]
     },
     "metadata": {},
     "output_type": "display_data"
    },
    {
     "data": {
      "application/vnd.jupyter.widget-view+json": {
       "model_id": "e7de69af6f874c06be5ad17ef0d71a5c",
       "version_major": 2,
       "version_minor": 0
      },
      "text/plain": [
       "Epoch 240/6000:   0%|          | 0/32 [00:00<?, ?it/s]"
      ]
     },
     "metadata": {},
     "output_type": "display_data"
    },
    {
     "data": {
      "application/vnd.jupyter.widget-view+json": {
       "model_id": "bde43d5e214a40da804ea9975037c44e",
       "version_major": 2,
       "version_minor": 0
      },
      "text/plain": [
       "Epoch 241/6000:   0%|          | 0/32 [00:00<?, ?it/s]"
      ]
     },
     "metadata": {},
     "output_type": "display_data"
    },
    {
     "data": {
      "application/vnd.jupyter.widget-view+json": {
       "model_id": "f441da8a60f14e2faebc3deb5bfe8e7e",
       "version_major": 2,
       "version_minor": 0
      },
      "text/plain": [
       "Epoch 242/6000:   0%|          | 0/32 [00:00<?, ?it/s]"
      ]
     },
     "metadata": {},
     "output_type": "display_data"
    },
    {
     "data": {
      "application/vnd.jupyter.widget-view+json": {
       "model_id": "db1b5e1ac34b4d2fb5325fd207133d61",
       "version_major": 2,
       "version_minor": 0
      },
      "text/plain": [
       "Epoch 243/6000:   0%|          | 0/32 [00:00<?, ?it/s]"
      ]
     },
     "metadata": {},
     "output_type": "display_data"
    },
    {
     "data": {
      "application/vnd.jupyter.widget-view+json": {
       "model_id": "96d8c6f23c1c47758d830bdb66cf3741",
       "version_major": 2,
       "version_minor": 0
      },
      "text/plain": [
       "Epoch 244/6000:   0%|          | 0/32 [00:00<?, ?it/s]"
      ]
     },
     "metadata": {},
     "output_type": "display_data"
    },
    {
     "data": {
      "application/vnd.jupyter.widget-view+json": {
       "model_id": "8125e2084bb54c7cae89b8b3d7481391",
       "version_major": 2,
       "version_minor": 0
      },
      "text/plain": [
       "Epoch 245/6000:   0%|          | 0/32 [00:00<?, ?it/s]"
      ]
     },
     "metadata": {},
     "output_type": "display_data"
    },
    {
     "data": {
      "application/vnd.jupyter.widget-view+json": {
       "model_id": "4c16b003d5e742c2ac0435b4d8f33f5f",
       "version_major": 2,
       "version_minor": 0
      },
      "text/plain": [
       "Epoch 246/6000:   0%|          | 0/32 [00:00<?, ?it/s]"
      ]
     },
     "metadata": {},
     "output_type": "display_data"
    },
    {
     "data": {
      "application/vnd.jupyter.widget-view+json": {
       "model_id": "f3e251e0d4f147c68b4f8d26da936db4",
       "version_major": 2,
       "version_minor": 0
      },
      "text/plain": [
       "Epoch 247/6000:   0%|          | 0/32 [00:00<?, ?it/s]"
      ]
     },
     "metadata": {},
     "output_type": "display_data"
    },
    {
     "data": {
      "application/vnd.jupyter.widget-view+json": {
       "model_id": "763909c7a2f341339c856d2a99eb67eb",
       "version_major": 2,
       "version_minor": 0
      },
      "text/plain": [
       "Epoch 248/6000:   0%|          | 0/32 [00:00<?, ?it/s]"
      ]
     },
     "metadata": {},
     "output_type": "display_data"
    },
    {
     "data": {
      "application/vnd.jupyter.widget-view+json": {
       "model_id": "780aff4ec8384df8a25a75410ba34ec8",
       "version_major": 2,
       "version_minor": 0
      },
      "text/plain": [
       "Epoch 249/6000:   0%|          | 0/32 [00:00<?, ?it/s]"
      ]
     },
     "metadata": {},
     "output_type": "display_data"
    },
    {
     "data": {
      "application/vnd.jupyter.widget-view+json": {
       "model_id": "b93c57e272034bb698c6da4436f7e3f7",
       "version_major": 2,
       "version_minor": 0
      },
      "text/plain": [
       "Epoch 250/6000:   0%|          | 0/32 [00:00<?, ?it/s]"
      ]
     },
     "metadata": {},
     "output_type": "display_data"
    },
    {
     "data": {
      "application/vnd.jupyter.widget-view+json": {
       "model_id": "7fb05ae2bf6545e78b82794226ce3e22",
       "version_major": 2,
       "version_minor": 0
      },
      "text/plain": [
       "Epoch 251/6000:   0%|          | 0/32 [00:00<?, ?it/s]"
      ]
     },
     "metadata": {},
     "output_type": "display_data"
    },
    {
     "data": {
      "application/vnd.jupyter.widget-view+json": {
       "model_id": "b6936f7dd38443698affb7ccfea7cc44",
       "version_major": 2,
       "version_minor": 0
      },
      "text/plain": [
       "Epoch 252/6000:   0%|          | 0/32 [00:00<?, ?it/s]"
      ]
     },
     "metadata": {},
     "output_type": "display_data"
    },
    {
     "data": {
      "application/vnd.jupyter.widget-view+json": {
       "model_id": "d27e3fb83ba540d693bc07a2d709e60f",
       "version_major": 2,
       "version_minor": 0
      },
      "text/plain": [
       "Epoch 253/6000:   0%|          | 0/32 [00:00<?, ?it/s]"
      ]
     },
     "metadata": {},
     "output_type": "display_data"
    },
    {
     "data": {
      "application/vnd.jupyter.widget-view+json": {
       "model_id": "b86bfd6445bf4698b603193d3847826d",
       "version_major": 2,
       "version_minor": 0
      },
      "text/plain": [
       "Epoch 254/6000:   0%|          | 0/32 [00:00<?, ?it/s]"
      ]
     },
     "metadata": {},
     "output_type": "display_data"
    },
    {
     "data": {
      "application/vnd.jupyter.widget-view+json": {
       "model_id": "585c2b4997be401ead2043570598106b",
       "version_major": 2,
       "version_minor": 0
      },
      "text/plain": [
       "Epoch 255/6000:   0%|          | 0/32 [00:00<?, ?it/s]"
      ]
     },
     "metadata": {},
     "output_type": "display_data"
    },
    {
     "data": {
      "application/vnd.jupyter.widget-view+json": {
       "model_id": "072ee32a1ebc42ff9b1c24ac585af99f",
       "version_major": 2,
       "version_minor": 0
      },
      "text/plain": [
       "Epoch 256/6000:   0%|          | 0/32 [00:00<?, ?it/s]"
      ]
     },
     "metadata": {},
     "output_type": "display_data"
    },
    {
     "data": {
      "application/vnd.jupyter.widget-view+json": {
       "model_id": "029b93822085453e9bb0293ffbe1f50a",
       "version_major": 2,
       "version_minor": 0
      },
      "text/plain": [
       "Epoch 257/6000:   0%|          | 0/32 [00:00<?, ?it/s]"
      ]
     },
     "metadata": {},
     "output_type": "display_data"
    },
    {
     "data": {
      "application/vnd.jupyter.widget-view+json": {
       "model_id": "94d8eb16893b410cbf537fd891edcae9",
       "version_major": 2,
       "version_minor": 0
      },
      "text/plain": [
       "Epoch 258/6000:   0%|          | 0/32 [00:00<?, ?it/s]"
      ]
     },
     "metadata": {},
     "output_type": "display_data"
    },
    {
     "data": {
      "application/vnd.jupyter.widget-view+json": {
       "model_id": "f141251be6ca4cdc86df2b49dd6fa2e9",
       "version_major": 2,
       "version_minor": 0
      },
      "text/plain": [
       "Epoch 259/6000:   0%|          | 0/32 [00:00<?, ?it/s]"
      ]
     },
     "metadata": {},
     "output_type": "display_data"
    },
    {
     "data": {
      "application/vnd.jupyter.widget-view+json": {
       "model_id": "1917d4f82d0e4f12a353c40333f12947",
       "version_major": 2,
       "version_minor": 0
      },
      "text/plain": [
       "Epoch 260/6000:   0%|          | 0/32 [00:00<?, ?it/s]"
      ]
     },
     "metadata": {},
     "output_type": "display_data"
    },
    {
     "data": {
      "application/vnd.jupyter.widget-view+json": {
       "model_id": "ff9f6254e0c94eb1a08404dd389e145a",
       "version_major": 2,
       "version_minor": 0
      },
      "text/plain": [
       "Epoch 261/6000:   0%|          | 0/32 [00:00<?, ?it/s]"
      ]
     },
     "metadata": {},
     "output_type": "display_data"
    },
    {
     "data": {
      "application/vnd.jupyter.widget-view+json": {
       "model_id": "c58b8031391a439ea3a1924be3e3ce27",
       "version_major": 2,
       "version_minor": 0
      },
      "text/plain": [
       "Epoch 262/6000:   0%|          | 0/32 [00:00<?, ?it/s]"
      ]
     },
     "metadata": {},
     "output_type": "display_data"
    },
    {
     "data": {
      "application/vnd.jupyter.widget-view+json": {
       "model_id": "8f5c19ece52e45c18276d7031ace9c78",
       "version_major": 2,
       "version_minor": 0
      },
      "text/plain": [
       "Epoch 263/6000:   0%|          | 0/32 [00:00<?, ?it/s]"
      ]
     },
     "metadata": {},
     "output_type": "display_data"
    },
    {
     "data": {
      "application/vnd.jupyter.widget-view+json": {
       "model_id": "5abca68198b74b9f9f9589e1090d1e18",
       "version_major": 2,
       "version_minor": 0
      },
      "text/plain": [
       "Epoch 264/6000:   0%|          | 0/32 [00:00<?, ?it/s]"
      ]
     },
     "metadata": {},
     "output_type": "display_data"
    },
    {
     "data": {
      "application/vnd.jupyter.widget-view+json": {
       "model_id": "d811b7e4d6c34df0a482ce02269e4f9d",
       "version_major": 2,
       "version_minor": 0
      },
      "text/plain": [
       "Epoch 265/6000:   0%|          | 0/32 [00:00<?, ?it/s]"
      ]
     },
     "metadata": {},
     "output_type": "display_data"
    },
    {
     "data": {
      "application/vnd.jupyter.widget-view+json": {
       "model_id": "90c57e5ad3ce4816933777fa576ea59b",
       "version_major": 2,
       "version_minor": 0
      },
      "text/plain": [
       "Epoch 266/6000:   0%|          | 0/32 [00:00<?, ?it/s]"
      ]
     },
     "metadata": {},
     "output_type": "display_data"
    },
    {
     "data": {
      "application/vnd.jupyter.widget-view+json": {
       "model_id": "3c0531ea53c547a3851e22b2930f84ac",
       "version_major": 2,
       "version_minor": 0
      },
      "text/plain": [
       "Epoch 267/6000:   0%|          | 0/32 [00:00<?, ?it/s]"
      ]
     },
     "metadata": {},
     "output_type": "display_data"
    },
    {
     "data": {
      "application/vnd.jupyter.widget-view+json": {
       "model_id": "cdbeaf9992eb4af68dea944d24dd09ec",
       "version_major": 2,
       "version_minor": 0
      },
      "text/plain": [
       "Epoch 268/6000:   0%|          | 0/32 [00:00<?, ?it/s]"
      ]
     },
     "metadata": {},
     "output_type": "display_data"
    },
    {
     "data": {
      "application/vnd.jupyter.widget-view+json": {
       "model_id": "5f36345add444364bd6964257194ce06",
       "version_major": 2,
       "version_minor": 0
      },
      "text/plain": [
       "Epoch 269/6000:   0%|          | 0/32 [00:00<?, ?it/s]"
      ]
     },
     "metadata": {},
     "output_type": "display_data"
    },
    {
     "data": {
      "application/vnd.jupyter.widget-view+json": {
       "model_id": "299b63403d5b4f71b95afda1b008ec01",
       "version_major": 2,
       "version_minor": 0
      },
      "text/plain": [
       "Epoch 270/6000:   0%|          | 0/32 [00:00<?, ?it/s]"
      ]
     },
     "metadata": {},
     "output_type": "display_data"
    },
    {
     "data": {
      "application/vnd.jupyter.widget-view+json": {
       "model_id": "9c45b35dfdb84636a9696cd132fe612f",
       "version_major": 2,
       "version_minor": 0
      },
      "text/plain": [
       "Epoch 271/6000:   0%|          | 0/32 [00:00<?, ?it/s]"
      ]
     },
     "metadata": {},
     "output_type": "display_data"
    },
    {
     "data": {
      "application/vnd.jupyter.widget-view+json": {
       "model_id": "1c0af354e4b448a0839a6964341209f1",
       "version_major": 2,
       "version_minor": 0
      },
      "text/plain": [
       "Epoch 272/6000:   0%|          | 0/32 [00:00<?, ?it/s]"
      ]
     },
     "metadata": {},
     "output_type": "display_data"
    },
    {
     "data": {
      "application/vnd.jupyter.widget-view+json": {
       "model_id": "bcb3ba0ac03449febe466d1cc22e3788",
       "version_major": 2,
       "version_minor": 0
      },
      "text/plain": [
       "Epoch 273/6000:   0%|          | 0/32 [00:00<?, ?it/s]"
      ]
     },
     "metadata": {},
     "output_type": "display_data"
    },
    {
     "data": {
      "application/vnd.jupyter.widget-view+json": {
       "model_id": "6cadf11f7bea4b5e9e132c2cb5f7a73b",
       "version_major": 2,
       "version_minor": 0
      },
      "text/plain": [
       "Epoch 274/6000:   0%|          | 0/32 [00:00<?, ?it/s]"
      ]
     },
     "metadata": {},
     "output_type": "display_data"
    },
    {
     "data": {
      "application/vnd.jupyter.widget-view+json": {
       "model_id": "aeb565950f3a40fa8b81df0db5228b36",
       "version_major": 2,
       "version_minor": 0
      },
      "text/plain": [
       "Epoch 275/6000:   0%|          | 0/32 [00:00<?, ?it/s]"
      ]
     },
     "metadata": {},
     "output_type": "display_data"
    },
    {
     "data": {
      "application/vnd.jupyter.widget-view+json": {
       "model_id": "c717a87d88a84199bb2bcf099e4e8348",
       "version_major": 2,
       "version_minor": 0
      },
      "text/plain": [
       "Epoch 276/6000:   0%|          | 0/32 [00:00<?, ?it/s]"
      ]
     },
     "metadata": {},
     "output_type": "display_data"
    },
    {
     "data": {
      "application/vnd.jupyter.widget-view+json": {
       "model_id": "f0622169b4b34006b523b92e1a86c53a",
       "version_major": 2,
       "version_minor": 0
      },
      "text/plain": [
       "Epoch 277/6000:   0%|          | 0/32 [00:00<?, ?it/s]"
      ]
     },
     "metadata": {},
     "output_type": "display_data"
    },
    {
     "data": {
      "application/vnd.jupyter.widget-view+json": {
       "model_id": "334c781969994f07bf2951840b0cd343",
       "version_major": 2,
       "version_minor": 0
      },
      "text/plain": [
       "Epoch 278/6000:   0%|          | 0/32 [00:00<?, ?it/s]"
      ]
     },
     "metadata": {},
     "output_type": "display_data"
    },
    {
     "data": {
      "application/vnd.jupyter.widget-view+json": {
       "model_id": "ceb4b12eeadc428397d61487bb8ed05d",
       "version_major": 2,
       "version_minor": 0
      },
      "text/plain": [
       "Epoch 279/6000:   0%|          | 0/32 [00:00<?, ?it/s]"
      ]
     },
     "metadata": {},
     "output_type": "display_data"
    },
    {
     "data": {
      "application/vnd.jupyter.widget-view+json": {
       "model_id": "543be5ba9d8e4b4c8bccbeca4bef7b4a",
       "version_major": 2,
       "version_minor": 0
      },
      "text/plain": [
       "Epoch 280/6000:   0%|          | 0/32 [00:00<?, ?it/s]"
      ]
     },
     "metadata": {},
     "output_type": "display_data"
    },
    {
     "data": {
      "application/vnd.jupyter.widget-view+json": {
       "model_id": "0ec9bbee7487494da57c984e77e45951",
       "version_major": 2,
       "version_minor": 0
      },
      "text/plain": [
       "Epoch 281/6000:   0%|          | 0/32 [00:00<?, ?it/s]"
      ]
     },
     "metadata": {},
     "output_type": "display_data"
    },
    {
     "data": {
      "application/vnd.jupyter.widget-view+json": {
       "model_id": "78d90126f13044f0bcf43260d8537dae",
       "version_major": 2,
       "version_minor": 0
      },
      "text/plain": [
       "Epoch 282/6000:   0%|          | 0/32 [00:00<?, ?it/s]"
      ]
     },
     "metadata": {},
     "output_type": "display_data"
    },
    {
     "data": {
      "application/vnd.jupyter.widget-view+json": {
       "model_id": "bd0d6677f03a4f098bb9b3691e3b6215",
       "version_major": 2,
       "version_minor": 0
      },
      "text/plain": [
       "Epoch 283/6000:   0%|          | 0/32 [00:00<?, ?it/s]"
      ]
     },
     "metadata": {},
     "output_type": "display_data"
    },
    {
     "data": {
      "application/vnd.jupyter.widget-view+json": {
       "model_id": "e56fa4d2dffc4db6962c71faf002e4ac",
       "version_major": 2,
       "version_minor": 0
      },
      "text/plain": [
       "Epoch 284/6000:   0%|          | 0/32 [00:00<?, ?it/s]"
      ]
     },
     "metadata": {},
     "output_type": "display_data"
    },
    {
     "data": {
      "application/vnd.jupyter.widget-view+json": {
       "model_id": "1a6433d492444bdbad66bf573d141720",
       "version_major": 2,
       "version_minor": 0
      },
      "text/plain": [
       "Epoch 285/6000:   0%|          | 0/32 [00:00<?, ?it/s]"
      ]
     },
     "metadata": {},
     "output_type": "display_data"
    },
    {
     "data": {
      "application/vnd.jupyter.widget-view+json": {
       "model_id": "18807666959e4ad0aa20b5f94992c111",
       "version_major": 2,
       "version_minor": 0
      },
      "text/plain": [
       "Epoch 286/6000:   0%|          | 0/32 [00:00<?, ?it/s]"
      ]
     },
     "metadata": {},
     "output_type": "display_data"
    },
    {
     "data": {
      "application/vnd.jupyter.widget-view+json": {
       "model_id": "0e17616989f7477fa1cfc9d266791753",
       "version_major": 2,
       "version_minor": 0
      },
      "text/plain": [
       "Epoch 287/6000:   0%|          | 0/32 [00:00<?, ?it/s]"
      ]
     },
     "metadata": {},
     "output_type": "display_data"
    },
    {
     "data": {
      "application/vnd.jupyter.widget-view+json": {
       "model_id": "991ea30165534008aa7f286883f23d5c",
       "version_major": 2,
       "version_minor": 0
      },
      "text/plain": [
       "Epoch 288/6000:   0%|          | 0/32 [00:00<?, ?it/s]"
      ]
     },
     "metadata": {},
     "output_type": "display_data"
    },
    {
     "data": {
      "application/vnd.jupyter.widget-view+json": {
       "model_id": "54192dca22c640e0bf6cf53b9e157eb1",
       "version_major": 2,
       "version_minor": 0
      },
      "text/plain": [
       "Epoch 289/6000:   0%|          | 0/32 [00:00<?, ?it/s]"
      ]
     },
     "metadata": {},
     "output_type": "display_data"
    },
    {
     "data": {
      "application/vnd.jupyter.widget-view+json": {
       "model_id": "ab5013b275c64504a9e8ae5abde4ffd6",
       "version_major": 2,
       "version_minor": 0
      },
      "text/plain": [
       "Epoch 290/6000:   0%|          | 0/32 [00:00<?, ?it/s]"
      ]
     },
     "metadata": {},
     "output_type": "display_data"
    },
    {
     "data": {
      "application/vnd.jupyter.widget-view+json": {
       "model_id": "0f5248ea56c94d5ab61fa80e4960141e",
       "version_major": 2,
       "version_minor": 0
      },
      "text/plain": [
       "Epoch 291/6000:   0%|          | 0/32 [00:00<?, ?it/s]"
      ]
     },
     "metadata": {},
     "output_type": "display_data"
    },
    {
     "data": {
      "application/vnd.jupyter.widget-view+json": {
       "model_id": "358ee9c7fceb4073ba468046ef8e068c",
       "version_major": 2,
       "version_minor": 0
      },
      "text/plain": [
       "Epoch 292/6000:   0%|          | 0/32 [00:00<?, ?it/s]"
      ]
     },
     "metadata": {},
     "output_type": "display_data"
    },
    {
     "data": {
      "application/vnd.jupyter.widget-view+json": {
       "model_id": "0306ee2749054c9d81d68048eab7b941",
       "version_major": 2,
       "version_minor": 0
      },
      "text/plain": [
       "Epoch 293/6000:   0%|          | 0/32 [00:00<?, ?it/s]"
      ]
     },
     "metadata": {},
     "output_type": "display_data"
    },
    {
     "data": {
      "application/vnd.jupyter.widget-view+json": {
       "model_id": "27b68697646f416e932e3b1270e2cbe3",
       "version_major": 2,
       "version_minor": 0
      },
      "text/plain": [
       "Epoch 294/6000:   0%|          | 0/32 [00:00<?, ?it/s]"
      ]
     },
     "metadata": {},
     "output_type": "display_data"
    },
    {
     "data": {
      "application/vnd.jupyter.widget-view+json": {
       "model_id": "e22e17af347c46b4b7dd695fdacd1403",
       "version_major": 2,
       "version_minor": 0
      },
      "text/plain": [
       "Epoch 295/6000:   0%|          | 0/32 [00:00<?, ?it/s]"
      ]
     },
     "metadata": {},
     "output_type": "display_data"
    },
    {
     "data": {
      "application/vnd.jupyter.widget-view+json": {
       "model_id": "8893d386e8e2430c9ddd2ff1a79b73d8",
       "version_major": 2,
       "version_minor": 0
      },
      "text/plain": [
       "Epoch 296/6000:   0%|          | 0/32 [00:00<?, ?it/s]"
      ]
     },
     "metadata": {},
     "output_type": "display_data"
    },
    {
     "data": {
      "application/vnd.jupyter.widget-view+json": {
       "model_id": "a1e5476f4d964761a15b538eae1e08d6",
       "version_major": 2,
       "version_minor": 0
      },
      "text/plain": [
       "Epoch 297/6000:   0%|          | 0/32 [00:00<?, ?it/s]"
      ]
     },
     "metadata": {},
     "output_type": "display_data"
    },
    {
     "data": {
      "application/vnd.jupyter.widget-view+json": {
       "model_id": "316adfc65e474d96b9449a39c54be03e",
       "version_major": 2,
       "version_minor": 0
      },
      "text/plain": [
       "Epoch 298/6000:   0%|          | 0/32 [00:00<?, ?it/s]"
      ]
     },
     "metadata": {},
     "output_type": "display_data"
    },
    {
     "data": {
      "application/vnd.jupyter.widget-view+json": {
       "model_id": "8c5cfd10656e4c87a11feb6a3c715aac",
       "version_major": 2,
       "version_minor": 0
      },
      "text/plain": [
       "Epoch 299/6000:   0%|          | 0/32 [00:00<?, ?it/s]"
      ]
     },
     "metadata": {},
     "output_type": "display_data"
    },
    {
     "data": {
      "application/vnd.jupyter.widget-view+json": {
       "model_id": "be2536bf9e8940b1b98c684b4209ba3b",
       "version_major": 2,
       "version_minor": 0
      },
      "text/plain": [
       "Epoch 300/6000:   0%|          | 0/32 [00:00<?, ?it/s]"
      ]
     },
     "metadata": {},
     "output_type": "display_data"
    },
    {
     "name": "stdout",
     "output_type": "stream",
     "text": [
      "Saved sample image at epoch 300\n",
      "Epoch 300: Loss = 0.0127, Time = 0:10:38.089109\n"
     ]
    },
    {
     "data": {
      "application/vnd.jupyter.widget-view+json": {
       "model_id": "3d3891116dc74f11855fecdcf6e32a37",
       "version_major": 2,
       "version_minor": 0
      },
      "text/plain": [
       "Epoch 301/6000:   0%|          | 0/32 [00:00<?, ?it/s]"
      ]
     },
     "metadata": {},
     "output_type": "display_data"
    },
    {
     "data": {
      "application/vnd.jupyter.widget-view+json": {
       "model_id": "5712bddcd8334b4499ab9bd8d028345e",
       "version_major": 2,
       "version_minor": 0
      },
      "text/plain": [
       "Epoch 302/6000:   0%|          | 0/32 [00:00<?, ?it/s]"
      ]
     },
     "metadata": {},
     "output_type": "display_data"
    },
    {
     "data": {
      "application/vnd.jupyter.widget-view+json": {
       "model_id": "75fc36720ca34d949bd8ac5dbd8c951c",
       "version_major": 2,
       "version_minor": 0
      },
      "text/plain": [
       "Epoch 303/6000:   0%|          | 0/32 [00:00<?, ?it/s]"
      ]
     },
     "metadata": {},
     "output_type": "display_data"
    },
    {
     "data": {
      "application/vnd.jupyter.widget-view+json": {
       "model_id": "48810a3768ba4fb6924a0be05f91dded",
       "version_major": 2,
       "version_minor": 0
      },
      "text/plain": [
       "Epoch 304/6000:   0%|          | 0/32 [00:00<?, ?it/s]"
      ]
     },
     "metadata": {},
     "output_type": "display_data"
    },
    {
     "data": {
      "application/vnd.jupyter.widget-view+json": {
       "model_id": "35da7220c5d04735bf3d3fa6aadfe5e6",
       "version_major": 2,
       "version_minor": 0
      },
      "text/plain": [
       "Epoch 305/6000:   0%|          | 0/32 [00:00<?, ?it/s]"
      ]
     },
     "metadata": {},
     "output_type": "display_data"
    },
    {
     "data": {
      "application/vnd.jupyter.widget-view+json": {
       "model_id": "bf8ed982e9a44e5c8237d5ff7747d74b",
       "version_major": 2,
       "version_minor": 0
      },
      "text/plain": [
       "Epoch 306/6000:   0%|          | 0/32 [00:00<?, ?it/s]"
      ]
     },
     "metadata": {},
     "output_type": "display_data"
    },
    {
     "data": {
      "application/vnd.jupyter.widget-view+json": {
       "model_id": "bb470124823f44d285a6f13a912a16d3",
       "version_major": 2,
       "version_minor": 0
      },
      "text/plain": [
       "Epoch 307/6000:   0%|          | 0/32 [00:00<?, ?it/s]"
      ]
     },
     "metadata": {},
     "output_type": "display_data"
    },
    {
     "data": {
      "application/vnd.jupyter.widget-view+json": {
       "model_id": "d026e4cf8d2e4d0b8acf3f81a57ca6d4",
       "version_major": 2,
       "version_minor": 0
      },
      "text/plain": [
       "Epoch 308/6000:   0%|          | 0/32 [00:00<?, ?it/s]"
      ]
     },
     "metadata": {},
     "output_type": "display_data"
    },
    {
     "data": {
      "application/vnd.jupyter.widget-view+json": {
       "model_id": "deb0a5e15f5449379e74637db68f2573",
       "version_major": 2,
       "version_minor": 0
      },
      "text/plain": [
       "Epoch 309/6000:   0%|          | 0/32 [00:00<?, ?it/s]"
      ]
     },
     "metadata": {},
     "output_type": "display_data"
    },
    {
     "data": {
      "application/vnd.jupyter.widget-view+json": {
       "model_id": "b1352d70dfe9466984b1a5592067a68a",
       "version_major": 2,
       "version_minor": 0
      },
      "text/plain": [
       "Epoch 310/6000:   0%|          | 0/32 [00:00<?, ?it/s]"
      ]
     },
     "metadata": {},
     "output_type": "display_data"
    },
    {
     "data": {
      "application/vnd.jupyter.widget-view+json": {
       "model_id": "5cc14b5e998b49ac8fb26b7fd197939c",
       "version_major": 2,
       "version_minor": 0
      },
      "text/plain": [
       "Epoch 311/6000:   0%|          | 0/32 [00:00<?, ?it/s]"
      ]
     },
     "metadata": {},
     "output_type": "display_data"
    },
    {
     "data": {
      "application/vnd.jupyter.widget-view+json": {
       "model_id": "9e986ea2c89440d298cc41c8408e7e6b",
       "version_major": 2,
       "version_minor": 0
      },
      "text/plain": [
       "Epoch 312/6000:   0%|          | 0/32 [00:00<?, ?it/s]"
      ]
     },
     "metadata": {},
     "output_type": "display_data"
    },
    {
     "data": {
      "application/vnd.jupyter.widget-view+json": {
       "model_id": "4a071ca79b3f480791f1f4f7345f036c",
       "version_major": 2,
       "version_minor": 0
      },
      "text/plain": [
       "Epoch 313/6000:   0%|          | 0/32 [00:00<?, ?it/s]"
      ]
     },
     "metadata": {},
     "output_type": "display_data"
    },
    {
     "data": {
      "application/vnd.jupyter.widget-view+json": {
       "model_id": "ff87ee15513f4ffe890ac8e7346ecb5c",
       "version_major": 2,
       "version_minor": 0
      },
      "text/plain": [
       "Epoch 314/6000:   0%|          | 0/32 [00:00<?, ?it/s]"
      ]
     },
     "metadata": {},
     "output_type": "display_data"
    },
    {
     "data": {
      "application/vnd.jupyter.widget-view+json": {
       "model_id": "cfa5650c0e6642358470a6c2fa7ae574",
       "version_major": 2,
       "version_minor": 0
      },
      "text/plain": [
       "Epoch 315/6000:   0%|          | 0/32 [00:00<?, ?it/s]"
      ]
     },
     "metadata": {},
     "output_type": "display_data"
    },
    {
     "data": {
      "application/vnd.jupyter.widget-view+json": {
       "model_id": "16b5305d03744a14861b99d049a2a953",
       "version_major": 2,
       "version_minor": 0
      },
      "text/plain": [
       "Epoch 316/6000:   0%|          | 0/32 [00:00<?, ?it/s]"
      ]
     },
     "metadata": {},
     "output_type": "display_data"
    },
    {
     "data": {
      "application/vnd.jupyter.widget-view+json": {
       "model_id": "bb5e8c055c134bfab90e96b0d7601e60",
       "version_major": 2,
       "version_minor": 0
      },
      "text/plain": [
       "Epoch 317/6000:   0%|          | 0/32 [00:00<?, ?it/s]"
      ]
     },
     "metadata": {},
     "output_type": "display_data"
    },
    {
     "data": {
      "application/vnd.jupyter.widget-view+json": {
       "model_id": "cd7cf6bca6b44b4e9257aa64ff2b2cb2",
       "version_major": 2,
       "version_minor": 0
      },
      "text/plain": [
       "Epoch 318/6000:   0%|          | 0/32 [00:00<?, ?it/s]"
      ]
     },
     "metadata": {},
     "output_type": "display_data"
    },
    {
     "data": {
      "application/vnd.jupyter.widget-view+json": {
       "model_id": "526f72d19d734a78832ea8f703b60801",
       "version_major": 2,
       "version_minor": 0
      },
      "text/plain": [
       "Epoch 319/6000:   0%|          | 0/32 [00:00<?, ?it/s]"
      ]
     },
     "metadata": {},
     "output_type": "display_data"
    },
    {
     "data": {
      "application/vnd.jupyter.widget-view+json": {
       "model_id": "ac7457cc1ec34895a8e9f59f897a5cf7",
       "version_major": 2,
       "version_minor": 0
      },
      "text/plain": [
       "Epoch 320/6000:   0%|          | 0/32 [00:00<?, ?it/s]"
      ]
     },
     "metadata": {},
     "output_type": "display_data"
    },
    {
     "data": {
      "application/vnd.jupyter.widget-view+json": {
       "model_id": "3d7124a7e20142df9010887f7ccf354b",
       "version_major": 2,
       "version_minor": 0
      },
      "text/plain": [
       "Epoch 321/6000:   0%|          | 0/32 [00:00<?, ?it/s]"
      ]
     },
     "metadata": {},
     "output_type": "display_data"
    },
    {
     "data": {
      "application/vnd.jupyter.widget-view+json": {
       "model_id": "72fe3bfb43a544d3b4c1e6cf9ff81161",
       "version_major": 2,
       "version_minor": 0
      },
      "text/plain": [
       "Epoch 322/6000:   0%|          | 0/32 [00:00<?, ?it/s]"
      ]
     },
     "metadata": {},
     "output_type": "display_data"
    },
    {
     "data": {
      "application/vnd.jupyter.widget-view+json": {
       "model_id": "8a09dd16f19a44be9042e1643979e36c",
       "version_major": 2,
       "version_minor": 0
      },
      "text/plain": [
       "Epoch 323/6000:   0%|          | 0/32 [00:00<?, ?it/s]"
      ]
     },
     "metadata": {},
     "output_type": "display_data"
    },
    {
     "data": {
      "application/vnd.jupyter.widget-view+json": {
       "model_id": "80ccb8bad1454c75897857c6533512ac",
       "version_major": 2,
       "version_minor": 0
      },
      "text/plain": [
       "Epoch 324/6000:   0%|          | 0/32 [00:00<?, ?it/s]"
      ]
     },
     "metadata": {},
     "output_type": "display_data"
    },
    {
     "data": {
      "application/vnd.jupyter.widget-view+json": {
       "model_id": "e1a94d093dd040eca98b5fc4c814f7f0",
       "version_major": 2,
       "version_minor": 0
      },
      "text/plain": [
       "Epoch 325/6000:   0%|          | 0/32 [00:00<?, ?it/s]"
      ]
     },
     "metadata": {},
     "output_type": "display_data"
    },
    {
     "data": {
      "application/vnd.jupyter.widget-view+json": {
       "model_id": "84b07de15e2944519f54cebb235d1e5b",
       "version_major": 2,
       "version_minor": 0
      },
      "text/plain": [
       "Epoch 326/6000:   0%|          | 0/32 [00:00<?, ?it/s]"
      ]
     },
     "metadata": {},
     "output_type": "display_data"
    },
    {
     "data": {
      "application/vnd.jupyter.widget-view+json": {
       "model_id": "0cd5e1474c334aa0b14453e88c604fc9",
       "version_major": 2,
       "version_minor": 0
      },
      "text/plain": [
       "Epoch 327/6000:   0%|          | 0/32 [00:00<?, ?it/s]"
      ]
     },
     "metadata": {},
     "output_type": "display_data"
    },
    {
     "data": {
      "application/vnd.jupyter.widget-view+json": {
       "model_id": "bba5dfdde7df46318fcd6b11e13e1db9",
       "version_major": 2,
       "version_minor": 0
      },
      "text/plain": [
       "Epoch 328/6000:   0%|          | 0/32 [00:00<?, ?it/s]"
      ]
     },
     "metadata": {},
     "output_type": "display_data"
    },
    {
     "data": {
      "application/vnd.jupyter.widget-view+json": {
       "model_id": "a79a356b238a478ba3bce04cf9e9b15f",
       "version_major": 2,
       "version_minor": 0
      },
      "text/plain": [
       "Epoch 329/6000:   0%|          | 0/32 [00:00<?, ?it/s]"
      ]
     },
     "metadata": {},
     "output_type": "display_data"
    },
    {
     "data": {
      "application/vnd.jupyter.widget-view+json": {
       "model_id": "c6ebab4d32dd4d438e1d37fe54499bb0",
       "version_major": 2,
       "version_minor": 0
      },
      "text/plain": [
       "Epoch 330/6000:   0%|          | 0/32 [00:00<?, ?it/s]"
      ]
     },
     "metadata": {},
     "output_type": "display_data"
    },
    {
     "data": {
      "application/vnd.jupyter.widget-view+json": {
       "model_id": "74477f933ea945b7ab0438593b9440fc",
       "version_major": 2,
       "version_minor": 0
      },
      "text/plain": [
       "Epoch 331/6000:   0%|          | 0/32 [00:00<?, ?it/s]"
      ]
     },
     "metadata": {},
     "output_type": "display_data"
    },
    {
     "data": {
      "application/vnd.jupyter.widget-view+json": {
       "model_id": "8a7d4bd410c94db9930f971f095edbfd",
       "version_major": 2,
       "version_minor": 0
      },
      "text/plain": [
       "Epoch 332/6000:   0%|          | 0/32 [00:00<?, ?it/s]"
      ]
     },
     "metadata": {},
     "output_type": "display_data"
    },
    {
     "data": {
      "application/vnd.jupyter.widget-view+json": {
       "model_id": "868cae1ada614c3291c3a7e8e214ddd4",
       "version_major": 2,
       "version_minor": 0
      },
      "text/plain": [
       "Epoch 333/6000:   0%|          | 0/32 [00:00<?, ?it/s]"
      ]
     },
     "metadata": {},
     "output_type": "display_data"
    },
    {
     "data": {
      "application/vnd.jupyter.widget-view+json": {
       "model_id": "075efe49e23c469a86137e6326d07ebf",
       "version_major": 2,
       "version_minor": 0
      },
      "text/plain": [
       "Epoch 334/6000:   0%|          | 0/32 [00:00<?, ?it/s]"
      ]
     },
     "metadata": {},
     "output_type": "display_data"
    },
    {
     "data": {
      "application/vnd.jupyter.widget-view+json": {
       "model_id": "e56fd10f38e04554a775c33d7838d204",
       "version_major": 2,
       "version_minor": 0
      },
      "text/plain": [
       "Epoch 335/6000:   0%|          | 0/32 [00:00<?, ?it/s]"
      ]
     },
     "metadata": {},
     "output_type": "display_data"
    },
    {
     "data": {
      "application/vnd.jupyter.widget-view+json": {
       "model_id": "2d77140ac9874221910b9ce9d6ef4663",
       "version_major": 2,
       "version_minor": 0
      },
      "text/plain": [
       "Epoch 336/6000:   0%|          | 0/32 [00:00<?, ?it/s]"
      ]
     },
     "metadata": {},
     "output_type": "display_data"
    },
    {
     "data": {
      "application/vnd.jupyter.widget-view+json": {
       "model_id": "720e5d5e121646a8941e7eea9e4f6737",
       "version_major": 2,
       "version_minor": 0
      },
      "text/plain": [
       "Epoch 337/6000:   0%|          | 0/32 [00:00<?, ?it/s]"
      ]
     },
     "metadata": {},
     "output_type": "display_data"
    },
    {
     "data": {
      "application/vnd.jupyter.widget-view+json": {
       "model_id": "6015af72d2714868876b413c74cd8319",
       "version_major": 2,
       "version_minor": 0
      },
      "text/plain": [
       "Epoch 338/6000:   0%|          | 0/32 [00:00<?, ?it/s]"
      ]
     },
     "metadata": {},
     "output_type": "display_data"
    },
    {
     "data": {
      "application/vnd.jupyter.widget-view+json": {
       "model_id": "7675a76d860c4531a15d02a9fbc6282d",
       "version_major": 2,
       "version_minor": 0
      },
      "text/plain": [
       "Epoch 339/6000:   0%|          | 0/32 [00:00<?, ?it/s]"
      ]
     },
     "metadata": {},
     "output_type": "display_data"
    },
    {
     "data": {
      "application/vnd.jupyter.widget-view+json": {
       "model_id": "ea000496381a4f458cc5055fec2efd78",
       "version_major": 2,
       "version_minor": 0
      },
      "text/plain": [
       "Epoch 340/6000:   0%|          | 0/32 [00:00<?, ?it/s]"
      ]
     },
     "metadata": {},
     "output_type": "display_data"
    },
    {
     "data": {
      "application/vnd.jupyter.widget-view+json": {
       "model_id": "4cff8e10c4ca413588d7e6743cd37709",
       "version_major": 2,
       "version_minor": 0
      },
      "text/plain": [
       "Epoch 341/6000:   0%|          | 0/32 [00:00<?, ?it/s]"
      ]
     },
     "metadata": {},
     "output_type": "display_data"
    },
    {
     "data": {
      "application/vnd.jupyter.widget-view+json": {
       "model_id": "fb975abc0ac147b69637b997394c36a2",
       "version_major": 2,
       "version_minor": 0
      },
      "text/plain": [
       "Epoch 342/6000:   0%|          | 0/32 [00:00<?, ?it/s]"
      ]
     },
     "metadata": {},
     "output_type": "display_data"
    },
    {
     "data": {
      "application/vnd.jupyter.widget-view+json": {
       "model_id": "f512a6ca128544ed89385ce4a9616626",
       "version_major": 2,
       "version_minor": 0
      },
      "text/plain": [
       "Epoch 343/6000:   0%|          | 0/32 [00:00<?, ?it/s]"
      ]
     },
     "metadata": {},
     "output_type": "display_data"
    },
    {
     "data": {
      "application/vnd.jupyter.widget-view+json": {
       "model_id": "dc6e5e3eaf8042c2be076ce3691628f7",
       "version_major": 2,
       "version_minor": 0
      },
      "text/plain": [
       "Epoch 344/6000:   0%|          | 0/32 [00:00<?, ?it/s]"
      ]
     },
     "metadata": {},
     "output_type": "display_data"
    },
    {
     "data": {
      "application/vnd.jupyter.widget-view+json": {
       "model_id": "be4bb94798714b51b58d135d97922b6d",
       "version_major": 2,
       "version_minor": 0
      },
      "text/plain": [
       "Epoch 345/6000:   0%|          | 0/32 [00:00<?, ?it/s]"
      ]
     },
     "metadata": {},
     "output_type": "display_data"
    },
    {
     "data": {
      "application/vnd.jupyter.widget-view+json": {
       "model_id": "e7b255ffe07d47528de811cd6d3e254e",
       "version_major": 2,
       "version_minor": 0
      },
      "text/plain": [
       "Epoch 346/6000:   0%|          | 0/32 [00:00<?, ?it/s]"
      ]
     },
     "metadata": {},
     "output_type": "display_data"
    },
    {
     "data": {
      "application/vnd.jupyter.widget-view+json": {
       "model_id": "b372b13fc6a44f7da22126d498c9bc36",
       "version_major": 2,
       "version_minor": 0
      },
      "text/plain": [
       "Epoch 347/6000:   0%|          | 0/32 [00:00<?, ?it/s]"
      ]
     },
     "metadata": {},
     "output_type": "display_data"
    },
    {
     "data": {
      "application/vnd.jupyter.widget-view+json": {
       "model_id": "11db933eee924ee59667c15b69260d7b",
       "version_major": 2,
       "version_minor": 0
      },
      "text/plain": [
       "Epoch 348/6000:   0%|          | 0/32 [00:00<?, ?it/s]"
      ]
     },
     "metadata": {},
     "output_type": "display_data"
    },
    {
     "data": {
      "application/vnd.jupyter.widget-view+json": {
       "model_id": "f689a8ea069d4bb7b840800143b62019",
       "version_major": 2,
       "version_minor": 0
      },
      "text/plain": [
       "Epoch 349/6000:   0%|          | 0/32 [00:00<?, ?it/s]"
      ]
     },
     "metadata": {},
     "output_type": "display_data"
    },
    {
     "data": {
      "application/vnd.jupyter.widget-view+json": {
       "model_id": "bd820e9982994ae3901a2c400549548e",
       "version_major": 2,
       "version_minor": 0
      },
      "text/plain": [
       "Epoch 350/6000:   0%|          | 0/32 [00:00<?, ?it/s]"
      ]
     },
     "metadata": {},
     "output_type": "display_data"
    },
    {
     "data": {
      "application/vnd.jupyter.widget-view+json": {
       "model_id": "3b60fbe01de74931acf92af52158f392",
       "version_major": 2,
       "version_minor": 0
      },
      "text/plain": [
       "Epoch 351/6000:   0%|          | 0/32 [00:00<?, ?it/s]"
      ]
     },
     "metadata": {},
     "output_type": "display_data"
    },
    {
     "data": {
      "application/vnd.jupyter.widget-view+json": {
       "model_id": "c724993964d64c2ca29959e36c6b722b",
       "version_major": 2,
       "version_minor": 0
      },
      "text/plain": [
       "Epoch 352/6000:   0%|          | 0/32 [00:00<?, ?it/s]"
      ]
     },
     "metadata": {},
     "output_type": "display_data"
    },
    {
     "data": {
      "application/vnd.jupyter.widget-view+json": {
       "model_id": "575ea6bc836c4ca786dbe2271728f168",
       "version_major": 2,
       "version_minor": 0
      },
      "text/plain": [
       "Epoch 353/6000:   0%|          | 0/32 [00:00<?, ?it/s]"
      ]
     },
     "metadata": {},
     "output_type": "display_data"
    },
    {
     "data": {
      "application/vnd.jupyter.widget-view+json": {
       "model_id": "b4fe51dbb7874f7ba717620fe43b7aca",
       "version_major": 2,
       "version_minor": 0
      },
      "text/plain": [
       "Epoch 354/6000:   0%|          | 0/32 [00:00<?, ?it/s]"
      ]
     },
     "metadata": {},
     "output_type": "display_data"
    },
    {
     "data": {
      "application/vnd.jupyter.widget-view+json": {
       "model_id": "e73520f97f7a46249d06e1bfe585003b",
       "version_major": 2,
       "version_minor": 0
      },
      "text/plain": [
       "Epoch 355/6000:   0%|          | 0/32 [00:00<?, ?it/s]"
      ]
     },
     "metadata": {},
     "output_type": "display_data"
    },
    {
     "data": {
      "application/vnd.jupyter.widget-view+json": {
       "model_id": "8e278e0091af4df1b9ead2b6cc785470",
       "version_major": 2,
       "version_minor": 0
      },
      "text/plain": [
       "Epoch 356/6000:   0%|          | 0/32 [00:00<?, ?it/s]"
      ]
     },
     "metadata": {},
     "output_type": "display_data"
    },
    {
     "data": {
      "application/vnd.jupyter.widget-view+json": {
       "model_id": "a3564faaf5a14501b6fd0a0f29443995",
       "version_major": 2,
       "version_minor": 0
      },
      "text/plain": [
       "Epoch 357/6000:   0%|          | 0/32 [00:00<?, ?it/s]"
      ]
     },
     "metadata": {},
     "output_type": "display_data"
    },
    {
     "data": {
      "application/vnd.jupyter.widget-view+json": {
       "model_id": "631fe0ef1ad44f709b9cdee2771a6108",
       "version_major": 2,
       "version_minor": 0
      },
      "text/plain": [
       "Epoch 358/6000:   0%|          | 0/32 [00:00<?, ?it/s]"
      ]
     },
     "metadata": {},
     "output_type": "display_data"
    },
    {
     "data": {
      "application/vnd.jupyter.widget-view+json": {
       "model_id": "dd86880789f3488caa125410c0c038ec",
       "version_major": 2,
       "version_minor": 0
      },
      "text/plain": [
       "Epoch 359/6000:   0%|          | 0/32 [00:00<?, ?it/s]"
      ]
     },
     "metadata": {},
     "output_type": "display_data"
    },
    {
     "data": {
      "application/vnd.jupyter.widget-view+json": {
       "model_id": "12f40ed50b8b468194c9641fba1e7d27",
       "version_major": 2,
       "version_minor": 0
      },
      "text/plain": [
       "Epoch 360/6000:   0%|          | 0/32 [00:00<?, ?it/s]"
      ]
     },
     "metadata": {},
     "output_type": "display_data"
    },
    {
     "data": {
      "application/vnd.jupyter.widget-view+json": {
       "model_id": "bce349b5252a4e008ebd352281ce8a34",
       "version_major": 2,
       "version_minor": 0
      },
      "text/plain": [
       "Epoch 361/6000:   0%|          | 0/32 [00:00<?, ?it/s]"
      ]
     },
     "metadata": {},
     "output_type": "display_data"
    },
    {
     "data": {
      "application/vnd.jupyter.widget-view+json": {
       "model_id": "476def9aaf7b4902bcc5eedf02ee2077",
       "version_major": 2,
       "version_minor": 0
      },
      "text/plain": [
       "Epoch 362/6000:   0%|          | 0/32 [00:00<?, ?it/s]"
      ]
     },
     "metadata": {},
     "output_type": "display_data"
    },
    {
     "data": {
      "application/vnd.jupyter.widget-view+json": {
       "model_id": "26ea69006bfe4f149b28d3ff70263af0",
       "version_major": 2,
       "version_minor": 0
      },
      "text/plain": [
       "Epoch 363/6000:   0%|          | 0/32 [00:00<?, ?it/s]"
      ]
     },
     "metadata": {},
     "output_type": "display_data"
    },
    {
     "data": {
      "application/vnd.jupyter.widget-view+json": {
       "model_id": "3b5fc901afd942a29ebe8dcd66785786",
       "version_major": 2,
       "version_minor": 0
      },
      "text/plain": [
       "Epoch 364/6000:   0%|          | 0/32 [00:00<?, ?it/s]"
      ]
     },
     "metadata": {},
     "output_type": "display_data"
    },
    {
     "data": {
      "application/vnd.jupyter.widget-view+json": {
       "model_id": "f9fe68e5b6bc424cb8d6e2b88f6edcae",
       "version_major": 2,
       "version_minor": 0
      },
      "text/plain": [
       "Epoch 365/6000:   0%|          | 0/32 [00:00<?, ?it/s]"
      ]
     },
     "metadata": {},
     "output_type": "display_data"
    },
    {
     "data": {
      "application/vnd.jupyter.widget-view+json": {
       "model_id": "1beb337f892642a784a6db23577c32a1",
       "version_major": 2,
       "version_minor": 0
      },
      "text/plain": [
       "Epoch 366/6000:   0%|          | 0/32 [00:00<?, ?it/s]"
      ]
     },
     "metadata": {},
     "output_type": "display_data"
    },
    {
     "data": {
      "application/vnd.jupyter.widget-view+json": {
       "model_id": "fb59378a3c8241489c9ec4e96de0cea7",
       "version_major": 2,
       "version_minor": 0
      },
      "text/plain": [
       "Epoch 367/6000:   0%|          | 0/32 [00:00<?, ?it/s]"
      ]
     },
     "metadata": {},
     "output_type": "display_data"
    },
    {
     "data": {
      "application/vnd.jupyter.widget-view+json": {
       "model_id": "fa2f2695943046b2bb81600e8e3e3bc9",
       "version_major": 2,
       "version_minor": 0
      },
      "text/plain": [
       "Epoch 368/6000:   0%|          | 0/32 [00:00<?, ?it/s]"
      ]
     },
     "metadata": {},
     "output_type": "display_data"
    },
    {
     "data": {
      "application/vnd.jupyter.widget-view+json": {
       "model_id": "41f5e425320446faaf171614b5c4cfe0",
       "version_major": 2,
       "version_minor": 0
      },
      "text/plain": [
       "Epoch 369/6000:   0%|          | 0/32 [00:00<?, ?it/s]"
      ]
     },
     "metadata": {},
     "output_type": "display_data"
    }
   ],
   "source": [
    "if __name__ == '__main__':\n",
    "    # --- Data Transforms ---\n",
    "    transform = transforms.Compose([\n",
    "        transforms.Resize((IMAGE_SIZE, IMAGE_SIZE)),\n",
    "        transforms.ToTensor(),\n",
    "        transforms.Normalize((0.5, 0.5, 0.5), (0.5, 0.5, 0.5))\n",
    "    ])\n",
    "\n",
    "    # --- Create Dataset and DataLoader ---\n",
    "    dataset = JetbotDataset(IMAGE_DIR, CSV_PATH, IMAGE_SIZE, NUM_PREV_FRAMES, transform=transform)\n",
    "    dataloader = DataLoader(dataset, batch_size=BATCH_SIZE, shuffle=True)\n",
    "\n",
    "    # --- Calculate Betas and Alphas ---\n",
    "    betas = linear_beta_schedule(NUM_TIMESTEPS, BETA_START, BETA_END).to(DEVICE)\n",
    "    #betas = cosine_beta_schedule(NUM_TIMESTEPS).to(DEVICE) # Alternative\n",
    "\n",
    "    alphas = (1. - betas).to(DEVICE)\n",
    "    alphas_cumprod = torch.cumprod(alphas, axis=0).to(DEVICE)\n",
    "    alphas_cumprod_prev = F.pad(alphas_cumprod[:-1], (1, 0), value=1.0).to(DEVICE)\n",
    "    sqrt_recip_alphas = torch.sqrt(1.0 / alphas).to(DEVICE)\n",
    "\n",
    "    # --- Create Model and Optimizer ---\n",
    "    model = SimpleUNet(image_channels=3, down_channels=(64, 128, 256), up_channels=(256, 128, 64), time_emb_dim=32, num_prev_frames=NUM_PREV_FRAMES).to(DEVICE)\n",
    "    optimizer = torch.optim.AdamW(model.parameters(), lr=LEARNING_RATE)\n",
    "\n",
    "    # --- Load Checkpoint (if available) ---\n",
    "    if LOAD_CHECKPOINT:\n",
    "        checkpoint = torch.load(LOAD_CHECKPOINT)\n",
    "        model.load_state_dict(checkpoint['model_state_dict'])\n",
    "        optimizer.load_state_dict(checkpoint['optimizer_state_dict'])\n",
    "        START_EPOCH = checkpoint['epoch']\n",
    "        print(f\"Loaded checkpoint from epoch {START_EPOCH}\")\n",
    "\n",
    "    # --- Train the Model ---\n",
    "    losses = train(model, dataloader, optimizer, betas, START_EPOCH, NUM_EPOCHS, DEVICE,\n",
    "                   SAVE_MODEL_EVERY, SAMPLE_EVERY, CHECKPOINT_DIR, SAMPLE_DIR, PLOT_DIR, PLOT_EVERY, USE_FP16,\n",
    "                   ACCUMULATION_STEPS, NUM_PREV_FRAMES)\n",
    "    print(\"Training complete!\")\n",
    "\n",
    "    # --- Final Loss Plot ---\n",
    "    plt.figure(figsize=(10, 5))\n",
    "    plt.plot(losses)\n",
    "    plt.xlabel(\"Epoch\")\n",
    "    plt.ylabel(\"Loss\")\n",
    "    plt.title(\"Training Loss\")\n",
    "    plt.grid(True)\n",
    "    plt.savefig(os.path.join(PLOT_DIR, \"loss_plot_final.png\"))  # Save to plot dir\n",
    "    plt.close()"
   ]
  },
  {
   "cell_type": "code",
   "execution_count": null,
   "id": "16933dd4-020b-40b6-9c67-b420f3ed3ab2",
   "metadata": {},
   "outputs": [],
   "source": []
  },
  {
   "cell_type": "code",
   "execution_count": null,
   "id": "69705aac-316a-4771-aa0f-ccab7b3d9eca",
   "metadata": {},
   "outputs": [],
   "source": []
  }
 ],
 "metadata": {
  "kernelspec": {
   "display_name": "Python 3 (ipykernel)",
   "language": "python",
   "name": "python3"
  },
  "language_info": {
   "codemirror_mode": {
    "name": "ipython",
    "version": 3
   },
   "file_extension": ".py",
   "mimetype": "text/x-python",
   "name": "python",
   "nbconvert_exporter": "python",
   "pygments_lexer": "ipython3",
   "version": "3.11.9"
  }
 },
 "nbformat": 4,
 "nbformat_minor": 5
}
