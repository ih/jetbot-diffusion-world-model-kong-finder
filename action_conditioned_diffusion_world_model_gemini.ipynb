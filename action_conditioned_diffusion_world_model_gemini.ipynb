{
 "cells": [
  {
   "cell_type": "code",
   "execution_count": 1,
   "id": "33b40e0f-8c29-4a90-9e82-5995ef5a0506",
   "metadata": {},
   "outputs": [],
   "source": [
    "import torch\n",
    "import torch.nn as nn\n",
    "import torch.nn.functional as F\n",
    "import torchvision.transforms as transforms\n",
    "from torch.utils.data import Dataset, DataLoader, Subset\n",
    "from PIL import Image\n",
    "import numpy as np\n",
    "import os\n",
    "import matplotlib.pyplot as plt\n",
    "from tqdm.auto import tqdm\n",
    "import time\n",
    "import datetime\n",
    "import csv\n",
    "import config\n",
    "from torch.utils.data import random_split"
   ]
  },
  {
   "cell_type": "code",
   "execution_count": 2,
   "id": "4e89e9ec-9f79-4a17-800e-243b0864cbf4",
   "metadata": {},
   "outputs": [],
   "source": [
    "# --- Dataset ---\n",
    "class JetbotDataset(Dataset):\n",
    "    def __init__(self, image_dir, csv_path, image_size, num_prev_frames, transform=None):\n",
    "        self.image_dir = image_dir\n",
    "        self.csv_path = csv_path\n",
    "        self.image_size = image_size\n",
    "        self.transform = transform\n",
    "        self.num_prev_frames = num_prev_frames\n",
    "        self.image_paths, self.actions = self.load_data()\n",
    "        self.image_paths = self.image_paths[self.num_prev_frames:]\n",
    "        self.actions = self.actions[self.num_prev_frames:]\n",
    "\n",
    "\n",
    "    def load_data(self):\n",
    "        image_paths = []\n",
    "        actions = []\n",
    "        with open(self.csv_path, 'r') as csvfile:\n",
    "            reader = csv.DictReader(csvfile)\n",
    "            for row in reader:\n",
    "                image_paths.append(row['image_path'])\n",
    "                actions.append(float(row['action']))\n",
    "        return image_paths, actions\n",
    "\n",
    "    def __len__(self):\n",
    "        return len(self.image_paths)\n",
    "\n",
    "    def __getitem__(self, idx):\n",
    "        current_image_path = self.image_paths[idx]\n",
    "        current_image = Image.open(current_image_path).convert(\"RGB\")\n",
    "        current_action = self.actions[idx]\n",
    "\n",
    "        prev_frames = []\n",
    "        for i in range(self.num_prev_frames):\n",
    "            prev_image_path = self.image_paths[idx - (self.num_prev_frames - i)]\n",
    "            prev_image = Image.open(prev_image_path).convert(\"RGB\")\n",
    "            if self.transform:\n",
    "                prev_image = self.transform(prev_image)\n",
    "            prev_frames.append(prev_image)\n",
    "\n",
    "        if self.transform:\n",
    "            current_image = self.transform(current_image)\n",
    "\n",
    "        prev_frames_tensor = torch.cat(prev_frames, dim=0)\n",
    "\n",
    "        return current_image, torch.tensor([current_action], dtype=torch.float32), prev_frames_tensor\n",
    "\n",
    "# --- Diffusion Helpers ---\n",
    "def linear_beta_schedule(timesteps, beta_start, beta_end):\n",
    "    return torch.linspace(beta_start, beta_end, timesteps)\n",
    "\n",
    "def cosine_beta_schedule(timesteps, s=0.008):\n",
    "    steps = timesteps + 1\n",
    "    x = torch.linspace(0, timesteps, steps, dtype=torch.float64)\n",
    "    alphas_cumprod = torch.cos(((x / timesteps) + s) / (1 + s) * np.pi * 0.5) ** 2\n",
    "    alphas_cumprod = alphas_cumprod / alphas_cumprod[0]\n",
    "    betas = 1 - (alphas_cumprod[1:] / alphas_cumprod[:-1])\n",
    "    return torch.clip(betas, 0, 0.999)\n",
    "\n",
    "def get_index_from_list(vals, t, x_shape):\n",
    "    batch_size = t.shape[0]\n",
    "    out = vals.gather(-1, t)\n",
    "    return out.reshape(batch_size, *((1,) * (len(x_shape) - 1))).to(t.device)\n",
    "\n",
    "def forward_diffusion_sample(x_0, t, betas, alphas_cumprod, device=\"cpu\"):\n",
    "    noise = torch.randn_like(x_0)\n",
    "    sqrt_alphas_cumprod_t = get_index_from_list(torch.sqrt(alphas_cumprod), t, x_0.shape)\n",
    "    sqrt_one_minus_alphas_cumprod_t = get_index_from_list(\n",
    "        torch.sqrt(1. - alphas_cumprod), t, x_0.shape\n",
    "    )\n",
    "    return sqrt_alphas_cumprod_t * x_0 + sqrt_one_minus_alphas_cumprod_t * noise, noise\n",
    "\n",
    "# --- U-Net Model ---\n",
    "class Block(nn.Module):\n",
    "    def __init__(self, in_ch, out_ch, time_emb_dim, up=False):\n",
    "        super().__init__()\n",
    "        self.time_mlp =  nn.Linear(time_emb_dim, out_ch)\n",
    "        if up:\n",
    "            self.conv1 = nn.Conv2d(2*in_ch, out_ch, 3, padding=1)\n",
    "            self.transform = nn.ConvTranspose2d(out_ch, out_ch, 4, 2, 1)\n",
    "        else:\n",
    "            self.conv1 = nn.Conv2d(in_ch, out_ch, 3, padding=1)\n",
    "            self.transform = nn.Conv2d(out_ch, out_ch, 4, 2, 1)\n",
    "        self.conv2 = nn.Conv2d(out_ch, out_ch, 3, padding=1)\n",
    "        self.bnorm1 = nn.BatchNorm2d(out_ch)\n",
    "        self.bnorm2 = nn.BatchNorm2d(out_ch)\n",
    "        self.relu  = nn.ReLU()\n",
    "\n",
    "    def forward(self, x, t, ):\n",
    "        h = self.bnorm1(self.relu(self.conv1(x)))\n",
    "        time_emb = self.relu(self.time_mlp(t))\n",
    "        time_emb = time_emb[(..., ) + (None, ) * 2]\n",
    "        h = h + time_emb\n",
    "        h = self.bnorm2(self.relu(self.conv2(h)))\n",
    "        return self.transform(h)\n",
    "\n",
    "class SinusoidalPositionEmbeddings(nn.Module):\n",
    "    def __init__(self, dim):\n",
    "        super().__init__()\n",
    "        self.dim = dim\n",
    "\n",
    "    def forward(self, time):\n",
    "        device = time.device\n",
    "        half_dim = self.dim // 2\n",
    "        embeddings = np.log(10000) / (half_dim - 1)\n",
    "        embeddings = torch.exp(torch.arange(half_dim, device=device) * -embeddings)\n",
    "        embeddings = time[:, None] * embeddings[None, :]\n",
    "        embeddings = torch.cat((embeddings.sin(), embeddings.cos()), dim=-1)\n",
    "        return embeddings\n",
    "\n",
    "class SimpleUNet(nn.Module):\n",
    "    def __init__(self, image_channels=3, down_channels=(64, 128, 256), up_channels=(256, 128, 64), time_emb_dim=32, num_prev_frames=4):\n",
    "        super().__init__()\n",
    "        self.time_mlp = nn.Sequential(\n",
    "                SinusoidalPositionEmbeddings(time_emb_dim),\n",
    "                nn.Linear(time_emb_dim, time_emb_dim),\n",
    "                nn.ReLU()\n",
    "            )\n",
    "        self.conv0 = nn.Conv2d(image_channels * (num_prev_frames + 1), down_channels[0], 3, padding=1)\n",
    "\n",
    "        self.downs = nn.ModuleList([Block(down_channels[i], down_channels[i+1], \\\n",
    "                                    time_emb_dim + 1) \\\n",
    "                    for i in range(len(down_channels)-1)])\n",
    "        self.ups = nn.ModuleList([Block(up_channels[i], up_channels[i+1], \\\n",
    "                                        time_emb_dim + 1, up=True) \\\n",
    "                    for i in range(len(up_channels)-1)])\n",
    "\n",
    "        self.output = nn.Conv2d(up_channels[-1], image_channels, 1)\n",
    "\n",
    "\n",
    "    def forward(self, x, timestep, action, prev_frames):\n",
    "        x = torch.cat([x, prev_frames], dim=1)\n",
    "\n",
    "        t = self.time_mlp(timestep)\n",
    "        if action is not None:\n",
    "            action = action.float()\n",
    "            if len(action.shape) == 1:\n",
    "                action = action.unsqueeze(1)\n",
    "            t = torch.cat([t, action], dim=1)\n",
    "\n",
    "        x = self.conv0(x)\n",
    "        residual_inputs = []\n",
    "        for down in self.downs:\n",
    "            x = down(x, t)\n",
    "            residual_inputs.append(x)\n",
    "        for up in self.ups:\n",
    "            residual_x = residual_inputs.pop()\n",
    "            x = torch.cat((x, residual_x), dim=1)\n",
    "            x = up(x, t)\n",
    "        return self.output(x)\n",
    "\n",
    "# --- Training Loop ---\n",
    "def train(model, dataloader, optimizer, betas, alphas_cumprod, start_epoch, num_epochs,\n",
    "          device, save_every, sample_every, checkpoint_dir, sample_dir, plot_dir,\n",
    "          plot_every, use_fp16, accumulation_steps, num_prev_frames,\n",
    "          early_stopping_patience=5, early_stopping_percentage=0.1, min_epochs=5):\n",
    "    \"\"\"\n",
    "    Trains the diffusion model with early stopping and best model saving/deletion.\n",
    "    \"\"\"\n",
    "\n",
    "    all_losses = []\n",
    "    start_time = time.time()\n",
    "    last_plot_epoch = 0\n",
    "    best_loss = float('inf')\n",
    "    best_epoch = 0\n",
    "    epochs_without_improvement = 0\n",
    "    moving_avg_window = 10\n",
    "    moving_avg_losses = []\n",
    "    previous_best_model_path = None  # Keep track of the previous best model's path\n",
    "\n",
    "    scaler = torch.cuda.amp.GradScaler(enabled=use_fp16)\n",
    "\n",
    "    for epoch in range(start_epoch, num_epochs):\n",
    "        model.train()\n",
    "        epoch_losses = []\n",
    "        optimizer.zero_grad()\n",
    "        pbar = tqdm(dataloader, desc=f\"Epoch {epoch+1}/{num_epochs}\")\n",
    "\n",
    "        for step, (images, actions, prev_frames) in enumerate(pbar):\n",
    "            images = images.to(device)\n",
    "            actions = actions.to(device)\n",
    "            prev_frames = prev_frames.to(device)\n",
    "            t = torch.randint(0, config.NUM_TIMESTEPS, (images.shape[0],), device=device).long()\n",
    "\n",
    "            with torch.cuda.amp.autocast(enabled=use_fp16):\n",
    "                x_noisy, noise = forward_diffusion_sample(images, t, betas, alphas_cumprod, device)\n",
    "                predicted_noise = model(x_noisy, t, actions, prev_frames)\n",
    "                loss = F.mse_loss(noise, predicted_noise)\n",
    "                loss = loss / accumulation_steps\n",
    "\n",
    "            scaler.scale(loss).backward()\n",
    "\n",
    "            if (step + 1) % accumulation_steps == 0:\n",
    "                scaler.step(optimizer)\n",
    "                scaler.update()\n",
    "                optimizer.zero_grad()\n",
    "\n",
    "            epoch_losses.append(loss.item() * accumulation_steps)\n",
    "            pbar.set_postfix({\"Loss\": loss.item() * accumulation_steps})\n",
    "\n",
    "        if optimizer.param_groups[0]['params'][0].grad is not None:\n",
    "            scaler.step(optimizer)\n",
    "            scaler.update()\n",
    "            optimizer.zero_grad()\n",
    "\n",
    "        avg_epoch_loss = sum(epoch_losses) / len(epoch_losses)\n",
    "        all_losses.append(avg_epoch_loss)\n",
    "\n",
    "        moving_avg_losses.append(avg_epoch_loss)\n",
    "        if len(moving_avg_losses) > moving_avg_window:\n",
    "            moving_avg_losses.pop(0)\n",
    "        current_moving_avg = sum(moving_avg_losses) / len(moving_avg_losses)\n",
    "\n",
    "        if (epoch + 1) % save_every == 0:\n",
    "            torch.save({\n",
    "                'epoch': epoch + 1,\n",
    "                'model_state_dict': model.state_dict(),\n",
    "                'optimizer_state_dict': optimizer.state_dict(),\n",
    "                'loss': avg_epoch_loss,\n",
    "            }, os.path.join(checkpoint_dir, f\"model_epoch_{epoch+1}.pth\"))\n",
    "            print(f\"Saved model checkpoint at epoch {epoch+1}\")\n",
    "\n",
    "        if (epoch + 1) % sample_every == 0:\n",
    "            model.eval()\n",
    "            with torch.no_grad():\n",
    "                random_idx = torch.randint(0, len(dataset), (1,)).item()\n",
    "                real_current_frame, action, real_prev_frames = dataset[random_idx]\n",
    "                real_current_frame = real_current_frame.unsqueeze(0).to(device)\n",
    "                real_prev_frames = real_prev_frames.unsqueeze(0).to(device)\n",
    "                action = action.to(device)\n",
    "\n",
    "                t_sample = torch.tensor([config.NUM_TIMESTEPS - 1], device=device, dtype=torch.long)\n",
    "                x_noisy, _ = forward_diffusion_sample(real_current_frame, t_sample, betas, alphas_cumprod, device)\n",
    "                x = x_noisy\n",
    "\n",
    "                for i in reversed(range(1, config.NUM_TIMESTEPS)):\n",
    "                    t = (torch.ones(1) * i).long().to(device)\n",
    "                    with torch.cuda.amp.autocast(enabled=use_fp16):\n",
    "                        predicted_noise = model(x, t, action, real_prev_frames)\n",
    "\n",
    "                    alpha = alphas[t][:, None, None, None]\n",
    "                    alpha_hat = alphas_cumprod[t][:, None, None, None]\n",
    "                    beta = betas[t][:, None, None, None]\n",
    "\n",
    "                    if i > 1:\n",
    "                        noise = torch.randn_like(x)\n",
    "                    else:\n",
    "                        noise = torch.zeros_like(x)\n",
    "                    x = 1 / torch.sqrt(alpha) * (x - ((1 - alpha) / (torch.sqrt(1 - alpha_hat))) * predicted_noise) + torch.sqrt(beta) * noise\n",
    "                predicted_next_frame = (x.clamp(-1, 1) + 1) / 2\n",
    "                predicted_next_frame = (predicted_next_frame * 255).type(torch.uint8)\n",
    "                prev_images = []\n",
    "\n",
    "                for i in range(num_prev_frames):\n",
    "                    frame = real_prev_frames[0, (i * 3):(i + 1) * 3, :, :]\n",
    "                    frame = (frame.clamp(-1, 1) + 1) / 2\n",
    "                    frame = (frame * 255).type(torch.uint8)\n",
    "                    prev_images.append(transforms.ToPILImage()(frame))\n",
    "\n",
    "                current_image = transforms.ToPILImage()((real_current_frame[0].clamp(-1, 1) + 1) / 2 * 255).convert(\"RGB\") #Fixed\n",
    "                predicted_image = transforms.ToPILImage()(predicted_next_frame[0]).convert(\"RGB\")\n",
    "\n",
    "                total_width = (num_prev_frames + 2) * config.IMAGE_SIZE\n",
    "                max_height = config.IMAGE_SIZE\n",
    "                new_im = Image.new('RGB', (total_width, max_height))\n",
    "\n",
    "                x_offset = 0\n",
    "                for image in prev_images:\n",
    "                    new_im.paste(image, (x_offset,0))\n",
    "                    x_offset += config.IMAGE_SIZE\n",
    "                new_im.paste(current_image, (x_offset, 0))\n",
    "                x_offset += config.IMAGE_SIZE\n",
    "                new_im.paste(predicted_image, (x_offset, 0))\n",
    "\n",
    "                new_im.save(os.path.join(sample_dir, f\"sample_epoch_{epoch+1}.png\"))\n",
    "                print(f\"Saved sample image at epoch {epoch+1}\")\n",
    "\n",
    "            model.train()\n",
    "\n",
    "        if (epoch + 1) % plot_every == 0:\n",
    "            elapsed_time = time.time() - start_time\n",
    "            formatted_time = str(datetime.timedelta(seconds=elapsed_time))\n",
    "\n",
    "            fig, axes = plt.subplots(1, 2, figsize=(16, 5))\n",
    "\n",
    "            axes[0].plot(all_losses)\n",
    "            axes[0].set_xlabel(\"Epoch\")\n",
    "            axes[0].set_ylabel(\"Loss\")\n",
    "            axes[0].set_title(f\"Training Loss from Start (Time: {formatted_time})\")\n",
    "            axes[0].grid(True)\n",
    "\n",
    "            axes[1].plot(range(last_plot_epoch + 1, epoch + 2), all_losses[last_plot_epoch:])\n",
    "            axes[1].set_xlabel(\"Epoch\")\n",
    "            axes[1].set_ylabel(\"Loss\")\n",
    "            axes[1].set_title(f\"Loss Since Last Plot (Epoch {last_plot_epoch + 1})\")\n",
    "            axes[1].grid(True)\n",
    "\n",
    "            plt.tight_layout()\n",
    "            plt.savefig(os.path.join(plot_dir, f\"loss_plot_epoch_{epoch+1}.png\"))\n",
    "            plt.close()\n",
    "            print(f\"Epoch {epoch+1}: Loss = {avg_epoch_loss:.4f}, Time = {formatted_time}\")\n",
    "\n",
    "            last_plot_epoch = epoch\n",
    "\n",
    "        # --- Early Stopping (Dynamic Threshold) and Best Model Saving/Deletion---\n",
    "        if early_stopping_patience is not None and epoch + 1 > min_epochs:\n",
    "            if current_moving_avg < best_loss:\n",
    "                best_loss = current_moving_avg\n",
    "                best_epoch = epoch + 1\n",
    "                epochs_without_improvement = 0\n",
    "\n",
    "                # Save the *best* model\n",
    "                new_best_model_path = os.path.join(checkpoint_dir, f\"model_best_epoch_{best_epoch}.pth\")\n",
    "                torch.save({\n",
    "                    'epoch': best_epoch,\n",
    "                    'model_state_dict': model.state_dict(),\n",
    "                    'optimizer_state_dict': optimizer.state_dict(),\n",
    "                    'loss': best_loss,  # Save the best loss\n",
    "                }, new_best_model_path)\n",
    "                print(f\"Saved best model at epoch {best_epoch} with loss {best_loss}\")\n",
    "\n",
    "                # Delete the *previous* best model (if it exists)\n",
    "                if previous_best_model_path and os.path.exists(previous_best_model_path):\n",
    "                    os.remove(previous_best_model_path)\n",
    "                    print(f\"Deleted previous best model: {previous_best_model_path}\")\n",
    "                previous_best_model_path = new_best_model_path # Update the path\n",
    "\n",
    "            else:\n",
    "                epochs_without_improvement += 1\n",
    "\n",
    "            if epochs_without_improvement >= early_stopping_patience:\n",
    "                if len(moving_avg_losses) == moving_avg_window:\n",
    "                    prev_moving_avg = sum(moving_avg_losses[:-1]) / (moving_avg_window - 1)\n",
    "                    improvement = (prev_moving_avg - current_moving_avg) / prev_moving_avg * 100\n",
    "                if improvement < early_stopping_percentage:\n",
    "                    print(f\"Early stopping triggered at epoch {epoch+1}.  Improvement: {improvement:.2f}%\")\n",
    "                    break\n",
    "\n",
    "    end_time = time.time()\n",
    "    total_time = end_time - start_time\n",
    "    formatted_time = str(datetime.timedelta(seconds=total_time))\n",
    "    print(f\"Total training time: {formatted_time}\")\n",
    "\n",
    "    torch.save({\n",
    "        'epoch': epoch + 1,\n",
    "        'model_state_dict': model.state_dict(),\n",
    "        'optimizer_state_dict': optimizer.state_dict(),\n",
    "        'loss': avg_epoch_loss,\n",
    "    }, os.path.join(checkpoint_dir, \"model_last.pth\"))\n",
    "    print(f\"Saved last model at epoch {epoch+1} with loss {avg_epoch_loss}\")\n",
    "\n",
    "    return all_losses\n",
    "\n",
    "def save_existing_split(train_dataset, test_dataset, filename=\"dataset_split.pth\"):\n",
    "    \"\"\"Saves the indices of existing Subset objects to a file.\n",
    "\n",
    "    Args:\n",
    "        train_dataset: The Subset object representing the training set.\n",
    "        test_dataset: The Subset object representing the test set.\n",
    "        filename: The name of the file to save the indices to.\n",
    "    \"\"\"\n",
    "\n",
    "    # Check if they are actually Subset objects.  Important!\n",
    "    if not isinstance(train_dataset, Subset) or not isinstance(test_dataset, Subset):\n",
    "        raise TypeError(\"Both train_dataset and test_dataset must be Subset objects.\")\n",
    "\n",
    "    # Extract the indices. This is the key step.\n",
    "    train_indices = train_dataset.indices\n",
    "    test_indices = test_dataset.indices\n",
    "\n",
    "    # Combine them into a single list (or tuple) for saving.\n",
    "    all_indices = [train_indices, test_indices]\n",
    "\n",
    "    # Save the indices using torch.save\n",
    "    torch.save(all_indices, os.path.join(config.OUTPUT_DIR, filename))\n",
    "\n",
    "def load_train_test_split(dataset, filename=\"dataset_split.pth\"):\n",
    "    \"\"\"Loads the indices of existing Subset objects from a file.\"\"\"\n",
    "\n",
    "    filepath = os.path.join(config.OUTPUT_DIR, filename)\n",
    "    if not os.path.exists(filepath):\n",
    "        return None, None # Return None if file does not exist\n",
    "\n",
    "    splits = torch.load(filepath)\n",
    "    return tuple(Subset(dataset, indices) for indices in splits)\n",
    "    "
   ]
  },
  {
   "cell_type": "code",
   "execution_count": 4,
   "id": "356d5ca4-d8af-471b-afce-8023111e6f15",
   "metadata": {
    "scrolled": true
   },
   "outputs": [
    {
     "data": {
      "application/vnd.jupyter.widget-view+json": {
       "model_id": "571a9114c8f248afa6864a63eb320aa7",
       "version_major": 2,
       "version_minor": 0
      },
      "text/plain": [
       "Epoch 1/10000:   0%|          | 0/416 [00:00<?, ?it/s]"
      ]
     },
     "metadata": {},
     "output_type": "display_data"
    },
    {
     "data": {
      "application/vnd.jupyter.widget-view+json": {
       "model_id": "202a0c0efd4d49388ea30f1b9730aea5",
       "version_major": 2,
       "version_minor": 0
      },
      "text/plain": [
       "Epoch 2/10000:   0%|          | 0/416 [00:00<?, ?it/s]"
      ]
     },
     "metadata": {},
     "output_type": "display_data"
    },
    {
     "data": {
      "application/vnd.jupyter.widget-view+json": {
       "model_id": "8625c59b67c340d9b3ed99db9219c207",
       "version_major": 2,
       "version_minor": 0
      },
      "text/plain": [
       "Epoch 3/10000:   0%|          | 0/416 [00:00<?, ?it/s]"
      ]
     },
     "metadata": {},
     "output_type": "display_data"
    },
    {
     "data": {
      "application/vnd.jupyter.widget-view+json": {
       "model_id": "66323ee5f1994f04b55747b943f9e39b",
       "version_major": 2,
       "version_minor": 0
      },
      "text/plain": [
       "Epoch 4/10000:   0%|          | 0/416 [00:00<?, ?it/s]"
      ]
     },
     "metadata": {},
     "output_type": "display_data"
    },
    {
     "data": {
      "application/vnd.jupyter.widget-view+json": {
       "model_id": "8a36c7bd8f1c4a03b1466704acd4e935",
       "version_major": 2,
       "version_minor": 0
      },
      "text/plain": [
       "Epoch 5/10000:   0%|          | 0/416 [00:00<?, ?it/s]"
      ]
     },
     "metadata": {},
     "output_type": "display_data"
    },
    {
     "data": {
      "application/vnd.jupyter.widget-view+json": {
       "model_id": "1b3cb178ff7c495f812cc89185eb3f8f",
       "version_major": 2,
       "version_minor": 0
      },
      "text/plain": [
       "Epoch 6/10000:   0%|          | 0/416 [00:00<?, ?it/s]"
      ]
     },
     "metadata": {},
     "output_type": "display_data"
    },
    {
     "data": {
      "application/vnd.jupyter.widget-view+json": {
       "model_id": "44744ef95f93439bb363926b1c7f071c",
       "version_major": 2,
       "version_minor": 0
      },
      "text/plain": [
       "Epoch 7/10000:   0%|          | 0/416 [00:00<?, ?it/s]"
      ]
     },
     "metadata": {},
     "output_type": "display_data"
    },
    {
     "data": {
      "application/vnd.jupyter.widget-view+json": {
       "model_id": "a135ccaa935143ca9a58a2d0eca17873",
       "version_major": 2,
       "version_minor": 0
      },
      "text/plain": [
       "Epoch 8/10000:   0%|          | 0/416 [00:00<?, ?it/s]"
      ]
     },
     "metadata": {},
     "output_type": "display_data"
    },
    {
     "data": {
      "application/vnd.jupyter.widget-view+json": {
       "model_id": "7da58e81411d42b29aa622148e63d88b",
       "version_major": 2,
       "version_minor": 0
      },
      "text/plain": [
       "Epoch 9/10000:   0%|          | 0/416 [00:00<?, ?it/s]"
      ]
     },
     "metadata": {},
     "output_type": "display_data"
    },
    {
     "data": {
      "application/vnd.jupyter.widget-view+json": {
       "model_id": "638982063e7c4158a76c2d308b8231b5",
       "version_major": 2,
       "version_minor": 0
      },
      "text/plain": [
       "Epoch 10/10000:   0%|          | 0/416 [00:00<?, ?it/s]"
      ]
     },
     "metadata": {},
     "output_type": "display_data"
    },
    {
     "data": {
      "application/vnd.jupyter.widget-view+json": {
       "model_id": "69ab1b5d8a314445ab94afe46df2892b",
       "version_major": 2,
       "version_minor": 0
      },
      "text/plain": [
       "Epoch 11/10000:   0%|          | 0/416 [00:00<?, ?it/s]"
      ]
     },
     "metadata": {},
     "output_type": "display_data"
    },
    {
     "name": "stdout",
     "output_type": "stream",
     "text": [
      "Saved best model at epoch 11\n"
     ]
    },
    {
     "data": {
      "application/vnd.jupyter.widget-view+json": {
       "model_id": "14210532397d493aad2746eab2242652",
       "version_major": 2,
       "version_minor": 0
      },
      "text/plain": [
       "Epoch 12/10000:   0%|          | 0/416 [00:00<?, ?it/s]"
      ]
     },
     "metadata": {},
     "output_type": "display_data"
    },
    {
     "name": "stdout",
     "output_type": "stream",
     "text": [
      "Saved best model at epoch 12\n",
      "Deleted previous best model: output_two_action_224_early_stoppage\\checkpoints\\model_best_epoch_11.pth\n"
     ]
    },
    {
     "data": {
      "application/vnd.jupyter.widget-view+json": {
       "model_id": "4c6c8fc364fa40d18cb36188595f390c",
       "version_major": 2,
       "version_minor": 0
      },
      "text/plain": [
       "Epoch 13/10000:   0%|          | 0/416 [00:00<?, ?it/s]"
      ]
     },
     "metadata": {},
     "output_type": "display_data"
    },
    {
     "name": "stdout",
     "output_type": "stream",
     "text": [
      "Saved best model at epoch 13\n",
      "Deleted previous best model: output_two_action_224_early_stoppage\\checkpoints\\model_best_epoch_12.pth\n"
     ]
    },
    {
     "data": {
      "application/vnd.jupyter.widget-view+json": {
       "model_id": "4a3ad5f967e64996a69a6718b67ee852",
       "version_major": 2,
       "version_minor": 0
      },
      "text/plain": [
       "Epoch 14/10000:   0%|          | 0/416 [00:00<?, ?it/s]"
      ]
     },
     "metadata": {},
     "output_type": "display_data"
    },
    {
     "name": "stdout",
     "output_type": "stream",
     "text": [
      "Saved best model at epoch 14\n",
      "Deleted previous best model: output_two_action_224_early_stoppage\\checkpoints\\model_best_epoch_13.pth\n"
     ]
    },
    {
     "data": {
      "application/vnd.jupyter.widget-view+json": {
       "model_id": "5ec9372f8f09467992932aae14ce471f",
       "version_major": 2,
       "version_minor": 0
      },
      "text/plain": [
       "Epoch 15/10000:   0%|          | 0/416 [00:00<?, ?it/s]"
      ]
     },
     "metadata": {},
     "output_type": "display_data"
    },
    {
     "name": "stdout",
     "output_type": "stream",
     "text": [
      "Saved best model at epoch 15\n",
      "Deleted previous best model: output_two_action_224_early_stoppage\\checkpoints\\model_best_epoch_14.pth\n"
     ]
    },
    {
     "data": {
      "application/vnd.jupyter.widget-view+json": {
       "model_id": "bbe00f5744b04babaf4d0a694aedadf3",
       "version_major": 2,
       "version_minor": 0
      },
      "text/plain": [
       "Epoch 16/10000:   0%|          | 0/416 [00:00<?, ?it/s]"
      ]
     },
     "metadata": {},
     "output_type": "display_data"
    },
    {
     "name": "stdout",
     "output_type": "stream",
     "text": [
      "Saved best model at epoch 16\n",
      "Deleted previous best model: output_two_action_224_early_stoppage\\checkpoints\\model_best_epoch_15.pth\n"
     ]
    },
    {
     "data": {
      "application/vnd.jupyter.widget-view+json": {
       "model_id": "07e649bdbf5643288ac3ca3c1283459e",
       "version_major": 2,
       "version_minor": 0
      },
      "text/plain": [
       "Epoch 17/10000:   0%|          | 0/416 [00:00<?, ?it/s]"
      ]
     },
     "metadata": {},
     "output_type": "display_data"
    },
    {
     "name": "stdout",
     "output_type": "stream",
     "text": [
      "Saved best model at epoch 17\n",
      "Deleted previous best model: output_two_action_224_early_stoppage\\checkpoints\\model_best_epoch_16.pth\n"
     ]
    },
    {
     "data": {
      "application/vnd.jupyter.widget-view+json": {
       "model_id": "9b51cca5b9064137b389133867bc29c6",
       "version_major": 2,
       "version_minor": 0
      },
      "text/plain": [
       "Epoch 18/10000:   0%|          | 0/416 [00:00<?, ?it/s]"
      ]
     },
     "metadata": {},
     "output_type": "display_data"
    },
    {
     "name": "stdout",
     "output_type": "stream",
     "text": [
      "Saved best model at epoch 18\n",
      "Deleted previous best model: output_two_action_224_early_stoppage\\checkpoints\\model_best_epoch_17.pth\n"
     ]
    },
    {
     "data": {
      "application/vnd.jupyter.widget-view+json": {
       "model_id": "3c5237c530404ff184ab4066b9ac2e4a",
       "version_major": 2,
       "version_minor": 0
      },
      "text/plain": [
       "Epoch 19/10000:   0%|          | 0/416 [00:00<?, ?it/s]"
      ]
     },
     "metadata": {},
     "output_type": "display_data"
    },
    {
     "name": "stdout",
     "output_type": "stream",
     "text": [
      "Saved best model at epoch 19\n",
      "Deleted previous best model: output_two_action_224_early_stoppage\\checkpoints\\model_best_epoch_18.pth\n"
     ]
    },
    {
     "data": {
      "application/vnd.jupyter.widget-view+json": {
       "model_id": "ee731f1793d641f581de49323127a288",
       "version_major": 2,
       "version_minor": 0
      },
      "text/plain": [
       "Epoch 20/10000:   0%|          | 0/416 [00:00<?, ?it/s]"
      ]
     },
     "metadata": {},
     "output_type": "display_data"
    },
    {
     "name": "stdout",
     "output_type": "stream",
     "text": [
      "Saved best model at epoch 20\n",
      "Deleted previous best model: output_two_action_224_early_stoppage\\checkpoints\\model_best_epoch_19.pth\n"
     ]
    },
    {
     "data": {
      "application/vnd.jupyter.widget-view+json": {
       "model_id": "8da81f1ff65e40fe9cf38a11e7b06633",
       "version_major": 2,
       "version_minor": 0
      },
      "text/plain": [
       "Epoch 21/10000:   0%|          | 0/416 [00:00<?, ?it/s]"
      ]
     },
     "metadata": {},
     "output_type": "display_data"
    },
    {
     "name": "stdout",
     "output_type": "stream",
     "text": [
      "Saved best model at epoch 21\n",
      "Deleted previous best model: output_two_action_224_early_stoppage\\checkpoints\\model_best_epoch_20.pth\n"
     ]
    },
    {
     "data": {
      "application/vnd.jupyter.widget-view+json": {
       "model_id": "22b5eadeec13421d892461db3639eeba",
       "version_major": 2,
       "version_minor": 0
      },
      "text/plain": [
       "Epoch 22/10000:   0%|          | 0/416 [00:00<?, ?it/s]"
      ]
     },
     "metadata": {},
     "output_type": "display_data"
    },
    {
     "name": "stdout",
     "output_type": "stream",
     "text": [
      "Saved best model at epoch 22\n",
      "Deleted previous best model: output_two_action_224_early_stoppage\\checkpoints\\model_best_epoch_21.pth\n"
     ]
    },
    {
     "data": {
      "application/vnd.jupyter.widget-view+json": {
       "model_id": "6ab0894700354f79ab0c588af86fe83b",
       "version_major": 2,
       "version_minor": 0
      },
      "text/plain": [
       "Epoch 23/10000:   0%|          | 0/416 [00:00<?, ?it/s]"
      ]
     },
     "metadata": {},
     "output_type": "display_data"
    },
    {
     "name": "stdout",
     "output_type": "stream",
     "text": [
      "Saved best model at epoch 23\n",
      "Deleted previous best model: output_two_action_224_early_stoppage\\checkpoints\\model_best_epoch_22.pth\n"
     ]
    },
    {
     "data": {
      "application/vnd.jupyter.widget-view+json": {
       "model_id": "0a6b1bd408774ca9bac24de6584d7c14",
       "version_major": 2,
       "version_minor": 0
      },
      "text/plain": [
       "Epoch 24/10000:   0%|          | 0/416 [00:00<?, ?it/s]"
      ]
     },
     "metadata": {},
     "output_type": "display_data"
    },
    {
     "name": "stdout",
     "output_type": "stream",
     "text": [
      "Saved best model at epoch 24\n",
      "Deleted previous best model: output_two_action_224_early_stoppage\\checkpoints\\model_best_epoch_23.pth\n"
     ]
    },
    {
     "data": {
      "application/vnd.jupyter.widget-view+json": {
       "model_id": "009156ac7d204b00b8db5ecee83b98e3",
       "version_major": 2,
       "version_minor": 0
      },
      "text/plain": [
       "Epoch 25/10000:   0%|          | 0/416 [00:00<?, ?it/s]"
      ]
     },
     "metadata": {},
     "output_type": "display_data"
    },
    {
     "name": "stdout",
     "output_type": "stream",
     "text": [
      "Saved best model at epoch 25\n",
      "Deleted previous best model: output_two_action_224_early_stoppage\\checkpoints\\model_best_epoch_24.pth\n"
     ]
    },
    {
     "data": {
      "application/vnd.jupyter.widget-view+json": {
       "model_id": "96a0c8c08e3d4812b77ae236c5a5ca79",
       "version_major": 2,
       "version_minor": 0
      },
      "text/plain": [
       "Epoch 26/10000:   0%|          | 0/416 [00:00<?, ?it/s]"
      ]
     },
     "metadata": {},
     "output_type": "display_data"
    },
    {
     "name": "stdout",
     "output_type": "stream",
     "text": [
      "Saved best model at epoch 26\n",
      "Deleted previous best model: output_two_action_224_early_stoppage\\checkpoints\\model_best_epoch_25.pth\n"
     ]
    },
    {
     "data": {
      "application/vnd.jupyter.widget-view+json": {
       "model_id": "3cdf8a37eb644749a83d69a69e4926d8",
       "version_major": 2,
       "version_minor": 0
      },
      "text/plain": [
       "Epoch 27/10000:   0%|          | 0/416 [00:00<?, ?it/s]"
      ]
     },
     "metadata": {},
     "output_type": "display_data"
    },
    {
     "name": "stdout",
     "output_type": "stream",
     "text": [
      "Saved best model at epoch 27\n",
      "Deleted previous best model: output_two_action_224_early_stoppage\\checkpoints\\model_best_epoch_26.pth\n"
     ]
    },
    {
     "data": {
      "application/vnd.jupyter.widget-view+json": {
       "model_id": "e6c4b8f0ac6842e58ae981c83d4796c6",
       "version_major": 2,
       "version_minor": 0
      },
      "text/plain": [
       "Epoch 28/10000:   0%|          | 0/416 [00:00<?, ?it/s]"
      ]
     },
     "metadata": {},
     "output_type": "display_data"
    },
    {
     "name": "stdout",
     "output_type": "stream",
     "text": [
      "Saved best model at epoch 28\n",
      "Deleted previous best model: output_two_action_224_early_stoppage\\checkpoints\\model_best_epoch_27.pth\n"
     ]
    },
    {
     "data": {
      "application/vnd.jupyter.widget-view+json": {
       "model_id": "623104983fdf4faba6d1de224aa43ed4",
       "version_major": 2,
       "version_minor": 0
      },
      "text/plain": [
       "Epoch 29/10000:   0%|          | 0/416 [00:00<?, ?it/s]"
      ]
     },
     "metadata": {},
     "output_type": "display_data"
    },
    {
     "name": "stdout",
     "output_type": "stream",
     "text": [
      "Saved best model at epoch 29\n",
      "Deleted previous best model: output_two_action_224_early_stoppage\\checkpoints\\model_best_epoch_28.pth\n"
     ]
    },
    {
     "data": {
      "application/vnd.jupyter.widget-view+json": {
       "model_id": "456c6e7c2ab94c778674248044a831b9",
       "version_major": 2,
       "version_minor": 0
      },
      "text/plain": [
       "Epoch 30/10000:   0%|          | 0/416 [00:00<?, ?it/s]"
      ]
     },
     "metadata": {},
     "output_type": "display_data"
    },
    {
     "name": "stdout",
     "output_type": "stream",
     "text": [
      "Saved best model at epoch 30\n",
      "Deleted previous best model: output_two_action_224_early_stoppage\\checkpoints\\model_best_epoch_29.pth\n"
     ]
    },
    {
     "data": {
      "application/vnd.jupyter.widget-view+json": {
       "model_id": "bad658cd4cb443b6a1019ff059a265c1",
       "version_major": 2,
       "version_minor": 0
      },
      "text/plain": [
       "Epoch 31/10000:   0%|          | 0/416 [00:00<?, ?it/s]"
      ]
     },
     "metadata": {},
     "output_type": "display_data"
    },
    {
     "name": "stdout",
     "output_type": "stream",
     "text": [
      "Saved best model at epoch 31\n",
      "Deleted previous best model: output_two_action_224_early_stoppage\\checkpoints\\model_best_epoch_30.pth\n"
     ]
    },
    {
     "data": {
      "application/vnd.jupyter.widget-view+json": {
       "model_id": "3dfbf899d46a4578b122bbd38cbb7143",
       "version_major": 2,
       "version_minor": 0
      },
      "text/plain": [
       "Epoch 32/10000:   0%|          | 0/416 [00:00<?, ?it/s]"
      ]
     },
     "metadata": {},
     "output_type": "display_data"
    },
    {
     "name": "stdout",
     "output_type": "stream",
     "text": [
      "Saved best model at epoch 32\n",
      "Deleted previous best model: output_two_action_224_early_stoppage\\checkpoints\\model_best_epoch_31.pth\n"
     ]
    },
    {
     "data": {
      "application/vnd.jupyter.widget-view+json": {
       "model_id": "ddfb57c1be654f34baa7950a585590ee",
       "version_major": 2,
       "version_minor": 0
      },
      "text/plain": [
       "Epoch 33/10000:   0%|          | 0/416 [00:00<?, ?it/s]"
      ]
     },
     "metadata": {},
     "output_type": "display_data"
    },
    {
     "name": "stdout",
     "output_type": "stream",
     "text": [
      "Saved best model at epoch 33\n",
      "Deleted previous best model: output_two_action_224_early_stoppage\\checkpoints\\model_best_epoch_32.pth\n"
     ]
    },
    {
     "data": {
      "application/vnd.jupyter.widget-view+json": {
       "model_id": "3673b480079e4f0890b472385d389c01",
       "version_major": 2,
       "version_minor": 0
      },
      "text/plain": [
       "Epoch 34/10000:   0%|          | 0/416 [00:00<?, ?it/s]"
      ]
     },
     "metadata": {},
     "output_type": "display_data"
    },
    {
     "name": "stdout",
     "output_type": "stream",
     "text": [
      "Saved best model at epoch 34\n",
      "Deleted previous best model: output_two_action_224_early_stoppage\\checkpoints\\model_best_epoch_33.pth\n"
     ]
    },
    {
     "data": {
      "application/vnd.jupyter.widget-view+json": {
       "model_id": "65070574704f40b182557f5f7ce32420",
       "version_major": 2,
       "version_minor": 0
      },
      "text/plain": [
       "Epoch 35/10000:   0%|          | 0/416 [00:00<?, ?it/s]"
      ]
     },
     "metadata": {},
     "output_type": "display_data"
    },
    {
     "name": "stdout",
     "output_type": "stream",
     "text": [
      "Saved best model at epoch 35\n",
      "Deleted previous best model: output_two_action_224_early_stoppage\\checkpoints\\model_best_epoch_34.pth\n"
     ]
    },
    {
     "data": {
      "application/vnd.jupyter.widget-view+json": {
       "model_id": "9d82e0f33ce84082b82d4adddbc9404e",
       "version_major": 2,
       "version_minor": 0
      },
      "text/plain": [
       "Epoch 36/10000:   0%|          | 0/416 [00:00<?, ?it/s]"
      ]
     },
     "metadata": {},
     "output_type": "display_data"
    },
    {
     "name": "stdout",
     "output_type": "stream",
     "text": [
      "Saved best model at epoch 36\n",
      "Deleted previous best model: output_two_action_224_early_stoppage\\checkpoints\\model_best_epoch_35.pth\n"
     ]
    },
    {
     "data": {
      "application/vnd.jupyter.widget-view+json": {
       "model_id": "caf7a19c0e184910bad1c1dd1aaa10dd",
       "version_major": 2,
       "version_minor": 0
      },
      "text/plain": [
       "Epoch 37/10000:   0%|          | 0/416 [00:00<?, ?it/s]"
      ]
     },
     "metadata": {},
     "output_type": "display_data"
    },
    {
     "name": "stdout",
     "output_type": "stream",
     "text": [
      "Saved best model at epoch 37\n",
      "Deleted previous best model: output_two_action_224_early_stoppage\\checkpoints\\model_best_epoch_36.pth\n"
     ]
    },
    {
     "data": {
      "application/vnd.jupyter.widget-view+json": {
       "model_id": "7da88c9545754a84a4ee87958b525fa0",
       "version_major": 2,
       "version_minor": 0
      },
      "text/plain": [
       "Epoch 38/10000:   0%|          | 0/416 [00:00<?, ?it/s]"
      ]
     },
     "metadata": {},
     "output_type": "display_data"
    },
    {
     "name": "stdout",
     "output_type": "stream",
     "text": [
      "Saved best model at epoch 38\n",
      "Deleted previous best model: output_two_action_224_early_stoppage\\checkpoints\\model_best_epoch_37.pth\n"
     ]
    },
    {
     "data": {
      "application/vnd.jupyter.widget-view+json": {
       "model_id": "9d17317dd2164e828de206d19214941c",
       "version_major": 2,
       "version_minor": 0
      },
      "text/plain": [
       "Epoch 39/10000:   0%|          | 0/416 [00:00<?, ?it/s]"
      ]
     },
     "metadata": {},
     "output_type": "display_data"
    },
    {
     "name": "stdout",
     "output_type": "stream",
     "text": [
      "Saved best model at epoch 39\n",
      "Deleted previous best model: output_two_action_224_early_stoppage\\checkpoints\\model_best_epoch_38.pth\n"
     ]
    },
    {
     "data": {
      "application/vnd.jupyter.widget-view+json": {
       "model_id": "b9a6f01ddaba4188ae9cc8fb02aa6176",
       "version_major": 2,
       "version_minor": 0
      },
      "text/plain": [
       "Epoch 40/10000:   0%|          | 0/416 [00:00<?, ?it/s]"
      ]
     },
     "metadata": {},
     "output_type": "display_data"
    },
    {
     "name": "stdout",
     "output_type": "stream",
     "text": [
      "Saved best model at epoch 40\n",
      "Deleted previous best model: output_two_action_224_early_stoppage\\checkpoints\\model_best_epoch_39.pth\n"
     ]
    },
    {
     "data": {
      "application/vnd.jupyter.widget-view+json": {
       "model_id": "c561af3a2c7e4914bf2ebd65a5f40556",
       "version_major": 2,
       "version_minor": 0
      },
      "text/plain": [
       "Epoch 41/10000:   0%|          | 0/416 [00:00<?, ?it/s]"
      ]
     },
     "metadata": {},
     "output_type": "display_data"
    },
    {
     "name": "stdout",
     "output_type": "stream",
     "text": [
      "Saved best model at epoch 41\n",
      "Deleted previous best model: output_two_action_224_early_stoppage\\checkpoints\\model_best_epoch_40.pth\n"
     ]
    },
    {
     "data": {
      "application/vnd.jupyter.widget-view+json": {
       "model_id": "69e2b3ce3ec34bf096aa20f9e08e7280",
       "version_major": 2,
       "version_minor": 0
      },
      "text/plain": [
       "Epoch 42/10000:   0%|          | 0/416 [00:00<?, ?it/s]"
      ]
     },
     "metadata": {},
     "output_type": "display_data"
    },
    {
     "name": "stdout",
     "output_type": "stream",
     "text": [
      "Saved best model at epoch 42\n",
      "Deleted previous best model: output_two_action_224_early_stoppage\\checkpoints\\model_best_epoch_41.pth\n"
     ]
    },
    {
     "data": {
      "application/vnd.jupyter.widget-view+json": {
       "model_id": "64fb6cc143bb4af19f96c40828449774",
       "version_major": 2,
       "version_minor": 0
      },
      "text/plain": [
       "Epoch 43/10000:   0%|          | 0/416 [00:00<?, ?it/s]"
      ]
     },
     "metadata": {},
     "output_type": "display_data"
    },
    {
     "name": "stdout",
     "output_type": "stream",
     "text": [
      "Saved best model at epoch 43\n",
      "Deleted previous best model: output_two_action_224_early_stoppage\\checkpoints\\model_best_epoch_42.pth\n"
     ]
    },
    {
     "data": {
      "application/vnd.jupyter.widget-view+json": {
       "model_id": "c3ce1802cf0148929218272c4c8a4101",
       "version_major": 2,
       "version_minor": 0
      },
      "text/plain": [
       "Epoch 44/10000:   0%|          | 0/416 [00:00<?, ?it/s]"
      ]
     },
     "metadata": {},
     "output_type": "display_data"
    },
    {
     "name": "stdout",
     "output_type": "stream",
     "text": [
      "Saved best model at epoch 44\n",
      "Deleted previous best model: output_two_action_224_early_stoppage\\checkpoints\\model_best_epoch_43.pth\n"
     ]
    },
    {
     "data": {
      "application/vnd.jupyter.widget-view+json": {
       "model_id": "e419cd1fdf054a83b7aa59252c3be020",
       "version_major": 2,
       "version_minor": 0
      },
      "text/plain": [
       "Epoch 45/10000:   0%|          | 0/416 [00:00<?, ?it/s]"
      ]
     },
     "metadata": {},
     "output_type": "display_data"
    },
    {
     "data": {
      "application/vnd.jupyter.widget-view+json": {
       "model_id": "f5480c64a2df4534bfe75935e4872151",
       "version_major": 2,
       "version_minor": 0
      },
      "text/plain": [
       "Epoch 46/10000:   0%|          | 0/416 [00:00<?, ?it/s]"
      ]
     },
     "metadata": {},
     "output_type": "display_data"
    },
    {
     "data": {
      "application/vnd.jupyter.widget-view+json": {
       "model_id": "2ba5b3ee153744c888e7e241bc1271fe",
       "version_major": 2,
       "version_minor": 0
      },
      "text/plain": [
       "Epoch 47/10000:   0%|          | 0/416 [00:00<?, ?it/s]"
      ]
     },
     "metadata": {},
     "output_type": "display_data"
    },
    {
     "data": {
      "application/vnd.jupyter.widget-view+json": {
       "model_id": "6ae794c8381a4d13bb1c216784984119",
       "version_major": 2,
       "version_minor": 0
      },
      "text/plain": [
       "Epoch 48/10000:   0%|          | 0/416 [00:00<?, ?it/s]"
      ]
     },
     "metadata": {},
     "output_type": "display_data"
    },
    {
     "data": {
      "application/vnd.jupyter.widget-view+json": {
       "model_id": "3983c369f4da48bc9f52f85f09b419d4",
       "version_major": 2,
       "version_minor": 0
      },
      "text/plain": [
       "Epoch 49/10000:   0%|          | 0/416 [00:00<?, ?it/s]"
      ]
     },
     "metadata": {},
     "output_type": "display_data"
    },
    {
     "data": {
      "application/vnd.jupyter.widget-view+json": {
       "model_id": "e8e1dbf82a0e43fd9828eefc38841d1d",
       "version_major": 2,
       "version_minor": 0
      },
      "text/plain": [
       "Epoch 50/10000:   0%|          | 0/416 [00:00<?, ?it/s]"
      ]
     },
     "metadata": {},
     "output_type": "display_data"
    },
    {
     "data": {
      "application/vnd.jupyter.widget-view+json": {
       "model_id": "45a1dac506ed4c39bbad208082d941c1",
       "version_major": 2,
       "version_minor": 0
      },
      "text/plain": [
       "Epoch 51/10000:   0%|          | 0/416 [00:00<?, ?it/s]"
      ]
     },
     "metadata": {},
     "output_type": "display_data"
    },
    {
     "data": {
      "application/vnd.jupyter.widget-view+json": {
       "model_id": "c4ac07dcc05d44d780a7d17a978434e2",
       "version_major": 2,
       "version_minor": 0
      },
      "text/plain": [
       "Epoch 52/10000:   0%|          | 0/416 [00:00<?, ?it/s]"
      ]
     },
     "metadata": {},
     "output_type": "display_data"
    },
    {
     "data": {
      "application/vnd.jupyter.widget-view+json": {
       "model_id": "0fcb929fc42143d7ae2191e635e014cd",
       "version_major": 2,
       "version_minor": 0
      },
      "text/plain": [
       "Epoch 53/10000:   0%|          | 0/416 [00:00<?, ?it/s]"
      ]
     },
     "metadata": {},
     "output_type": "display_data"
    },
    {
     "data": {
      "application/vnd.jupyter.widget-view+json": {
       "model_id": "8330645153114006b8ebb0ae8b77a39a",
       "version_major": 2,
       "version_minor": 0
      },
      "text/plain": [
       "Epoch 54/10000:   0%|          | 0/416 [00:00<?, ?it/s]"
      ]
     },
     "metadata": {},
     "output_type": "display_data"
    },
    {
     "data": {
      "application/vnd.jupyter.widget-view+json": {
       "model_id": "78ca8f31dc9e46c3833153b0bf34c599",
       "version_major": 2,
       "version_minor": 0
      },
      "text/plain": [
       "Epoch 55/10000:   0%|          | 0/416 [00:00<?, ?it/s]"
      ]
     },
     "metadata": {},
     "output_type": "display_data"
    },
    {
     "data": {
      "application/vnd.jupyter.widget-view+json": {
       "model_id": "0889acc6daf54e33acc3888f9e46e23c",
       "version_major": 2,
       "version_minor": 0
      },
      "text/plain": [
       "Epoch 56/10000:   0%|          | 0/416 [00:00<?, ?it/s]"
      ]
     },
     "metadata": {},
     "output_type": "display_data"
    },
    {
     "name": "stdout",
     "output_type": "stream",
     "text": [
      "Saved best model at epoch 56\n",
      "Deleted previous best model: output_two_action_224_early_stoppage\\checkpoints\\model_best_epoch_44.pth\n"
     ]
    },
    {
     "data": {
      "application/vnd.jupyter.widget-view+json": {
       "model_id": "6c42de2b7bf44ee0be6e3e64a34d625f",
       "version_major": 2,
       "version_minor": 0
      },
      "text/plain": [
       "Epoch 57/10000:   0%|          | 0/416 [00:00<?, ?it/s]"
      ]
     },
     "metadata": {},
     "output_type": "display_data"
    },
    {
     "name": "stdout",
     "output_type": "stream",
     "text": [
      "Saved best model at epoch 57\n",
      "Deleted previous best model: output_two_action_224_early_stoppage\\checkpoints\\model_best_epoch_56.pth\n"
     ]
    },
    {
     "data": {
      "application/vnd.jupyter.widget-view+json": {
       "model_id": "b4f1827e9dd64d8794b33b12ed2530a5",
       "version_major": 2,
       "version_minor": 0
      },
      "text/plain": [
       "Epoch 58/10000:   0%|          | 0/416 [00:00<?, ?it/s]"
      ]
     },
     "metadata": {},
     "output_type": "display_data"
    },
    {
     "name": "stdout",
     "output_type": "stream",
     "text": [
      "Saved best model at epoch 58\n",
      "Deleted previous best model: output_two_action_224_early_stoppage\\checkpoints\\model_best_epoch_57.pth\n"
     ]
    },
    {
     "data": {
      "application/vnd.jupyter.widget-view+json": {
       "model_id": "0c6cbb92655446deac7fd0d0d7ba0a7e",
       "version_major": 2,
       "version_minor": 0
      },
      "text/plain": [
       "Epoch 59/10000:   0%|          | 0/416 [00:00<?, ?it/s]"
      ]
     },
     "metadata": {},
     "output_type": "display_data"
    },
    {
     "name": "stdout",
     "output_type": "stream",
     "text": [
      "Saved best model at epoch 59\n",
      "Deleted previous best model: output_two_action_224_early_stoppage\\checkpoints\\model_best_epoch_58.pth\n"
     ]
    },
    {
     "data": {
      "application/vnd.jupyter.widget-view+json": {
       "model_id": "3ba60111beea4881a28391632210281a",
       "version_major": 2,
       "version_minor": 0
      },
      "text/plain": [
       "Epoch 60/10000:   0%|          | 0/416 [00:00<?, ?it/s]"
      ]
     },
     "metadata": {},
     "output_type": "display_data"
    },
    {
     "name": "stdout",
     "output_type": "stream",
     "text": [
      "Saved best model at epoch 60\n",
      "Deleted previous best model: output_two_action_224_early_stoppage\\checkpoints\\model_best_epoch_59.pth\n"
     ]
    },
    {
     "data": {
      "application/vnd.jupyter.widget-view+json": {
       "model_id": "4c5edea2f7bc4994a4e16a61fa7206bb",
       "version_major": 2,
       "version_minor": 0
      },
      "text/plain": [
       "Epoch 61/10000:   0%|          | 0/416 [00:00<?, ?it/s]"
      ]
     },
     "metadata": {},
     "output_type": "display_data"
    },
    {
     "name": "stdout",
     "output_type": "stream",
     "text": [
      "Saved best model at epoch 61\n",
      "Deleted previous best model: output_two_action_224_early_stoppage\\checkpoints\\model_best_epoch_60.pth\n"
     ]
    },
    {
     "data": {
      "application/vnd.jupyter.widget-view+json": {
       "model_id": "9619e9c8fbca4361ab35f0c77b1845a5",
       "version_major": 2,
       "version_minor": 0
      },
      "text/plain": [
       "Epoch 62/10000:   0%|          | 0/416 [00:00<?, ?it/s]"
      ]
     },
     "metadata": {},
     "output_type": "display_data"
    },
    {
     "name": "stdout",
     "output_type": "stream",
     "text": [
      "Saved best model at epoch 62\n",
      "Deleted previous best model: output_two_action_224_early_stoppage\\checkpoints\\model_best_epoch_61.pth\n"
     ]
    },
    {
     "data": {
      "application/vnd.jupyter.widget-view+json": {
       "model_id": "5978a6f9810d43848dc408b4974a3e4a",
       "version_major": 2,
       "version_minor": 0
      },
      "text/plain": [
       "Epoch 63/10000:   0%|          | 0/416 [00:00<?, ?it/s]"
      ]
     },
     "metadata": {},
     "output_type": "display_data"
    },
    {
     "data": {
      "application/vnd.jupyter.widget-view+json": {
       "model_id": "7aff9a365bc547d19be6d5d7e7c8b3c8",
       "version_major": 2,
       "version_minor": 0
      },
      "text/plain": [
       "Epoch 64/10000:   0%|          | 0/416 [00:00<?, ?it/s]"
      ]
     },
     "metadata": {},
     "output_type": "display_data"
    },
    {
     "data": {
      "application/vnd.jupyter.widget-view+json": {
       "model_id": "69daa88941154b8e8b495aff6d2da912",
       "version_major": 2,
       "version_minor": 0
      },
      "text/plain": [
       "Epoch 65/10000:   0%|          | 0/416 [00:00<?, ?it/s]"
      ]
     },
     "metadata": {},
     "output_type": "display_data"
    },
    {
     "name": "stdout",
     "output_type": "stream",
     "text": [
      "Saved best model at epoch 65\n",
      "Deleted previous best model: output_two_action_224_early_stoppage\\checkpoints\\model_best_epoch_62.pth\n"
     ]
    },
    {
     "data": {
      "application/vnd.jupyter.widget-view+json": {
       "model_id": "61fa27b8ffaa4286a42a97fb86003c3f",
       "version_major": 2,
       "version_minor": 0
      },
      "text/plain": [
       "Epoch 66/10000:   0%|          | 0/416 [00:00<?, ?it/s]"
      ]
     },
     "metadata": {},
     "output_type": "display_data"
    },
    {
     "name": "stdout",
     "output_type": "stream",
     "text": [
      "Saved best model at epoch 66\n",
      "Deleted previous best model: output_two_action_224_early_stoppage\\checkpoints\\model_best_epoch_65.pth\n"
     ]
    },
    {
     "data": {
      "application/vnd.jupyter.widget-view+json": {
       "model_id": "2887c1d3b7c9477f8e5fb08f81a7d834",
       "version_major": 2,
       "version_minor": 0
      },
      "text/plain": [
       "Epoch 67/10000:   0%|          | 0/416 [00:00<?, ?it/s]"
      ]
     },
     "metadata": {},
     "output_type": "display_data"
    },
    {
     "name": "stdout",
     "output_type": "stream",
     "text": [
      "Saved best model at epoch 67\n",
      "Deleted previous best model: output_two_action_224_early_stoppage\\checkpoints\\model_best_epoch_66.pth\n"
     ]
    },
    {
     "data": {
      "application/vnd.jupyter.widget-view+json": {
       "model_id": "0cd55d2f54d64f66ba3ba03996fc4edb",
       "version_major": 2,
       "version_minor": 0
      },
      "text/plain": [
       "Epoch 68/10000:   0%|          | 0/416 [00:00<?, ?it/s]"
      ]
     },
     "metadata": {},
     "output_type": "display_data"
    },
    {
     "name": "stdout",
     "output_type": "stream",
     "text": [
      "Saved best model at epoch 68\n",
      "Deleted previous best model: output_two_action_224_early_stoppage\\checkpoints\\model_best_epoch_67.pth\n"
     ]
    },
    {
     "data": {
      "application/vnd.jupyter.widget-view+json": {
       "model_id": "338d8c14bc61471c94d89b05d6ef5013",
       "version_major": 2,
       "version_minor": 0
      },
      "text/plain": [
       "Epoch 69/10000:   0%|          | 0/416 [00:00<?, ?it/s]"
      ]
     },
     "metadata": {},
     "output_type": "display_data"
    },
    {
     "name": "stdout",
     "output_type": "stream",
     "text": [
      "Saved best model at epoch 69\n",
      "Deleted previous best model: output_two_action_224_early_stoppage\\checkpoints\\model_best_epoch_68.pth\n"
     ]
    },
    {
     "data": {
      "application/vnd.jupyter.widget-view+json": {
       "model_id": "6d2078df45654d9ca0b559fecad13549",
       "version_major": 2,
       "version_minor": 0
      },
      "text/plain": [
       "Epoch 70/10000:   0%|          | 0/416 [00:00<?, ?it/s]"
      ]
     },
     "metadata": {},
     "output_type": "display_data"
    },
    {
     "name": "stdout",
     "output_type": "stream",
     "text": [
      "Saved best model at epoch 70\n",
      "Deleted previous best model: output_two_action_224_early_stoppage\\checkpoints\\model_best_epoch_69.pth\n"
     ]
    },
    {
     "data": {
      "application/vnd.jupyter.widget-view+json": {
       "model_id": "51319a5826024caca4d15b4d4334b129",
       "version_major": 2,
       "version_minor": 0
      },
      "text/plain": [
       "Epoch 71/10000:   0%|          | 0/416 [00:00<?, ?it/s]"
      ]
     },
     "metadata": {},
     "output_type": "display_data"
    },
    {
     "name": "stdout",
     "output_type": "stream",
     "text": [
      "Saved best model at epoch 71\n",
      "Deleted previous best model: output_two_action_224_early_stoppage\\checkpoints\\model_best_epoch_70.pth\n"
     ]
    },
    {
     "data": {
      "application/vnd.jupyter.widget-view+json": {
       "model_id": "a1125204e5ed46bb8bcb4ff810406453",
       "version_major": 2,
       "version_minor": 0
      },
      "text/plain": [
       "Epoch 72/10000:   0%|          | 0/416 [00:00<?, ?it/s]"
      ]
     },
     "metadata": {},
     "output_type": "display_data"
    },
    {
     "data": {
      "application/vnd.jupyter.widget-view+json": {
       "model_id": "fe16077fa9d04948aa2f74cd3bfc6b7c",
       "version_major": 2,
       "version_minor": 0
      },
      "text/plain": [
       "Epoch 73/10000:   0%|          | 0/416 [00:00<?, ?it/s]"
      ]
     },
     "metadata": {},
     "output_type": "display_data"
    },
    {
     "name": "stdout",
     "output_type": "stream",
     "text": [
      "Saved best model at epoch 73\n",
      "Deleted previous best model: output_two_action_224_early_stoppage\\checkpoints\\model_best_epoch_71.pth\n"
     ]
    },
    {
     "data": {
      "application/vnd.jupyter.widget-view+json": {
       "model_id": "285ad0004e36463f90eb15ea276fd76c",
       "version_major": 2,
       "version_minor": 0
      },
      "text/plain": [
       "Epoch 74/10000:   0%|          | 0/416 [00:00<?, ?it/s]"
      ]
     },
     "metadata": {},
     "output_type": "display_data"
    },
    {
     "name": "stdout",
     "output_type": "stream",
     "text": [
      "Saved best model at epoch 74\n",
      "Deleted previous best model: output_two_action_224_early_stoppage\\checkpoints\\model_best_epoch_73.pth\n"
     ]
    },
    {
     "data": {
      "application/vnd.jupyter.widget-view+json": {
       "model_id": "7829f44512b943aca119b6f0833db34c",
       "version_major": 2,
       "version_minor": 0
      },
      "text/plain": [
       "Epoch 75/10000:   0%|          | 0/416 [00:00<?, ?it/s]"
      ]
     },
     "metadata": {},
     "output_type": "display_data"
    },
    {
     "data": {
      "application/vnd.jupyter.widget-view+json": {
       "model_id": "ac82498476924cff9cb28100b258ea0d",
       "version_major": 2,
       "version_minor": 0
      },
      "text/plain": [
       "Epoch 76/10000:   0%|          | 0/416 [00:00<?, ?it/s]"
      ]
     },
     "metadata": {},
     "output_type": "display_data"
    },
    {
     "data": {
      "application/vnd.jupyter.widget-view+json": {
       "model_id": "8d8af589039b47babc3257e8afeec593",
       "version_major": 2,
       "version_minor": 0
      },
      "text/plain": [
       "Epoch 77/10000:   0%|          | 0/416 [00:00<?, ?it/s]"
      ]
     },
     "metadata": {},
     "output_type": "display_data"
    },
    {
     "data": {
      "application/vnd.jupyter.widget-view+json": {
       "model_id": "a4227b99072140a28428f3c4e87f6e0f",
       "version_major": 2,
       "version_minor": 0
      },
      "text/plain": [
       "Epoch 78/10000:   0%|          | 0/416 [00:00<?, ?it/s]"
      ]
     },
     "metadata": {},
     "output_type": "display_data"
    },
    {
     "data": {
      "application/vnd.jupyter.widget-view+json": {
       "model_id": "cdbe0276e0e14bbe9b20be45555d9acf",
       "version_major": 2,
       "version_minor": 0
      },
      "text/plain": [
       "Epoch 79/10000:   0%|          | 0/416 [00:00<?, ?it/s]"
      ]
     },
     "metadata": {},
     "output_type": "display_data"
    },
    {
     "data": {
      "application/vnd.jupyter.widget-view+json": {
       "model_id": "7109f435c36e40ffa988225e517a13f3",
       "version_major": 2,
       "version_minor": 0
      },
      "text/plain": [
       "Epoch 80/10000:   0%|          | 0/416 [00:00<?, ?it/s]"
      ]
     },
     "metadata": {},
     "output_type": "display_data"
    },
    {
     "name": "stdout",
     "output_type": "stream",
     "text": [
      "Saved best model at epoch 80\n",
      "Deleted previous best model: output_two_action_224_early_stoppage\\checkpoints\\model_best_epoch_74.pth\n"
     ]
    },
    {
     "data": {
      "application/vnd.jupyter.widget-view+json": {
       "model_id": "0a2bfdba635346479515fc940a6f5602",
       "version_major": 2,
       "version_minor": 0
      },
      "text/plain": [
       "Epoch 81/10000:   0%|          | 0/416 [00:00<?, ?it/s]"
      ]
     },
     "metadata": {},
     "output_type": "display_data"
    },
    {
     "name": "stdout",
     "output_type": "stream",
     "text": [
      "Saved best model at epoch 81\n",
      "Deleted previous best model: output_two_action_224_early_stoppage\\checkpoints\\model_best_epoch_80.pth\n"
     ]
    },
    {
     "data": {
      "application/vnd.jupyter.widget-view+json": {
       "model_id": "c821a574964c474daad2c6b873f9545c",
       "version_major": 2,
       "version_minor": 0
      },
      "text/plain": [
       "Epoch 82/10000:   0%|          | 0/416 [00:00<?, ?it/s]"
      ]
     },
     "metadata": {},
     "output_type": "display_data"
    },
    {
     "data": {
      "application/vnd.jupyter.widget-view+json": {
       "model_id": "64411f80509f4c92952fac19a26d7d2d",
       "version_major": 2,
       "version_minor": 0
      },
      "text/plain": [
       "Epoch 83/10000:   0%|          | 0/416 [00:00<?, ?it/s]"
      ]
     },
     "metadata": {},
     "output_type": "display_data"
    },
    {
     "data": {
      "application/vnd.jupyter.widget-view+json": {
       "model_id": "ef571881469d46728fa273821984cd8e",
       "version_major": 2,
       "version_minor": 0
      },
      "text/plain": [
       "Epoch 84/10000:   0%|          | 0/416 [00:00<?, ?it/s]"
      ]
     },
     "metadata": {},
     "output_type": "display_data"
    },
    {
     "data": {
      "application/vnd.jupyter.widget-view+json": {
       "model_id": "9774d7dc663e47ca866022896d68ff13",
       "version_major": 2,
       "version_minor": 0
      },
      "text/plain": [
       "Epoch 85/10000:   0%|          | 0/416 [00:00<?, ?it/s]"
      ]
     },
     "metadata": {},
     "output_type": "display_data"
    },
    {
     "name": "stdout",
     "output_type": "stream",
     "text": [
      "Saved best model at epoch 85\n",
      "Deleted previous best model: output_two_action_224_early_stoppage\\checkpoints\\model_best_epoch_81.pth\n"
     ]
    },
    {
     "data": {
      "application/vnd.jupyter.widget-view+json": {
       "model_id": "3782b1a352b3409487521d360ede711d",
       "version_major": 2,
       "version_minor": 0
      },
      "text/plain": [
       "Epoch 86/10000:   0%|          | 0/416 [00:00<?, ?it/s]"
      ]
     },
     "metadata": {},
     "output_type": "display_data"
    },
    {
     "name": "stdout",
     "output_type": "stream",
     "text": [
      "Saved best model at epoch 86\n",
      "Deleted previous best model: output_two_action_224_early_stoppage\\checkpoints\\model_best_epoch_85.pth\n"
     ]
    },
    {
     "data": {
      "application/vnd.jupyter.widget-view+json": {
       "model_id": "8df02a0e2b5c43f1b2e6bf9a9c6939bf",
       "version_major": 2,
       "version_minor": 0
      },
      "text/plain": [
       "Epoch 87/10000:   0%|          | 0/416 [00:00<?, ?it/s]"
      ]
     },
     "metadata": {},
     "output_type": "display_data"
    },
    {
     "name": "stdout",
     "output_type": "stream",
     "text": [
      "Saved best model at epoch 87\n",
      "Deleted previous best model: output_two_action_224_early_stoppage\\checkpoints\\model_best_epoch_86.pth\n"
     ]
    },
    {
     "data": {
      "application/vnd.jupyter.widget-view+json": {
       "model_id": "8ec3dfc03d6143fda74ee5bfdf488984",
       "version_major": 2,
       "version_minor": 0
      },
      "text/plain": [
       "Epoch 88/10000:   0%|          | 0/416 [00:00<?, ?it/s]"
      ]
     },
     "metadata": {},
     "output_type": "display_data"
    },
    {
     "name": "stdout",
     "output_type": "stream",
     "text": [
      "Saved best model at epoch 88\n",
      "Deleted previous best model: output_two_action_224_early_stoppage\\checkpoints\\model_best_epoch_87.pth\n"
     ]
    },
    {
     "data": {
      "application/vnd.jupyter.widget-view+json": {
       "model_id": "a745a29446d94dd29e8c35c852c37813",
       "version_major": 2,
       "version_minor": 0
      },
      "text/plain": [
       "Epoch 89/10000:   0%|          | 0/416 [00:00<?, ?it/s]"
      ]
     },
     "metadata": {},
     "output_type": "display_data"
    },
    {
     "name": "stdout",
     "output_type": "stream",
     "text": [
      "Saved best model at epoch 89\n",
      "Deleted previous best model: output_two_action_224_early_stoppage\\checkpoints\\model_best_epoch_88.pth\n"
     ]
    },
    {
     "data": {
      "application/vnd.jupyter.widget-view+json": {
       "model_id": "19b96163600b42379b5dc2704e7251a8",
       "version_major": 2,
       "version_minor": 0
      },
      "text/plain": [
       "Epoch 90/10000:   0%|          | 0/416 [00:00<?, ?it/s]"
      ]
     },
     "metadata": {},
     "output_type": "display_data"
    },
    {
     "name": "stdout",
     "output_type": "stream",
     "text": [
      "Saved best model at epoch 90\n",
      "Deleted previous best model: output_two_action_224_early_stoppage\\checkpoints\\model_best_epoch_89.pth\n"
     ]
    },
    {
     "data": {
      "application/vnd.jupyter.widget-view+json": {
       "model_id": "4731f6d37eaa4bcd8519e241e8944295",
       "version_major": 2,
       "version_minor": 0
      },
      "text/plain": [
       "Epoch 91/10000:   0%|          | 0/416 [00:00<?, ?it/s]"
      ]
     },
     "metadata": {},
     "output_type": "display_data"
    },
    {
     "name": "stdout",
     "output_type": "stream",
     "text": [
      "Saved best model at epoch 91\n",
      "Deleted previous best model: output_two_action_224_early_stoppage\\checkpoints\\model_best_epoch_90.pth\n"
     ]
    },
    {
     "data": {
      "application/vnd.jupyter.widget-view+json": {
       "model_id": "0f9797a458814799ab30f3d1d9d37eaa",
       "version_major": 2,
       "version_minor": 0
      },
      "text/plain": [
       "Epoch 92/10000:   0%|          | 0/416 [00:00<?, ?it/s]"
      ]
     },
     "metadata": {},
     "output_type": "display_data"
    },
    {
     "name": "stdout",
     "output_type": "stream",
     "text": [
      "Saved best model at epoch 92\n",
      "Deleted previous best model: output_two_action_224_early_stoppage\\checkpoints\\model_best_epoch_91.pth\n"
     ]
    },
    {
     "data": {
      "application/vnd.jupyter.widget-view+json": {
       "model_id": "cdd90e48e6c546cdab1b33b686855118",
       "version_major": 2,
       "version_minor": 0
      },
      "text/plain": [
       "Epoch 93/10000:   0%|          | 0/416 [00:00<?, ?it/s]"
      ]
     },
     "metadata": {},
     "output_type": "display_data"
    },
    {
     "data": {
      "application/vnd.jupyter.widget-view+json": {
       "model_id": "8680f281ee7f4948a75381b69e1d9af3",
       "version_major": 2,
       "version_minor": 0
      },
      "text/plain": [
       "Epoch 94/10000:   0%|          | 0/416 [00:00<?, ?it/s]"
      ]
     },
     "metadata": {},
     "output_type": "display_data"
    },
    {
     "name": "stdout",
     "output_type": "stream",
     "text": [
      "Saved best model at epoch 94\n",
      "Deleted previous best model: output_two_action_224_early_stoppage\\checkpoints\\model_best_epoch_92.pth\n"
     ]
    },
    {
     "data": {
      "application/vnd.jupyter.widget-view+json": {
       "model_id": "515bab2960ed4837885f69698f39e2ee",
       "version_major": 2,
       "version_minor": 0
      },
      "text/plain": [
       "Epoch 95/10000:   0%|          | 0/416 [00:00<?, ?it/s]"
      ]
     },
     "metadata": {},
     "output_type": "display_data"
    },
    {
     "data": {
      "application/vnd.jupyter.widget-view+json": {
       "model_id": "c6ad0045e88647359cac76c18ef34be7",
       "version_major": 2,
       "version_minor": 0
      },
      "text/plain": [
       "Epoch 96/10000:   0%|          | 0/416 [00:00<?, ?it/s]"
      ]
     },
     "metadata": {},
     "output_type": "display_data"
    },
    {
     "data": {
      "application/vnd.jupyter.widget-view+json": {
       "model_id": "ee626a1ca6384a8ea943aec16f46803b",
       "version_major": 2,
       "version_minor": 0
      },
      "text/plain": [
       "Epoch 97/10000:   0%|          | 0/416 [00:00<?, ?it/s]"
      ]
     },
     "metadata": {},
     "output_type": "display_data"
    },
    {
     "data": {
      "application/vnd.jupyter.widget-view+json": {
       "model_id": "7f480b5d8e6647a7a0739dfd9a62f9c2",
       "version_major": 2,
       "version_minor": 0
      },
      "text/plain": [
       "Epoch 98/10000:   0%|          | 0/416 [00:00<?, ?it/s]"
      ]
     },
     "metadata": {},
     "output_type": "display_data"
    },
    {
     "data": {
      "application/vnd.jupyter.widget-view+json": {
       "model_id": "deadff8199754f92a5e7eb2108c13541",
       "version_major": 2,
       "version_minor": 0
      },
      "text/plain": [
       "Epoch 99/10000:   0%|          | 0/416 [00:00<?, ?it/s]"
      ]
     },
     "metadata": {},
     "output_type": "display_data"
    },
    {
     "data": {
      "application/vnd.jupyter.widget-view+json": {
       "model_id": "e10d4cad0acb43e29100630fb5becf8c",
       "version_major": 2,
       "version_minor": 0
      },
      "text/plain": [
       "Epoch 100/10000:   0%|          | 0/416 [00:00<?, ?it/s]"
      ]
     },
     "metadata": {},
     "output_type": "display_data"
    },
    {
     "name": "stdout",
     "output_type": "stream",
     "text": [
      "Saved sample image at epoch 100\n",
      "Epoch 100: Loss = 0.0059, Time = 0:44:38.439659\n"
     ]
    },
    {
     "data": {
      "application/vnd.jupyter.widget-view+json": {
       "model_id": "0ea6df90f2bf4e0ba049127db3c4c052",
       "version_major": 2,
       "version_minor": 0
      },
      "text/plain": [
       "Epoch 101/10000:   0%|          | 0/416 [00:00<?, ?it/s]"
      ]
     },
     "metadata": {},
     "output_type": "display_data"
    },
    {
     "name": "stdout",
     "output_type": "stream",
     "text": [
      "Saved best model at epoch 101\n",
      "Deleted previous best model: output_two_action_224_early_stoppage\\checkpoints\\model_best_epoch_94.pth\n"
     ]
    },
    {
     "data": {
      "application/vnd.jupyter.widget-view+json": {
       "model_id": "e5cdda834f2542278373a144ffac6a78",
       "version_major": 2,
       "version_minor": 0
      },
      "text/plain": [
       "Epoch 102/10000:   0%|          | 0/416 [00:00<?, ?it/s]"
      ]
     },
     "metadata": {},
     "output_type": "display_data"
    },
    {
     "data": {
      "application/vnd.jupyter.widget-view+json": {
       "model_id": "5843ac43ccc5403ea522c24f10542dfe",
       "version_major": 2,
       "version_minor": 0
      },
      "text/plain": [
       "Epoch 103/10000:   0%|          | 0/416 [00:00<?, ?it/s]"
      ]
     },
     "metadata": {},
     "output_type": "display_data"
    },
    {
     "name": "stdout",
     "output_type": "stream",
     "text": [
      "Saved best model at epoch 103\n",
      "Deleted previous best model: output_two_action_224_early_stoppage\\checkpoints\\model_best_epoch_101.pth\n"
     ]
    },
    {
     "data": {
      "application/vnd.jupyter.widget-view+json": {
       "model_id": "d7e0edf657a9441585891ff128d1414a",
       "version_major": 2,
       "version_minor": 0
      },
      "text/plain": [
       "Epoch 104/10000:   0%|          | 0/416 [00:00<?, ?it/s]"
      ]
     },
     "metadata": {},
     "output_type": "display_data"
    },
    {
     "name": "stdout",
     "output_type": "stream",
     "text": [
      "Saved best model at epoch 104\n",
      "Deleted previous best model: output_two_action_224_early_stoppage\\checkpoints\\model_best_epoch_103.pth\n"
     ]
    },
    {
     "data": {
      "application/vnd.jupyter.widget-view+json": {
       "model_id": "341883c3a2ea411f9600052ce62e6ece",
       "version_major": 2,
       "version_minor": 0
      },
      "text/plain": [
       "Epoch 105/10000:   0%|          | 0/416 [00:00<?, ?it/s]"
      ]
     },
     "metadata": {},
     "output_type": "display_data"
    },
    {
     "name": "stdout",
     "output_type": "stream",
     "text": [
      "Saved best model at epoch 105\n",
      "Deleted previous best model: output_two_action_224_early_stoppage\\checkpoints\\model_best_epoch_104.pth\n"
     ]
    },
    {
     "data": {
      "application/vnd.jupyter.widget-view+json": {
       "model_id": "fa9f1659f29e49ed9b08d29838c0df21",
       "version_major": 2,
       "version_minor": 0
      },
      "text/plain": [
       "Epoch 106/10000:   0%|          | 0/416 [00:00<?, ?it/s]"
      ]
     },
     "metadata": {},
     "output_type": "display_data"
    },
    {
     "name": "stdout",
     "output_type": "stream",
     "text": [
      "Saved best model at epoch 106\n",
      "Deleted previous best model: output_two_action_224_early_stoppage\\checkpoints\\model_best_epoch_105.pth\n"
     ]
    },
    {
     "data": {
      "application/vnd.jupyter.widget-view+json": {
       "model_id": "22dacc0201c5447083a2892bd853db55",
       "version_major": 2,
       "version_minor": 0
      },
      "text/plain": [
       "Epoch 107/10000:   0%|          | 0/416 [00:00<?, ?it/s]"
      ]
     },
     "metadata": {},
     "output_type": "display_data"
    },
    {
     "name": "stdout",
     "output_type": "stream",
     "text": [
      "Saved best model at epoch 107\n",
      "Deleted previous best model: output_two_action_224_early_stoppage\\checkpoints\\model_best_epoch_106.pth\n"
     ]
    },
    {
     "data": {
      "application/vnd.jupyter.widget-view+json": {
       "model_id": "df77d421fa6d40c1bcdb85fb6fc15a6a",
       "version_major": 2,
       "version_minor": 0
      },
      "text/plain": [
       "Epoch 108/10000:   0%|          | 0/416 [00:00<?, ?it/s]"
      ]
     },
     "metadata": {},
     "output_type": "display_data"
    },
    {
     "data": {
      "application/vnd.jupyter.widget-view+json": {
       "model_id": "4ea793daaea0427eafb678c4643be646",
       "version_major": 2,
       "version_minor": 0
      },
      "text/plain": [
       "Epoch 109/10000:   0%|          | 0/416 [00:00<?, ?it/s]"
      ]
     },
     "metadata": {},
     "output_type": "display_data"
    },
    {
     "name": "stdout",
     "output_type": "stream",
     "text": [
      "Saved best model at epoch 109\n",
      "Deleted previous best model: output_two_action_224_early_stoppage\\checkpoints\\model_best_epoch_107.pth\n"
     ]
    },
    {
     "data": {
      "application/vnd.jupyter.widget-view+json": {
       "model_id": "26e32571158c4f45bf03d41a83f2c091",
       "version_major": 2,
       "version_minor": 0
      },
      "text/plain": [
       "Epoch 110/10000:   0%|          | 0/416 [00:00<?, ?it/s]"
      ]
     },
     "metadata": {},
     "output_type": "display_data"
    },
    {
     "data": {
      "application/vnd.jupyter.widget-view+json": {
       "model_id": "e859880147f442e5a1b73a6ecaf32ca1",
       "version_major": 2,
       "version_minor": 0
      },
      "text/plain": [
       "Epoch 111/10000:   0%|          | 0/416 [00:00<?, ?it/s]"
      ]
     },
     "metadata": {},
     "output_type": "display_data"
    },
    {
     "data": {
      "application/vnd.jupyter.widget-view+json": {
       "model_id": "331c20686acd4735813d3cf26f5671b0",
       "version_major": 2,
       "version_minor": 0
      },
      "text/plain": [
       "Epoch 112/10000:   0%|          | 0/416 [00:00<?, ?it/s]"
      ]
     },
     "metadata": {},
     "output_type": "display_data"
    },
    {
     "name": "stdout",
     "output_type": "stream",
     "text": [
      "Saved best model at epoch 112\n",
      "Deleted previous best model: output_two_action_224_early_stoppage\\checkpoints\\model_best_epoch_109.pth\n"
     ]
    },
    {
     "data": {
      "application/vnd.jupyter.widget-view+json": {
       "model_id": "fb9843387b7345d58d07437ae8cce5a8",
       "version_major": 2,
       "version_minor": 0
      },
      "text/plain": [
       "Epoch 113/10000:   0%|          | 0/416 [00:00<?, ?it/s]"
      ]
     },
     "metadata": {},
     "output_type": "display_data"
    },
    {
     "name": "stdout",
     "output_type": "stream",
     "text": [
      "Saved best model at epoch 113\n",
      "Deleted previous best model: output_two_action_224_early_stoppage\\checkpoints\\model_best_epoch_112.pth\n"
     ]
    },
    {
     "data": {
      "application/vnd.jupyter.widget-view+json": {
       "model_id": "e6c7da6d51104d75b98d6d53bba9c586",
       "version_major": 2,
       "version_minor": 0
      },
      "text/plain": [
       "Epoch 114/10000:   0%|          | 0/416 [00:00<?, ?it/s]"
      ]
     },
     "metadata": {},
     "output_type": "display_data"
    },
    {
     "name": "stdout",
     "output_type": "stream",
     "text": [
      "Saved best model at epoch 114\n",
      "Deleted previous best model: output_two_action_224_early_stoppage\\checkpoints\\model_best_epoch_113.pth\n"
     ]
    },
    {
     "data": {
      "application/vnd.jupyter.widget-view+json": {
       "model_id": "501b2151791a45f1b3ca0008adb2a6b3",
       "version_major": 2,
       "version_minor": 0
      },
      "text/plain": [
       "Epoch 115/10000:   0%|          | 0/416 [00:00<?, ?it/s]"
      ]
     },
     "metadata": {},
     "output_type": "display_data"
    },
    {
     "data": {
      "application/vnd.jupyter.widget-view+json": {
       "model_id": "4dada7e7e5eb4fe2bfcd0436398e33e9",
       "version_major": 2,
       "version_minor": 0
      },
      "text/plain": [
       "Epoch 116/10000:   0%|          | 0/416 [00:00<?, ?it/s]"
      ]
     },
     "metadata": {},
     "output_type": "display_data"
    },
    {
     "name": "stdout",
     "output_type": "stream",
     "text": [
      "Saved best model at epoch 116\n",
      "Deleted previous best model: output_two_action_224_early_stoppage\\checkpoints\\model_best_epoch_114.pth\n"
     ]
    },
    {
     "data": {
      "application/vnd.jupyter.widget-view+json": {
       "model_id": "397c0c2749e14be3a1ca51534f875881",
       "version_major": 2,
       "version_minor": 0
      },
      "text/plain": [
       "Epoch 117/10000:   0%|          | 0/416 [00:00<?, ?it/s]"
      ]
     },
     "metadata": {},
     "output_type": "display_data"
    },
    {
     "name": "stdout",
     "output_type": "stream",
     "text": [
      "Saved best model at epoch 117\n",
      "Deleted previous best model: output_two_action_224_early_stoppage\\checkpoints\\model_best_epoch_116.pth\n"
     ]
    },
    {
     "data": {
      "application/vnd.jupyter.widget-view+json": {
       "model_id": "0d9c23f71ec64b2f95abf4f9c985b84a",
       "version_major": 2,
       "version_minor": 0
      },
      "text/plain": [
       "Epoch 118/10000:   0%|          | 0/416 [00:00<?, ?it/s]"
      ]
     },
     "metadata": {},
     "output_type": "display_data"
    },
    {
     "name": "stdout",
     "output_type": "stream",
     "text": [
      "Saved best model at epoch 118\n",
      "Deleted previous best model: output_two_action_224_early_stoppage\\checkpoints\\model_best_epoch_117.pth\n"
     ]
    },
    {
     "data": {
      "application/vnd.jupyter.widget-view+json": {
       "model_id": "96386688adfc4f56940d83d70cfcaad5",
       "version_major": 2,
       "version_minor": 0
      },
      "text/plain": [
       "Epoch 119/10000:   0%|          | 0/416 [00:00<?, ?it/s]"
      ]
     },
     "metadata": {},
     "output_type": "display_data"
    },
    {
     "name": "stdout",
     "output_type": "stream",
     "text": [
      "Saved best model at epoch 119\n",
      "Deleted previous best model: output_two_action_224_early_stoppage\\checkpoints\\model_best_epoch_118.pth\n"
     ]
    },
    {
     "data": {
      "application/vnd.jupyter.widget-view+json": {
       "model_id": "385a672215af4f9e8d2945fae7d3ca09",
       "version_major": 2,
       "version_minor": 0
      },
      "text/plain": [
       "Epoch 120/10000:   0%|          | 0/416 [00:00<?, ?it/s]"
      ]
     },
     "metadata": {},
     "output_type": "display_data"
    },
    {
     "name": "stdout",
     "output_type": "stream",
     "text": [
      "Saved best model at epoch 120\n",
      "Deleted previous best model: output_two_action_224_early_stoppage\\checkpoints\\model_best_epoch_119.pth\n"
     ]
    },
    {
     "data": {
      "application/vnd.jupyter.widget-view+json": {
       "model_id": "a568947ce61c414c9119c1a5d06300c0",
       "version_major": 2,
       "version_minor": 0
      },
      "text/plain": [
       "Epoch 121/10000:   0%|          | 0/416 [00:00<?, ?it/s]"
      ]
     },
     "metadata": {},
     "output_type": "display_data"
    },
    {
     "name": "stdout",
     "output_type": "stream",
     "text": [
      "Saved best model at epoch 121\n",
      "Deleted previous best model: output_two_action_224_early_stoppage\\checkpoints\\model_best_epoch_120.pth\n"
     ]
    },
    {
     "data": {
      "application/vnd.jupyter.widget-view+json": {
       "model_id": "cd351dc38b9c4377a210e067c47d5d8e",
       "version_major": 2,
       "version_minor": 0
      },
      "text/plain": [
       "Epoch 122/10000:   0%|          | 0/416 [00:00<?, ?it/s]"
      ]
     },
     "metadata": {},
     "output_type": "display_data"
    },
    {
     "data": {
      "application/vnd.jupyter.widget-view+json": {
       "model_id": "02a3be7bd24d415a9ebaae031ef5c7cf",
       "version_major": 2,
       "version_minor": 0
      },
      "text/plain": [
       "Epoch 123/10000:   0%|          | 0/416 [00:00<?, ?it/s]"
      ]
     },
     "metadata": {},
     "output_type": "display_data"
    },
    {
     "data": {
      "application/vnd.jupyter.widget-view+json": {
       "model_id": "fd1f6a2a985a4548a29a65daf6cf0f81",
       "version_major": 2,
       "version_minor": 0
      },
      "text/plain": [
       "Epoch 124/10000:   0%|          | 0/416 [00:00<?, ?it/s]"
      ]
     },
     "metadata": {},
     "output_type": "display_data"
    },
    {
     "data": {
      "application/vnd.jupyter.widget-view+json": {
       "model_id": "d96149c39ea742338dc15d131613da7c",
       "version_major": 2,
       "version_minor": 0
      },
      "text/plain": [
       "Epoch 125/10000:   0%|          | 0/416 [00:00<?, ?it/s]"
      ]
     },
     "metadata": {},
     "output_type": "display_data"
    },
    {
     "data": {
      "application/vnd.jupyter.widget-view+json": {
       "model_id": "678c0b101f774f8aa2177832a7216960",
       "version_major": 2,
       "version_minor": 0
      },
      "text/plain": [
       "Epoch 126/10000:   0%|          | 0/416 [00:00<?, ?it/s]"
      ]
     },
     "metadata": {},
     "output_type": "display_data"
    },
    {
     "data": {
      "application/vnd.jupyter.widget-view+json": {
       "model_id": "31e16384dbe2433aa0c80af3da1e1c87",
       "version_major": 2,
       "version_minor": 0
      },
      "text/plain": [
       "Epoch 127/10000:   0%|          | 0/416 [00:00<?, ?it/s]"
      ]
     },
     "metadata": {},
     "output_type": "display_data"
    },
    {
     "data": {
      "application/vnd.jupyter.widget-view+json": {
       "model_id": "2817d927792e484e9246a9547019c86e",
       "version_major": 2,
       "version_minor": 0
      },
      "text/plain": [
       "Epoch 128/10000:   0%|          | 0/416 [00:00<?, ?it/s]"
      ]
     },
     "metadata": {},
     "output_type": "display_data"
    },
    {
     "data": {
      "application/vnd.jupyter.widget-view+json": {
       "model_id": "1946be3022de461f82ba98801b31632e",
       "version_major": 2,
       "version_minor": 0
      },
      "text/plain": [
       "Epoch 129/10000:   0%|          | 0/416 [00:00<?, ?it/s]"
      ]
     },
     "metadata": {},
     "output_type": "display_data"
    },
    {
     "data": {
      "application/vnd.jupyter.widget-view+json": {
       "model_id": "27f18c5e169a445a8243f3a5d51adc00",
       "version_major": 2,
       "version_minor": 0
      },
      "text/plain": [
       "Epoch 130/10000:   0%|          | 0/416 [00:00<?, ?it/s]"
      ]
     },
     "metadata": {},
     "output_type": "display_data"
    },
    {
     "data": {
      "application/vnd.jupyter.widget-view+json": {
       "model_id": "91f116f402664287a8b90c66f112ed38",
       "version_major": 2,
       "version_minor": 0
      },
      "text/plain": [
       "Epoch 131/10000:   0%|          | 0/416 [00:00<?, ?it/s]"
      ]
     },
     "metadata": {},
     "output_type": "display_data"
    },
    {
     "data": {
      "application/vnd.jupyter.widget-view+json": {
       "model_id": "69be574d128749c59d68816a19f35419",
       "version_major": 2,
       "version_minor": 0
      },
      "text/plain": [
       "Epoch 132/10000:   0%|          | 0/416 [00:00<?, ?it/s]"
      ]
     },
     "metadata": {},
     "output_type": "display_data"
    },
    {
     "data": {
      "application/vnd.jupyter.widget-view+json": {
       "model_id": "5f375d40e182462495841e1ebd33e4a9",
       "version_major": 2,
       "version_minor": 0
      },
      "text/plain": [
       "Epoch 133/10000:   0%|          | 0/416 [00:00<?, ?it/s]"
      ]
     },
     "metadata": {},
     "output_type": "display_data"
    },
    {
     "data": {
      "application/vnd.jupyter.widget-view+json": {
       "model_id": "69fb0efb830b49b083ba78de338291fc",
       "version_major": 2,
       "version_minor": 0
      },
      "text/plain": [
       "Epoch 134/10000:   0%|          | 0/416 [00:00<?, ?it/s]"
      ]
     },
     "metadata": {},
     "output_type": "display_data"
    },
    {
     "name": "stdout",
     "output_type": "stream",
     "text": [
      "Saved best model at epoch 134\n",
      "Deleted previous best model: output_two_action_224_early_stoppage\\checkpoints\\model_best_epoch_121.pth\n"
     ]
    },
    {
     "data": {
      "application/vnd.jupyter.widget-view+json": {
       "model_id": "1e8c876a034b466abb77cf578b898489",
       "version_major": 2,
       "version_minor": 0
      },
      "text/plain": [
       "Epoch 135/10000:   0%|          | 0/416 [00:00<?, ?it/s]"
      ]
     },
     "metadata": {},
     "output_type": "display_data"
    },
    {
     "name": "stdout",
     "output_type": "stream",
     "text": [
      "Saved best model at epoch 135\n",
      "Deleted previous best model: output_two_action_224_early_stoppage\\checkpoints\\model_best_epoch_134.pth\n"
     ]
    },
    {
     "data": {
      "application/vnd.jupyter.widget-view+json": {
       "model_id": "2e22750786e24451b64801f63d0359f3",
       "version_major": 2,
       "version_minor": 0
      },
      "text/plain": [
       "Epoch 136/10000:   0%|          | 0/416 [00:00<?, ?it/s]"
      ]
     },
     "metadata": {},
     "output_type": "display_data"
    },
    {
     "name": "stdout",
     "output_type": "stream",
     "text": [
      "Saved best model at epoch 136\n",
      "Deleted previous best model: output_two_action_224_early_stoppage\\checkpoints\\model_best_epoch_135.pth\n"
     ]
    },
    {
     "data": {
      "application/vnd.jupyter.widget-view+json": {
       "model_id": "513260c1d0e74c398c5ffb48a043aabf",
       "version_major": 2,
       "version_minor": 0
      },
      "text/plain": [
       "Epoch 137/10000:   0%|          | 0/416 [00:00<?, ?it/s]"
      ]
     },
     "metadata": {},
     "output_type": "display_data"
    },
    {
     "name": "stdout",
     "output_type": "stream",
     "text": [
      "Saved best model at epoch 137\n",
      "Deleted previous best model: output_two_action_224_early_stoppage\\checkpoints\\model_best_epoch_136.pth\n"
     ]
    },
    {
     "data": {
      "application/vnd.jupyter.widget-view+json": {
       "model_id": "43dc70e343a64127b26a905f2327cbd8",
       "version_major": 2,
       "version_minor": 0
      },
      "text/plain": [
       "Epoch 138/10000:   0%|          | 0/416 [00:00<?, ?it/s]"
      ]
     },
     "metadata": {},
     "output_type": "display_data"
    },
    {
     "name": "stdout",
     "output_type": "stream",
     "text": [
      "Saved best model at epoch 138\n",
      "Deleted previous best model: output_two_action_224_early_stoppage\\checkpoints\\model_best_epoch_137.pth\n"
     ]
    },
    {
     "data": {
      "application/vnd.jupyter.widget-view+json": {
       "model_id": "8d2bf576d6e044b48db7f7162d3514a1",
       "version_major": 2,
       "version_minor": 0
      },
      "text/plain": [
       "Epoch 139/10000:   0%|          | 0/416 [00:00<?, ?it/s]"
      ]
     },
     "metadata": {},
     "output_type": "display_data"
    },
    {
     "name": "stdout",
     "output_type": "stream",
     "text": [
      "Saved best model at epoch 139\n",
      "Deleted previous best model: output_two_action_224_early_stoppage\\checkpoints\\model_best_epoch_138.pth\n"
     ]
    },
    {
     "data": {
      "application/vnd.jupyter.widget-view+json": {
       "model_id": "2ff9c780b7ee4e449e66d5cb3e4d432d",
       "version_major": 2,
       "version_minor": 0
      },
      "text/plain": [
       "Epoch 140/10000:   0%|          | 0/416 [00:00<?, ?it/s]"
      ]
     },
     "metadata": {},
     "output_type": "display_data"
    },
    {
     "name": "stdout",
     "output_type": "stream",
     "text": [
      "Saved best model at epoch 140\n",
      "Deleted previous best model: output_two_action_224_early_stoppage\\checkpoints\\model_best_epoch_139.pth\n"
     ]
    },
    {
     "data": {
      "application/vnd.jupyter.widget-view+json": {
       "model_id": "5034c99c6d8944d5b8ff6cbba8c4e4b3",
       "version_major": 2,
       "version_minor": 0
      },
      "text/plain": [
       "Epoch 141/10000:   0%|          | 0/416 [00:00<?, ?it/s]"
      ]
     },
     "metadata": {},
     "output_type": "display_data"
    },
    {
     "data": {
      "application/vnd.jupyter.widget-view+json": {
       "model_id": "33a9aae9960d464e82bd2d437735d9d0",
       "version_major": 2,
       "version_minor": 0
      },
      "text/plain": [
       "Epoch 142/10000:   0%|          | 0/416 [00:00<?, ?it/s]"
      ]
     },
     "metadata": {},
     "output_type": "display_data"
    },
    {
     "data": {
      "application/vnd.jupyter.widget-view+json": {
       "model_id": "76d846698a1c495e80f24c99debce654",
       "version_major": 2,
       "version_minor": 0
      },
      "text/plain": [
       "Epoch 143/10000:   0%|          | 0/416 [00:00<?, ?it/s]"
      ]
     },
     "metadata": {},
     "output_type": "display_data"
    },
    {
     "data": {
      "application/vnd.jupyter.widget-view+json": {
       "model_id": "6aa66687c3f142fab2f2b64721092aab",
       "version_major": 2,
       "version_minor": 0
      },
      "text/plain": [
       "Epoch 144/10000:   0%|          | 0/416 [00:00<?, ?it/s]"
      ]
     },
     "metadata": {},
     "output_type": "display_data"
    },
    {
     "data": {
      "application/vnd.jupyter.widget-view+json": {
       "model_id": "a8e2d54c449640488cb7b1f372332f25",
       "version_major": 2,
       "version_minor": 0
      },
      "text/plain": [
       "Epoch 145/10000:   0%|          | 0/416 [00:00<?, ?it/s]"
      ]
     },
     "metadata": {},
     "output_type": "display_data"
    },
    {
     "data": {
      "application/vnd.jupyter.widget-view+json": {
       "model_id": "f4bece8c0eb8476d9164f6e5b9018f8a",
       "version_major": 2,
       "version_minor": 0
      },
      "text/plain": [
       "Epoch 146/10000:   0%|          | 0/416 [00:00<?, ?it/s]"
      ]
     },
     "metadata": {},
     "output_type": "display_data"
    },
    {
     "data": {
      "application/vnd.jupyter.widget-view+json": {
       "model_id": "4340c11281d04fefac9f3b9f0de9c979",
       "version_major": 2,
       "version_minor": 0
      },
      "text/plain": [
       "Epoch 147/10000:   0%|          | 0/416 [00:00<?, ?it/s]"
      ]
     },
     "metadata": {},
     "output_type": "display_data"
    },
    {
     "data": {
      "application/vnd.jupyter.widget-view+json": {
       "model_id": "d929d7b9efc74d11b7944baf088c27e4",
       "version_major": 2,
       "version_minor": 0
      },
      "text/plain": [
       "Epoch 148/10000:   0%|          | 0/416 [00:00<?, ?it/s]"
      ]
     },
     "metadata": {},
     "output_type": "display_data"
    },
    {
     "data": {
      "application/vnd.jupyter.widget-view+json": {
       "model_id": "bad23f372ce94fdc89cb6dc2492ade88",
       "version_major": 2,
       "version_minor": 0
      },
      "text/plain": [
       "Epoch 149/10000:   0%|          | 0/416 [00:00<?, ?it/s]"
      ]
     },
     "metadata": {},
     "output_type": "display_data"
    },
    {
     "data": {
      "application/vnd.jupyter.widget-view+json": {
       "model_id": "4b8ae8c359d64e81b238ac2b588f566e",
       "version_major": 2,
       "version_minor": 0
      },
      "text/plain": [
       "Epoch 150/10000:   0%|          | 0/416 [00:00<?, ?it/s]"
      ]
     },
     "metadata": {},
     "output_type": "display_data"
    },
    {
     "name": "stdout",
     "output_type": "stream",
     "text": [
      "Saved best model at epoch 150\n",
      "Deleted previous best model: output_two_action_224_early_stoppage\\checkpoints\\model_best_epoch_140.pth\n"
     ]
    },
    {
     "data": {
      "application/vnd.jupyter.widget-view+json": {
       "model_id": "24019b88042644ceb7d2833f6adcaadd",
       "version_major": 2,
       "version_minor": 0
      },
      "text/plain": [
       "Epoch 151/10000:   0%|          | 0/416 [00:00<?, ?it/s]"
      ]
     },
     "metadata": {},
     "output_type": "display_data"
    },
    {
     "name": "stdout",
     "output_type": "stream",
     "text": [
      "Saved best model at epoch 151\n",
      "Deleted previous best model: output_two_action_224_early_stoppage\\checkpoints\\model_best_epoch_150.pth\n"
     ]
    },
    {
     "data": {
      "application/vnd.jupyter.widget-view+json": {
       "model_id": "545b48d9437d49d7b88c1c20be719c28",
       "version_major": 2,
       "version_minor": 0
      },
      "text/plain": [
       "Epoch 152/10000:   0%|          | 0/416 [00:00<?, ?it/s]"
      ]
     },
     "metadata": {},
     "output_type": "display_data"
    },
    {
     "name": "stdout",
     "output_type": "stream",
     "text": [
      "Saved best model at epoch 152\n",
      "Deleted previous best model: output_two_action_224_early_stoppage\\checkpoints\\model_best_epoch_151.pth\n"
     ]
    },
    {
     "data": {
      "application/vnd.jupyter.widget-view+json": {
       "model_id": "111d6ea22c444c688d065a2ac53e39d9",
       "version_major": 2,
       "version_minor": 0
      },
      "text/plain": [
       "Epoch 153/10000:   0%|          | 0/416 [00:00<?, ?it/s]"
      ]
     },
     "metadata": {},
     "output_type": "display_data"
    },
    {
     "name": "stdout",
     "output_type": "stream",
     "text": [
      "Saved best model at epoch 153\n",
      "Deleted previous best model: output_two_action_224_early_stoppage\\checkpoints\\model_best_epoch_152.pth\n"
     ]
    },
    {
     "data": {
      "application/vnd.jupyter.widget-view+json": {
       "model_id": "2f3b9d71c1f44546966d7bd1c398f553",
       "version_major": 2,
       "version_minor": 0
      },
      "text/plain": [
       "Epoch 154/10000:   0%|          | 0/416 [00:00<?, ?it/s]"
      ]
     },
     "metadata": {},
     "output_type": "display_data"
    },
    {
     "name": "stdout",
     "output_type": "stream",
     "text": [
      "Saved best model at epoch 154\n",
      "Deleted previous best model: output_two_action_224_early_stoppage\\checkpoints\\model_best_epoch_153.pth\n"
     ]
    },
    {
     "data": {
      "application/vnd.jupyter.widget-view+json": {
       "model_id": "f98b05c2820448d585ec9ed769f27134",
       "version_major": 2,
       "version_minor": 0
      },
      "text/plain": [
       "Epoch 155/10000:   0%|          | 0/416 [00:00<?, ?it/s]"
      ]
     },
     "metadata": {},
     "output_type": "display_data"
    },
    {
     "name": "stdout",
     "output_type": "stream",
     "text": [
      "Saved best model at epoch 155\n",
      "Deleted previous best model: output_two_action_224_early_stoppage\\checkpoints\\model_best_epoch_154.pth\n"
     ]
    },
    {
     "data": {
      "application/vnd.jupyter.widget-view+json": {
       "model_id": "9e1b03bb64dc4273a0ee458b2e3acb2f",
       "version_major": 2,
       "version_minor": 0
      },
      "text/plain": [
       "Epoch 156/10000:   0%|          | 0/416 [00:00<?, ?it/s]"
      ]
     },
     "metadata": {},
     "output_type": "display_data"
    },
    {
     "name": "stdout",
     "output_type": "stream",
     "text": [
      "Saved best model at epoch 156\n",
      "Deleted previous best model: output_two_action_224_early_stoppage\\checkpoints\\model_best_epoch_155.pth\n"
     ]
    },
    {
     "data": {
      "application/vnd.jupyter.widget-view+json": {
       "model_id": "174489cbaa41436493b740882f191659",
       "version_major": 2,
       "version_minor": 0
      },
      "text/plain": [
       "Epoch 157/10000:   0%|          | 0/416 [00:00<?, ?it/s]"
      ]
     },
     "metadata": {},
     "output_type": "display_data"
    },
    {
     "name": "stdout",
     "output_type": "stream",
     "text": [
      "Saved best model at epoch 157\n",
      "Deleted previous best model: output_two_action_224_early_stoppage\\checkpoints\\model_best_epoch_156.pth\n"
     ]
    },
    {
     "data": {
      "application/vnd.jupyter.widget-view+json": {
       "model_id": "21017b77759f4528ae632cc876a6dd6b",
       "version_major": 2,
       "version_minor": 0
      },
      "text/plain": [
       "Epoch 158/10000:   0%|          | 0/416 [00:00<?, ?it/s]"
      ]
     },
     "metadata": {},
     "output_type": "display_data"
    },
    {
     "data": {
      "application/vnd.jupyter.widget-view+json": {
       "model_id": "90d1a4d14d3f4480adc03280adb33c99",
       "version_major": 2,
       "version_minor": 0
      },
      "text/plain": [
       "Epoch 159/10000:   0%|          | 0/416 [00:00<?, ?it/s]"
      ]
     },
     "metadata": {},
     "output_type": "display_data"
    },
    {
     "data": {
      "application/vnd.jupyter.widget-view+json": {
       "model_id": "f242e680a97b411f9a9aa4cdabdba700",
       "version_major": 2,
       "version_minor": 0
      },
      "text/plain": [
       "Epoch 160/10000:   0%|          | 0/416 [00:00<?, ?it/s]"
      ]
     },
     "metadata": {},
     "output_type": "display_data"
    },
    {
     "data": {
      "application/vnd.jupyter.widget-view+json": {
       "model_id": "5c834bda7e4a40f6b7196ed16d19d3ab",
       "version_major": 2,
       "version_minor": 0
      },
      "text/plain": [
       "Epoch 161/10000:   0%|          | 0/416 [00:00<?, ?it/s]"
      ]
     },
     "metadata": {},
     "output_type": "display_data"
    },
    {
     "data": {
      "application/vnd.jupyter.widget-view+json": {
       "model_id": "509b174183b8446ba87a11271b3959be",
       "version_major": 2,
       "version_minor": 0
      },
      "text/plain": [
       "Epoch 162/10000:   0%|          | 0/416 [00:00<?, ?it/s]"
      ]
     },
     "metadata": {},
     "output_type": "display_data"
    },
    {
     "data": {
      "application/vnd.jupyter.widget-view+json": {
       "model_id": "d5a66da515a34a54b2b29e30d28bb6e4",
       "version_major": 2,
       "version_minor": 0
      },
      "text/plain": [
       "Epoch 163/10000:   0%|          | 0/416 [00:00<?, ?it/s]"
      ]
     },
     "metadata": {},
     "output_type": "display_data"
    },
    {
     "data": {
      "application/vnd.jupyter.widget-view+json": {
       "model_id": "9c3b91fc34df4508b1267cdc94e713ef",
       "version_major": 2,
       "version_minor": 0
      },
      "text/plain": [
       "Epoch 164/10000:   0%|          | 0/416 [00:00<?, ?it/s]"
      ]
     },
     "metadata": {},
     "output_type": "display_data"
    },
    {
     "data": {
      "application/vnd.jupyter.widget-view+json": {
       "model_id": "7f199f02ccc748eb80f067754b835903",
       "version_major": 2,
       "version_minor": 0
      },
      "text/plain": [
       "Epoch 165/10000:   0%|          | 0/416 [00:00<?, ?it/s]"
      ]
     },
     "metadata": {},
     "output_type": "display_data"
    },
    {
     "data": {
      "application/vnd.jupyter.widget-view+json": {
       "model_id": "1e760197c69c4764bb045a5c5fe86dea",
       "version_major": 2,
       "version_minor": 0
      },
      "text/plain": [
       "Epoch 166/10000:   0%|          | 0/416 [00:00<?, ?it/s]"
      ]
     },
     "metadata": {},
     "output_type": "display_data"
    },
    {
     "data": {
      "application/vnd.jupyter.widget-view+json": {
       "model_id": "ac26644a0017459c8767b8c74fafde66",
       "version_major": 2,
       "version_minor": 0
      },
      "text/plain": [
       "Epoch 167/10000:   0%|          | 0/416 [00:00<?, ?it/s]"
      ]
     },
     "metadata": {},
     "output_type": "display_data"
    },
    {
     "data": {
      "application/vnd.jupyter.widget-view+json": {
       "model_id": "5e1cf3d4fb2f4ec0ab31667e59c3e128",
       "version_major": 2,
       "version_minor": 0
      },
      "text/plain": [
       "Epoch 168/10000:   0%|          | 0/416 [00:00<?, ?it/s]"
      ]
     },
     "metadata": {},
     "output_type": "display_data"
    },
    {
     "data": {
      "application/vnd.jupyter.widget-view+json": {
       "model_id": "d931fd0a78b649fcaa4cfccfa6e083a3",
       "version_major": 2,
       "version_minor": 0
      },
      "text/plain": [
       "Epoch 169/10000:   0%|          | 0/416 [00:00<?, ?it/s]"
      ]
     },
     "metadata": {},
     "output_type": "display_data"
    },
    {
     "name": "stdout",
     "output_type": "stream",
     "text": [
      "Early stopping triggered at epoch 169.  Improvement: -1.62%\n",
      "Total training time: 1:15:08.482388\n",
      "Saved last model at epoch 169\n",
      "Training complete!\n"
     ]
    }
   ],
   "source": [
    "if __name__ == \"__main__\":\n",
    "    # --- Data Transforms ---\n",
    "    transform = transforms.Compose([\n",
    "        transforms.Resize((config.IMAGE_SIZE, config.IMAGE_SIZE)),\n",
    "        transforms.ToTensor(),\n",
    "        transforms.Normalize((0.5, 0.5, 0.5), (0.5, 0.5, 0.5))\n",
    "    ])\n",
    "    \n",
    "    # --- Create Dataset and DataLoader ---\n",
    "    dataset = JetbotDataset(config.IMAGE_DIR, config.CSV_PATH, config.IMAGE_SIZE, config.NUM_PREV_FRAMES, transform=transform)\n",
    "    \n",
    "    # Try to load existing split\n",
    "    train_dataset, test_dataset = load_train_test_split(dataset, config.SPLIT_DATASET_FILENAME)\n",
    "    \n",
    "    if train_dataset is None or test_dataset is None:\n",
    "        print(\"Dataset split file not found, creating a new split...\")\n",
    "        train_size = int(0.8 * len(dataset))  # 80% for training\n",
    "        test_size = len(dataset) - train_size\n",
    "        train_dataset, test_dataset = random_split(dataset, [train_size, test_size])\n",
    "    \n",
    "        save_existing_split(train_dataset, test_dataset, config.SPLIT_DATASET_FILENAME)\n",
    "    else:\n",
    "        print(\"Loaded existing dataset split.\")\n",
    "    \n",
    "    train_dataloader = DataLoader(train_dataset, batch_size=config.BATCH_SIZE, shuffle=True)\n",
    "    test_dataloader = DataLoader(test_dataset, batch_size=1, shuffle=False) # Batch size 1 for easier evaluation\n",
    "    \n",
    "    # --- Calculate Betas and Alphas ---\n",
    "    betas = linear_beta_schedule(config.NUM_TIMESTEPS, config.BETA_START, config.BETA_END).to(config.DEVICE)\n",
    "    #betas = cosine_beta_schedule(NUM_TIMESTEPS).to(DEVICE) # Alternative\n",
    "    \n",
    "    alphas = (1. - betas).to(config.DEVICE)\n",
    "    alphas_cumprod = torch.cumprod(alphas, axis=0).to(config.DEVICE)\n",
    "    alphas_cumprod_prev = F.pad(alphas_cumprod[:-1], (1, 0), value=1.0).to(config.DEVICE)\n",
    "    sqrt_recip_alphas = torch.sqrt(1.0 / alphas).to(config.DEVICE)\n",
    "    \n",
    "    # --- Create Model and Optimizer ---\n",
    "    model = SimpleUNet(image_channels=3, down_channels=(64, 128, 256), up_channels=(256, 128, 64), time_emb_dim=32, num_prev_frames=config.NUM_PREV_FRAMES).to(config.DEVICE)\n",
    "    optimizer = torch.optim.AdamW(model.parameters(), lr=config.LEARNING_RATE)\n",
    "    \n",
    "    # --- Load Checkpoint (if available) ---\n",
    "    if config.LOAD_CHECKPOINT:\n",
    "        checkpoint = torch.load(config.LOAD_CHECKPOINT)\n",
    "        model.load_state_dict(checkpoint['model_state_dict'])\n",
    "        optimizer.load_state_dict(checkpoint['optimizer_state_dict'])\n",
    "        START_EPOCH = checkpoint['epoch']\n",
    "        print(f\"Loaded checkpoint from epoch {START_EPOCH}\")\n",
    "    else:\n",
    "        START_EPOCH = 0\n",
    "    \n",
    "    # --- Train the Model ---\n",
    "    losses = train(model, train_dataloader, optimizer, betas, alphas_cumprod, START_EPOCH, config.NUM_EPOCHS, config.DEVICE,\n",
    "                   config.SAVE_MODEL_EVERY, config.SAMPLE_EVERY, config.CHECKPOINT_DIR, config.SAMPLE_DIR, config.PLOT_DIR, config.PLOT_EVERY, config.USE_FP16,\n",
    "                   config.ACCUMULATION_STEPS, config.NUM_PREV_FRAMES)\n",
    "    print(\"Training complete!\")\n",
    "    \n",
    "    # --- Final Loss Plot ---\n",
    "    plt.figure(figsize=(10, 5))\n",
    "    plt.plot(losses)\n",
    "    plt.xlabel(\"Epoch\")\n",
    "    plt.ylabel(\"Loss\")\n",
    "    plt.title(\"Training Loss\")\n",
    "    plt.grid(True)\n",
    "    plt.savefig(os.path.join(config.PLOT_DIR, \"loss_plot_final.png\"))  # Save to plot dir\n",
    "    plt.close()"
   ]
  },
  {
   "cell_type": "code",
   "execution_count": 7,
   "id": "16933dd4-020b-40b6-9c67-b420f3ed3ab2",
   "metadata": {},
   "outputs": [
    {
     "data": {
      "text/plain": [
       "20"
      ]
     },
     "execution_count": 7,
     "metadata": {},
     "output_type": "execute_result"
    }
   ],
   "source": [
    "config.SAMPLE_EVERY"
   ]
  },
  {
   "cell_type": "code",
   "execution_count": 44,
   "id": "69705aac-316a-4771-aa0f-ccab7b3d9eca",
   "metadata": {},
   "outputs": [],
   "source": []
  },
  {
   "cell_type": "code",
   "execution_count": 23,
   "id": "0e197e4a-a6e0-4273-aa5d-71d7c5d716c5",
   "metadata": {},
   "outputs": [],
   "source": [
    "def display_dataset_entry(dataset_entry):\n",
    "    frame,action,previous_frames = dataset_entry\n",
    "    print(f'Action: {action}')\n",
    "    display_frame(frame)\n",
    "    for i in range(config.NUM_PREV_FRAMES):\n",
    "        frame = previous_frames[(i * 3):(i + 1) * 3, :, :]  # Extract each frame (C, H, W)\n",
    "        display_frame(frame)\n",
    "\n",
    "\n",
    "def display_frame(frame):\n",
    "    frame = (frame.clamp(-1, 1) + 1) / 2 # Unnormalize\n",
    "    frame = (frame * 255).type(torch.uint8) # To uint8\n",
    "    display(transforms.ToPILImage()(frame))\n"
   ]
  },
  {
   "cell_type": "code",
   "execution_count": null,
   "id": "55d410bf-97c6-44f0-a38c-4e378b0659ae",
   "metadata": {},
   "outputs": [],
   "source": []
  }
 ],
 "metadata": {
  "kernelspec": {
   "display_name": "Python 3 (ipykernel)",
   "language": "python",
   "name": "python3"
  },
  "language_info": {
   "codemirror_mode": {
    "name": "ipython",
    "version": 3
   },
   "file_extension": ".py",
   "mimetype": "text/x-python",
   "name": "python",
   "nbconvert_exporter": "python",
   "pygments_lexer": "ipython3",
   "version": "3.11.9"
  }
 },
 "nbformat": 4,
 "nbformat_minor": 5
}
