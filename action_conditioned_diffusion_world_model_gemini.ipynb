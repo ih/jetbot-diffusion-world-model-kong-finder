{
 "cells": [
  {
   "cell_type": "code",
   "execution_count": 1,
   "id": "33b40e0f-8c29-4a90-9e82-5995ef5a0506",
   "metadata": {},
   "outputs": [],
   "source": [
    "import torch\n",
    "import torch.nn as nn\n",
    "import torch.nn.functional as F\n",
    "import torchvision.transforms as transforms\n",
    "from torch.utils.data import Dataset, DataLoader, Subset\n",
    "from PIL import Image\n",
    "import numpy as np\n",
    "import os\n",
    "import matplotlib.pyplot as plt\n",
    "from tqdm.auto import tqdm\n",
    "import time\n",
    "import datetime\n",
    "import csv\n",
    "import config\n",
    "from torch.utils.data import random_split\n",
    "import models\n",
    "from importnb import Notebook\n",
    "with Notebook():\n",
    "    from jetbot_dataset import *"
   ]
  },
  {
   "cell_type": "code",
   "execution_count": 2,
   "id": "4e89e9ec-9f79-4a17-800e-243b0864cbf4",
   "metadata": {},
   "outputs": [],
   "source": [
    "# --- Diffusion Helpers ---\n",
    "def linear_beta_schedule(timesteps, beta_start, beta_end):\n",
    "    return torch.linspace(beta_start, beta_end, timesteps)\n",
    "\n",
    "def cosine_beta_schedule(timesteps, s=0.008):\n",
    "    steps = timesteps + 1\n",
    "    x = torch.linspace(0, timesteps, steps, dtype=torch.float64)\n",
    "    alphas_cumprod = torch.cos(((x / timesteps) + s) / (1 + s) * np.pi * 0.5) ** 2\n",
    "    alphas_cumprod = alphas_cumprod / alphas_cumprod[0]\n",
    "    betas = 1 - (alphas_cumprod[1:] / alphas_cumprod[:-1])\n",
    "    return torch.clip(betas, 0, 0.999)\n",
    "\n",
    "def get_index_from_list(vals, t, x_shape):\n",
    "    batch_size = t.shape[0]\n",
    "    out = vals.gather(-1, t)\n",
    "    return out.reshape(batch_size, *((1,) * (len(x_shape) - 1))).to(t.device)\n",
    "\n",
    "def forward_diffusion_sample(x_0, t, betas, alphas_cumprod, device=\"cpu\"):\n",
    "    noise = torch.randn_like(x_0)\n",
    "    sqrt_alphas_cumprod_t = get_index_from_list(torch.sqrt(alphas_cumprod), t, x_0.shape)\n",
    "    sqrt_one_minus_alphas_cumprod_t = get_index_from_list(\n",
    "        torch.sqrt(1. - alphas_cumprod), t, x_0.shape\n",
    "    )\n",
    "    return sqrt_alphas_cumprod_t * x_0 + sqrt_one_minus_alphas_cumprod_t * noise, noise\n",
    "\n",
    "# --- U-Net Model ---\n",
    "class SinusoidalPositionEmbeddings(nn.Module):\n",
    "    def __init__(self, dim):\n",
    "        super().__init__()\n",
    "        self.dim = dim\n",
    "\n",
    "    def forward(self, time):\n",
    "        device = time.device\n",
    "        half_dim = self.dim // 2\n",
    "        embeddings = np.log(10000) / (half_dim - 1)\n",
    "        embeddings = torch.exp(torch.arange(half_dim, device=device) * -embeddings)\n",
    "        embeddings = time[:, None] * embeddings[None, :]\n",
    "        embeddings = torch.cat((embeddings.sin(), embeddings.cos()), dim=-1)\n",
    "        # Ensure output matches the embedding dim even if input dim is odd\n",
    "        if self.dim % 2 == 1:\n",
    "             embeddings = F.pad(embeddings, (0, 1))\n",
    "        return embeddings\n",
    "\n",
    "# --- Training Loop ---\n",
    "def train(model, dataloader, optimizer, betas, alphas_cumprod, start_epoch, num_epochs,\n",
    "          device, save_every, sample_every, checkpoint_dir, sample_dir, plot_dir,\n",
    "          plot_every, use_fp16, accumulation_steps, num_prev_frames,\n",
    "          early_stopping_patience, early_stopping_percentage, min_epochs):\n",
    "    \"\"\"\n",
    "    Trains the diffusion model with early stopping and best model saving/deletion.\n",
    "    \"\"\"\n",
    "\n",
    "    all_losses = []\n",
    "    start_time = time.time()\n",
    "    last_plot_epoch = start_epoch - 1\n",
    "    best_loss = float('inf')\n",
    "    best_epoch = start_epoch\n",
    "    epochs_without_improvement = 0\n",
    "    moving_avg_window = 10\n",
    "    moving_avg_losses = []\n",
    "    previous_best_model_path = None  # Keep track of the previous best model's path\n",
    "\n",
    "    # --- Load previous best model path if resuming ---\n",
    "    # Find the highest epoch 'best' model if resuming, to delete the correct one later\n",
    "    if start_epoch > 0:\n",
    "        try:\n",
    "            existing_best = [f for f in os.listdir(checkpoint_dir) if f.startswith('model_best_epoch_')]\n",
    "            if existing_best:\n",
    "                existing_best.sort(key=lambda x: int(x.split('_')[-1].split('.')[0]), reverse=True)\n",
    "                previous_best_model_path = os.path.join(checkpoint_dir, existing_best[0])\n",
    "                # Extract best_loss from the loaded best model checkpoint if desired\n",
    "                # best_checkpoint = torch.load(previous_best_model_path, map_location='cpu')\n",
    "                # best_loss = best_checkpoint.get('loss', float('inf')) # Restore best loss\n",
    "                print(f\"Found previous best model: {previous_best_model_path}\") # Verify best loss restoration if needed\n",
    "        except Exception as e:\n",
    "            print(f\"Warning: Could not determine previous best model path: {e}\")\n",
    "    # --------------------------------------------------\n",
    "    \n",
    "    scaler = torch.cuda.amp.GradScaler(enabled=use_fp16)\n",
    "\n",
    "    for epoch in range(start_epoch, num_epochs):\n",
    "        model.train()\n",
    "        epoch_losses = []\n",
    "        optimizer.zero_grad()\n",
    "        pbar = tqdm(dataloader, desc=f\"Epoch {epoch+1}/{num_epochs}\")\n",
    "\n",
    "        for step, (images, actions, prev_frames) in enumerate(pbar):\n",
    "            images = images.to(device)\n",
    "            actions = actions.to(device)\n",
    "            prev_frames = prev_frames.to(device)\n",
    "            t = torch.randint(0, config.NUM_TIMESTEPS, (images.shape[0],), device=device).long()\n",
    "\n",
    "            with torch.cuda.amp.autocast(enabled=use_fp16):\n",
    "                x_noisy, noise = forward_diffusion_sample(images, t, betas, alphas_cumprod, device)\n",
    "                predicted_noise = model(x_noisy, t, actions, prev_frames)\n",
    "                loss = F.mse_loss(noise, predicted_noise)\n",
    "                loss = loss / accumulation_steps\n",
    "\n",
    "            scaler.scale(loss).backward()\n",
    "\n",
    "            if (step + 1) % accumulation_steps == 0:\n",
    "                scaler.step(optimizer)\n",
    "                scaler.update()\n",
    "                optimizer.zero_grad()\n",
    "\n",
    "            epoch_losses.append(loss.item() * accumulation_steps)\n",
    "            pbar.set_postfix({\"Loss\": loss.item() * accumulation_steps})\n",
    "\n",
    "        if optimizer.param_groups[0]['params'][0].grad is not None:\n",
    "            scaler.step(optimizer)\n",
    "            scaler.update()\n",
    "            optimizer.zero_grad()\n",
    "\n",
    "        avg_epoch_loss = sum(epoch_losses) / len(epoch_losses)  if epoch_losses else float('nan') # Handle empty epoch_losses\n",
    "        if np.isnan(avg_epoch_loss):\n",
    "            print(f\"Warning: NaN loss detected for epoch {epoch+1}. Skipping update/plot.\")\n",
    "            # Optionally: break or handle NaN case differently\n",
    "            continue\n",
    "        all_losses.append(avg_epoch_loss)\n",
    "\n",
    "        moving_avg_losses.append(avg_epoch_loss)\n",
    "        if len(moving_avg_losses) > moving_avg_window:\n",
    "            moving_avg_losses.pop(0)\n",
    "        current_moving_avg = sum(moving_avg_losses) / len(moving_avg_losses)\n",
    "\n",
    "        if (epoch + 1) % save_every == 0:\n",
    "            torch.save({\n",
    "                'epoch': epoch + 1,\n",
    "                'model_state_dict': model.state_dict(),\n",
    "                'optimizer_state_dict': optimizer.state_dict(),\n",
    "                'loss': avg_epoch_loss,\n",
    "                'config': { # Store relevant config settings used for *this* checkpoint\n",
    "                      'model_architecture': model.__class__.__name__, # Save the class name\n",
    "                      'image_size': config.IMAGE_SIZE,\n",
    "                      'num_prev_frames': config.NUM_PREV_FRAMES\n",
    "                      # Add other relevant hyperparameters like channel dimensions if needed\n",
    "                  }\n",
    "            }, os.path.join(checkpoint_dir, f\"model_epoch_{epoch+1}.pth\"))\n",
    "            print(f\"Saved model checkpoint at epoch {epoch+1}\")\n",
    "\n",
    "        if (epoch + 1) % sample_every == 0:\n",
    "            model.eval()\n",
    "            with torch.no_grad():\n",
    "                random_idx = torch.randint(0, len(dataset), (1,)).item()\n",
    "                real_current_frame, action, real_prev_frames = dataset[random_idx]\n",
    "                real_current_frame = real_current_frame.unsqueeze(0).to(device)\n",
    "                real_prev_frames = real_prev_frames.unsqueeze(0).to(device)\n",
    "                action = action.to(device)\n",
    "\n",
    "                t_sample = torch.tensor([config.NUM_TIMESTEPS - 1], device=device, dtype=torch.long)\n",
    "                x_noisy, _ = forward_diffusion_sample(real_current_frame, t_sample, betas, alphas_cumprod, device)\n",
    "                x = x_noisy\n",
    "\n",
    "                for i in reversed(range(1, config.NUM_TIMESTEPS)):\n",
    "                    t = (torch.ones(1) * i).long().to(device)\n",
    "                    with torch.cuda.amp.autocast(enabled=use_fp16):\n",
    "                        predicted_noise = model(x, t, action, real_prev_frames)\n",
    "\n",
    "                    alpha = alphas[t][:, None, None, None]\n",
    "                    alpha_hat = alphas_cumprod[t][:, None, None, None]\n",
    "                    beta = betas[t][:, None, None, None]\n",
    "\n",
    "                    if i > 1:\n",
    "                        noise = torch.randn_like(x)\n",
    "                    else:\n",
    "                        noise = torch.zeros_like(x)\n",
    "                    x = 1 / torch.sqrt(alpha) * (x - ((1 - alpha) / (torch.sqrt(1 - alpha_hat))) * predicted_noise) + torch.sqrt(beta) * noise\n",
    "                predicted_next_frame = (x.clamp(-1, 1) + 1) / 2\n",
    "                predicted_next_frame = (predicted_next_frame * 255).type(torch.uint8)\n",
    "                prev_images = []\n",
    "\n",
    "                for i in range(num_prev_frames):\n",
    "                    frame = real_prev_frames[0, (i * 3):(i + 1) * 3, :, :]\n",
    "                    frame = (frame.clamp(-1, 1) + 1) / 2\n",
    "                    frame = (frame * 255).type(torch.uint8)\n",
    "                    prev_images.append(transforms.ToPILImage()(frame))\n",
    "\n",
    "                current_tensor = (real_current_frame[0].clamp(-1, 1) + 1) / 2 * 255\n",
    "                current_image = transforms.ToPILImage()(current_tensor.type(torch.uint8)).convert(\"RGB\")\n",
    "                predicted_image = transforms.ToPILImage()(predicted_next_frame[0]).convert(\"RGB\")\n",
    "\n",
    "                total_width = (num_prev_frames + 2) * config.IMAGE_SIZE\n",
    "                max_height = config.IMAGE_SIZE\n",
    "                new_im = Image.new('RGB', (total_width, max_height))\n",
    "\n",
    "                x_offset = 0\n",
    "                for image in prev_images:\n",
    "                    new_im.paste(image, (x_offset,0))\n",
    "                    x_offset += config.IMAGE_SIZE\n",
    "                new_im.paste(current_image, (x_offset, 0))\n",
    "                x_offset += config.IMAGE_SIZE\n",
    "                new_im.paste(predicted_image, (x_offset, 0))\n",
    "\n",
    "                new_im.save(os.path.join(sample_dir, f\"sample_epoch_{epoch+1}.png\"))\n",
    "                print(f\"Saved sample image at epoch {epoch+1}\")\n",
    "\n",
    "            model.train()\n",
    "\n",
    "            print(f\"Epoch {epoch+1}, Step {step}:\")\n",
    "            print(f\"  Mem Allocated: {torch.cuda.memory_allocated(config.DEVICE) / 1024**2:.2f} MB\")\n",
    "            print(f\"  Max Mem Allocated: {torch.cuda.max_memory_allocated(config.DEVICE) / 1024**2:.2f} MB\")\n",
    "            print(f\"  Mem Reserved: {torch.cuda.memory_reserved(config.DEVICE) / 1024**2:.2f} MB\")\n",
    "            print(f\"  Max Mem Reserved: {torch.cuda.max_memory_reserved(config.DEVICE) / 1024**2:.2f} MB\")\n",
    "        \n",
    "        \n",
    "        if (epoch + 1) % plot_every == 0:\n",
    "            elapsed_time = time.time() - start_time\n",
    "            formatted_time = str(datetime.timedelta(seconds=elapsed_time))\n",
    "    \n",
    "            fig, axes = plt.subplots(1, 2, figsize=(16, 5))\n",
    "    \n",
    "            # --- Plot 1: Loss from START_EPOCH of this run ---\n",
    "            # X-axis: Absolute epoch numbers (start_epoch + 1 up to current epoch + 1)\n",
    "            # Y-axis: Losses collected *in this run* (all_losses indices 0 up to current)\n",
    "            current_run_epochs_plotted = range(start_epoch + 1, epoch + 2)\n",
    "            axes[0].plot(current_run_epochs_plotted, all_losses)\n",
    "            axes[0].set_xlabel(\"Epoch\")\n",
    "            axes[0].set_ylabel(\"Loss\")\n",
    "            axes[0].set_title(f\"Loss Since Start (Epoch {start_epoch+1}, Time: {formatted_time})\")\n",
    "            axes[0].grid(True)\n",
    "    \n",
    "            # --- Plot 2: Loss since last plot ---\n",
    "            # X-axis: Absolute epoch numbers for the segment\n",
    "            x_values_ax1 = range(last_plot_epoch + 2, epoch + 2)\n",
    "    \n",
    "            # Y-axis: Slice all_losses using indices relative to this run's start\n",
    "            # Calculate indices corresponding to the absolute epoch numbers\n",
    "            start_slice_index = (last_plot_epoch + 1) - start_epoch # Index in all_losses for epoch last_plot_epoch+1\n",
    "            end_slice_index = (epoch + 1) - start_epoch           # Index in all_losses for epoch epoch+1 (exclusive)\n",
    "            y_values_ax1 = all_losses[start_slice_index : end_slice_index]\n",
    "    \n",
    "            if x_values_ax1 and y_values_ax1:\n",
    "                if len(x_values_ax1) != len(y_values_ax1):\n",
    "                     # This check should ideally not be needed with correct logic, but good safeguard\n",
    "                     print(f\"!!! ERROR: Mismatch detected plotting axes[1]: len(x)={len(x_values_ax1)}, len(y)={len(y_values_ax1)}\")\n",
    "                else:\n",
    "                    axes[1].plot(x_values_ax1, y_values_ax1)\n",
    "                    axes[1].set_xlabel(\"Epoch\")\n",
    "                    axes[1].set_ylabel(\"Loss\")\n",
    "                    axes[1].set_title(f\"Loss Since Epoch {last_plot_epoch + 1}\")\n",
    "                    axes[1].grid(True)\n",
    "            else:\n",
    "                 axes[1].set_title(f\"Loss Since Epoch {last_plot_epoch + 1} (No new data)\")\n",
    "                 axes[1].grid(True)\n",
    "    \n",
    "    \n",
    "            plt.tight_layout()\n",
    "            plt.savefig(os.path.join(plot_dir, f\"loss_plot_epoch_{epoch+1}.png\"))\n",
    "            plt.close()\n",
    "            print(f\"Epoch {epoch+1}: Avg Loss = {avg_epoch_loss:.6f}, Moving Avg = {current_moving_avg:.6f}, Time = {formatted_time}\")\n",
    "    \n",
    "            last_plot_epoch = epoch # Update absolute last plot epoch index\n",
    "\n",
    "        # --- Early Stopping (Dynamic Threshold) and Best Model Saving/Deletion---\n",
    "        if early_stopping_patience is not None and epoch + 1 > min_epochs:\n",
    "            should_stop = False\n",
    "            improvement_calculated = False\n",
    "            calculated_improvement = None # Define outside the inner ifs\n",
    "\n",
    "            if current_moving_avg < best_loss:\n",
    "                best_loss = current_moving_avg\n",
    "                best_epoch = epoch + 1\n",
    "                epochs_without_improvement = 0\n",
    "\n",
    "                # Save the *best* model\n",
    "                new_best_model_path = os.path.join(checkpoint_dir, f\"model_best_epoch_{best_epoch}.pth\")\n",
    "                torch.save({\n",
    "                    'epoch': best_epoch,\n",
    "                    'model_state_dict': model.state_dict(),\n",
    "                    'optimizer_state_dict': optimizer.state_dict(),\n",
    "                    'loss': best_loss, # Save the best moving average loss\n",
    "                    'config': { # Store relevant config settings used for *this* checkpoint\n",
    "                          'model_architecture': model.__class__.__name__, # Save the class name\n",
    "                          'image_size': config.IMAGE_SIZE,\n",
    "                          'num_prev_frames': config.NUM_PREV_FRAMES\n",
    "                          # Add other relevant hyperparameters like channel dimensions if needed\n",
    "                      }\n",
    "                }, new_best_model_path)\n",
    "                print(f\"Saved best model at epoch {best_epoch} (Moving Avg Loss: {best_loss:.6f})\")\n",
    "\n",
    "                # Delete the *previous* best model\n",
    "                if previous_best_model_path and os.path.exists(previous_best_model_path):\n",
    "                    try: # Add try-except for deletion\n",
    "                        os.remove(previous_best_model_path)\n",
    "                        print(f\"Deleted previous best model: {previous_best_model_path}\")\n",
    "                    except OSError as e:\n",
    "                        print(f\"Warning: Could not delete previous best model '{previous_best_model_path}': {e}\")\n",
    "                previous_best_model_path = new_best_model_path\n",
    "\n",
    "            else:\n",
    "                epochs_without_improvement += 1\n",
    "\n",
    "                # Check if patience is exceeded\n",
    "                if epochs_without_improvement >= early_stopping_patience:\n",
    "                    # Try to calculate improvement percentage ONLY if patience is met\n",
    "                    if len(moving_avg_losses) >= moving_avg_window: # Use >= for window check\n",
    "                        # Calculate previous average using the window *before* the non-improvement streak started\n",
    "                        # Ensure indices are valid\n",
    "                        if len(all_losses) > epochs_without_improvement:\n",
    "                            # Index of the loss just before the non-improvement streak started\n",
    "                            comparison_idx = len(all_losses) - epochs_without_improvement - 1\n",
    "                            # Average of the window ending at that point\n",
    "                            start_comparison_window = max(0, comparison_idx - moving_avg_window + 1)\n",
    "                            prev_window_losses = all_losses[start_comparison_window : comparison_idx + 1]\n",
    "\n",
    "                            if prev_window_losses:\n",
    "                                prev_moving_avg = sum(prev_window_losses) / len(prev_window_losses)\n",
    "                                if prev_moving_avg > 1e-9: # Check for non-zero denominator\n",
    "                                    calculated_improvement = (prev_moving_avg - current_moving_avg) / prev_moving_avg * 100\n",
    "                                    improvement_calculated = True\n",
    "                                    print(f\"  Epochs w/o improvement: {epochs_without_improvement}, Current MA: {current_moving_avg:.6f}, Prev MA: {prev_moving_avg:.6f}, Improvement: {calculated_improvement:.2f}%\")\n",
    "                                else:\n",
    "                                    print(f\"  Epochs w/o improvement: {epochs_without_improvement}. Previous MA near zero.\")\n",
    "                            else:\n",
    "                                print(f\"  Epochs w/o improvement: {epochs_without_improvement}. Not enough history for prev MA.\")\n",
    "                        else:\n",
    "                            print(f\"  Epochs w/o improvement: {epochs_without_improvement}. Not enough history for prev MA.\")\n",
    "\n",
    "\n",
    "                    else:\n",
    "                        print(f\"  Epochs w/o improvement: {epochs_without_improvement}. Waiting for full moving avg window to check percentage.\")\n",
    "\n",
    "                    # Decide whether to stop based on calculated improvement (if available)\n",
    "                    # Stop if patience is met AND (improvement wasn't calculated OR improvement is too small)\n",
    "                    if not improvement_calculated or (improvement_calculated and calculated_improvement < early_stopping_percentage):\n",
    "                         should_stop = True\n",
    "                         stop_reason = f\"Improvement {calculated_improvement:.2f}% < {early_stopping_percentage}%\" if improvement_calculated else \"Patience reached, improvement could not be reliably calculated.\"\n",
    "                         print(f\"Early stopping triggered at epoch {epoch+1}. Reason: {stop_reason}\")\n",
    "\n",
    "\n",
    "            # Break the loop *outside* the nested conditions if stop flag is set\n",
    "            if should_stop:\n",
    "                break\n",
    "                \n",
    "    end_time = time.time()\n",
    "    total_time = end_time - start_time\n",
    "    formatted_time = str(datetime.timedelta(seconds=total_time))\n",
    "    print(f\"Total training time: {formatted_time}\")\n",
    "\n",
    "    torch.save({\n",
    "        'epoch': epoch + 1,\n",
    "        'model_state_dict': model.state_dict(),\n",
    "        'optimizer_state_dict': optimizer.state_dict(),\n",
    "        'loss': avg_epoch_loss,\n",
    "        'config': { # Store relevant config settings used for *this* checkpoint\n",
    "              'model_architecture': model.__class__.__name__, # Save the class name\n",
    "              'image_size': config.IMAGE_SIZE,\n",
    "              'num_prev_frames': config.NUM_PREV_FRAMES\n",
    "              # Add other relevant hyperparameters like channel dimensions if needed\n",
    "          }\n",
    "    }, os.path.join(checkpoint_dir, \"model_last.pth\"))\n",
    "    print(f\"Saved last model at epoch {epoch+1} with loss {avg_epoch_loss}\")\n",
    "\n",
    "    return all_losses\n",
    "    "
   ]
  },
  {
   "cell_type": "code",
   "execution_count": 3,
   "id": "356d5ca4-d8af-471b-afce-8023111e6f15",
   "metadata": {
    "scrolled": true
   },
   "outputs": [
    {
     "name": "stdout",
     "output_type": "stream",
     "text": [
      "Loaded combined CSV with columns: ['session_id', 'image_path', 'timestamp', 'action']\n",
      "Total rows in CSV: 23081, Valid sequence start indices: 23037\n",
      "Dataset split file not found, creating a new split...\n",
      "Splitting by session: 8 train sessions, 3 test sessions.\n",
      "Could not search for checkpoints: name 'glob' is not defined. Starting training from scratch.\n",
      "Instantiating new model based on current config.\n",
      "Using Model: SimpleUNetV1\n",
      "Model Parameters: 3,699,491\n",
      "--- Training Configuration ---\n",
      "Model Parameters: 3,699,491\n",
      "  Mem Allocated: 14.15 MB\n",
      "  Max Mem Allocated: 14.15 MB\n",
      "  Mem Reserved: 26.00 MB\n",
      "  Max Mem Reserved: 26.00 MB\n",
      "--------------------------\n"
     ]
    },
    {
     "data": {
      "application/vnd.jupyter.widget-view+json": {
       "model_id": "6938237e9d934d328cc8876f0272310c",
       "version_major": 2,
       "version_minor": 0
      },
      "text/plain": [
       "Epoch 1/1000:   0%|          | 0/4225 [00:00<?, ?it/s]"
      ]
     },
     "metadata": {},
     "output_type": "display_data"
    },
    {
     "name": "stdout",
     "output_type": "stream",
     "text": [
      "Saved sample image at epoch 1\n",
      "Epoch 1, Step 4224:\n",
      "  Mem Allocated: 65.20 MB\n",
      "  Max Mem Allocated: 358.08 MB\n",
      "  Mem Reserved: 480.00 MB\n",
      "  Max Mem Reserved: 480.00 MB\n"
     ]
    },
    {
     "data": {
      "application/vnd.jupyter.widget-view+json": {
       "model_id": "22f5e72c38774c6b94c37809eee20af9",
       "version_major": 2,
       "version_minor": 0
      },
      "text/plain": [
       "Epoch 2/1000:   0%|          | 0/4225 [00:00<?, ?it/s]"
      ]
     },
     "metadata": {},
     "output_type": "display_data"
    },
    {
     "name": "stdout",
     "output_type": "stream",
     "text": [
      "Saved sample image at epoch 2\n",
      "Epoch 2, Step 4224:\n",
      "  Mem Allocated: 65.20 MB\n",
      "  Max Mem Allocated: 359.67 MB\n",
      "  Mem Reserved: 482.00 MB\n",
      "  Max Mem Reserved: 482.00 MB\n"
     ]
    },
    {
     "data": {
      "application/vnd.jupyter.widget-view+json": {
       "model_id": "234e87ea6f6043169385e773dda8f97f",
       "version_major": 2,
       "version_minor": 0
      },
      "text/plain": [
       "Epoch 3/1000:   0%|          | 0/4225 [00:00<?, ?it/s]"
      ]
     },
     "metadata": {},
     "output_type": "display_data"
    },
    {
     "name": "stdout",
     "output_type": "stream",
     "text": [
      "Saved sample image at epoch 3\n",
      "Epoch 3, Step 4224:\n",
      "  Mem Allocated: 65.20 MB\n",
      "  Max Mem Allocated: 359.67 MB\n",
      "  Mem Reserved: 482.00 MB\n",
      "  Max Mem Reserved: 482.00 MB\n"
     ]
    },
    {
     "data": {
      "application/vnd.jupyter.widget-view+json": {
       "model_id": "d41e094f126d4a999a51561f8f5ecd8a",
       "version_major": 2,
       "version_minor": 0
      },
      "text/plain": [
       "Epoch 4/1000:   0%|          | 0/4225 [00:00<?, ?it/s]"
      ]
     },
     "metadata": {},
     "output_type": "display_data"
    },
    {
     "name": "stdout",
     "output_type": "stream",
     "text": [
      "Saved sample image at epoch 4\n",
      "Epoch 4, Step 4224:\n",
      "  Mem Allocated: 65.20 MB\n",
      "  Max Mem Allocated: 359.67 MB\n",
      "  Mem Reserved: 482.00 MB\n",
      "  Max Mem Reserved: 482.00 MB\n"
     ]
    },
    {
     "data": {
      "application/vnd.jupyter.widget-view+json": {
       "model_id": "98141ccc1cd249f584e16c4553028989",
       "version_major": 2,
       "version_minor": 0
      },
      "text/plain": [
       "Epoch 5/1000:   0%|          | 0/4225 [00:00<?, ?it/s]"
      ]
     },
     "metadata": {},
     "output_type": "display_data"
    },
    {
     "name": "stdout",
     "output_type": "stream",
     "text": [
      "Saved sample image at epoch 5\n",
      "Epoch 5, Step 4224:\n",
      "  Mem Allocated: 65.20 MB\n",
      "  Max Mem Allocated: 359.67 MB\n",
      "  Mem Reserved: 482.00 MB\n",
      "  Max Mem Reserved: 482.00 MB\n"
     ]
    },
    {
     "data": {
      "application/vnd.jupyter.widget-view+json": {
       "model_id": "565ae19b7b454a70919a7d140949da66",
       "version_major": 2,
       "version_minor": 0
      },
      "text/plain": [
       "Epoch 6/1000:   0%|          | 0/4225 [00:00<?, ?it/s]"
      ]
     },
     "metadata": {},
     "output_type": "display_data"
    },
    {
     "name": "stdout",
     "output_type": "stream",
     "text": [
      "Saved sample image at epoch 6\n",
      "Epoch 6, Step 4224:\n",
      "  Mem Allocated: 65.20 MB\n",
      "  Max Mem Allocated: 359.67 MB\n",
      "  Mem Reserved: 482.00 MB\n",
      "  Max Mem Reserved: 482.00 MB\n",
      "Saved best model at epoch 6 (Moving Avg Loss: 0.025936)\n"
     ]
    },
    {
     "data": {
      "application/vnd.jupyter.widget-view+json": {
       "model_id": "842cc8e277704e19a52f257fb52fc8d8",
       "version_major": 2,
       "version_minor": 0
      },
      "text/plain": [
       "Epoch 7/1000:   0%|          | 0/4225 [00:00<?, ?it/s]"
      ]
     },
     "metadata": {},
     "output_type": "display_data"
    },
    {
     "name": "stdout",
     "output_type": "stream",
     "text": [
      "Saved sample image at epoch 7\n",
      "Epoch 7, Step 4224:\n",
      "  Mem Allocated: 65.20 MB\n",
      "  Max Mem Allocated: 359.67 MB\n",
      "  Mem Reserved: 482.00 MB\n",
      "  Max Mem Reserved: 482.00 MB\n",
      "Saved best model at epoch 7 (Moving Avg Loss: 0.023247)\n",
      "Deleted previous best model: output_model_small_session_split_data\\checkpoints\\model_best_epoch_6.pth\n"
     ]
    },
    {
     "data": {
      "application/vnd.jupyter.widget-view+json": {
       "model_id": "f2e498d9c3e443f7bd8510b3de360eb7",
       "version_major": 2,
       "version_minor": 0
      },
      "text/plain": [
       "Epoch 8/1000:   0%|          | 0/4225 [00:00<?, ?it/s]"
      ]
     },
     "metadata": {},
     "output_type": "display_data"
    },
    {
     "name": "stdout",
     "output_type": "stream",
     "text": [
      "Saved sample image at epoch 8\n",
      "Epoch 8, Step 4224:\n",
      "  Mem Allocated: 65.20 MB\n",
      "  Max Mem Allocated: 359.67 MB\n",
      "  Mem Reserved: 482.00 MB\n",
      "  Max Mem Reserved: 482.00 MB\n",
      "Saved best model at epoch 8 (Moving Avg Loss: 0.021138)\n",
      "Deleted previous best model: output_model_small_session_split_data\\checkpoints\\model_best_epoch_7.pth\n"
     ]
    },
    {
     "data": {
      "application/vnd.jupyter.widget-view+json": {
       "model_id": "3bb01b6554f74abaaa2a0f1cc05ae0b9",
       "version_major": 2,
       "version_minor": 0
      },
      "text/plain": [
       "Epoch 9/1000:   0%|          | 0/4225 [00:00<?, ?it/s]"
      ]
     },
     "metadata": {},
     "output_type": "display_data"
    },
    {
     "name": "stdout",
     "output_type": "stream",
     "text": [
      "Saved sample image at epoch 9\n",
      "Epoch 9, Step 4224:\n",
      "  Mem Allocated: 65.20 MB\n",
      "  Max Mem Allocated: 359.67 MB\n",
      "  Mem Reserved: 482.00 MB\n",
      "  Max Mem Reserved: 482.00 MB\n",
      "Saved best model at epoch 9 (Moving Avg Loss: 0.019437)\n",
      "Deleted previous best model: output_model_small_session_split_data\\checkpoints\\model_best_epoch_8.pth\n"
     ]
    },
    {
     "data": {
      "application/vnd.jupyter.widget-view+json": {
       "model_id": "5c9ba480aa974b3cbf2ca7080e380102",
       "version_major": 2,
       "version_minor": 0
      },
      "text/plain": [
       "Epoch 10/1000:   0%|          | 0/4225 [00:00<?, ?it/s]"
      ]
     },
     "metadata": {},
     "output_type": "display_data"
    },
    {
     "name": "stdout",
     "output_type": "stream",
     "text": [
      "Saved sample image at epoch 10\n",
      "Epoch 10, Step 4224:\n",
      "  Mem Allocated: 65.20 MB\n",
      "  Max Mem Allocated: 359.67 MB\n",
      "  Mem Reserved: 482.00 MB\n",
      "  Max Mem Reserved: 482.00 MB\n",
      "Epoch 10: Avg Loss = 0.005909, Moving Avg = 0.018084, Time = 0:29:12.442674\n",
      "Saved best model at epoch 10 (Moving Avg Loss: 0.018084)\n",
      "Deleted previous best model: output_model_small_session_split_data\\checkpoints\\model_best_epoch_9.pth\n"
     ]
    },
    {
     "data": {
      "application/vnd.jupyter.widget-view+json": {
       "model_id": "7b82f692c05946f3a8773d229735f802",
       "version_major": 2,
       "version_minor": 0
      },
      "text/plain": [
       "Epoch 11/1000:   0%|          | 0/4225 [00:00<?, ?it/s]"
      ]
     },
     "metadata": {},
     "output_type": "display_data"
    },
    {
     "name": "stdout",
     "output_type": "stream",
     "text": [
      "Saved sample image at epoch 11\n",
      "Epoch 11, Step 4224:\n",
      "  Mem Allocated: 65.20 MB\n",
      "  Max Mem Allocated: 359.67 MB\n",
      "  Mem Reserved: 482.00 MB\n",
      "  Max Mem Reserved: 482.00 MB\n",
      "Saved best model at epoch 11 (Moving Avg Loss: 0.009508)\n",
      "Deleted previous best model: output_model_small_session_split_data\\checkpoints\\model_best_epoch_10.pth\n"
     ]
    },
    {
     "data": {
      "application/vnd.jupyter.widget-view+json": {
       "model_id": "c0926f6f71ce422cb7566d4ec09e89eb",
       "version_major": 2,
       "version_minor": 0
      },
      "text/plain": [
       "Epoch 12/1000:   0%|          | 0/4225 [00:00<?, ?it/s]"
      ]
     },
     "metadata": {},
     "output_type": "display_data"
    },
    {
     "name": "stdout",
     "output_type": "stream",
     "text": [
      "Saved sample image at epoch 12\n",
      "Epoch 12, Step 4224:\n",
      "  Mem Allocated: 65.20 MB\n",
      "  Max Mem Allocated: 359.67 MB\n",
      "  Mem Reserved: 482.00 MB\n",
      "  Max Mem Reserved: 482.00 MB\n",
      "Saved best model at epoch 12 (Moving Avg Loss: 0.007912)\n",
      "Deleted previous best model: output_model_small_session_split_data\\checkpoints\\model_best_epoch_11.pth\n"
     ]
    },
    {
     "data": {
      "application/vnd.jupyter.widget-view+json": {
       "model_id": "ceb21705a9b04cd5968c07a55a17ab0d",
       "version_major": 2,
       "version_minor": 0
      },
      "text/plain": [
       "Epoch 13/1000:   0%|          | 0/4225 [00:00<?, ?it/s]"
      ]
     },
     "metadata": {},
     "output_type": "display_data"
    },
    {
     "name": "stdout",
     "output_type": "stream",
     "text": [
      "Saved sample image at epoch 13\n",
      "Epoch 13, Step 4224:\n",
      "  Mem Allocated: 65.20 MB\n",
      "  Max Mem Allocated: 359.67 MB\n",
      "  Mem Reserved: 482.00 MB\n",
      "  Max Mem Reserved: 482.00 MB\n",
      "Saved best model at epoch 13 (Moving Avg Loss: 0.006924)\n",
      "Deleted previous best model: output_model_small_session_split_data\\checkpoints\\model_best_epoch_12.pth\n"
     ]
    },
    {
     "data": {
      "application/vnd.jupyter.widget-view+json": {
       "model_id": "407a26a3e9c942ad85bfa58f8c49e9bc",
       "version_major": 2,
       "version_minor": 0
      },
      "text/plain": [
       "Epoch 14/1000:   0%|          | 0/4225 [00:00<?, ?it/s]"
      ]
     },
     "metadata": {},
     "output_type": "display_data"
    },
    {
     "name": "stdout",
     "output_type": "stream",
     "text": [
      "Saved sample image at epoch 14\n",
      "Epoch 14, Step 4224:\n",
      "  Mem Allocated: 65.20 MB\n",
      "  Max Mem Allocated: 359.67 MB\n",
      "  Mem Reserved: 482.00 MB\n",
      "  Max Mem Reserved: 482.00 MB\n",
      "Saved best model at epoch 14 (Moving Avg Loss: 0.006354)\n",
      "Deleted previous best model: output_model_small_session_split_data\\checkpoints\\model_best_epoch_13.pth\n"
     ]
    },
    {
     "data": {
      "application/vnd.jupyter.widget-view+json": {
       "model_id": "8e0f9847a7904219a51f83767f4a0aff",
       "version_major": 2,
       "version_minor": 0
      },
      "text/plain": [
       "Epoch 15/1000:   0%|          | 0/4225 [00:00<?, ?it/s]"
      ]
     },
     "metadata": {},
     "output_type": "display_data"
    },
    {
     "name": "stdout",
     "output_type": "stream",
     "text": [
      "Saved sample image at epoch 15\n",
      "Epoch 15, Step 4224:\n",
      "  Mem Allocated: 65.20 MB\n",
      "  Max Mem Allocated: 359.67 MB\n",
      "  Mem Reserved: 482.00 MB\n",
      "  Max Mem Reserved: 482.00 MB\n",
      "Saved best model at epoch 15 (Moving Avg Loss: 0.005762)\n",
      "Deleted previous best model: output_model_small_session_split_data\\checkpoints\\model_best_epoch_14.pth\n"
     ]
    },
    {
     "data": {
      "application/vnd.jupyter.widget-view+json": {
       "model_id": "576ae7f75e1042649e7c90945e4037fe",
       "version_major": 2,
       "version_minor": 0
      },
      "text/plain": [
       "Epoch 16/1000:   0%|          | 0/4225 [00:00<?, ?it/s]"
      ]
     },
     "metadata": {},
     "output_type": "display_data"
    },
    {
     "name": "stdout",
     "output_type": "stream",
     "text": [
      "Saved sample image at epoch 16\n",
      "Epoch 16, Step 4224:\n",
      "  Mem Allocated: 65.20 MB\n",
      "  Max Mem Allocated: 359.67 MB\n",
      "  Mem Reserved: 482.00 MB\n",
      "  Max Mem Reserved: 482.00 MB\n",
      "Saved best model at epoch 16 (Moving Avg Loss: 0.005328)\n",
      "Deleted previous best model: output_model_small_session_split_data\\checkpoints\\model_best_epoch_15.pth\n"
     ]
    },
    {
     "data": {
      "application/vnd.jupyter.widget-view+json": {
       "model_id": "ed4986f203824526ba45ec6c35778625",
       "version_major": 2,
       "version_minor": 0
      },
      "text/plain": [
       "Epoch 17/1000:   0%|          | 0/4225 [00:00<?, ?it/s]"
      ]
     },
     "metadata": {},
     "output_type": "display_data"
    },
    {
     "name": "stdout",
     "output_type": "stream",
     "text": [
      "Saved sample image at epoch 17\n",
      "Epoch 17, Step 4224:\n",
      "  Mem Allocated: 65.20 MB\n",
      "  Max Mem Allocated: 359.67 MB\n",
      "  Mem Reserved: 482.00 MB\n",
      "  Max Mem Reserved: 482.00 MB\n",
      "Saved best model at epoch 17 (Moving Avg Loss: 0.005023)\n",
      "Deleted previous best model: output_model_small_session_split_data\\checkpoints\\model_best_epoch_16.pth\n"
     ]
    },
    {
     "data": {
      "application/vnd.jupyter.widget-view+json": {
       "model_id": "410ef6dc2e214c7b8c4791ba7e6e6b54",
       "version_major": 2,
       "version_minor": 0
      },
      "text/plain": [
       "Epoch 18/1000:   0%|          | 0/4225 [00:00<?, ?it/s]"
      ]
     },
     "metadata": {},
     "output_type": "display_data"
    },
    {
     "name": "stdout",
     "output_type": "stream",
     "text": [
      "Saved sample image at epoch 18\n",
      "Epoch 18, Step 4224:\n",
      "  Mem Allocated: 65.20 MB\n",
      "  Max Mem Allocated: 359.67 MB\n",
      "  Mem Reserved: 482.00 MB\n",
      "  Max Mem Reserved: 482.00 MB\n",
      "Saved best model at epoch 18 (Moving Avg Loss: 0.004795)\n",
      "Deleted previous best model: output_model_small_session_split_data\\checkpoints\\model_best_epoch_17.pth\n"
     ]
    },
    {
     "data": {
      "application/vnd.jupyter.widget-view+json": {
       "model_id": "60bde21cbb0246e2a8bd26a22fc3dcdf",
       "version_major": 2,
       "version_minor": 0
      },
      "text/plain": [
       "Epoch 19/1000:   0%|          | 0/4225 [00:00<?, ?it/s]"
      ]
     },
     "metadata": {},
     "output_type": "display_data"
    },
    {
     "name": "stdout",
     "output_type": "stream",
     "text": [
      "Saved sample image at epoch 19\n",
      "Epoch 19, Step 4224:\n",
      "  Mem Allocated: 65.20 MB\n",
      "  Max Mem Allocated: 359.67 MB\n",
      "  Mem Reserved: 482.00 MB\n",
      "  Max Mem Reserved: 482.00 MB\n",
      "Saved best model at epoch 19 (Moving Avg Loss: 0.004595)\n",
      "Deleted previous best model: output_model_small_session_split_data\\checkpoints\\model_best_epoch_18.pth\n"
     ]
    },
    {
     "data": {
      "application/vnd.jupyter.widget-view+json": {
       "model_id": "73215dd5a26b468ebbce43d321f6b311",
       "version_major": 2,
       "version_minor": 0
      },
      "text/plain": [
       "Epoch 20/1000:   0%|          | 0/4225 [00:00<?, ?it/s]"
      ]
     },
     "metadata": {},
     "output_type": "display_data"
    },
    {
     "name": "stdout",
     "output_type": "stream",
     "text": [
      "Saved sample image at epoch 20\n",
      "Epoch 20, Step 4224:\n",
      "  Mem Allocated: 65.20 MB\n",
      "  Max Mem Allocated: 359.67 MB\n",
      "  Mem Reserved: 482.00 MB\n",
      "  Max Mem Reserved: 482.00 MB\n",
      "Epoch 20: Avg Loss = 0.003620, Moving Avg = 0.004366, Time = 0:58:37.437348\n",
      "Saved best model at epoch 20 (Moving Avg Loss: 0.004366)\n",
      "Deleted previous best model: output_model_small_session_split_data\\checkpoints\\model_best_epoch_19.pth\n"
     ]
    },
    {
     "data": {
      "application/vnd.jupyter.widget-view+json": {
       "model_id": "c3bb37dc1db644129cad5252c1693a38",
       "version_major": 2,
       "version_minor": 0
      },
      "text/plain": [
       "Epoch 21/1000:   0%|          | 0/4225 [00:00<?, ?it/s]"
      ]
     },
     "metadata": {},
     "output_type": "display_data"
    },
    {
     "name": "stdout",
     "output_type": "stream",
     "text": [
      "Saved sample image at epoch 21\n",
      "Epoch 21, Step 4224:\n",
      "  Mem Allocated: 65.20 MB\n",
      "  Max Mem Allocated: 359.67 MB\n",
      "  Mem Reserved: 482.00 MB\n",
      "  Max Mem Reserved: 482.00 MB\n",
      "Saved best model at epoch 21 (Moving Avg Loss: 0.004200)\n",
      "Deleted previous best model: output_model_small_session_split_data\\checkpoints\\model_best_epoch_20.pth\n"
     ]
    },
    {
     "data": {
      "application/vnd.jupyter.widget-view+json": {
       "model_id": "7a3f519ad81f44e19626b6038796bc16",
       "version_major": 2,
       "version_minor": 0
      },
      "text/plain": [
       "Epoch 22/1000:   0%|          | 0/4225 [00:00<?, ?it/s]"
      ]
     },
     "metadata": {},
     "output_type": "display_data"
    },
    {
     "name": "stdout",
     "output_type": "stream",
     "text": [
      "Saved sample image at epoch 22\n",
      "Epoch 22, Step 4224:\n",
      "  Mem Allocated: 65.20 MB\n",
      "  Max Mem Allocated: 359.67 MB\n",
      "  Mem Reserved: 482.00 MB\n",
      "  Max Mem Reserved: 482.00 MB\n",
      "Saved best model at epoch 22 (Moving Avg Loss: 0.004058)\n",
      "Deleted previous best model: output_model_small_session_split_data\\checkpoints\\model_best_epoch_21.pth\n"
     ]
    },
    {
     "data": {
      "application/vnd.jupyter.widget-view+json": {
       "model_id": "ffd70226c55b4fd19cb54ce195178eaf",
       "version_major": 2,
       "version_minor": 0
      },
      "text/plain": [
       "Epoch 23/1000:   0%|          | 0/4225 [00:00<?, ?it/s]"
      ]
     },
     "metadata": {},
     "output_type": "display_data"
    },
    {
     "name": "stdout",
     "output_type": "stream",
     "text": [
      "Saved sample image at epoch 23\n",
      "Epoch 23, Step 4224:\n",
      "  Mem Allocated: 65.20 MB\n",
      "  Max Mem Allocated: 359.67 MB\n",
      "  Mem Reserved: 482.00 MB\n",
      "  Max Mem Reserved: 482.00 MB\n",
      "Saved best model at epoch 23 (Moving Avg Loss: 0.003944)\n",
      "Deleted previous best model: output_model_small_session_split_data\\checkpoints\\model_best_epoch_22.pth\n"
     ]
    },
    {
     "data": {
      "application/vnd.jupyter.widget-view+json": {
       "model_id": "c750275354234ae28eb208b3b97ae14c",
       "version_major": 2,
       "version_minor": 0
      },
      "text/plain": [
       "Epoch 24/1000:   0%|          | 0/4225 [00:00<?, ?it/s]"
      ]
     },
     "metadata": {},
     "output_type": "display_data"
    },
    {
     "name": "stdout",
     "output_type": "stream",
     "text": [
      "Saved sample image at epoch 24\n",
      "Epoch 24, Step 4224:\n",
      "  Mem Allocated: 65.20 MB\n",
      "  Max Mem Allocated: 359.67 MB\n",
      "  Mem Reserved: 482.00 MB\n",
      "  Max Mem Reserved: 482.00 MB\n",
      "Saved best model at epoch 24 (Moving Avg Loss: 0.003837)\n",
      "Deleted previous best model: output_model_small_session_split_data\\checkpoints\\model_best_epoch_23.pth\n"
     ]
    },
    {
     "data": {
      "application/vnd.jupyter.widget-view+json": {
       "model_id": "4d792ba84773483890878ab0eb84453f",
       "version_major": 2,
       "version_minor": 0
      },
      "text/plain": [
       "Epoch 25/1000:   0%|          | 0/4225 [00:00<?, ?it/s]"
      ]
     },
     "metadata": {},
     "output_type": "display_data"
    },
    {
     "name": "stdout",
     "output_type": "stream",
     "text": [
      "Saved sample image at epoch 25\n",
      "Epoch 25, Step 4224:\n",
      "  Mem Allocated: 65.20 MB\n",
      "  Max Mem Allocated: 359.67 MB\n",
      "  Mem Reserved: 482.00 MB\n",
      "  Max Mem Reserved: 482.00 MB\n",
      "Saved best model at epoch 25 (Moving Avg Loss: 0.003718)\n",
      "Deleted previous best model: output_model_small_session_split_data\\checkpoints\\model_best_epoch_24.pth\n"
     ]
    },
    {
     "data": {
      "application/vnd.jupyter.widget-view+json": {
       "model_id": "16cbfecb5aab4d5095dedecf1d75034d",
       "version_major": 2,
       "version_minor": 0
      },
      "text/plain": [
       "Epoch 26/1000:   0%|          | 0/4225 [00:00<?, ?it/s]"
      ]
     },
     "metadata": {},
     "output_type": "display_data"
    },
    {
     "name": "stdout",
     "output_type": "stream",
     "text": [
      "Saved sample image at epoch 26\n",
      "Epoch 26, Step 4224:\n",
      "  Mem Allocated: 65.20 MB\n",
      "  Max Mem Allocated: 359.67 MB\n",
      "  Mem Reserved: 482.00 MB\n",
      "  Max Mem Reserved: 482.00 MB\n",
      "Saved best model at epoch 26 (Moving Avg Loss: 0.003674)\n",
      "Deleted previous best model: output_model_small_session_split_data\\checkpoints\\model_best_epoch_25.pth\n"
     ]
    },
    {
     "data": {
      "application/vnd.jupyter.widget-view+json": {
       "model_id": "82b995d3f7e144e4b50757ecb741ef7a",
       "version_major": 2,
       "version_minor": 0
      },
      "text/plain": [
       "Epoch 27/1000:   0%|          | 0/4225 [00:00<?, ?it/s]"
      ]
     },
     "metadata": {},
     "output_type": "display_data"
    },
    {
     "name": "stdout",
     "output_type": "stream",
     "text": [
      "Saved sample image at epoch 27\n",
      "Epoch 27, Step 4224:\n",
      "  Mem Allocated: 65.20 MB\n",
      "  Max Mem Allocated: 359.67 MB\n",
      "  Mem Reserved: 482.00 MB\n",
      "  Max Mem Reserved: 482.00 MB\n",
      "Saved best model at epoch 27 (Moving Avg Loss: 0.003633)\n",
      "Deleted previous best model: output_model_small_session_split_data\\checkpoints\\model_best_epoch_26.pth\n"
     ]
    },
    {
     "data": {
      "application/vnd.jupyter.widget-view+json": {
       "model_id": "65199eb1f44e4e5aabc1259cd9fd91d5",
       "version_major": 2,
       "version_minor": 0
      },
      "text/plain": [
       "Epoch 28/1000:   0%|          | 0/4225 [00:00<?, ?it/s]"
      ]
     },
     "metadata": {},
     "output_type": "display_data"
    },
    {
     "name": "stdout",
     "output_type": "stream",
     "text": [
      "Saved sample image at epoch 28\n",
      "Epoch 28, Step 4224:\n",
      "  Mem Allocated: 65.20 MB\n",
      "  Max Mem Allocated: 359.67 MB\n",
      "  Mem Reserved: 482.00 MB\n",
      "  Max Mem Reserved: 482.00 MB\n",
      "Saved best model at epoch 28 (Moving Avg Loss: 0.003524)\n",
      "Deleted previous best model: output_model_small_session_split_data\\checkpoints\\model_best_epoch_27.pth\n"
     ]
    },
    {
     "data": {
      "application/vnd.jupyter.widget-view+json": {
       "model_id": "8165464b6cb14f4bacdb30e8c91ce8ce",
       "version_major": 2,
       "version_minor": 0
      },
      "text/plain": [
       "Epoch 29/1000:   0%|          | 0/4225 [00:00<?, ?it/s]"
      ]
     },
     "metadata": {},
     "output_type": "display_data"
    },
    {
     "name": "stdout",
     "output_type": "stream",
     "text": [
      "Saved sample image at epoch 29\n",
      "Epoch 29, Step 4224:\n",
      "  Mem Allocated: 65.20 MB\n",
      "  Max Mem Allocated: 359.67 MB\n",
      "  Mem Reserved: 482.00 MB\n",
      "  Max Mem Reserved: 482.00 MB\n",
      "Saved best model at epoch 29 (Moving Avg Loss: 0.003473)\n",
      "Deleted previous best model: output_model_small_session_split_data\\checkpoints\\model_best_epoch_28.pth\n"
     ]
    },
    {
     "data": {
      "application/vnd.jupyter.widget-view+json": {
       "model_id": "2da20204371e4e1ba1282aee2c7c6a18",
       "version_major": 2,
       "version_minor": 0
      },
      "text/plain": [
       "Epoch 30/1000:   0%|          | 0/4225 [00:00<?, ?it/s]"
      ]
     },
     "metadata": {},
     "output_type": "display_data"
    },
    {
     "name": "stdout",
     "output_type": "stream",
     "text": [
      "Saved sample image at epoch 30\n",
      "Epoch 30, Step 4224:\n",
      "  Mem Allocated: 65.20 MB\n",
      "  Max Mem Allocated: 359.67 MB\n",
      "  Mem Reserved: 482.00 MB\n",
      "  Max Mem Reserved: 482.00 MB\n",
      "Epoch 30: Avg Loss = 0.003298, Moving Avg = 0.003441, Time = 1:27:53.152238\n",
      "Saved best model at epoch 30 (Moving Avg Loss: 0.003441)\n",
      "Deleted previous best model: output_model_small_session_split_data\\checkpoints\\model_best_epoch_29.pth\n"
     ]
    },
    {
     "data": {
      "application/vnd.jupyter.widget-view+json": {
       "model_id": "8c0ae21b62c843258aac34ea080d4486",
       "version_major": 2,
       "version_minor": 0
      },
      "text/plain": [
       "Epoch 31/1000:   0%|          | 0/4225 [00:00<?, ?it/s]"
      ]
     },
     "metadata": {},
     "output_type": "display_data"
    },
    {
     "name": "stdout",
     "output_type": "stream",
     "text": [
      "Saved sample image at epoch 31\n",
      "Epoch 31, Step 4224:\n",
      "  Mem Allocated: 65.20 MB\n",
      "  Max Mem Allocated: 359.67 MB\n",
      "  Mem Reserved: 482.00 MB\n",
      "  Max Mem Reserved: 482.00 MB\n",
      "Saved best model at epoch 31 (Moving Avg Loss: 0.003347)\n",
      "Deleted previous best model: output_model_small_session_split_data\\checkpoints\\model_best_epoch_30.pth\n"
     ]
    },
    {
     "data": {
      "application/vnd.jupyter.widget-view+json": {
       "model_id": "5b4c515de032483aa494c2a82565f713",
       "version_major": 2,
       "version_minor": 0
      },
      "text/plain": [
       "Epoch 32/1000:   0%|          | 0/4225 [00:00<?, ?it/s]"
      ]
     },
     "metadata": {},
     "output_type": "display_data"
    },
    {
     "name": "stdout",
     "output_type": "stream",
     "text": [
      "Saved sample image at epoch 32\n",
      "Epoch 32, Step 4224:\n",
      "  Mem Allocated: 65.20 MB\n",
      "  Max Mem Allocated: 359.67 MB\n",
      "  Mem Reserved: 482.00 MB\n",
      "  Max Mem Reserved: 482.00 MB\n",
      "Saved best model at epoch 32 (Moving Avg Loss: 0.003294)\n",
      "Deleted previous best model: output_model_small_session_split_data\\checkpoints\\model_best_epoch_31.pth\n"
     ]
    },
    {
     "data": {
      "application/vnd.jupyter.widget-view+json": {
       "model_id": "b683db45aab9442a90e3fc404201d0d5",
       "version_major": 2,
       "version_minor": 0
      },
      "text/plain": [
       "Epoch 33/1000:   0%|          | 0/4225 [00:00<?, ?it/s]"
      ]
     },
     "metadata": {},
     "output_type": "display_data"
    },
    {
     "name": "stdout",
     "output_type": "stream",
     "text": [
      "Saved sample image at epoch 33\n",
      "Epoch 33, Step 4224:\n",
      "  Mem Allocated: 65.20 MB\n",
      "  Max Mem Allocated: 359.67 MB\n",
      "  Mem Reserved: 482.00 MB\n",
      "  Max Mem Reserved: 482.00 MB\n",
      "Saved best model at epoch 33 (Moving Avg Loss: 0.003256)\n",
      "Deleted previous best model: output_model_small_session_split_data\\checkpoints\\model_best_epoch_32.pth\n"
     ]
    },
    {
     "data": {
      "application/vnd.jupyter.widget-view+json": {
       "model_id": "a754645b74464787a93611a63a2cb74e",
       "version_major": 2,
       "version_minor": 0
      },
      "text/plain": [
       "Epoch 34/1000:   0%|          | 0/4225 [00:00<?, ?it/s]"
      ]
     },
     "metadata": {},
     "output_type": "display_data"
    },
    {
     "name": "stdout",
     "output_type": "stream",
     "text": [
      "Saved sample image at epoch 34\n",
      "Epoch 34, Step 4224:\n",
      "  Mem Allocated: 65.20 MB\n",
      "  Max Mem Allocated: 359.67 MB\n",
      "  Mem Reserved: 482.00 MB\n",
      "  Max Mem Reserved: 482.00 MB\n",
      "Saved best model at epoch 34 (Moving Avg Loss: 0.003245)\n",
      "Deleted previous best model: output_model_small_session_split_data\\checkpoints\\model_best_epoch_33.pth\n"
     ]
    },
    {
     "data": {
      "application/vnd.jupyter.widget-view+json": {
       "model_id": "926e6f9a40b14affa956d4aef99c8978",
       "version_major": 2,
       "version_minor": 0
      },
      "text/plain": [
       "Epoch 35/1000:   0%|          | 0/4225 [00:00<?, ?it/s]"
      ]
     },
     "metadata": {},
     "output_type": "display_data"
    },
    {
     "name": "stdout",
     "output_type": "stream",
     "text": [
      "Saved sample image at epoch 35\n",
      "Epoch 35, Step 4224:\n",
      "  Mem Allocated: 65.20 MB\n",
      "  Max Mem Allocated: 359.67 MB\n",
      "  Mem Reserved: 482.00 MB\n",
      "  Max Mem Reserved: 482.00 MB\n",
      "Saved best model at epoch 35 (Moving Avg Loss: 0.003224)\n",
      "Deleted previous best model: output_model_small_session_split_data\\checkpoints\\model_best_epoch_34.pth\n"
     ]
    },
    {
     "data": {
      "application/vnd.jupyter.widget-view+json": {
       "model_id": "8de9e39c85214495a729e675b3327688",
       "version_major": 2,
       "version_minor": 0
      },
      "text/plain": [
       "Epoch 36/1000:   0%|          | 0/4225 [00:00<?, ?it/s]"
      ]
     },
     "metadata": {},
     "output_type": "display_data"
    },
    {
     "name": "stdout",
     "output_type": "stream",
     "text": [
      "Saved sample image at epoch 36\n",
      "Epoch 36, Step 4224:\n",
      "  Mem Allocated: 65.20 MB\n",
      "  Max Mem Allocated: 359.67 MB\n",
      "  Mem Reserved: 482.00 MB\n",
      "  Max Mem Reserved: 482.00 MB\n",
      "Saved best model at epoch 36 (Moving Avg Loss: 0.003160)\n",
      "Deleted previous best model: output_model_small_session_split_data\\checkpoints\\model_best_epoch_35.pth\n"
     ]
    },
    {
     "data": {
      "application/vnd.jupyter.widget-view+json": {
       "model_id": "1a84abcff8914a59ae95630cd407b89f",
       "version_major": 2,
       "version_minor": 0
      },
      "text/plain": [
       "Epoch 37/1000:   0%|          | 0/4225 [00:00<?, ?it/s]"
      ]
     },
     "metadata": {},
     "output_type": "display_data"
    },
    {
     "name": "stdout",
     "output_type": "stream",
     "text": [
      "Saved sample image at epoch 37\n",
      "Epoch 37, Step 4224:\n",
      "  Mem Allocated: 65.20 MB\n",
      "  Max Mem Allocated: 359.67 MB\n",
      "  Mem Reserved: 482.00 MB\n",
      "  Max Mem Reserved: 482.00 MB\n",
      "Saved best model at epoch 37 (Moving Avg Loss: 0.003099)\n",
      "Deleted previous best model: output_model_small_session_split_data\\checkpoints\\model_best_epoch_36.pth\n"
     ]
    },
    {
     "data": {
      "application/vnd.jupyter.widget-view+json": {
       "model_id": "67adff3b79734a44b3274643de0a19fa",
       "version_major": 2,
       "version_minor": 0
      },
      "text/plain": [
       "Epoch 38/1000:   0%|          | 0/4225 [00:00<?, ?it/s]"
      ]
     },
     "metadata": {},
     "output_type": "display_data"
    },
    {
     "name": "stdout",
     "output_type": "stream",
     "text": [
      "Saved sample image at epoch 38\n",
      "Epoch 38, Step 4224:\n",
      "  Mem Allocated: 65.20 MB\n",
      "  Max Mem Allocated: 359.67 MB\n",
      "  Mem Reserved: 482.00 MB\n",
      "  Max Mem Reserved: 482.00 MB\n",
      "Saved best model at epoch 38 (Moving Avg Loss: 0.003077)\n",
      "Deleted previous best model: output_model_small_session_split_data\\checkpoints\\model_best_epoch_37.pth\n"
     ]
    },
    {
     "data": {
      "application/vnd.jupyter.widget-view+json": {
       "model_id": "d546b08695724227942ff25e18f8ee2b",
       "version_major": 2,
       "version_minor": 0
      },
      "text/plain": [
       "Epoch 39/1000:   0%|          | 0/4225 [00:00<?, ?it/s]"
      ]
     },
     "metadata": {},
     "output_type": "display_data"
    },
    {
     "name": "stdout",
     "output_type": "stream",
     "text": [
      "Saved sample image at epoch 39\n",
      "Epoch 39, Step 4224:\n",
      "  Mem Allocated: 65.20 MB\n",
      "  Max Mem Allocated: 359.67 MB\n",
      "  Mem Reserved: 482.00 MB\n",
      "  Max Mem Reserved: 482.00 MB\n",
      "Saved best model at epoch 39 (Moving Avg Loss: 0.003073)\n",
      "Deleted previous best model: output_model_small_session_split_data\\checkpoints\\model_best_epoch_38.pth\n"
     ]
    },
    {
     "data": {
      "application/vnd.jupyter.widget-view+json": {
       "model_id": "990f067201f64f2b907efa1231285624",
       "version_major": 2,
       "version_minor": 0
      },
      "text/plain": [
       "Epoch 40/1000:   0%|          | 0/4225 [00:00<?, ?it/s]"
      ]
     },
     "metadata": {},
     "output_type": "display_data"
    },
    {
     "name": "stdout",
     "output_type": "stream",
     "text": [
      "Saved sample image at epoch 40\n",
      "Epoch 40, Step 4224:\n",
      "  Mem Allocated: 65.20 MB\n",
      "  Max Mem Allocated: 359.67 MB\n",
      "  Mem Reserved: 482.00 MB\n",
      "  Max Mem Reserved: 482.00 MB\n",
      "Epoch 40: Avg Loss = 0.002964, Moving Avg = 0.003040, Time = 1:57:03.329727\n",
      "Saved best model at epoch 40 (Moving Avg Loss: 0.003040)\n",
      "Deleted previous best model: output_model_small_session_split_data\\checkpoints\\model_best_epoch_39.pth\n"
     ]
    },
    {
     "data": {
      "application/vnd.jupyter.widget-view+json": {
       "model_id": "087380d19c664177aff62c15c88f0d8b",
       "version_major": 2,
       "version_minor": 0
      },
      "text/plain": [
       "Epoch 41/1000:   0%|          | 0/4225 [00:00<?, ?it/s]"
      ]
     },
     "metadata": {},
     "output_type": "display_data"
    },
    {
     "name": "stdout",
     "output_type": "stream",
     "text": [
      "Saved sample image at epoch 41\n",
      "Epoch 41, Step 4224:\n",
      "  Mem Allocated: 65.20 MB\n",
      "  Max Mem Allocated: 359.67 MB\n",
      "  Mem Reserved: 482.00 MB\n",
      "  Max Mem Reserved: 482.00 MB\n",
      "Saved best model at epoch 41 (Moving Avg Loss: 0.003038)\n",
      "Deleted previous best model: output_model_small_session_split_data\\checkpoints\\model_best_epoch_40.pth\n"
     ]
    },
    {
     "data": {
      "application/vnd.jupyter.widget-view+json": {
       "model_id": "8f0508fda65c4a38b1c7b3f2edc05773",
       "version_major": 2,
       "version_minor": 0
      },
      "text/plain": [
       "Epoch 42/1000:   0%|          | 0/4225 [00:00<?, ?it/s]"
      ]
     },
     "metadata": {},
     "output_type": "display_data"
    },
    {
     "name": "stdout",
     "output_type": "stream",
     "text": [
      "Saved sample image at epoch 42\n",
      "Epoch 42, Step 4224:\n",
      "  Mem Allocated: 65.20 MB\n",
      "  Max Mem Allocated: 359.67 MB\n",
      "  Mem Reserved: 482.00 MB\n",
      "  Max Mem Reserved: 482.00 MB\n",
      "Saved best model at epoch 42 (Moving Avg Loss: 0.003021)\n",
      "Deleted previous best model: output_model_small_session_split_data\\checkpoints\\model_best_epoch_41.pth\n"
     ]
    },
    {
     "data": {
      "application/vnd.jupyter.widget-view+json": {
       "model_id": "e269053844c44abfb42b8c9882fc20d3",
       "version_major": 2,
       "version_minor": 0
      },
      "text/plain": [
       "Epoch 43/1000:   0%|          | 0/4225 [00:00<?, ?it/s]"
      ]
     },
     "metadata": {},
     "output_type": "display_data"
    },
    {
     "name": "stdout",
     "output_type": "stream",
     "text": [
      "Saved sample image at epoch 43\n",
      "Epoch 43, Step 4224:\n",
      "  Mem Allocated: 65.20 MB\n",
      "  Max Mem Allocated: 359.67 MB\n",
      "  Mem Reserved: 482.00 MB\n",
      "  Max Mem Reserved: 482.00 MB\n",
      "Saved best model at epoch 43 (Moving Avg Loss: 0.002990)\n",
      "Deleted previous best model: output_model_small_session_split_data\\checkpoints\\model_best_epoch_42.pth\n"
     ]
    },
    {
     "data": {
      "application/vnd.jupyter.widget-view+json": {
       "model_id": "a8a29a44098740289859bac8efca50fb",
       "version_major": 2,
       "version_minor": 0
      },
      "text/plain": [
       "Epoch 44/1000:   0%|          | 0/4225 [00:00<?, ?it/s]"
      ]
     },
     "metadata": {},
     "output_type": "display_data"
    },
    {
     "name": "stdout",
     "output_type": "stream",
     "text": [
      "Saved sample image at epoch 44\n",
      "Epoch 44, Step 4224:\n",
      "  Mem Allocated: 65.20 MB\n",
      "  Max Mem Allocated: 359.67 MB\n",
      "  Mem Reserved: 482.00 MB\n",
      "  Max Mem Reserved: 482.00 MB\n",
      "Saved best model at epoch 44 (Moving Avg Loss: 0.002942)\n",
      "Deleted previous best model: output_model_small_session_split_data\\checkpoints\\model_best_epoch_43.pth\n"
     ]
    },
    {
     "data": {
      "application/vnd.jupyter.widget-view+json": {
       "model_id": "a6fdb5fa298c42c5a3cd68333259d10f",
       "version_major": 2,
       "version_minor": 0
      },
      "text/plain": [
       "Epoch 45/1000:   0%|          | 0/4225 [00:00<?, ?it/s]"
      ]
     },
     "metadata": {},
     "output_type": "display_data"
    },
    {
     "name": "stdout",
     "output_type": "stream",
     "text": [
      "Saved sample image at epoch 45\n",
      "Epoch 45, Step 4224:\n",
      "  Mem Allocated: 65.20 MB\n",
      "  Max Mem Allocated: 359.67 MB\n",
      "  Mem Reserved: 482.00 MB\n",
      "  Max Mem Reserved: 482.00 MB\n",
      "Saved best model at epoch 45 (Moving Avg Loss: 0.002925)\n",
      "Deleted previous best model: output_model_small_session_split_data\\checkpoints\\model_best_epoch_44.pth\n"
     ]
    },
    {
     "data": {
      "application/vnd.jupyter.widget-view+json": {
       "model_id": "ba674ad74d884d2382a6052198ebac60",
       "version_major": 2,
       "version_minor": 0
      },
      "text/plain": [
       "Epoch 46/1000:   0%|          | 0/4225 [00:00<?, ?it/s]"
      ]
     },
     "metadata": {},
     "output_type": "display_data"
    },
    {
     "name": "stdout",
     "output_type": "stream",
     "text": [
      "Saved sample image at epoch 46\n",
      "Epoch 46, Step 4224:\n",
      "  Mem Allocated: 65.20 MB\n",
      "  Max Mem Allocated: 359.67 MB\n",
      "  Mem Reserved: 482.00 MB\n",
      "  Max Mem Reserved: 482.00 MB\n"
     ]
    },
    {
     "data": {
      "application/vnd.jupyter.widget-view+json": {
       "model_id": "09c51b7d48bd4cd6abc77201b08de74f",
       "version_major": 2,
       "version_minor": 0
      },
      "text/plain": [
       "Epoch 47/1000:   0%|          | 0/4225 [00:00<?, ?it/s]"
      ]
     },
     "metadata": {},
     "output_type": "display_data"
    },
    {
     "name": "stdout",
     "output_type": "stream",
     "text": [
      "Saved sample image at epoch 47\n",
      "Epoch 47, Step 4224:\n",
      "  Mem Allocated: 65.20 MB\n",
      "  Max Mem Allocated: 359.67 MB\n",
      "  Mem Reserved: 482.00 MB\n",
      "  Max Mem Reserved: 482.00 MB\n",
      "Saved best model at epoch 47 (Moving Avg Loss: 0.002888)\n",
      "Deleted previous best model: output_model_small_session_split_data\\checkpoints\\model_best_epoch_45.pth\n"
     ]
    },
    {
     "data": {
      "application/vnd.jupyter.widget-view+json": {
       "model_id": "f8522198a1e240eab53409b3f704eb03",
       "version_major": 2,
       "version_minor": 0
      },
      "text/plain": [
       "Epoch 48/1000:   0%|          | 0/4225 [00:00<?, ?it/s]"
      ]
     },
     "metadata": {},
     "output_type": "display_data"
    },
    {
     "name": "stdout",
     "output_type": "stream",
     "text": [
      "Saved sample image at epoch 48\n",
      "Epoch 48, Step 4224:\n",
      "  Mem Allocated: 65.20 MB\n",
      "  Max Mem Allocated: 359.67 MB\n",
      "  Mem Reserved: 482.00 MB\n",
      "  Max Mem Reserved: 482.00 MB\n",
      "Saved best model at epoch 48 (Moving Avg Loss: 0.002871)\n",
      "Deleted previous best model: output_model_small_session_split_data\\checkpoints\\model_best_epoch_47.pth\n"
     ]
    },
    {
     "data": {
      "application/vnd.jupyter.widget-view+json": {
       "model_id": "e9a4571be0ab412aa96abf3dbfd6bc8b",
       "version_major": 2,
       "version_minor": 0
      },
      "text/plain": [
       "Epoch 49/1000:   0%|          | 0/4225 [00:00<?, ?it/s]"
      ]
     },
     "metadata": {},
     "output_type": "display_data"
    },
    {
     "name": "stdout",
     "output_type": "stream",
     "text": [
      "Saved sample image at epoch 49\n",
      "Epoch 49, Step 4224:\n",
      "  Mem Allocated: 65.20 MB\n",
      "  Max Mem Allocated: 359.67 MB\n",
      "  Mem Reserved: 482.00 MB\n",
      "  Max Mem Reserved: 482.00 MB\n",
      "Saved best model at epoch 49 (Moving Avg Loss: 0.002794)\n",
      "Deleted previous best model: output_model_small_session_split_data\\checkpoints\\model_best_epoch_48.pth\n"
     ]
    },
    {
     "data": {
      "application/vnd.jupyter.widget-view+json": {
       "model_id": "92ba0ca1c3494e178f9d7284b2bce6d9",
       "version_major": 2,
       "version_minor": 0
      },
      "text/plain": [
       "Epoch 50/1000:   0%|          | 0/4225 [00:00<?, ?it/s]"
      ]
     },
     "metadata": {},
     "output_type": "display_data"
    },
    {
     "name": "stdout",
     "output_type": "stream",
     "text": [
      "Saved sample image at epoch 50\n",
      "Epoch 50, Step 4224:\n",
      "  Mem Allocated: 65.20 MB\n",
      "  Max Mem Allocated: 359.67 MB\n",
      "  Mem Reserved: 482.00 MB\n",
      "  Max Mem Reserved: 482.00 MB\n",
      "Epoch 50: Avg Loss = 0.002741, Moving Avg = 0.002772, Time = 2:26:11.710879\n",
      "Saved best model at epoch 50 (Moving Avg Loss: 0.002772)\n",
      "Deleted previous best model: output_model_small_session_split_data\\checkpoints\\model_best_epoch_49.pth\n"
     ]
    },
    {
     "data": {
      "application/vnd.jupyter.widget-view+json": {
       "model_id": "c5d8f28426ab45178d1fea38c4abb622",
       "version_major": 2,
       "version_minor": 0
      },
      "text/plain": [
       "Epoch 51/1000:   0%|          | 0/4225 [00:00<?, ?it/s]"
      ]
     },
     "metadata": {},
     "output_type": "display_data"
    },
    {
     "name": "stdout",
     "output_type": "stream",
     "text": [
      "Saved sample image at epoch 51\n",
      "Epoch 51, Step 4224:\n",
      "  Mem Allocated: 65.20 MB\n",
      "  Max Mem Allocated: 359.67 MB\n",
      "  Mem Reserved: 482.00 MB\n",
      "  Max Mem Reserved: 482.00 MB\n",
      "Saved best model at epoch 51 (Moving Avg Loss: 0.002762)\n",
      "Deleted previous best model: output_model_small_session_split_data\\checkpoints\\model_best_epoch_50.pth\n"
     ]
    },
    {
     "data": {
      "application/vnd.jupyter.widget-view+json": {
       "model_id": "a47df4cda708438eb85492b30e88b5b8",
       "version_major": 2,
       "version_minor": 0
      },
      "text/plain": [
       "Epoch 52/1000:   0%|          | 0/4225 [00:00<?, ?it/s]"
      ]
     },
     "metadata": {},
     "output_type": "display_data"
    },
    {
     "name": "stdout",
     "output_type": "stream",
     "text": [
      "Saved sample image at epoch 52\n",
      "Epoch 52, Step 4224:\n",
      "  Mem Allocated: 65.20 MB\n",
      "  Max Mem Allocated: 359.67 MB\n",
      "  Mem Reserved: 482.00 MB\n",
      "  Max Mem Reserved: 482.00 MB\n"
     ]
    },
    {
     "data": {
      "application/vnd.jupyter.widget-view+json": {
       "model_id": "56098ba6183e435c8656c22585d3c0a3",
       "version_major": 2,
       "version_minor": 0
      },
      "text/plain": [
       "Epoch 53/1000:   0%|          | 0/4225 [00:00<?, ?it/s]"
      ]
     },
     "metadata": {},
     "output_type": "display_data"
    },
    {
     "name": "stdout",
     "output_type": "stream",
     "text": [
      "Saved sample image at epoch 53\n",
      "Epoch 53, Step 4224:\n",
      "  Mem Allocated: 65.20 MB\n",
      "  Max Mem Allocated: 359.67 MB\n",
      "  Mem Reserved: 482.00 MB\n",
      "  Max Mem Reserved: 482.00 MB\n",
      "Saved best model at epoch 53 (Moving Avg Loss: 0.002745)\n",
      "Deleted previous best model: output_model_small_session_split_data\\checkpoints\\model_best_epoch_51.pth\n"
     ]
    },
    {
     "data": {
      "application/vnd.jupyter.widget-view+json": {
       "model_id": "91fc4be7a3414ea889b2778a80405e17",
       "version_major": 2,
       "version_minor": 0
      },
      "text/plain": [
       "Epoch 54/1000:   0%|          | 0/4225 [00:00<?, ?it/s]"
      ]
     },
     "metadata": {},
     "output_type": "display_data"
    },
    {
     "name": "stdout",
     "output_type": "stream",
     "text": [
      "Saved sample image at epoch 54\n",
      "Epoch 54, Step 4224:\n",
      "  Mem Allocated: 65.20 MB\n",
      "  Max Mem Allocated: 359.67 MB\n",
      "  Mem Reserved: 482.00 MB\n",
      "  Max Mem Reserved: 482.00 MB\n"
     ]
    },
    {
     "data": {
      "application/vnd.jupyter.widget-view+json": {
       "model_id": "6cc2ad48b4124053a1cfd75a4a108819",
       "version_major": 2,
       "version_minor": 0
      },
      "text/plain": [
       "Epoch 55/1000:   0%|          | 0/4225 [00:00<?, ?it/s]"
      ]
     },
     "metadata": {},
     "output_type": "display_data"
    },
    {
     "name": "stdout",
     "output_type": "stream",
     "text": [
      "Saved sample image at epoch 55\n",
      "Epoch 55, Step 4224:\n",
      "  Mem Allocated: 65.20 MB\n",
      "  Max Mem Allocated: 359.67 MB\n",
      "  Mem Reserved: 482.00 MB\n",
      "  Max Mem Reserved: 482.00 MB\n",
      "Saved best model at epoch 55 (Moving Avg Loss: 0.002717)\n",
      "Deleted previous best model: output_model_small_session_split_data\\checkpoints\\model_best_epoch_53.pth\n"
     ]
    },
    {
     "data": {
      "application/vnd.jupyter.widget-view+json": {
       "model_id": "b11b71d9c877440fbe6d7c292e466cc3",
       "version_major": 2,
       "version_minor": 0
      },
      "text/plain": [
       "Epoch 56/1000:   0%|          | 0/4225 [00:00<?, ?it/s]"
      ]
     },
     "metadata": {},
     "output_type": "display_data"
    },
    {
     "name": "stdout",
     "output_type": "stream",
     "text": [
      "Saved sample image at epoch 56\n",
      "Epoch 56, Step 4224:\n",
      "  Mem Allocated: 65.20 MB\n",
      "  Max Mem Allocated: 359.67 MB\n",
      "  Mem Reserved: 482.00 MB\n",
      "  Max Mem Reserved: 482.00 MB\n",
      "Saved best model at epoch 56 (Moving Avg Loss: 0.002690)\n",
      "Deleted previous best model: output_model_small_session_split_data\\checkpoints\\model_best_epoch_55.pth\n"
     ]
    },
    {
     "data": {
      "application/vnd.jupyter.widget-view+json": {
       "model_id": "486899b0da8d452f9a54361317a35238",
       "version_major": 2,
       "version_minor": 0
      },
      "text/plain": [
       "Epoch 57/1000:   0%|          | 0/4225 [00:00<?, ?it/s]"
      ]
     },
     "metadata": {},
     "output_type": "display_data"
    },
    {
     "name": "stdout",
     "output_type": "stream",
     "text": [
      "Saved sample image at epoch 57\n",
      "Epoch 57, Step 4224:\n",
      "  Mem Allocated: 65.20 MB\n",
      "  Max Mem Allocated: 359.67 MB\n",
      "  Mem Reserved: 482.00 MB\n",
      "  Max Mem Reserved: 482.00 MB\n",
      "Saved best model at epoch 57 (Moving Avg Loss: 0.002684)\n",
      "Deleted previous best model: output_model_small_session_split_data\\checkpoints\\model_best_epoch_56.pth\n"
     ]
    },
    {
     "data": {
      "application/vnd.jupyter.widget-view+json": {
       "model_id": "baa9204b9368436eb26b96b593d3538c",
       "version_major": 2,
       "version_minor": 0
      },
      "text/plain": [
       "Epoch 58/1000:   0%|          | 0/4225 [00:00<?, ?it/s]"
      ]
     },
     "metadata": {},
     "output_type": "display_data"
    },
    {
     "name": "stdout",
     "output_type": "stream",
     "text": [
      "Saved sample image at epoch 58\n",
      "Epoch 58, Step 4224:\n",
      "  Mem Allocated: 65.20 MB\n",
      "  Max Mem Allocated: 359.67 MB\n",
      "  Mem Reserved: 482.00 MB\n",
      "  Max Mem Reserved: 482.00 MB\n",
      "Saved best model at epoch 58 (Moving Avg Loss: 0.002670)\n",
      "Deleted previous best model: output_model_small_session_split_data\\checkpoints\\model_best_epoch_57.pth\n"
     ]
    },
    {
     "data": {
      "application/vnd.jupyter.widget-view+json": {
       "model_id": "c12af01845f44b3e8e474122a7ca8894",
       "version_major": 2,
       "version_minor": 0
      },
      "text/plain": [
       "Epoch 59/1000:   0%|          | 0/4225 [00:00<?, ?it/s]"
      ]
     },
     "metadata": {},
     "output_type": "display_data"
    },
    {
     "name": "stdout",
     "output_type": "stream",
     "text": [
      "Saved sample image at epoch 59\n",
      "Epoch 59, Step 4224:\n",
      "  Mem Allocated: 65.20 MB\n",
      "  Max Mem Allocated: 359.67 MB\n",
      "  Mem Reserved: 482.00 MB\n",
      "  Max Mem Reserved: 482.00 MB\n"
     ]
    },
    {
     "data": {
      "application/vnd.jupyter.widget-view+json": {
       "model_id": "2cb840112ce640c186d40f0c13b87895",
       "version_major": 2,
       "version_minor": 0
      },
      "text/plain": [
       "Epoch 60/1000:   0%|          | 0/4225 [00:00<?, ?it/s]"
      ]
     },
     "metadata": {},
     "output_type": "display_data"
    },
    {
     "name": "stdout",
     "output_type": "stream",
     "text": [
      "Saved sample image at epoch 60\n",
      "Epoch 60, Step 4224:\n",
      "  Mem Allocated: 65.20 MB\n",
      "  Max Mem Allocated: 359.67 MB\n",
      "  Mem Reserved: 482.00 MB\n",
      "  Max Mem Reserved: 482.00 MB\n",
      "Epoch 60: Avg Loss = 0.002642, Moving Avg = 0.002667, Time = 2:55:24.265870\n",
      "Saved best model at epoch 60 (Moving Avg Loss: 0.002667)\n",
      "Deleted previous best model: output_model_small_session_split_data\\checkpoints\\model_best_epoch_58.pth\n"
     ]
    },
    {
     "data": {
      "application/vnd.jupyter.widget-view+json": {
       "model_id": "b7254e8e474e41ca96124b3276d799f8",
       "version_major": 2,
       "version_minor": 0
      },
      "text/plain": [
       "Epoch 61/1000:   0%|          | 0/4225 [00:00<?, ?it/s]"
      ]
     },
     "metadata": {},
     "output_type": "display_data"
    },
    {
     "name": "stdout",
     "output_type": "stream",
     "text": [
      "Saved sample image at epoch 61\n",
      "Epoch 61, Step 4224:\n",
      "  Mem Allocated: 65.20 MB\n",
      "  Max Mem Allocated: 359.67 MB\n",
      "  Mem Reserved: 482.00 MB\n",
      "  Max Mem Reserved: 482.00 MB\n",
      "Saved best model at epoch 61 (Moving Avg Loss: 0.002630)\n",
      "Deleted previous best model: output_model_small_session_split_data\\checkpoints\\model_best_epoch_60.pth\n"
     ]
    },
    {
     "data": {
      "application/vnd.jupyter.widget-view+json": {
       "model_id": "d5aeccf396454caa9ac0319e624f2401",
       "version_major": 2,
       "version_minor": 0
      },
      "text/plain": [
       "Epoch 62/1000:   0%|          | 0/4225 [00:00<?, ?it/s]"
      ]
     },
     "metadata": {},
     "output_type": "display_data"
    },
    {
     "name": "stdout",
     "output_type": "stream",
     "text": [
      "Saved sample image at epoch 62\n",
      "Epoch 62, Step 4224:\n",
      "  Mem Allocated: 65.20 MB\n",
      "  Max Mem Allocated: 359.67 MB\n",
      "  Mem Reserved: 482.00 MB\n",
      "  Max Mem Reserved: 482.00 MB\n",
      "Saved best model at epoch 62 (Moving Avg Loss: 0.002583)\n",
      "Deleted previous best model: output_model_small_session_split_data\\checkpoints\\model_best_epoch_61.pth\n"
     ]
    },
    {
     "data": {
      "application/vnd.jupyter.widget-view+json": {
       "model_id": "9c64df2dc82442bb898cf211ed3532de",
       "version_major": 2,
       "version_minor": 0
      },
      "text/plain": [
       "Epoch 63/1000:   0%|          | 0/4225 [00:00<?, ?it/s]"
      ]
     },
     "metadata": {},
     "output_type": "display_data"
    },
    {
     "name": "stdout",
     "output_type": "stream",
     "text": [
      "Saved sample image at epoch 63\n",
      "Epoch 63, Step 4224:\n",
      "  Mem Allocated: 65.20 MB\n",
      "  Max Mem Allocated: 359.67 MB\n",
      "  Mem Reserved: 482.00 MB\n",
      "  Max Mem Reserved: 482.00 MB\n"
     ]
    },
    {
     "data": {
      "application/vnd.jupyter.widget-view+json": {
       "model_id": "4b55bdeb13844b948474ba41a8391191",
       "version_major": 2,
       "version_minor": 0
      },
      "text/plain": [
       "Epoch 64/1000:   0%|          | 0/4225 [00:00<?, ?it/s]"
      ]
     },
     "metadata": {},
     "output_type": "display_data"
    },
    {
     "name": "stdout",
     "output_type": "stream",
     "text": [
      "Saved sample image at epoch 64\n",
      "Epoch 64, Step 4224:\n",
      "  Mem Allocated: 65.20 MB\n",
      "  Max Mem Allocated: 359.67 MB\n",
      "  Mem Reserved: 482.00 MB\n",
      "  Max Mem Reserved: 482.00 MB\n",
      "Saved best model at epoch 64 (Moving Avg Loss: 0.002580)\n",
      "Deleted previous best model: output_model_small_session_split_data\\checkpoints\\model_best_epoch_62.pth\n"
     ]
    },
    {
     "data": {
      "application/vnd.jupyter.widget-view+json": {
       "model_id": "b778486345e342e293c66c44738f6166",
       "version_major": 2,
       "version_minor": 0
      },
      "text/plain": [
       "Epoch 65/1000:   0%|          | 0/4225 [00:00<?, ?it/s]"
      ]
     },
     "metadata": {},
     "output_type": "display_data"
    },
    {
     "name": "stdout",
     "output_type": "stream",
     "text": [
      "Saved sample image at epoch 65\n",
      "Epoch 65, Step 4224:\n",
      "  Mem Allocated: 65.20 MB\n",
      "  Max Mem Allocated: 359.67 MB\n",
      "  Mem Reserved: 482.00 MB\n",
      "  Max Mem Reserved: 482.00 MB\n",
      "Saved best model at epoch 65 (Moving Avg Loss: 0.002570)\n",
      "Deleted previous best model: output_model_small_session_split_data\\checkpoints\\model_best_epoch_64.pth\n"
     ]
    },
    {
     "data": {
      "application/vnd.jupyter.widget-view+json": {
       "model_id": "43532ad1e6dd44988fd560cdb9b2906c",
       "version_major": 2,
       "version_minor": 0
      },
      "text/plain": [
       "Epoch 66/1000:   0%|          | 0/4225 [00:00<?, ?it/s]"
      ]
     },
     "metadata": {},
     "output_type": "display_data"
    },
    {
     "name": "stdout",
     "output_type": "stream",
     "text": [
      "Saved sample image at epoch 66\n",
      "Epoch 66, Step 4224:\n",
      "  Mem Allocated: 65.20 MB\n",
      "  Max Mem Allocated: 359.67 MB\n",
      "  Mem Reserved: 482.00 MB\n",
      "  Max Mem Reserved: 482.00 MB\n"
     ]
    },
    {
     "data": {
      "application/vnd.jupyter.widget-view+json": {
       "model_id": "dda717403b9a466ebe4af04b4bc0aea3",
       "version_major": 2,
       "version_minor": 0
      },
      "text/plain": [
       "Epoch 67/1000:   0%|          | 0/4225 [00:00<?, ?it/s]"
      ]
     },
     "metadata": {},
     "output_type": "display_data"
    },
    {
     "name": "stdout",
     "output_type": "stream",
     "text": [
      "Saved sample image at epoch 67\n",
      "Epoch 67, Step 4224:\n",
      "  Mem Allocated: 65.20 MB\n",
      "  Max Mem Allocated: 359.67 MB\n",
      "  Mem Reserved: 482.00 MB\n",
      "  Max Mem Reserved: 482.00 MB\n",
      "Saved best model at epoch 67 (Moving Avg Loss: 0.002544)\n",
      "Deleted previous best model: output_model_small_session_split_data\\checkpoints\\model_best_epoch_65.pth\n"
     ]
    },
    {
     "data": {
      "application/vnd.jupyter.widget-view+json": {
       "model_id": "63f0915a84a54baa82b770562a356ac7",
       "version_major": 2,
       "version_minor": 0
      },
      "text/plain": [
       "Epoch 68/1000:   0%|          | 0/4225 [00:00<?, ?it/s]"
      ]
     },
     "metadata": {},
     "output_type": "display_data"
    },
    {
     "name": "stdout",
     "output_type": "stream",
     "text": [
      "Saved sample image at epoch 68\n",
      "Epoch 68, Step 4224:\n",
      "  Mem Allocated: 65.20 MB\n",
      "  Max Mem Allocated: 359.67 MB\n",
      "  Mem Reserved: 482.00 MB\n",
      "  Max Mem Reserved: 482.00 MB\n"
     ]
    },
    {
     "data": {
      "application/vnd.jupyter.widget-view+json": {
       "model_id": "14058296eda64f6a84db990c90f7a129",
       "version_major": 2,
       "version_minor": 0
      },
      "text/plain": [
       "Epoch 69/1000:   0%|          | 0/4225 [00:00<?, ?it/s]"
      ]
     },
     "metadata": {},
     "output_type": "display_data"
    },
    {
     "name": "stdout",
     "output_type": "stream",
     "text": [
      "Saved sample image at epoch 69\n",
      "Epoch 69, Step 4224:\n",
      "  Mem Allocated: 65.20 MB\n",
      "  Max Mem Allocated: 359.67 MB\n",
      "  Mem Reserved: 482.00 MB\n",
      "  Max Mem Reserved: 482.00 MB\n"
     ]
    },
    {
     "data": {
      "application/vnd.jupyter.widget-view+json": {
       "model_id": "d4f0aa7bba0544358f7e67659b10f595",
       "version_major": 2,
       "version_minor": 0
      },
      "text/plain": [
       "Epoch 70/1000:   0%|          | 0/4225 [00:00<?, ?it/s]"
      ]
     },
     "metadata": {},
     "output_type": "display_data"
    },
    {
     "name": "stdout",
     "output_type": "stream",
     "text": [
      "Saved sample image at epoch 70\n",
      "Epoch 70, Step 4224:\n",
      "  Mem Allocated: 65.20 MB\n",
      "  Max Mem Allocated: 359.67 MB\n",
      "  Mem Reserved: 482.00 MB\n",
      "  Max Mem Reserved: 482.00 MB\n",
      "Epoch 70: Avg Loss = 0.002390, Moving Avg = 0.002542, Time = 3:24:45.964110\n",
      "Saved best model at epoch 70 (Moving Avg Loss: 0.002542)\n",
      "Deleted previous best model: output_model_small_session_split_data\\checkpoints\\model_best_epoch_67.pth\n"
     ]
    },
    {
     "data": {
      "application/vnd.jupyter.widget-view+json": {
       "model_id": "7f4d144f3f9f43bf8ed1df4f4f27bae5",
       "version_major": 2,
       "version_minor": 0
      },
      "text/plain": [
       "Epoch 71/1000:   0%|          | 0/4225 [00:00<?, ?it/s]"
      ]
     },
     "metadata": {},
     "output_type": "display_data"
    },
    {
     "name": "stdout",
     "output_type": "stream",
     "text": [
      "Saved sample image at epoch 71\n",
      "Epoch 71, Step 4224:\n",
      "  Mem Allocated: 65.20 MB\n",
      "  Max Mem Allocated: 359.67 MB\n",
      "  Mem Reserved: 482.00 MB\n",
      "  Max Mem Reserved: 482.00 MB\n"
     ]
    },
    {
     "data": {
      "application/vnd.jupyter.widget-view+json": {
       "model_id": "624e6209d690411e8b76b14f50bd172e",
       "version_major": 2,
       "version_minor": 0
      },
      "text/plain": [
       "Epoch 72/1000:   0%|          | 0/4225 [00:00<?, ?it/s]"
      ]
     },
     "metadata": {},
     "output_type": "display_data"
    },
    {
     "name": "stdout",
     "output_type": "stream",
     "text": [
      "Saved sample image at epoch 72\n",
      "Epoch 72, Step 4224:\n",
      "  Mem Allocated: 65.20 MB\n",
      "  Max Mem Allocated: 359.67 MB\n",
      "  Mem Reserved: 482.00 MB\n",
      "  Max Mem Reserved: 482.00 MB\n"
     ]
    },
    {
     "data": {
      "application/vnd.jupyter.widget-view+json": {
       "model_id": "6d36799760de428bbcc5a3cd68b6161e",
       "version_major": 2,
       "version_minor": 0
      },
      "text/plain": [
       "Epoch 73/1000:   0%|          | 0/4225 [00:00<?, ?it/s]"
      ]
     },
     "metadata": {},
     "output_type": "display_data"
    },
    {
     "name": "stdout",
     "output_type": "stream",
     "text": [
      "Saved sample image at epoch 73\n",
      "Epoch 73, Step 4224:\n",
      "  Mem Allocated: 65.20 MB\n",
      "  Max Mem Allocated: 359.67 MB\n",
      "  Mem Reserved: 482.00 MB\n",
      "  Max Mem Reserved: 482.00 MB\n"
     ]
    },
    {
     "data": {
      "application/vnd.jupyter.widget-view+json": {
       "model_id": "c4f0bed5f6f84aac8ce1d8c4a39a5ee2",
       "version_major": 2,
       "version_minor": 0
      },
      "text/plain": [
       "Epoch 74/1000:   0%|          | 0/4225 [00:00<?, ?it/s]"
      ]
     },
     "metadata": {},
     "output_type": "display_data"
    },
    {
     "name": "stdout",
     "output_type": "stream",
     "text": [
      "Saved sample image at epoch 74\n",
      "Epoch 74, Step 4224:\n",
      "  Mem Allocated: 65.20 MB\n",
      "  Max Mem Allocated: 359.67 MB\n",
      "  Mem Reserved: 482.00 MB\n",
      "  Max Mem Reserved: 482.00 MB\n"
     ]
    },
    {
     "data": {
      "application/vnd.jupyter.widget-view+json": {
       "model_id": "84713447817d4ad183041d94f00ff03d",
       "version_major": 2,
       "version_minor": 0
      },
      "text/plain": [
       "Epoch 75/1000:   0%|          | 0/4225 [00:00<?, ?it/s]"
      ]
     },
     "metadata": {},
     "output_type": "display_data"
    },
    {
     "name": "stdout",
     "output_type": "stream",
     "text": [
      "Saved sample image at epoch 75\n",
      "Epoch 75, Step 4224:\n",
      "  Mem Allocated: 65.20 MB\n",
      "  Max Mem Allocated: 359.67 MB\n",
      "  Mem Reserved: 482.00 MB\n",
      "  Max Mem Reserved: 482.00 MB\n",
      "  Epochs w/o improvement: 5, Current MA: 0.002585, Prev MA: 0.002542, Improvement: -1.66%\n",
      "Early stopping triggered at epoch 75. Reason: Improvement -1.66% < 0.1%\n",
      "Total training time: 3:39:31.952049\n",
      "Saved last model at epoch 75 with loss 0.0026777680418364562\n",
      "Training complete!\n"
     ]
    }
   ],
   "source": [
    "if __name__ == \"__main__\":\n",
    "    # --- Data Transforms ---\n",
    "    transform = transforms.Compose([\n",
    "        transforms.Resize((config.IMAGE_SIZE, config.IMAGE_SIZE)),\n",
    "        transforms.ToTensor(),\n",
    "        transforms.Normalize((0.5, 0.5, 0.5), (0.5, 0.5, 0.5))\n",
    "    ])\n",
    "    \n",
    "    # --- Create Dataset and DataLoader ---\n",
    "    dataset = JetbotDataset(config.CSV_PATH, config.DATA_DIR, config.IMAGE_SIZE, config.NUM_PREV_FRAMES, transform=transform)\n",
    "    \n",
    "    # Try to load existing split\n",
    "    train_dataset, test_dataset = load_train_test_split(dataset, config.SPLIT_DATASET_FILENAME)\n",
    "    \n",
    "    if train_dataset is None or test_dataset is None:\n",
    "        print(\"Dataset split file not found, creating a new split...\")\n",
    "        train_dataset, test_dataset = split_train_test_by_session_id(dataset)\n",
    "    \n",
    "        save_existing_split(train_dataset, test_dataset, config.SPLIT_DATASET_FILENAME)\n",
    "    else:\n",
    "        print(\"Loaded existing dataset split.\")\n",
    "    \n",
    "    train_dataloader = DataLoader(train_dataset, batch_size=config.BATCH_SIZE, shuffle=True)\n",
    "    test_dataloader = DataLoader(test_dataset, batch_size=1, shuffle=False) # Batch size 1 for easier evaluation\n",
    "    \n",
    "    # --- Calculate Betas and Alphas ---\n",
    "    betas = linear_beta_schedule(config.NUM_TIMESTEPS, config.BETA_START, config.BETA_END).to(config.DEVICE)\n",
    "    #betas = cosine_beta_schedule(NUM_TIMESTEPS).to(DEVICE) # Alternative\n",
    "    \n",
    "    alphas = (1. - betas).to(config.DEVICE)\n",
    "    alphas_cumprod = torch.cumprod(alphas, axis=0).to(config.DEVICE)\n",
    "    alphas_cumprod_prev = F.pad(alphas_cumprod[:-1], (1, 0), value=1.0).to(config.DEVICE)\n",
    "    sqrt_recip_alphas = torch.sqrt(1.0 / alphas).to(config.DEVICE)\n",
    "        \n",
    "    # --- Automatic Checkpoint Loading Logic ---\n",
    "    START_EPOCH = 0\n",
    "    checkpoint_to_load = None\n",
    "    loaded_config = None # Store config from checkpoint if loaded\n",
    "\n",
    "    # 1. Find potential checkpoint to load (prioritize best)\n",
    "    try:\n",
    "        best_checkpoints = glob.glob(os.path.join(config.CHECKPOINT_DIR, 'model_best_epoch_*.pth'))\n",
    "        if best_checkpoints:\n",
    "            best_checkpoints.sort(key=lambda x: int(x.split('_')[-1].split('.')[0]), reverse=True)\n",
    "            checkpoint_to_load = best_checkpoints[0]\n",
    "            print(f\"Found best model checkpoint to load: {checkpoint_to_load}\")\n",
    "        elif config.LOAD_CHECKPOINT and os.path.exists(config.LOAD_CHECKPOINT):\n",
    "             checkpoint_to_load = config.LOAD_CHECKPOINT\n",
    "             print(f\"Using specific checkpoint from config: {checkpoint_to_load}\")\n",
    "        else:\n",
    "             print(\"No best model found and no specific checkpoint set. Starting training from scratch.\")\n",
    "    except Exception as e:\n",
    "        print(f\"Could not search for checkpoints: {e}. Starting training from scratch.\")\n",
    "\n",
    "\n",
    "    # 2. Load checkpoint metadata and instantiate the correct model\n",
    "    model = None\n",
    "    if checkpoint_to_load:\n",
    "        try:\n",
    "            print(f\"Loading checkpoint: {checkpoint_to_load}\")\n",
    "            # Load the entire checkpoint dictionary first\n",
    "            checkpoint = torch.load(checkpoint_to_load, map_location=config.DEVICE)\n",
    "\n",
    "            # --- Get Architecture Info from Checkpoint ---\n",
    "            if 'config' in checkpoint and 'model_architecture' in checkpoint['config']:\n",
    "                 loaded_config = checkpoint['config']\n",
    "                 model_arch_name = loaded_config['model_architecture']\n",
    "                 print(f\"Checkpoint indicates model architecture: {model_arch_name}\")\n",
    "\n",
    "                 # Find the corresponding class in the models module\n",
    "                 if hasattr(models, model_arch_name):\n",
    "                      model_class = getattr(models, model_arch_name)\n",
    "                      # Instantiate the model using info potentially from checkpoint config\n",
    "                      # (or assume current config matches if only class name is stored)\n",
    "                      model = model_class(\n",
    "                          num_prev_frames=loaded_config.get('num_prev_frames', config.NUM_PREV_FRAMES) # Use loaded if available\n",
    "                      ).to(config.DEVICE)\n",
    "                      print(f\"Instantiated model: {model_arch_name}\")\n",
    "                 else:\n",
    "                      print(f\"ERROR: Model class '{model_arch_name}' not found in models.py!\")\n",
    "                      model = None # Fallback\n",
    "            else:\n",
    "                 print(\"Warning: Checkpoint missing architecture info. Assuming current config matches.\")\n",
    "                 # Fallback: Instantiate model based on current config if checkpoint lacks info\n",
    "                 model = models.get_model(config).to(config.DEVICE) # Use factory if available\n",
    "                 # Or directly: model = models.MODEL_REGISTRY[config.MODEL_ARCHITECTURE](...).to(config.DEVICE)\n",
    "\n",
    "\n",
    "            # --- Load State Dicts (if model was instantiated) ---\n",
    "            if model:\n",
    "                model.load_state_dict(checkpoint['model_state_dict'])\n",
    "                # Instantiate optimizer *after* model is on device\n",
    "                optimizer = torch.optim.AdamW(model.parameters(), lr=config.LEARNING_RATE)\n",
    "                optimizer.load_state_dict(checkpoint['optimizer_state_dict'])\n",
    "                START_EPOCH = checkpoint['epoch']\n",
    "                print(f\"Successfully loaded states. Resuming from epoch {START_EPOCH}\")\n",
    "            else:\n",
    "                 # Handle error: Could not instantiate model from checkpoint info\n",
    "                 print(\"Error: Could not instantiate model based on checkpoint. Starting from scratch.\")\n",
    "                 START_EPOCH = 0\n",
    "\n",
    "        except Exception as e:\n",
    "             print(f\"Error loading checkpoint {checkpoint_to_load}: {e}. Starting from scratch.\")\n",
    "             START_EPOCH = 0\n",
    "\n",
    "    # 3. If no checkpoint loaded, instantiate model and optimizer from current config\n",
    "    if model is None: # If not loaded above\n",
    "         print(\"Instantiating new model based on current config.\")\n",
    "         # model = models.get_model(config).to(config.DEVICE) # Use factory\n",
    "         # Or directly:\n",
    "         if config.MODEL_ARCHITECTURE in models.MODEL_REGISTRY:\n",
    "             model = models.MODEL_REGISTRY[config.MODEL_ARCHITECTURE](\n",
    "                  num_prev_frames=config.NUM_PREV_FRAMES\n",
    "             ).to(config.DEVICE)\n",
    "         else:\n",
    "              raise ValueError(f\"MODEL_ARCHITECTURE '{config.MODEL_ARCHITECTURE}' in config not found in models.py\")\n",
    "\n",
    "         optimizer = torch.optim.AdamW(model.parameters(), lr=config.LEARNING_RATE)\n",
    "         START_EPOCH = 0\n",
    "\n",
    "    # --- Print parameter count for confirmation ---\n",
    "    print(f\"Using Model: {model.__class__.__name__}\")\n",
    "    print(f\"Model Parameters: {sum(p.numel() for p in model.parameters() if p.requires_grad):,}\")\n",
    "\n",
    "\n",
    "    print(f\"--- Training Configuration ---\")\n",
    "    # Print model parameter count\n",
    "    print(f\"Model Parameters: {sum(p.numel() for p in model.parameters() if p.requires_grad):,}\")\n",
    "    print(f\"  Mem Allocated: {torch.cuda.memory_allocated(config.DEVICE) / 1024**2:.2f} MB\")\n",
    "    print(f\"  Max Mem Allocated: {torch.cuda.max_memory_allocated(config.DEVICE) / 1024**2:.2f} MB\")\n",
    "    print(f\"  Mem Reserved: {torch.cuda.memory_reserved(config.DEVICE) / 1024**2:.2f} MB\")\n",
    "    print(f\"  Max Mem Reserved: {torch.cuda.max_memory_reserved(config.DEVICE) / 1024**2:.2f} MB\")    \n",
    "    print(f\"--------------------------\")    \n",
    "    # --- Train the Model ---\n",
    "    losses = train(model, train_dataloader, optimizer, betas, alphas_cumprod, START_EPOCH, config.NUM_EPOCHS, config.DEVICE,\n",
    "                   config.SAVE_MODEL_EVERY, config.SAMPLE_EVERY, config.CHECKPOINT_DIR, config.SAMPLE_DIR, config.PLOT_DIR, config.PLOT_EVERY, config.USE_FP16,\n",
    "                   config.ACCUMULATION_STEPS, config.NUM_PREV_FRAMES, early_stopping_patience=config.EARLY_STOPPING_PATIENCE, early_stopping_percentage=config.EARLY_STOPPING_PERCENTAGE, min_epochs=config.MIN_EPOCHS)\n",
    "    print(\"Training complete!\")\n",
    "    \n",
    "    # --- Final Loss Plot ---\n",
    "    plt.figure(figsize=(10, 5))\n",
    "    plt.plot(losses)\n",
    "    plt.xlabel(\"Epoch\")\n",
    "    plt.ylabel(\"Loss\")\n",
    "    plt.title(\"Training Loss\")\n",
    "    plt.grid(True)\n",
    "    plt.savefig(os.path.join(config.PLOT_DIR, \"loss_plot_final.png\"))  # Save to plot dir\n",
    "    plt.close()"
   ]
  },
  {
   "cell_type": "code",
   "execution_count": 7,
   "id": "16933dd4-020b-40b6-9c67-b420f3ed3ab2",
   "metadata": {},
   "outputs": [
    {
     "data": {
      "text/plain": [
       "20"
      ]
     },
     "execution_count": 7,
     "metadata": {},
     "output_type": "execute_result"
    }
   ],
   "source": [
    "config.SAMPLE_EVERY"
   ]
  },
  {
   "cell_type": "code",
   "execution_count": 44,
   "id": "69705aac-316a-4771-aa0f-ccab7b3d9eca",
   "metadata": {},
   "outputs": [],
   "source": []
  },
  {
   "cell_type": "code",
   "execution_count": null,
   "id": "55d410bf-97c6-44f0-a38c-4e378b0659ae",
   "metadata": {},
   "outputs": [],
   "source": []
  }
 ],
 "metadata": {
  "kernelspec": {
   "display_name": "Python 3 (ipykernel)",
   "language": "python",
   "name": "python3"
  },
  "language_info": {
   "codemirror_mode": {
    "name": "ipython",
    "version": 3
   },
   "file_extension": ".py",
   "mimetype": "text/x-python",
   "name": "python",
   "nbconvert_exporter": "python",
   "pygments_lexer": "ipython3",
   "version": "3.11.9"
  }
 },
 "nbformat": 4,
 "nbformat_minor": 5
}
