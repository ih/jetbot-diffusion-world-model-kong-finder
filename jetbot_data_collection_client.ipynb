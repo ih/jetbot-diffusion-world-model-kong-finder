{
 "cells": [
  {
   "cell_type": "code",
   "execution_count": 1,
   "id": "ac8b93e8-b768-4410-ba73-080811c48161",
   "metadata": {},
   "outputs": [],
   "source": [
    "import rpyc\n",
    "import logging\n",
    "import time\n",
    "import cv2\n",
    "import numpy as np\n",
    "import base64\n",
    "from IPython.display import display, Image  # No need for clear_output here\n",
    "import ipywidgets as widgets\n",
    "import os\n",
    "import csv\n",
    "import datetime\n",
    "import torchvision.transforms as transforms\n",
    "from PIL import Image\n",
    "import random\n",
    "import config\n",
    "\n",
    "\n",
    "# --- Setup Logging ---\n",
    "logging.basicConfig(level=logging.WARNING)\n",
    "logger = logging.getLogger('JetBotClient')\n",
    "\n",
    "# --- Image Transformation ---\n",
    "# Transformations *before* saving to disk (for consistency with training)\n",
    "transform = transforms.Compose([\n",
    "    transforms.Resize((224, 224)),\n",
    "    transforms.ToTensor(),\n",
    "    transforms.Normalize((0.5, 0.5, 0.5), (0.5, 0.5, 0.5))\n",
    "])\n",
    "\n",
    "\n",
    "class RemoteJetBot:\n",
    "    def __init__(self, ip_address, port=18861):\n",
    "        logger.info(f\"Connecting to JetBot at {ip_address}:{port}\")\n",
    "        try:\n",
    "            self.conn = rpyc.connect(\n",
    "                ip_address,\n",
    "                port,\n",
    "                config={\n",
    "                    'sync_request_timeout': 30,\n",
    "                    'allow_all_attrs': True\n",
    "                }\n",
    "            )\n",
    "            logger.info(\"Connected successfully!\")\n",
    "            # Initialize video window\n",
    "            self.image_widget = widgets.Image(\n",
    "                format='jpeg',\n",
    "                width=400,\n",
    "                height=300,\n",
    "            )\n",
    "            display(self.image_widget)\n",
    "        except Exception as e:\n",
    "            logger.error(f\"Connection failed: {str(e)}\")\n",
    "            raise\n",
    "\n",
    "    def get_frame(self):\n",
    "        \"\"\"Get a single frame from the camera and display it\"\"\"\n",
    "        try:\n",
    "            # Get frame from server\n",
    "            jpg_as_text = self.conn.root.get_camera_frame()\n",
    "            if jpg_as_text:\n",
    "                # Decode base64 string directly to bytes\n",
    "                jpg_bytes = base64.b64decode(jpg_as_text)\n",
    "                # Update the image widget\n",
    "                self.image_widget.value = jpg_bytes\n",
    "\n",
    "                # Convert to NumPy array (for saving)\n",
    "                npimg = np.frombuffer(jpg_bytes, dtype=np.uint8)\n",
    "                frame = cv2.imdecode(npimg, cv2.IMREAD_COLOR)\n",
    "                return frame  # Return the frame as a NumPy array\n",
    "            return None\n",
    "\n",
    "        except Exception as e:\n",
    "            logger.error(f\"Error getting frame: {str(e)}\")\n",
    "            return None\n",
    "\n",
    "    def set_motors(self, left_speed, right_speed):\n",
    "        try:\n",
    "            logger.debug(f\"Sending motor command: left={left_speed}, right={right_speed}\")\n",
    "            result = self.conn.root.set_motors(float(left_speed), float(right_speed))\n",
    "            logger.debug(\"Command sent successfully\")\n",
    "            return result\n",
    "        except Exception as e:\n",
    "            logger.error(f\"Error sending motor command: {str(e)}\")\n",
    "            raise\n",
    "\n",
    "    def cleanup(self):\n",
    "        try:\n",
    "            logger.debug(\"Cleaning up connection\")\n",
    "            if hasattr(self, 'conn'):\n",
    "                self.set_motors(0, 0)  # Stop motors\n",
    "                self.conn.close()\n",
    "            logger.info(\"Cleanup completed\")\n",
    "        except Exception as e:\n",
    "            logger.error(f\"Error during cleanup: {str(e)}\")\n",
    "\n",
    "\n",
    "def generate_random_actions(num_actions, possible_speeds, min_duration, max_duration):\n",
    "    actions = []\n",
    "    for _ in range(num_actions):\n",
    "        speed = random.choice(possible_speeds)\n",
    "        duration = random.uniform(min_duration, max_duration)  # Use uniform for continuous range\n",
    "        actions.append((speed, duration))\n",
    "    return actions\n",
    "\n",
    "def record_data(jetbot, actions, target_fps, session_dir):\n",
    "    \"\"\"\n",
    "    Records data for a single session into a specific directory.\n",
    "\n",
    "    Args:\n",
    "        jetbot: The RemoteJetBot object.\n",
    "        actions: A list of (action, duration) tuples for this session.\n",
    "        target_fps: The desired frames per second.\n",
    "        session_dir: The directory to save this session's data.\n",
    "    \"\"\"\n",
    "    session_image_dir = os.path.join(session_dir, 'images')\n",
    "    session_csv_path = os.path.join(session_dir, 'data.csv')\n",
    "\n",
    "    # Create session directories if they don't exist\n",
    "    os.makedirs(session_image_dir, exist_ok=True)\n",
    "\n",
    "    print(f\"Starting data recording for session: {session_dir}\")\n",
    "    with open(session_csv_path, 'w', newline='') as csvfile:\n",
    "        fieldnames = ['image_path', 'timestamp', 'action']\n",
    "        writer = csv.DictWriter(csvfile, fieldnames=fieldnames)\n",
    "        writer.writeheader()\n",
    "        print(f\"CSV header written to {session_csv_path}\")\n",
    "\n",
    "        target_interval = 1.0 / target_fps\n",
    "        image_count = 0 # Counter *within* the session\n",
    "\n",
    "        for action_index, (action, duration) in enumerate(actions):\n",
    "            # print(f\"  Starting action: {action} for duration: {duration:.2f}s\")\n",
    "            jetbot.set_motors(action, 0)\n",
    "            start_time = time.time()\n",
    "\n",
    "            while time.time() - start_time < duration:\n",
    "                frame_start_time = time.perf_counter()\n",
    "\n",
    "                frame = jetbot.get_frame()\n",
    "                if frame is None:\n",
    "                    print(\"  Warning: Received None frame. Skipping.\")\n",
    "                    time.sleep(0.01) # Avoid busy-waiting if camera disconnects\n",
    "                    continue\n",
    "\n",
    "                # --- Image Processing ---\n",
    "                frame_rgb = cv2.cvtColor(frame, cv2.COLOR_BGR2RGB)\n",
    "                image_pil = Image.fromarray(frame_rgb)\n",
    "                # Keep original PIL image for saving, apply transforms later if needed for training\n",
    "                # image_tensor = transform(image_pil) # Transform is mainly for training input\n",
    "\n",
    "                # --- Saving ---\n",
    "                timestamp = time.time()\n",
    "                image_filename = f\"image_{image_count:05d}.jpg\"\n",
    "                relative_image_path = os.path.join('images', image_filename) # Relative path within session\n",
    "                absolute_image_path = os.path.join(session_dir, relative_image_path)\n",
    "\n",
    "                image_pil.save(absolute_image_path) # Save the original PIL image\n",
    "\n",
    "                writer.writerow({'image_path': relative_image_path, 'timestamp': timestamp, 'action': action})\n",
    "                image_count += 1\n",
    "\n",
    "                # --- Frame Rate Control ---\n",
    "                frame_end_time = time.perf_counter()\n",
    "                elapsed_time = frame_end_time - frame_start_time\n",
    "                sleep_time = target_interval - elapsed_time\n",
    "                if sleep_time > 0:\n",
    "                    time.sleep(sleep_time)\n",
    "\n",
    "            print(f\"  Finished action: {action_index}\")\n",
    "\n",
    "    print(f\"Session recording complete. Total images in session: {image_count}\")\n",
    "\n",
    "\n",
    "def move_to_new_location(jetbot, forward_time=1.0, turn_time=1.0, speed=0.15):\n",
    "    \"\"\"Move the robot to a new location between recording sessions.\n",
    "    This simple routine drives forward and then turns.\n",
    "    \"\"\"\n",
    "    jetbot.set_motors(speed, speed)\n",
    "    time.sleep(forward_time)\n",
    "    jetbot.set_motors(speed, -speed)\n",
    "    time.sleep(turn_time)\n",
    "    jetbot.set_motors(0, 0)\n",
    "    time.sleep(0.5)\n"
   ]
  },
  {
   "cell_type": "code",
   "execution_count": 2,
   "id": "4e7ca3a1-05b1-49ce-936d-c9adc2fce152",
   "metadata": {},
   "outputs": [],
   "source": [
    "\n",
    "# --- Configuration ---\n",
    "JETBOT_IP = '192.168.68.51'  # Replace with your Jetbot's IP address\n",
    "IMAGE_SIZE = 224  # Use 224x224 images, don't use constant from config file since there may be resizing, or rename this and put it there\n",
    "TARGET_FPS = 30\n",
    "POSSIBLE_SPEEDS = [0.0, 0.13]\n",
    "MIN_DURATION = 1.0  # Seconds\n",
    "MAX_DURATION = 2.0  # Seconds\n",
    "NUM_ACTIONS = 100 #How many total actions to do",
    "NUM_SESSIONS = 3  # Number of times to record\n"
   ]
  },
  {
   "cell_type": "code",
   "execution_count": 6,
   "id": "627b5cfc-06f0-4d99-996b-2d26ef51ee5b",
   "metadata": {
    "scrolled": true
   },
   "outputs": [
    {
     "data": {
      "application/vnd.jupyter.widget-view+json": {
       "model_id": "0732cf1345fa4397a4389dee62829ec4",
       "version_major": 2,
       "version_minor": 0
      },
      "text/plain": [
       "Image(value=b'', format='jpeg', height='300', width='400')"
      ]
     },
     "metadata": {},
     "output_type": "display_data"
    },
    {
     "name": "stdout",
     "output_type": "stream",
     "text": [
      "Creating session directory: C:\\Projects\\jetbot-diffusion-world-model-kong-finder-aux\\jetbot_laundry_session_data_two_actions\\session_20250604_132300\n",
      "[(0.0, 1.0407537747798992), (0.0, 1.6253079221162072), (0.0, 1.6664148499403444), (0.0, 1.739438746232266), (0.0, 1.1590369580219089), (0.13, 1.9751311361048054), (0.0, 1.310251637890769), (0.0, 1.6385429200960906), (0.0, 1.7606575473016406), (0.13, 1.733439257165958), (0.0, 1.859550930119703), (0.13, 1.59803969721096), (0.13, 1.473509996044102), (0.0, 1.9593408731648705), (0.13, 1.0730380447638632), (0.0, 1.9342406007088546), (0.0, 1.0021705768361717), (0.13, 1.678685718130609), (0.13, 1.1171368189917463), (0.0, 1.1707433168170667), (0.13, 1.1322223071035553), (0.13, 1.2752138894161722), (0.0, 1.8778702184371907), (0.0, 1.7704051125374742), (0.13, 1.021432670183124), (0.0, 1.2469880055426503), (0.13, 1.3869990230490992), (0.0, 1.56771893853182), (0.13, 1.1062727494613047), (0.13, 1.9673840855695552), (0.0, 1.8370119644367076), (0.13, 1.8801942928736652), (0.13, 1.5912216132018413), (0.0, 1.579402835670784), (0.0, 1.8067482374290822), (0.13, 1.154588147916781), (0.0, 1.2010593135356062), (0.13, 1.29362164107583), (0.0, 1.619695412534639), (0.0, 1.142295105581176), (0.0, 1.9055318948942765), (0.13, 1.0288251012632559), (0.13, 1.5440573339924093), (0.13, 1.7857770682275627), (0.0, 1.1917574554045165), (0.13, 1.9648451739447497), (0.13, 1.9733249297393662), (0.13, 1.1089032026028596), (0.0, 1.454919583673711), (0.13, 1.319206075418066), (0.0, 1.4790365330680113), (0.0, 1.6819181962885055), (0.13, 1.387465395371097), (0.0, 1.4240819435899095), (0.0, 1.4940831112063717), (0.0, 1.534123322236546), (0.0, 1.8429576199287303), (0.13, 1.7540396143933141), (0.0, 1.4599648573936945), (0.13, 1.066337593387423), (0.13, 1.8599952817160017), (0.0, 1.2590729079808258), (0.13, 1.3420539780433671), (0.0, 1.5990067869357123), (0.13, 1.913481743842394), (0.0, 1.1047089742608895), (0.0, 1.6298539600301405), (0.13, 1.66319125646637), (0.13, 1.5667540596681513), (0.0, 1.0083175466095584), (0.13, 1.1985842707302696), (0.13, 1.873501707483329), (0.0, 1.651284400356216), (0.0, 1.0669908501806602), (0.13, 1.4447114080057397), (0.0, 1.437909757935833), (0.0, 1.7086024977470942), (0.0, 1.3841193993738994), (0.13, 1.589166530184177), (0.0, 1.6158214784663407), (0.13, 1.1934209473408275), (0.0, 1.393511045982774), (0.13, 1.5741728724130528), (0.13, 1.486594756269127), (0.0, 1.8187229109419714), (0.13, 1.7257739374122751), (0.13, 1.8489246511357171), (0.13, 1.5603286971619217), (0.0, 1.294499502176031), (0.13, 1.5197610511772348), (0.0, 1.5183236289290312), (0.13, 1.930444983139516), (0.0, 1.9021699091684967), (0.0, 1.0894558816220319), (0.0, 1.7098794458072537), (0.13, 1.468557217743205), (0.0, 1.6485456175348796), (0.0, 1.0009020361703471), (0.13, 1.3003064253767285), (0.0, 1.7491429042371376)]\n",
      "Starting data recording for session: C:\\Projects\\jetbot-diffusion-world-model-kong-finder-aux\\jetbot_laundry_session_data_two_actions\\session_20250604_132300\n",
      "CSV header written to C:\\Projects\\jetbot-diffusion-world-model-kong-finder-aux\\jetbot_laundry_session_data_two_actions\\session_20250604_132300\\data.csv\n",
      "  Finished action: 0\n",
      "  Finished action: 1\n",
      "  Finished action: 2\n",
      "  Finished action: 3\n",
      "  Finished action: 4\n",
      "  Finished action: 5\n",
      "  Finished action: 6\n",
      "  Finished action: 7\n",
      "  Finished action: 8\n",
      "  Finished action: 9\n",
      "  Finished action: 10\n",
      "  Finished action: 11\n",
      "  Finished action: 12\n",
      "  Finished action: 13\n",
      "  Finished action: 14\n",
      "  Finished action: 15\n",
      "  Finished action: 16\n",
      "  Finished action: 17\n",
      "  Finished action: 18\n",
      "  Finished action: 19\n",
      "  Finished action: 20\n",
      "  Finished action: 21\n",
      "  Finished action: 22\n",
      "  Finished action: 23\n",
      "  Finished action: 24\n",
      "  Finished action: 25\n",
      "  Finished action: 26\n",
      "  Finished action: 27\n",
      "  Finished action: 28\n",
      "  Finished action: 29\n",
      "  Finished action: 30\n",
      "  Finished action: 31\n",
      "  Finished action: 32\n",
      "  Finished action: 33\n",
      "  Finished action: 34\n",
      "  Finished action: 35\n",
      "  Finished action: 36\n",
      "  Finished action: 37\n",
      "  Finished action: 38\n",
      "  Finished action: 39\n",
      "  Finished action: 40\n",
      "  Finished action: 41\n",
      "  Finished action: 42\n",
      "  Finished action: 43\n",
      "  Finished action: 44\n",
      "  Finished action: 45\n",
      "  Finished action: 46\n",
      "  Finished action: 47\n",
      "  Finished action: 48\n",
      "  Finished action: 49\n",
      "  Finished action: 50\n",
      "  Finished action: 51\n",
      "  Finished action: 52\n",
      "  Finished action: 53\n",
      "  Finished action: 54\n",
      "  Finished action: 55\n",
      "  Finished action: 56\n",
      "  Finished action: 57\n",
      "  Finished action: 58\n",
      "  Finished action: 59\n",
      "  Finished action: 60\n",
      "  Finished action: 61\n",
      "  Finished action: 62\n",
      "  Finished action: 63\n",
      "  Finished action: 64\n",
      "  Finished action: 65\n",
      "  Finished action: 66\n",
      "  Finished action: 67\n",
      "  Finished action: 68\n",
      "  Finished action: 69\n",
      "  Finished action: 70\n",
      "  Finished action: 71\n",
      "  Finished action: 72\n",
      "  Finished action: 73\n",
      "  Finished action: 74\n",
      "  Finished action: 75\n",
      "  Finished action: 76\n",
      "  Finished action: 77\n",
      "  Finished action: 78\n",
      "  Finished action: 79\n",
      "  Finished action: 80\n",
      "  Finished action: 81\n",
      "  Finished action: 82\n",
      "  Finished action: 83\n",
      "  Finished action: 84\n",
      "  Finished action: 85\n",
      "  Finished action: 86\n",
      "  Finished action: 87\n",
      "  Finished action: 88\n",
      "  Finished action: 89\n",
      "  Finished action: 90\n",
      "  Finished action: 91\n",
      "  Finished action: 92\n",
      "  Finished action: 93\n",
      "  Finished action: 94\n",
      "  Finished action: 95\n",
      "  Finished action: 96\n",
      "  Finished action: 97\n",
      "  Finished action: 98\n",
      "  Finished action: 99\n",
      "Session recording complete. Total images in session: 4365\n"
     ]
    }
   ],
   "source": [
    "jetbot = RemoteJetBot(JETBOT_IP)\n",
    "\n",
    "try:\n",
    "    for session_idx in range(NUM_SESSIONS):\n",
    "        session_timestamp = datetime.datetime.now().strftime(\"%Y%m%d_%H%M%S\")\n",
    "        current_session_dir = os.path.join(config.SESSION_DATA_DIR, f\"session_{session_timestamp}\")\n",
    "        print(f\"Creating session directory: {current_session_dir}\")\n",
    "        random_actions = generate_random_actions(NUM_ACTIONS, POSSIBLE_SPEEDS, MIN_DURATION, MAX_DURATION)\n",
    "        print(random_actions)\n",
    "\n",
    "        record_data(jetbot, random_actions, TARGET_FPS, current_session_dir)\n",
    "\n",
    "        if session_idx < NUM_SESSIONS - 1:\n",
    "            move_to_new_location(jetbot)\n",
    "finally:\n",
    "    jetbot.cleanup()  # Stop motors and close connection\n"
   ]
  },
  {
   "cell_type": "code",
   "execution_count": 3,
   "id": "63fd2a79-b8f3-4784-92c9-545f71dc1b94",
   "metadata": {},
   "outputs": [
    {
     "data": {
      "application/vnd.jupyter.widget-view+json": {
       "model_id": "b95533d615094c958132c18631f2fc13",
       "version_major": 2,
       "version_minor": 0
      },
      "text/plain": [
       "Image(value=b'', format='jpeg', height='300', width='400')"
      ]
     },
     "metadata": {},
     "output_type": "display_data"
    }
   ],
   "source": [
    "jetbot = RemoteJetBot(JETBOT_IP)"
   ]
  },
  {
   "cell_type": "code",
   "execution_count": 5,
   "id": "a2408b91-c0ef-435f-9e47-641a68772eaf",
   "metadata": {},
   "outputs": [
    {
     "name": "stderr",
     "output_type": "stream",
     "text": [
      "INFO:JetBotClient:Connecting to JetBot at 192.168.68.60:18861\n",
      "INFO:JetBotClient:Connected successfully!\n"
     ]
    },
    {
     "data": {
      "application/vnd.jupyter.widget-view+json": {
       "model_id": "3f16f90a749c4652ac0f7615b36ae964",
       "version_major": 2,
       "version_minor": 0
      },
      "text/plain": [
       "Image(value=b'', format='jpeg', height='300', width='400')"
      ]
     },
     "metadata": {},
     "output_type": "display_data"
    }
   ],
   "source": [
    "jetbot = RemoteJetBot(JETBOT_IP)"
   ]
  },
  {
   "cell_type": "code",
   "execution_count": 7,
   "id": "b5612663-a560-4b75-b0d8-8387e667b2ad",
   "metadata": {},
   "outputs": [
    {
     "data": {
      "text/plain": [
       "array([[[165, 149, 180],\n",
       "        [163, 148, 176],\n",
       "        [161, 146, 173],\n",
       "        ...,\n",
       "        [ 64,  57,  78],\n",
       "        [ 66,  56,  56],\n",
       "        [ 78,  68,  58]],\n",
       "\n",
       "       [[161, 145, 176],\n",
       "        [165, 149, 180],\n",
       "        [164, 149, 176],\n",
       "        ...,\n",
       "        [ 62,  53,  73],\n",
       "        [ 70,  58,  64],\n",
       "        [ 71,  58,  56]],\n",
       "\n",
       "       [[170, 153, 186],\n",
       "        [163, 147, 178],\n",
       "        [166, 150, 181],\n",
       "        ...,\n",
       "        [ 65,  55,  71],\n",
       "        [ 74,  58,  75],\n",
       "        [ 74,  55,  72]],\n",
       "\n",
       "       ...,\n",
       "\n",
       "       [[ 82,  89, 104],\n",
       "        [ 80,  86,  99],\n",
       "        [ 90,  87, 102],\n",
       "        ...,\n",
       "        [ 49,  47,  13],\n",
       "        [ 50,  56,  33],\n",
       "        [ 42,  50,  33]],\n",
       "\n",
       "       [[ 72,  85, 101],\n",
       "        [ 80,  87, 104],\n",
       "        [ 89,  87, 106],\n",
       "        ...,\n",
       "        [ 58,  50,  27],\n",
       "        [ 61,  58,  43],\n",
       "        [ 54,  54,  40]],\n",
       "\n",
       "       [[ 74,  88, 106],\n",
       "        [ 86,  93, 112],\n",
       "        [ 90,  88, 107],\n",
       "        ...,\n",
       "        [ 56,  43,  27],\n",
       "        [ 57,  49,  36],\n",
       "        [ 50,  46,  35]]], dtype=uint8)"
      ]
     },
     "execution_count": 7,
     "metadata": {},
     "output_type": "execute_result"
    }
   ],
   "source": [
    "jetbot.get_frame()"
   ]
  },
  {
   "cell_type": "code",
   "execution_count": 8,
   "id": "5cdd655c-b5b2-4974-ade2-9467cc7a1c19",
   "metadata": {},
   "outputs": [
    {
     "data": {
      "text/plain": [
       "True"
      ]
     },
     "execution_count": 8,
     "metadata": {},
     "output_type": "execute_result"
    }
   ],
   "source": [
    "jetbot.set_motors(.12,0)"
   ]
  },
  {
   "cell_type": "code",
   "execution_count": 9,
   "id": "82c8e684-12cf-4e41-b34d-9c6423a6c7c8",
   "metadata": {},
   "outputs": [
    {
     "data": {
      "text/plain": [
       "True"
      ]
     },
     "execution_count": 9,
     "metadata": {},
     "output_type": "execute_result"
    }
   ],
   "source": [
    "jetbot.set_motors(0,0)"
   ]
  },
  {
   "cell_type": "code",
   "execution_count": 10,
   "id": "4369032a-a76a-4314-9f49-150bb64d29ce",
   "metadata": {},
   "outputs": [],
   "source": [
    "jetbot.cleanup()"
   ]
  },
  {
   "cell_type": "code",
   "execution_count": null,
   "id": "93f0bcf1-2fd9-47e8-97e1-d2b4c3b6eee9",
   "metadata": {},
   "outputs": [],
   "source": []
  }
 ],
 "metadata": {
  "kernelspec": {
   "display_name": "Python 3 (ipykernel)",
   "language": "python",
   "name": "python3"
  },
  "language_info": {
   "codemirror_mode": {
    "name": "ipython",
    "version": 3
   },
   "file_extension": ".py",
   "mimetype": "text/x-python",
   "name": "python",
   "nbconvert_exporter": "python",
   "pygments_lexer": "ipython3",
   "version": "3.11.9"
  }
 },
 "nbformat": 4,
 "nbformat_minor": 5
}
