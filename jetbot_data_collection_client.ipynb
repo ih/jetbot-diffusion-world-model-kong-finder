{
 "cells": [
  {
   "cell_type": "code",
   "execution_count": 1,
   "id": "ac8b93e8-b768-4410-ba73-080811c48161",
   "metadata": {},
   "outputs": [],
   "source": [
    "import rpyc\n",
    "import logging\n",
    "import time\n",
    "import cv2\n",
    "import numpy as np\n",
    "import base64\n",
    "from IPython.display import display, Image  # No need for clear_output here\n",
    "import ipywidgets as widgets\n",
    "import os\n",
    "import csv\n",
    "import datetime\n",
    "import torchvision.transforms as transforms\n",
    "from PIL import Image\n",
    "import random\n",
    "import config\n",
    "from jetbot_remote_client import RemoteJetBot, generate_random_actions, record_data\n",
    "\n",
    "\n",
    "# --- Setup Logging ---\n",
    "logging.basicConfig(level=logging.WARNING)\n",
    "logger = logging.getLogger('JetBotClient')\n",
    "\n",
    "\n",
    "def move_to_new_location(jetbot, forward_time=1.0, turn_time=1.0, speed=0.15):\n",
    "    \"\"\"Move the robot to a new location between recording sessions.\n",
    "    This simple routine drives forward and then turns.\n",
    "    \"\"\"\n",
    "    jetbot.set_motors(speed, speed)\n",
    "    time.sleep(forward_time)\n",
    "    jetbot.set_motors(speed, -speed)\n",
    "    time.sleep(turn_time)\n",
    "    jetbot.set_motors(0, 0)\n",
    "    time.sleep(0.5)\n"
   ]
  },
  {
   "cell_type": "code",
   "execution_count": 2,
   "id": "4e7ca3a1-05b1-49ce-936d-c9adc2fce152",
   "metadata": {},
   "outputs": [],
   "source": [
    "\n",
    "# --- Configuration ---\n",
    "JETBOT_IP = '192.168.68.51'  # Replace with your Jetbot's IP address\n",
    "IMAGE_SIZE = 224  # Use 224x224 images, don't use constant from config file since there may be resizing, or rename this and put it there\n",
    "TARGET_FPS = 30\n",
    "POSSIBLE_SPEEDS = [0.0, 0.13]\n",
    "MIN_DURATION = 1.0  # Seconds\n",
    "MAX_DURATION = 2.0  # Seconds\n",
    "NUM_ACTIONS = 50 #How many total actions to do\n",
    "NUM_SESSIONS = 6  # Number of times to record\n"
   ]
  },
  {
   "cell_type": "code",
   "execution_count": 3,
   "id": "d022fdb8-c248-4679-b8f5-b7e5a717caf6",
   "metadata": {},
   "outputs": [
    {
     "data": {
      "application/vnd.jupyter.widget-view+json": {
       "model_id": "ea16adb642684294a11913434f63f57b",
       "version_major": 2,
       "version_minor": 0
      },
      "text/plain": [
       "Image(value=b'', format='jpeg', height='300', width='400')"
      ]
     },
     "metadata": {},
     "output_type": "display_data"
    }
   ],
   "source": [
    "jetbot = RemoteJetBot(JETBOT_IP)"
   ]
  },
  {
   "cell_type": "code",
   "execution_count": null,
   "id": "627b5cfc-06f0-4d99-996b-2d26ef51ee5b",
   "metadata": {
    "scrolled": true
   },
   "outputs": [
    {
     "name": "stdout",
     "output_type": "stream",
     "text": [
      "Creating session directory: C:\\Projects\\jetbot-diffusion-world-model-kong-finder-aux\\jetbot_laundry_session_data_two_actions\\session_20250611_121337\n",
      "[(0.0, 1.9198767373061758), (0.13, 1.3433930767104325), (0.13, 1.1891803686104536), (0.0, 1.2981872112410113), (0.13, 1.1118370312660426), (0.13, 1.1935648676844872), (0.0, 1.2186010504342932), (0.0, 1.3645736757940674), (0.13, 1.5285226637019997), (0.13, 1.6873466795972103), (0.13, 1.489771381647064), (0.13, 1.4183607376696452), (0.0, 1.2761727822693185), (0.0, 1.4493923933287634), (0.13, 1.9133957763815943), (0.0, 1.419298063714998), (0.0, 1.2488209903453105), (0.0, 1.175021102264573), (0.13, 1.0221035723013119), (0.0, 1.23391472859339), (0.0, 1.2860127162097619), (0.0, 1.2391109361208332), (0.0, 1.3618133642093055), (0.13, 1.3170952253192973), (0.0, 1.556269039910168), (0.13, 1.4676495076304072), (0.0, 1.2614166078666906), (0.0, 1.858970739621531), (0.13, 1.5528429068708696), (0.0, 1.4679817086973517), (0.0, 1.7933154765794672), (0.0, 1.1476903378457959), (0.0, 1.8969107684884796), (0.0, 1.6520685635044126), (0.13, 1.721888317126963), (0.0, 1.910995787911224), (0.0, 1.499307897866569), (0.0, 1.0612238269179193), (0.0, 1.8148594499721458), (0.0, 1.0696632885631343), (0.13, 1.4188898331096946), (0.13, 1.0922262223711763), (0.13, 1.7453874667842748), (0.0, 1.2857047155083003), (0.13, 1.4641170822171992), (0.0, 1.8625376561840206), (0.0, 1.2925136867888847), (0.13, 1.7341995094472589), (0.0, 1.3644682343123025), (0.0, 1.2554058182814356)]\n",
      "Starting data recording for session: C:\\Projects\\jetbot-diffusion-world-model-kong-finder-aux\\jetbot_laundry_session_data_two_actions\\session_20250611_121337\n",
      "CSV header written to C:\\Projects\\jetbot-diffusion-world-model-kong-finder-aux\\jetbot_laundry_session_data_two_actions\\session_20250611_121337\\data.csv\n",
      "Session recording complete. Total images in session: 2137\n",
      "Creating session directory: C:\\Projects\\jetbot-diffusion-world-model-kong-finder-aux\\jetbot_laundry_session_data_two_actions\\session_20250611_121455\n",
      "[(0.0, 1.774130009539703), (0.13, 1.2645470843774254), (0.13, 1.4747798550845856), (0.0, 1.4076528737634284), (0.13, 1.9820441834057272), (0.13, 1.3420498442029603), (0.13, 1.726600088407257), (0.0, 1.2294716468913685), (0.0, 1.4145354485962982), (0.13, 1.1433870766299983), (0.0, 1.4829890511498216), (0.13, 1.721238033740784), (0.0, 1.8179397735054232), (0.0, 1.205985866203587), (0.0, 1.6833067022757255), (0.0, 1.572537106053796), (0.0, 1.57036391069615), (0.0, 1.3153296616829717), (0.13, 1.2752741058517703), (0.0, 1.207017605102545), (0.13, 1.289815425398428), (0.13, 1.5585487935494906), (0.0, 1.6997860925882273), (0.0, 1.313080298119561), (0.13, 1.812048831874448), (0.13, 1.2068521136446821), (0.13, 1.5686724021837049), (0.13, 1.335348391814276), (0.0, 1.9629728745430919), (0.13, 1.5597105686578212), (0.0, 1.7747173531428468), (0.0, 1.8387930432578337), (0.0, 1.6326957508963953), (0.0, 1.3597301795899017), (0.0, 1.886988466095884), (0.13, 1.063191561050381), (0.13, 1.501892162136635), (0.13, 1.141671295125464), (0.13, 1.736342535276422), (0.13, 1.3551400098243676), (0.0, 1.2503222951046538), (0.13, 1.8944738878399296), (0.0, 1.0457882960872076), (0.13, 1.9703484239502944), (0.0, 1.5215996409856807), (0.0, 1.3297794702734538), (0.13, 1.7645049957522052), (0.13, 1.61790767914985), (0.0, 1.0177610998623001), (0.0, 1.6321417969161138)]\n",
      "Starting data recording for session: C:\\Projects\\jetbot-diffusion-world-model-kong-finder-aux\\jetbot_laundry_session_data_two_actions\\session_20250611_121455\n",
      "CSV header written to C:\\Projects\\jetbot-diffusion-world-model-kong-finder-aux\\jetbot_laundry_session_data_two_actions\\session_20250611_121455\\data.csv\n",
      "Session recording complete. Total images in session: 2233\n",
      "Creating session directory: C:\\Projects\\jetbot-diffusion-world-model-kong-finder-aux\\jetbot_laundry_session_data_two_actions\\session_20250611_121617\n",
      "[(0.13, 1.6346504302385738), (0.13, 1.7696950443443722), (0.0, 1.438678884370411), (0.0, 1.0330321618639506), (0.0, 1.5907472189848662), (0.0, 1.1935501369790409), (0.13, 1.1958226737750213), (0.13, 1.86068411540796), (0.0, 1.6306716629181908), (0.0, 1.100596563320019), (0.0, 1.8000391142000407), (0.13, 1.3233269134272048), (0.0, 1.054296507492691), (0.13, 1.8485014705897844), (0.0, 1.7208464828298289), (0.0, 1.6958145013081452), (0.0, 1.1511513946717935), (0.0, 1.9855419890445671), (0.13, 1.3921923861415346), (0.0, 1.3687239242926936), (0.0, 1.6115882408958382), (0.0, 1.002455125757158), (0.0, 1.7298001265699108), (0.0, 1.3873574607518546), (0.13, 1.8222400214029608), (0.0, 1.5190254325364885), (0.13, 1.4234731519744168), (0.0, 1.4767340344677007), (0.0, 1.9335808977874183), (0.13, 1.5325030502413437), (0.13, 1.5795105315691247), (0.0, 1.3783186651041046), (0.0, 1.3664251791237518), (0.0, 1.395585112813397), (0.13, 1.4573351196651814), (0.0, 1.7498908777596678), (0.13, 1.6855095669079536), (0.0, 1.6265510873119289), (0.13, 1.577473443952496), (0.13, 1.3274533896546163), (0.13, 1.6688355343831223), (0.0, 1.1744355543373088), (0.0, 1.4899072818332595), (0.13, 1.5617114442888727), (0.0, 1.1385392660443514), (0.13, 1.0951668468862983), (0.0, 1.07608730728955), (0.13, 1.525746733915828), (0.13, 1.8271223273022739), (0.13, 1.0000939821902108)]\n",
      "Starting data recording for session: C:\\Projects\\jetbot-diffusion-world-model-kong-finder-aux\\jetbot_laundry_session_data_two_actions\\session_20250611_121617\n",
      "CSV header written to C:\\Projects\\jetbot-diffusion-world-model-kong-finder-aux\\jetbot_laundry_session_data_two_actions\\session_20250611_121617\\data.csv\n",
      "Session recording complete. Total images in session: 2224\n",
      "Creating session directory: C:\\Projects\\jetbot-diffusion-world-model-kong-finder-aux\\jetbot_laundry_session_data_two_actions\\session_20250611_121737\n",
      "[(0.0, 1.953702740460678), (0.13, 1.882916115186969), (0.0, 1.704093815364542), (0.0, 1.5099775821072359), (0.0, 1.8045777883318848), (0.0, 1.8344788287755436), (0.13, 1.0068109037363908), (0.0, 1.1402699329462431), (0.13, 1.666847039177446), (0.0, 1.916837808978603), (0.13, 1.1595738373451512), (0.13, 1.4220870266371812), (0.13, 1.4450895241170771), (0.13, 1.1698605252443004), (0.0, 1.0968936590180762), (0.0, 1.0979765404020987), (0.13, 1.180493803278499), (0.0, 1.575090124916701), (0.0, 1.5160381866196373), (0.0, 1.8861851418515205), (0.0, 1.9152012501427884), (0.0, 1.4098593399859611), (0.13, 1.9826731327217098), (0.13, 1.2565847738973615), (0.0, 1.2371408503234447), (0.13, 1.2038993071062185), (0.13, 1.4190025801087316), (0.0, 1.8974804868358506), (0.13, 1.1695853888030516), (0.13, 1.0055522192071202), (0.0, 1.099869008290993), (0.0, 1.3836640505580378), (0.0, 1.9862980121316107), (0.0, 1.2630782549213508), (0.0, 1.4426938277645804), (0.13, 1.668590086290656), (0.13, 1.4559089609251679), (0.0, 1.2756439108566777), (0.0, 1.7588208720618481), (0.0, 1.389237162966133), (0.13, 1.4007637834748046), (0.13, 1.211186734183728), (0.13, 1.0998266744414744), (0.13, 1.5358234470192569), (0.0, 1.3578343729040303), (0.0, 1.6376813936523305), (0.13, 1.340029172670246), (0.0, 1.2146041300103252), (0.13, 1.254117077886685), (0.0, 1.824934292917395)]\n",
      "Starting data recording for session: C:\\Projects\\jetbot-diffusion-world-model-kong-finder-aux\\jetbot_laundry_session_data_two_actions\\session_20250611_121737\n",
      "CSV header written to C:\\Projects\\jetbot-diffusion-world-model-kong-finder-aux\\jetbot_laundry_session_data_two_actions\\session_20250611_121737\\data.csv\n",
      "Session recording complete. Total images in session: 2196\n",
      "Creating session directory: C:\\Projects\\jetbot-diffusion-world-model-kong-finder-aux\\jetbot_laundry_session_data_two_actions\\session_20250611_121856\n",
      "[(0.13, 1.724484331678752), (0.13, 1.6914413906256394), (0.13, 1.6886833069637728), (0.0, 1.069956775109037), (0.13, 1.3598806194017445), (0.0, 1.8941670723230486), (0.13, 1.5125060980995804), (0.13, 1.4261323545692455), (0.0, 1.8931854237177568), (0.13, 1.454530176588134), (0.13, 1.2403761397671467), (0.13, 1.0949641416587648), (0.0, 1.9996956948350741), (0.0, 1.6834217583511384), (0.13, 1.3712798861199387), (0.13, 1.1855510516371677), (0.13, 1.0991923419784282), (0.13, 1.8098797170787218), (0.13, 1.282934863007363), (0.0, 1.1085585236690334), (0.0, 1.0070948967452003), (0.0, 1.9294376783103178), (0.0, 1.7435807238178267), (0.0, 1.7469696066345048), (0.13, 1.3566244963713858), (0.0, 1.5562076347452316), (0.13, 1.0083101363046474), (0.13, 1.7199094932490997), (0.13, 1.2708972732967063), (0.13, 1.071924856304593), (0.13, 1.4192387085577716), (0.13, 1.402766242621122), (0.0, 1.66495812729006), (0.0, 1.5630075324797688), (0.13, 1.7323536205181855), (0.0, 1.5166764495599048), (0.0, 1.0543745007825334), (0.0, 1.2011890878075033), (0.0, 1.110026876068454), (0.13, 1.295942508459018), (0.13, 1.5223242218291384), (0.13, 1.6671810587065212), (0.13, 1.0183210279880797), (0.0, 1.8561618339948853), (0.0, 1.8400706968619114), (0.13, 1.6472033400914272), (0.0, 1.001277309826253), (0.13, 1.2197063370805417), (0.0, 1.365825562468252), (0.13, 1.546072728732312)]\n",
      "Starting data recording for session: C:\\Projects\\jetbot-diffusion-world-model-kong-finder-aux\\jetbot_laundry_session_data_two_actions\\session_20250611_121856\n",
      "CSV header written to C:\\Projects\\jetbot-diffusion-world-model-kong-finder-aux\\jetbot_laundry_session_data_two_actions\\session_20250611_121856\\data.csv\n"
     ]
    }
   ],
   "source": [
    "\n",
    "\n",
    "try:\n",
    "    for session_idx in range(NUM_SESSIONS):\n",
    "        session_timestamp = datetime.datetime.now().strftime(\"%Y%m%d_%H%M%S\")\n",
    "        current_session_dir = os.path.join(config.SESSION_DATA_DIR, f\"session_{session_timestamp}\")\n",
    "        print(f\"Creating session directory: {current_session_dir}\")\n",
    "        random_actions = generate_random_actions(NUM_ACTIONS, POSSIBLE_SPEEDS, MIN_DURATION, MAX_DURATION)\n",
    "        print(random_actions)\n",
    "\n",
    "        record_data(jetbot, random_actions, TARGET_FPS, current_session_dir)\n",
    "\n",
    "        if session_idx < NUM_SESSIONS - 1:\n",
    "            move_to_new_location(jetbot)\n",
    "finally:\n",
    "    jetbot.cleanup()  # Stop motors and close connection\n"
   ]
  },
  {
   "cell_type": "code",
   "execution_count": 3,
   "id": "63fd2a79-b8f3-4784-92c9-545f71dc1b94",
   "metadata": {},
   "outputs": [
    {
     "data": {
      "application/vnd.jupyter.widget-view+json": {
       "model_id": "b95533d615094c958132c18631f2fc13",
       "version_major": 2,
       "version_minor": 0
      },
      "text/plain": [
       "Image(value=b'', format='jpeg', height='300', width='400')"
      ]
     },
     "metadata": {},
     "output_type": "display_data"
    }
   ],
   "source": [
    "jetbot = RemoteJetBot(JETBOT_IP)"
   ]
  },
  {
   "cell_type": "code",
   "execution_count": 5,
   "id": "a2408b91-c0ef-435f-9e47-641a68772eaf",
   "metadata": {},
   "outputs": [
    {
     "name": "stderr",
     "output_type": "stream",
     "text": [
      "INFO:JetBotClient:Connecting to JetBot at 192.168.68.60:18861\n",
      "INFO:JetBotClient:Connected successfully!\n"
     ]
    },
    {
     "data": {
      "application/vnd.jupyter.widget-view+json": {
       "model_id": "3f16f90a749c4652ac0f7615b36ae964",
       "version_major": 2,
       "version_minor": 0
      },
      "text/plain": [
       "Image(value=b'', format='jpeg', height='300', width='400')"
      ]
     },
     "metadata": {},
     "output_type": "display_data"
    }
   ],
   "source": [
    "jetbot = RemoteJetBot(JETBOT_IP)"
   ]
  },
  {
   "cell_type": "code",
   "execution_count": 7,
   "id": "b5612663-a560-4b75-b0d8-8387e667b2ad",
   "metadata": {},
   "outputs": [
    {
     "data": {
      "text/plain": [
       "array([[[165, 149, 180],\n",
       "        [163, 148, 176],\n",
       "        [161, 146, 173],\n",
       "        ...,\n",
       "        [ 64,  57,  78],\n",
       "        [ 66,  56,  56],\n",
       "        [ 78,  68,  58]],\n",
       "\n",
       "       [[161, 145, 176],\n",
       "        [165, 149, 180],\n",
       "        [164, 149, 176],\n",
       "        ...,\n",
       "        [ 62,  53,  73],\n",
       "        [ 70,  58,  64],\n",
       "        [ 71,  58,  56]],\n",
       "\n",
       "       [[170, 153, 186],\n",
       "        [163, 147, 178],\n",
       "        [166, 150, 181],\n",
       "        ...,\n",
       "        [ 65,  55,  71],\n",
       "        [ 74,  58,  75],\n",
       "        [ 74,  55,  72]],\n",
       "\n",
       "       ...,\n",
       "\n",
       "       [[ 82,  89, 104],\n",
       "        [ 80,  86,  99],\n",
       "        [ 90,  87, 102],\n",
       "        ...,\n",
       "        [ 49,  47,  13],\n",
       "        [ 50,  56,  33],\n",
       "        [ 42,  50,  33]],\n",
       "\n",
       "       [[ 72,  85, 101],\n",
       "        [ 80,  87, 104],\n",
       "        [ 89,  87, 106],\n",
       "        ...,\n",
       "        [ 58,  50,  27],\n",
       "        [ 61,  58,  43],\n",
       "        [ 54,  54,  40]],\n",
       "\n",
       "       [[ 74,  88, 106],\n",
       "        [ 86,  93, 112],\n",
       "        [ 90,  88, 107],\n",
       "        ...,\n",
       "        [ 56,  43,  27],\n",
       "        [ 57,  49,  36],\n",
       "        [ 50,  46,  35]]], dtype=uint8)"
      ]
     },
     "execution_count": 7,
     "metadata": {},
     "output_type": "execute_result"
    }
   ],
   "source": [
    "jetbot.get_frame()"
   ]
  },
  {
   "cell_type": "code",
   "execution_count": 8,
   "id": "5cdd655c-b5b2-4974-ade2-9467cc7a1c19",
   "metadata": {},
   "outputs": [
    {
     "data": {
      "text/plain": [
       "True"
      ]
     },
     "execution_count": 8,
     "metadata": {},
     "output_type": "execute_result"
    }
   ],
   "source": [
    "jetbot.set_motors(.12,0)"
   ]
  },
  {
   "cell_type": "code",
   "execution_count": 9,
   "id": "82c8e684-12cf-4e41-b34d-9c6423a6c7c8",
   "metadata": {},
   "outputs": [
    {
     "data": {
      "text/plain": [
       "True"
      ]
     },
     "execution_count": 9,
     "metadata": {},
     "output_type": "execute_result"
    }
   ],
   "source": [
    "jetbot.set_motors(0,0)"
   ]
  },
  {
   "cell_type": "code",
   "execution_count": 10,
   "id": "4369032a-a76a-4314-9f49-150bb64d29ce",
   "metadata": {},
   "outputs": [],
   "source": [
    "jetbot.cleanup()"
   ]
  },
  {
   "cell_type": "code",
   "execution_count": null,
   "id": "93f0bcf1-2fd9-47e8-97e1-d2b4c3b6eee9",
   "metadata": {},
   "outputs": [],
   "source": []
  }
 ],
 "metadata": {
  "kernelspec": {
   "display_name": "Python 3 (ipykernel)",
   "language": "python",
   "name": "python3"
  },
  "language_info": {
   "codemirror_mode": {
    "name": "ipython",
    "version": 3
   },
   "file_extension": ".py",
   "mimetype": "text/x-python",
   "name": "python",
   "nbconvert_exporter": "python",
   "pygments_lexer": "ipython3",
   "version": "3.11.9"
  }
 },
 "nbformat": 4,
 "nbformat_minor": 5
}
