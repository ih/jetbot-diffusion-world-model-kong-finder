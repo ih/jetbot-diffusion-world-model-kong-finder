{
 "cells": [
  {
   "cell_type": "code",
   "execution_count": 2,
   "id": "ac8b93e8-b768-4410-ba73-080811c48161",
   "metadata": {},
   "outputs": [],
   "source": [
    "import rpyc\n",
    "import logging\n",
    "import time\n",
    "import cv2\n",
    "import numpy as np\n",
    "import base64\n",
    "from IPython.display import display, Image  # No need for clear_output here\n",
    "import ipywidgets as widgets\n",
    "import os\n",
    "import csv\n",
    "import datetime\n",
    "import torchvision.transforms as transforms\n",
    "from PIL import Image\n",
    "import random\n",
    "import config\n",
    "\n",
    "\n",
    "# --- Setup Logging ---\n",
    "logging.basicConfig(level=logging.DEBUG)\n",
    "logger = logging.getLogger('JetBotClient')\n",
    "\n",
    "# --- Image Transformation ---\n",
    "# Transformations *before* saving to disk (for consistency with training)\n",
    "transform = transforms.Compose([\n",
    "    transforms.Resize((IMAGE_SIZE, IMAGE_SIZE)),\n",
    "    transforms.ToTensor(),\n",
    "    transforms.Normalize((0.5, 0.5, 0.5), (0.5, 0.5, 0.5))\n",
    "])\n",
    "\n",
    "\n",
    "class RemoteJetBot:\n",
    "    def __init__(self, ip_address, port=18861):\n",
    "        logger.info(f\"Connecting to JetBot at {ip_address}:{port}\")\n",
    "        try:\n",
    "            self.conn = rpyc.connect(\n",
    "                ip_address,\n",
    "                port,\n",
    "                config={\n",
    "                    'sync_request_timeout': 30,\n",
    "                    'allow_all_attrs': True\n",
    "                }\n",
    "            )\n",
    "            logger.info(\"Connected successfully!\")\n",
    "            # Initialize video window\n",
    "            self.image_widget = widgets.Image(\n",
    "                format='jpeg',\n",
    "                width=400,\n",
    "                height=300,\n",
    "            )\n",
    "            display(self.image_widget)\n",
    "        except Exception as e:\n",
    "            logger.error(f\"Connection failed: {str(e)}\")\n",
    "            raise\n",
    "\n",
    "    def get_frame(self):\n",
    "        \"\"\"Get a single frame from the camera and display it\"\"\"\n",
    "        try:\n",
    "            # Get frame from server\n",
    "            jpg_as_text = self.conn.root.get_camera_frame()\n",
    "            if jpg_as_text:\n",
    "                # Decode base64 string directly to bytes\n",
    "                jpg_bytes = base64.b64decode(jpg_as_text)\n",
    "                # Update the image widget\n",
    "                self.image_widget.value = jpg_bytes\n",
    "\n",
    "                # Convert to NumPy array (for saving)\n",
    "                npimg = np.frombuffer(jpg_bytes, dtype=np.uint8)\n",
    "                frame = cv2.imdecode(npimg, cv2.IMREAD_COLOR)\n",
    "                return frame  # Return the frame as a NumPy array\n",
    "            return None\n",
    "\n",
    "        except Exception as e:\n",
    "            logger.error(f\"Error getting frame: {str(e)}\")\n",
    "            return None\n",
    "\n",
    "    def set_motors(self, left_speed, right_speed):\n",
    "        try:\n",
    "            logger.debug(f\"Sending motor command: left={left_speed}, right={right_speed}\")\n",
    "            result = self.conn.root.set_motors(float(left_speed), float(right_speed))\n",
    "            logger.debug(\"Command sent successfully\")\n",
    "            return result\n",
    "        except Exception as e:\n",
    "            logger.error(f\"Error sending motor command: {str(e)}\")\n",
    "            raise\n",
    "\n",
    "    def cleanup(self):\n",
    "        try:\n",
    "            logger.debug(\"Cleaning up connection\")\n",
    "            if hasattr(self, 'conn'):\n",
    "                self.set_motors(0, 0)  # Stop motors\n",
    "                self.conn.close()\n",
    "            logger.info(\"Cleanup completed\")\n",
    "        except Exception as e:\n",
    "            logger.error(f\"Error during cleanup: {str(e)}\")\n",
    "\n",
    "\n",
    "def generate_random_actions(num_actions, possible_speeds, min_duration, max_duration):\n",
    "    actions = []\n",
    "    for _ in range(num_actions):\n",
    "        speed = random.choice(possible_speeds)\n",
    "        duration = random.uniform(min_duration, max_duration)  # Use uniform for continuous range\n",
    "        actions.append((speed, duration))\n",
    "    return actions\n",
    "\n",
    "def record_data(jetbot, actions, target_fps, output_dir, image_dir, csv_path):\n",
    "    \"\"\"\n",
    "    Records data, alternating between actions.  Includes debug prints.\n",
    "    \"\"\"\n",
    "    print(\"Starting data recording...\")  # Initial print statement\n",
    "    with open(csv_path, 'w', newline='') as csvfile:\n",
    "        fieldnames = ['image_path', 'timestamp', 'action']\n",
    "        writer = csv.DictWriter(csvfile, fieldnames=fieldnames)\n",
    "        writer.writeheader()\n",
    "        print(\"CSV header written.\")\n",
    "\n",
    "        target_interval = 1.0 / target_fps\n",
    "        image_count = 0\n",
    "\n",
    "        for action, duration in actions:\n",
    "            print(f\"Starting action: {action} for duration: {duration}\")\n",
    "            jetbot.set_motors(action, 0)  # Set motor speed.\n",
    "            start_time = time.time()\n",
    "\n",
    "            while time.time() - start_time < duration:\n",
    "                frame_start_time = time.perf_counter()\n",
    "\n",
    "                frame = jetbot.get_frame()\n",
    "                if frame is None:\n",
    "                    continue\n",
    "\n",
    "                frame = cv2.cvtColor(frame, cv2.COLOR_BGR2RGB)\n",
    "                image = Image.fromarray(frame)\n",
    "                image = transform(image)\n",
    "\n",
    "                timestamp = time.time()\n",
    "                image_filename = f\"image_{image_count:05d}.jpg\"\n",
    "                image_path = os.path.join(image_dir, image_filename)\n",
    "\n",
    "                pil_image = transforms.ToPILImage()((image + 1) / 2)\n",
    "                pil_image.save(image_path)\n",
    "\n",
    "                writer.writerow({'image_path': image_path, 'timestamp': timestamp, 'action': action})\n",
    "                image_count += 1\n",
    "\n",
    "                frame_end_time = time.perf_counter()\n",
    "                elapsed_time = frame_end_time - frame_start_time\n",
    "                sleep_time = target_interval - elapsed_time\n",
    "\n",
    "                if sleep_time > 0:\n",
    "                    time.sleep(sleep_time)\n",
    "\n",
    "    print(f\"Data recording complete. Total images: {image_count}\")\n",
    "\n",
    "\n"
   ]
  },
  {
   "cell_type": "code",
   "execution_count": 3,
   "id": "4e7ca3a1-05b1-49ce-936d-c9adc2fce152",
   "metadata": {},
   "outputs": [],
   "source": [
    "\n",
    "# --- Configuration ---\n",
    "JETBOT_IP = '192.168.68.54'  # Replace with your Jetbot's IP address\n",
    "IMAGE_SIZE = 224  # Use 224x224 images, don't use constant from config file since there may be resizing, or rename this and put it there\n",
    "TARGET_FPS = 30\n",
    "POSSIBLE_SPEEDS = [0.0, 0.1]\n",
    "MIN_DURATION = 2.0  # Seconds\n",
    "MAX_DURATION = 5.0  # Seconds\n",
    "NUM_ACTIONS = 20 #How many total actions to do"
   ]
  },
  {
   "cell_type": "code",
   "execution_count": 4,
   "id": "627b5cfc-06f0-4d99-996b-2d26ef51ee5b",
   "metadata": {
    "scrolled": true
   },
   "outputs": [
    {
     "name": "stderr",
     "output_type": "stream",
     "text": [
      "INFO:JetBotClient:Connecting to JetBot at 192.168.68.54:18861\n",
      "INFO:JetBotClient:Connected successfully!\n"
     ]
    },
    {
     "data": {
      "application/vnd.jupyter.widget-view+json": {
       "model_id": "f34673a44ab14d24823ab82a4209d57b",
       "version_major": 2,
       "version_minor": 0
      },
      "text/plain": [
       "Image(value=b'', format='jpeg', height='300', width='400')"
      ]
     },
     "metadata": {},
     "output_type": "display_data"
    },
    {
     "name": "stderr",
     "output_type": "stream",
     "text": [
      "DEBUG:JetBotClient:Sending motor command: left=0.0, right=0\n",
      "DEBUG:JetBotClient:Command sent successfully\n"
     ]
    },
    {
     "name": "stdout",
     "output_type": "stream",
     "text": [
      "[(0.0, 4.034340651685954), (0.0, 3.990489380237825), (0.1, 4.435173537996854), (0.1, 3.4714181567471005), (0.1, 4.643543862823519), (0.1, 4.305233740056094), (0.1, 3.944607375956734), (0.0, 4.499265649163936), (0.1, 3.109759593452303), (0.1, 2.095439108693426), (0.0, 2.3819462813301167), (0.1, 2.9388610541740183), (0.0, 4.081020261138724), (0.1, 2.792746946330512), (0.0, 2.5914472253285323), (0.0, 3.8586250129630777), (0.1, 2.953829215890508), (0.0, 3.8094200403703518), (0.1, 2.3116222746564175), (0.0, 4.122961924677755)]\n",
      "Starting data recording...\n",
      "CSV header written.\n",
      "Starting action: 0.0 for duration: 4.034340651685954\n"
     ]
    },
    {
     "name": "stderr",
     "output_type": "stream",
     "text": [
      "DEBUG:JetBotClient:Sending motor command: left=0.0, right=0\n",
      "DEBUG:JetBotClient:Command sent successfully\n"
     ]
    },
    {
     "name": "stdout",
     "output_type": "stream",
     "text": [
      "Starting action: 0.0 for duration: 3.990489380237825\n"
     ]
    },
    {
     "name": "stderr",
     "output_type": "stream",
     "text": [
      "DEBUG:JetBotClient:Sending motor command: left=0.1, right=0\n",
      "DEBUG:JetBotClient:Command sent successfully\n"
     ]
    },
    {
     "name": "stdout",
     "output_type": "stream",
     "text": [
      "Starting action: 0.1 for duration: 4.435173537996854\n"
     ]
    },
    {
     "name": "stderr",
     "output_type": "stream",
     "text": [
      "DEBUG:JetBotClient:Sending motor command: left=0.1, right=0\n",
      "DEBUG:JetBotClient:Command sent successfully\n"
     ]
    },
    {
     "name": "stdout",
     "output_type": "stream",
     "text": [
      "Starting action: 0.1 for duration: 3.4714181567471005\n"
     ]
    },
    {
     "name": "stderr",
     "output_type": "stream",
     "text": [
      "DEBUG:JetBotClient:Sending motor command: left=0.1, right=0\n",
      "DEBUG:JetBotClient:Command sent successfully\n"
     ]
    },
    {
     "name": "stdout",
     "output_type": "stream",
     "text": [
      "Starting action: 0.1 for duration: 4.643543862823519\n"
     ]
    },
    {
     "name": "stderr",
     "output_type": "stream",
     "text": [
      "DEBUG:JetBotClient:Sending motor command: left=0.1, right=0\n",
      "DEBUG:JetBotClient:Command sent successfully\n"
     ]
    },
    {
     "name": "stdout",
     "output_type": "stream",
     "text": [
      "Starting action: 0.1 for duration: 4.305233740056094\n"
     ]
    },
    {
     "name": "stderr",
     "output_type": "stream",
     "text": [
      "DEBUG:JetBotClient:Sending motor command: left=0.1, right=0\n",
      "DEBUG:JetBotClient:Command sent successfully\n"
     ]
    },
    {
     "name": "stdout",
     "output_type": "stream",
     "text": [
      "Starting action: 0.1 for duration: 3.944607375956734\n"
     ]
    },
    {
     "name": "stderr",
     "output_type": "stream",
     "text": [
      "DEBUG:JetBotClient:Sending motor command: left=0.0, right=0\n",
      "DEBUG:JetBotClient:Command sent successfully\n"
     ]
    },
    {
     "name": "stdout",
     "output_type": "stream",
     "text": [
      "Starting action: 0.0 for duration: 4.499265649163936\n"
     ]
    },
    {
     "name": "stderr",
     "output_type": "stream",
     "text": [
      "DEBUG:JetBotClient:Sending motor command: left=0.1, right=0\n",
      "DEBUG:JetBotClient:Command sent successfully\n"
     ]
    },
    {
     "name": "stdout",
     "output_type": "stream",
     "text": [
      "Starting action: 0.1 for duration: 3.109759593452303\n"
     ]
    },
    {
     "name": "stderr",
     "output_type": "stream",
     "text": [
      "DEBUG:JetBotClient:Sending motor command: left=0.1, right=0\n",
      "DEBUG:JetBotClient:Command sent successfully\n"
     ]
    },
    {
     "name": "stdout",
     "output_type": "stream",
     "text": [
      "Starting action: 0.1 for duration: 2.095439108693426\n"
     ]
    },
    {
     "name": "stderr",
     "output_type": "stream",
     "text": [
      "DEBUG:JetBotClient:Sending motor command: left=0.0, right=0\n",
      "DEBUG:JetBotClient:Command sent successfully\n"
     ]
    },
    {
     "name": "stdout",
     "output_type": "stream",
     "text": [
      "Starting action: 0.0 for duration: 2.3819462813301167\n"
     ]
    },
    {
     "name": "stderr",
     "output_type": "stream",
     "text": [
      "DEBUG:JetBotClient:Sending motor command: left=0.1, right=0\n",
      "DEBUG:JetBotClient:Command sent successfully\n"
     ]
    },
    {
     "name": "stdout",
     "output_type": "stream",
     "text": [
      "Starting action: 0.1 for duration: 2.9388610541740183\n"
     ]
    },
    {
     "name": "stderr",
     "output_type": "stream",
     "text": [
      "DEBUG:JetBotClient:Sending motor command: left=0.0, right=0\n",
      "DEBUG:JetBotClient:Command sent successfully\n"
     ]
    },
    {
     "name": "stdout",
     "output_type": "stream",
     "text": [
      "Starting action: 0.0 for duration: 4.081020261138724\n"
     ]
    },
    {
     "name": "stderr",
     "output_type": "stream",
     "text": [
      "DEBUG:JetBotClient:Sending motor command: left=0.1, right=0\n",
      "DEBUG:JetBotClient:Command sent successfully\n"
     ]
    },
    {
     "name": "stdout",
     "output_type": "stream",
     "text": [
      "Starting action: 0.1 for duration: 2.792746946330512\n"
     ]
    },
    {
     "name": "stderr",
     "output_type": "stream",
     "text": [
      "DEBUG:JetBotClient:Sending motor command: left=0.0, right=0\n",
      "DEBUG:JetBotClient:Command sent successfully\n"
     ]
    },
    {
     "name": "stdout",
     "output_type": "stream",
     "text": [
      "Starting action: 0.0 for duration: 2.5914472253285323\n"
     ]
    },
    {
     "name": "stderr",
     "output_type": "stream",
     "text": [
      "DEBUG:JetBotClient:Sending motor command: left=0.0, right=0\n",
      "DEBUG:JetBotClient:Command sent successfully\n"
     ]
    },
    {
     "name": "stdout",
     "output_type": "stream",
     "text": [
      "Starting action: 0.0 for duration: 3.8586250129630777\n"
     ]
    },
    {
     "name": "stderr",
     "output_type": "stream",
     "text": [
      "DEBUG:JetBotClient:Sending motor command: left=0.1, right=0\n",
      "DEBUG:JetBotClient:Command sent successfully\n"
     ]
    },
    {
     "name": "stdout",
     "output_type": "stream",
     "text": [
      "Starting action: 0.1 for duration: 2.953829215890508\n"
     ]
    },
    {
     "name": "stderr",
     "output_type": "stream",
     "text": [
      "DEBUG:JetBotClient:Sending motor command: left=0.0, right=0\n",
      "DEBUG:JetBotClient:Command sent successfully\n"
     ]
    },
    {
     "name": "stdout",
     "output_type": "stream",
     "text": [
      "Starting action: 0.0 for duration: 3.8094200403703518\n"
     ]
    },
    {
     "name": "stderr",
     "output_type": "stream",
     "text": [
      "DEBUG:JetBotClient:Sending motor command: left=0.1, right=0\n",
      "DEBUG:JetBotClient:Command sent successfully\n"
     ]
    },
    {
     "name": "stdout",
     "output_type": "stream",
     "text": [
      "Starting action: 0.1 for duration: 2.3116222746564175\n"
     ]
    },
    {
     "name": "stderr",
     "output_type": "stream",
     "text": [
      "DEBUG:JetBotClient:Sending motor command: left=0.0, right=0\n",
      "DEBUG:JetBotClient:Command sent successfully\n"
     ]
    },
    {
     "name": "stdout",
     "output_type": "stream",
     "text": [
      "Starting action: 0.0 for duration: 4.122961924677755\n"
     ]
    },
    {
     "name": "stderr",
     "output_type": "stream",
     "text": [
      "DEBUG:JetBotClient:Cleaning up connection\n",
      "DEBUG:JetBotClient:Sending motor command: left=0, right=0\n",
      "DEBUG:JetBotClient:Command sent successfully\n",
      "INFO:JetBotClient:Cleanup completed\n"
     ]
    },
    {
     "name": "stdout",
     "output_type": "stream",
     "text": [
      "Data recording complete. Total images: 2084\n"
     ]
    }
   ],
   "source": [
    "jetbot = RemoteJetBot(JETBOT_IP)\n",
    "\n",
    "try:\n",
    "    random_actions = generate_random_actions(NUM_ACTIONS, POSSIBLE_SPEEDS, MIN_DURATION, MAX_DURATION)\n",
    "    print(random_actions)\n",
    "\n",
    "    # Record data\n",
    "    record_data(jetbot, random_actions, TARGET_FPS, config.DATA_DIR, config.IMAGE_DIR, config.CSV_PATH)\n",
    "finally:\n",
    "    jetbot.cleanup()  # Stop motors and close connection"
   ]
  },
  {
   "cell_type": "code",
   "execution_count": 8,
   "id": "a2408b91-c0ef-435f-9e47-641a68772eaf",
   "metadata": {
    "scrolled": true
   },
   "outputs": [
    {
     "name": "stderr",
     "output_type": "stream",
     "text": [
      "INFO:JetBotClient:Connecting to JetBot at 192.168.68.54:18861\n",
      "INFO:JetBotClient:Connected successfully!\n"
     ]
    },
    {
     "data": {
      "application/vnd.jupyter.widget-view+json": {
       "model_id": "6ba6bbeb67694083830de7f5546f5c9b",
       "version_major": 2,
       "version_minor": 0
      },
      "text/plain": [
       "Image(value=b'', format='jpeg', height='300', width='400')"
      ]
     },
     "metadata": {},
     "output_type": "display_data"
    }
   ],
   "source": [
    "jetbot = RemoteJetBot(JETBOT_IP)"
   ]
  },
  {
   "cell_type": "code",
   "execution_count": 10,
   "id": "b5612663-a560-4b75-b0d8-8387e667b2ad",
   "metadata": {},
   "outputs": [
    {
     "data": {
      "text/plain": [
       "array([[[195, 163, 210],\n",
       "        [193, 166, 210],\n",
       "        [183, 168, 206],\n",
       "        ...,\n",
       "        [100,  59,  66],\n",
       "        [115,  91, 101],\n",
       "        [ 91,  75,  86]],\n",
       "\n",
       "       [[192, 160, 207],\n",
       "        [193, 166, 210],\n",
       "        [181, 166, 204],\n",
       "        ...,\n",
       "        [ 98,  63,  67],\n",
       "        [108,  87,  96],\n",
       "        [100,  86,  98]],\n",
       "\n",
       "       [[187, 158, 203],\n",
       "        [187, 162, 206],\n",
       "        [183, 165, 206],\n",
       "        ...,\n",
       "        [ 87,  62,  60],\n",
       "        [101,  86,  94],\n",
       "        [ 96,  87, 100]],\n",
       "\n",
       "       ...,\n",
       "\n",
       "       [[ 91, 101, 119],\n",
       "        [103, 109, 128],\n",
       "        [118, 112, 135],\n",
       "        ...,\n",
       "        [140, 135, 164],\n",
       "        [138, 134, 163],\n",
       "        [140, 139, 165]],\n",
       "\n",
       "       [[102,  99, 124],\n",
       "        [107, 103, 128],\n",
       "        [113, 101, 129],\n",
       "        ...,\n",
       "        [146, 137, 164],\n",
       "        [134, 129, 156],\n",
       "        [134, 131, 156]],\n",
       "\n",
       "       [[124, 117, 144],\n",
       "        [115, 106, 133],\n",
       "        [116, 100, 131],\n",
       "        ...,\n",
       "        [137, 126, 152],\n",
       "        [131, 127, 152],\n",
       "        [135, 132, 157]]], dtype=uint8)"
      ]
     },
     "execution_count": 10,
     "metadata": {},
     "output_type": "execute_result"
    }
   ],
   "source": [
    "jetbot.get_frame()"
   ]
  },
  {
   "cell_type": "code",
   "execution_count": 11,
   "id": "5cdd655c-b5b2-4974-ade2-9467cc7a1c19",
   "metadata": {},
   "outputs": [
    {
     "name": "stderr",
     "output_type": "stream",
     "text": [
      "DEBUG:JetBotClient:Sending motor command: left=0.115, right=0\n",
      "DEBUG:JetBotClient:Command sent successfully\n"
     ]
    },
    {
     "data": {
      "text/plain": [
       "True"
      ]
     },
     "execution_count": 11,
     "metadata": {},
     "output_type": "execute_result"
    }
   ],
   "source": [
    "jetbot.set_motors(.115,0)"
   ]
  },
  {
   "cell_type": "code",
   "execution_count": 12,
   "id": "82c8e684-12cf-4e41-b34d-9c6423a6c7c8",
   "metadata": {},
   "outputs": [
    {
     "name": "stderr",
     "output_type": "stream",
     "text": [
      "DEBUG:JetBotClient:Sending motor command: left=0, right=0\n",
      "DEBUG:JetBotClient:Command sent successfully\n"
     ]
    },
    {
     "data": {
      "text/plain": [
       "True"
      ]
     },
     "execution_count": 12,
     "metadata": {},
     "output_type": "execute_result"
    }
   ],
   "source": [
    "jetbot.set_motors(0,0)"
   ]
  },
  {
   "cell_type": "code",
   "execution_count": 24,
   "id": "4369032a-a76a-4314-9f49-150bb64d29ce",
   "metadata": {},
   "outputs": [
    {
     "name": "stderr",
     "output_type": "stream",
     "text": [
      "DEBUG:JetBotClient:Cleaning up connection\n",
      "DEBUG:JetBotClient:Sending motor command: left=0, right=0\n",
      "DEBUG:JetBotClient:Command sent successfully\n",
      "INFO:JetBotClient:Cleanup completed\n"
     ]
    }
   ],
   "source": [
    "jetbot.cleanup()"
   ]
  },
  {
   "cell_type": "code",
   "execution_count": null,
   "id": "93f0bcf1-2fd9-47e8-97e1-d2b4c3b6eee9",
   "metadata": {},
   "outputs": [],
   "source": []
  }
 ],
 "metadata": {
  "kernelspec": {
   "display_name": "Python 3 (ipykernel)",
   "language": "python",
   "name": "python3"
  },
  "language_info": {
   "codemirror_mode": {
    "name": "ipython",
    "version": 3
   },
   "file_extension": ".py",
   "mimetype": "text/x-python",
   "name": "python",
   "nbconvert_exporter": "python",
   "pygments_lexer": "ipython3",
   "version": "3.11.9"
  }
 },
 "nbformat": 4,
 "nbformat_minor": 5
}
