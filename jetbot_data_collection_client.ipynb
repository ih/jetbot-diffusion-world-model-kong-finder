{
 "cells": [
  {
   "cell_type": "code",
   "execution_count": 1,
   "id": "ac8b93e8-b768-4410-ba73-080811c48161",
   "metadata": {},
   "outputs": [],
   "source": [
    "import rpyc\n",
    "import logging\n",
    "import time\n",
    "import cv2\n",
    "import numpy as np\n",
    "import base64\n",
    "from IPython.display import display, Image  # No need for clear_output here\n",
    "import ipywidgets as widgets\n",
    "import os\n",
    "import csv\n",
    "import datetime\n",
    "import torchvision.transforms as transforms\n",
    "from PIL import Image\n",
    "\n",
    "\n",
    "\n",
    "# --- Setup Logging ---\n",
    "logging.basicConfig(level=logging.DEBUG)\n",
    "logger = logging.getLogger('JetBotClient')\n",
    "\n",
    "# --- Create Directories ---\n",
    "os.makedirs(DATA_DIR, exist_ok=True)\n",
    "os.makedirs(IMAGE_DIR, exist_ok=True)\n",
    "\n",
    "# --- Image Transformation ---\n",
    "# Transformations *before* saving to disk (for consistency with training)\n",
    "transform = transforms.Compose([\n",
    "    transforms.Resize((IMAGE_SIZE, IMAGE_SIZE)),\n",
    "    transforms.ToTensor(),\n",
    "    transforms.Normalize((0.5, 0.5, 0.5), (0.5, 0.5, 0.5))\n",
    "])\n",
    "\n",
    "\n",
    "class RemoteJetBot:\n",
    "    def __init__(self, ip_address, port=18861):\n",
    "        logger.info(f\"Connecting to JetBot at {ip_address}:{port}\")\n",
    "        try:\n",
    "            self.conn = rpyc.connect(\n",
    "                ip_address,\n",
    "                port,\n",
    "                config={\n",
    "                    'sync_request_timeout': 30,\n",
    "                    'allow_all_attrs': True\n",
    "                }\n",
    "            )\n",
    "            logger.info(\"Connected successfully!\")\n",
    "            # Initialize video window\n",
    "            self.image_widget = widgets.Image(\n",
    "                format='jpeg',\n",
    "                width=400,\n",
    "                height=300,\n",
    "            )\n",
    "            display(self.image_widget)\n",
    "        except Exception as e:\n",
    "            logger.error(f\"Connection failed: {str(e)}\")\n",
    "            raise\n",
    "\n",
    "    def get_frame(self):\n",
    "        \"\"\"Get a single frame from the camera and display it\"\"\"\n",
    "        try:\n",
    "            # Get frame from server\n",
    "            jpg_as_text = self.conn.root.get_camera_frame()\n",
    "            if jpg_as_text:\n",
    "                # Decode base64 string directly to bytes\n",
    "                jpg_bytes = base64.b64decode(jpg_as_text)\n",
    "                # Update the image widget\n",
    "                self.image_widget.value = jpg_bytes\n",
    "\n",
    "                # Convert to NumPy array (for saving)\n",
    "                npimg = np.frombuffer(jpg_bytes, dtype=np.uint8)\n",
    "                frame = cv2.imdecode(npimg, cv2.IMREAD_COLOR)\n",
    "                return frame  # Return the frame as a NumPy array\n",
    "            return None\n",
    "\n",
    "        except Exception as e:\n",
    "            logger.error(f\"Error getting frame: {str(e)}\")\n",
    "            return None\n",
    "\n",
    "    def set_motors(self, left_speed, right_speed):\n",
    "        try:\n",
    "            logger.debug(f\"Sending motor command: left={left_speed}, right={right_speed}\")\n",
    "            result = self.conn.root.set_motors(float(left_speed), float(right_speed))\n",
    "            logger.debug(\"Command sent successfully\")\n",
    "            return result\n",
    "        except Exception as e:\n",
    "            logger.error(f\"Error sending motor command: {str(e)}\")\n",
    "            raise\n",
    "\n",
    "    def cleanup(self):\n",
    "        try:\n",
    "            logger.debug(\"Cleaning up connection\")\n",
    "            if hasattr(self, 'conn'):\n",
    "                self.set_motors(0, 0)  # Stop motors\n",
    "                self.conn.close()\n",
    "            logger.info(\"Cleanup completed\")\n",
    "        except Exception as e:\n",
    "            logger.error(f\"Error during cleanup: {str(e)}\")\n",
    "\n",
    "\n",
    "def record_data(jetbot, duration, target_fps, motor_speed):\n",
    "    \"\"\"Records data from the Jetbot for a specified duration.\n",
    "\n",
    "    Args:\n",
    "        jetbot: The RemoteJetBot object.\n",
    "        duration: Recording duration in seconds.\n",
    "        target_fps: The desired frames per second.\n",
    "        motor_speed:  The speed to set for the single motor.\n",
    "    \"\"\"\n",
    "\n",
    "    with open(CSV_PATH, 'w', newline='') as csvfile:\n",
    "        fieldnames = ['image_path', 'timestamp', 'action']\n",
    "        writer = csv.DictWriter(csvfile, fieldnames=fieldnames)\n",
    "        writer.writeheader()\n",
    "\n",
    "        target_interval = 1.0 / target_fps\n",
    "        start_time = time.time()\n",
    "        image_count = 0\n",
    "\n",
    "        while time.time() - start_time < duration:\n",
    "            frame_start_time = time.perf_counter()\n",
    "\n",
    "            # 1. Capture image\n",
    "            frame = jetbot.get_frame()  # Get frame as NumPy array\n",
    "            if frame is None:  # Check if frame is valid\n",
    "                continue\n",
    "\n",
    "            # Convert to PIL Image\n",
    "            frame = cv2.cvtColor(frame, cv2.COLOR_BGR2RGB) # IMPORTANT: Convert to RGB\n",
    "            image = Image.fromarray(frame)\n",
    "            image = transform(image) # Apply the transforms\n",
    "\n",
    "            # 2. Get motor speed (action)\n",
    "            action = motor_speed  # The action is the constant motor speed\n",
    "\n",
    "            # 3. Generate filename\n",
    "            timestamp = time.time()\n",
    "            image_filename = f\"image_{image_count:05d}.jpg\"\n",
    "            image_path = os.path.join(IMAGE_DIR, image_filename)\n",
    "\n",
    "            # 4. Save image\n",
    "            pil_image = transforms.ToPILImage()((image + 1) / 2)  # Un-normalize\n",
    "            pil_image.save(image_path)\n",
    "\n",
    "            # 5. Write to CSV\n",
    "            writer.writerow({'image_path': image_path, 'timestamp': timestamp, 'action': action})\n",
    "\n",
    "            image_count += 1\n",
    "\n",
    "            frame_end_time = time.perf_counter()\n",
    "            elapsed_time = frame_end_time - frame_start_time\n",
    "            sleep_time = target_interval - elapsed_time\n",
    "\n",
    "            if sleep_time > 0:\n",
    "                time.sleep(sleep_time)\n",
    "\n",
    "    print(f\"Data recording complete. {image_count} images saved.\")\n",
    "\n",
    "\n"
   ]
  },
  {
   "cell_type": "code",
   "execution_count": 30,
   "id": "4e7ca3a1-05b1-49ce-936d-c9adc2fce152",
   "metadata": {},
   "outputs": [],
   "source": [
    "\n",
    "# --- Configuration ---\n",
    "JETBOT_IP = '192.168.68.63'  # Replace with your Jetbot's IP address\n",
    "DATA_DIR = 'jetbot_data'\n",
    "IMAGE_DIR = os.path.join(DATA_DIR, 'images')\n",
    "CSV_PATH = os.path.join(DATA_DIR, 'data.csv')\n",
    "IMAGE_SIZE = 224  # Use 224x224 images\n",
    "TARGET_FPS = 30\n",
    "RECORDING_DURATION = 5  # in seconds\n",
    "MOTOR_SPEED = 0.15  # Example speed.  Adjust as needed."
   ]
  },
  {
   "cell_type": "code",
   "execution_count": 31,
   "id": "627b5cfc-06f0-4d99-996b-2d26ef51ee5b",
   "metadata": {
    "scrolled": true
   },
   "outputs": [
    {
     "name": "stderr",
     "output_type": "stream",
     "text": [
      "INFO:JetBotClient:Connecting to JetBot at 192.168.68.63:18861\n",
      "INFO:JetBotClient:Connected successfully!\n"
     ]
    },
    {
     "data": {
      "application/vnd.jupyter.widget-view+json": {
       "model_id": "9f7e51a6e57f477d95289faae5894209",
       "version_major": 2,
       "version_minor": 0
      },
      "text/plain": [
       "Image(value=b'', format='jpeg', height='300', width='400')"
      ]
     },
     "metadata": {},
     "output_type": "display_data"
    },
    {
     "name": "stderr",
     "output_type": "stream",
     "text": [
      "DEBUG:JetBotClient:Sending motor command: left=0.15, right=0\n",
      "DEBUG:JetBotClient:Command sent successfully\n",
      "DEBUG:JetBotClient:Cleaning up connection\n",
      "DEBUG:JetBotClient:Sending motor command: left=0, right=0\n",
      "DEBUG:JetBotClient:Command sent successfully\n",
      "INFO:JetBotClient:Cleanup completed\n"
     ]
    },
    {
     "name": "stdout",
     "output_type": "stream",
     "text": [
      "Data recording complete. 131 images saved.\n"
     ]
    }
   ],
   "source": [
    "jetbot = RemoteJetBot(JETBOT_IP)\n",
    "\n",
    "try:\n",
    "    # Set the motor speed (single motor control)\n",
    "    jetbot.set_motors(MOTOR_SPEED, 0)  # Left motor only\n",
    "\n",
    "    # Record data\n",
    "    record_data(jetbot, RECORDING_DURATION, TARGET_FPS, MOTOR_SPEED)\n",
    "\n",
    "finally:\n",
    "    jetbot.cleanup()  # Stop motors and close connection"
   ]
  },
  {
   "cell_type": "code",
   "execution_count": 21,
   "id": "a2408b91-c0ef-435f-9e47-641a68772eaf",
   "metadata": {
    "scrolled": true
   },
   "outputs": [
    {
     "name": "stderr",
     "output_type": "stream",
     "text": [
      "INFO:JetBotClient:Connecting to JetBot at 192.168.68.63:18861\n",
      "INFO:JetBotClient:Connected successfully!\n"
     ]
    },
    {
     "data": {
      "application/vnd.jupyter.widget-view+json": {
       "model_id": "9a9f6fad2ce14aa19c090def6838b716",
       "version_major": 2,
       "version_minor": 0
      },
      "text/plain": [
       "Image(value=b'', format='jpeg', height='300', width='400')"
      ]
     },
     "metadata": {},
     "output_type": "display_data"
    }
   ],
   "source": [
    "jetbot = RemoteJetBot(JETBOT_IP)"
   ]
  },
  {
   "cell_type": "code",
   "execution_count": 22,
   "id": "b5612663-a560-4b75-b0d8-8387e667b2ad",
   "metadata": {},
   "outputs": [
    {
     "data": {
      "text/plain": [
       "array([[[ 97,  88, 108],\n",
       "        [ 90,  81, 101],\n",
       "        [ 86,  77,  98],\n",
       "        ...,\n",
       "        [ 60,  69, 103],\n",
       "        [ 56,  63,  96],\n",
       "        [ 54,  61,  94]],\n",
       "\n",
       "       [[ 95,  86, 106],\n",
       "        [ 90,  81, 101],\n",
       "        [ 85,  76,  97],\n",
       "        ...,\n",
       "        [ 57,  66,  99],\n",
       "        [ 54,  61,  94],\n",
       "        [ 52,  60,  90]],\n",
       "\n",
       "       [[ 91,  82, 102],\n",
       "        [ 88,  79,  99],\n",
       "        [ 82,  73,  94],\n",
       "        ...,\n",
       "        [ 55,  64,  97],\n",
       "        [ 52,  60,  90],\n",
       "        [ 50,  58,  87]],\n",
       "\n",
       "       ...,\n",
       "\n",
       "       [[ 53,  56,  77],\n",
       "        [ 57,  60,  81],\n",
       "        [ 57,  62,  83],\n",
       "        ...,\n",
       "        [ 59,  60,  80],\n",
       "        [ 59,  60,  80],\n",
       "        [ 54,  55,  75]],\n",
       "\n",
       "       [[ 55,  58,  79],\n",
       "        [ 52,  55,  76],\n",
       "        [ 53,  56,  77],\n",
       "        ...,\n",
       "        [ 57,  58,  79],\n",
       "        [ 66,  67,  88],\n",
       "        [ 56,  57,  78]],\n",
       "\n",
       "       [[ 54,  57,  78],\n",
       "        [ 54,  57,  78],\n",
       "        [ 56,  59,  80],\n",
       "        ...,\n",
       "        [ 62,  63,  84],\n",
       "        [ 61,  62,  83],\n",
       "        [ 57,  58,  79]]], dtype=uint8)"
      ]
     },
     "execution_count": 22,
     "metadata": {},
     "output_type": "execute_result"
    }
   ],
   "source": [
    "jetbot.get_frame()"
   ]
  },
  {
   "cell_type": "code",
   "execution_count": 13,
   "id": "5cdd655c-b5b2-4974-ade2-9467cc7a1c19",
   "metadata": {},
   "outputs": [
    {
     "name": "stderr",
     "output_type": "stream",
     "text": [
      "DEBUG:JetBotClient:Sending motor command: left=0.115, right=0\n",
      "DEBUG:JetBotClient:Command sent successfully\n"
     ]
    },
    {
     "data": {
      "text/plain": [
       "True"
      ]
     },
     "execution_count": 13,
     "metadata": {},
     "output_type": "execute_result"
    }
   ],
   "source": [
    "jetbot.set_motors(.115,0)"
   ]
  },
  {
   "cell_type": "code",
   "execution_count": 14,
   "id": "82c8e684-12cf-4e41-b34d-9c6423a6c7c8",
   "metadata": {},
   "outputs": [
    {
     "name": "stderr",
     "output_type": "stream",
     "text": [
      "DEBUG:JetBotClient:Sending motor command: left=0, right=0\n",
      "DEBUG:JetBotClient:Command sent successfully\n"
     ]
    },
    {
     "data": {
      "text/plain": [
       "True"
      ]
     },
     "execution_count": 14,
     "metadata": {},
     "output_type": "execute_result"
    }
   ],
   "source": [
    "jetbot.set_motors(0,0)"
   ]
  },
  {
   "cell_type": "code",
   "execution_count": 23,
   "id": "4369032a-a76a-4314-9f49-150bb64d29ce",
   "metadata": {},
   "outputs": [
    {
     "name": "stderr",
     "output_type": "stream",
     "text": [
      "DEBUG:JetBotClient:Cleaning up connection\n",
      "DEBUG:JetBotClient:Sending motor command: left=0, right=0\n",
      "DEBUG:JetBotClient:Command sent successfully\n",
      "INFO:JetBotClient:Cleanup completed\n"
     ]
    }
   ],
   "source": [
    "jetbot.cleanup()"
   ]
  },
  {
   "cell_type": "code",
   "execution_count": null,
   "id": "93f0bcf1-2fd9-47e8-97e1-d2b4c3b6eee9",
   "metadata": {},
   "outputs": [],
   "source": []
  }
 ],
 "metadata": {
  "kernelspec": {
   "display_name": "Python 3 (ipykernel)",
   "language": "python",
   "name": "python3"
  },
  "language_info": {
   "codemirror_mode": {
    "name": "ipython",
    "version": 3
   },
   "file_extension": ".py",
   "mimetype": "text/x-python",
   "name": "python",
   "nbconvert_exporter": "python",
   "pygments_lexer": "ipython3",
   "version": "3.11.9"
  }
 },
 "nbformat": 4,
 "nbformat_minor": 5
}
