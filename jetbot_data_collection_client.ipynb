{
 "cells": [
  {
   "cell_type": "code",
   "execution_count": 4,
   "id": "ac8b93e8-b768-4410-ba73-080811c48161",
   "metadata": {},
   "outputs": [],
   "source": [
    "import rpyc\n",
    "import logging\n",
    "import time\n",
    "import cv2\n",
    "import numpy as np\n",
    "import base64\n",
    "from IPython.display import display, Image  # No need for clear_output here\n",
    "import ipywidgets as widgets\n",
    "import os\n",
    "import csv\n",
    "import datetime\n",
    "import torchvision.transforms as transforms\n",
    "from PIL import Image\n",
    "import random\n",
    "import config\n",
    "\n",
    "\n",
    "# --- Setup Logging ---\n",
    "logging.basicConfig(level=logging.DEBUG)\n",
    "logger = logging.getLogger('JetBotClient')\n",
    "\n",
    "# --- Image Transformation ---\n",
    "# Transformations *before* saving to disk (for consistency with training)\n",
    "transform = transforms.Compose([\n",
    "    transforms.Resize((IMAGE_SIZE, IMAGE_SIZE)),\n",
    "    transforms.ToTensor(),\n",
    "    transforms.Normalize((0.5, 0.5, 0.5), (0.5, 0.5, 0.5))\n",
    "])\n",
    "\n",
    "\n",
    "class RemoteJetBot:\n",
    "    def __init__(self, ip_address, port=18861):\n",
    "        logger.info(f\"Connecting to JetBot at {ip_address}:{port}\")\n",
    "        try:\n",
    "            self.conn = rpyc.connect(\n",
    "                ip_address,\n",
    "                port,\n",
    "                config={\n",
    "                    'sync_request_timeout': 30,\n",
    "                    'allow_all_attrs': True\n",
    "                }\n",
    "            )\n",
    "            logger.info(\"Connected successfully!\")\n",
    "            # Initialize video window\n",
    "            self.image_widget = widgets.Image(\n",
    "                format='jpeg',\n",
    "                width=400,\n",
    "                height=300,\n",
    "            )\n",
    "            display(self.image_widget)\n",
    "        except Exception as e:\n",
    "            logger.error(f\"Connection failed: {str(e)}\")\n",
    "            raise\n",
    "\n",
    "    def get_frame(self):\n",
    "        \"\"\"Get a single frame from the camera and display it\"\"\"\n",
    "        try:\n",
    "            # Get frame from server\n",
    "            jpg_as_text = self.conn.root.get_camera_frame()\n",
    "            if jpg_as_text:\n",
    "                # Decode base64 string directly to bytes\n",
    "                jpg_bytes = base64.b64decode(jpg_as_text)\n",
    "                # Update the image widget\n",
    "                self.image_widget.value = jpg_bytes\n",
    "\n",
    "                # Convert to NumPy array (for saving)\n",
    "                npimg = np.frombuffer(jpg_bytes, dtype=np.uint8)\n",
    "                frame = cv2.imdecode(npimg, cv2.IMREAD_COLOR)\n",
    "                return frame  # Return the frame as a NumPy array\n",
    "            return None\n",
    "\n",
    "        except Exception as e:\n",
    "            logger.error(f\"Error getting frame: {str(e)}\")\n",
    "            return None\n",
    "\n",
    "    def set_motors(self, left_speed, right_speed):\n",
    "        try:\n",
    "            logger.debug(f\"Sending motor command: left={left_speed}, right={right_speed}\")\n",
    "            result = self.conn.root.set_motors(float(left_speed), float(right_speed))\n",
    "            logger.debug(\"Command sent successfully\")\n",
    "            return result\n",
    "        except Exception as e:\n",
    "            logger.error(f\"Error sending motor command: {str(e)}\")\n",
    "            raise\n",
    "\n",
    "    def cleanup(self):\n",
    "        try:\n",
    "            logger.debug(\"Cleaning up connection\")\n",
    "            if hasattr(self, 'conn'):\n",
    "                self.set_motors(0, 0)  # Stop motors\n",
    "                self.conn.close()\n",
    "            logger.info(\"Cleanup completed\")\n",
    "        except Exception as e:\n",
    "            logger.error(f\"Error during cleanup: {str(e)}\")\n",
    "\n",
    "\n",
    "def generate_random_actions(num_actions, possible_speeds, min_duration, max_duration):\n",
    "    actions = []\n",
    "    for _ in range(num_actions):\n",
    "        speed = random.choice(possible_speeds)\n",
    "        duration = random.uniform(min_duration, max_duration)  # Use uniform for continuous range\n",
    "        actions.append((speed, duration))\n",
    "    return actions\n",
    "\n",
    "def record_data(jetbot, actions, target_fps, session_dir):\n",
    "    \"\"\"\n",
    "    Records data for a single session into a specific directory.\n",
    "\n",
    "    Args:\n",
    "        jetbot: The RemoteJetBot object.\n",
    "        actions: A list of (action, duration) tuples for this session.\n",
    "        target_fps: The desired frames per second.\n",
    "        session_dir: The directory to save this session's data.\n",
    "    \"\"\"\n",
    "    session_image_dir = os.path.join(session_dir, 'images')\n",
    "    session_csv_path = os.path.join(session_dir, 'data.csv')\n",
    "\n",
    "    # Create session directories if they don't exist\n",
    "    os.makedirs(session_image_dir, exist_ok=True)\n",
    "\n",
    "    print(f\"Starting data recording for session: {session_dir}\")\n",
    "    with open(session_csv_path, 'w', newline='') as csvfile:\n",
    "        fieldnames = ['image_path', 'timestamp', 'action']\n",
    "        writer = csv.DictWriter(csvfile, fieldnames=fieldnames)\n",
    "        writer.writeheader()\n",
    "        print(f\"CSV header written to {session_csv_path}\")\n",
    "\n",
    "        target_interval = 1.0 / target_fps\n",
    "        image_count = 0 # Counter *within* the session\n",
    "\n",
    "        for action, duration in actions:\n",
    "            print(f\"  Starting action: {action} for duration: {duration:.2f}s\")\n",
    "            jetbot.set_motors(action, 0)\n",
    "            start_time = time.time()\n",
    "\n",
    "            while time.time() - start_time < duration:\n",
    "                frame_start_time = time.perf_counter()\n",
    "\n",
    "                frame = jetbot.get_frame()\n",
    "                if frame is None:\n",
    "                    print(\"  Warning: Received None frame. Skipping.\")\n",
    "                    time.sleep(0.01) # Avoid busy-waiting if camera disconnects\n",
    "                    continue\n",
    "\n",
    "                # --- Image Processing ---\n",
    "                frame_rgb = cv2.cvtColor(frame, cv2.COLOR_BGR2RGB)\n",
    "                image_pil = Image.fromarray(frame_rgb)\n",
    "                # Keep original PIL image for saving, apply transforms later if needed for training\n",
    "                # image_tensor = transform(image_pil) # Transform is mainly for training input\n",
    "\n",
    "                # --- Saving ---\n",
    "                timestamp = time.time()\n",
    "                image_filename = f\"image_{image_count:05d}.jpg\"\n",
    "                relative_image_path = os.path.join('images', image_filename) # Relative path within session\n",
    "                absolute_image_path = os.path.join(session_dir, relative_image_path)\n",
    "\n",
    "                image_pil.save(absolute_image_path) # Save the original PIL image\n",
    "\n",
    "                writer.writerow({'image_path': relative_image_path, 'timestamp': timestamp, 'action': action})\n",
    "                image_count += 1\n",
    "\n",
    "                # --- Frame Rate Control ---\n",
    "                frame_end_time = time.perf_counter()\n",
    "                elapsed_time = frame_end_time - frame_start_time\n",
    "                sleep_time = target_interval - elapsed_time\n",
    "                if sleep_time > 0:\n",
    "                    time.sleep(sleep_time)\n",
    "\n",
    "            print(f\"  Finished action: {action}\")\n",
    "\n",
    "    print(f\"Session recording complete. Total images in session: {image_count}\")\n",
    "\n"
   ]
  },
  {
   "cell_type": "code",
   "execution_count": 3,
   "id": "4e7ca3a1-05b1-49ce-936d-c9adc2fce152",
   "metadata": {},
   "outputs": [],
   "source": [
    "\n",
    "# --- Configuration ---\n",
    "JETBOT_IP = '192.168.68.60'  # Replace with your Jetbot's IP address\n",
    "IMAGE_SIZE = 224  # Use 224x224 images, don't use constant from config file since there may be resizing, or rename this and put it there\n",
    "TARGET_FPS = 30\n",
    "POSSIBLE_SPEEDS = [0.0, 0.1]\n",
    "MIN_DURATION = 2.0  # Seconds\n",
    "MAX_DURATION = 5.0  # Seconds\n",
    "NUM_ACTIONS = 20 #How many total actions to do"
   ]
  },
  {
   "cell_type": "code",
   "execution_count": 21,
   "id": "627b5cfc-06f0-4d99-996b-2d26ef51ee5b",
   "metadata": {
    "scrolled": true
   },
   "outputs": [
    {
     "name": "stderr",
     "output_type": "stream",
     "text": [
      "INFO:JetBotClient:Connecting to JetBot at 192.168.68.60:18861\n",
      "INFO:JetBotClient:Connected successfully!\n"
     ]
    },
    {
     "data": {
      "application/vnd.jupyter.widget-view+json": {
       "model_id": "c909c1cb0b0d45d49f143a397fd14430",
       "version_major": 2,
       "version_minor": 0
      },
      "text/plain": [
       "Image(value=b'', format='jpeg', height='300', width='400')"
      ]
     },
     "metadata": {},
     "output_type": "display_data"
    },
    {
     "name": "stderr",
     "output_type": "stream",
     "text": [
      "DEBUG:JetBotClient:Sending motor command: left=0.1, right=0\n",
      "DEBUG:JetBotClient:Command sent successfully\n"
     ]
    },
    {
     "name": "stdout",
     "output_type": "stream",
     "text": [
      "Creating session directory: jetbot_data_two_actions\\session_20250325_173308\n",
      "[(0.1, 3.9715538422698398), (0.1, 4.278971268184559), (0.1, 3.330108206142749), (0.1, 3.5313173512176252), (0.1, 4.490948836756713), (0.0, 3.307514965021234), (0.1, 2.480653596218263), (0.1, 3.39614695756479), (0.0, 4.197726976757276), (0.0, 3.8460923934639943), (0.1, 3.7512755976526138), (0.0, 3.4093035473402518), (0.0, 4.408537738315596), (0.0, 2.918465390669172), (0.0, 3.2834600565858345), (0.1, 2.679256352930935), (0.1, 4.118876300696317), (0.1, 3.071452139215067), (0.0, 4.948135327403625), (0.1, 4.617890315480645)]\n",
      "Starting data recording for session: jetbot_data_two_actions\\session_20250325_173308\n",
      "CSV header written to jetbot_data_two_actions\\session_20250325_173308\\data.csv\n",
      "  Starting action: 0.1 for duration: 3.97s\n"
     ]
    },
    {
     "name": "stderr",
     "output_type": "stream",
     "text": [
      "DEBUG:JetBotClient:Sending motor command: left=0.1, right=0\n",
      "DEBUG:JetBotClient:Command sent successfully\n"
     ]
    },
    {
     "name": "stdout",
     "output_type": "stream",
     "text": [
      "  Finished action: 0.1\n",
      "  Starting action: 0.1 for duration: 4.28s\n"
     ]
    },
    {
     "name": "stderr",
     "output_type": "stream",
     "text": [
      "DEBUG:JetBotClient:Sending motor command: left=0.1, right=0\n",
      "DEBUG:JetBotClient:Command sent successfully\n"
     ]
    },
    {
     "name": "stdout",
     "output_type": "stream",
     "text": [
      "  Finished action: 0.1\n",
      "  Starting action: 0.1 for duration: 3.33s\n"
     ]
    },
    {
     "name": "stderr",
     "output_type": "stream",
     "text": [
      "DEBUG:JetBotClient:Sending motor command: left=0.1, right=0\n",
      "DEBUG:JetBotClient:Command sent successfully\n"
     ]
    },
    {
     "name": "stdout",
     "output_type": "stream",
     "text": [
      "  Finished action: 0.1\n",
      "  Starting action: 0.1 for duration: 3.53s\n"
     ]
    },
    {
     "name": "stderr",
     "output_type": "stream",
     "text": [
      "DEBUG:JetBotClient:Sending motor command: left=0.1, right=0\n",
      "DEBUG:JetBotClient:Command sent successfully\n"
     ]
    },
    {
     "name": "stdout",
     "output_type": "stream",
     "text": [
      "  Finished action: 0.1\n",
      "  Starting action: 0.1 for duration: 4.49s\n"
     ]
    },
    {
     "name": "stderr",
     "output_type": "stream",
     "text": [
      "DEBUG:JetBotClient:Sending motor command: left=0.0, right=0\n",
      "DEBUG:JetBotClient:Command sent successfully\n"
     ]
    },
    {
     "name": "stdout",
     "output_type": "stream",
     "text": [
      "  Finished action: 0.1\n",
      "  Starting action: 0.0 for duration: 3.31s\n"
     ]
    },
    {
     "name": "stderr",
     "output_type": "stream",
     "text": [
      "DEBUG:JetBotClient:Sending motor command: left=0.1, right=0\n",
      "DEBUG:JetBotClient:Command sent successfully\n"
     ]
    },
    {
     "name": "stdout",
     "output_type": "stream",
     "text": [
      "  Finished action: 0.0\n",
      "  Starting action: 0.1 for duration: 2.48s\n"
     ]
    },
    {
     "name": "stderr",
     "output_type": "stream",
     "text": [
      "DEBUG:JetBotClient:Sending motor command: left=0.1, right=0\n",
      "DEBUG:JetBotClient:Command sent successfully\n"
     ]
    },
    {
     "name": "stdout",
     "output_type": "stream",
     "text": [
      "  Finished action: 0.1\n",
      "  Starting action: 0.1 for duration: 3.40s\n"
     ]
    },
    {
     "name": "stderr",
     "output_type": "stream",
     "text": [
      "DEBUG:JetBotClient:Sending motor command: left=0.0, right=0\n",
      "DEBUG:JetBotClient:Command sent successfully\n"
     ]
    },
    {
     "name": "stdout",
     "output_type": "stream",
     "text": [
      "  Finished action: 0.1\n",
      "  Starting action: 0.0 for duration: 4.20s\n"
     ]
    },
    {
     "name": "stderr",
     "output_type": "stream",
     "text": [
      "DEBUG:JetBotClient:Sending motor command: left=0.0, right=0\n",
      "DEBUG:JetBotClient:Command sent successfully\n"
     ]
    },
    {
     "name": "stdout",
     "output_type": "stream",
     "text": [
      "  Finished action: 0.0\n",
      "  Starting action: 0.0 for duration: 3.85s\n"
     ]
    },
    {
     "name": "stderr",
     "output_type": "stream",
     "text": [
      "DEBUG:JetBotClient:Sending motor command: left=0.1, right=0\n",
      "DEBUG:JetBotClient:Command sent successfully\n"
     ]
    },
    {
     "name": "stdout",
     "output_type": "stream",
     "text": [
      "  Finished action: 0.0\n",
      "  Starting action: 0.1 for duration: 3.75s\n"
     ]
    },
    {
     "name": "stderr",
     "output_type": "stream",
     "text": [
      "DEBUG:JetBotClient:Sending motor command: left=0.0, right=0\n",
      "DEBUG:JetBotClient:Command sent successfully\n"
     ]
    },
    {
     "name": "stdout",
     "output_type": "stream",
     "text": [
      "  Finished action: 0.1\n",
      "  Starting action: 0.0 for duration: 3.41s\n"
     ]
    },
    {
     "name": "stderr",
     "output_type": "stream",
     "text": [
      "DEBUG:JetBotClient:Sending motor command: left=0.0, right=0\n",
      "DEBUG:JetBotClient:Command sent successfully\n"
     ]
    },
    {
     "name": "stdout",
     "output_type": "stream",
     "text": [
      "  Finished action: 0.0\n",
      "  Starting action: 0.0 for duration: 4.41s\n"
     ]
    },
    {
     "name": "stderr",
     "output_type": "stream",
     "text": [
      "DEBUG:JetBotClient:Sending motor command: left=0.0, right=0\n",
      "DEBUG:JetBotClient:Command sent successfully\n"
     ]
    },
    {
     "name": "stdout",
     "output_type": "stream",
     "text": [
      "  Finished action: 0.0\n",
      "  Starting action: 0.0 for duration: 2.92s\n"
     ]
    },
    {
     "name": "stderr",
     "output_type": "stream",
     "text": [
      "DEBUG:JetBotClient:Sending motor command: left=0.0, right=0\n",
      "DEBUG:JetBotClient:Command sent successfully\n"
     ]
    },
    {
     "name": "stdout",
     "output_type": "stream",
     "text": [
      "  Finished action: 0.0\n",
      "  Starting action: 0.0 for duration: 3.28s\n"
     ]
    },
    {
     "name": "stderr",
     "output_type": "stream",
     "text": [
      "DEBUG:JetBotClient:Sending motor command: left=0.1, right=0\n",
      "DEBUG:JetBotClient:Command sent successfully\n"
     ]
    },
    {
     "name": "stdout",
     "output_type": "stream",
     "text": [
      "  Finished action: 0.0\n",
      "  Starting action: 0.1 for duration: 2.68s\n"
     ]
    },
    {
     "name": "stderr",
     "output_type": "stream",
     "text": [
      "DEBUG:JetBotClient:Sending motor command: left=0.1, right=0\n",
      "DEBUG:JetBotClient:Command sent successfully\n"
     ]
    },
    {
     "name": "stdout",
     "output_type": "stream",
     "text": [
      "  Finished action: 0.1\n",
      "  Starting action: 0.1 for duration: 4.12s\n"
     ]
    },
    {
     "name": "stderr",
     "output_type": "stream",
     "text": [
      "DEBUG:JetBotClient:Sending motor command: left=0.1, right=0\n",
      "DEBUG:JetBotClient:Command sent successfully\n"
     ]
    },
    {
     "name": "stdout",
     "output_type": "stream",
     "text": [
      "  Finished action: 0.1\n",
      "  Starting action: 0.1 for duration: 3.07s\n"
     ]
    },
    {
     "name": "stderr",
     "output_type": "stream",
     "text": [
      "DEBUG:JetBotClient:Sending motor command: left=0.0, right=0\n",
      "DEBUG:JetBotClient:Command sent successfully\n"
     ]
    },
    {
     "name": "stdout",
     "output_type": "stream",
     "text": [
      "  Finished action: 0.1\n",
      "  Starting action: 0.0 for duration: 4.95s\n"
     ]
    },
    {
     "name": "stderr",
     "output_type": "stream",
     "text": [
      "DEBUG:JetBotClient:Sending motor command: left=0.1, right=0\n",
      "DEBUG:JetBotClient:Command sent successfully\n"
     ]
    },
    {
     "name": "stdout",
     "output_type": "stream",
     "text": [
      "  Finished action: 0.0\n",
      "  Starting action: 0.1 for duration: 4.62s\n"
     ]
    },
    {
     "name": "stderr",
     "output_type": "stream",
     "text": [
      "DEBUG:JetBotClient:Cleaning up connection\n",
      "DEBUG:JetBotClient:Sending motor command: left=0, right=0\n",
      "DEBUG:JetBotClient:Command sent successfully\n",
      "INFO:JetBotClient:Cleanup completed\n"
     ]
    },
    {
     "name": "stdout",
     "output_type": "stream",
     "text": [
      "  Finished action: 0.1\n",
      "Session recording complete. Total images in session: 2128\n"
     ]
    }
   ],
   "source": [
    "jetbot = RemoteJetBot(JETBOT_IP)\n",
    "\n",
    "try:\n",
    "    session_timestamp = datetime.datetime.now().strftime(\"%Y%m%d_%H%M%S\")\n",
    "    current_session_dir = os.path.join(config.DATA_DIR, f\"session_{session_timestamp}\")\n",
    "    print(f\"Creating session directory: {current_session_dir}\")\n",
    "    random_actions = generate_random_actions(NUM_ACTIONS, POSSIBLE_SPEEDS, MIN_DURATION, MAX_DURATION)\n",
    "    print(random_actions)\n",
    "\n",
    "    # Record data\n",
    "    record_data(jetbot, random_actions, TARGET_FPS, current_session_dir)\n",
    "finally:\n",
    "    jetbot.cleanup()  # Stop motors and close connection"
   ]
  },
  {
   "cell_type": "code",
   "execution_count": 5,
   "id": "a2408b91-c0ef-435f-9e47-641a68772eaf",
   "metadata": {
    "scrolled": true
   },
   "outputs": [
    {
     "name": "stderr",
     "output_type": "stream",
     "text": [
      "INFO:JetBotClient:Connecting to JetBot at 192.168.68.60:18861\n",
      "INFO:JetBotClient:Connected successfully!\n"
     ]
    },
    {
     "data": {
      "application/vnd.jupyter.widget-view+json": {
       "model_id": "3f16f90a749c4652ac0f7615b36ae964",
       "version_major": 2,
       "version_minor": 0
      },
      "text/plain": [
       "Image(value=b'', format='jpeg', height='300', width='400')"
      ]
     },
     "metadata": {},
     "output_type": "display_data"
    }
   ],
   "source": [
    "jetbot = RemoteJetBot(JETBOT_IP)"
   ]
  },
  {
   "cell_type": "code",
   "execution_count": 7,
   "id": "b5612663-a560-4b75-b0d8-8387e667b2ad",
   "metadata": {},
   "outputs": [
    {
     "data": {
      "text/plain": [
       "array([[[165, 149, 180],\n",
       "        [163, 148, 176],\n",
       "        [161, 146, 173],\n",
       "        ...,\n",
       "        [ 64,  57,  78],\n",
       "        [ 66,  56,  56],\n",
       "        [ 78,  68,  58]],\n",
       "\n",
       "       [[161, 145, 176],\n",
       "        [165, 149, 180],\n",
       "        [164, 149, 176],\n",
       "        ...,\n",
       "        [ 62,  53,  73],\n",
       "        [ 70,  58,  64],\n",
       "        [ 71,  58,  56]],\n",
       "\n",
       "       [[170, 153, 186],\n",
       "        [163, 147, 178],\n",
       "        [166, 150, 181],\n",
       "        ...,\n",
       "        [ 65,  55,  71],\n",
       "        [ 74,  58,  75],\n",
       "        [ 74,  55,  72]],\n",
       "\n",
       "       ...,\n",
       "\n",
       "       [[ 82,  89, 104],\n",
       "        [ 80,  86,  99],\n",
       "        [ 90,  87, 102],\n",
       "        ...,\n",
       "        [ 49,  47,  13],\n",
       "        [ 50,  56,  33],\n",
       "        [ 42,  50,  33]],\n",
       "\n",
       "       [[ 72,  85, 101],\n",
       "        [ 80,  87, 104],\n",
       "        [ 89,  87, 106],\n",
       "        ...,\n",
       "        [ 58,  50,  27],\n",
       "        [ 61,  58,  43],\n",
       "        [ 54,  54,  40]],\n",
       "\n",
       "       [[ 74,  88, 106],\n",
       "        [ 86,  93, 112],\n",
       "        [ 90,  88, 107],\n",
       "        ...,\n",
       "        [ 56,  43,  27],\n",
       "        [ 57,  49,  36],\n",
       "        [ 50,  46,  35]]], dtype=uint8)"
      ]
     },
     "execution_count": 7,
     "metadata": {},
     "output_type": "execute_result"
    }
   ],
   "source": [
    "jetbot.get_frame()"
   ]
  },
  {
   "cell_type": "code",
   "execution_count": 11,
   "id": "5cdd655c-b5b2-4974-ade2-9467cc7a1c19",
   "metadata": {},
   "outputs": [
    {
     "name": "stderr",
     "output_type": "stream",
     "text": [
      "DEBUG:JetBotClient:Sending motor command: left=0.115, right=0\n",
      "DEBUG:JetBotClient:Command sent successfully\n"
     ]
    },
    {
     "data": {
      "text/plain": [
       "True"
      ]
     },
     "execution_count": 11,
     "metadata": {},
     "output_type": "execute_result"
    }
   ],
   "source": [
    "jetbot.set_motors(.115,0)"
   ]
  },
  {
   "cell_type": "code",
   "execution_count": 12,
   "id": "82c8e684-12cf-4e41-b34d-9c6423a6c7c8",
   "metadata": {},
   "outputs": [
    {
     "name": "stderr",
     "output_type": "stream",
     "text": [
      "DEBUG:JetBotClient:Sending motor command: left=0, right=0\n",
      "DEBUG:JetBotClient:Command sent successfully\n"
     ]
    },
    {
     "data": {
      "text/plain": [
       "True"
      ]
     },
     "execution_count": 12,
     "metadata": {},
     "output_type": "execute_result"
    }
   ],
   "source": [
    "jetbot.set_motors(0,0)"
   ]
  },
  {
   "cell_type": "code",
   "execution_count": 8,
   "id": "4369032a-a76a-4314-9f49-150bb64d29ce",
   "metadata": {},
   "outputs": [
    {
     "name": "stderr",
     "output_type": "stream",
     "text": [
      "DEBUG:JetBotClient:Cleaning up connection\n",
      "DEBUG:JetBotClient:Sending motor command: left=0, right=0\n",
      "DEBUG:JetBotClient:Command sent successfully\n",
      "INFO:JetBotClient:Cleanup completed\n"
     ]
    }
   ],
   "source": [
    "jetbot.cleanup()"
   ]
  },
  {
   "cell_type": "code",
   "execution_count": null,
   "id": "93f0bcf1-2fd9-47e8-97e1-d2b4c3b6eee9",
   "metadata": {},
   "outputs": [],
   "source": []
  }
 ],
 "metadata": {
  "kernelspec": {
   "display_name": "Python 3 (ipykernel)",
   "language": "python",
   "name": "python3"
  },
  "language_info": {
   "codemirror_mode": {
    "name": "ipython",
    "version": 3
   },
   "file_extension": ".py",
   "mimetype": "text/x-python",
   "name": "python",
   "nbconvert_exporter": "python",
   "pygments_lexer": "ipython3",
   "version": "3.11.9"
  }
 },
 "nbformat": 4,
 "nbformat_minor": 5
}
