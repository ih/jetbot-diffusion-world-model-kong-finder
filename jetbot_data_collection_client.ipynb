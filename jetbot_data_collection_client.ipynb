{
 "cells": [
  {
   "cell_type": "code",
   "execution_count": 5,
   "id": "ac8b93e8-b768-4410-ba73-080811c48161",
   "metadata": {},
   "outputs": [],
   "source": [
    "import rpyc\n",
    "import logging\n",
    "import time\n",
    "import cv2\n",
    "import numpy as np\n",
    "import base64\n",
    "from IPython.display import display, Image  # No need for clear_output here\n",
    "import ipywidgets as widgets\n",
    "import os\n",
    "import csv\n",
    "import datetime\n",
    "import torchvision.transforms as transforms\n",
    "from PIL import Image\n",
    "import random\n",
    "import config\n",
    "from jetbot_remote_client import RemoteJetBot, generate_random_actions, record_data\n",
    "\n",
    "\n",
    "# --- Setup Logging ---\n",
    "logging.basicConfig(level=logging.WARNING)\n",
    "jet_logger = logging.getLogger('JetBotClient')\n",
    "\n",
    "jet_logger.setLevel(logging.WARNING)   # or logging.ERROR\n",
    "for h in jet_logger.handlers:\n",
    "    h.setLevel(logging.WARNING)\n",
    "jet_logger.propagate = False     \n",
    "\n",
    "\n",
    "def move_to_new_location(jetbot, forward_time=1.0, turn_time=1.0, speed=0.15):\n",
    "    \"\"\"Move the robot to a new location between recording sessions.\n",
    "    This simple routine drives forward and then turns.\n",
    "    \"\"\"\n",
    "    jetbot.set_motors(speed, speed)\n",
    "    time.sleep(forward_time)\n",
    "    jetbot.set_motors(speed, -speed)\n",
    "    time.sleep(turn_time)\n",
    "    jetbot.set_motors(0, 0)\n",
    "    time.sleep(0.5)\n"
   ]
  },
  {
   "cell_type": "code",
   "execution_count": 6,
   "id": "4e7ca3a1-05b1-49ce-936d-c9adc2fce152",
   "metadata": {},
   "outputs": [],
   "source": [
    "\n",
    "# --- Configuration ---\n",
    "JETBOT_IP = '192.168.68.51'  # Replace with your Jetbot's IP address\n",
    "IMAGE_SIZE = 224  # Use 224x224 images, don't use constant from config file since there may be resizing, or rename this and put it there\n",
    "TARGET_FPS = 30\n",
    "POSSIBLE_SPEEDS = [0.0, 0.15]\n",
    "MIN_DURATION = 1.0  # Seconds\n",
    "MAX_DURATION = 2.0  # Seconds\n",
    "NUM_ACTIONS = 50 #How many total actions to do\n",
    "NUM_SESSIONS = 1  # Number of times to record\n"
   ]
  },
  {
   "cell_type": "code",
   "execution_count": 7,
   "id": "d022fdb8-c248-4679-b8f5-b7e5a717caf6",
   "metadata": {},
   "outputs": [
    {
     "data": {
      "application/vnd.jupyter.widget-view+json": {
       "model_id": "29b6eecb58204116bc074dd32774eaff",
       "version_major": 2,
       "version_minor": 0
      },
      "text/plain": [
       "Image(value=b'', format='jpeg', height='300', width='400')"
      ]
     },
     "metadata": {},
     "output_type": "display_data"
    }
   ],
   "source": [
    "jetbot = RemoteJetBot(JETBOT_IP)"
   ]
  },
  {
   "cell_type": "code",
   "execution_count": 8,
   "id": "627b5cfc-06f0-4d99-996b-2d26ef51ee5b",
   "metadata": {
    "scrolled": true
   },
   "outputs": [
    {
     "name": "stdout",
     "output_type": "stream",
     "text": [
      "Creating session directory: C:\\Projects\\jetbot-diffusion-world-model-kong-finder-aux\\jetbot_livingroom_session_data_single_position\\session_20250805_161624\n",
      "Starting data recording for session: C:\\Projects\\jetbot-diffusion-world-model-kong-finder-aux\\jetbot_livingroom_session_data_single_position\\session_20250805_161624\n",
      "CSV header written to C:\\Projects\\jetbot-diffusion-world-model-kong-finder-aux\\jetbot_livingroom_session_data_single_position\\session_20250805_161624\\data.csv\n"
     ]
    },
    {
     "data": {
      "application/vnd.jupyter.widget-view+json": {
       "model_id": "42def5993faa4e3d94da912985916348",
       "version_major": 2,
       "version_minor": 0
      },
      "text/plain": [
       "Actions:   0%|          | 0/50 [00:00<?, ?action/s]"
      ]
     },
     "metadata": {},
     "output_type": "display_data"
    },
    {
     "name": "stdout",
     "output_type": "stream",
     "text": [
      "Session recording complete. Total images in session: 2234\n"
     ]
    }
   ],
   "source": [
    "\n",
    "\n",
    "try:\n",
    "    for session_idx in range(NUM_SESSIONS):\n",
    "        session_timestamp = datetime.datetime.now().strftime(\"%Y%m%d_%H%M%S\")\n",
    "        current_session_dir = os.path.join(config.SESSION_DATA_DIR, f\"session_{session_timestamp}\")\n",
    "        print(f\"Creating session directory: {current_session_dir}\")\n",
    "        random_actions = generate_random_actions(NUM_ACTIONS, POSSIBLE_SPEEDS, MIN_DURATION, MAX_DURATION)\n",
    "        # print(random_actions)\n",
    "\n",
    "        record_data(jetbot, random_actions, TARGET_FPS, current_session_dir)\n",
    "\n",
    "        if session_idx < NUM_SESSIONS - 1:\n",
    "            move_to_new_location(jetbot)\n",
    "finally:\n",
    "    jetbot.cleanup()  # Stop motors and close connection\n"
   ]
  },
  {
   "cell_type": "code",
   "execution_count": null,
   "id": "93f0bcf1-2fd9-47e8-97e1-d2b4c3b6eee9",
   "metadata": {},
   "outputs": [],
   "source": []
  }
 ],
 "metadata": {
  "kernelspec": {
   "display_name": "Python 3 (ipykernel)",
   "language": "python",
   "name": "python3"
  },
  "language_info": {
   "codemirror_mode": {
    "name": "ipython",
    "version": 3
   },
   "file_extension": ".py",
   "mimetype": "text/x-python",
   "name": "python",
   "nbconvert_exporter": "python",
   "pygments_lexer": "ipython3",
   "version": "3.11.9"
  }
 },
 "nbformat": 4,
 "nbformat_minor": 5
}
