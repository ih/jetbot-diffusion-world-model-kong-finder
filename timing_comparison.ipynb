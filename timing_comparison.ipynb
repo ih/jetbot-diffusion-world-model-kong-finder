{
 "cells": [
  {
   "cell_type": "markdown",
   "id": "71e0a542",
   "metadata": {},
   "source": [
    "## Timing Comparison for Training Loops"
   ]
  },
  {
   "cell_type": "code",
   "execution_count": 1,
   "id": "1ee0cb78",
   "metadata": {
    "scrolled": true
   },
   "outputs": [
    {
     "name": "stdout",
     "output_type": "stream",
     "text": [
      "Imports successful.\n",
      "Visualization helpers defined.\n",
      "Training and validation epoch functions adapted for Batch object and Denoiser.forward.\n"
     ]
    },
    {
     "name": "stderr",
     "output_type": "stream",
     "text": [
      "wandb: ERROR Failed to detect the name of this notebook. You can set it manually with the WANDB_NOTEBOOK_NAME environment variable to enable code saving.\n",
      "wandb: Currently logged in as: irvin-hwang (irvin-hwang-simulacra-systems) to https://api.wandb.ai. Use `wandb login --relogin` to force relogin\n",
      "wandb: WARNING Using a boolean value for 'reinit' is deprecated. Use 'return_previous' or 'finish_previous' instead.\n"
     ]
    },
    {
     "data": {
      "text/html": [
       "Tracking run with wandb version 0.19.11"
      ],
      "text/plain": [
       "<IPython.core.display.HTML object>"
      ]
     },
     "metadata": {},
     "output_type": "display_data"
    },
    {
     "data": {
      "text/html": [
       "Run data is saved locally in <code>C:\\Projects\\jetbot-diffusion-world-model-kong-finder\\wandb\\run-20250723_141136-rwbwsi87</code>"
      ],
      "text/plain": [
       "<IPython.core.display.HTML object>"
      ]
     },
     "metadata": {},
     "output_type": "display_data"
    },
    {
     "data": {
      "text/html": [
       "Syncing run <strong><a href='https://wandb.ai/irvin-hwang-simulacra-systems/timing-comparison/runs/rwbwsi87' target=\"_blank\">lucky-pond-58</a></strong> to <a href='https://wandb.ai/irvin-hwang-simulacra-systems/timing-comparison' target=\"_blank\">Weights & Biases</a> (<a href='https://wandb.me/developer-guide' target=\"_blank\">docs</a>)<br>"
      ],
      "text/plain": [
       "<IPython.core.display.HTML object>"
      ]
     },
     "metadata": {},
     "output_type": "display_data"
    },
    {
     "data": {
      "text/html": [
       " View project at <a href='https://wandb.ai/irvin-hwang-simulacra-systems/timing-comparison' target=\"_blank\">https://wandb.ai/irvin-hwang-simulacra-systems/timing-comparison</a>"
      ],
      "text/plain": [
       "<IPython.core.display.HTML object>"
      ]
     },
     "metadata": {},
     "output_type": "display_data"
    },
    {
     "data": {
      "text/html": [
       " View run at <a href='https://wandb.ai/irvin-hwang-simulacra-systems/timing-comparison/runs/rwbwsi87' target=\"_blank\">https://wandb.ai/irvin-hwang-simulacra-systems/timing-comparison/runs/rwbwsi87</a>"
      ],
      "text/plain": [
       "<IPython.core.display.HTML object>"
      ]
     },
     "metadata": {},
     "output_type": "display_data"
    }
   ],
   "source": [
    "import wandb\n",
    "import config\n",
    "import diamond_world_model_trainer as trainer\n",
    "import incremental_training as incremental_trainer\n",
    "import os\n",
    "import shutil\n",
    "import time\n",
    "import gc\n",
    "import torch\n",
    "\n",
    "run = wandb.init(project='timing-comparison', reinit=True)"
   ]
  },
  {
   "cell_type": "markdown",
   "id": "869c7037",
   "metadata": {},
   "source": [
    "### Run `train_diamond_model` on incremental dataset"
   ]
  },
  {
   "cell_type": "code",
   "execution_count": 2,
   "id": "424a18c3",
   "metadata": {
    "scrolled": true
   },
   "outputs": [
    {
     "data": {
      "text/html": [
       "Finishing previous runs because reinit is set to True."
      ],
      "text/plain": [
       "<IPython.core.display.HTML object>"
      ]
     },
     "metadata": {},
     "output_type": "display_data"
    },
    {
     "data": {
      "text/html": [],
      "text/plain": [
       "<IPython.core.display.HTML object>"
      ]
     },
     "metadata": {},
     "output_type": "display_data"
    },
    {
     "data": {
      "text/html": [
       " View run <strong style=\"color:#cdcd00\">lucky-pond-58</strong> at: <a href='https://wandb.ai/irvin-hwang-simulacra-systems/timing-comparison/runs/rwbwsi87' target=\"_blank\">https://wandb.ai/irvin-hwang-simulacra-systems/timing-comparison/runs/rwbwsi87</a><br> View project at: <a href='https://wandb.ai/irvin-hwang-simulacra-systems/timing-comparison' target=\"_blank\">https://wandb.ai/irvin-hwang-simulacra-systems/timing-comparison</a><br>Synced 5 W&B file(s), 0 media file(s), 0 artifact file(s) and 0 other file(s)"
      ],
      "text/plain": [
       "<IPython.core.display.HTML object>"
      ]
     },
     "metadata": {},
     "output_type": "display_data"
    },
    {
     "data": {
      "text/html": [
       "Find logs at: <code>.\\wandb\\run-20250723_141136-rwbwsi87\\logs</code>"
      ],
      "text/plain": [
       "<IPython.core.display.HTML object>"
      ]
     },
     "metadata": {},
     "output_type": "display_data"
    },
    {
     "data": {
      "text/html": [
       "Tracking run with wandb version 0.19.11"
      ],
      "text/plain": [
       "<IPython.core.display.HTML object>"
      ]
     },
     "metadata": {},
     "output_type": "display_data"
    },
    {
     "data": {
      "text/html": [
       "Run data is saved locally in <code>C:\\Projects\\jetbot-diffusion-world-model-kong-finder\\wandb\\run-20250723_141141-u646zr0b</code>"
      ],
      "text/plain": [
       "<IPython.core.display.HTML object>"
      ]
     },
     "metadata": {},
     "output_type": "display_data"
    },
    {
     "data": {
      "text/html": [
       "Syncing run <strong><a href='https://wandb.ai/irvin-hwang-simulacra-systems/timing-comparison/runs/u646zr0b' target=\"_blank\">feasible-bird-59</a></strong> to <a href='https://wandb.ai/irvin-hwang-simulacra-systems/timing-comparison' target=\"_blank\">Weights & Biases</a> (<a href='https://wandb.me/developer-guide' target=\"_blank\">docs</a>)<br>"
      ],
      "text/plain": [
       "<IPython.core.display.HTML object>"
      ]
     },
     "metadata": {},
     "output_type": "display_data"
    },
    {
     "data": {
      "text/html": [
       " View project at <a href='https://wandb.ai/irvin-hwang-simulacra-systems/timing-comparison' target=\"_blank\">https://wandb.ai/irvin-hwang-simulacra-systems/timing-comparison</a>"
      ],
      "text/plain": [
       "<IPython.core.display.HTML object>"
      ]
     },
     "metadata": {},
     "output_type": "display_data"
    },
    {
     "data": {
      "text/html": [
       " View run at <a href='https://wandb.ai/irvin-hwang-simulacra-systems/timing-comparison/runs/u646zr0b' target=\"_blank\">https://wandb.ai/irvin-hwang-simulacra-systems/timing-comparison/runs/u646zr0b</a>"
      ],
      "text/plain": [
       "<IPython.core.display.HTML object>"
      ]
     },
     "metadata": {},
     "output_type": "display_data"
    },
    {
     "name": "stdout",
     "output_type": "stream",
     "text": [
      "Found 1 new sessions to collect.\n"
     ]
    },
    {
     "data": {
      "application/vnd.jupyter.widget-view+json": {
       "model_id": "4fa0ccdf390743d68a9b330b33a3a3a5",
       "version_major": 2,
       "version_minor": 0
      },
      "text/plain": [
       "Collecting New Sessions:   0%|          | 0/1 [00:00<?, ?it/s]"
      ]
     },
     "metadata": {},
     "output_type": "display_data"
    },
    {
     "name": "stdout",
     "output_type": "stream",
     "text": [
      "Wrote 4538 entries to C:\\Projects\\jetbot-diffusion-world-model-kong-finder-aux\\jetbot_new_data_incremental_test\\new.csv\n",
      "Loaded combined CSV with columns: ['session_id', 'image_path', 'timestamp', 'action']\n",
      "Fresh dataset size is 299.\n",
      "Loaded combined CSV with columns: ['session_id', 'image_path', 'timestamp', 'action']\n",
      "Full dataset size: 292\n",
      "Creating new train/val split...\n",
      "Saved new dataset split to C:\\Projects\\jetbot-diffusion-world-model-kong-finder-aux\\output_model_2hz_DIAMOND_laundry_incremental_test\\dataset_split.pth\n",
      "[incremental_before_dataloader] GPU mem alloc: 0.0 MB, reserved: 0.0 MB\n",
      "[incremental_after_dataloader] GPU mem alloc: 0.0 MB, reserved: 0.0 MB\n",
      "Starting training\n",
      "Using device: cuda\n",
      "Starting from fresh model\n",
      "Incremental training for at least 320 and at most 320000 with 320 number of steps per fresh data epoch\n",
      "[Incremental Pre training loop] GPU mem alloc: 1263.9 MB, reserved: 1286.0 MB\n"
     ]
    },
    {
     "data": {
      "application/vnd.jupyter.widget-view+json": {
       "model_id": "74ff77e15fe342e78a2e63c48673ad24",
       "version_major": 2,
       "version_minor": 0
      },
      "text/plain": [
       "Incremental Training Steps:   0%|          | 0/320000 [00:00<?, ?it/s]"
      ]
     },
     "metadata": {},
     "output_type": "display_data"
    },
    {
     "name": "stdout",
     "output_type": "stream",
     "text": [
      "Filtering dataset with 30 samples for actions: [0.0]\n"
     ]
    },
    {
     "data": {
      "application/vnd.jupyter.widget-view+json": {
       "model_id": "7d8b83a6b3f34da69809a686412de623",
       "version_major": 2,
       "version_minor": 0
      },
      "text/plain": [
       "Filtering Dataset:   0%|          | 0/30 [00:00<?, ?it/s]"
      ]
     },
     "metadata": {},
     "output_type": "display_data"
    },
    {
     "name": "stdout",
     "output_type": "stream",
     "text": [
      "Filtered down to 13 samples.\n",
      "Filtering dataset with 30 samples for actions: [0.13]\n"
     ]
    },
    {
     "data": {
      "application/vnd.jupyter.widget-view+json": {
       "model_id": "b5d1e0a0c09442f09b19b22b8d17b04f",
       "version_major": 2,
       "version_minor": 0
      },
      "text/plain": [
       "Filtering Dataset:   0%|          | 0/30 [00:00<?, ?it/s]"
      ]
     },
     "metadata": {},
     "output_type": "display_data"
    },
    {
     "name": "stdout",
     "output_type": "stream",
     "text": [
      "Filtered down to 17 samples.\n",
      "[Incremental post batch fetch] GPU mem alloc: 1263.9 MB, reserved: 1286.0 MB\n",
      "[incremental_step0_after_move] GPU mem alloc: 1264.4 MB, reserved: 1288.0 MB\n",
      "[Incremental post fw/bw] GPU mem alloc: 2550.7 MB, reserved: 2638.0 MB\n",
      "[Incremental post batch fetch] GPU mem alloc: 2550.7 MB, reserved: 2638.0 MB\n",
      "[incremental_step1_after_move] GPU mem alloc: 2550.7 MB, reserved: 2638.0 MB\n",
      "[Incremental post fw/bw] GPU mem alloc: 2550.7 MB, reserved: 3588.0 MB\n",
      "[Incremental post batch fetch] GPU mem alloc: 2550.7 MB, reserved: 3588.0 MB\n",
      "[incremental_step2_after_move] GPU mem alloc: 2550.7 MB, reserved: 3588.0 MB\n",
      "[Incremental post fw/bw] GPU mem alloc: 2550.7 MB, reserved: 3588.0 MB\n",
      "[Incremental post batch fetch] GPU mem alloc: 2550.7 MB, reserved: 3588.0 MB\n",
      "[incremental_step3_after_move] GPU mem alloc: 2550.7 MB, reserved: 3588.0 MB\n",
      "[Incremental post fw/bw] GPU mem alloc: 2550.7 MB, reserved: 3588.0 MB\n",
      "[Incremental post batch fetch] GPU mem alloc: 2550.7 MB, reserved: 3588.0 MB\n",
      "[incremental_step4_after_move] GPU mem alloc: 2550.7 MB, reserved: 3588.0 MB\n",
      "[Incremental post fw/bw] GPU mem alloc: 2550.7 MB, reserved: 3588.0 MB\n",
      "[Incremental post batch fetch] GPU mem alloc: 2550.7 MB, reserved: 3588.0 MB\n",
      "[incremental_step5_after_move] GPU mem alloc: 2550.7 MB, reserved: 3588.0 MB\n",
      "[Incremental post fw/bw] GPU mem alloc: 2550.7 MB, reserved: 3588.0 MB\n",
      "[Incremental post batch fetch] GPU mem alloc: 2550.7 MB, reserved: 3588.0 MB\n",
      "[incremental_step6_after_move] GPU mem alloc: 2550.7 MB, reserved: 3588.0 MB\n",
      "[Incremental post fw/bw] GPU mem alloc: 2550.7 MB, reserved: 3588.0 MB\n",
      "[Incremental post batch fetch] GPU mem alloc: 2550.7 MB, reserved: 3588.0 MB\n",
      "[incremental_step7_after_move] GPU mem alloc: 2550.7 MB, reserved: 3588.0 MB\n",
      "[Incremental post fw/bw] GPU mem alloc: 2550.7 MB, reserved: 3588.0 MB\n",
      "[Incremental post batch fetch] GPU mem alloc: 2550.7 MB, reserved: 3588.0 MB\n",
      "[incremental_step8_after_move] GPU mem alloc: 2550.7 MB, reserved: 3588.0 MB\n",
      "[Incremental post fw/bw] GPU mem alloc: 2550.7 MB, reserved: 3588.0 MB\n",
      "[Incremental post batch fetch] GPU mem alloc: 2550.7 MB, reserved: 3588.0 MB\n",
      "[incremental_step9_after_move] GPU mem alloc: 2550.7 MB, reserved: 3588.0 MB\n",
      "[Incremental post fw/bw] GPU mem alloc: 2550.7 MB, reserved: 3588.0 MB\n",
      "[Incremental post batch fetch] GPU mem alloc: 2550.7 MB, reserved: 3588.0 MB\n",
      "[incremental_step10_after_move] GPU mem alloc: 2550.7 MB, reserved: 3588.0 MB\n",
      "[Incremental post fw/bw] GPU mem alloc: 2550.7 MB, reserved: 3588.0 MB\n",
      "[Incremental post batch fetch] GPU mem alloc: 2550.7 MB, reserved: 3588.0 MB\n",
      "[incremental_step11_after_move] GPU mem alloc: 2550.7 MB, reserved: 3588.0 MB\n",
      "[Incremental post fw/bw] GPU mem alloc: 2550.7 MB, reserved: 3588.0 MB\n",
      "[Incremental post batch fetch] GPU mem alloc: 2550.7 MB, reserved: 3588.0 MB\n",
      "[incremental_step12_after_move] GPU mem alloc: 2550.7 MB, reserved: 3588.0 MB\n",
      "[Incremental post fw/bw] GPU mem alloc: 2550.7 MB, reserved: 3588.0 MB\n",
      "[Incremental post batch fetch] GPU mem alloc: 2550.7 MB, reserved: 3588.0 MB\n",
      "[incremental_step13_after_move] GPU mem alloc: 2550.7 MB, reserved: 3588.0 MB\n",
      "[Incremental post fw/bw] GPU mem alloc: 2550.7 MB, reserved: 3588.0 MB\n",
      "[Incremental post batch fetch] GPU mem alloc: 2550.7 MB, reserved: 3588.0 MB\n",
      "[incremental_step14_after_move] GPU mem alloc: 2550.7 MB, reserved: 3588.0 MB\n",
      "[Incremental post fw/bw] GPU mem alloc: 2550.7 MB, reserved: 3588.0 MB\n",
      "[Incremental post batch fetch] GPU mem alloc: 2550.7 MB, reserved: 3588.0 MB\n",
      "[incremental_step15_after_move] GPU mem alloc: 2550.7 MB, reserved: 3588.0 MB\n",
      "[Incremental post fw/bw] GPU mem alloc: 2550.7 MB, reserved: 3588.0 MB\n",
      "[Incremental post batch fetch] GPU mem alloc: 2550.7 MB, reserved: 3588.0 MB\n",
      "[incremental_step16_after_move] GPU mem alloc: 2550.7 MB, reserved: 3588.0 MB\n",
      "[Incremental post fw/bw] GPU mem alloc: 2550.7 MB, reserved: 3588.0 MB\n",
      "[Incremental post batch fetch] GPU mem alloc: 2550.7 MB, reserved: 3588.0 MB\n",
      "[incremental_step17_after_move] GPU mem alloc: 2550.7 MB, reserved: 3588.0 MB\n",
      "[Incremental post fw/bw] GPU mem alloc: 2550.7 MB, reserved: 3588.0 MB\n",
      "[Incremental post batch fetch] GPU mem alloc: 2550.7 MB, reserved: 3588.0 MB\n",
      "[incremental_step18_after_move] GPU mem alloc: 2550.7 MB, reserved: 3588.0 MB\n",
      "[Incremental post fw/bw] GPU mem alloc: 2550.7 MB, reserved: 3588.0 MB\n",
      "[Incremental post batch fetch] GPU mem alloc: 2550.7 MB, reserved: 3588.0 MB\n",
      "[incremental_step19_after_move] GPU mem alloc: 2550.7 MB, reserved: 3588.0 MB\n",
      "[Incremental post fw/bw] GPU mem alloc: 2550.7 MB, reserved: 3588.0 MB\n",
      "[Incremental post batch fetch] GPU mem alloc: 2550.7 MB, reserved: 3588.0 MB\n",
      "[incremental_step20_after_move] GPU mem alloc: 2550.7 MB, reserved: 3588.0 MB\n",
      "[Incremental post fw/bw] GPU mem alloc: 2550.7 MB, reserved: 3588.0 MB\n",
      "[Incremental post batch fetch] GPU mem alloc: 2550.7 MB, reserved: 3588.0 MB\n",
      "[incremental_step21_after_move] GPU mem alloc: 2550.7 MB, reserved: 3588.0 MB\n",
      "[Incremental post fw/bw] GPU mem alloc: 2550.7 MB, reserved: 3588.0 MB\n",
      "[Incremental post batch fetch] GPU mem alloc: 2550.7 MB, reserved: 3588.0 MB\n",
      "[incremental_step22_after_move] GPU mem alloc: 2550.7 MB, reserved: 3588.0 MB\n",
      "[Incremental post fw/bw] GPU mem alloc: 2550.7 MB, reserved: 3588.0 MB\n",
      "[Incremental post batch fetch] GPU mem alloc: 2550.7 MB, reserved: 3588.0 MB\n",
      "[incremental_step23_after_move] GPU mem alloc: 2550.7 MB, reserved: 3588.0 MB\n",
      "[Incremental post fw/bw] GPU mem alloc: 2550.7 MB, reserved: 3588.0 MB\n",
      "[Incremental post batch fetch] GPU mem alloc: 2550.7 MB, reserved: 3588.0 MB\n",
      "[incremental_step24_after_move] GPU mem alloc: 2550.7 MB, reserved: 3588.0 MB\n",
      "[Incremental post fw/bw] GPU mem alloc: 2550.7 MB, reserved: 3588.0 MB\n",
      "[Incremental post batch fetch] GPU mem alloc: 2550.7 MB, reserved: 3588.0 MB\n",
      "[incremental_step25_after_move] GPU mem alloc: 2550.7 MB, reserved: 3588.0 MB\n",
      "[Incremental post fw/bw] GPU mem alloc: 2550.7 MB, reserved: 3588.0 MB\n",
      "[Incremental post batch fetch] GPU mem alloc: 2550.7 MB, reserved: 3588.0 MB\n",
      "[incremental_step26_after_move] GPU mem alloc: 2550.7 MB, reserved: 3588.0 MB\n",
      "[Incremental post fw/bw] GPU mem alloc: 2550.7 MB, reserved: 3588.0 MB\n",
      "[Incremental post batch fetch] GPU mem alloc: 2550.7 MB, reserved: 3588.0 MB\n",
      "[incremental_step27_after_move] GPU mem alloc: 2550.7 MB, reserved: 3588.0 MB\n",
      "[Incremental post fw/bw] GPU mem alloc: 2550.7 MB, reserved: 3588.0 MB\n",
      "[Incremental post batch fetch] GPU mem alloc: 2550.7 MB, reserved: 3588.0 MB\n",
      "[incremental_step28_after_move] GPU mem alloc: 2550.7 MB, reserved: 3588.0 MB\n",
      "[Incremental post fw/bw] GPU mem alloc: 2550.7 MB, reserved: 3588.0 MB\n",
      "[Incremental post batch fetch] GPU mem alloc: 2550.7 MB, reserved: 3588.0 MB\n",
      "[incremental_step29_after_move] GPU mem alloc: 2550.7 MB, reserved: 3588.0 MB\n",
      "[Incremental post fw/bw] GPU mem alloc: 2550.7 MB, reserved: 3588.0 MB\n",
      "[Incremental post batch fetch] GPU mem alloc: 2550.7 MB, reserved: 3588.0 MB\n",
      "[incremental_step30_after_move] GPU mem alloc: 2550.7 MB, reserved: 3588.0 MB\n",
      "[Incremental post fw/bw] GPU mem alloc: 2550.7 MB, reserved: 3588.0 MB\n",
      "[Incremental post batch fetch] GPU mem alloc: 2550.7 MB, reserved: 3588.0 MB\n",
      "[incremental_step31_after_move] GPU mem alloc: 2550.7 MB, reserved: 3588.0 MB\n",
      "[Incremental post fw/bw] GPU mem alloc: 2550.7 MB, reserved: 3588.0 MB\n",
      "[Incremental post batch fetch] GPU mem alloc: 2550.7 MB, reserved: 3588.0 MB\n",
      "[incremental_step32_after_move] GPU mem alloc: 2550.7 MB, reserved: 3588.0 MB\n",
      "[Incremental post fw/bw] GPU mem alloc: 2550.7 MB, reserved: 3588.0 MB\n",
      "[Incremental post batch fetch] GPU mem alloc: 2550.7 MB, reserved: 3588.0 MB\n",
      "[incremental_step33_after_move] GPU mem alloc: 2550.7 MB, reserved: 3588.0 MB\n",
      "[Incremental post fw/bw] GPU mem alloc: 2550.7 MB, reserved: 3588.0 MB\n",
      "[Incremental post batch fetch] GPU mem alloc: 2550.7 MB, reserved: 3588.0 MB\n",
      "[incremental_step34_after_move] GPU mem alloc: 2550.7 MB, reserved: 3588.0 MB\n",
      "[Incremental post fw/bw] GPU mem alloc: 2550.7 MB, reserved: 3588.0 MB\n",
      "[Incremental post batch fetch] GPU mem alloc: 2550.7 MB, reserved: 3588.0 MB\n",
      "[incremental_step35_after_move] GPU mem alloc: 2550.7 MB, reserved: 3588.0 MB\n",
      "[Incremental post fw/bw] GPU mem alloc: 2550.7 MB, reserved: 3588.0 MB\n",
      "[Incremental post batch fetch] GPU mem alloc: 2550.7 MB, reserved: 3588.0 MB\n",
      "[incremental_step36_after_move] GPU mem alloc: 2550.7 MB, reserved: 3588.0 MB\n",
      "[Incremental post fw/bw] GPU mem alloc: 2550.7 MB, reserved: 3588.0 MB\n",
      "[Incremental post batch fetch] GPU mem alloc: 2550.7 MB, reserved: 3588.0 MB\n",
      "[incremental_step37_after_move] GPU mem alloc: 2550.7 MB, reserved: 3588.0 MB\n",
      "[Incremental post fw/bw] GPU mem alloc: 2550.7 MB, reserved: 3588.0 MB\n",
      "[Incremental post batch fetch] GPU mem alloc: 2550.7 MB, reserved: 3588.0 MB\n",
      "[incremental_step38_after_move] GPU mem alloc: 2550.7 MB, reserved: 3588.0 MB\n",
      "[Incremental post fw/bw] GPU mem alloc: 2550.7 MB, reserved: 3588.0 MB\n",
      "[Incremental post batch fetch] GPU mem alloc: 2550.7 MB, reserved: 3588.0 MB\n",
      "[incremental_step39_after_move] GPU mem alloc: 2550.7 MB, reserved: 3588.0 MB\n",
      "[Incremental post fw/bw] GPU mem alloc: 2550.7 MB, reserved: 3588.0 MB\n",
      "[Incremental post batch fetch] GPU mem alloc: 2550.7 MB, reserved: 3588.0 MB\n",
      "[incremental_step40_after_move] GPU mem alloc: 2550.7 MB, reserved: 3588.0 MB\n",
      "[Incremental post fw/bw] GPU mem alloc: 2550.7 MB, reserved: 3588.0 MB\n",
      "[Incremental post batch fetch] GPU mem alloc: 2550.7 MB, reserved: 3588.0 MB\n",
      "[incremental_step41_after_move] GPU mem alloc: 2550.7 MB, reserved: 3588.0 MB\n",
      "[Incremental post fw/bw] GPU mem alloc: 2550.7 MB, reserved: 3588.0 MB\n",
      "[Incremental post batch fetch] GPU mem alloc: 2550.7 MB, reserved: 3588.0 MB\n",
      "[incremental_step42_after_move] GPU mem alloc: 2550.7 MB, reserved: 3588.0 MB\n",
      "[Incremental post fw/bw] GPU mem alloc: 2550.7 MB, reserved: 3588.0 MB\n",
      "[Incremental post batch fetch] GPU mem alloc: 2550.7 MB, reserved: 3588.0 MB\n",
      "[incremental_step43_after_move] GPU mem alloc: 2550.7 MB, reserved: 3588.0 MB\n",
      "[Incremental post fw/bw] GPU mem alloc: 2550.7 MB, reserved: 3588.0 MB\n",
      "[Incremental post batch fetch] GPU mem alloc: 2550.7 MB, reserved: 3588.0 MB\n",
      "[incremental_step44_after_move] GPU mem alloc: 2550.7 MB, reserved: 3588.0 MB\n",
      "[Incremental post fw/bw] GPU mem alloc: 2550.7 MB, reserved: 3588.0 MB\n",
      "[Incremental post batch fetch] GPU mem alloc: 2550.7 MB, reserved: 3588.0 MB\n",
      "[incremental_step45_after_move] GPU mem alloc: 2550.7 MB, reserved: 3588.0 MB\n",
      "[Incremental post fw/bw] GPU mem alloc: 2550.7 MB, reserved: 3588.0 MB\n",
      "[Incremental post batch fetch] GPU mem alloc: 2550.7 MB, reserved: 3588.0 MB\n",
      "[incremental_step46_after_move] GPU mem alloc: 2550.7 MB, reserved: 3588.0 MB\n",
      "[Incremental post fw/bw] GPU mem alloc: 2550.7 MB, reserved: 3588.0 MB\n",
      "[Incremental post batch fetch] GPU mem alloc: 2550.7 MB, reserved: 3588.0 MB\n",
      "[incremental_step47_after_move] GPU mem alloc: 2550.7 MB, reserved: 3588.0 MB\n",
      "[Incremental post fw/bw] GPU mem alloc: 2550.7 MB, reserved: 3588.0 MB\n",
      "[Incremental post batch fetch] GPU mem alloc: 2550.7 MB, reserved: 3588.0 MB\n",
      "[incremental_step48_after_move] GPU mem alloc: 2550.7 MB, reserved: 3588.0 MB\n",
      "[Incremental post fw/bw] GPU mem alloc: 2550.7 MB, reserved: 3588.0 MB\n",
      "[Incremental post batch fetch] GPU mem alloc: 2550.7 MB, reserved: 3588.0 MB\n",
      "[incremental_step49_after_move] GPU mem alloc: 2550.7 MB, reserved: 3588.0 MB\n",
      "[Incremental post fw/bw] GPU mem alloc: 2550.7 MB, reserved: 3588.0 MB\n",
      "[Incremental post batch fetch] GPU mem alloc: 2550.7 MB, reserved: 3588.0 MB\n",
      "[incremental_step50_after_move] GPU mem alloc: 2550.7 MB, reserved: 3588.0 MB\n",
      "[Incremental post fw/bw] GPU mem alloc: 2550.7 MB, reserved: 3588.0 MB\n",
      "[Incremental post batch fetch] GPU mem alloc: 2550.7 MB, reserved: 3588.0 MB\n",
      "[incremental_step51_after_move] GPU mem alloc: 2550.7 MB, reserved: 3588.0 MB\n",
      "[Incremental post fw/bw] GPU mem alloc: 2550.7 MB, reserved: 3588.0 MB\n",
      "[Incremental post batch fetch] GPU mem alloc: 2550.7 MB, reserved: 3588.0 MB\n",
      "[incremental_step52_after_move] GPU mem alloc: 2550.7 MB, reserved: 3588.0 MB\n",
      "[Incremental post fw/bw] GPU mem alloc: 2550.7 MB, reserved: 3588.0 MB\n",
      "[Incremental post batch fetch] GPU mem alloc: 2550.7 MB, reserved: 3588.0 MB\n",
      "[incremental_step53_after_move] GPU mem alloc: 2550.7 MB, reserved: 3588.0 MB\n",
      "[Incremental post fw/bw] GPU mem alloc: 2550.7 MB, reserved: 3588.0 MB\n",
      "[Incremental post batch fetch] GPU mem alloc: 2550.7 MB, reserved: 3588.0 MB\n",
      "[incremental_step54_after_move] GPU mem alloc: 2550.7 MB, reserved: 3588.0 MB\n",
      "[Incremental post fw/bw] GPU mem alloc: 2550.7 MB, reserved: 3588.0 MB\n",
      "[Incremental post batch fetch] GPU mem alloc: 2550.7 MB, reserved: 3588.0 MB\n",
      "[incremental_step55_after_move] GPU mem alloc: 2550.7 MB, reserved: 3588.0 MB\n",
      "[Incremental post fw/bw] GPU mem alloc: 2550.7 MB, reserved: 3588.0 MB\n",
      "[Incremental post batch fetch] GPU mem alloc: 2550.7 MB, reserved: 3588.0 MB\n",
      "[incremental_step56_after_move] GPU mem alloc: 2550.7 MB, reserved: 3588.0 MB\n",
      "[Incremental post fw/bw] GPU mem alloc: 2550.7 MB, reserved: 3588.0 MB\n",
      "[Incremental post batch fetch] GPU mem alloc: 2550.7 MB, reserved: 3588.0 MB\n",
      "[incremental_step57_after_move] GPU mem alloc: 2550.7 MB, reserved: 3588.0 MB\n",
      "[Incremental post fw/bw] GPU mem alloc: 2550.7 MB, reserved: 3588.0 MB\n",
      "[Incremental post batch fetch] GPU mem alloc: 2550.7 MB, reserved: 3588.0 MB\n",
      "[incremental_step58_after_move] GPU mem alloc: 2550.7 MB, reserved: 3588.0 MB\n",
      "[Incremental post fw/bw] GPU mem alloc: 2550.7 MB, reserved: 3588.0 MB\n",
      "[Incremental post batch fetch] GPU mem alloc: 2550.7 MB, reserved: 3588.0 MB\n",
      "[incremental_step59_after_move] GPU mem alloc: 2550.7 MB, reserved: 3588.0 MB\n",
      "[Incremental post fw/bw] GPU mem alloc: 2550.7 MB, reserved: 3588.0 MB\n",
      "[Incremental post batch fetch] GPU mem alloc: 2550.7 MB, reserved: 3588.0 MB\n",
      "[incremental_step60_after_move] GPU mem alloc: 2550.7 MB, reserved: 3588.0 MB\n",
      "[Incremental post fw/bw] GPU mem alloc: 2550.7 MB, reserved: 3588.0 MB\n",
      "[Incremental post batch fetch] GPU mem alloc: 2550.7 MB, reserved: 3588.0 MB\n",
      "[incremental_step61_after_move] GPU mem alloc: 2550.7 MB, reserved: 3588.0 MB\n",
      "[Incremental post fw/bw] GPU mem alloc: 2550.7 MB, reserved: 3588.0 MB\n",
      "[Incremental post batch fetch] GPU mem alloc: 2550.7 MB, reserved: 3588.0 MB\n",
      "[incremental_step62_after_move] GPU mem alloc: 2550.7 MB, reserved: 3588.0 MB\n",
      "[Incremental post fw/bw] GPU mem alloc: 2550.7 MB, reserved: 3588.0 MB\n",
      "[Incremental post batch fetch] GPU mem alloc: 2550.7 MB, reserved: 3588.0 MB\n",
      "[incremental_step63_after_move] GPU mem alloc: 2550.7 MB, reserved: 3588.0 MB\n",
      "[Incremental post fw/bw] GPU mem alloc: 2550.7 MB, reserved: 3588.0 MB\n",
      "[Incremental post batch fetch] GPU mem alloc: 3817.4 MB, reserved: 6450.0 MB\n",
      "[incremental_step64_after_move] GPU mem alloc: 3817.4 MB, reserved: 6450.0 MB\n",
      "[Incremental post fw/bw] GPU mem alloc: 5088.7 MB, reserved: 6854.0 MB\n",
      "[Incremental post batch fetch] GPU mem alloc: 5088.7 MB, reserved: 6854.0 MB\n",
      "[incremental_step65_after_move] GPU mem alloc: 5088.7 MB, reserved: 6854.0 MB\n",
      "[Incremental post fw/bw] GPU mem alloc: 5088.7 MB, reserved: 6870.0 MB\n",
      "[Incremental post batch fetch] GPU mem alloc: 5088.7 MB, reserved: 6870.0 MB\n",
      "[incremental_step66_after_move] GPU mem alloc: 5088.7 MB, reserved: 6870.0 MB\n",
      "[Incremental post fw/bw] GPU mem alloc: 5088.7 MB, reserved: 6870.0 MB\n",
      "[Incremental post batch fetch] GPU mem alloc: 5088.7 MB, reserved: 6870.0 MB\n",
      "[incremental_step67_after_move] GPU mem alloc: 5088.7 MB, reserved: 6870.0 MB\n",
      "[Incremental post fw/bw] GPU mem alloc: 5088.7 MB, reserved: 6870.0 MB\n",
      "[Incremental post batch fetch] GPU mem alloc: 5088.7 MB, reserved: 6870.0 MB\n",
      "[incremental_step68_after_move] GPU mem alloc: 5088.7 MB, reserved: 6870.0 MB\n",
      "[Incremental post fw/bw] GPU mem alloc: 5088.7 MB, reserved: 6870.0 MB\n",
      "[Incremental post batch fetch] GPU mem alloc: 5088.7 MB, reserved: 6870.0 MB\n",
      "[incremental_step69_after_move] GPU mem alloc: 5088.7 MB, reserved: 6870.0 MB\n",
      "[Incremental post fw/bw] GPU mem alloc: 5088.7 MB, reserved: 6870.0 MB\n",
      "[Incremental post batch fetch] GPU mem alloc: 5088.7 MB, reserved: 6870.0 MB\n",
      "[incremental_step70_after_move] GPU mem alloc: 5088.7 MB, reserved: 6870.0 MB\n",
      "[Incremental post fw/bw] GPU mem alloc: 5088.7 MB, reserved: 6870.0 MB\n",
      "[Incremental post batch fetch] GPU mem alloc: 5088.7 MB, reserved: 6870.0 MB\n",
      "[incremental_step71_after_move] GPU mem alloc: 5088.7 MB, reserved: 6870.0 MB\n",
      "[Incremental post fw/bw] GPU mem alloc: 5088.7 MB, reserved: 6870.0 MB\n",
      "[Incremental post batch fetch] GPU mem alloc: 5088.7 MB, reserved: 6870.0 MB\n",
      "[incremental_step72_after_move] GPU mem alloc: 5088.7 MB, reserved: 6870.0 MB\n",
      "[Incremental post fw/bw] GPU mem alloc: 5088.7 MB, reserved: 6870.0 MB\n",
      "[Incremental post batch fetch] GPU mem alloc: 5088.7 MB, reserved: 6870.0 MB\n",
      "[incremental_step73_after_move] GPU mem alloc: 5088.7 MB, reserved: 6870.0 MB\n",
      "[Incremental post fw/bw] GPU mem alloc: 5088.7 MB, reserved: 6870.0 MB\n",
      "[Incremental post batch fetch] GPU mem alloc: 5088.7 MB, reserved: 6870.0 MB\n",
      "[incremental_step74_after_move] GPU mem alloc: 5088.7 MB, reserved: 6870.0 MB\n",
      "[Incremental post fw/bw] GPU mem alloc: 5088.7 MB, reserved: 6870.0 MB\n",
      "[Incremental post batch fetch] GPU mem alloc: 5088.7 MB, reserved: 6870.0 MB\n",
      "[incremental_step75_after_move] GPU mem alloc: 5088.7 MB, reserved: 6870.0 MB\n",
      "[Incremental post fw/bw] GPU mem alloc: 5088.7 MB, reserved: 6870.0 MB\n",
      "[Incremental post batch fetch] GPU mem alloc: 5088.7 MB, reserved: 6870.0 MB\n",
      "[incremental_step76_after_move] GPU mem alloc: 5088.7 MB, reserved: 6870.0 MB\n",
      "[Incremental post fw/bw] GPU mem alloc: 5088.7 MB, reserved: 6870.0 MB\n",
      "[Incremental post batch fetch] GPU mem alloc: 5088.7 MB, reserved: 6870.0 MB\n",
      "[incremental_step77_after_move] GPU mem alloc: 5088.7 MB, reserved: 6870.0 MB\n",
      "[Incremental post fw/bw] GPU mem alloc: 5088.7 MB, reserved: 6870.0 MB\n",
      "[Incremental post batch fetch] GPU mem alloc: 5088.7 MB, reserved: 6870.0 MB\n",
      "[incremental_step78_after_move] GPU mem alloc: 5088.7 MB, reserved: 6870.0 MB\n",
      "[Incremental post fw/bw] GPU mem alloc: 5088.7 MB, reserved: 6870.0 MB\n",
      "[Incremental post batch fetch] GPU mem alloc: 5088.7 MB, reserved: 6870.0 MB\n",
      "[incremental_step79_after_move] GPU mem alloc: 5088.7 MB, reserved: 6870.0 MB\n",
      "[Incremental post fw/bw] GPU mem alloc: 5088.7 MB, reserved: 6870.0 MB\n",
      "[Incremental post batch fetch] GPU mem alloc: 5088.7 MB, reserved: 6870.0 MB\n",
      "[incremental_step80_after_move] GPU mem alloc: 5088.7 MB, reserved: 6870.0 MB\n",
      "[Incremental post fw/bw] GPU mem alloc: 5088.7 MB, reserved: 6870.0 MB\n",
      "[Incremental post batch fetch] GPU mem alloc: 5088.7 MB, reserved: 6870.0 MB\n",
      "[incremental_step81_after_move] GPU mem alloc: 5088.7 MB, reserved: 6870.0 MB\n",
      "[Incremental post fw/bw] GPU mem alloc: 5088.7 MB, reserved: 6870.0 MB\n",
      "[Incremental post batch fetch] GPU mem alloc: 5088.7 MB, reserved: 6870.0 MB\n",
      "[incremental_step82_after_move] GPU mem alloc: 5088.7 MB, reserved: 6870.0 MB\n",
      "[Incremental post fw/bw] GPU mem alloc: 5088.7 MB, reserved: 6870.0 MB\n",
      "[Incremental post batch fetch] GPU mem alloc: 5088.7 MB, reserved: 6870.0 MB\n",
      "[incremental_step83_after_move] GPU mem alloc: 5088.7 MB, reserved: 6870.0 MB\n",
      "[Incremental post fw/bw] GPU mem alloc: 5088.7 MB, reserved: 6870.0 MB\n",
      "[Incremental post batch fetch] GPU mem alloc: 5088.7 MB, reserved: 6870.0 MB\n",
      "[incremental_step84_after_move] GPU mem alloc: 5088.7 MB, reserved: 6870.0 MB\n",
      "[Incremental post fw/bw] GPU mem alloc: 5088.7 MB, reserved: 6870.0 MB\n",
      "[Incremental post batch fetch] GPU mem alloc: 5088.7 MB, reserved: 6870.0 MB\n",
      "[incremental_step85_after_move] GPU mem alloc: 5088.7 MB, reserved: 6870.0 MB\n",
      "[Incremental post fw/bw] GPU mem alloc: 5088.7 MB, reserved: 6870.0 MB\n",
      "[Incremental post batch fetch] GPU mem alloc: 5088.7 MB, reserved: 6870.0 MB\n",
      "[incremental_step86_after_move] GPU mem alloc: 5088.7 MB, reserved: 6870.0 MB\n",
      "[Incremental post fw/bw] GPU mem alloc: 5088.7 MB, reserved: 6870.0 MB\n",
      "[Incremental post batch fetch] GPU mem alloc: 5088.7 MB, reserved: 6870.0 MB\n",
      "[incremental_step87_after_move] GPU mem alloc: 5088.7 MB, reserved: 6870.0 MB\n",
      "[Incremental post fw/bw] GPU mem alloc: 5088.7 MB, reserved: 6870.0 MB\n",
      "[Incremental post batch fetch] GPU mem alloc: 5088.7 MB, reserved: 6870.0 MB\n",
      "[incremental_step88_after_move] GPU mem alloc: 5088.7 MB, reserved: 6870.0 MB\n",
      "[Incremental post fw/bw] GPU mem alloc: 5088.7 MB, reserved: 6870.0 MB\n",
      "[Incremental post batch fetch] GPU mem alloc: 5088.7 MB, reserved: 6870.0 MB\n",
      "[incremental_step89_after_move] GPU mem alloc: 5088.7 MB, reserved: 6870.0 MB\n",
      "[Incremental post fw/bw] GPU mem alloc: 5088.7 MB, reserved: 6870.0 MB\n",
      "[Incremental post batch fetch] GPU mem alloc: 5088.7 MB, reserved: 6870.0 MB\n",
      "[incremental_step90_after_move] GPU mem alloc: 5088.7 MB, reserved: 6870.0 MB\n",
      "[Incremental post fw/bw] GPU mem alloc: 5088.7 MB, reserved: 6870.0 MB\n",
      "[Incremental post batch fetch] GPU mem alloc: 5088.7 MB, reserved: 6870.0 MB\n",
      "[incremental_step91_after_move] GPU mem alloc: 5088.7 MB, reserved: 6870.0 MB\n",
      "[Incremental post fw/bw] GPU mem alloc: 5088.7 MB, reserved: 6870.0 MB\n",
      "[Incremental post batch fetch] GPU mem alloc: 5088.7 MB, reserved: 6870.0 MB\n",
      "[incremental_step92_after_move] GPU mem alloc: 5088.7 MB, reserved: 6870.0 MB\n",
      "[Incremental post fw/bw] GPU mem alloc: 5088.7 MB, reserved: 6870.0 MB\n",
      "[Incremental post batch fetch] GPU mem alloc: 5088.7 MB, reserved: 6870.0 MB\n",
      "[incremental_step93_after_move] GPU mem alloc: 5088.7 MB, reserved: 6870.0 MB\n",
      "[Incremental post fw/bw] GPU mem alloc: 5088.7 MB, reserved: 6870.0 MB\n",
      "[Incremental post batch fetch] GPU mem alloc: 5088.7 MB, reserved: 6870.0 MB\n",
      "[incremental_step94_after_move] GPU mem alloc: 5088.7 MB, reserved: 6870.0 MB\n",
      "[Incremental post fw/bw] GPU mem alloc: 5088.7 MB, reserved: 6870.0 MB\n",
      "[Incremental post batch fetch] GPU mem alloc: 5088.7 MB, reserved: 6870.0 MB\n",
      "[incremental_step95_after_move] GPU mem alloc: 5088.7 MB, reserved: 6870.0 MB\n",
      "[Incremental post fw/bw] GPU mem alloc: 5088.7 MB, reserved: 6870.0 MB\n",
      "[Incremental post batch fetch] GPU mem alloc: 5088.7 MB, reserved: 6870.0 MB\n",
      "[incremental_step96_after_move] GPU mem alloc: 5088.7 MB, reserved: 6870.0 MB\n",
      "[Incremental post fw/bw] GPU mem alloc: 5088.7 MB, reserved: 6870.0 MB\n",
      "[Incremental post batch fetch] GPU mem alloc: 5088.7 MB, reserved: 6870.0 MB\n",
      "[incremental_step97_after_move] GPU mem alloc: 5088.7 MB, reserved: 6870.0 MB\n",
      "[Incremental post fw/bw] GPU mem alloc: 5088.7 MB, reserved: 6870.0 MB\n",
      "[Incremental post batch fetch] GPU mem alloc: 5088.7 MB, reserved: 6870.0 MB\n",
      "[incremental_step98_after_move] GPU mem alloc: 5088.7 MB, reserved: 6870.0 MB\n",
      "[Incremental post fw/bw] GPU mem alloc: 5088.7 MB, reserved: 6870.0 MB\n",
      "[Incremental post batch fetch] GPU mem alloc: 5088.7 MB, reserved: 6870.0 MB\n",
      "[incremental_step99_after_move] GPU mem alloc: 5088.7 MB, reserved: 6870.0 MB\n",
      "[Incremental post fw/bw] GPU mem alloc: 5088.7 MB, reserved: 6870.0 MB\n",
      "[Incremental post batch fetch] GPU mem alloc: 5088.7 MB, reserved: 6870.0 MB\n",
      "[incremental_step100_after_move] GPU mem alloc: 5088.7 MB, reserved: 6870.0 MB\n",
      "[Incremental post fw/bw] GPU mem alloc: 5088.7 MB, reserved: 6870.0 MB\n",
      "[Incremental post batch fetch] GPU mem alloc: 5088.7 MB, reserved: 6870.0 MB\n",
      "[incremental_step101_after_move] GPU mem alloc: 5088.7 MB, reserved: 6870.0 MB\n",
      "[Incremental post fw/bw] GPU mem alloc: 5088.7 MB, reserved: 6870.0 MB\n",
      "[Incremental post batch fetch] GPU mem alloc: 5088.7 MB, reserved: 6870.0 MB\n",
      "[incremental_step102_after_move] GPU mem alloc: 5088.7 MB, reserved: 6870.0 MB\n",
      "[Incremental post fw/bw] GPU mem alloc: 5088.7 MB, reserved: 6870.0 MB\n",
      "[Incremental post batch fetch] GPU mem alloc: 5088.7 MB, reserved: 6870.0 MB\n",
      "[incremental_step103_after_move] GPU mem alloc: 5088.7 MB, reserved: 6870.0 MB\n",
      "[Incremental post fw/bw] GPU mem alloc: 5088.7 MB, reserved: 6870.0 MB\n",
      "[Incremental post batch fetch] GPU mem alloc: 5088.7 MB, reserved: 6870.0 MB\n",
      "[incremental_step104_after_move] GPU mem alloc: 5088.7 MB, reserved: 6870.0 MB\n",
      "[Incremental post fw/bw] GPU mem alloc: 5088.7 MB, reserved: 6870.0 MB\n",
      "[Incremental post batch fetch] GPU mem alloc: 5088.7 MB, reserved: 6870.0 MB\n",
      "[incremental_step105_after_move] GPU mem alloc: 5088.7 MB, reserved: 6870.0 MB\n",
      "[Incremental post fw/bw] GPU mem alloc: 5088.7 MB, reserved: 6870.0 MB\n",
      "[Incremental post batch fetch] GPU mem alloc: 5088.7 MB, reserved: 6870.0 MB\n",
      "[incremental_step106_after_move] GPU mem alloc: 5088.7 MB, reserved: 6870.0 MB\n",
      "[Incremental post fw/bw] GPU mem alloc: 5088.7 MB, reserved: 6870.0 MB\n",
      "[Incremental post batch fetch] GPU mem alloc: 5088.7 MB, reserved: 6870.0 MB\n",
      "[incremental_step107_after_move] GPU mem alloc: 5088.7 MB, reserved: 6870.0 MB\n",
      "[Incremental post fw/bw] GPU mem alloc: 5088.7 MB, reserved: 6870.0 MB\n",
      "[Incremental post batch fetch] GPU mem alloc: 5088.7 MB, reserved: 6870.0 MB\n",
      "[incremental_step108_after_move] GPU mem alloc: 5088.7 MB, reserved: 6870.0 MB\n",
      "[Incremental post fw/bw] GPU mem alloc: 5088.7 MB, reserved: 6870.0 MB\n",
      "[Incremental post batch fetch] GPU mem alloc: 5088.7 MB, reserved: 6870.0 MB\n",
      "[incremental_step109_after_move] GPU mem alloc: 5088.7 MB, reserved: 6870.0 MB\n",
      "[Incremental post fw/bw] GPU mem alloc: 5088.7 MB, reserved: 6870.0 MB\n",
      "[Incremental post batch fetch] GPU mem alloc: 5088.7 MB, reserved: 6870.0 MB\n",
      "[incremental_step110_after_move] GPU mem alloc: 5088.7 MB, reserved: 6870.0 MB\n",
      "[Incremental post fw/bw] GPU mem alloc: 5088.7 MB, reserved: 6870.0 MB\n",
      "[Incremental post batch fetch] GPU mem alloc: 5088.7 MB, reserved: 6870.0 MB\n",
      "[incremental_step111_after_move] GPU mem alloc: 5088.7 MB, reserved: 6870.0 MB\n",
      "[Incremental post fw/bw] GPU mem alloc: 5088.7 MB, reserved: 6870.0 MB\n",
      "[Incremental post batch fetch] GPU mem alloc: 5088.7 MB, reserved: 6870.0 MB\n",
      "[incremental_step112_after_move] GPU mem alloc: 5088.7 MB, reserved: 6870.0 MB\n",
      "[Incremental post fw/bw] GPU mem alloc: 5088.7 MB, reserved: 6870.0 MB\n",
      "[Incremental post batch fetch] GPU mem alloc: 5088.7 MB, reserved: 6870.0 MB\n",
      "[incremental_step113_after_move] GPU mem alloc: 5088.7 MB, reserved: 6870.0 MB\n",
      "[Incremental post fw/bw] GPU mem alloc: 5088.7 MB, reserved: 6870.0 MB\n",
      "[Incremental post batch fetch] GPU mem alloc: 5088.7 MB, reserved: 6870.0 MB\n",
      "[incremental_step114_after_move] GPU mem alloc: 5088.7 MB, reserved: 6870.0 MB\n",
      "[Incremental post fw/bw] GPU mem alloc: 5088.7 MB, reserved: 6870.0 MB\n",
      "[Incremental post batch fetch] GPU mem alloc: 5088.7 MB, reserved: 6870.0 MB\n",
      "[incremental_step115_after_move] GPU mem alloc: 5088.7 MB, reserved: 6870.0 MB\n",
      "[Incremental post fw/bw] GPU mem alloc: 5088.7 MB, reserved: 6870.0 MB\n",
      "[Incremental post batch fetch] GPU mem alloc: 5088.7 MB, reserved: 6870.0 MB\n",
      "[incremental_step116_after_move] GPU mem alloc: 5088.7 MB, reserved: 6870.0 MB\n",
      "[Incremental post fw/bw] GPU mem alloc: 5088.7 MB, reserved: 6870.0 MB\n",
      "[Incremental post batch fetch] GPU mem alloc: 5088.7 MB, reserved: 6870.0 MB\n",
      "[incremental_step117_after_move] GPU mem alloc: 5088.7 MB, reserved: 6870.0 MB\n",
      "[Incremental post fw/bw] GPU mem alloc: 5088.7 MB, reserved: 6870.0 MB\n",
      "[Incremental post batch fetch] GPU mem alloc: 5088.7 MB, reserved: 6870.0 MB\n",
      "[incremental_step118_after_move] GPU mem alloc: 5088.7 MB, reserved: 6870.0 MB\n",
      "[Incremental post fw/bw] GPU mem alloc: 5088.7 MB, reserved: 6870.0 MB\n",
      "[Incremental post batch fetch] GPU mem alloc: 5088.7 MB, reserved: 6870.0 MB\n",
      "[incremental_step119_after_move] GPU mem alloc: 5088.7 MB, reserved: 6870.0 MB\n",
      "[Incremental post fw/bw] GPU mem alloc: 5088.7 MB, reserved: 6870.0 MB\n",
      "[Incremental post batch fetch] GPU mem alloc: 5088.7 MB, reserved: 6870.0 MB\n",
      "[incremental_step120_after_move] GPU mem alloc: 5088.7 MB, reserved: 6870.0 MB\n",
      "[Incremental post fw/bw] GPU mem alloc: 5088.7 MB, reserved: 6870.0 MB\n",
      "[Incremental post batch fetch] GPU mem alloc: 5088.7 MB, reserved: 6870.0 MB\n",
      "[incremental_step121_after_move] GPU mem alloc: 5088.7 MB, reserved: 6870.0 MB\n",
      "[Incremental post fw/bw] GPU mem alloc: 5088.7 MB, reserved: 6870.0 MB\n",
      "[Incremental post batch fetch] GPU mem alloc: 5088.7 MB, reserved: 6870.0 MB\n",
      "[incremental_step122_after_move] GPU mem alloc: 5088.7 MB, reserved: 6870.0 MB\n",
      "[Incremental post fw/bw] GPU mem alloc: 5088.7 MB, reserved: 6870.0 MB\n",
      "[Incremental post batch fetch] GPU mem alloc: 5088.7 MB, reserved: 6870.0 MB\n",
      "[incremental_step123_after_move] GPU mem alloc: 5088.7 MB, reserved: 6870.0 MB\n",
      "[Incremental post fw/bw] GPU mem alloc: 5088.7 MB, reserved: 6870.0 MB\n",
      "[Incremental post batch fetch] GPU mem alloc: 5088.7 MB, reserved: 6870.0 MB\n",
      "[incremental_step124_after_move] GPU mem alloc: 5088.7 MB, reserved: 6870.0 MB\n",
      "[Incremental post fw/bw] GPU mem alloc: 5088.7 MB, reserved: 6870.0 MB\n",
      "[Incremental post batch fetch] GPU mem alloc: 5088.7 MB, reserved: 6870.0 MB\n",
      "[incremental_step125_after_move] GPU mem alloc: 5088.7 MB, reserved: 6870.0 MB\n",
      "[Incremental post fw/bw] GPU mem alloc: 5088.7 MB, reserved: 6870.0 MB\n",
      "[Incremental post batch fetch] GPU mem alloc: 5088.7 MB, reserved: 6870.0 MB\n",
      "[incremental_step126_after_move] GPU mem alloc: 5088.7 MB, reserved: 6870.0 MB\n",
      "[Incremental post fw/bw] GPU mem alloc: 5088.7 MB, reserved: 6870.0 MB\n",
      "[Incremental post batch fetch] GPU mem alloc: 5088.7 MB, reserved: 6870.0 MB\n",
      "[incremental_step127_after_move] GPU mem alloc: 5088.7 MB, reserved: 6870.0 MB\n",
      "[Incremental post fw/bw] GPU mem alloc: 5088.7 MB, reserved: 6870.0 MB\n",
      "[Incremental post batch fetch] GPU mem alloc: 3817.4 MB, reserved: 6870.0 MB\n",
      "[incremental_step128_after_move] GPU mem alloc: 3817.4 MB, reserved: 6870.0 MB\n",
      "[Incremental post fw/bw] GPU mem alloc: 5088.7 MB, reserved: 6870.0 MB\n",
      "[Incremental post batch fetch] GPU mem alloc: 5088.7 MB, reserved: 6870.0 MB\n",
      "[incremental_step129_after_move] GPU mem alloc: 5088.7 MB, reserved: 6870.0 MB\n",
      "[Incremental post fw/bw] GPU mem alloc: 5088.7 MB, reserved: 6870.0 MB\n",
      "[Incremental post batch fetch] GPU mem alloc: 5088.7 MB, reserved: 6870.0 MB\n",
      "[incremental_step130_after_move] GPU mem alloc: 5088.7 MB, reserved: 6870.0 MB\n",
      "[Incremental post fw/bw] GPU mem alloc: 5088.7 MB, reserved: 6870.0 MB\n",
      "[Incremental post batch fetch] GPU mem alloc: 5088.7 MB, reserved: 6870.0 MB\n",
      "[incremental_step131_after_move] GPU mem alloc: 5088.7 MB, reserved: 6870.0 MB\n",
      "[Incremental post fw/bw] GPU mem alloc: 5088.7 MB, reserved: 6870.0 MB\n",
      "[Incremental post batch fetch] GPU mem alloc: 5088.7 MB, reserved: 6870.0 MB\n",
      "[incremental_step132_after_move] GPU mem alloc: 5088.7 MB, reserved: 6870.0 MB\n",
      "[Incremental post fw/bw] GPU mem alloc: 5088.7 MB, reserved: 6870.0 MB\n",
      "[Incremental post batch fetch] GPU mem alloc: 5088.7 MB, reserved: 6870.0 MB\n",
      "[incremental_step133_after_move] GPU mem alloc: 5088.7 MB, reserved: 6870.0 MB\n",
      "[Incremental post fw/bw] GPU mem alloc: 5088.7 MB, reserved: 6870.0 MB\n",
      "[Incremental post batch fetch] GPU mem alloc: 5088.7 MB, reserved: 6870.0 MB\n",
      "[incremental_step134_after_move] GPU mem alloc: 5088.7 MB, reserved: 6870.0 MB\n",
      "[Incremental post fw/bw] GPU mem alloc: 5088.7 MB, reserved: 6870.0 MB\n",
      "[Incremental post batch fetch] GPU mem alloc: 5088.7 MB, reserved: 6870.0 MB\n",
      "[incremental_step135_after_move] GPU mem alloc: 5088.7 MB, reserved: 6870.0 MB\n",
      "[Incremental post fw/bw] GPU mem alloc: 5088.7 MB, reserved: 6870.0 MB\n",
      "[Incremental post batch fetch] GPU mem alloc: 5088.7 MB, reserved: 6870.0 MB\n",
      "[incremental_step136_after_move] GPU mem alloc: 5088.7 MB, reserved: 6870.0 MB\n",
      "[Incremental post fw/bw] GPU mem alloc: 5088.7 MB, reserved: 6870.0 MB\n",
      "[Incremental post batch fetch] GPU mem alloc: 5088.7 MB, reserved: 6870.0 MB\n",
      "[incremental_step137_after_move] GPU mem alloc: 5088.7 MB, reserved: 6870.0 MB\n",
      "[Incremental post fw/bw] GPU mem alloc: 5088.7 MB, reserved: 6870.0 MB\n",
      "[Incremental post batch fetch] GPU mem alloc: 5088.7 MB, reserved: 6870.0 MB\n",
      "[incremental_step138_after_move] GPU mem alloc: 5088.7 MB, reserved: 6870.0 MB\n",
      "[Incremental post fw/bw] GPU mem alloc: 5088.7 MB, reserved: 6870.0 MB\n",
      "[Incremental post batch fetch] GPU mem alloc: 5088.7 MB, reserved: 6870.0 MB\n",
      "[incremental_step139_after_move] GPU mem alloc: 5088.7 MB, reserved: 6870.0 MB\n",
      "[Incremental post fw/bw] GPU mem alloc: 5088.7 MB, reserved: 6870.0 MB\n",
      "[Incremental post batch fetch] GPU mem alloc: 5088.7 MB, reserved: 6870.0 MB\n",
      "[incremental_step140_after_move] GPU mem alloc: 5088.7 MB, reserved: 6870.0 MB\n",
      "[Incremental post fw/bw] GPU mem alloc: 5088.7 MB, reserved: 6870.0 MB\n",
      "[Incremental post batch fetch] GPU mem alloc: 5088.7 MB, reserved: 6870.0 MB\n",
      "[incremental_step141_after_move] GPU mem alloc: 5088.7 MB, reserved: 6870.0 MB\n",
      "[Incremental post fw/bw] GPU mem alloc: 5088.7 MB, reserved: 6870.0 MB\n",
      "[Incremental post batch fetch] GPU mem alloc: 5088.7 MB, reserved: 6870.0 MB\n",
      "[incremental_step142_after_move] GPU mem alloc: 5088.7 MB, reserved: 6870.0 MB\n",
      "[Incremental post fw/bw] GPU mem alloc: 5088.7 MB, reserved: 6870.0 MB\n",
      "[Incremental post batch fetch] GPU mem alloc: 5088.7 MB, reserved: 6870.0 MB\n",
      "[incremental_step143_after_move] GPU mem alloc: 5088.7 MB, reserved: 6870.0 MB\n",
      "[Incremental post fw/bw] GPU mem alloc: 5088.7 MB, reserved: 6870.0 MB\n",
      "[Incremental post batch fetch] GPU mem alloc: 5088.7 MB, reserved: 6870.0 MB\n",
      "[incremental_step144_after_move] GPU mem alloc: 5088.7 MB, reserved: 6870.0 MB\n",
      "[Incremental post fw/bw] GPU mem alloc: 5088.7 MB, reserved: 6870.0 MB\n",
      "[Incremental post batch fetch] GPU mem alloc: 5088.7 MB, reserved: 6870.0 MB\n",
      "[incremental_step145_after_move] GPU mem alloc: 5088.7 MB, reserved: 6870.0 MB\n",
      "[Incremental post fw/bw] GPU mem alloc: 5088.7 MB, reserved: 6870.0 MB\n",
      "[Incremental post batch fetch] GPU mem alloc: 5088.7 MB, reserved: 6870.0 MB\n",
      "[incremental_step146_after_move] GPU mem alloc: 5088.7 MB, reserved: 6870.0 MB\n",
      "[Incremental post fw/bw] GPU mem alloc: 5088.7 MB, reserved: 6870.0 MB\n",
      "[Incremental post batch fetch] GPU mem alloc: 5088.7 MB, reserved: 6870.0 MB\n",
      "[incremental_step147_after_move] GPU mem alloc: 5088.7 MB, reserved: 6870.0 MB\n",
      "[Incremental post fw/bw] GPU mem alloc: 5088.7 MB, reserved: 6870.0 MB\n",
      "[Incremental post batch fetch] GPU mem alloc: 5088.7 MB, reserved: 6870.0 MB\n",
      "[incremental_step148_after_move] GPU mem alloc: 5088.7 MB, reserved: 6870.0 MB\n",
      "[Incremental post fw/bw] GPU mem alloc: 5088.7 MB, reserved: 6870.0 MB\n",
      "[Incremental post batch fetch] GPU mem alloc: 5088.7 MB, reserved: 6870.0 MB\n",
      "[incremental_step149_after_move] GPU mem alloc: 5088.7 MB, reserved: 6870.0 MB\n",
      "[Incremental post fw/bw] GPU mem alloc: 5088.7 MB, reserved: 6870.0 MB\n",
      "[Incremental post batch fetch] GPU mem alloc: 5088.7 MB, reserved: 6870.0 MB\n",
      "[incremental_step150_after_move] GPU mem alloc: 5088.7 MB, reserved: 6870.0 MB\n",
      "[Incremental post fw/bw] GPU mem alloc: 5088.7 MB, reserved: 6870.0 MB\n",
      "[Incremental post batch fetch] GPU mem alloc: 5088.7 MB, reserved: 6870.0 MB\n",
      "[incremental_step151_after_move] GPU mem alloc: 5088.7 MB, reserved: 6870.0 MB\n",
      "[Incremental post fw/bw] GPU mem alloc: 5088.7 MB, reserved: 6870.0 MB\n",
      "[Incremental post batch fetch] GPU mem alloc: 5088.7 MB, reserved: 6870.0 MB\n",
      "[incremental_step152_after_move] GPU mem alloc: 5088.7 MB, reserved: 6870.0 MB\n",
      "[Incremental post fw/bw] GPU mem alloc: 5088.7 MB, reserved: 6870.0 MB\n",
      "[Incremental post batch fetch] GPU mem alloc: 5088.7 MB, reserved: 6870.0 MB\n",
      "[incremental_step153_after_move] GPU mem alloc: 5088.7 MB, reserved: 6870.0 MB\n",
      "[Incremental post fw/bw] GPU mem alloc: 5088.7 MB, reserved: 6870.0 MB\n",
      "[Incremental post batch fetch] GPU mem alloc: 5088.7 MB, reserved: 6870.0 MB\n",
      "[incremental_step154_after_move] GPU mem alloc: 5088.7 MB, reserved: 6870.0 MB\n",
      "[Incremental post fw/bw] GPU mem alloc: 5088.7 MB, reserved: 6870.0 MB\n",
      "[Incremental post batch fetch] GPU mem alloc: 5088.7 MB, reserved: 6870.0 MB\n",
      "[incremental_step155_after_move] GPU mem alloc: 5088.7 MB, reserved: 6870.0 MB\n",
      "[Incremental post fw/bw] GPU mem alloc: 5088.7 MB, reserved: 6870.0 MB\n",
      "[Incremental post batch fetch] GPU mem alloc: 5088.7 MB, reserved: 6870.0 MB\n",
      "[incremental_step156_after_move] GPU mem alloc: 5088.7 MB, reserved: 6870.0 MB\n",
      "[Incremental post fw/bw] GPU mem alloc: 5088.7 MB, reserved: 6870.0 MB\n",
      "[Incremental post batch fetch] GPU mem alloc: 5088.7 MB, reserved: 6870.0 MB\n",
      "[incremental_step157_after_move] GPU mem alloc: 5088.7 MB, reserved: 6870.0 MB\n",
      "[Incremental post fw/bw] GPU mem alloc: 5088.7 MB, reserved: 6870.0 MB\n",
      "[Incremental post batch fetch] GPU mem alloc: 5088.7 MB, reserved: 6870.0 MB\n",
      "[incremental_step158_after_move] GPU mem alloc: 5088.7 MB, reserved: 6870.0 MB\n",
      "[Incremental post fw/bw] GPU mem alloc: 5088.7 MB, reserved: 6870.0 MB\n",
      "[Incremental post batch fetch] GPU mem alloc: 5088.7 MB, reserved: 6870.0 MB\n",
      "[incremental_step159_after_move] GPU mem alloc: 5088.7 MB, reserved: 6870.0 MB\n",
      "[Incremental post fw/bw] GPU mem alloc: 5088.7 MB, reserved: 6870.0 MB\n",
      "[Incremental post batch fetch] GPU mem alloc: 5088.7 MB, reserved: 6870.0 MB\n",
      "[incremental_step160_after_move] GPU mem alloc: 5088.7 MB, reserved: 6870.0 MB\n",
      "[Incremental post fw/bw] GPU mem alloc: 5088.7 MB, reserved: 6870.0 MB\n",
      "[Incremental post batch fetch] GPU mem alloc: 5088.7 MB, reserved: 6870.0 MB\n",
      "[incremental_step161_after_move] GPU mem alloc: 5088.7 MB, reserved: 6870.0 MB\n",
      "[Incremental post fw/bw] GPU mem alloc: 5088.7 MB, reserved: 6870.0 MB\n",
      "[Incremental post batch fetch] GPU mem alloc: 5088.7 MB, reserved: 6870.0 MB\n",
      "[incremental_step162_after_move] GPU mem alloc: 5088.7 MB, reserved: 6870.0 MB\n",
      "[Incremental post fw/bw] GPU mem alloc: 5088.7 MB, reserved: 6870.0 MB\n",
      "[Incremental post batch fetch] GPU mem alloc: 5088.7 MB, reserved: 6870.0 MB\n",
      "[incremental_step163_after_move] GPU mem alloc: 5088.7 MB, reserved: 6870.0 MB\n",
      "[Incremental post fw/bw] GPU mem alloc: 5088.7 MB, reserved: 6870.0 MB\n",
      "[Incremental post batch fetch] GPU mem alloc: 5088.7 MB, reserved: 6870.0 MB\n",
      "[incremental_step164_after_move] GPU mem alloc: 5088.7 MB, reserved: 6870.0 MB\n",
      "[Incremental post fw/bw] GPU mem alloc: 5088.7 MB, reserved: 6870.0 MB\n",
      "[Incremental post batch fetch] GPU mem alloc: 5088.7 MB, reserved: 6870.0 MB\n",
      "[incremental_step165_after_move] GPU mem alloc: 5088.7 MB, reserved: 6870.0 MB\n",
      "[Incremental post fw/bw] GPU mem alloc: 5088.7 MB, reserved: 6870.0 MB\n",
      "[Incremental post batch fetch] GPU mem alloc: 5088.7 MB, reserved: 6870.0 MB\n",
      "[incremental_step166_after_move] GPU mem alloc: 5088.7 MB, reserved: 6870.0 MB\n",
      "[Incremental post fw/bw] GPU mem alloc: 5088.7 MB, reserved: 6870.0 MB\n",
      "[Incremental post batch fetch] GPU mem alloc: 5088.7 MB, reserved: 6870.0 MB\n",
      "[incremental_step167_after_move] GPU mem alloc: 5088.7 MB, reserved: 6870.0 MB\n",
      "[Incremental post fw/bw] GPU mem alloc: 5088.7 MB, reserved: 6870.0 MB\n",
      "[Incremental post batch fetch] GPU mem alloc: 5088.7 MB, reserved: 6870.0 MB\n",
      "[incremental_step168_after_move] GPU mem alloc: 5088.7 MB, reserved: 6870.0 MB\n",
      "[Incremental post fw/bw] GPU mem alloc: 5088.7 MB, reserved: 6870.0 MB\n",
      "[Incremental post batch fetch] GPU mem alloc: 5088.7 MB, reserved: 6870.0 MB\n",
      "[incremental_step169_after_move] GPU mem alloc: 5088.7 MB, reserved: 6870.0 MB\n",
      "[Incremental post fw/bw] GPU mem alloc: 5088.7 MB, reserved: 6870.0 MB\n",
      "[Incremental post batch fetch] GPU mem alloc: 5088.7 MB, reserved: 6870.0 MB\n",
      "[incremental_step170_after_move] GPU mem alloc: 5088.7 MB, reserved: 6870.0 MB\n",
      "[Incremental post fw/bw] GPU mem alloc: 5088.7 MB, reserved: 6870.0 MB\n",
      "[Incremental post batch fetch] GPU mem alloc: 5088.7 MB, reserved: 6870.0 MB\n",
      "[incremental_step171_after_move] GPU mem alloc: 5088.7 MB, reserved: 6870.0 MB\n",
      "[Incremental post fw/bw] GPU mem alloc: 5088.7 MB, reserved: 6870.0 MB\n",
      "[Incremental post batch fetch] GPU mem alloc: 5088.7 MB, reserved: 6870.0 MB\n",
      "[incremental_step172_after_move] GPU mem alloc: 5088.7 MB, reserved: 6870.0 MB\n",
      "[Incremental post fw/bw] GPU mem alloc: 5088.7 MB, reserved: 6870.0 MB\n",
      "[Incremental post batch fetch] GPU mem alloc: 5088.7 MB, reserved: 6870.0 MB\n",
      "[incremental_step173_after_move] GPU mem alloc: 5088.7 MB, reserved: 6870.0 MB\n",
      "[Incremental post fw/bw] GPU mem alloc: 5088.7 MB, reserved: 6870.0 MB\n",
      "[Incremental post batch fetch] GPU mem alloc: 5088.7 MB, reserved: 6870.0 MB\n",
      "[incremental_step174_after_move] GPU mem alloc: 5088.7 MB, reserved: 6870.0 MB\n",
      "[Incremental post fw/bw] GPU mem alloc: 5088.7 MB, reserved: 6870.0 MB\n",
      "[Incremental post batch fetch] GPU mem alloc: 5088.7 MB, reserved: 6870.0 MB\n",
      "[incremental_step175_after_move] GPU mem alloc: 5088.7 MB, reserved: 6870.0 MB\n",
      "[Incremental post fw/bw] GPU mem alloc: 5088.7 MB, reserved: 6870.0 MB\n",
      "[Incremental post batch fetch] GPU mem alloc: 5088.7 MB, reserved: 6870.0 MB\n",
      "[incremental_step176_after_move] GPU mem alloc: 5088.7 MB, reserved: 6870.0 MB\n",
      "[Incremental post fw/bw] GPU mem alloc: 5088.7 MB, reserved: 6870.0 MB\n",
      "[Incremental post batch fetch] GPU mem alloc: 5088.7 MB, reserved: 6870.0 MB\n",
      "[incremental_step177_after_move] GPU mem alloc: 5088.7 MB, reserved: 6870.0 MB\n",
      "[Incremental post fw/bw] GPU mem alloc: 5088.7 MB, reserved: 6870.0 MB\n",
      "[Incremental post batch fetch] GPU mem alloc: 5088.7 MB, reserved: 6870.0 MB\n",
      "[incremental_step178_after_move] GPU mem alloc: 5088.7 MB, reserved: 6870.0 MB\n",
      "[Incremental post fw/bw] GPU mem alloc: 5088.7 MB, reserved: 6870.0 MB\n",
      "[Incremental post batch fetch] GPU mem alloc: 5088.7 MB, reserved: 6870.0 MB\n",
      "[incremental_step179_after_move] GPU mem alloc: 5088.7 MB, reserved: 6870.0 MB\n",
      "[Incremental post fw/bw] GPU mem alloc: 5088.7 MB, reserved: 6870.0 MB\n",
      "[Incremental post batch fetch] GPU mem alloc: 5088.7 MB, reserved: 6870.0 MB\n",
      "[incremental_step180_after_move] GPU mem alloc: 5088.7 MB, reserved: 6870.0 MB\n",
      "[Incremental post fw/bw] GPU mem alloc: 5088.7 MB, reserved: 6870.0 MB\n",
      "[Incremental post batch fetch] GPU mem alloc: 5088.7 MB, reserved: 6870.0 MB\n",
      "[incremental_step181_after_move] GPU mem alloc: 5088.7 MB, reserved: 6870.0 MB\n",
      "[Incremental post fw/bw] GPU mem alloc: 5088.7 MB, reserved: 6870.0 MB\n",
      "[Incremental post batch fetch] GPU mem alloc: 5088.7 MB, reserved: 6870.0 MB\n",
      "[incremental_step182_after_move] GPU mem alloc: 5088.7 MB, reserved: 6870.0 MB\n",
      "[Incremental post fw/bw] GPU mem alloc: 5088.7 MB, reserved: 6870.0 MB\n",
      "[Incremental post batch fetch] GPU mem alloc: 5088.7 MB, reserved: 6870.0 MB\n",
      "[incremental_step183_after_move] GPU mem alloc: 5088.7 MB, reserved: 6870.0 MB\n",
      "[Incremental post fw/bw] GPU mem alloc: 5088.7 MB, reserved: 6870.0 MB\n",
      "[Incremental post batch fetch] GPU mem alloc: 5088.7 MB, reserved: 6870.0 MB\n",
      "[incremental_step184_after_move] GPU mem alloc: 5088.7 MB, reserved: 6870.0 MB\n",
      "[Incremental post fw/bw] GPU mem alloc: 5088.7 MB, reserved: 6870.0 MB\n",
      "[Incremental post batch fetch] GPU mem alloc: 5088.7 MB, reserved: 6870.0 MB\n",
      "[incremental_step185_after_move] GPU mem alloc: 5088.7 MB, reserved: 6870.0 MB\n",
      "[Incremental post fw/bw] GPU mem alloc: 5088.7 MB, reserved: 6870.0 MB\n",
      "[Incremental post batch fetch] GPU mem alloc: 5088.7 MB, reserved: 6870.0 MB\n",
      "[incremental_step186_after_move] GPU mem alloc: 5088.7 MB, reserved: 6870.0 MB\n",
      "[Incremental post fw/bw] GPU mem alloc: 5088.7 MB, reserved: 6870.0 MB\n",
      "[Incremental post batch fetch] GPU mem alloc: 5088.7 MB, reserved: 6870.0 MB\n",
      "[incremental_step187_after_move] GPU mem alloc: 5088.7 MB, reserved: 6870.0 MB\n",
      "[Incremental post fw/bw] GPU mem alloc: 5088.7 MB, reserved: 6870.0 MB\n",
      "[Incremental post batch fetch] GPU mem alloc: 5088.7 MB, reserved: 6870.0 MB\n",
      "[incremental_step188_after_move] GPU mem alloc: 5088.7 MB, reserved: 6870.0 MB\n",
      "[Incremental post fw/bw] GPU mem alloc: 5088.7 MB, reserved: 6870.0 MB\n",
      "[Incremental post batch fetch] GPU mem alloc: 5088.7 MB, reserved: 6870.0 MB\n",
      "[incremental_step189_after_move] GPU mem alloc: 5088.7 MB, reserved: 6870.0 MB\n",
      "[Incremental post fw/bw] GPU mem alloc: 5088.7 MB, reserved: 6870.0 MB\n",
      "[Incremental post batch fetch] GPU mem alloc: 5088.7 MB, reserved: 6870.0 MB\n",
      "[incremental_step190_after_move] GPU mem alloc: 5088.7 MB, reserved: 6870.0 MB\n",
      "[Incremental post fw/bw] GPU mem alloc: 5088.7 MB, reserved: 6870.0 MB\n",
      "[Incremental post batch fetch] GPU mem alloc: 5088.7 MB, reserved: 6870.0 MB\n",
      "[incremental_step191_after_move] GPU mem alloc: 5088.7 MB, reserved: 6870.0 MB\n",
      "[Incremental post fw/bw] GPU mem alloc: 5088.7 MB, reserved: 6870.0 MB\n",
      "[Incremental post batch fetch] GPU mem alloc: 3817.4 MB, reserved: 6870.0 MB\n",
      "[incremental_step192_after_move] GPU mem alloc: 3817.4 MB, reserved: 6870.0 MB\n",
      "[Incremental post fw/bw] GPU mem alloc: 5088.7 MB, reserved: 6870.0 MB\n",
      "[Incremental post batch fetch] GPU mem alloc: 5088.7 MB, reserved: 6870.0 MB\n",
      "[incremental_step193_after_move] GPU mem alloc: 5088.7 MB, reserved: 6870.0 MB\n",
      "[Incremental post fw/bw] GPU mem alloc: 5088.7 MB, reserved: 6870.0 MB\n",
      "[Incremental post batch fetch] GPU mem alloc: 5088.7 MB, reserved: 6870.0 MB\n",
      "[incremental_step194_after_move] GPU mem alloc: 5088.7 MB, reserved: 6870.0 MB\n",
      "[Incremental post fw/bw] GPU mem alloc: 5088.7 MB, reserved: 6870.0 MB\n",
      "[Incremental post batch fetch] GPU mem alloc: 5088.7 MB, reserved: 6870.0 MB\n",
      "[incremental_step195_after_move] GPU mem alloc: 5088.7 MB, reserved: 6870.0 MB\n",
      "[Incremental post fw/bw] GPU mem alloc: 5088.7 MB, reserved: 6870.0 MB\n",
      "[Incremental post batch fetch] GPU mem alloc: 5088.7 MB, reserved: 6870.0 MB\n",
      "[incremental_step196_after_move] GPU mem alloc: 5088.7 MB, reserved: 6870.0 MB\n",
      "[Incremental post fw/bw] GPU mem alloc: 5088.7 MB, reserved: 6870.0 MB\n",
      "[Incremental post batch fetch] GPU mem alloc: 5088.7 MB, reserved: 6870.0 MB\n",
      "[incremental_step197_after_move] GPU mem alloc: 5088.7 MB, reserved: 6870.0 MB\n",
      "[Incremental post fw/bw] GPU mem alloc: 5088.7 MB, reserved: 6870.0 MB\n",
      "[Incremental post batch fetch] GPU mem alloc: 5088.7 MB, reserved: 6870.0 MB\n",
      "[incremental_step198_after_move] GPU mem alloc: 5088.7 MB, reserved: 6870.0 MB\n",
      "[Incremental post fw/bw] GPU mem alloc: 5088.7 MB, reserved: 6870.0 MB\n",
      "[Incremental post batch fetch] GPU mem alloc: 5088.7 MB, reserved: 6870.0 MB\n",
      "[incremental_step199_after_move] GPU mem alloc: 5088.7 MB, reserved: 6870.0 MB\n",
      "[Incremental post fw/bw] GPU mem alloc: 5088.7 MB, reserved: 6870.0 MB\n",
      "[Incremental post batch fetch] GPU mem alloc: 5088.7 MB, reserved: 6870.0 MB\n",
      "[incremental_step200_after_move] GPU mem alloc: 5088.7 MB, reserved: 6870.0 MB\n",
      "[Incremental post fw/bw] GPU mem alloc: 5088.7 MB, reserved: 6870.0 MB\n",
      "[Incremental post batch fetch] GPU mem alloc: 5088.7 MB, reserved: 6870.0 MB\n",
      "[incremental_step201_after_move] GPU mem alloc: 5088.7 MB, reserved: 6870.0 MB\n",
      "[Incremental post fw/bw] GPU mem alloc: 5088.7 MB, reserved: 6870.0 MB\n",
      "[Incremental post batch fetch] GPU mem alloc: 5088.7 MB, reserved: 6870.0 MB\n",
      "[incremental_step202_after_move] GPU mem alloc: 5088.7 MB, reserved: 6870.0 MB\n",
      "[Incremental post fw/bw] GPU mem alloc: 5088.7 MB, reserved: 6870.0 MB\n",
      "[Incremental post batch fetch] GPU mem alloc: 5088.7 MB, reserved: 6870.0 MB\n",
      "[incremental_step203_after_move] GPU mem alloc: 5088.7 MB, reserved: 6870.0 MB\n",
      "[Incremental post fw/bw] GPU mem alloc: 5088.7 MB, reserved: 6870.0 MB\n",
      "[Incremental post batch fetch] GPU mem alloc: 5088.7 MB, reserved: 6870.0 MB\n",
      "[incremental_step204_after_move] GPU mem alloc: 5088.7 MB, reserved: 6870.0 MB\n",
      "[Incremental post fw/bw] GPU mem alloc: 5088.7 MB, reserved: 6870.0 MB\n",
      "[Incremental post batch fetch] GPU mem alloc: 5088.7 MB, reserved: 6870.0 MB\n",
      "[incremental_step205_after_move] GPU mem alloc: 5088.7 MB, reserved: 6870.0 MB\n",
      "[Incremental post fw/bw] GPU mem alloc: 5088.7 MB, reserved: 6870.0 MB\n",
      "[Incremental post batch fetch] GPU mem alloc: 5088.7 MB, reserved: 6870.0 MB\n",
      "[incremental_step206_after_move] GPU mem alloc: 5088.7 MB, reserved: 6870.0 MB\n",
      "[Incremental post fw/bw] GPU mem alloc: 5088.7 MB, reserved: 6870.0 MB\n",
      "[Incremental post batch fetch] GPU mem alloc: 5088.7 MB, reserved: 6870.0 MB\n",
      "[incremental_step207_after_move] GPU mem alloc: 5088.7 MB, reserved: 6870.0 MB\n",
      "[Incremental post fw/bw] GPU mem alloc: 5088.7 MB, reserved: 6870.0 MB\n",
      "[Incremental post batch fetch] GPU mem alloc: 5088.7 MB, reserved: 6870.0 MB\n",
      "[incremental_step208_after_move] GPU mem alloc: 5088.7 MB, reserved: 6870.0 MB\n",
      "[Incremental post fw/bw] GPU mem alloc: 5088.7 MB, reserved: 6870.0 MB\n",
      "[Incremental post batch fetch] GPU mem alloc: 5088.7 MB, reserved: 6870.0 MB\n",
      "[incremental_step209_after_move] GPU mem alloc: 5088.7 MB, reserved: 6870.0 MB\n",
      "[Incremental post fw/bw] GPU mem alloc: 5088.7 MB, reserved: 6870.0 MB\n",
      "[Incremental post batch fetch] GPU mem alloc: 5088.7 MB, reserved: 6870.0 MB\n",
      "[incremental_step210_after_move] GPU mem alloc: 5088.7 MB, reserved: 6870.0 MB\n",
      "[Incremental post fw/bw] GPU mem alloc: 5088.7 MB, reserved: 6870.0 MB\n",
      "[Incremental post batch fetch] GPU mem alloc: 5088.7 MB, reserved: 6870.0 MB\n",
      "[incremental_step211_after_move] GPU mem alloc: 5088.7 MB, reserved: 6870.0 MB\n",
      "[Incremental post fw/bw] GPU mem alloc: 5088.7 MB, reserved: 6870.0 MB\n",
      "[Incremental post batch fetch] GPU mem alloc: 5088.7 MB, reserved: 6870.0 MB\n",
      "[incremental_step212_after_move] GPU mem alloc: 5088.7 MB, reserved: 6870.0 MB\n",
      "[Incremental post fw/bw] GPU mem alloc: 5088.7 MB, reserved: 6870.0 MB\n",
      "[Incremental post batch fetch] GPU mem alloc: 5088.7 MB, reserved: 6870.0 MB\n",
      "[incremental_step213_after_move] GPU mem alloc: 5088.7 MB, reserved: 6870.0 MB\n",
      "[Incremental post fw/bw] GPU mem alloc: 5088.7 MB, reserved: 6870.0 MB\n",
      "[Incremental post batch fetch] GPU mem alloc: 5088.7 MB, reserved: 6870.0 MB\n",
      "[incremental_step214_after_move] GPU mem alloc: 5088.7 MB, reserved: 6870.0 MB\n",
      "[Incremental post fw/bw] GPU mem alloc: 5088.7 MB, reserved: 6870.0 MB\n",
      "[Incremental post batch fetch] GPU mem alloc: 5088.7 MB, reserved: 6870.0 MB\n",
      "[incremental_step215_after_move] GPU mem alloc: 5088.7 MB, reserved: 6870.0 MB\n",
      "[Incremental post fw/bw] GPU mem alloc: 5088.7 MB, reserved: 6870.0 MB\n",
      "[Incremental post batch fetch] GPU mem alloc: 5088.7 MB, reserved: 6870.0 MB\n",
      "[incremental_step216_after_move] GPU mem alloc: 5088.7 MB, reserved: 6870.0 MB\n",
      "[Incremental post fw/bw] GPU mem alloc: 5088.7 MB, reserved: 6870.0 MB\n",
      "[Incremental post batch fetch] GPU mem alloc: 5088.7 MB, reserved: 6870.0 MB\n",
      "[incremental_step217_after_move] GPU mem alloc: 5088.7 MB, reserved: 6870.0 MB\n",
      "[Incremental post fw/bw] GPU mem alloc: 5088.7 MB, reserved: 6870.0 MB\n",
      "[Incremental post batch fetch] GPU mem alloc: 5088.7 MB, reserved: 6870.0 MB\n",
      "[incremental_step218_after_move] GPU mem alloc: 5088.7 MB, reserved: 6870.0 MB\n"
     ]
    },
    {
     "ename": "KeyboardInterrupt",
     "evalue": "",
     "output_type": "error",
     "traceback": [
      "\u001b[1;31m---------------------------------------------------------------------------\u001b[0m",
      "\u001b[1;31mKeyboardInterrupt\u001b[0m                         Traceback (most recent call last)",
      "Cell \u001b[1;32mIn[2], line 16\u001b[0m\n\u001b[0;32m     14\u001b[0m wandb\u001b[38;5;241m.\u001b[39minit(project\u001b[38;5;241m=\u001b[39m\u001b[38;5;124m'\u001b[39m\u001b[38;5;124mtiming-comparison\u001b[39m\u001b[38;5;124m'\u001b[39m, reinit\u001b[38;5;241m=\u001b[39m\u001b[38;5;28;01mTrue\u001b[39;00m)\n\u001b[0;32m     15\u001b[0m start \u001b[38;5;241m=\u001b[39m time\u001b[38;5;241m.\u001b[39mtime()\n\u001b[1;32m---> 16\u001b[0m \u001b[43mincremental_trainer\u001b[49m\u001b[38;5;241;43m.\u001b[39;49m\u001b[43mmain\u001b[49m\u001b[43m(\u001b[49m\u001b[43m)\u001b[49m\n\u001b[0;32m     17\u001b[0m inc_duration \u001b[38;5;241m=\u001b[39m time\u001b[38;5;241m.\u001b[39mtime() \u001b[38;5;241m-\u001b[39m start\n\u001b[0;32m     18\u001b[0m inc_hist \u001b[38;5;241m=\u001b[39m run_inc\u001b[38;5;241m.\u001b[39mhistory(keys\u001b[38;5;241m=\u001b[39m[\u001b[38;5;124m\"\u001b[39m\u001b[38;5;124mincremental_fwbw_reserved\u001b[39m\u001b[38;5;124m\"\u001b[39m]) \u001b[38;5;129;01mor\u001b[39;00m {}\n",
      "File \u001b[1;32mC:\\Projects\\jetbot-diffusion-world-model-kong-finder\\incremental_training.py:181\u001b[0m, in \u001b[0;36mmain\u001b[1;34m()\u001b[0m\n\u001b[0;32m    179\u001b[0m ckpt_path \u001b[38;5;241m=\u001b[39m os\u001b[38;5;241m.\u001b[39mpath\u001b[38;5;241m.\u001b[39mjoin(config\u001b[38;5;241m.\u001b[39mCHECKPOINT_DIR, \u001b[38;5;124m'\u001b[39m\u001b[38;5;124mdenoiser_model_best_val_loss.pth\u001b[39m\u001b[38;5;124m'\u001b[39m)\n\u001b[0;32m    180\u001b[0m \u001b[38;5;28mprint\u001b[39m(\u001b[38;5;124m\"\u001b[39m\u001b[38;5;124mStarting training\u001b[39m\u001b[38;5;124m\"\u001b[39m)\n\u001b[1;32m--> 181\u001b[0m new_ckpt \u001b[38;5;241m=\u001b[39m \u001b[43mtrain_diamond_model\u001b[49m\u001b[43m(\u001b[49m\n\u001b[0;32m    182\u001b[0m \u001b[43m    \u001b[49m\u001b[43mtrain_loader\u001b[49m\u001b[43m,\u001b[49m\n\u001b[0;32m    183\u001b[0m \u001b[43m    \u001b[49m\u001b[43mval_loader\u001b[49m\u001b[43m,\u001b[49m\n\u001b[0;32m    184\u001b[0m \u001b[43m    \u001b[49m\u001b[38;5;28;43mlen\u001b[39;49m\u001b[43m(\u001b[49m\u001b[43mfresh_ds\u001b[49m\u001b[43m)\u001b[49m\u001b[43m,\u001b[49m\n\u001b[0;32m    185\u001b[0m \u001b[43m    \u001b[49m\u001b[43mstart_checkpoint\u001b[49m\u001b[38;5;241;43m=\u001b[39;49m\u001b[43mckpt_path\u001b[49m\n\u001b[0;32m    186\u001b[0m \u001b[43m\u001b[49m\u001b[43m)\u001b[49m\n\u001b[0;32m    187\u001b[0m \u001b[38;5;28mprint\u001b[39m(\u001b[38;5;124m\"\u001b[39m\u001b[38;5;124mTraining Complete\u001b[39m\u001b[38;5;124m\"\u001b[39m)\n\u001b[0;32m    189\u001b[0m \u001b[38;5;66;03m# Step 3: compare old best with the newly trained checkpoint\u001b[39;00m\n",
      "File \u001b[1;32mC:\\Projects\\jetbot-diffusion-world-model-kong-finder\\diamond_world_model_trainer.py:571\u001b[0m, in \u001b[0;36mtrain_diamond_model\u001b[1;34m(train_loader, val_loader, fresh_dataset_size, start_checkpoint)\u001b[0m\n\u001b[0;32m    569\u001b[0m train_loss_val \u001b[38;5;241m=\u001b[39m loss\u001b[38;5;241m.\u001b[39mitem()\n\u001b[0;32m    570\u001b[0m loss \u001b[38;5;241m=\u001b[39m loss \u001b[38;5;241m/\u001b[39m config\u001b[38;5;241m.\u001b[39mACCUMULATION_STEPS\n\u001b[1;32m--> 571\u001b[0m \u001b[43mloss\u001b[49m\u001b[38;5;241;43m.\u001b[39;49m\u001b[43mbackward\u001b[49m\u001b[43m(\u001b[49m\u001b[43m)\u001b[49m\n\u001b[0;32m    572\u001b[0m fw_bw_duration \u001b[38;5;241m=\u001b[39m time\u001b[38;5;241m.\u001b[39mperf_counter() \u001b[38;5;241m-\u001b[39m fw_bw_start\n\u001b[0;32m    573\u001b[0m fw_bw_allocated, fw_bw_reserved \u001b[38;5;241m=\u001b[39m log_gpu_memory(\u001b[38;5;124m\"\u001b[39m\u001b[38;5;124mIncremental post fw/bw\u001b[39m\u001b[38;5;124m\"\u001b[39m)\n",
      "File \u001b[1;32mC:\\Projects\\pythonenv-deeprl\\Lib\\site-packages\\torch\\_tensor.py:522\u001b[0m, in \u001b[0;36mTensor.backward\u001b[1;34m(self, gradient, retain_graph, create_graph, inputs)\u001b[0m\n\u001b[0;32m    512\u001b[0m \u001b[38;5;28;01mif\u001b[39;00m has_torch_function_unary(\u001b[38;5;28mself\u001b[39m):\n\u001b[0;32m    513\u001b[0m     \u001b[38;5;28;01mreturn\u001b[39;00m handle_torch_function(\n\u001b[0;32m    514\u001b[0m         Tensor\u001b[38;5;241m.\u001b[39mbackward,\n\u001b[0;32m    515\u001b[0m         (\u001b[38;5;28mself\u001b[39m,),\n\u001b[1;32m   (...)\u001b[0m\n\u001b[0;32m    520\u001b[0m         inputs\u001b[38;5;241m=\u001b[39minputs,\n\u001b[0;32m    521\u001b[0m     )\n\u001b[1;32m--> 522\u001b[0m \u001b[43mtorch\u001b[49m\u001b[38;5;241;43m.\u001b[39;49m\u001b[43mautograd\u001b[49m\u001b[38;5;241;43m.\u001b[39;49m\u001b[43mbackward\u001b[49m\u001b[43m(\u001b[49m\n\u001b[0;32m    523\u001b[0m \u001b[43m    \u001b[49m\u001b[38;5;28;43mself\u001b[39;49m\u001b[43m,\u001b[49m\u001b[43m \u001b[49m\u001b[43mgradient\u001b[49m\u001b[43m,\u001b[49m\u001b[43m \u001b[49m\u001b[43mretain_graph\u001b[49m\u001b[43m,\u001b[49m\u001b[43m \u001b[49m\u001b[43mcreate_graph\u001b[49m\u001b[43m,\u001b[49m\u001b[43m \u001b[49m\u001b[43minputs\u001b[49m\u001b[38;5;241;43m=\u001b[39;49m\u001b[43minputs\u001b[49m\n\u001b[0;32m    524\u001b[0m \u001b[43m\u001b[49m\u001b[43m)\u001b[49m\n",
      "File \u001b[1;32mC:\\Projects\\pythonenv-deeprl\\Lib\\site-packages\\torch\\autograd\\__init__.py:266\u001b[0m, in \u001b[0;36mbackward\u001b[1;34m(tensors, grad_tensors, retain_graph, create_graph, grad_variables, inputs)\u001b[0m\n\u001b[0;32m    261\u001b[0m     retain_graph \u001b[38;5;241m=\u001b[39m create_graph\n\u001b[0;32m    263\u001b[0m \u001b[38;5;66;03m# The reason we repeat the same comment below is that\u001b[39;00m\n\u001b[0;32m    264\u001b[0m \u001b[38;5;66;03m# some Python versions print out the first line of a multi-line function\u001b[39;00m\n\u001b[0;32m    265\u001b[0m \u001b[38;5;66;03m# calls in the traceback and some print out the last line\u001b[39;00m\n\u001b[1;32m--> 266\u001b[0m \u001b[43mVariable\u001b[49m\u001b[38;5;241;43m.\u001b[39;49m\u001b[43m_execution_engine\u001b[49m\u001b[38;5;241;43m.\u001b[39;49m\u001b[43mrun_backward\u001b[49m\u001b[43m(\u001b[49m\u001b[43m  \u001b[49m\u001b[38;5;66;43;03m# Calls into the C++ engine to run the backward pass\u001b[39;49;00m\n\u001b[0;32m    267\u001b[0m \u001b[43m    \u001b[49m\u001b[43mtensors\u001b[49m\u001b[43m,\u001b[49m\n\u001b[0;32m    268\u001b[0m \u001b[43m    \u001b[49m\u001b[43mgrad_tensors_\u001b[49m\u001b[43m,\u001b[49m\n\u001b[0;32m    269\u001b[0m \u001b[43m    \u001b[49m\u001b[43mretain_graph\u001b[49m\u001b[43m,\u001b[49m\n\u001b[0;32m    270\u001b[0m \u001b[43m    \u001b[49m\u001b[43mcreate_graph\u001b[49m\u001b[43m,\u001b[49m\n\u001b[0;32m    271\u001b[0m \u001b[43m    \u001b[49m\u001b[43minputs\u001b[49m\u001b[43m,\u001b[49m\n\u001b[0;32m    272\u001b[0m \u001b[43m    \u001b[49m\u001b[43mallow_unreachable\u001b[49m\u001b[38;5;241;43m=\u001b[39;49m\u001b[38;5;28;43;01mTrue\u001b[39;49;00m\u001b[43m,\u001b[49m\n\u001b[0;32m    273\u001b[0m \u001b[43m    \u001b[49m\u001b[43maccumulate_grad\u001b[49m\u001b[38;5;241;43m=\u001b[39;49m\u001b[38;5;28;43;01mTrue\u001b[39;49;00m\u001b[43m,\u001b[49m\n\u001b[0;32m    274\u001b[0m \u001b[43m\u001b[49m\u001b[43m)\u001b[49m\n",
      "\u001b[1;31mKeyboardInterrupt\u001b[0m: "
     ]
    }
   ],
   "source": [
    "gc.collect()\n",
    "torch.cuda.empty_cache()\n",
    "\n",
    "config.OUTPUT_DIR = os.path.join(config.AUXILIARY_DIR, 'output_model_2hz_DIAMOND_laundry_incremental_test')\n",
    "config.DATA_DIR = os.path.join(config.AUXILIARY_DIR, 'jetbot_data_two_actions_incremental_test')\n",
    "config.IMAGE_DIR = os.path.join(config.DATA_DIR, 'images')\n",
    "config.CSV_PATH = os.path.join(config.DATA_DIR, 'laundry_data_incremental_test.csv')\n",
    "config.EARLY_STOPPING_PATIENCE = 1\n",
    "\n",
    "if os.path.exists(config.OUTPUT_DIR):\n",
    "    shutil.rmtree(config.OUTPUT_DIR)\n",
    "os.makedirs(config.OUTPUT_DIR, exist_ok=True)\n",
    "\n",
    "wandb.init(project='timing-comparison', reinit=True)\n",
    "start = time.time()\n",
    "incremental_trainer.main()\n",
    "inc_duration = time.time() - start\n",
    "inc_hist = run_inc.history(keys=[\"incremental_fwbw_reserved\"]) or {}\n",
    "inc_peak_reserved = None\n",
    "if hasattr(inc_hist, \"__getitem__\"):\n",
    "    try:\n",
    "        inc_peak_reserved = inc_hist[\"incremental_fwbw_reserved\"].max()\n",
    "    except Exception:\n",
    "        inc_peak_reserved = None\n",
    "wandb.finish()"
   ]
  },
  {
   "cell_type": "markdown",
   "id": "076c3528",
   "metadata": {},
   "source": [
    "### Run `_main_training` on non-incremental dataset"
   ]
  },
  {
   "cell_type": "code",
   "execution_count": null,
   "id": "12c087cd",
   "metadata": {
    "scrolled": true
   },
   "outputs": [],
   "source": [
    "gc.collect()\n",
    "torch.cuda.empty_cache()\n",
    "\n",
    "config.OUTPUT_DIR = os.path.join(config.AUXILIARY_DIR, 'output_model_2hz_DIAMOND_laundry_nonincremental_test')\n",
    "config.DATA_DIR = os.path.join(config.AUXILIARY_DIR, 'jetbot_data_two_actions_nonincremental_test')\n",
    "config.IMAGE_DIR = os.path.join(config.DATA_DIR, 'images')\n",
    "config.CSV_PATH = os.path.join(config.DATA_DIR, 'laundry_data_incremental_test.csv')\n",
    "config.NUM_EPOCHS = 1\n",
    "\n",
    "if os.path.exists(config.OUTPUT_DIR):\n",
    "    shutil.rmtree(config.OUTPUT_DIR)\n",
    "os.makedirs(config.OUTPUT_DIR, exist_ok=True)\n",
    "\n",
    "start = time.time()\n",
    "trainer_run = trainer._main_training(finish_run=False)\n",
    "noninc_duration = time.time() - start\n",
    "noninc_hist = trainer_run.history(keys=[\"nonincremental_fwbw_reserved\"]) or {}\n",
    "noninc_peak_reserved = None\n",
    "if hasattr(noninc_hist, \"__getitem__\"):\n",
    "    try:\n",
    "        noninc_peak_reserved = noninc_hist[\"nonincremental_fwbw_reserved\"].max()\n",
    "    except Exception:\n",
    "        noninc_peak_reserved = None\n",
    "wandb.finish()"
   ]
  },
  {
   "cell_type": "markdown",
   "id": "40e83a0e",
   "metadata": {},
   "source": [
    "### Compare timings"
   ]
  },
  {
   "cell_type": "code",
   "execution_count": null,
   "id": "96a9c2fb",
   "metadata": {},
   "outputs": [],
   "source": [
    "import pandas as pd\n",
    "\n",
    "comparison_df = pd.DataFrame({\n",
    "    'run': ['non_incremental', 'incremental'],\n",
    "    'duration_sec': [noninc_duration, inc_duration],\n",
    "    'peak_reserved_mb': [noninc_peak_reserved, inc_peak_reserved]\n",
    "})\n",
    "comparison_df"
   ]
  }
 ],
 "metadata": {
  "kernelspec": {
   "display_name": "Python 3 (ipykernel)",
   "language": "python",
   "name": "python3"
  },
  "language_info": {
   "codemirror_mode": {
    "name": "ipython",
    "version": 3
   },
   "file_extension": ".py",
   "mimetype": "text/x-python",
   "name": "python",
   "nbconvert_exporter": "python",
   "pygments_lexer": "ipython3",
   "version": "3.11.9"
  }
 },
 "nbformat": 4,
 "nbformat_minor": 5
}
