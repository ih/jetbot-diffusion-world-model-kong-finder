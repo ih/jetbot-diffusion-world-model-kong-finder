{
 "cells": [
  {
   "cell_type": "markdown",
   "id": "71e0a542",
   "metadata": {},
   "source": [
    "## Timing Comparison for Training Loops"
   ]
  },
  {
   "cell_type": "code",
   "execution_count": null,
   "id": "1ee0cb78",
   "metadata": {},
   "outputs": [],
   "source": [
    "\n",
    "import wandb\n",
    "import config\n",
    "import diamond_world_model_trainer as trainer\n",
    "\n",
    "wandb.init(project='timing-comparison', reinit=True)\n"
   ]
  },
  {
   "cell_type": "markdown",
   "id": "076c3528",
   "metadata": {},
   "source": [
    "### Run `_main_training` on non-incremental dataset"
   ]
  },
  {
   "cell_type": "code",
   "execution_count": null,
   "id": "12c087cd",
   "metadata": {},
   "outputs": [],
   "source": [
    "\n",
    "config.DATA_DIR = 'jetbot_data_two_actions_nonincremental_test'\n",
    "config.NUM_EPOCHS = 1\n",
    "trainer._main_training()\n",
    "noninc_table = wandb.run.history[-1].get('train_epoch_perf')\n"
   ]
  },
  {
   "cell_type": "markdown",
   "id": "869c7037",
   "metadata": {},
   "source": [
    "### Run `train_diamond_model` on incremental dataset"
   ]
  },
  {
   "cell_type": "code",
   "execution_count": null,
   "id": "424a18c3",
   "metadata": {},
   "outputs": [],
   "source": [
    "\n",
    "config.DATA_DIR = 'jetbot_data_two_actions_incremental_test'\n",
    "train_loader = None  # TODO: provide DataLoader\n",
    "val_loader = None\n",
    "fresh_dataset_size = 200\n",
    "trainer.train_diamond_model(train_loader, val_loader, fresh_dataset_size)\n",
    "inc_table = wandb.run.history[-1].get('incremental_perf')\n"
   ]
  },
  {
   "cell_type": "markdown",
   "id": "40e83a0e",
   "metadata": {},
   "source": [
    "### Compare timings"
   ]
  },
  {
   "cell_type": "code",
   "execution_count": null,
   "id": "96a9c2fb",
   "metadata": {},
   "outputs": [],
   "source": [
    "\n",
    "import pandas as pd\n",
    "\n",
    "if noninc_table is not None and inc_table is not None:\n",
    "    df_non = pd.DataFrame(noninc_table.data, columns=noninc_table.columns)\n",
    "    df_inc = pd.DataFrame(inc_table.data, columns=inc_table.columns)\n",
    "    display(df_non.describe())\n",
    "    display(df_inc.describe())\n"
   ]
  }
 ],
 "metadata": {},
 "nbformat": 4,
 "nbformat_minor": 5
}
