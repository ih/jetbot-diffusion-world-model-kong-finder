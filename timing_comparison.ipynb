{
 "cells": [
  {
   "cell_type": "markdown",
   "id": "71e0a542",
   "metadata": {},
   "source": [
    "## Timing Comparison for Training Loops"
   ]
  },
  {
   "cell_type": "code",
   "execution_count": null,
   "id": "1ee0cb78",
   "metadata": {},
   "outputs": [],
   "source": [
    "import wandb\n",
    "import config\n",
    "import diamond_world_model_trainer as trainer\n",
    "import incremental_training as incremental_trainer\n",
    "import os\n",
    "import shutil\n",
    "import time\n",
    "\n",
    "run = wandb.init(project='timing-comparison', reinit=True)"
   ]
  },
  {
   "cell_type": "markdown",
   "id": "076c3528",
   "metadata": {},
   "source": [
    "### Run `_main_training` on non-incremental dataset"
   ]
  },
  {
   "cell_type": "code",
   "execution_count": null,
   "id": "12c087cd",
   "metadata": {
    "scrolled": true
   },
   "outputs": [],
   "source": [
    "config.OUTPUT_DIR = os.path.join(config.AUXILIARY_DIR, 'output_model_2hz_DIAMOND_laundry_nonincremental_test')\n",
    "config.DATA_DIR = os.path.join(config.AUXILIARY_DIR, 'jetbot_data_two_actions_nonincremental_test')\n",
    "config.NUM_EPOCHS = 1\n",
    "\n",
    "if os.path.exists(config.OUTPUT_DIR):\n",
    "    shutil.rmtree(config.OUTPUT_DIR)\n",
    "os.makedirs(config.OUTPUT_DIR, exist_ok=True)\n",
    "\n",
    "start = time.time()\n",
    "trainer_run = trainer._main_training(finish_run=False)\n",
    "noninc_duration = time.time() - start\n",
    "wandb.finish()"
   ]
  },
  {
   "cell_type": "markdown",
   "id": "869c7037",
   "metadata": {},
   "source": [
    "### Run `train_diamond_model` on incremental dataset"
   ]
  },
  {
   "cell_type": "code",
   "execution_count": null,
   "id": "424a18c3",
   "metadata": {},
   "outputs": [],
   "source": [
    "config.OUTPUT_DIR = os.path.join(config.AUXILIARY_DIR, 'output_model_2hz_DIAMOND_laundry_incremental_test')\n",
    "config.DATA_DIR = os.path.join(config.AUXILIARY_DIR, 'jetbot_data_two_actions_incremental_test')\n",
    "\n",
    "if os.path.exists(config.OUTPUT_DIR):\n",
    "    shutil.rmtree(config.OUTPUT_DIR)\n",
    "os.makedirs(config.OUTPUT_DIR, exist_ok=True)\n",
    "\n",
    "wandb.init(project='timing-comparison', reinit=True)\n",
    "start = time.time()\n",
    "incremental_trainer.main()\n",
    "inc_duration = time.time() - start\n",
    "wandb.finish()"
   ]
  },
  {
   "cell_type": "markdown",
   "id": "40e83a0e",
   "metadata": {},
   "source": [
    "### Compare timings"
   ]
  },
  {
   "cell_type": "code",
   "execution_count": null,
   "id": "96a9c2fb",
   "metadata": {},
   "outputs": [],
   "source": [
    "import pandas as pd\n",
    "\n",
    "comparison_df = pd.DataFrame({\n",
    "    'run': ['non_incremental', 'incremental'],\n",
    "    'duration_sec': [noninc_duration, inc_duration]\n",
    "})\n",
    "comparison_df"
   ]
  }
 ],
 "metadata": {
  "kernelspec": {
   "display_name": "Python 3 (ipykernel)",
   "language": "python",
   "name": "python3"
  },
  "language_info": {
   "codemirror_mode": {
    "name": "ipython",
    "version": 3
   },
   "file_extension": ".py",
   "mimetype": "text/x-python",
   "name": "python",
   "nbconvert_exporter": "python",
   "pygments_lexer": "ipython3",
   "version": "3.11.9"
  }
 },
 "nbformat": 4,
 "nbformat_minor": 5
}
