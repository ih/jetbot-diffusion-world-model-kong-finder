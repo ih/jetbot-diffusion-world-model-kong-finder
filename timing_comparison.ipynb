{
 "cells": [
  {
   "cell_type": "markdown",
   "id": "71e0a542",
   "metadata": {},
   "source": [
    "## Timing Comparison for Training Loops"
   ]
  },
  {
   "cell_type": "code",
   "execution_count": 1,
   "id": "1ee0cb78",
   "metadata": {
    "scrolled": true
   },
   "outputs": [
    {
     "name": "stdout",
     "output_type": "stream",
     "text": [
      "Imports successful.\n",
      "Visualization helpers defined.\n",
      "Training and validation epoch functions adapted for Batch object and Denoiser.forward.\n"
     ]
    },
    {
     "name": "stderr",
     "output_type": "stream",
     "text": [
      "wandb: ERROR Failed to detect the name of this notebook. You can set it manually with the WANDB_NOTEBOOK_NAME environment variable to enable code saving.\n",
      "wandb: Currently logged in as: irvin-hwang (irvin-hwang-simulacra-systems) to https://api.wandb.ai. Use `wandb login --relogin` to force relogin\n",
      "wandb: WARNING Using a boolean value for 'reinit' is deprecated. Use 'return_previous' or 'finish_previous' instead.\n"
     ]
    },
    {
     "data": {
      "text/html": [
       "Tracking run with wandb version 0.19.11"
      ],
      "text/plain": [
       "<IPython.core.display.HTML object>"
      ]
     },
     "metadata": {},
     "output_type": "display_data"
    },
    {
     "data": {
      "text/html": [
       "Run data is saved locally in <code>C:\\Projects\\jetbot-diffusion-world-model-kong-finder\\wandb\\run-20250721_150730-cjr123id</code>"
      ],
      "text/plain": [
       "<IPython.core.display.HTML object>"
      ]
     },
     "metadata": {},
     "output_type": "display_data"
    },
    {
     "data": {
      "text/html": [
       "Syncing run <strong><a href='https://wandb.ai/irvin-hwang-simulacra-systems/timing-comparison/runs/cjr123id' target=\"_blank\">crimson-smoke-25</a></strong> to <a href='https://wandb.ai/irvin-hwang-simulacra-systems/timing-comparison' target=\"_blank\">Weights & Biases</a> (<a href='https://wandb.me/developer-guide' target=\"_blank\">docs</a>)<br>"
      ],
      "text/plain": [
       "<IPython.core.display.HTML object>"
      ]
     },
     "metadata": {},
     "output_type": "display_data"
    },
    {
     "data": {
      "text/html": [
       " View project at <a href='https://wandb.ai/irvin-hwang-simulacra-systems/timing-comparison' target=\"_blank\">https://wandb.ai/irvin-hwang-simulacra-systems/timing-comparison</a>"
      ],
      "text/plain": [
       "<IPython.core.display.HTML object>"
      ]
     },
     "metadata": {},
     "output_type": "display_data"
    },
    {
     "data": {
      "text/html": [
       " View run at <a href='https://wandb.ai/irvin-hwang-simulacra-systems/timing-comparison/runs/cjr123id' target=\"_blank\">https://wandb.ai/irvin-hwang-simulacra-systems/timing-comparison/runs/cjr123id</a>"
      ],
      "text/plain": [
       "<IPython.core.display.HTML object>"
      ]
     },
     "metadata": {},
     "output_type": "display_data"
    }
   ],
   "source": [
    "import wandb\n",
    "import config\n",
    "import diamond_world_model_trainer as trainer\n",
    "import incremental_training as incremental_trainer\n",
    "import os\n",
    "import shutil\n",
    "import time\n",
    "import gc\n",
    "import torch\n",
    "\n",
    "run = wandb.init(project='timing-comparison', reinit=True)"
   ]
  },
  {
   "cell_type": "markdown",
   "id": "076c3528",
   "metadata": {},
   "source": [
    "### Run `_main_training` on non-incremental dataset"
   ]
  },
  {
   "cell_type": "code",
   "execution_count": 2,
   "id": "12c087cd",
   "metadata": {
    "scrolled": true
   },
   "outputs": [
    {
     "name": "stdout",
     "output_type": "stream",
     "text": [
      "--- Main Training Execution --- \n",
      "--- Configuration ---\n",
      "Using device: cuda\n",
      "Configuration loaded for _main_training.\n",
      "--- Initializing Models for _main_training ---\n",
      "Denoiser model created for _main_training. Total parameter count: 330,464,131\n",
      "DiffusionSampler created for visualization in _main_training.\n",
      "--- Setting up Optimizer and Scheduler for _main_training ---\n",
      "Optimizer: AdamW with LR=0.0001\n",
      "LR Scheduler: LambdaLR with 100 warmup steps.\n",
      "Wandb watching denoiser model.\n",
      "No checkpoint found or specified for _main_training. Starting fresh.\n",
      "Loaded combined CSV with columns: ['session_id', 'image_path', 'timestamp', 'action']\n",
      "Full dataset size: 591\n",
      "Creating new train/val split...\n",
      "Saved new dataset split to C:\\Projects\\jetbot-diffusion-world-model-kong-finder-aux\\output_model_2hz_DIAMOND_laundry_nonincremental_test\\dataset_split.pth\n",
      "Training dataset size: 531, Validation dataset size: 60\n",
      "Preparing filtered validation subsets for visualization...\n",
      "Filtering dataset with 60 samples for actions: [0.0]\n"
     ]
    },
    {
     "data": {
      "application/vnd.jupyter.widget-view+json": {
       "model_id": "0804f3481a8941d0ad50b3dfd7164b6a",
       "version_major": 2,
       "version_minor": 0
      },
      "text/plain": [
       "Filtering Dataset:   0%|          | 0/60 [00:00<?, ?it/s]"
      ]
     },
     "metadata": {},
     "output_type": "display_data"
    },
    {
     "name": "stdout",
     "output_type": "stream",
     "text": [
      "Filtered down to 30 samples.\n",
      "Filtering dataset with 60 samples for actions: [0.13]\n"
     ]
    },
    {
     "data": {
      "application/vnd.jupyter.widget-view+json": {
       "model_id": "463fff3d85584f37b3bd5eb89e2e208e",
       "version_major": 2,
       "version_minor": 0
      },
      "text/plain": [
       "Filtering Dataset:   0%|          | 0/60 [00:00<?, ?it/s]"
      ]
     },
     "metadata": {},
     "output_type": "display_data"
    },
    {
     "name": "stdout",
     "output_type": "stream",
     "text": [
      "Filtered down to 30 samples.\n",
      "Found 30 stopped and 30 moving samples.\n",
      "--- Starting Training Process in _main_training ---\n"
     ]
    },
    {
     "data": {
      "application/vnd.jupyter.widget-view+json": {
       "model_id": "355f46f107c14ca287e619b79fccb29b",
       "version_major": 2,
       "version_minor": 0
      },
      "text/plain": [
       "Epoch 1 [Train]:   0%|          | 0/265 [00:00<?, ?it/s]"
      ]
     },
     "metadata": {},
     "output_type": "display_data"
    },
    {
     "data": {
      "application/vnd.jupyter.widget-view+json": {
       "model_id": "54dd5caf0cd7432d86de55b994386fe1",
       "version_major": 2,
       "version_minor": 0
      },
      "text/plain": [
       "Epoch 1 [Valid]:   0%|          | 0/30 [00:15<?, ?it/s]"
      ]
     },
     "metadata": {},
     "output_type": "display_data"
    },
    {
     "name": "stdout",
     "output_type": "stream",
     "text": [
      "About to enter validation loop\n",
      "Sending batch 0 to denoiser\n",
      "Sending batch 1 to denoiser\n",
      "Sending batch 2 to denoiser\n",
      "Sending batch 3 to denoiser\n",
      "Sending batch 4 to denoiser\n",
      "Sending batch 5 to denoiser\n",
      "Sending batch 6 to denoiser\n",
      "Sending batch 7 to denoiser\n",
      "Sending batch 8 to denoiser\n",
      "Sending batch 9 to denoiser\n",
      "Sending batch 10 to denoiser\n",
      "Sending batch 11 to denoiser\n",
      "Sending batch 12 to denoiser\n",
      "Sending batch 13 to denoiser\n",
      "Sending batch 14 to denoiser\n",
      "Sending batch 15 to denoiser\n",
      "Sending batch 16 to denoiser\n",
      "Sending batch 17 to denoiser\n",
      "Sending batch 18 to denoiser\n",
      "Sending batch 19 to denoiser\n",
      "Sending batch 20 to denoiser\n",
      "Sending batch 21 to denoiser\n",
      "Sending batch 22 to denoiser\n",
      "Sending batch 23 to denoiser\n",
      "Sending batch 24 to denoiser\n",
      "Sending batch 25 to denoiser\n",
      "Sending batch 26 to denoiser\n",
      "Sending batch 27 to denoiser\n",
      "Sending batch 28 to denoiser\n",
      "Sending batch 29 to denoiser\n",
      "Validation for epoch 1 took 32.66s\n",
      "Epoch 1/1 - Train Loss: 0.7539 (MA: 0.7539), Val Loss: 0.8077 (MA: 0.8077), Duration: 0:01:22.925529\n",
      "  Val Loss MA improved to 0.807709 from inf (nan% improvement).\n",
      "  Saved new best model (val loss MA) at epoch 1\n",
      "Epoch 1: Generating multiple visualization samples...\n",
      "  Generating fixed sample (index 0 from val_dataset)...\n",
      "  Generating random stopped sample...\n",
      "  Generating random moving sample (action 0.13)...\n",
      "Sampling for epoch 1 took 5.83s\n",
      "Saved loss plot up to epoch 1\n",
      "--- Training Complete (Stopped after epoch 1) ---\n",
      "Total training duration: 0:01:53.026232\n"
     ]
    },
    {
     "data": {
      "text/html": [],
      "text/plain": [
       "<IPython.core.display.HTML object>"
      ]
     },
     "metadata": {},
     "output_type": "display_data"
    },
    {
     "data": {
      "text/html": [
       "<br>    <style><br>        .wandb-row {<br>            display: flex;<br>            flex-direction: row;<br>            flex-wrap: wrap;<br>            justify-content: flex-start;<br>            width: 100%;<br>        }<br>        .wandb-col {<br>            display: flex;<br>            flex-direction: column;<br>            flex-basis: 100%;<br>            flex: 1;<br>            padding: 10px;<br>        }<br>    </style><br><div class=\"wandb-row\"><div class=\"wandb-col\"><h3>Run history:</h3><br/><table class=\"wandb\"><tr><td>avg_train_loss</td><td>▁</td></tr><tr><td>avg_val_loss</td><td>▁</td></tr><tr><td>batch_idx</td><td>▁▁▁▂▂▂▂▂▂▂▃▃▃▃▃▄▄▄▄▄▅▅▅▅▅▅▅▅▅▅▆▆▆▆▆▇▇▇▇█</td></tr><tr><td>epoch</td><td>▁</td></tr><tr><td>epoch_duration_sec</td><td>▁</td></tr><tr><td>learning_rate</td><td>▁</td></tr><tr><td>nonincremental_fw_bw_duration</td><td>█▁▁▁▁▁▁▁▁▁▁▁▁▁▁▁▁▁▁▁▁▁▁▁▁▁▁</td></tr><tr><td>nonincremental_opt_sched_duration</td><td>▆▃▅▄▄▃▂▅▃▃▃▇▆▅▅▅▅▆█▁█▅▄▆▅▄█</td></tr><tr><td>nonincremental_step_data_fetch_sec</td><td>█▁▁▁▁▁▁▁▁▁▁▁▁▁▁▁▁▁▁▁▁▁▁▁▁▁▁</td></tr><tr><td>nonincremental_step_duration_sec</td><td>█▁▁▁▁▁▁▁▁▁▁▁▁▁▁▁▁▁▁▁▁▁▁▁▁▁▁</td></tr><tr><td>sampling_duration_sec</td><td>▁</td></tr><tr><td>step_duration</td><td>▃▂▂▂▂▂▁▆▇▅▃▃▁▃▃▁▄▁▄▅▃▃▄▃▂▃▃▃▂█▇▂█▂▄▅▇▅▅█</td></tr><tr><td>train_batch_denoising_loss</td><td>▅▃▄▁▃▄▂▅▃▂▅▄▅▁▃█▃▄▁▄▂▇▃▃▃▂▃</td></tr><tr><td>train_batch_loss</td><td>▅▃▄▁▃▄▂▅▃▂▅▄▅▁▃█▃▄▁▄▂▇▃▃▃▂▃</td></tr><tr><td>train_loss_ma</td><td>▁</td></tr><tr><td>train_step</td><td>▁▁▂▂▂▂▃▃▃▃▄▄▄▅▅▅▅▆▆▆▆▇▇▇▇██</td></tr><tr><td>val_batch_denoising_loss</td><td>█▁▁</td></tr><tr><td>val_batch_loss</td><td>█▁▁</td></tr><tr><td>val_loss_ma</td><td>▁</td></tr><tr><td>val_step</td><td>▁▅█</td></tr><tr><td>validation_duration_sec</td><td>▁</td></tr></table><br/></div><div class=\"wandb-col\"><h3>Run summary:</h3><br/><table class=\"wandb\"><tr><td>avg_train_loss</td><td>0.75389</td></tr><tr><td>avg_val_loss</td><td>0.80771</td></tr><tr><td>batch_idx</td><td>264</td></tr><tr><td>best_val_loss_ma_so_far</td><td>inf</td></tr><tr><td>epoch</td><td>1</td></tr><tr><td>epoch_duration_sec</td><td>82.92553</td></tr><tr><td>learning_rate</td><td>0.0</td></tr><tr><td>nonincremental_fw_bw_duration</td><td>0.08833</td></tr><tr><td>nonincremental_opt_sched_duration</td><td>0.0</td></tr><tr><td>nonincremental_step_data_fetch_sec</td><td>0.0007</td></tr><tr><td>nonincremental_step_duration_sec</td><td>0.08986</td></tr><tr><td>sampling_duration_sec</td><td>5.8284</td></tr><tr><td>step_duration</td><td>0.09513</td></tr><tr><td>train_batch_denoising_loss</td><td>0.76333</td></tr><tr><td>train_batch_loss</td><td>0.76333</td></tr><tr><td>train_loss_ma</td><td>0.75389</td></tr><tr><td>train_step</td><td>260</td></tr><tr><td>val_batch_denoising_loss</td><td>0.73837</td></tr><tr><td>val_batch_loss</td><td>0.73837</td></tr><tr><td>val_loss_ma</td><td>0.80771</td></tr><tr><td>val_step</td><td>20</td></tr><tr><td>validation_duration_sec</td><td>32.65891</td></tr></table><br/></div></div>"
      ],
      "text/plain": [
       "<IPython.core.display.HTML object>"
      ]
     },
     "metadata": {},
     "output_type": "display_data"
    },
    {
     "data": {
      "text/html": [
       " View run <strong style=\"color:#cdcd00\">crimson-smoke-25</strong> at: <a href='https://wandb.ai/irvin-hwang-simulacra-systems/timing-comparison/runs/cjr123id' target=\"_blank\">https://wandb.ai/irvin-hwang-simulacra-systems/timing-comparison/runs/cjr123id</a><br> View project at: <a href='https://wandb.ai/irvin-hwang-simulacra-systems/timing-comparison' target=\"_blank\">https://wandb.ai/irvin-hwang-simulacra-systems/timing-comparison</a><br>Synced 5 W&B file(s), 6 media file(s), 2 artifact file(s) and 0 other file(s)"
      ],
      "text/plain": [
       "<IPython.core.display.HTML object>"
      ]
     },
     "metadata": {},
     "output_type": "display_data"
    },
    {
     "data": {
      "text/html": [
       "Find logs at: <code>.\\wandb\\run-20250721_150730-cjr123id\\logs</code>"
      ],
      "text/plain": [
       "<IPython.core.display.HTML object>"
      ]
     },
     "metadata": {},
     "output_type": "display_data"
    },
    {
     "data": {
      "image/png": "[encoded data removed]",
      "text/plain": [
       "<Figure size 1200x600 with 1 Axes>"
      ]
     },
     "metadata": {},
     "output_type": "display_data"
    }
   ],
   "source": [
    "gc.collect()\n",
    "torch.cuda.empty_cache()\n",
    "\n",
    "config.OUTPUT_DIR = os.path.join(config.AUXILIARY_DIR, 'output_model_2hz_DIAMOND_laundry_nonincremental_test')\n",
    "config.DATA_DIR = os.path.join(config.AUXILIARY_DIR, 'jetbot_data_two_actions_nonincremental_test')\n",
    "config.IMAGE_DIR = os.path.join(config.DATA_DIR, 'images')\n",
    "config.CSV_PATH = os.path.join(config.DATA_DIR, 'laundry_data_incremental_test.csv')\n",
    "config.NUM_EPOCHS = 1\n",
    "\n",
    "if os.path.exists(config.OUTPUT_DIR):\n",
    "    shutil.rmtree(config.OUTPUT_DIR)\n",
    "os.makedirs(config.OUTPUT_DIR, exist_ok=True)\n",
    "\n",
    "start = time.time()\n",
    "trainer_run = trainer._main_training(finish_run=False)\n",
    "noninc_duration = time.time() - start\n",
    "wandb.finish()"
   ]
  },
  {
   "cell_type": "markdown",
   "id": "869c7037",
   "metadata": {},
   "source": [
    "### Run `train_diamond_model` on incremental dataset"
   ]
  },
  {
   "cell_type": "code",
   "execution_count": null,
   "id": "424a18c3",
   "metadata": {},
   "outputs": [
    {
     "data": {
      "text/html": [
       "Tracking run with wandb version 0.19.11"
      ],
      "text/plain": [
       "<IPython.core.display.HTML object>"
      ]
     },
     "metadata": {},
     "output_type": "display_data"
    },
    {
     "data": {
      "text/html": [
       "Run data is saved locally in <code>C:\\Projects\\jetbot-diffusion-world-model-kong-finder\\wandb\\run-20250721_150930-nwo47j2p</code>"
      ],
      "text/plain": [
       "<IPython.core.display.HTML object>"
      ]
     },
     "metadata": {},
     "output_type": "display_data"
    },
    {
     "data": {
      "text/html": [
       "Syncing run <strong><a href='https://wandb.ai/irvin-hwang-simulacra-systems/timing-comparison/runs/nwo47j2p' target=\"_blank\">bright-snow-26</a></strong> to <a href='https://wandb.ai/irvin-hwang-simulacra-systems/timing-comparison' target=\"_blank\">Weights & Biases</a> (<a href='https://wandb.me/developer-guide' target=\"_blank\">docs</a>)<br>"
      ],
      "text/plain": [
       "<IPython.core.display.HTML object>"
      ]
     },
     "metadata": {},
     "output_type": "display_data"
    },
    {
     "data": {
      "text/html": [
       " View project at <a href='https://wandb.ai/irvin-hwang-simulacra-systems/timing-comparison' target=\"_blank\">https://wandb.ai/irvin-hwang-simulacra-systems/timing-comparison</a>"
      ],
      "text/plain": [
       "<IPython.core.display.HTML object>"
      ]
     },
     "metadata": {},
     "output_type": "display_data"
    },
    {
     "data": {
      "text/html": [
       " View run at <a href='https://wandb.ai/irvin-hwang-simulacra-systems/timing-comparison/runs/nwo47j2p' target=\"_blank\">https://wandb.ai/irvin-hwang-simulacra-systems/timing-comparison/runs/nwo47j2p</a>"
      ],
      "text/plain": [
       "<IPython.core.display.HTML object>"
      ]
     },
     "metadata": {},
     "output_type": "display_data"
    },
    {
     "name": "stdout",
     "output_type": "stream",
     "text": [
      "Found 1 new sessions to collect.\n"
     ]
    },
    {
     "data": {
      "application/vnd.jupyter.widget-view+json": {
       "model_id": "47a5b713f0a9454baeb60a1351fbf935",
       "version_major": 2,
       "version_minor": 0
      },
      "text/plain": [
       "Collecting New Sessions:   0%|          | 0/1 [00:00<?, ?it/s]"
      ]
     },
     "metadata": {},
     "output_type": "display_data"
    },
    {
     "name": "stdout",
     "output_type": "stream",
     "text": [
      "Wrote 4538 entries to C:\\Projects\\jetbot-diffusion-world-model-kong-finder-aux\\jetbot_new_data_incremental_test\\new.csv\n",
      "Loaded combined CSV with columns: ['session_id', 'image_path', 'timestamp', 'action']\n",
      "Fresh dataset size is 299.\n",
      "Loaded combined CSV with columns: ['session_id', 'image_path', 'timestamp', 'action']\n",
      "Full dataset size: 292\n",
      "Creating new train/val split...\n",
      "Saved new dataset split to C:\\Projects\\jetbot-diffusion-world-model-kong-finder-aux\\output_model_2hz_DIAMOND_laundry_incremental_test\\dataset_split.pth\n",
      "Starting training\n",
      "Using device: cuda\n",
      "Loaded from checkpoint C:\\Projects\\jetbot-diffusion-world-model-kong-finder-aux\\output_model_2hz_DIAMOND_laundry_nonincremental_test\\checkpoints\\denoiser_model_best_val_loss.pth\n",
      "Incremental training for at least 320 and at most 320 with 320 number of steps per fresh data epoch\n"
     ]
    },
    {
     "data": {
      "application/vnd.jupyter.widget-view+json": {
       "model_id": "33bf5c563cd549518c8277c72c8a1fdc",
       "version_major": 2,
       "version_minor": 0
      },
      "text/plain": [
       "Incremental Training Steps:   0%|          | 0/320 [00:00<?, ?it/s]"
      ]
     },
     "metadata": {},
     "output_type": "display_data"
    },
    {
     "name": "stdout",
     "output_type": "stream",
     "text": [
      "Filtering dataset with 30 samples for actions: [0.0]\n"
     ]
    },
    {
     "data": {
      "application/vnd.jupyter.widget-view+json": {
       "model_id": "e1b0558f96be46adadbd3b1d91a53d40",
       "version_major": 2,
       "version_minor": 0
      },
      "text/plain": [
       "Filtering Dataset:   0%|          | 0/30 [00:00<?, ?it/s]"
      ]
     },
     "metadata": {},
     "output_type": "display_data"
    },
    {
     "name": "stdout",
     "output_type": "stream",
     "text": [
      "Filtered down to 14 samples.\n",
      "Filtering dataset with 30 samples for actions: [0.13]\n"
     ]
    },
    {
     "data": {
      "application/vnd.jupyter.widget-view+json": {
       "model_id": "21d3fdb8293a42c28519d2eb9cac6d29",
       "version_major": 2,
       "version_minor": 0
      },
      "text/plain": [
       "Filtering Dataset:   0%|          | 0/30 [00:00<?, ?it/s]"
      ]
     },
     "metadata": {},
     "output_type": "display_data"
    },
    {
     "name": "stdout",
     "output_type": "stream",
     "text": [
      "Filtered down to 16 samples.\n",
      "About to validate\n"
     ]
    },
    {
     "data": {
      "application/vnd.jupyter.widget-view+json": {
       "model_id": "446252394b3e438a9863d2c2b540816f",
       "version_major": 2,
       "version_minor": 0
      },
      "text/plain": [
       "Epoch 320 [Valid]:   0%|          | 0/15 [00:15<?, ?it/s]"
      ]
     },
     "metadata": {},
     "output_type": "display_data"
    },
    {
     "name": "stdout",
     "output_type": "stream",
     "text": [
      "About to enter validation loop\n",
      "Sending batch 0 to denoiser\n",
      "Sending batch 1 to denoiser\n",
      "Sending batch 2 to denoiser\n",
      "Sending batch 3 to denoiser\n",
      "Sending batch 4 to denoiser\n",
      "Sending batch 5 to denoiser\n",
      "Sending batch 6 to denoiser\n",
      "Sending batch 7 to denoiser\n",
      "Sending batch 8 to denoiser\n",
      "Sending batch 9 to denoiser\n",
      "Sending batch 10 to denoiser\n",
      "Sending batch 11 to denoiser\n",
      "Sending batch 12 to denoiser\n",
      "Sending batch 13 to denoiser\n",
      "Sending batch 14 to denoiser\n",
      "Validation at step 320 took 36.55s\n",
      "Sampling at step 320 took 29.37s\n",
      "✅ Restoring model to best validation loss: 0.7876\n",
      "Training Complete\n",
      "Loaded combined CSV with columns: ['session_id', 'image_path', 'timestamp', 'action']\n"
     ]
    },
    {
     "data": {
      "application/vnd.jupyter.widget-view+json": {
       "model_id": "f690e03c5a3443ec95148aded46cbade",
       "version_major": 2,
       "version_minor": 0
      },
      "text/plain": [
       "Evaluating:   0%|          | 0/250 [00:00<?, ?it/s]"
      ]
     },
     "metadata": {},
     "output_type": "display_data"
    },
    {
     "name": "stderr",
     "output_type": "stream",
     "text": [
      "C:\\Projects\\pythonenv-deeprl\\Lib\\site-packages\\torchmetrics\\utilities\\prints.py:70: FutureWarning: Importing `spectral_angle_mapper` from `torchmetrics.functional` was deprecated and will be removed in 2.0. Import `spectral_angle_mapper` from `torchmetrics.image` instead.\n",
      "  _future_warning(\n"
     ]
    }
   ],
   "source": [
    "gc.collect()\n",
    "torch.cuda.empty_cache()\n",
    "\n",
    "config.OUTPUT_DIR = os.path.join(config.AUXILIARY_DIR, 'output_model_2hz_DIAMOND_laundry_incremental_test')\n",
    "config.DATA_DIR = os.path.join(config.AUXILIARY_DIR, 'jetbot_data_two_actions_incremental_test')\n",
    "config.IMAGE_DIR = os.path.join(config.DATA_DIR, 'images')\n",
    "config.CSV_PATH = os.path.join(config.DATA_DIR, 'laundry_data_incremental_test.csv')\n",
    "config.EARLY_STOPPING_PATIENCE = 1\n",
    "\n",
    "if os.path.exists(config.OUTPUT_DIR):\n",
    "    shutil.rmtree(config.OUTPUT_DIR)\n",
    "os.makedirs(config.OUTPUT_DIR, exist_ok=True)\n",
    "\n",
    "wandb.init(project='timing-comparison', reinit=True)\n",
    "start = time.time()\n",
    "incremental_trainer.main()\n",
    "inc_duration = time.time() - start\n",
    "wandb.finish()"
   ]
  },
  {
   "cell_type": "markdown",
   "id": "40e83a0e",
   "metadata": {},
   "source": [
    "### Compare timings"
   ]
  },
  {
   "cell_type": "code",
   "execution_count": null,
   "id": "96a9c2fb",
   "metadata": {},
   "outputs": [],
   "source": [
    "import pandas as pd\n",
    "\n",
    "comparison_df = pd.DataFrame({\n",
    "    'run': ['non_incremental', 'incremental'],\n",
    "    'duration_sec': [noninc_duration, inc_duration]\n",
    "})\n",
    "comparison_df"
   ]
  }
 ],
 "metadata": {
  "kernelspec": {
   "display_name": "Python 3 (ipykernel)",
   "language": "python",
   "name": "python3"
  },
  "language_info": {
   "codemirror_mode": {
    "name": "ipython",
    "version": 3
   },
   "file_extension": ".py",
   "mimetype": "text/x-python",
   "name": "python",
   "nbconvert_exporter": "python",
   "pygments_lexer": "ipython3",
   "version": "3.11.9"
  }
 },
 "nbformat": 4,
 "nbformat_minor": 5
}
