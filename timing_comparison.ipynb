{
 "cells": [
  {
   "cell_type": "markdown",
   "id": "71e0a542",
   "metadata": {},
   "source": [
    "## Timing Comparison for Training Loops"
   ]
  },
  {
   "cell_type": "code",
   "execution_count": 1,
   "id": "1ee0cb78",
   "metadata": {},
   "outputs": [
    {
     "name": "stdout",
     "output_type": "stream",
     "text": [
      "Imports successful.\n",
      "Visualization helpers defined.\n",
      "Training and validation epoch functions adapted for Batch object and Denoiser.forward.\n"
     ]
    },
    {
     "name": "stderr",
     "output_type": "stream",
     "text": [
      "wandb: ERROR Failed to detect the name of this notebook. You can set it manually with the WANDB_NOTEBOOK_NAME environment variable to enable code saving.\n",
      "wandb: Currently logged in as: irvin-hwang (irvin-hwang-simulacra-systems) to https://api.wandb.ai. Use `wandb login --relogin` to force relogin\n",
      "wandb: WARNING Using a boolean value for 'reinit' is deprecated. Use 'return_previous' or 'finish_previous' instead.\n"
     ]
    },
    {
     "data": {
      "text/html": [
       "Tracking run with wandb version 0.19.11"
      ],
      "text/plain": [
       "<IPython.core.display.HTML object>"
      ]
     },
     "metadata": {},
     "output_type": "display_data"
    },
    {
     "data": {
      "text/html": [
       "Run data is saved locally in <code>C:\\Projects\\jetbot-diffusion-world-model-kong-finder\\wandb\\run-20250721_114545-mr7iu12e</code>"
      ],
      "text/plain": [
       "<IPython.core.display.HTML object>"
      ]
     },
     "metadata": {},
     "output_type": "display_data"
    },
    {
     "data": {
      "text/html": [
       "Syncing run <strong><a href='https://wandb.ai/irvin-hwang-simulacra-systems/timing-comparison/runs/mr7iu12e' target=\"_blank\">resilient-cloud-10</a></strong> to <a href='https://wandb.ai/irvin-hwang-simulacra-systems/timing-comparison' target=\"_blank\">Weights & Biases</a> (<a href='https://wandb.me/developer-guide' target=\"_blank\">docs</a>)<br>"
      ],
      "text/plain": [
       "<IPython.core.display.HTML object>"
      ]
     },
     "metadata": {},
     "output_type": "display_data"
    },
    {
     "data": {
      "text/html": [
       " View project at <a href='https://wandb.ai/irvin-hwang-simulacra-systems/timing-comparison' target=\"_blank\">https://wandb.ai/irvin-hwang-simulacra-systems/timing-comparison</a>"
      ],
      "text/plain": [
       "<IPython.core.display.HTML object>"
      ]
     },
     "metadata": {},
     "output_type": "display_data"
    },
    {
     "data": {
      "text/html": [
       " View run at <a href='https://wandb.ai/irvin-hwang-simulacra-systems/timing-comparison/runs/mr7iu12e' target=\"_blank\">https://wandb.ai/irvin-hwang-simulacra-systems/timing-comparison/runs/mr7iu12e</a>"
      ],
      "text/plain": [
       "<IPython.core.display.HTML object>"
      ]
     },
     "metadata": {},
     "output_type": "display_data"
    }
   ],
   "source": [
    "\n",
    "import wandb\n",
    "import config\n",
    "import diamond_world_model_trainer as trainer\n",
    "import incremental_training as incremental_trainer\n",
    "import os\n",
    "\n",
    "run = wandb.init(project=\"timing-comparison\", reinit=True)\n"
   ]
  },
  {
   "cell_type": "markdown",
   "id": "076c3528",
   "metadata": {},
   "source": [
    "### Run `_main_training` on non-incremental dataset"
   ]
  },
  {
   "cell_type": "code",
   "execution_count": 3,
   "id": "12c087cd",
   "metadata": {
    "scrolled": true
   },
   "outputs": [
    {
     "name": "stdout",
     "output_type": "stream",
     "text": [
      "--- Main Training Execution --- \n",
      "--- Configuration ---\n",
      "Using device: cuda\n",
      "Configuration loaded for _main_training.\n",
      "--- Initializing Models for _main_training ---\n",
      "Denoiser model created for _main_training. Total parameter count: 330,464,131\n",
      "DiffusionSampler created for visualization in _main_training.\n",
      "--- Setting up Optimizer and Scheduler for _main_training ---\n",
      "Optimizer: AdamW with LR=0.0001\n",
      "LR Scheduler: LambdaLR with 100 warmup steps.\n",
      "Wandb watching denoiser model.\n",
      "Using existing best_val_loss model: C:\\Projects\\jetbot-diffusion-world-model-kong-finder-aux\\output_model_2hz_DIAMOND_laundry_nonincremental_test\\checkpoints\\denoiser_model_best_val_loss.pth\n",
      "Loading checkpoint for _main_training from: C:\\Projects\\jetbot-diffusion-world-model-kong-finder-aux\\output_model_2hz_DIAMOND_laundry_nonincremental_test\\checkpoints\\denoiser_model_best_val_loss.pth\n",
      "Resuming _main_training from epoch 1.\n",
      "Loaded combined CSV with columns: ['session_id', 'image_path', 'timestamp', 'action']\n",
      "Full dataset size: 591\n",
      "Loading dataset split from C:\\Projects\\jetbot-diffusion-world-model-kong-finder-aux\\output_model_2hz_DIAMOND_laundry_nonincremental_test\\dataset_split.pth\n",
      "Training dataset size: 531, Validation dataset size: 60\n",
      "Preparing filtered validation subsets for visualization...\n",
      "Filtering dataset with 60 samples for actions: [0.0]\n"
     ]
    },
    {
     "data": {
      "application/vnd.jupyter.widget-view+json": {
       "model_id": "9b3bf987fbb749ccaa88a052baa2b24c",
       "version_major": 2,
       "version_minor": 0
      },
      "text/plain": [
       "Filtering Dataset:   0%|          | 0/60 [00:00<?, ?it/s]"
      ]
     },
     "metadata": {},
     "output_type": "display_data"
    },
    {
     "name": "stdout",
     "output_type": "stream",
     "text": [
      "Filtered down to 23 samples.\n",
      "Filtering dataset with 60 samples for actions: [0.13]\n"
     ]
    },
    {
     "data": {
      "application/vnd.jupyter.widget-view+json": {
       "model_id": "bb34d9035451425bb4948d1ed05c1f9a",
       "version_major": 2,
       "version_minor": 0
      },
      "text/plain": [
       "Filtering Dataset:   0%|          | 0/60 [00:00<?, ?it/s]"
      ]
     },
     "metadata": {},
     "output_type": "display_data"
    },
    {
     "name": "stdout",
     "output_type": "stream",
     "text": [
      "Filtered down to 37 samples.\n",
      "Found 23 stopped and 37 moving samples.\n",
      "--- Starting Training Process in _main_training ---\n",
      "--- Training Complete (Stopped after epoch 1) ---\n",
      "Total training duration: 0:00:00\n",
      "--Return--\n",
      "None\n",
      "> c:\\users\\irvin\\appdata\\local\\temp\\ipykernel_21236\\3668242613.py(7)<module>()\n",
      "\n"
     ]
    },
    {
     "name": "stdin",
     "output_type": "stream",
     "text": [
      "ipdb>  trainer_run\n"
     ]
    },
    {
     "name": "stdout",
     "output_type": "stream",
     "text": [
      "<wandb.sdk.wandb_run.Run object at 0x000001805AFCC7D0>\n"
     ]
    },
    {
     "name": "stdin",
     "output_type": "stream",
     "text": [
      "ipdb>  trainer_run.history\n"
     ]
    },
    {
     "name": "stdout",
     "output_type": "stream",
     "text": [
      "*** AttributeError: 'Run' object has no attribute 'history'\n"
     ]
    },
    {
     "name": "stdin",
     "output_type": "stream",
     "text": [
      "ipdb>  q\n"
     ]
    },
    {
     "data": {
      "image/png": "[encoded data removed]",
      "text/plain": [
       "<Figure size 1200x600 with 1 Axes>"
      ]
     },
     "metadata": {},
     "output_type": "display_data"
    }
   ],
   "source": [
    "import pdb\n",
    "\n",
    "config.OUTPUT_DIR = os.path.join(config.AUXILIARY_DIR, 'output_model_2hz_DIAMOND_laundry_nonincremental_test')\n",
    "config.DATA_DIR = os.path.join(config.AUXILIARY_DIR, 'jetbot_data_two_actions_nonincremental_test')\n",
    "config.NUM_EPOCHS = 1\n",
    "trainer_run = trainer._main_training(finish_run=False)\n",
    "pdb.set_trace()\n",
    "noninc_table = trainer_run.history[-1].get(\"train_epoch_perf\")\n",
    "wandb.finish()\n"
   ]
  },
  {
   "cell_type": "markdown",
   "id": "869c7037",
   "metadata": {},
   "source": [
    "### Run `train_diamond_model` on incremental dataset"
   ]
  },
  {
   "cell_type": "code",
   "execution_count": null,
   "id": "424a18c3",
   "metadata": {},
   "outputs": [],
   "source": [
    "config.OUTPUT_DIR = os.path.join(config.AUXILIARY_DIR, 'output_model_2hz_DIAMOND_laundry_incremental_test')\n",
    "config.DATA_DIR = os.path.join(config.AUXILIARY_DIR, 'jetbot_data_two_actions_incremental_test')\n",
    "wandb.init(project=\"timing-comparison\", reinit=True)\n",
    "\n",
    "incremental_trainer.main()\n",
    "inc_table = wandb.run.history[-1].get(\"incremental_perf\")\n",
    "wandb.finish()\n"
   ]
  },
  {
   "cell_type": "markdown",
   "id": "40e83a0e",
   "metadata": {},
   "source": [
    "### Compare timings"
   ]
  },
  {
   "cell_type": "code",
   "execution_count": null,
   "id": "96a9c2fb",
   "metadata": {},
   "outputs": [],
   "source": [
    "\n",
    "import pandas as pd\n",
    "\n",
    "if noninc_table is not None and inc_table is not None:\n",
    "    df_non = pd.DataFrame(noninc_table.data, columns=noninc_table.columns)\n",
    "    df_inc = pd.DataFrame(inc_table.data, columns=inc_table.columns)\n",
    "    display(df_non.describe())\n",
    "    display(df_inc.describe())\n"
   ]
  }
 ],
 "metadata": {
  "kernelspec": {
   "display_name": "Python 3 (ipykernel)",
   "language": "python",
   "name": "python3"
  },
  "language_info": {
   "codemirror_mode": {
    "name": "ipython",
    "version": 3
   },
   "file_extension": ".py",
   "mimetype": "text/x-python",
   "name": "python",
   "nbconvert_exporter": "python",
   "pygments_lexer": "ipython3",
   "version": "3.11.9"
  }
 },
 "nbformat": 4,
 "nbformat_minor": 5
}
