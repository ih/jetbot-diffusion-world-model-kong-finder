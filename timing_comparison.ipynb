{
  "cells": [
    {
      "cell_type": "markdown",
      "id": "71e0a542",
      "metadata": {},
      "source": [
        "## Timing Comparison for Training Loops"
      ]
    },
    {
      "cell_type": "code",
      "execution_count": 1,
      "id": "1ee0cb78",
      "metadata": {},
      "outputs": [
        {
          "name": "stdout",
          "output_type": "stream",
          "text": [
            "Imports successful.\n",
            "Visualization helpers defined.\n",
            "Training and validation epoch functions adapted for Batch object and Denoiser.forward.\n"
          ]
        },
        {
          "name": "stderr",
          "output_type": "stream",
          "text": [
            "wandb: ERROR Failed to detect the name of this notebook. You can set it manually with the WANDB_NOTEBOOK_NAME environment variable to enable code saving.\n",
            "wandb: Currently logged in as: irvin-hwang (irvin-hwang-simulacra-systems) to https://api.wandb.ai. Use `wandb login --relogin` to force relogin\n",
            "wandb: WARNING Using a boolean value for 'reinit' is deprecated. Use 'return_previous' or 'finish_previous' instead.\n"
          ]
        },
        {
          "data": {
            "text/html": [
              "Tracking run with wandb version 0.19.11"
            ],
            "text/plain": [
              "<IPython.core.display.HTML object>"
            ]
          },
          "metadata": {},
          "output_type": "display_data"
        },
        {
          "data": {
            "text/html": [
              "Run data is saved locally in <code>C:\\Projects\\jetbot-diffusion-world-model-kong-finder\\wandb\\run-20250721_103118-11h46zdo</code>"
            ],
            "text/plain": [
              "<IPython.core.display.HTML object>"
            ]
          },
          "metadata": {},
          "output_type": "display_data"
        },
        {
          "data": {
            "text/html": [
              "Syncing run <strong><a href='https://wandb.ai/irvin-hwang-simulacra-systems/timing-comparison/runs/11h46zdo' target=\"_blank\">scarlet-puddle-5</a></strong> to <a href='https://wandb.ai/irvin-hwang-simulacra-systems/timing-comparison' target=\"_blank\">Weights & Biases</a> (<a href='https://wandb.me/developer-guide' target=\"_blank\">docs</a>)<br>"
            ],
            "text/plain": [
              "<IPython.core.display.HTML object>"
            ]
          },
          "metadata": {},
          "output_type": "display_data"
        },
        {
          "data": {
            "text/html": [
              " View project at <a href='https://wandb.ai/irvin-hwang-simulacra-systems/timing-comparison' target=\"_blank\">https://wandb.ai/irvin-hwang-simulacra-systems/timing-comparison</a>"
            ],
            "text/plain": [
              "<IPython.core.display.HTML object>"
            ]
          },
          "metadata": {},
          "output_type": "display_data"
        },
        {
          "data": {
            "text/html": [
              " View run at <a href='https://wandb.ai/irvin-hwang-simulacra-systems/timing-comparison/runs/11h46zdo' target=\"_blank\">https://wandb.ai/irvin-hwang-simulacra-systems/timing-comparison/runs/11h46zdo</a>"
            ],
            "text/plain": [
              "<IPython.core.display.HTML object>"
            ]
          },
          "metadata": {},
          "output_type": "display_data"
        },
        {
          "data": {
            "text/html": [
              "<button onClick=\"this.nextSibling.style.display='block';this.style.display='none';\">Display W&B run</button><iframe src='https://wandb.ai/irvin-hwang-simulacra-systems/timing-comparison/runs/11h46zdo?jupyter=true' style='border:none;width:100%;height:420px;display:none;'></iframe>"
            ],
            "text/plain": [
              "<wandb.sdk.wandb_run.Run at 0x1209fe37e10>"
            ]
          },
          "execution_count": 1,
          "metadata": {},
          "output_type": "execute_result"
        }
      ],
      "source": [
        "\n",
        "import wandb\n",
        "import config\n",
        "import diamond_world_model_trainer as trainer\n",
        "import incremental_training as incremental_trainer\n",
        "import os\n",
        "\n",
        "run = wandb.init(project=\"timing-comparison\", reinit=True)\n"
      ]
    },
    {
      "cell_type": "markdown",
      "id": "076c3528",
      "metadata": {},
      "source": [
        "### Run `_main_training` on non-incremental dataset"
      ]
    },
    {
      "cell_type": "code",
      "execution_count": 2,
      "id": "12c087cd",
      "metadata": {
        "scrolled": true
      },
      "outputs": [
        {
          "name": "stdout",
          "output_type": "stream",
          "text": [
            "--- Main Training Execution --- \n",
            "--- Configuration ---\n",
            "Using device: cuda\n",
            "Configuration loaded for _main_training.\n"
          ]
        },
        {
          "data": {
            "text/html": [
              "Finishing previous runs because reinit is set to 'default'."
            ],
            "text/plain": [
              "<IPython.core.display.HTML object>"
            ]
          },
          "metadata": {},
          "output_type": "display_data"
        },
        {
          "data": {
            "text/html": [],
            "text/plain": [
              "<IPython.core.display.HTML object>"
            ]
          },
          "metadata": {},
          "output_type": "display_data"
        },
        {
          "data": {
            "text/html": [
              " View run <strong style=\"color:#cdcd00\">scarlet-puddle-5</strong> at: <a href='https://wandb.ai/irvin-hwang-simulacra-systems/timing-comparison/runs/11h46zdo' target=\"_blank\">https://wandb.ai/irvin-hwang-simulacra-systems/timing-comparison/runs/11h46zdo</a><br> View project at: <a href='https://wandb.ai/irvin-hwang-simulacra-systems/timing-comparison' target=\"_blank\">https://wandb.ai/irvin-hwang-simulacra-systems/timing-comparison</a><br>Synced 5 W&B file(s), 0 media file(s), 0 artifact file(s) and 0 other file(s)"
            ],
            "text/plain": [
              "<IPython.core.display.HTML object>"
            ]
          },
          "metadata": {},
          "output_type": "display_data"
        },
        {
          "data": {
            "text/html": [
              "Find logs at: <code>.\\wandb\\run-20250721_103118-11h46zdo\\logs</code>"
            ],
            "text/plain": [
              "<IPython.core.display.HTML object>"
            ]
          },
          "metadata": {},
          "output_type": "display_data"
        },
        {
          "data": {
            "text/html": [
              "Tracking run with wandb version 0.19.11"
            ],
            "text/plain": [
              "<IPython.core.display.HTML object>"
            ]
          },
          "metadata": {},
          "output_type": "display_data"
        },
        {
          "data": {
            "text/html": [
              "Run data is saved locally in <code>C:\\Projects\\jetbot-diffusion-world-model-kong-finder\\wandb\\run-20250721_103119-ut4410mf</code>"
            ],
            "text/plain": [
              "<IPython.core.display.HTML object>"
            ]
          },
          "metadata": {},
          "output_type": "display_data"
        },
        {
          "data": {
            "text/html": [
              "Syncing run <strong><a href='https://wandb.ai/irvin-hwang-simulacra-systems/jetbot-diamond-world-model/runs/ut4410mf' target=\"_blank\">youthful-shadow-45</a></strong> to <a href='https://wandb.ai/irvin-hwang-simulacra-systems/jetbot-diamond-world-model' target=\"_blank\">Weights & Biases</a> (<a href='https://wandb.me/developer-guide' target=\"_blank\">docs</a>)<br>"
            ],
            "text/plain": [
              "<IPython.core.display.HTML object>"
            ]
          },
          "metadata": {},
          "output_type": "display_data"
        },
        {
          "data": {
            "text/html": [
              " View project at <a href='https://wandb.ai/irvin-hwang-simulacra-systems/jetbot-diamond-world-model' target=\"_blank\">https://wandb.ai/irvin-hwang-simulacra-systems/jetbot-diamond-world-model</a>"
            ],
            "text/plain": [
              "<IPython.core.display.HTML object>"
            ]
          },
          "metadata": {},
          "output_type": "display_data"
        },
        {
          "data": {
            "text/html": [
              " View run at <a href='https://wandb.ai/irvin-hwang-simulacra-systems/jetbot-diamond-world-model/runs/ut4410mf' target=\"_blank\">https://wandb.ai/irvin-hwang-simulacra-systems/jetbot-diamond-world-model/runs/ut4410mf</a>"
            ],
            "text/plain": [
              "<IPython.core.display.HTML object>"
            ]
          },
          "metadata": {},
          "output_type": "display_data"
        },
        {
          "name": "stdout",
          "output_type": "stream",
          "text": [
            "Wandb initialized for _main_training.\n",
            "--- Initializing Models for _main_training ---\n",
            "Denoiser model created for _main_training. Total parameter count: 330,464,131\n",
            "DiffusionSampler created for visualization in _main_training.\n",
            "--- Setting up Optimizer and Scheduler for _main_training ---\n",
            "Optimizer: AdamW with LR=0.0001\n",
            "LR Scheduler: LambdaLR with 100 warmup steps.\n",
            "Wandb watching denoiser model.\n",
            "No checkpoint found or specified for _main_training. Starting fresh.\n",
            "Loaded combined CSV with columns: ['session_id', 'image_path', 'timestamp', 'action']\n",
            "Full dataset size: 591\n",
            "Loading dataset split from C:\\Projects\\jetbot-diffusion-world-model-kong-finder-aux\\output_model_2hz_DIAMOND_laundry_nonincremental_test\\dataset_split.pth\n",
            "Training dataset size: 531, Validation dataset size: 60\n",
            "Preparing filtered validation subsets for visualization...\n",
            "Filtering dataset with 60 samples for actions: [0.0]\n"
          ]
        },
        {
          "data": {
            "application/vnd.jupyter.widget-view+json": {
              "model_id": "18d86f96c83a4a76a76df4c8265fee83",
              "version_major": 2,
              "version_minor": 0
            },
            "text/plain": [
              "Filtering Dataset:   0%|          | 0/60 [00:00<?, ?it/s]"
            ]
          },
          "metadata": {},
          "output_type": "display_data"
        },
        {
          "name": "stdout",
          "output_type": "stream",
          "text": [
            "Filtered down to 26 samples.\n",
            "Filtering dataset with 60 samples for actions: [0.13]\n"
          ]
        },
        {
          "data": {
            "application/vnd.jupyter.widget-view+json": {
              "model_id": "97b181de5cff4752910631024fa7ef88",
              "version_major": 2,
              "version_minor": 0
            },
            "text/plain": [
              "Filtering Dataset:   0%|          | 0/60 [00:00<?, ?it/s]"
            ]
          },
          "metadata": {},
          "output_type": "display_data"
        },
        {
          "name": "stdout",
          "output_type": "stream",
          "text": [
            "Filtered down to 34 samples.\n",
            "Found 26 stopped and 34 moving samples.\n",
            "--- Starting Training Process in _main_training ---\n"
          ]
        },
        {
          "data": {
            "application/vnd.jupyter.widget-view+json": {
              "model_id": "43b3df17d0a84a118d0db66d93666eee",
              "version_major": 2,
              "version_minor": 0
            },
            "text/plain": [
              "Epoch 1 [Train]:   0%|          | 0/265 [00:00<?, ?it/s]"
            ]
          },
          "metadata": {},
          "output_type": "display_data"
        },
        {
          "name": "stdout",
          "output_type": "stream",
          "text": [
            "Batch 0 of size 3 took 4.552412800001548 seconds\n",
            "Batch 1 of size 3 took 0.10369400000126916 seconds\n",
            "Batch 2 of size 3 took 0.08127210000020568 seconds\n",
            "Batch 3 of size 3 took 0.07708810000076483 seconds\n",
            "Batch 4 of size 3 took 0.07753000000047905 seconds\n",
            "Batch 5 of size 3 took 0.07440789999964181 seconds\n",
            "Batch 6 of size 3 took 0.09325970000099915 seconds\n",
            "Batch 7 of size 3 took 0.102656000000934 seconds\n",
            "Batch 8 of size 3 took 0.08206620000055409 seconds\n",
            "Batch 9 of size 3 took 0.07460939999873517 seconds\n",
            "Batch 10 of size 3 took 0.10574970000016037 seconds\n",
            "Batch 11 of size 3 took 0.07387139999991632 seconds\n",
            "Batch 12 of size 3 took 0.07714810000106809 seconds\n",
            "Batch 13 of size 3 took 0.09378800000013143 seconds\n",
            "Batch 14 of size 3 took 0.07785420000072918 seconds\n",
            "Batch 15 of size 3 took 0.0838463000000047 seconds\n",
            "Batch 16 of size 3 took 0.07106920000114769 seconds\n",
            "Batch 17 of size 3 took 0.07629000000088126 seconds\n",
            "Batch 18 of size 3 took 0.07277020000037737 seconds\n",
            "Batch 19 of size 3 took 0.07732600000053935 seconds\n",
            "Batch 20 of size 3 took 0.10176039999896602 seconds\n",
            "Batch 21 of size 3 took 0.10646769999948447 seconds\n",
            "Batch 22 of size 3 took 0.10504930000024615 seconds\n",
            "Batch 23 of size 3 took 0.07808579999982612 seconds\n",
            "Batch 24 of size 3 took 0.10329320000164444 seconds\n",
            "Batch 25 of size 3 took 0.10139010000057169 seconds\n",
            "Batch 26 of size 3 took 0.07771820000016305 seconds\n",
            "Batch 27 of size 3 took 0.10863049999898067 seconds\n",
            "Batch 28 of size 3 took 0.08278270000118937 seconds\n",
            "Batch 29 of size 3 took 0.07813759999953618 seconds\n",
            "Batch 30 of size 3 took 0.0773153000009188 seconds\n",
            "Batch 31 of size 3 took 0.07247559999996156 seconds\n",
            "Batch 32 of size 3 took 0.07769139999982144 seconds\n",
            "Batch 33 of size 3 took 0.07182380000085686 seconds\n",
            "Batch 34 of size 3 took 0.08614419999867096 seconds\n",
            "Batch 35 of size 3 took 0.07143229999928735 seconds\n",
            "Batch 36 of size 3 took 0.07092580000062298 seconds\n",
            "Batch 37 of size 3 took 0.07701640000050247 seconds\n",
            "Batch 38 of size 3 took 0.10459439999976894 seconds\n",
            "Batch 39 of size 3 took 0.0807388000011997 seconds\n",
            "Batch 40 of size 3 took 0.0723429000008764 seconds\n",
            "Batch 41 of size 3 took 0.08014229999935196 seconds\n",
            "Batch 42 of size 3 took 0.08193749999918509 seconds\n",
            "Batch 43 of size 3 took 0.08024360000126762 seconds\n",
            "Batch 44 of size 3 took 0.07095730000037292 seconds\n",
            "Batch 45 of size 3 took 0.08122589999948104 seconds\n",
            "Batch 46 of size 3 took 0.08050249999905645 seconds\n",
            "Batch 47 of size 3 took 0.08043829999951413 seconds\n",
            "Batch 48 of size 3 took 0.07025140000041574 seconds\n",
            "Batch 49 of size 3 took 0.0829092000003584 seconds\n",
            "Batch 50 of size 3 took 0.0810538000005181 seconds\n",
            "Batch 51 of size 3 took 0.08753909999904863 seconds\n",
            "Batch 52 of size 3 took 0.07318080000004556 seconds\n",
            "Batch 53 of size 3 took 0.07711740000013378 seconds\n",
            "Batch 54 of size 3 took 0.07662160000108997 seconds\n",
            "Batch 55 of size 3 took 0.07947899999999208 seconds\n",
            "Batch 56 of size 3 took 0.07999790000030771 seconds\n",
            "Batch 57 of size 3 took 0.08178450000013981 seconds\n",
            "Batch 58 of size 3 took 0.08134169999902952 seconds\n",
            "Batch 59 of size 3 took 0.07902719999947294 seconds\n",
            "Batch 60 of size 3 took 0.09477920000063023 seconds\n",
            "Batch 61 of size 3 took 0.07892489999903773 seconds\n",
            "Batch 62 of size 3 took 0.07788219999929424 seconds\n",
            "Batch 63 of size 3 took 0.2265164000000368 seconds\n",
            "Batch 64 of size 3 took 0.07651319999968109 seconds\n",
            "Batch 65 of size 3 took 0.082229700001335 seconds\n",
            "Batch 66 of size 3 took 0.09456780000073195 seconds\n",
            "Batch 67 of size 3 took 0.08484379999936209 seconds\n",
            "Batch 68 of size 3 took 0.07289480000144977 seconds\n",
            "Batch 69 of size 3 took 0.07861489999959304 seconds\n",
            "Batch 70 of size 3 took 0.08275330000105896 seconds\n",
            "Batch 71 of size 3 took 0.08282319999852916 seconds\n",
            "Batch 72 of size 3 took 0.09694560000025376 seconds\n",
            "Batch 73 of size 3 took 0.08011350000015227 seconds\n",
            "Batch 74 of size 3 took 0.08144279999942228 seconds\n",
            "Batch 75 of size 3 took 0.0798703000000387 seconds\n",
            "Batch 76 of size 3 took 0.07978940000066359 seconds\n",
            "Batch 77 of size 3 took 0.07900180000069668 seconds\n",
            "Batch 78 of size 3 took 0.0798876000008022 seconds\n",
            "Batch 79 of size 3 took 0.08138099999996484 seconds\n",
            "Batch 80 of size 3 took 0.09530909999921278 seconds\n",
            "Batch 81 of size 3 took 0.09276850000060222 seconds\n",
            "Batch 82 of size 3 took 0.07947680000143009 seconds\n",
            "Batch 83 of size 3 took 0.07210499999928288 seconds\n",
            "Batch 84 of size 3 took 0.07796799999960058 seconds\n",
            "Batch 85 of size 3 took 0.08095339999999851 seconds\n",
            "Batch 86 of size 3 took 0.08063070000025618 seconds\n",
            "Batch 87 of size 3 took 0.0797221000011632 seconds\n",
            "Batch 88 of size 3 took 0.09522639999886451 seconds\n",
            "Batch 89 of size 3 took 0.07950440000058734 seconds\n",
            "Batch 90 of size 3 took 0.0923767999993288 seconds\n",
            "Batch 91 of size 3 took 0.07098810000024969 seconds\n",
            "Batch 92 of size 3 took 0.07737229999838746 seconds\n",
            "Batch 93 of size 3 took 0.08021679999910702 seconds\n",
            "Batch 94 of size 3 took 0.07084419999955571 seconds\n",
            "Batch 95 of size 3 took 0.08118690000083006 seconds\n",
            "Batch 96 of size 3 took 0.07410779999918304 seconds\n",
            "Batch 97 of size 3 took 0.07932869999967807 seconds\n",
            "Batch 98 of size 3 took 0.09283800000048359 seconds\n",
            "Batch 99 of size 3 took 2.344606600001498 seconds\n",
            "Batch 100 of size 3 took 0.08414660000016738 seconds\n",
            "Batch 101 of size 3 took 0.07143420000102196 seconds\n",
            "Batch 102 of size 3 took 0.07683670000005804 seconds\n",
            "Batch 103 of size 3 took 0.08308150000084424 seconds\n",
            "Batch 104 of size 3 took 0.09211150000010093 seconds\n",
            "Batch 105 of size 3 took 0.09526630000073055 seconds\n",
            "Batch 106 of size 3 took 0.08078550000027462 seconds\n",
            "Batch 107 of size 3 took 0.09389919999921403 seconds\n",
            "Batch 108 of size 3 took 0.0803581000000122 seconds\n",
            "Batch 109 of size 3 took 0.08016049999969255 seconds\n",
            "Batch 110 of size 3 took 0.09276999999929103 seconds\n",
            "Batch 111 of size 3 took 0.07922340000004624 seconds\n",
            "Batch 112 of size 3 took 0.07858529999975872 seconds\n",
            "Batch 113 of size 3 took 0.07895450000069104 seconds\n",
            "Batch 114 of size 3 took 0.07702400000016496 seconds\n",
            "Batch 115 of size 3 took 0.07928759999958856 seconds\n",
            "Batch 116 of size 3 took 0.07856709999941813 seconds\n",
            "Batch 117 of size 3 took 0.0791415000003326 seconds\n",
            "Batch 118 of size 3 took 0.07123820000015257 seconds\n",
            "Batch 119 of size 3 took 0.07957300000089162 seconds\n",
            "Batch 120 of size 3 took 0.07793550000133109 seconds\n",
            "Batch 121 of size 3 took 0.08009630000015022 seconds\n",
            "Batch 122 of size 3 took 0.07880909999948926 seconds\n",
            "Batch 123 of size 3 took 0.07949550000012096 seconds\n",
            "Batch 124 of size 3 took 0.0721625000005588 seconds\n",
            "Batch 125 of size 3 took 0.08020960000067134 seconds\n",
            "Batch 126 of size 3 took 0.07996470000034606 seconds\n",
            "Batch 127 of size 3 took 0.08851929999946151 seconds\n",
            "Batch 128 of size 3 took 0.07348929999898246 seconds\n",
            "Batch 129 of size 3 took 0.08178960000077495 seconds\n",
            "Batch 130 of size 3 took 0.0798995000004652 seconds\n",
            "Batch 131 of size 3 took 0.07897729999967851 seconds\n",
            "Batch 132 of size 3 took 0.08141340000111086 seconds\n",
            "Batch 133 of size 3 took 0.0784457999998267 seconds\n",
            "Batch 134 of size 3 took 0.08001830000102927 seconds\n",
            "Batch 135 of size 3 took 0.0867192999994586 seconds\n",
            "Batch 136 of size 3 took 0.10385430000133056 seconds\n",
            "Batch 137 of size 3 took 0.07438639999963925 seconds\n",
            "Batch 138 of size 3 took 0.06900779999887163 seconds\n",
            "Batch 139 of size 3 took 0.07094160000087868 seconds\n",
            "Batch 140 of size 3 took 0.07145210000089719 seconds\n",
            "Batch 141 of size 3 took 0.10169500000120024 seconds\n",
            "Batch 142 of size 3 took 0.1046595999996498 seconds\n",
            "Batch 143 of size 3 took 0.10393629999998666 seconds\n",
            "Batch 144 of size 3 took 0.10275619999993069 seconds\n",
            "Batch 145 of size 3 took 0.10332720000042173 seconds\n",
            "Batch 146 of size 3 took 0.10291629999846919 seconds\n",
            "Batch 147 of size 3 took 0.09380650000093738 seconds\n",
            "Batch 148 of size 3 took 0.10514139999941108 seconds\n",
            "Batch 149 of size 3 took 0.10654179999983171 seconds\n",
            "Batch 150 of size 3 took 0.09249830000044312 seconds\n",
            "Batch 151 of size 3 took 0.07764429999951972 seconds\n",
            "Batch 152 of size 3 took 0.10226169999987178 seconds\n",
            "Batch 153 of size 3 took 0.10415479999937816 seconds\n",
            "Batch 154 of size 3 took 0.06966350000038801 seconds\n",
            "Batch 155 of size 3 took 0.0707442999992054 seconds\n",
            "Batch 156 of size 3 took 0.07295390000035695 seconds\n",
            "Batch 157 of size 3 took 0.10196410000025935 seconds\n",
            "Batch 158 of size 3 took 0.07111149999946065 seconds\n",
            "Batch 159 of size 3 took 0.10247109999909298 seconds\n",
            "Batch 160 of size 3 took 0.07715639999878476 seconds\n",
            "Batch 161 of size 3 took 0.1024371000003157 seconds\n",
            "Batch 162 of size 3 took 0.0772209999995539 seconds\n",
            "Batch 163 of size 3 took 0.09940849999838974 seconds\n",
            "Batch 164 of size 3 took 0.091595400001097 seconds\n",
            "Batch 165 of size 3 took 0.10024290000001201 seconds\n",
            "Batch 166 of size 3 took 0.10378409999975702 seconds\n",
            "Batch 167 of size 3 took 0.10244710000006307 seconds\n",
            "Batch 168 of size 3 took 0.06957479999982752 seconds\n",
            "Batch 169 of size 3 took 0.0689196000002994 seconds\n",
            "Batch 170 of size 3 took 0.10092540000005101 seconds\n",
            "Batch 171 of size 3 took 0.07025090000024647 seconds\n",
            "Batch 172 of size 3 took 0.10144910000053642 seconds\n",
            "Batch 173 of size 3 took 0.07643079999979818 seconds\n",
            "Batch 174 of size 3 took 0.09972229999948468 seconds\n",
            "Batch 175 of size 3 took 0.10290259999965201 seconds\n",
            "Batch 176 of size 3 took 0.10285629999998491 seconds\n",
            "Batch 177 of size 3 took 0.07682190000014089 seconds\n",
            "Batch 178 of size 3 took 0.10092830000030517 seconds\n",
            "Batch 179 of size 3 took 0.10248250000040571 seconds\n",
            "Batch 180 of size 3 took 0.07042599999840604 seconds\n",
            "Batch 181 of size 3 took 0.1020090000001801 seconds\n",
            "Batch 182 of size 3 took 0.09193319999940286 seconds\n",
            "Batch 183 of size 3 took 0.10362150000037218 seconds\n",
            "Batch 184 of size 3 took 0.10337910000089323 seconds\n",
            "Batch 185 of size 3 took 0.07713169999988168 seconds\n",
            "Batch 186 of size 3 took 0.10130469999967318 seconds\n",
            "Batch 187 of size 3 took 0.11358790000122099 seconds\n",
            "Batch 188 of size 3 took 0.07162959999914165 seconds\n",
            "Batch 189 of size 3 took 0.10212139999930514 seconds\n",
            "Batch 190 of size 3 took 0.09276599999975588 seconds\n",
            "Batch 191 of size 3 took 0.10904660000051081 seconds\n",
            "Batch 192 of size 3 took 0.09675400000014633 seconds\n",
            "Batch 193 of size 3 took 0.10279970000010508 seconds\n",
            "Batch 194 of size 3 took 0.10347030000048107 seconds\n",
            "Batch 195 of size 3 took 0.09666919999835955 seconds\n",
            "Batch 196 of size 3 took 0.07851489999848127 seconds\n",
            "Batch 197 of size 3 took 0.10668450000048324 seconds\n",
            "Batch 198 of size 3 took 0.07755120000001625 seconds\n",
            "Batch 199 of size 3 took 2.522916500000065 seconds\n",
            "Batch 200 of size 3 took 0.08285739999882935 seconds\n",
            "Batch 201 of size 3 took 0.08221600000069884 seconds\n",
            "Batch 202 of size 3 took 0.09544079999977839 seconds\n",
            "Batch 203 of size 3 took 0.07738990000143531 seconds\n",
            "Batch 204 of size 3 took 0.06923079999978654 seconds\n",
            "Batch 205 of size 3 took 0.07423779999953695 seconds\n",
            "Batch 206 of size 3 took 0.08860889999959909 seconds\n",
            "Batch 207 of size 3 took 0.09162340000148106 seconds\n",
            "Batch 208 of size 3 took 0.09125270000004093 seconds\n",
            "Batch 209 of size 3 took 0.10747809999884339 seconds\n",
            "Batch 210 of size 3 took 0.07279809999999998 seconds\n",
            "Batch 211 of size 3 took 0.08300090000011551 seconds\n",
            "Batch 212 of size 3 took 0.09249739999904705 seconds\n",
            "Batch 213 of size 3 took 0.07475549999981013 seconds\n",
            "Batch 214 of size 3 took 0.08098939999945287 seconds\n",
            "Batch 215 of size 3 took 0.08356590000039432 seconds\n",
            "Batch 216 of size 3 took 0.09123099999851547 seconds\n",
            "Batch 217 of size 3 took 0.08238100000016857 seconds\n",
            "Batch 218 of size 3 took 0.0917195999991236 seconds\n",
            "Batch 219 of size 3 took 0.07335999999850173 seconds\n",
            "Batch 220 of size 3 took 0.08188130000053206 seconds\n",
            "Batch 221 of size 3 took 0.07920109999940905 seconds\n",
            "Batch 222 of size 3 took 0.07889160000013362 seconds\n",
            "Batch 223 of size 3 took 0.10138650000044436 seconds\n",
            "Batch 224 of size 3 took 0.10516250000000582 seconds\n",
            "Batch 225 of size 3 took 0.07058469999901718 seconds\n",
            "Batch 226 of size 3 took 0.079066000000239 seconds\n",
            "Batch 227 of size 3 took 0.1006018000007316 seconds\n",
            "Batch 228 of size 3 took 0.08958370000073046 seconds\n",
            "Batch 229 of size 3 took 0.09447059999911289 seconds\n",
            "Batch 230 of size 3 took 0.08954169999924488 seconds\n",
            "Batch 231 of size 3 took 0.1023709000000963 seconds\n",
            "Batch 232 of size 3 took 0.06959809999898425 seconds\n",
            "Batch 233 of size 3 took 0.0985065000004397 seconds\n",
            "Batch 234 of size 3 took 0.10273760000018228 seconds\n",
            "Batch 235 of size 3 took 0.09374380000008387 seconds\n",
            "Batch 236 of size 3 took 0.07346450000113691 seconds\n",
            "Batch 237 of size 3 took 0.06845959999918705 seconds\n",
            "Batch 238 of size 3 took 0.10205019999921205 seconds\n",
            "Batch 239 of size 3 took 0.1027842999992572 seconds\n",
            "Batch 240 of size 3 took 0.07316240000000107 seconds\n",
            "Batch 241 of size 3 took 0.09114360000057786 seconds\n",
            "Batch 242 of size 3 took 0.0940465999992739 seconds\n",
            "Batch 243 of size 3 took 0.07768310000028578 seconds\n",
            "Batch 244 of size 3 took 0.0746780999998009 seconds\n",
            "Batch 245 of size 3 took 0.07966830000077607 seconds\n",
            "Batch 246 of size 3 took 0.08041969999976573 seconds\n",
            "Batch 247 of size 3 took 0.06952730000011798 seconds\n",
            "Batch 248 of size 3 took 0.07881619999898248 seconds\n",
            "Batch 249 of size 3 took 0.07899080000061076 seconds\n",
            "Batch 250 of size 3 took 0.09291750000011234 seconds\n",
            "Batch 251 of size 3 took 0.08395820000077947 seconds\n",
            "Batch 252 of size 3 took 0.08092729999953008 seconds\n",
            "Batch 253 of size 3 took 0.07705079999868758 seconds\n",
            "Batch 254 of size 3 took 0.08320110000022396 seconds\n",
            "Batch 255 of size 3 took 0.1043723000002501 seconds\n",
            "Batch 256 of size 3 took 0.0868451999995159 seconds\n",
            "Batch 257 of size 3 took 0.0799458000001323 seconds\n",
            "Batch 258 of size 3 took 0.0695263999987219 seconds\n",
            "Batch 259 of size 3 took 0.07109239999954298 seconds\n",
            "Batch 260 of size 3 took 0.08021050000024843 seconds\n",
            "Batch 261 of size 3 took 0.08097550000093179 seconds\n",
            "Batch 262 of size 3 took 0.07559989999936079 seconds\n",
            "Batch 263 of size 3 took 0.08105770000111079 seconds\n",
            "Batch 264 of size 3 took 0.07871349999913946 seconds\n"
          ]
        },
        {
          "data": {
            "application/vnd.jupyter.widget-view+json": {
              "model_id": "0c07816904cc4f0d8e6abbed92b135fe",
              "version_major": 2,
              "version_minor": 0
            },
            "text/plain": [
              "Epoch 1 [Valid]:   0%|          | 0/30 [00:15<?, ?it/s]"
            ]
          },
          "metadata": {},
          "output_type": "display_data"
        },
        {
          "name": "stdout",
          "output_type": "stream",
          "text": [
            "Validation for epoch 1 took 32.10s\n",
            "Epoch 1/1 - Train Loss: 0.7360 (MA: 0.7360), Val Loss: 0.7559 (MA: 0.7559), Duration: 0:01:24.197274\n",
            "  Val Loss MA improved to 0.755875 from inf (nan% improvement).\n",
            "  Saved new best model (val loss MA) at epoch 1\n",
            "Epoch 1: Generating multiple visualization samples...\n",
            "  Generating fixed sample (index 0 from val_dataset)...\n",
            "  Generating random stopped sample...\n",
            "  Generating random moving sample (action 0.13)...\n",
            "Sampling for epoch 1 took 5.10s\n",
            "Saved loss plot up to epoch 1\n",
            "--- Training Complete (Stopped after epoch 1) ---\n",
            "Total training duration: 0:01:54.619303\n",
            "Final loss plot saved to C:\\Projects\\jetbot-diffusion-world-model-kong-finder-aux\\output_model_2hz_DIAMOND_laundry_nonincremental_test\\plots\\denoiser_final_loss_plot.png\n"
          ]
        },
        {
          "data": {
            "text/html": [],
            "text/plain": [
              "<IPython.core.display.HTML object>"
            ]
          },
          "metadata": {},
          "output_type": "display_data"
        },
        {
          "data": {
            "text/html": [
              "<br>    <style><br>        .wandb-row {<br>            display: flex;<br>            flex-direction: row;<br>            flex-wrap: wrap;<br>            justify-content: flex-start;<br>            width: 100%;<br>        }<br>        .wandb-col {<br>            display: flex;<br>            flex-direction: column;<br>            flex-basis: 100%;<br>            flex: 1;<br>            padding: 10px;<br>        }<br>    </style><br><div class=\"wandb-row\"><div class=\"wandb-col\"><h3>Run history:</h3><br/><table class=\"wandb\"><tr><td>avg_train_loss</td><td>▁</td></tr><tr><td>avg_val_loss</td><td>▁</td></tr><tr><td>batch_idx</td><td>▁▁▂▂▂▂▂▂▃▃▃▃▃▃▄▄▄▄▄▄▅▅▅▅▅▆▆▆▆▆▆▆▇▇▇▇████</td></tr><tr><td>epoch</td><td>▁</td></tr><tr><td>epoch_duration_sec</td><td>▁</td></tr><tr><td>learning_rate</td><td>▁</td></tr><tr><td>sampling_duration_sec</td><td>▁</td></tr><tr><td>step_duration</td><td>█▁▁▁▁▁▁▁▁▁▁▁▁▁▁▁▁▁▁▁▁▁▁▁▁▁▁▁▁▁▁▁▁▁▁▁▁▁▁▁</td></tr><tr><td>train_batch_denoising_loss</td><td>▃▃▁▇▆▅▄█▄▃▇▇▅▃▃▄▅▅▃▂▂▂▄▃▂▄▄</td></tr><tr><td>train_batch_loss</td><td>▃▃▁▇▆▅▄█▄▃▇▇▅▃▃▄▅▅▃▂▂▂▄▃▂▄▄</td></tr><tr><td>train_loss_ma</td><td>▁</td></tr><tr><td>train_step</td><td>▁▁▂▂▂▂▃▃▃▃▄▄▄▅▅▅▅▆▆▆▆▇▇▇▇██</td></tr><tr><td>val_batch_denoising_loss</td><td>▁▁█</td></tr><tr><td>val_batch_loss</td><td>▁▁█</td></tr><tr><td>val_loss_ma</td><td>▁</td></tr><tr><td>val_step</td><td>▁▅█</td></tr><tr><td>validation_duration_sec</td><td>▁</td></tr></table><br/></div><div class=\"wandb-col\"><h3>Run summary:</h3><br/><table class=\"wandb\"><tr><td>avg_train_loss</td><td>0.73604</td></tr><tr><td>avg_val_loss</td><td>0.75588</td></tr><tr><td>batch_idx</td><td>264</td></tr><tr><td>best_val_loss_ma_so_far</td><td>inf</td></tr><tr><td>epoch</td><td>1</td></tr><tr><td>epoch_duration_sec</td><td>84.19727</td></tr><tr><td>learning_rate</td><td>0.0</td></tr><tr><td>sampling_duration_sec</td><td>5.09867</td></tr><tr><td>step_duration</td><td>0.07871</td></tr><tr><td>train_batch_denoising_loss</td><td>0.71898</td></tr><tr><td>train_batch_loss</td><td>0.71898</td></tr><tr><td>train_loss_ma</td><td>0.73604</td></tr><tr><td>train_step</td><td>260</td></tr><tr><td>val_batch_denoising_loss</td><td>0.80112</td></tr><tr><td>val_batch_loss</td><td>0.80112</td></tr><tr><td>val_loss_ma</td><td>0.75588</td></tr><tr><td>val_step</td><td>20</td></tr><tr><td>validation_duration_sec</td><td>32.09557</td></tr></table><br/></div></div>"
            ],
            "text/plain": [
              "<IPython.core.display.HTML object>"
            ]
          },
          "metadata": {},
          "output_type": "display_data"
        },
        {
          "data": {
            "text/html": [
              " View run <strong style=\"color:#cdcd00\">youthful-shadow-45</strong> at: <a href='https://wandb.ai/irvin-hwang-simulacra-systems/jetbot-diamond-world-model/runs/ut4410mf' target=\"_blank\">https://wandb.ai/irvin-hwang-simulacra-systems/jetbot-diamond-world-model/runs/ut4410mf</a><br> View project at: <a href='https://wandb.ai/irvin-hwang-simulacra-systems/jetbot-diamond-world-model' target=\"_blank\">https://wandb.ai/irvin-hwang-simulacra-systems/jetbot-diamond-world-model</a><br>Synced 5 W&B file(s), 6 media file(s), 2 artifact file(s) and 0 other file(s)"
            ],
            "text/plain": [
              "<IPython.core.display.HTML object>"
            ]
          },
          "metadata": {},
          "output_type": "display_data"
        },
        {
          "data": {
            "text/html": [
              "Find logs at: <code>.\\wandb\\run-20250721_103119-ut4410mf\\logs</code>"
            ],
            "text/plain": [
              "<IPython.core.display.HTML object>"
            ]
          },
          "metadata": {},
          "output_type": "display_data"
        },
        {
          "name": "stdout",
          "output_type": "stream",
          "text": [
            "Wandb run finished.\n"
          ]
        },
        {
          "ename": "AttributeError",
          "evalue": "'NoneType' object has no attribute 'history'",
          "output_type": "error",
          "traceback": [
            "\u001b[1;31m---------------------------------------------------------------------------\u001b[0m",
            "\u001b[1;31mAttributeError\u001b[0m                            Traceback (most recent call last)",
            "Cell \u001b[1;32mIn[2], line 4\u001b[0m\n\u001b[0;32m      2\u001b[0m config\u001b[38;5;241m.\u001b[39mNUM_EPOCHS \u001b[38;5;241m=\u001b[39m \u001b[38;5;241m1\u001b[39m\n\u001b[0;32m      3\u001b[0m trainer\u001b[38;5;241m.\u001b[39m_main_training()\n\u001b[1;32m----> 4\u001b[0m noninc_table \u001b[38;5;241m=\u001b[39m \u001b[43mwandb\u001b[49m\u001b[38;5;241;43m.\u001b[39;49m\u001b[43mrun\u001b[49m\u001b[38;5;241;43m.\u001b[39;49m\u001b[43mhistory\u001b[49m[\u001b[38;5;241m-\u001b[39m\u001b[38;5;241m1\u001b[39m]\u001b[38;5;241m.\u001b[39mget(\u001b[38;5;124m'\u001b[39m\u001b[38;5;124mtrain_epoch_perf\u001b[39m\u001b[38;5;124m'\u001b[39m)\n",
            "\u001b[1;31mAttributeError\u001b[0m: 'NoneType' object has no attribute 'history'"
          ]
        },
        {
          "data": {
            "image/png": "[encoded data removed]",
            "text/plain": [
              "<Figure size 1200x600 with 1 Axes>"
            ]
          },
          "metadata": {},
          "output_type": "display_data"
        }
      ],
      "source": [
        "config.OUTPUT_DIR = os.path.join(config.AUXILIARY_DIR, 'output_model_2hz_DIAMOND_laundry_nonincremental_test')\n",
        "config.DATA_DIR = os.path.join(config.AUXILIARY_DIR, 'jetbot_data_two_actions_nonincremental_test')\n",
        "config.NUM_EPOCHS = 1\n",
        "trainer_run = trainer._main_training(finish_run=False)\n",
        "noninc_table = trainer_run.history[-1].get(\"train_epoch_perf\")\n",
        "wandb.finish()\n"
      ]
    },
    {
      "cell_type": "markdown",
      "id": "869c7037",
      "metadata": {},
      "source": [
        "### Run `train_diamond_model` on incremental dataset"
      ]
    },
    {
      "cell_type": "code",
      "execution_count": null,
      "id": "424a18c3",
      "metadata": {},
      "outputs": [],
      "source": [
        "config.OUTPUT_DIR = os.path.join(config.AUXILIARY_DIR, 'output_model_2hz_DIAMOND_laundry_incremental_test')\n",
        "config.DATA_DIR = os.path.join(config.AUXILIARY_DIR, 'jetbot_data_two_actions_incremental_test')\n",
        "wandb.init(project=\"timing-comparison\", reinit=True)\n",
        "\n",
        "incremental_trainer.main()\n",
        "inc_table = wandb.run.history[-1].get(\"incremental_perf\")\n",
        "wandb.finish()\n"
      ]
    },
    {
      "cell_type": "markdown",
      "id": "40e83a0e",
      "metadata": {},
      "source": [
        "### Compare timings"
      ]
    },
    {
      "cell_type": "code",
      "execution_count": null,
      "id": "96a9c2fb",
      "metadata": {},
      "outputs": [],
      "source": [
        "\n",
        "import pandas as pd\n",
        "\n",
        "if noninc_table is not None and inc_table is not None:\n",
        "    df_non = pd.DataFrame(noninc_table.data, columns=noninc_table.columns)\n",
        "    df_inc = pd.DataFrame(inc_table.data, columns=inc_table.columns)\n",
        "    display(df_non.describe())\n",
        "    display(df_inc.describe())\n"
      ]
    }
  ],
  "metadata": {
    "kernelspec": {
      "display_name": "Python 3 (ipykernel)",
      "language": "python",
      "name": "python3"
    },
    "language_info": {
      "codemirror_mode": {
        "name": "ipython",
        "version": 3
      },
      "file_extension": ".py",
      "mimetype": "text/x-python",
      "name": "python",
      "nbconvert_exporter": "python",
      "pygments_lexer": "ipython3",
      "version": "3.11.9"
    }
  },
  "nbformat": 4,
  "nbformat_minor": 5
}
