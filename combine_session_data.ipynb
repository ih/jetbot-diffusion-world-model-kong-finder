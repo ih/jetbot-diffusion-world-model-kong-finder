{
 "cells": [
  {
   "cell_type": "code",
   "execution_count": 1,
   "id": "b4237926-8e41-4558-bb17-545bda787083",
   "metadata": {},
   "outputs": [],
   "source": [
    "import os\n",
    "import csv\n",
    "import shutil\n",
    "import pandas as pd\n",
    "from tqdm.auto import tqdm\n",
    "import config"
   ]
  },
  {
   "cell_type": "code",
   "execution_count": 2,
   "id": "ff98c00c-c30c-43c9-8004-3f849ae1719c",
   "metadata": {},
   "outputs": [],
   "source": [
    "def combine_sessions_append(session_base_dir, aggregate_image_dir, aggregate_csv_path):\n",
    "    \"\"\"\n",
    "    Combines data from session directories into an aggregate dataset.\n",
    "    - Uses session directory name as session_id.\n",
    "    - Renames images using session_id as a prefix.\n",
    "    - Appends data from new sessions to an existing CSV.\n",
    "    \"\"\"\n",
    "    os.makedirs(aggregate_image_dir, exist_ok=True) #\n",
    "\n",
    "    all_data = []\n",
    "\n",
    "    try:\n",
    "        session_dirs = [d for d in os.listdir(session_base_dir) if os.path.isdir(os.path.join(session_base_dir, d)) and d.startswith('session_')] #\n",
    "        session_dirs.sort() #\n",
    "    except FileNotFoundError: #\n",
    "        print(f\"Error: Base session directory not found: {session_base_dir}\") #\n",
    "        return #\n",
    "\n",
    "    print(f\"Found {len(session_dirs)} sessions to check from '{session_base_dir}'.\") #\n",
    "\n",
    "    # --- Determine which sessions are already processed (if CSV exists) ---\n",
    "    existing_sessions = set()\n",
    "    file_exists = os.path.exists(aggregate_csv_path) #\n",
    "    if file_exists:\n",
    "        try:\n",
    "            print(f\"Reading existing sessions from: {aggregate_csv_path}\") #\n",
    "            existing_df = pd.read_csv(aggregate_csv_path) #\n",
    "            if 'session_id' in existing_df.columns:\n",
    "                existing_sessions = set(existing_df['session_id'].unique()) #\n",
    "            print(f\"Found {len(existing_sessions)} existing sessions.\")\n",
    "        except pd.errors.EmptyDataError:\n",
    "            print(f\"Warning: Existing CSV '{aggregate_csv_path}' is empty.\")\n",
    "            file_exists = False # Treat as if it doesn't exist for writing header\n",
    "        except Exception as e:\n",
    "            print(f\"Error reading existing aggregate CSV: {e}. Will attempt to proceed, but caution advised.\")\n",
    "            # We might proceed but risk duplicates if we can't read existing IDs\n",
    "\n",
    "    # --- Process only new sessions ---\n",
    "    sessions_to_process = [s for s in session_dirs if s not in existing_sessions]\n",
    "    print(f\"Found {len(sessions_to_process)} new sessions to process.\")\n",
    "\n",
    "    if not sessions_to_process:\n",
    "        print(\"No new sessions to add. Exiting.\")\n",
    "        return\n",
    "\n",
    "    for session_name in tqdm(sessions_to_process, desc=\"Processing New Sessions\"): #\n",
    "        session_path = os.path.join(session_base_dir, session_name) #\n",
    "        session_csv = os.path.join(session_path, 'data.csv') #\n",
    "        session_img_dir = os.path.join(session_path, 'images') #\n",
    "\n",
    "        if not os.path.exists(session_csv) or not os.path.exists(session_img_dir): #\n",
    "            print(f\"Warning: Skipping session {session_name}, missing data.csv or images directory.\") #\n",
    "            continue #\n",
    "\n",
    "        try:\n",
    "            df = pd.read_csv(session_csv) #\n",
    "            if df.empty: #\n",
    "                 print(f\"Warning: Skipping session {session_name}, data.csv is empty.\") #\n",
    "                 continue #\n",
    "        except Exception as e: #\n",
    "            print(f\"Warning: Error reading {session_csv}, skipping session {session_name}. Error: {e}\") #\n",
    "            continue #\n",
    "\n",
    "        print(f\"Processing session: {session_name}, {len(df)} entries.\") #\n",
    "\n",
    "        for index, row in tqdm(df.iterrows(), total=len(df), desc=f\"  Processing {session_name}\", leave=False): #\n",
    "            original_relative_path = row['image_path'] #\n",
    "            original_absolute_path = os.path.join(session_path, original_relative_path) #\n",
    "            original_filename = os.path.basename(original_relative_path) #\n",
    "\n",
    "            if not os.path.exists(original_absolute_path): #\n",
    "                 print(f\"  Warning: Image not found, skipping: {original_absolute_path}\") #\n",
    "                 continue #\n",
    "\n",
    "            new_filename = f\"{session_name}_{original_filename}\" #\n",
    "            new_relative_path = os.path.join('images', new_filename) #\n",
    "            new_absolute_path = os.path.join(aggregate_image_dir, new_filename) #\n",
    "\n",
    "            try:\n",
    "                if not os.path.exists(new_absolute_path): #\n",
    "                    shutil.copy2(original_absolute_path, new_absolute_path) #\n",
    "            except Exception as e: #\n",
    "                print(f\"  Error copying image {original_absolute_path} to {new_absolute_path}. Skipping. Error: {e}\") #\n",
    "                continue #\n",
    "\n",
    "            all_data.append({ #\n",
    "                'session_id': session_name, #\n",
    "                'image_path': new_relative_path, #\n",
    "                'timestamp': row['timestamp'], #\n",
    "                'action': row['action'] #\n",
    "            })\n",
    "\n",
    "    # --- Write new data (if any) ---\n",
    "    if not all_data:\n",
    "         print(\"\\nNo new valid data found in session directories to add.\") #\n",
    "         return #\n",
    "\n",
    "    new_df_to_write = pd.DataFrame(all_data, columns=['session_id', 'image_path', 'timestamp', 'action']) #\n",
    "\n",
    "    try:\n",
    "        if file_exists:\n",
    "            # Append to existing file without header\n",
    "            print(f\"Appending {len(new_df_to_write)} new entries to {aggregate_csv_path}\")\n",
    "            new_df_to_write.to_csv(aggregate_csv_path, mode='a', header=False, index=False)\n",
    "        else:\n",
    "            # Write new file with header\n",
    "            print(f\"Creating new aggregate file {aggregate_csv_path} with {len(new_df_to_write)} entries.\")\n",
    "            new_df_to_write.to_csv(aggregate_csv_path, mode='w', header=True, index=False)\n",
    "\n",
    "        # Optional: Print total count after adding\n",
    "        final_df = pd.read_csv(aggregate_csv_path)\n",
    "        print(f\"\\nAggregate data saved. Total entries now: {len(final_df)}\")\n",
    "\n",
    "    except Exception as e:\n",
    "         print(f\"\\nError writing aggregated CSV file to {aggregate_csv_path}. Error: {e}\") #\n"
   ]
  },
  {
   "cell_type": "code",
   "execution_count": 3,
   "id": "d45e8818",
   "metadata": {},
   "outputs": [],
   "source": [
    "def gather_new_sessions_only(session_base_dir, processed_csv_path, new_image_dir, new_csv_path):\n",
    "    \"\"\"Collects only sessions not already present in processed_csv_path and\n",
    "    writes them to a separate aggregate located at ``new_image_dir`` and ``new_csv_path``.\n",
    "    This is useful for incremental training before permanently adding the\n",
    "    sessions to the full dataset.\"\"\"\n",
    "    os.makedirs(new_image_dir, exist_ok=True)\n",
    "    if os.path.exists(new_csv_path):\n",
    "        os.remove(new_csv_path)\n",
    "\n",
    "    existing_sessions = set()\n",
    "    if os.path.exists(processed_csv_path):\n",
    "        try:\n",
    "            df_existing = pd.read_csv(processed_csv_path)\n",
    "            if 'session_id' in df_existing.columns:\n",
    "                existing_sessions = set(df_existing['session_id'].unique())\n",
    "        except Exception as exc:\n",
    "            print(f\"Error reading processed CSV {processed_csv_path}: {exc}\")\n",
    "\n",
    "    try:\n",
    "        session_dirs = [d for d in os.listdir(session_base_dir)\n",
    "                        if os.path.isdir(os.path.join(session_base_dir, d)) and d.startswith('session_')]\n",
    "        session_dirs.sort()\n",
    "    except FileNotFoundError:\n",
    "        print(f\"Base session directory not found: {session_base_dir}\")\n",
    "        return []\n",
    "\n",
    "    sessions_to_process = [s for s in session_dirs if s not in existing_sessions]\n",
    "    print(f\"Found {len(sessions_to_process)} new sessions to collect.\")\n",
    "\n",
    "    all_rows = []\n",
    "    for session_name in tqdm(sessions_to_process, desc=\"Collecting New Sessions\"):\n",
    "        session_path = os.path.join(session_base_dir, session_name)\n",
    "        session_csv = os.path.join(session_path, 'data.csv')\n",
    "        session_img_dir = os.path.join(session_path, 'images')\n",
    "        if not os.path.exists(session_csv) or not os.path.exists(session_img_dir):\n",
    "            print(f\"Skipping {session_name}, missing data.csv or images\")\n",
    "            continue\n",
    "        try:\n",
    "            df = pd.read_csv(session_csv)\n",
    "        except Exception as exc:\n",
    "            print(f\"Error reading {session_csv}: {exc}\")\n",
    "            continue\n",
    "        for _, row in df.iterrows():\n",
    "            orig_rel = row['image_path']\n",
    "            orig_abs = os.path.join(session_path, orig_rel)\n",
    "            new_filename = f\"{session_name}_{os.path.basename(orig_rel)}\"\n",
    "            new_rel = os.path.join('images', new_filename)\n",
    "            new_abs = os.path.join(new_image_dir, new_filename)\n",
    "            if not os.path.exists(orig_abs):\n",
    "                continue\n",
    "            if not os.path.exists(new_abs):\n",
    "                try:\n",
    "                    shutil.copy2(orig_abs, new_abs)\n",
    "                except Exception as exc:\n",
    "                    print(f\"Could not copy {orig_abs}: {exc}\")\n",
    "                    continue\n",
    "            all_rows.append({'session_id': session_name,\n",
    "                             'image_path': new_rel,\n",
    "                             'timestamp': row.get('timestamp', ''),\n",
    "                             'action': row['action']})\n",
    "\n",
    "    if all_rows:\n",
    "        pd.DataFrame(all_rows).to_csv(new_csv_path, index=False)\n",
    "        print(f\"Wrote {len(all_rows)} entries to {new_csv_path}\")\n",
    "    else:\n",
    "        print(\"No new session data found.\")\n",
    "    return sessions_to_process\n",
    "\n",
    "\n",
    "# In[3]:\n",
    "\n"
   ]
  },
  {
   "cell_type": "markdown",
   "id": "075fe850-7563-4dd8-aded-1c1c438bca6a",
   "metadata": {},
   "source": [
    "combine_sessions_append(\n",
    "    r'C:\\Projects\\jetbot-diffusion-world-model-kong-finder-aux\\jetbot_session_data_two_actions_holdout_laundry', \n",
    "    r'C:\\Projects\\jetbot-diffusion-world-model-kong-finder-aux\\jetbot_data_two_actions_holdout\\images',\n",
    "    r'C:\\Projects\\jetbot-diffusion-world-model-kong-finder-aux\\jetbot_data_two_actions_holdout\\holdout.csv'\n",
    ")"
   ]
  },
  {
   "cell_type": "code",
   "execution_count": 4,
   "id": "0cdfc084-4784-44bc-8e14-ebfe78622485",
   "metadata": {},
   "outputs": [
    {
     "name": "stdout",
     "output_type": "stream",
     "text": [
      "Found 150 sessions to check from 'C:\\Projects\\jetbot-diffusion-world-model-kong-finder-aux\\jetbot_livingroom_session_data_single_position'.\n",
      "Reading existing sessions from: C:\\Projects\\jetbot-diffusion-world-model-kong-finder-aux\\jetbot_data_two_actions_single_position\\livingroom_data_incremental_test.csv\n",
      "Found 74 existing sessions.\n",
      "Found 76 new sessions to process.\n"
     ]
    },
    {
     "data": {
      "application/vnd.jupyter.widget-view+json": {
       "model_id": "8732ec2d5f1140c78e6635f922e36033",
       "version_major": 2,
       "version_minor": 0
      },
      "text/plain": [
       "Processing New Sessions:   0%|          | 0/76 [00:00<?, ?it/s]"
      ]
     },
     "metadata": {},
     "output_type": "display_data"
    },
    {
     "name": "stdout",
     "output_type": "stream",
     "text": [
      "Processing session: session_20250728_092449, 2309 entries.\n"
     ]
    },
    {
     "data": {
      "application/vnd.jupyter.widget-view+json": {
       "model_id": "f7d302459e214620be1e20b58402a797",
       "version_major": 2,
       "version_minor": 0
      },
      "text/plain": [
       "  Processing session_20250728_092449:   0%|          | 0/2309 [00:00<?, ?it/s]"
      ]
     },
     "metadata": {},
     "output_type": "display_data"
    },
    {
     "name": "stdout",
     "output_type": "stream",
     "text": [
      "Processing session: session_20250728_093124, 2245 entries.\n"
     ]
    },
    {
     "data": {
      "application/vnd.jupyter.widget-view+json": {
       "model_id": "0becfe6d5ba14522b497c38c5807ba94",
       "version_major": 2,
       "version_minor": 0
      },
      "text/plain": [
       "  Processing session_20250728_093124:   0%|          | 0/2245 [00:00<?, ?it/s]"
      ]
     },
     "metadata": {},
     "output_type": "display_data"
    },
    {
     "name": "stdout",
     "output_type": "stream",
     "text": [
      "Processing session: session_20250728_100126, 2182 entries.\n"
     ]
    },
    {
     "data": {
      "application/vnd.jupyter.widget-view+json": {
       "model_id": "772221f3634746d091674cb249ad4adc",
       "version_major": 2,
       "version_minor": 0
      },
      "text/plain": [
       "  Processing session_20250728_100126:   0%|          | 0/2182 [00:00<?, ?it/s]"
      ]
     },
     "metadata": {},
     "output_type": "display_data"
    },
    {
     "name": "stdout",
     "output_type": "stream",
     "text": [
      "Processing session: session_20250728_100916, 2173 entries.\n"
     ]
    },
    {
     "data": {
      "application/vnd.jupyter.widget-view+json": {
       "model_id": "e403f4cb8b9a4113bdf736b9b96df217",
       "version_major": 2,
       "version_minor": 0
      },
      "text/plain": [
       "  Processing session_20250728_100916:   0%|          | 0/2173 [00:00<?, ?it/s]"
      ]
     },
     "metadata": {},
     "output_type": "display_data"
    },
    {
     "name": "stdout",
     "output_type": "stream",
     "text": [
      "Processing session: session_20250728_101056, 2266 entries.\n"
     ]
    },
    {
     "data": {
      "application/vnd.jupyter.widget-view+json": {
       "model_id": "4fcf36dfbed146bfb95148444d216f2f",
       "version_major": 2,
       "version_minor": 0
      },
      "text/plain": [
       "  Processing session_20250728_101056:   0%|          | 0/2266 [00:00<?, ?it/s]"
      ]
     },
     "metadata": {},
     "output_type": "display_data"
    },
    {
     "name": "stdout",
     "output_type": "stream",
     "text": [
      "Processing session: session_20250728_101239, 2221 entries.\n"
     ]
    },
    {
     "data": {
      "application/vnd.jupyter.widget-view+json": {
       "model_id": "c237f523cd6a46c38c350798d2a3cc23",
       "version_major": 2,
       "version_minor": 0
      },
      "text/plain": [
       "  Processing session_20250728_101239:   0%|          | 0/2221 [00:00<?, ?it/s]"
      ]
     },
     "metadata": {},
     "output_type": "display_data"
    },
    {
     "name": "stdout",
     "output_type": "stream",
     "text": [
      "Processing session: session_20250728_101420, 2143 entries.\n"
     ]
    },
    {
     "data": {
      "application/vnd.jupyter.widget-view+json": {
       "model_id": "dfefcb42bd144e62af1eea1955a05da7",
       "version_major": 2,
       "version_minor": 0
      },
      "text/plain": [
       "  Processing session_20250728_101420:   0%|          | 0/2143 [00:00<?, ?it/s]"
      ]
     },
     "metadata": {},
     "output_type": "display_data"
    },
    {
     "name": "stdout",
     "output_type": "stream",
     "text": [
      "Processing session: session_20250728_101556, 2286 entries.\n"
     ]
    },
    {
     "data": {
      "application/vnd.jupyter.widget-view+json": {
       "model_id": "f45001e0f9024edba4f2988ff6899348",
       "version_major": 2,
       "version_minor": 0
      },
      "text/plain": [
       "  Processing session_20250728_101556:   0%|          | 0/2286 [00:00<?, ?it/s]"
      ]
     },
     "metadata": {},
     "output_type": "display_data"
    },
    {
     "name": "stdout",
     "output_type": "stream",
     "text": [
      "Processing session: session_20250728_101754, 2252 entries.\n"
     ]
    },
    {
     "data": {
      "application/vnd.jupyter.widget-view+json": {
       "model_id": "49aec0a787c140c5b5b2664c404de1a3",
       "version_major": 2,
       "version_minor": 0
      },
      "text/plain": [
       "  Processing session_20250728_101754:   0%|          | 0/2252 [00:00<?, ?it/s]"
      ]
     },
     "metadata": {},
     "output_type": "display_data"
    },
    {
     "name": "stdout",
     "output_type": "stream",
     "text": [
      "Processing session: session_20250728_101937, 2206 entries.\n"
     ]
    },
    {
     "data": {
      "application/vnd.jupyter.widget-view+json": {
       "model_id": "c6bb52b1d656479485456846f89b7aba",
       "version_major": 2,
       "version_minor": 0
      },
      "text/plain": [
       "  Processing session_20250728_101937:   0%|          | 0/2206 [00:00<?, ?it/s]"
      ]
     },
     "metadata": {},
     "output_type": "display_data"
    },
    {
     "name": "stdout",
     "output_type": "stream",
     "text": [
      "Processing session: session_20250728_102113, 2265 entries.\n"
     ]
    },
    {
     "data": {
      "application/vnd.jupyter.widget-view+json": {
       "model_id": "2a92e67a470c4df18c17604e5600d6d5",
       "version_major": 2,
       "version_minor": 0
      },
      "text/plain": [
       "  Processing session_20250728_102113:   0%|          | 0/2265 [00:00<?, ?it/s]"
      ]
     },
     "metadata": {},
     "output_type": "display_data"
    },
    {
     "name": "stdout",
     "output_type": "stream",
     "text": [
      "Processing session: session_20250728_102312, 2145 entries.\n"
     ]
    },
    {
     "data": {
      "application/vnd.jupyter.widget-view+json": {
       "model_id": "c3f039a37dec451681102c3347157013",
       "version_major": 2,
       "version_minor": 0
      },
      "text/plain": [
       "  Processing session_20250728_102312:   0%|          | 0/2145 [00:00<?, ?it/s]"
      ]
     },
     "metadata": {},
     "output_type": "display_data"
    },
    {
     "name": "stdout",
     "output_type": "stream",
     "text": [
      "Processing session: session_20250728_102510, 2226 entries.\n"
     ]
    },
    {
     "data": {
      "application/vnd.jupyter.widget-view+json": {
       "model_id": "c4a963545e084c14876371fc4f069103",
       "version_major": 2,
       "version_minor": 0
      },
      "text/plain": [
       "  Processing session_20250728_102510:   0%|          | 0/2226 [00:00<?, ?it/s]"
      ]
     },
     "metadata": {},
     "output_type": "display_data"
    },
    {
     "name": "stdout",
     "output_type": "stream",
     "text": [
      "Processing session: session_20250728_102655, 2175 entries.\n"
     ]
    },
    {
     "data": {
      "application/vnd.jupyter.widget-view+json": {
       "model_id": "10dd9901573b497fb7d1db5f90a543e5",
       "version_major": 2,
       "version_minor": 0
      },
      "text/plain": [
       "  Processing session_20250728_102655:   0%|          | 0/2175 [00:00<?, ?it/s]"
      ]
     },
     "metadata": {},
     "output_type": "display_data"
    },
    {
     "name": "stdout",
     "output_type": "stream",
     "text": [
      "Processing session: session_20250728_102831, 2353 entries.\n"
     ]
    },
    {
     "data": {
      "application/vnd.jupyter.widget-view+json": {
       "model_id": "c4f5d714578a48c4a32de3caf5e46304",
       "version_major": 2,
       "version_minor": 0
      },
      "text/plain": [
       "  Processing session_20250728_102831:   0%|          | 0/2353 [00:00<?, ?it/s]"
      ]
     },
     "metadata": {},
     "output_type": "display_data"
    },
    {
     "name": "stdout",
     "output_type": "stream",
     "text": [
      "Processing session: session_20250728_103013, 2257 entries.\n"
     ]
    },
    {
     "data": {
      "application/vnd.jupyter.widget-view+json": {
       "model_id": "a3744332c2074fcc86c8daadcd0212ae",
       "version_major": 2,
       "version_minor": 0
      },
      "text/plain": [
       "  Processing session_20250728_103013:   0%|          | 0/2257 [00:00<?, ?it/s]"
      ]
     },
     "metadata": {},
     "output_type": "display_data"
    },
    {
     "name": "stdout",
     "output_type": "stream",
     "text": [
      "Processing session: session_20250728_103416, 2199 entries.\n"
     ]
    },
    {
     "data": {
      "application/vnd.jupyter.widget-view+json": {
       "model_id": "2659f7ecac764d1db46d7c285c6dcb09",
       "version_major": 2,
       "version_minor": 0
      },
      "text/plain": [
       "  Processing session_20250728_103416:   0%|          | 0/2199 [00:00<?, ?it/s]"
      ]
     },
     "metadata": {},
     "output_type": "display_data"
    },
    {
     "name": "stdout",
     "output_type": "stream",
     "text": [
      "Processing session: session_20250728_103555, 2162 entries.\n"
     ]
    },
    {
     "data": {
      "application/vnd.jupyter.widget-view+json": {
       "model_id": "cf1ba9cc8ed445cf94ab7fb91255bb9f",
       "version_major": 2,
       "version_minor": 0
      },
      "text/plain": [
       "  Processing session_20250728_103555:   0%|          | 0/2162 [00:00<?, ?it/s]"
      ]
     },
     "metadata": {},
     "output_type": "display_data"
    },
    {
     "name": "stdout",
     "output_type": "stream",
     "text": [
      "Processing session: session_20250728_103738, 2238 entries.\n"
     ]
    },
    {
     "data": {
      "application/vnd.jupyter.widget-view+json": {
       "model_id": "d72bfcb5a9774b0e99127056dcbd4da2",
       "version_major": 2,
       "version_minor": 0
      },
      "text/plain": [
       "  Processing session_20250728_103738:   0%|          | 0/2238 [00:00<?, ?it/s]"
      ]
     },
     "metadata": {},
     "output_type": "display_data"
    },
    {
     "name": "stdout",
     "output_type": "stream",
     "text": [
      "Processing session: session_20250728_104642, 2196 entries.\n"
     ]
    },
    {
     "data": {
      "application/vnd.jupyter.widget-view+json": {
       "model_id": "857394cb738b462b98dfa3c479148a3d",
       "version_major": 2,
       "version_minor": 0
      },
      "text/plain": [
       "  Processing session_20250728_104642:   0%|          | 0/2196 [00:00<?, ?it/s]"
      ]
     },
     "metadata": {},
     "output_type": "display_data"
    },
    {
     "name": "stdout",
     "output_type": "stream",
     "text": [
      "Processing session: session_20250728_104815, 2286 entries.\n"
     ]
    },
    {
     "data": {
      "application/vnd.jupyter.widget-view+json": {
       "model_id": "188d124fd5f7423e84eb7240250d583a",
       "version_major": 2,
       "version_minor": 0
      },
      "text/plain": [
       "  Processing session_20250728_104815:   0%|          | 0/2286 [00:00<?, ?it/s]"
      ]
     },
     "metadata": {},
     "output_type": "display_data"
    },
    {
     "name": "stdout",
     "output_type": "stream",
     "text": [
      "Processing session: session_20250728_104955, 2125 entries.\n"
     ]
    },
    {
     "data": {
      "application/vnd.jupyter.widget-view+json": {
       "model_id": "7a28b0c07a934eb4803351ea7b8252a9",
       "version_major": 2,
       "version_minor": 0
      },
      "text/plain": [
       "  Processing session_20250728_104955:   0%|          | 0/2125 [00:00<?, ?it/s]"
      ]
     },
     "metadata": {},
     "output_type": "display_data"
    },
    {
     "name": "stdout",
     "output_type": "stream",
     "text": [
      "Processing session: session_20250728_105137, 2173 entries.\n"
     ]
    },
    {
     "data": {
      "application/vnd.jupyter.widget-view+json": {
       "model_id": "9fedded35b68454a9f2bc10be4f76131",
       "version_major": 2,
       "version_minor": 0
      },
      "text/plain": [
       "  Processing session_20250728_105137:   0%|          | 0/2173 [00:00<?, ?it/s]"
      ]
     },
     "metadata": {},
     "output_type": "display_data"
    },
    {
     "name": "stdout",
     "output_type": "stream",
     "text": [
      "Processing session: session_20250728_105312, 2282 entries.\n"
     ]
    },
    {
     "data": {
      "application/vnd.jupyter.widget-view+json": {
       "model_id": "c18ccd7d57124b26926ddfe853f9fdbf",
       "version_major": 2,
       "version_minor": 0
      },
      "text/plain": [
       "  Processing session_20250728_105312:   0%|          | 0/2282 [00:00<?, ?it/s]"
      ]
     },
     "metadata": {},
     "output_type": "display_data"
    },
    {
     "name": "stdout",
     "output_type": "stream",
     "text": [
      "Processing session: session_20250728_105607, 2187 entries.\n"
     ]
    },
    {
     "data": {
      "application/vnd.jupyter.widget-view+json": {
       "model_id": "017cd45739dc4cb99333a72a1628e6ad",
       "version_major": 2,
       "version_minor": 0
      },
      "text/plain": [
       "  Processing session_20250728_105607:   0%|          | 0/2187 [00:00<?, ?it/s]"
      ]
     },
     "metadata": {},
     "output_type": "display_data"
    },
    {
     "name": "stdout",
     "output_type": "stream",
     "text": [
      "Processing session: session_20250728_105736, 2212 entries.\n"
     ]
    },
    {
     "data": {
      "application/vnd.jupyter.widget-view+json": {
       "model_id": "af85146e27624abdb9164ff279eb9daf",
       "version_major": 2,
       "version_minor": 0
      },
      "text/plain": [
       "  Processing session_20250728_105736:   0%|          | 0/2212 [00:00<?, ?it/s]"
      ]
     },
     "metadata": {},
     "output_type": "display_data"
    },
    {
     "name": "stdout",
     "output_type": "stream",
     "text": [
      "Processing session: session_20250728_105911, 2194 entries.\n"
     ]
    },
    {
     "data": {
      "application/vnd.jupyter.widget-view+json": {
       "model_id": "06d33a62cd884873a2632aa2721644dd",
       "version_major": 2,
       "version_minor": 0
      },
      "text/plain": [
       "  Processing session_20250728_105911:   0%|          | 0/2194 [00:00<?, ?it/s]"
      ]
     },
     "metadata": {},
     "output_type": "display_data"
    },
    {
     "name": "stdout",
     "output_type": "stream",
     "text": [
      "Processing session: session_20250728_110040, 2215 entries.\n"
     ]
    },
    {
     "data": {
      "application/vnd.jupyter.widget-view+json": {
       "model_id": "0764cd39a2b34cd9908eb24f7d6ba176",
       "version_major": 2,
       "version_minor": 0
      },
      "text/plain": [
       "  Processing session_20250728_110040:   0%|          | 0/2215 [00:00<?, ?it/s]"
      ]
     },
     "metadata": {},
     "output_type": "display_data"
    },
    {
     "name": "stdout",
     "output_type": "stream",
     "text": [
      "Processing session: session_20250728_110211, 2187 entries.\n"
     ]
    },
    {
     "data": {
      "application/vnd.jupyter.widget-view+json": {
       "model_id": "54d7550fd8ea4b4f84774242277f84c6",
       "version_major": 2,
       "version_minor": 0
      },
      "text/plain": [
       "  Processing session_20250728_110211:   0%|          | 0/2187 [00:00<?, ?it/s]"
      ]
     },
     "metadata": {},
     "output_type": "display_data"
    },
    {
     "name": "stdout",
     "output_type": "stream",
     "text": [
      "Processing session: session_20250728_110347, 2112 entries.\n"
     ]
    },
    {
     "data": {
      "application/vnd.jupyter.widget-view+json": {
       "model_id": "36546b59c748481398ca076cbf58686b",
       "version_major": 2,
       "version_minor": 0
      },
      "text/plain": [
       "  Processing session_20250728_110347:   0%|          | 0/2112 [00:00<?, ?it/s]"
      ]
     },
     "metadata": {},
     "output_type": "display_data"
    },
    {
     "name": "stdout",
     "output_type": "stream",
     "text": [
      "Processing session: session_20250728_110525, 2133 entries.\n"
     ]
    },
    {
     "data": {
      "application/vnd.jupyter.widget-view+json": {
       "model_id": "14e99ee2f1dd4c4db9f41c3465eb8c16",
       "version_major": 2,
       "version_minor": 0
      },
      "text/plain": [
       "  Processing session_20250728_110525:   0%|          | 0/2133 [00:00<?, ?it/s]"
      ]
     },
     "metadata": {},
     "output_type": "display_data"
    },
    {
     "name": "stdout",
     "output_type": "stream",
     "text": [
      "Processing session: session_20250728_110701, 2265 entries.\n"
     ]
    },
    {
     "data": {
      "application/vnd.jupyter.widget-view+json": {
       "model_id": "e4a179ccd5c7400bb02abe22ef4ecbe2",
       "version_major": 2,
       "version_minor": 0
      },
      "text/plain": [
       "  Processing session_20250728_110701:   0%|          | 0/2265 [00:00<?, ?it/s]"
      ]
     },
     "metadata": {},
     "output_type": "display_data"
    },
    {
     "name": "stdout",
     "output_type": "stream",
     "text": [
      "Processing session: session_20250728_110835, 2233 entries.\n"
     ]
    },
    {
     "data": {
      "application/vnd.jupyter.widget-view+json": {
       "model_id": "1d36cf9e64734b77a981c11d142a7eea",
       "version_major": 2,
       "version_minor": 0
      },
      "text/plain": [
       "  Processing session_20250728_110835:   0%|          | 0/2233 [00:00<?, ?it/s]"
      ]
     },
     "metadata": {},
     "output_type": "display_data"
    },
    {
     "name": "stdout",
     "output_type": "stream",
     "text": [
      "Processing session: session_20250728_111007, 2289 entries.\n"
     ]
    },
    {
     "data": {
      "application/vnd.jupyter.widget-view+json": {
       "model_id": "dcf926ea3b494aa395dd0e32f1aca12a",
       "version_major": 2,
       "version_minor": 0
      },
      "text/plain": [
       "  Processing session_20250728_111007:   0%|          | 0/2289 [00:00<?, ?it/s]"
      ]
     },
     "metadata": {},
     "output_type": "display_data"
    },
    {
     "name": "stdout",
     "output_type": "stream",
     "text": [
      "Processing session: session_20250728_111318, 2326 entries.\n"
     ]
    },
    {
     "data": {
      "application/vnd.jupyter.widget-view+json": {
       "model_id": "ada9fa99c5534501a9943f6d7555dcfc",
       "version_major": 2,
       "version_minor": 0
      },
      "text/plain": [
       "  Processing session_20250728_111318:   0%|          | 0/2326 [00:00<?, ?it/s]"
      ]
     },
     "metadata": {},
     "output_type": "display_data"
    },
    {
     "name": "stdout",
     "output_type": "stream",
     "text": [
      "Processing session: session_20250728_111457, 2066 entries.\n"
     ]
    },
    {
     "data": {
      "application/vnd.jupyter.widget-view+json": {
       "model_id": "0b7704425b654d5b86865ded4417f891",
       "version_major": 2,
       "version_minor": 0
      },
      "text/plain": [
       "  Processing session_20250728_111457:   0%|          | 0/2066 [00:00<?, ?it/s]"
      ]
     },
     "metadata": {},
     "output_type": "display_data"
    },
    {
     "name": "stdout",
     "output_type": "stream",
     "text": [
      "Processing session: session_20250728_111625, 2109 entries.\n"
     ]
    },
    {
     "data": {
      "application/vnd.jupyter.widget-view+json": {
       "model_id": "d8147f0bfe3d41b3934f7bbe6660d51b",
       "version_major": 2,
       "version_minor": 0
      },
      "text/plain": [
       "  Processing session_20250728_111625:   0%|          | 0/2109 [00:00<?, ?it/s]"
      ]
     },
     "metadata": {},
     "output_type": "display_data"
    },
    {
     "name": "stdout",
     "output_type": "stream",
     "text": [
      "Processing session: session_20250728_111809, 2240 entries.\n"
     ]
    },
    {
     "data": {
      "application/vnd.jupyter.widget-view+json": {
       "model_id": "0d40f00401c741bd971160860ccb38e3",
       "version_major": 2,
       "version_minor": 0
      },
      "text/plain": [
       "  Processing session_20250728_111809:   0%|          | 0/2240 [00:00<?, ?it/s]"
      ]
     },
     "metadata": {},
     "output_type": "display_data"
    },
    {
     "name": "stdout",
     "output_type": "stream",
     "text": [
      "Processing session: session_20250728_113416, 2245 entries.\n"
     ]
    },
    {
     "data": {
      "application/vnd.jupyter.widget-view+json": {
       "model_id": "258d76419f5c4f90864a73d2231712fd",
       "version_major": 2,
       "version_minor": 0
      },
      "text/plain": [
       "  Processing session_20250728_113416:   0%|          | 0/2245 [00:00<?, ?it/s]"
      ]
     },
     "metadata": {},
     "output_type": "display_data"
    },
    {
     "name": "stdout",
     "output_type": "stream",
     "text": [
      "Processing session: session_20250728_113550, 2221 entries.\n"
     ]
    },
    {
     "data": {
      "application/vnd.jupyter.widget-view+json": {
       "model_id": "7e13e0af75bd4fc5a5c95097dfb3b7ac",
       "version_major": 2,
       "version_minor": 0
      },
      "text/plain": [
       "  Processing session_20250728_113550:   0%|          | 0/2221 [00:00<?, ?it/s]"
      ]
     },
     "metadata": {},
     "output_type": "display_data"
    },
    {
     "name": "stdout",
     "output_type": "stream",
     "text": [
      "Processing session: session_20250728_113747, 2200 entries.\n"
     ]
    },
    {
     "data": {
      "application/vnd.jupyter.widget-view+json": {
       "model_id": "fb30c87cbbe340869d04375465c98100",
       "version_major": 2,
       "version_minor": 0
      },
      "text/plain": [
       "  Processing session_20250728_113747:   0%|          | 0/2200 [00:00<?, ?it/s]"
      ]
     },
     "metadata": {},
     "output_type": "display_data"
    },
    {
     "name": "stdout",
     "output_type": "stream",
     "text": [
      "Processing session: session_20250728_113920, 2122 entries.\n"
     ]
    },
    {
     "data": {
      "application/vnd.jupyter.widget-view+json": {
       "model_id": "b08d9d53408f4a588a40cd2ab344eb18",
       "version_major": 2,
       "version_minor": 0
      },
      "text/plain": [
       "  Processing session_20250728_113920:   0%|          | 0/2122 [00:00<?, ?it/s]"
      ]
     },
     "metadata": {},
     "output_type": "display_data"
    },
    {
     "name": "stdout",
     "output_type": "stream",
     "text": [
      "Processing session: session_20250728_114050, 2215 entries.\n"
     ]
    },
    {
     "data": {
      "application/vnd.jupyter.widget-view+json": {
       "model_id": "35bbd7800445497797633ed5f99a8f14",
       "version_major": 2,
       "version_minor": 0
      },
      "text/plain": [
       "  Processing session_20250728_114050:   0%|          | 0/2215 [00:00<?, ?it/s]"
      ]
     },
     "metadata": {},
     "output_type": "display_data"
    },
    {
     "name": "stdout",
     "output_type": "stream",
     "text": [
      "Processing session: session_20250728_114224, 2311 entries.\n"
     ]
    },
    {
     "data": {
      "application/vnd.jupyter.widget-view+json": {
       "model_id": "590f520407324480aa4efaaba8fe9fb7",
       "version_major": 2,
       "version_minor": 0
      },
      "text/plain": [
       "  Processing session_20250728_114224:   0%|          | 0/2311 [00:00<?, ?it/s]"
      ]
     },
     "metadata": {},
     "output_type": "display_data"
    },
    {
     "name": "stdout",
     "output_type": "stream",
     "text": [
      "Processing session: session_20250728_114402, 2169 entries.\n"
     ]
    },
    {
     "data": {
      "application/vnd.jupyter.widget-view+json": {
       "model_id": "f316f9af303c430083519937eea56eaa",
       "version_major": 2,
       "version_minor": 0
      },
      "text/plain": [
       "  Processing session_20250728_114402:   0%|          | 0/2169 [00:00<?, ?it/s]"
      ]
     },
     "metadata": {},
     "output_type": "display_data"
    },
    {
     "name": "stdout",
     "output_type": "stream",
     "text": [
      "Processing session: session_20250728_114534, 2222 entries.\n"
     ]
    },
    {
     "data": {
      "application/vnd.jupyter.widget-view+json": {
       "model_id": "74f1f74ba7444a3b83493c60b59cb956",
       "version_major": 2,
       "version_minor": 0
      },
      "text/plain": [
       "  Processing session_20250728_114534:   0%|          | 0/2222 [00:00<?, ?it/s]"
      ]
     },
     "metadata": {},
     "output_type": "display_data"
    },
    {
     "name": "stdout",
     "output_type": "stream",
     "text": [
      "Processing session: session_20250728_114747, 2428 entries.\n"
     ]
    },
    {
     "data": {
      "application/vnd.jupyter.widget-view+json": {
       "model_id": "2b047215cae347ada132aa1139e4a41a",
       "version_major": 2,
       "version_minor": 0
      },
      "text/plain": [
       "  Processing session_20250728_114747:   0%|          | 0/2428 [00:00<?, ?it/s]"
      ]
     },
     "metadata": {},
     "output_type": "display_data"
    },
    {
     "name": "stdout",
     "output_type": "stream",
     "text": [
      "Processing session: session_20250728_114934, 2180 entries.\n"
     ]
    },
    {
     "data": {
      "application/vnd.jupyter.widget-view+json": {
       "model_id": "9a584d44aad84546b8b723fe18b30baf",
       "version_major": 2,
       "version_minor": 0
      },
      "text/plain": [
       "  Processing session_20250728_114934:   0%|          | 0/2180 [00:00<?, ?it/s]"
      ]
     },
     "metadata": {},
     "output_type": "display_data"
    },
    {
     "name": "stdout",
     "output_type": "stream",
     "text": [
      "Processing session: session_20250728_115105, 2114 entries.\n"
     ]
    },
    {
     "data": {
      "application/vnd.jupyter.widget-view+json": {
       "model_id": "351efeb1f48b49339a184a29c538e878",
       "version_major": 2,
       "version_minor": 0
      },
      "text/plain": [
       "  Processing session_20250728_115105:   0%|          | 0/2114 [00:00<?, ?it/s]"
      ]
     },
     "metadata": {},
     "output_type": "display_data"
    },
    {
     "name": "stdout",
     "output_type": "stream",
     "text": [
      "Processing session: session_20250728_115235, 2263 entries.\n"
     ]
    },
    {
     "data": {
      "application/vnd.jupyter.widget-view+json": {
       "model_id": "202ea3998fcb4457a9513fb2fdd8a6fb",
       "version_major": 2,
       "version_minor": 0
      },
      "text/plain": [
       "  Processing session_20250728_115235:   0%|          | 0/2263 [00:00<?, ?it/s]"
      ]
     },
     "metadata": {},
     "output_type": "display_data"
    },
    {
     "name": "stdout",
     "output_type": "stream",
     "text": [
      "Processing session: session_20250728_121458, 2113 entries.\n"
     ]
    },
    {
     "data": {
      "application/vnd.jupyter.widget-view+json": {
       "model_id": "0af8e0ffd68346eaaf0dd9d7e9e43d86",
       "version_major": 2,
       "version_minor": 0
      },
      "text/plain": [
       "  Processing session_20250728_121458:   0%|          | 0/2113 [00:00<?, ?it/s]"
      ]
     },
     "metadata": {},
     "output_type": "display_data"
    },
    {
     "name": "stdout",
     "output_type": "stream",
     "text": [
      "Processing session: session_20250728_121626, 2282 entries.\n"
     ]
    },
    {
     "data": {
      "application/vnd.jupyter.widget-view+json": {
       "model_id": "9c7022e9f1db494f89caa35a106dbad0",
       "version_major": 2,
       "version_minor": 0
      },
      "text/plain": [
       "  Processing session_20250728_121626:   0%|          | 0/2282 [00:00<?, ?it/s]"
      ]
     },
     "metadata": {},
     "output_type": "display_data"
    },
    {
     "name": "stdout",
     "output_type": "stream",
     "text": [
      "Processing session: session_20250728_121807, 2282 entries.\n"
     ]
    },
    {
     "data": {
      "application/vnd.jupyter.widget-view+json": {
       "model_id": "a1e975d3cb154c9d9ca381581b06144c",
       "version_major": 2,
       "version_minor": 0
      },
      "text/plain": [
       "  Processing session_20250728_121807:   0%|          | 0/2282 [00:00<?, ?it/s]"
      ]
     },
     "metadata": {},
     "output_type": "display_data"
    },
    {
     "name": "stdout",
     "output_type": "stream",
     "text": [
      "Processing session: session_20250728_121943, 2312 entries.\n"
     ]
    },
    {
     "data": {
      "application/vnd.jupyter.widget-view+json": {
       "model_id": "6a99245a4b05423f9b823df0f545f8db",
       "version_major": 2,
       "version_minor": 0
      },
      "text/plain": [
       "  Processing session_20250728_121943:   0%|          | 0/2312 [00:00<?, ?it/s]"
      ]
     },
     "metadata": {},
     "output_type": "display_data"
    },
    {
     "name": "stdout",
     "output_type": "stream",
     "text": [
      "Processing session: session_20250728_122127, 2129 entries.\n"
     ]
    },
    {
     "data": {
      "application/vnd.jupyter.widget-view+json": {
       "model_id": "5cd45b56b81743e890b9a338d4004b64",
       "version_major": 2,
       "version_minor": 0
      },
      "text/plain": [
       "  Processing session_20250728_122127:   0%|          | 0/2129 [00:00<?, ?it/s]"
      ]
     },
     "metadata": {},
     "output_type": "display_data"
    },
    {
     "name": "stdout",
     "output_type": "stream",
     "text": [
      "Processing session: session_20250728_122307, 2274 entries.\n"
     ]
    },
    {
     "data": {
      "application/vnd.jupyter.widget-view+json": {
       "model_id": "dbef8096a7884ed4b3f2f945b190b278",
       "version_major": 2,
       "version_minor": 0
      },
      "text/plain": [
       "  Processing session_20250728_122307:   0%|          | 0/2274 [00:00<?, ?it/s]"
      ]
     },
     "metadata": {},
     "output_type": "display_data"
    },
    {
     "name": "stdout",
     "output_type": "stream",
     "text": [
      "Processing session: session_20250728_122757, 2105 entries.\n"
     ]
    },
    {
     "data": {
      "application/vnd.jupyter.widget-view+json": {
       "model_id": "d1319dca9f074122b5ec13ddd3d7ec34",
       "version_major": 2,
       "version_minor": 0
      },
      "text/plain": [
       "  Processing session_20250728_122757:   0%|          | 0/2105 [00:00<?, ?it/s]"
      ]
     },
     "metadata": {},
     "output_type": "display_data"
    },
    {
     "name": "stdout",
     "output_type": "stream",
     "text": [
      "Processing session: session_20250728_123028, 2320 entries.\n"
     ]
    },
    {
     "data": {
      "application/vnd.jupyter.widget-view+json": {
       "model_id": "c672f2e7449c4870b8facdb5de57ba57",
       "version_major": 2,
       "version_minor": 0
      },
      "text/plain": [
       "  Processing session_20250728_123028:   0%|          | 0/2320 [00:00<?, ?it/s]"
      ]
     },
     "metadata": {},
     "output_type": "display_data"
    },
    {
     "name": "stdout",
     "output_type": "stream",
     "text": [
      "Processing session: session_20250728_124432, 2299 entries.\n"
     ]
    },
    {
     "data": {
      "application/vnd.jupyter.widget-view+json": {
       "model_id": "c858bdb9590440c88adfd8d46fefde7e",
       "version_major": 2,
       "version_minor": 0
      },
      "text/plain": [
       "  Processing session_20250728_124432:   0%|          | 0/2299 [00:00<?, ?it/s]"
      ]
     },
     "metadata": {},
     "output_type": "display_data"
    },
    {
     "name": "stdout",
     "output_type": "stream",
     "text": [
      "Processing session: session_20250728_124721, 2276 entries.\n"
     ]
    },
    {
     "data": {
      "application/vnd.jupyter.widget-view+json": {
       "model_id": "4ad6a0fc04654b0ca8620647b778e404",
       "version_major": 2,
       "version_minor": 0
      },
      "text/plain": [
       "  Processing session_20250728_124721:   0%|          | 0/2276 [00:00<?, ?it/s]"
      ]
     },
     "metadata": {},
     "output_type": "display_data"
    },
    {
     "name": "stdout",
     "output_type": "stream",
     "text": [
      "Processing session: session_20250728_124953, 2194 entries.\n"
     ]
    },
    {
     "data": {
      "application/vnd.jupyter.widget-view+json": {
       "model_id": "53bf68c5af0d49069fda07b63520ee6e",
       "version_major": 2,
       "version_minor": 0
      },
      "text/plain": [
       "  Processing session_20250728_124953:   0%|          | 0/2194 [00:00<?, ?it/s]"
      ]
     },
     "metadata": {},
     "output_type": "display_data"
    },
    {
     "name": "stdout",
     "output_type": "stream",
     "text": [
      "Processing session: session_20250728_125447, 2268 entries.\n"
     ]
    },
    {
     "data": {
      "application/vnd.jupyter.widget-view+json": {
       "model_id": "04dd2eef9685455f9b6dc686d21b743f",
       "version_major": 2,
       "version_minor": 0
      },
      "text/plain": [
       "  Processing session_20250728_125447:   0%|          | 0/2268 [00:00<?, ?it/s]"
      ]
     },
     "metadata": {},
     "output_type": "display_data"
    },
    {
     "name": "stdout",
     "output_type": "stream",
     "text": [
      "Processing session: session_20250728_130114, 2333 entries.\n"
     ]
    },
    {
     "data": {
      "application/vnd.jupyter.widget-view+json": {
       "model_id": "e85c605502cf4ea1a5715d661d26c9b6",
       "version_major": 2,
       "version_minor": 0
      },
      "text/plain": [
       "  Processing session_20250728_130114:   0%|          | 0/2333 [00:00<?, ?it/s]"
      ]
     },
     "metadata": {},
     "output_type": "display_data"
    },
    {
     "name": "stdout",
     "output_type": "stream",
     "text": [
      "Processing session: session_20250728_130339, 2289 entries.\n"
     ]
    },
    {
     "data": {
      "application/vnd.jupyter.widget-view+json": {
       "model_id": "de07a92f5012488c9fa571f34ac6bf31",
       "version_major": 2,
       "version_minor": 0
      },
      "text/plain": [
       "  Processing session_20250728_130339:   0%|          | 0/2289 [00:00<?, ?it/s]"
      ]
     },
     "metadata": {},
     "output_type": "display_data"
    },
    {
     "name": "stdout",
     "output_type": "stream",
     "text": [
      "Processing session: session_20250728_130546, 2180 entries.\n"
     ]
    },
    {
     "data": {
      "application/vnd.jupyter.widget-view+json": {
       "model_id": "aa57cf074e0946b084f3f3cce90f1b2d",
       "version_major": 2,
       "version_minor": 0
      },
      "text/plain": [
       "  Processing session_20250728_130546:   0%|          | 0/2180 [00:00<?, ?it/s]"
      ]
     },
     "metadata": {},
     "output_type": "display_data"
    },
    {
     "name": "stdout",
     "output_type": "stream",
     "text": [
      "Processing session: session_20250728_131003, 2246 entries.\n"
     ]
    },
    {
     "data": {
      "application/vnd.jupyter.widget-view+json": {
       "model_id": "185e36696e2840198668a71a7e1dbbe8",
       "version_major": 2,
       "version_minor": 0
      },
      "text/plain": [
       "  Processing session_20250728_131003:   0%|          | 0/2246 [00:00<?, ?it/s]"
      ]
     },
     "metadata": {},
     "output_type": "display_data"
    },
    {
     "name": "stdout",
     "output_type": "stream",
     "text": [
      "Processing session: session_20250728_131153, 2202 entries.\n"
     ]
    },
    {
     "data": {
      "application/vnd.jupyter.widget-view+json": {
       "model_id": "cace90390e374c07874c29b545d35da3",
       "version_major": 2,
       "version_minor": 0
      },
      "text/plain": [
       "  Processing session_20250728_131153:   0%|          | 0/2202 [00:00<?, ?it/s]"
      ]
     },
     "metadata": {},
     "output_type": "display_data"
    },
    {
     "name": "stdout",
     "output_type": "stream",
     "text": [
      "Processing session: session_20250728_131444, 2271 entries.\n"
     ]
    },
    {
     "data": {
      "application/vnd.jupyter.widget-view+json": {
       "model_id": "52f6088cdf69423da8018b5bfa0a0805",
       "version_major": 2,
       "version_minor": 0
      },
      "text/plain": [
       "  Processing session_20250728_131444:   0%|          | 0/2271 [00:00<?, ?it/s]"
      ]
     },
     "metadata": {},
     "output_type": "display_data"
    },
    {
     "name": "stdout",
     "output_type": "stream",
     "text": [
      "Processing session: session_20250728_131644, 2207 entries.\n"
     ]
    },
    {
     "data": {
      "application/vnd.jupyter.widget-view+json": {
       "model_id": "b446ce78ed0d41519e31f8d0d1a84693",
       "version_major": 2,
       "version_minor": 0
      },
      "text/plain": [
       "  Processing session_20250728_131644:   0%|          | 0/2207 [00:00<?, ?it/s]"
      ]
     },
     "metadata": {},
     "output_type": "display_data"
    },
    {
     "name": "stdout",
     "output_type": "stream",
     "text": [
      "Processing session: session_20250728_131951, 2234 entries.\n"
     ]
    },
    {
     "data": {
      "application/vnd.jupyter.widget-view+json": {
       "model_id": "499bc1efd4364ca28c73161d2d91779d",
       "version_major": 2,
       "version_minor": 0
      },
      "text/plain": [
       "  Processing session_20250728_131951:   0%|          | 0/2234 [00:00<?, ?it/s]"
      ]
     },
     "metadata": {},
     "output_type": "display_data"
    },
    {
     "name": "stdout",
     "output_type": "stream",
     "text": [
      "Processing session: session_20250728_132155, 2283 entries.\n"
     ]
    },
    {
     "data": {
      "application/vnd.jupyter.widget-view+json": {
       "model_id": "fe37b1a63bb84dffb9daa1d1ac44584c",
       "version_major": 2,
       "version_minor": 0
      },
      "text/plain": [
       "  Processing session_20250728_132155:   0%|          | 0/2283 [00:00<?, ?it/s]"
      ]
     },
     "metadata": {},
     "output_type": "display_data"
    },
    {
     "name": "stdout",
     "output_type": "stream",
     "text": [
      "Processing session: session_20250728_132339, 2203 entries.\n"
     ]
    },
    {
     "data": {
      "application/vnd.jupyter.widget-view+json": {
       "model_id": "45df332933f345e59f750aa1c7405419",
       "version_major": 2,
       "version_minor": 0
      },
      "text/plain": [
       "  Processing session_20250728_132339:   0%|          | 0/2203 [00:00<?, ?it/s]"
      ]
     },
     "metadata": {},
     "output_type": "display_data"
    },
    {
     "name": "stdout",
     "output_type": "stream",
     "text": [
      "Processing session: session_20250728_132538, 2276 entries.\n"
     ]
    },
    {
     "data": {
      "application/vnd.jupyter.widget-view+json": {
       "model_id": "68cbcc35c9c340bf9f1f424ccb5b4ab9",
       "version_major": 2,
       "version_minor": 0
      },
      "text/plain": [
       "  Processing session_20250728_132538:   0%|          | 0/2276 [00:00<?, ?it/s]"
      ]
     },
     "metadata": {},
     "output_type": "display_data"
    },
    {
     "name": "stdout",
     "output_type": "stream",
     "text": [
      "Processing session: session_20250728_132816, 2286 entries.\n"
     ]
    },
    {
     "data": {
      "application/vnd.jupyter.widget-view+json": {
       "model_id": "35912a4e0ec4417aaf45be3e3d4cf512",
       "version_major": 2,
       "version_minor": 0
      },
      "text/plain": [
       "  Processing session_20250728_132816:   0%|          | 0/2286 [00:00<?, ?it/s]"
      ]
     },
     "metadata": {},
     "output_type": "display_data"
    },
    {
     "name": "stdout",
     "output_type": "stream",
     "text": [
      "Processing session: session_20250728_133215, 2238 entries.\n"
     ]
    },
    {
     "data": {
      "application/vnd.jupyter.widget-view+json": {
       "model_id": "e9796638019f46fc94a21f023273f4ba",
       "version_major": 2,
       "version_minor": 0
      },
      "text/plain": [
       "  Processing session_20250728_133215:   0%|          | 0/2238 [00:00<?, ?it/s]"
      ]
     },
     "metadata": {},
     "output_type": "display_data"
    },
    {
     "name": "stdout",
     "output_type": "stream",
     "text": [
      "Processing session: session_20250728_133353, 2240 entries.\n"
     ]
    },
    {
     "data": {
      "application/vnd.jupyter.widget-view+json": {
       "model_id": "f5916a0301a5472f9f7ab0c6018abb3b",
       "version_major": 2,
       "version_minor": 0
      },
      "text/plain": [
       "  Processing session_20250728_133353:   0%|          | 0/2240 [00:00<?, ?it/s]"
      ]
     },
     "metadata": {},
     "output_type": "display_data"
    },
    {
     "name": "stdout",
     "output_type": "stream",
     "text": [
      "Appending 169165 new entries to C:\\Projects\\jetbot-diffusion-world-model-kong-finder-aux\\jetbot_data_two_actions_single_position\\livingroom_data_incremental_test.csv\n",
      "\n",
      "Aggregate data saved. Total entries now: 332134\n"
     ]
    }
   ],
   "source": [
    "if __name__ == '__main__':\n",
    "    combine_sessions_append(config.SESSION_DATA_DIR, config.IMAGE_DIR, config.CSV_PATH)"
   ]
  },
  {
   "cell_type": "code",
   "execution_count": null,
   "id": "70ad09a7-3f57-4798-80be-d31549443483",
   "metadata": {},
   "outputs": [],
   "source": []
  }
 ],
 "metadata": {
  "kernelspec": {
   "display_name": "Python 3 (ipykernel)",
   "language": "python",
   "name": "python3"
  },
  "language_info": {
   "codemirror_mode": {
    "name": "ipython",
    "version": 3
   },
   "file_extension": ".py",
   "mimetype": "text/x-python",
   "name": "python",
   "nbconvert_exporter": "python",
   "pygments_lexer": "ipython3",
   "version": "3.11.9"
  }
 },
 "nbformat": 4,
 "nbformat_minor": 5
}
