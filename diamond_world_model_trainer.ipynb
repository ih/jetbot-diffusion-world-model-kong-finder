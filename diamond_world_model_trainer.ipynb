{
 "cells": [
  {
   "cell_type": "code",
   "execution_count": 1,
   "id": "327770bd-1d2e-478f-9c59-a289daaf1d96",
   "metadata": {},
   "outputs": [
    {
     "name": "stdout",
     "output_type": "stream",
     "text": [
      "Imports successful.\n"
     ]
    }
   ],
   "source": [
    "import torch\n",
    "import torch.nn as nn\n",
    "import torch.nn.functional as F\n",
    "from torch.utils.data import DataLoader, random_split\n",
    "import numpy as np\n",
    "import os\n",
    "import matplotlib.pyplot as plt\n",
    "from tqdm.auto import tqdm\n",
    "import time\n",
    "import datetime # For epoch timing and timestamping\n",
    "from torchvision import transforms\n",
    "from collections import deque # For moving average\n",
    "from dataclasses import dataclass # Added\n",
    "from typing import List, Optional, Dict, Any # Added\n",
    "\n",
    "# Your project's specific imports\n",
    "import config # Your config.py\n",
    "import models # Your models.py (which should import from diamond_models.ipynb)\n",
    "\n",
    "# Import dataset from your jetbot_dataset.ipynb\n",
    "from importnb import Notebook\n",
    "with Notebook():\n",
    "    from jetbot_dataset import JetbotDataset # Make sure class name matches\n",
    "\n",
    "from PIL import Image as PILImage\n",
    "# import matplotlib.pyplot as plt # Already imported\n",
    "\n",
    "print(\"Imports successful.\")"
   ]
  },
  {
   "cell_type": "code",
   "execution_count": 2,
   "id": "ad3c713d-d3a3-4ea0-97d0-0c322d3048d0",
   "metadata": {},
   "outputs": [
    {
     "name": "stdout",
     "output_type": "stream",
     "text": [
      "--- Configuration ---\n",
      "Using device: cuda\n"
     ]
    }
   ],
   "source": [
    "print(\"--- Configuration ---\")\n",
    "DEVICE = torch.device(\"cuda\" if torch.cuda.is_available() else \"cpu\")\n",
    "print(f\"Using device: {DEVICE}\")\n"
   ]
  },
  {
   "cell_type": "code",
   "execution_count": 3,
   "id": "41855c34-51a6-4282-bb58-c7037352d217",
   "metadata": {},
   "outputs": [
    {
     "name": "stdout",
     "output_type": "stream",
     "text": [
      "Configuration loaded.\n"
     ]
    }
   ],
   "source": [
    "# Denoiser & InnerModel specific\n",
    "DM_SIGMA_DATA = getattr(config, 'DM_SIGMA_DATA', 0.5)\n",
    "DM_SIGMA_OFFSET_NOISE = getattr(config, 'DM_SIGMA_OFFSET_NOISE', 0.1)\n",
    "DM_NOISE_PREVIOUS_OBS = getattr(config, 'DM_NOISE_PREVIOUS_OBS', True)\n",
    "DM_IMG_CHANNELS = getattr(config, 'DM_IMG_CHANNELS', 3)\n",
    "DM_NUM_STEPS_CONDITIONING = getattr(config, 'DM_NUM_STEPS_CONDITIONING', config.NUM_PREV_FRAMES)\n",
    "DM_COND_CHANNELS = getattr(config, 'DM_COND_CHANNELS', 256)\n",
    "DM_UNET_DEPTHS = getattr(config, 'DM_UNET_DEPTHS', [2, 2, 2, 2])\n",
    "DM_UNET_CHANNELS = getattr(config, 'DM_UNET_CHANNELS', [128, 256, 512, 1024]) # Using config.py\n",
    "DM_UNET_ATTN_DEPTHS = getattr(config, 'DM_UNET_ATTN_DEPTHS', [False, False, True, True])\n",
    "DM_NUM_ACTIONS = getattr(config, 'DM_NUM_ACTIONS', 2)\n",
    "DM_IS_UPSAMPLER = getattr(config, 'DM_IS_UPSAMPLER', False)\n",
    "DM_UPSAMPLING_FACTOR = getattr(config, 'DM_UPSAMPLING_FACTOR', None)\n",
    "\n",
    "# Sampler specific (for inference/visualization)\n",
    "SAMPLER_NUM_STEPS = getattr(config, 'SAMPLER_NUM_STEPS', 50)\n",
    "SAMPLER_SIGMA_MIN = getattr(config, 'SAMPLER_SIGMA_MIN', 0.002)\n",
    "SAMPLER_SIGMA_MAX = getattr(config, 'SAMPLER_SIGMA_MAX', 80.0)\n",
    "SAMPLER_RHO = getattr(config, 'SAMPLER_RHO', 7.0)\n",
    "# Additional Karras sampler params from config if they exist, otherwise defaults in dataclass used\n",
    "SAMPLER_ORDER = getattr(config, 'SAMPLER_ORDER', 1)\n",
    "SAMPLER_S_CHURN = getattr(config, 'SAMPLER_S_CHURN', 0.0)\n",
    "SAMPLER_S_TMIN = getattr(config, 'SAMPLER_S_TMIN', 0.0)\n",
    "SAMPLER_S_TMAX = getattr(config, 'SAMPLER_S_TMAX', float(\"inf\"))\n",
    "SAMPLER_S_NOISE = getattr(config, 'SAMPLER_S_NOISE', 1.0)\n",
    "\n",
    "\n",
    "# Training specific\n",
    "BATCH_SIZE = config.BATCH_SIZE\n",
    "LEARNING_RATE = config.LEARNING_RATE\n",
    "NUM_EPOCHS = config.NUM_EPOCHS\n",
    "SAVE_MODEL_EVERY = config.SAVE_MODEL_EVERY\n",
    "SAMPLE_EVERY = config.SAMPLE_EVERY\n",
    "PLOT_EVERY = config.PLOT_EVERY\n",
    "GRAD_CLIP_VALUE = getattr(config, 'GRAD_CLIP_VALUE', 1.0)\n",
    "\n",
    "DM_SIGMA_P_MEAN = getattr(config, 'DM_SIGMA_P_MEAN', -1.2) \n",
    "DM_SIGMA_P_STD = getattr(config, 'DM_SIGMA_P_STD', 1.2)   \n",
    "DM_SIGMA_MIN_TRAIN = getattr(config, 'DM_SIGMA_MIN_TRAIN', 0.002) \n",
    "DM_SIGMA_MAX_TRAIN = getattr(config, 'DM_SIGMA_MAX_TRAIN', 80.0)  \n",
    "\n",
    "EARLY_STOPPING_PATIENCE = getattr(config, 'EARLY_STOPPING_PATIENCE', 10)\n",
    "EARLY_STOPPING_MIN_EPOCHS = getattr(config, 'MIN_EPOCHS', 20) # Renamed from MIN_EPOCHS in config to avoid ambiguity\n",
    "EARLY_STOPPING_PERCENTAGE = getattr(config, 'EARLY_STOPPING_PERCENTAGE', 0.1) \n",
    "TRAIN_MOVING_AVG_WINDOW = getattr(config, 'TRAIN_MOVING_AVG_WINDOW', 10) \n",
    "VAL_MOVING_AVG_WINDOW = getattr(config, 'VAL_MOVING_AVG_WINDOW', 5) \n",
    "\n",
    "print(\"Configuration loaded.\")"
   ]
  },
  {
   "cell_type": "code",
   "execution_count": 4,
   "id": "8f4822b7-5130-47a2-b7a9-1715de7e42ed",
   "metadata": {},
   "outputs": [
    {
     "name": "stdout",
     "output_type": "stream",
     "text": [
      "Loaded combined CSV with columns: ['session_id', 'image_path', 'timestamp', 'action']\n",
      "Full dataset size: 3803\n",
      "Loading dataset split from C:\\Projects\\jetbot-diffusion-world-model-kong-finder-aux\\output_model_5hz_DIAMOND\\dataset_split.pth\n",
      "Training dataset size: 3422\n",
      "Validation dataset size: 381\n",
      "Train Dataloader: 855 batches of size 4\n",
      "Validation Dataloader: 96 batches of size 4\n"
     ]
    }
   ],
   "source": [
    "data_transform = config.TRANSFORM\n",
    "\n",
    "full_dataset = JetbotDataset(\n",
    "    csv_path=config.CSV_PATH,\n",
    "    data_dir=config.DATA_DIR,\n",
    "    image_size=config.IMAGE_SIZE,\n",
    "    num_prev_frames=config.NUM_PREV_FRAMES,\n",
    "    transform=data_transform\n",
    ")\n",
    "print(f\"Full dataset size: {len(full_dataset)}\")\n",
    "\n",
    "split_file_path = os.path.join(config.OUTPUT_DIR, getattr(config, 'SPLIT_DATASET_FILENAME', 'dataset_split.pth'))\n",
    "if os.path.exists(split_file_path):\n",
    "    print(f\"Loading dataset split from {split_file_path}\")\n",
    "    split_data = torch.load(split_file_path)\n",
    "    train_indices, val_indices = split_data['train_indices'], split_data['val_indices']\n",
    "    train_dataset = torch.utils.data.Subset(full_dataset, train_indices)\n",
    "    val_dataset = torch.utils.data.Subset(full_dataset, val_indices)\n",
    "else:\n",
    "    print(\"Creating new train/val split...\")\n",
    "    total_size = len(full_dataset)\n",
    "    train_size = int(total_size * 0.9)\n",
    "    val_size = total_size - train_size\n",
    "    train_dataset, val_dataset = random_split(full_dataset, [train_size, val_size]) # Using torch.random_split by default\n",
    "    torch.save({\n",
    "        'train_indices': train_dataset.indices,\n",
    "        'val_indices': val_dataset.indices,\n",
    "    }, split_file_path)\n",
    "    print(f\"Saved new dataset split to {split_file_path}\")\n",
    "\n",
    "train_dataloader = DataLoader(train_dataset, batch_size=BATCH_SIZE, shuffle=True, num_workers=0, pin_memory=True, drop_last=True)\n",
    "val_dataloader = DataLoader(val_dataset, batch_size=BATCH_SIZE, shuffle=False, num_workers=0, pin_memory=True, drop_last=False)\n",
    "\n",
    "print(f\"Training dataset size: {len(train_dataset)}\")\n",
    "print(f\"Validation dataset size: {len(val_dataset)}\")\n",
    "print(f\"Train Dataloader: {len(train_dataloader)} batches of size {BATCH_SIZE}\")\n",
    "print(f\"Validation Dataloader: {len(val_dataloader)} batches of size {BATCH_SIZE}\")"
   ]
  },
  {
   "cell_type": "code",
   "execution_count": 5,
   "id": "a88c5dfd-b062-4bc7-9bef-910ede6bcb6d",
   "metadata": {},
   "outputs": [
    {
     "name": "stdout",
     "output_type": "stream",
     "text": [
      "--- Initializing Models ---\n",
      "Using InnerModel (Diamond-style U-Net) as the inner model.\n",
      "InnerModelImpl parameter count: 227,699,203\n",
      "Denoiser model created and training sigma distribution configured. Total parameter count: 227,699,203\n",
      "DiffusionSampler created for visualization.\n"
     ]
    }
   ],
   "source": [
    "print(\"--- Initializing Models ---\")\n",
    "\n",
    "# 1. InnerModel (U-Net part of the Denoiser)\n",
    "try:\n",
    "    inner_model_config = models.InnerModelConfig( # This is diamond_models.InnerModelConfig\n",
    "        img_channels=DM_IMG_CHANNELS,\n",
    "        num_steps_conditioning=DM_NUM_STEPS_CONDITIONING, # This is NUM_PREV_FRAMES\n",
    "        cond_channels=DM_COND_CHANNELS,\n",
    "        depths=DM_UNET_DEPTHS,\n",
    "        channels=DM_UNET_CHANNELS,\n",
    "        attn_depths=DM_UNET_ATTN_DEPTHS,\n",
    "        num_actions=DM_NUM_ACTIONS, # From config, e.g., 2 for JetBot\n",
    "        is_upsampler=DM_IS_UPSAMPLER # Will be set by DenoiserConfig later too\n",
    "    )\n",
    "    inner_model_instance = models.InnerModel(inner_model_config).to(DEVICE) # diamond_models.InnerModelImpl\n",
    "    print(\"Using InnerModel (Diamond-style U-Net) as the inner model.\")\n",
    "    print(f\"InnerModelImpl parameter count: {sum(p.numel() for p in inner_model_instance.parameters() if p.requires_grad):,}\")\n",
    "except Exception as e:\n",
    "    print(f\"Could not instantiate InnerModelImpl due to: {e}. Ensure 'InnerModelConfig', 'InnerModelImpl', dependencies, and DM_* config parameters are correct.\")\n",
    "    raise\n",
    "\n",
    "# 2. Denoiser (using diamond_models.Denoiser)\n",
    "try:\n",
    "    denoiser_cfg = models.DenoiserConfig( # Our new dataclass\n",
    "        inner_model=inner_model_config, # Pass the config, not the instance here if Denoiser instantiates it.\n",
    "                                        # diamond_models.Denoiser takes an InnerModelConfig for its own InnerModel.\n",
    "                                        # Re-checking diamond_models.py: Denoiser.__init__(self, cfg: DenoiserConfig)\n",
    "                                        # cfg.inner_model.is_upsampler = self.is_upsampler\n",
    "                                        # self.inner_model = InnerModel(cfg.inner_model) <--- Correct, it expects InnerModelConfig in DenoiserConfig\n",
    "        sigma_data=DM_SIGMA_DATA,\n",
    "        sigma_offset_noise=DM_SIGMA_OFFSET_NOISE,\n",
    "        noise_previous_obs=DM_NOISE_PREVIOUS_OBS,\n",
    "        upsampling_factor=DM_UPSAMPLING_FACTOR\n",
    "    )\n",
    "    # Ensure DenoiserConfig's inner_model field matches diamond_models.InnerModelConfig type\n",
    "    # The `models.InnerModelConfig` is already an alias to `diamond_models.InnerModelConfig`\n",
    "    denoiser = models.Denoiser(cfg=denoiser_cfg).to(DEVICE) # Pass the config object\n",
    "    \n",
    "    # Setup training sigma distribution for the Denoiser\n",
    "    sigma_dist_train_cfg = models.SigmaDistributionConfig(\n",
    "        loc=DM_SIGMA_P_MEAN,\n",
    "        scale=DM_SIGMA_P_STD,\n",
    "        sigma_min=DM_SIGMA_MIN_TRAIN,\n",
    "        sigma_max=DM_SIGMA_MAX_TRAIN\n",
    "    )\n",
    "    denoiser.setup_training(sigma_dist_train_cfg) # Call setup_training\n",
    "    print(f\"Denoiser model created and training sigma distribution configured. Total parameter count: {sum(p.numel() for p in denoiser.parameters() if p.requires_grad):,}\")\n",
    "\n",
    "except Exception as e:\n",
    "    print(f\"Could not instantiate or configure Denoiser (from diamond_models.py) due to: {e}.\")\n",
    "    raise\n",
    "\n",
    "# 3. DiffusionSampler (using diamond_models.DiffusionSampler)\n",
    "try:\n",
    "    sampler_cfg = models.DiffusionSamplerConfig( # Our new dataclass\n",
    "        num_steps_denoising=SAMPLER_NUM_STEPS,\n",
    "        sigma_min=SAMPLER_SIGMA_MIN,\n",
    "        sigma_max=SAMPLER_SIGMA_MAX,\n",
    "        rho=SAMPLER_RHO,\n",
    "        order=SAMPLER_ORDER,\n",
    "        s_churn=SAMPLER_S_CHURN,\n",
    "        s_tmin=SAMPLER_S_TMIN,\n",
    "        s_tmax=SAMPLER_S_TMAX,\n",
    "        s_noise=SAMPLER_S_NOISE\n",
    "    )\n",
    "    diffusion_sampler = models.DiffusionSampler( # This is diamond_models.DiffusionSampler\n",
    "        denoiser=denoiser, # Pass the denoiser instance\n",
    "        cfg=sampler_cfg    # Pass the sampler config object\n",
    "    ) # Sampler itself might not need .to(DEVICE) if it doesn't have parameters\n",
    "    print(\"DiffusionSampler created for visualization.\")\n",
    "except Exception as e:\n",
    "    print(f\"Could not instantiate DiffusionSampler (from diamond_models.py) due to: {e}.\")\n",
    "    raise\n"
   ]
  },
  {
   "cell_type": "code",
   "execution_count": 6,
   "id": "c569caca-e8a2-43c0-b379-7fe99a107dc6",
   "metadata": {},
   "outputs": [
    {
     "name": "stdout",
     "output_type": "stream",
     "text": [
      "--- Setting up Optimizer ---\n",
      "Optimizer: AdamW with LR=5e-05\n"
     ]
    }
   ],
   "source": [
    "print(\"--- Setting up Optimizer ---\")\n",
    "optimizer = torch.optim.AdamW(denoiser.parameters(), lr=LEARNING_RATE)\n",
    "lr_scheduler = None # Placeholder\n",
    "print(f\"Optimizer: AdamW with LR={LEARNING_RATE}\")"
   ]
  },
  {
   "cell_type": "code",
   "execution_count": 7,
   "id": "a157fe9b-0b61-4b2d-9901-c985db9a7a6d",
   "metadata": {},
   "outputs": [
    {
     "name": "stdout",
     "output_type": "stream",
     "text": [
      "No checkpoint found or specified. Starting from scratch.\n"
     ]
    }
   ],
   "source": [
    "START_EPOCH = 0\n",
    "BEST_TRAIN_LOSS_MA_FROM_CKPT = float('inf')\n",
    "PREVIOUS_BEST_TRAIN_MODEL_PATH = None\n",
    "\n",
    "# Correctly use LOAD_CHECKPOINT from config.py for the specific path\n",
    "load_path_config = config.LOAD_CHECKPOINT \n",
    "best_train_loss_model_default_path = os.path.join(config.CHECKPOINT_DIR, \"denoiser_model_best_train_loss.pth\")\n",
    "\n",
    "load_path = load_path_config\n",
    "if load_path: # If a specific path is set in config, use it\n",
    "    print(f\"Attempting to load checkpoint from config.LOAD_CHECKPOINT: {load_path}\")\n",
    "elif os.path.exists(best_train_loss_model_default_path): # Else, try the default best\n",
    "    load_path = best_train_loss_model_default_path\n",
    "    print(f\"No specific checkpoint in config.LOAD_CHECKPOINT. Found existing best_train_loss model: {load_path}\")\n",
    "\n",
    "\n",
    "if load_path and os.path.exists(load_path):\n",
    "    print(f\"Loading checkpoint from: {load_path}\")\n",
    "    try:\n",
    "        checkpoint = torch.load(load_path, map_location=DEVICE)\n",
    "        denoiser.load_state_dict(checkpoint['model_state_dict'])\n",
    "        optimizer.load_state_dict(checkpoint['optimizer_state_dict'])\n",
    "        START_EPOCH = checkpoint.get('epoch', 0) + 1\n",
    "        BEST_TRAIN_LOSS_MA_FROM_CKPT = checkpoint.get('best_train_loss_ma', float('inf'))\n",
    "        if load_path.endswith(\"denoiser_model_best_train_loss.pth\"): # Ensure we track the correct one\n",
    "            PREVIOUS_BEST_TRAIN_MODEL_PATH = load_path\n",
    "        print(f\"Resuming training from epoch {START_EPOCH}. Last best train_loss_ma: {BEST_TRAIN_LOSS_MA_FROM_CKPT:.6f}\")\n",
    "    except Exception as e:\n",
    "        print(f\"Error loading checkpoint: {e}. Starting from scratch.\")\n",
    "        START_EPOCH = 0; BEST_TRAIN_LOSS_MA_FROM_CKPT = float('inf')\n",
    "else:\n",
    "    if load_path_config: # If a path was specified but not found\n",
    "        print(f\"Specified checkpoint not found: {load_path_config}. Starting from scratch.\")\n",
    "    else: # No checkpoint specified and default best not found\n",
    "        print(\"No checkpoint found or specified. Starting from scratch.\")\n"
   ]
  },
  {
   "cell_type": "code",
   "execution_count": 8,
   "id": "cd2a55d8-725e-4b4b-a8c6-db5ad831aaf9",
   "metadata": {},
   "outputs": [
    {
     "name": "stdout",
     "output_type": "stream",
     "text": [
      "Visualization helpers defined.\n"
     ]
    }
   ],
   "source": [
    "def tensor_to_pil(tensor_img):\n",
    "    tensor_img = (tensor_img.clamp(-1, 1) + 1) / 2\n",
    "    tensor_img = tensor_img.detach().cpu().permute(1, 2, 0).numpy()\n",
    "    if tensor_img.shape[2] == 1:\n",
    "        tensor_img = tensor_img.squeeze(2)\n",
    "    # Ensure array is writeable for PIL\n",
    "    if not tensor_img.flags.writeable:\n",
    "        tensor_img = np.ascontiguousarray(tensor_img)\n",
    "    if tensor_img.dtype != np.uint8: # This check might be problematic if tensor_img is already uint8\n",
    "        pil_img_array = (tensor_img * 255).astype(np.uint8)\n",
    "    else:\n",
    "        pil_img_array = tensor_img # Already uint8\n",
    "    pil_img = PILImage.fromarray(pil_img_array)\n",
    "    return pil_img\n",
    "\n",
    "def save_visualization_samples(generated_tensors, gt_tensors, epoch, save_dir, max_imgs=4, prefix=\"train_vis\"):\n",
    "    os.makedirs(save_dir, exist_ok=True)\n",
    "    num_samples_to_show = min(max_imgs, generated_tensors.shape[0], gt_tensors.shape[0])\n",
    "    if num_samples_to_show == 0: return\n",
    "\n",
    "    generated_tensors = generated_tensors[:num_samples_to_show]\n",
    "    gt_tensors = gt_tensors[:num_samples_to_show]\n",
    "\n",
    "    fig_height = 6\n",
    "    fig, axs = plt.subplots(2, num_samples_to_show, figsize=(num_samples_to_show * 3, fig_height))\n",
    "    if num_samples_to_show == 1: axs = np.array(axs).reshape(2,1) # Ensure axs is always 2D array\n",
    "\n",
    "    for i in range(num_samples_to_show):\n",
    "        try:\n",
    "            gen_pil = tensor_to_pil(generated_tensors[i])\n",
    "            gt_pil = tensor_to_pil(gt_tensors[i])\n",
    "            axs[0, i].imshow(gt_pil); axs[0, i].set_title(f\"GT {i+1}\"); axs[0, i].axis('off')\n",
    "            axs[1, i].imshow(gen_pil); axs[1, i].set_title(f\"Gen {i+1}\"); axs[1, i].axis('off')\n",
    "        except Exception as e:\n",
    "            print(f\"Error visualizing image {i}: {e}\")\n",
    "            if num_samples_to_show > 1 : axs[0,i].axis('off'); axs[1,i].axis('off')\n",
    "            else: fig.clear(); plt.text(0.5, 0.5, \"Error displaying image\", ha=\"center\", va=\"center\")\n",
    "\n",
    "    plt.tight_layout()\n",
    "    save_path = os.path.join(save_dir, f\"{prefix}_epoch_{epoch:04d}_samples.png\")\n",
    "    plt.savefig(save_path)\n",
    "    plt.close(fig)\n",
    "    print(f\"Saved visualization samples to {save_path}\")\n",
    "\n",
    "print(\"Visualization helpers defined.\")"
   ]
  },
  {
   "cell_type": "code",
   "execution_count": 9,
   "id": "552a8563-7183-497d-953d-7b29f6a86ac0",
   "metadata": {},
   "outputs": [
    {
     "name": "stdout",
     "output_type": "stream",
     "text": [
      "Training and validation epoch functions adapted for Batch object and Denoiser.forward.\n"
     ]
    }
   ],
   "source": [
    "def train_denoiser_epoch(denoiser_model, train_dl, opt, grad_clip_val, device, epoch_num_for_log=\"\"):\n",
    "    denoiser_model.train()\n",
    "    total_loss = 0.0\n",
    "    progress_bar = tqdm(train_dl, desc=f\"Epoch {epoch_num_for_log} [Train]\", leave=False)\n",
    "    \n",
    "    # Constants for reshaping and preparing Batch object\n",
    "    num_prev_frames = config.NUM_PREV_FRAMES\n",
    "    c, h, w = DM_IMG_CHANNELS, config.IMAGE_SIZE, config.IMAGE_SIZE\n",
    "    \n",
    "    for batch_idx, (target_img_batch, action_batch, prev_frames_flat_batch) in enumerate(progress_bar):\n",
    "        opt.zero_grad()\n",
    "        \n",
    "        current_batch_size = target_img_batch.shape[0] # Handle last batch if drop_last=False\n",
    "\n",
    "        # Move data to device\n",
    "        target_img_batch = target_img_batch.to(device) # (B, C, H, W)\n",
    "        action_batch = action_batch.to(device)         # (B, 1)\n",
    "        prev_frames_flat_batch = prev_frames_flat_batch.to(device) # (B, NumPrevFrames*C, H, W)\n",
    "\n",
    "        # 1. Prepare Batch.obs: (B, NumPrevFrames + 1, C, H, W)\n",
    "        prev_frames_seq_batch = prev_frames_flat_batch.view(current_batch_size, num_prev_frames, c, h, w)\n",
    "        batch_obs_tensor = torch.cat((prev_frames_seq_batch, target_img_batch.unsqueeze(1)), dim=1)\n",
    "\n",
    "        # 2. Prepare Batch.act: (B, NumPrevFrames)\n",
    "        # Tiling the single action from dataloader to match NUM_PREV_FRAMES.\n",
    "        # This is a simplification; ideally, dataset provides action history.\n",
    "        batch_act_tensor = action_batch.repeat(1, num_prev_frames).long() # Ensure actions are long for embedding\n",
    "        \n",
    "        # 3. Prepare Batch.mask_padding (Optional, defaults to all valid if None)\n",
    "        # Denoiser uses mask_padding[:, n+i], so it's (B, T). Let's assume all data is valid.\n",
    "        batch_mask_padding = torch.ones(current_batch_size, num_prev_frames + 1, device=device, dtype=torch.bool)\n",
    "\n",
    "        # Create Batch object\n",
    "        current_batch_obj = models.Batch(\n",
    "            obs=batch_obs_tensor, \n",
    "            act=batch_act_tensor, \n",
    "            mask_padding=batch_mask_padding\n",
    "            # info=None # Not used for this non-upsampler case\n",
    "        )\n",
    "        \n",
    "        # Denoiser.forward expects a Batch object and returns (loss, logs_dict)\n",
    "        loss, logs = denoiser_model(current_batch_obj) \n",
    "        \n",
    "        loss.backward()\n",
    "        if grad_clip_val > 0: torch.nn.utils.clip_grad_norm_(denoiser_model.parameters(), grad_clip_val)\n",
    "        opt.step()\n",
    "        \n",
    "        total_loss += loss.item()\n",
    "        progress_bar.set_postfix({\"Loss\": loss.item(), \"DenoisingLoss\": logs.get(\"loss_denoising\", \"N/A\")})\n",
    "        \n",
    "    return total_loss / len(train_dl) if len(train_dl) > 0 else 0\n",
    "\n",
    "@torch.no_grad()\n",
    "def validate_denoiser_epoch(denoiser_model, val_dl, device, epoch_num_for_log=\"\"):\n",
    "    denoiser_model.eval()\n",
    "    total_loss = 0.0\n",
    "    progress_bar = tqdm(val_dl, desc=f\"Epoch {epoch_num_for_log} [Valid]\", leave=False)\n",
    "\n",
    "    num_prev_frames = config.NUM_PREV_FRAMES\n",
    "    c, h, w = DM_IMG_CHANNELS, config.IMAGE_SIZE, config.IMAGE_SIZE\n",
    "\n",
    "    for batch_idx, (target_img_batch, action_batch, prev_frames_flat_batch) in enumerate(progress_bar):\n",
    "        current_batch_size = target_img_batch.shape[0]\n",
    "\n",
    "        target_img_batch = target_img_batch.to(device)\n",
    "        action_batch = action_batch.to(device)\n",
    "        prev_frames_flat_batch = prev_frames_flat_batch.to(device)\n",
    "\n",
    "        prev_frames_seq_batch = prev_frames_flat_batch.view(current_batch_size, num_prev_frames, c, h, w)\n",
    "        batch_obs_tensor = torch.cat((prev_frames_seq_batch, target_img_batch.unsqueeze(1)), dim=1)\n",
    "        batch_act_tensor = action_batch.repeat(1, num_prev_frames).long()\n",
    "        batch_mask_padding = torch.ones(current_batch_size, num_prev_frames + 1, device=device, dtype=torch.bool)\n",
    "\n",
    "        current_batch_obj = models.Batch(\n",
    "            obs=batch_obs_tensor, \n",
    "            act=batch_act_tensor, \n",
    "            mask_padding=batch_mask_padding\n",
    "        )\n",
    "        \n",
    "        loss, logs = denoiser_model(current_batch_obj)\n",
    "        total_loss += loss.item()\n",
    "        progress_bar.set_postfix({\"Val Loss\": loss.item(), \"DenoisingLoss\": logs.get(\"loss_denoising\", \"N/A\")})\n",
    "        \n",
    "    return total_loss / len(val_dl) if len(val_dl) > 0 else 0\n",
    "\n",
    "print(\"Training and validation epoch functions adapted for Batch object and Denoiser.forward.\")\n"
   ]
  },
  {
   "cell_type": "code",
   "execution_count": 10,
   "id": "098af240-7c1a-442a-9ae2-9903e367a7fb",
   "metadata": {
    "scrolled": true
   },
   "outputs": [
    {
     "name": "stdout",
     "output_type": "stream",
     "text": [
      "--- Starting Training Process ---\n"
     ]
    },
    {
     "data": {
      "application/vnd.jupyter.widget-view+json": {
       "model_id": "",
       "version_major": 2,
       "version_minor": 0
      },
      "text/plain": [
       "Epoch 1 [Train]:   0%|          | 0/855 [00:00<?, ?it/s]"
      ]
     },
     "metadata": {},
     "output_type": "display_data"
    },
    {
     "data": {
      "application/vnd.jupyter.widget-view+json": {
       "model_id": "",
       "version_major": 2,
       "version_minor": 0
      },
      "text/plain": [
       "Epoch 1 [Valid]:   0%|          | 0/96 [00:00<?, ?it/s]"
      ]
     },
     "metadata": {},
     "output_type": "display_data"
    },
    {
     "name": "stdout",
     "output_type": "stream",
     "text": [
      "Epoch 1/1000 - Train Loss: 0.2870 (MA: 0.2870), Val Loss: 0.1077 (MA: 0.1077), Duration: 0:02:55.759027\n",
      "Epoch 1: Generating visualization samples...\n",
      "Saved visualization samples to C:\\Projects\\jetbot-diffusion-world-model-kong-finder-aux\\output_model_5hz_DIAMOND\\samples\\val_vis_epoch_0001_samples.png\n"
     ]
    },
    {
     "data": {
      "application/vnd.jupyter.widget-view+json": {
       "model_id": "",
       "version_major": 2,
       "version_minor": 0
      },
      "text/plain": [
       "Epoch 2 [Train]:   0%|          | 0/855 [00:00<?, ?it/s]"
      ]
     },
     "metadata": {},
     "output_type": "display_data"
    },
    {
     "data": {
      "application/vnd.jupyter.widget-view+json": {
       "model_id": "",
       "version_major": 2,
       "version_minor": 0
      },
      "text/plain": [
       "Epoch 2 [Valid]:   0%|          | 0/96 [00:00<?, ?it/s]"
      ]
     },
     "metadata": {},
     "output_type": "display_data"
    },
    {
     "name": "stdout",
     "output_type": "stream",
     "text": [
      "Epoch 2/1000 - Train Loss: 0.0988 (MA: 0.1929), Val Loss: 0.0746 (MA: 0.0911), Duration: 0:02:55.136283\n",
      "Epoch 2: Generating visualization samples...\n",
      "Saved visualization samples to C:\\Projects\\jetbot-diffusion-world-model-kong-finder-aux\\output_model_5hz_DIAMOND\\samples\\val_vis_epoch_0002_samples.png\n"
     ]
    },
    {
     "data": {
      "application/vnd.jupyter.widget-view+json": {
       "model_id": "",
       "version_major": 2,
       "version_minor": 0
      },
      "text/plain": [
       "Epoch 3 [Train]:   0%|          | 0/855 [00:00<?, ?it/s]"
      ]
     },
     "metadata": {},
     "output_type": "display_data"
    },
    {
     "data": {
      "application/vnd.jupyter.widget-view+json": {
       "model_id": "",
       "version_major": 2,
       "version_minor": 0
      },
      "text/plain": [
       "Epoch 3 [Valid]:   0%|          | 0/96 [00:00<?, ?it/s]"
      ]
     },
     "metadata": {},
     "output_type": "display_data"
    },
    {
     "name": "stdout",
     "output_type": "stream",
     "text": [
      "Epoch 3/1000 - Train Loss: 0.0676 (MA: 0.1511), Val Loss: 0.0628 (MA: 0.0817), Duration: 0:02:54.921615\n",
      "Epoch 3: Generating visualization samples...\n",
      "Saved visualization samples to C:\\Projects\\jetbot-diffusion-world-model-kong-finder-aux\\output_model_5hz_DIAMOND\\samples\\val_vis_epoch_0003_samples.png\n"
     ]
    },
    {
     "data": {
      "application/vnd.jupyter.widget-view+json": {
       "model_id": "",
       "version_major": 2,
       "version_minor": 0
      },
      "text/plain": [
       "Epoch 4 [Train]:   0%|          | 0/855 [00:00<?, ?it/s]"
      ]
     },
     "metadata": {},
     "output_type": "display_data"
    },
    {
     "data": {
      "application/vnd.jupyter.widget-view+json": {
       "model_id": "",
       "version_major": 2,
       "version_minor": 0
      },
      "text/plain": [
       "Epoch 4 [Valid]:   0%|          | 0/96 [00:00<?, ?it/s]"
      ]
     },
     "metadata": {},
     "output_type": "display_data"
    },
    {
     "name": "stdout",
     "output_type": "stream",
     "text": [
      "Epoch 4/1000 - Train Loss: 0.0557 (MA: 0.1273), Val Loss: 0.0519 (MA: 0.0743), Duration: 0:02:56.752026\n",
      "Epoch 4: Generating visualization samples...\n",
      "Saved visualization samples to C:\\Projects\\jetbot-diffusion-world-model-kong-finder-aux\\output_model_5hz_DIAMOND\\samples\\val_vis_epoch_0004_samples.png\n"
     ]
    },
    {
     "data": {
      "application/vnd.jupyter.widget-view+json": {
       "model_id": "",
       "version_major": 2,
       "version_minor": 0
      },
      "text/plain": [
       "Epoch 5 [Train]:   0%|          | 0/855 [00:00<?, ?it/s]"
      ]
     },
     "metadata": {},
     "output_type": "display_data"
    },
    {
     "data": {
      "application/vnd.jupyter.widget-view+json": {
       "model_id": "",
       "version_major": 2,
       "version_minor": 0
      },
      "text/plain": [
       "Epoch 5 [Valid]:   0%|          | 0/96 [00:00<?, ?it/s]"
      ]
     },
     "metadata": {},
     "output_type": "display_data"
    },
    {
     "name": "stdout",
     "output_type": "stream",
     "text": [
      "Epoch 5/1000 - Train Loss: 0.0459 (MA: 0.1110), Val Loss: 0.0399 (MA: 0.0674), Duration: 0:02:56.114881\n",
      "Epoch 5: Generating visualization samples...\n",
      "Saved visualization samples to C:\\Projects\\jetbot-diffusion-world-model-kong-finder-aux\\output_model_5hz_DIAMOND\\samples\\val_vis_epoch_0005_samples.png\n"
     ]
    },
    {
     "data": {
      "application/vnd.jupyter.widget-view+json": {
       "model_id": "",
       "version_major": 2,
       "version_minor": 0
      },
      "text/plain": [
       "Epoch 6 [Train]:   0%|          | 0/855 [00:00<?, ?it/s]"
      ]
     },
     "metadata": {},
     "output_type": "display_data"
    },
    {
     "data": {
      "application/vnd.jupyter.widget-view+json": {
       "model_id": "",
       "version_major": 2,
       "version_minor": 0
      },
      "text/plain": [
       "Epoch 6 [Valid]:   0%|          | 0/96 [00:00<?, ?it/s]"
      ]
     },
     "metadata": {},
     "output_type": "display_data"
    },
    {
     "name": "stdout",
     "output_type": "stream",
     "text": [
      "Epoch 6/1000 - Train Loss: 0.0418 (MA: 0.0994), Val Loss: 0.0486 (MA: 0.0555), Duration: 0:02:56.334027\n",
      "  Train Loss MA improved to 0.099449 from inf (nan% improvement).\n",
      "  Saved new best model (train loss MA) at epoch 6\n",
      "Epoch 6: Generating visualization samples...\n",
      "Saved visualization samples to C:\\Projects\\jetbot-diffusion-world-model-kong-finder-aux\\output_model_5hz_DIAMOND\\samples\\val_vis_epoch_0006_samples.png\n"
     ]
    },
    {
     "data": {
      "application/vnd.jupyter.widget-view+json": {
       "model_id": "",
       "version_major": 2,
       "version_minor": 0
      },
      "text/plain": [
       "Epoch 7 [Train]:   0%|          | 0/855 [00:00<?, ?it/s]"
      ]
     },
     "metadata": {},
     "output_type": "display_data"
    },
    {
     "data": {
      "application/vnd.jupyter.widget-view+json": {
       "model_id": "",
       "version_major": 2,
       "version_minor": 0
      },
      "text/plain": [
       "Epoch 7 [Valid]:   0%|          | 0/96 [00:00<?, ?it/s]"
      ]
     },
     "metadata": {},
     "output_type": "display_data"
    },
    {
     "name": "stdout",
     "output_type": "stream",
     "text": [
      "Epoch 7/1000 - Train Loss: 0.0387 (MA: 0.0908), Val Loss: 0.0418 (MA: 0.0490), Duration: 0:02:56.224353\n",
      "  Train Loss MA improved to 0.090772 from 0.099449 (8.73% improvement).\n",
      "  Saved new best model (train loss MA) at epoch 7\n",
      "Epoch 7: Generating visualization samples...\n",
      "Saved visualization samples to C:\\Projects\\jetbot-diffusion-world-model-kong-finder-aux\\output_model_5hz_DIAMOND\\samples\\val_vis_epoch_0007_samples.png\n"
     ]
    },
    {
     "data": {
      "application/vnd.jupyter.widget-view+json": {
       "model_id": "",
       "version_major": 2,
       "version_minor": 0
      },
      "text/plain": [
       "Epoch 8 [Train]:   0%|          | 0/855 [00:00<?, ?it/s]"
      ]
     },
     "metadata": {},
     "output_type": "display_data"
    },
    {
     "data": {
      "application/vnd.jupyter.widget-view+json": {
       "model_id": "",
       "version_major": 2,
       "version_minor": 0
      },
      "text/plain": [
       "Epoch 8 [Valid]:   0%|          | 0/96 [00:00<?, ?it/s]"
      ]
     },
     "metadata": {},
     "output_type": "display_data"
    },
    {
     "name": "stdout",
     "output_type": "stream",
     "text": [
      "Epoch 8/1000 - Train Loss: 0.0344 (MA: 0.0837), Val Loss: 0.0339 (MA: 0.0432), Duration: 0:02:56.043547\n",
      "  Train Loss MA improved to 0.083721 from 0.090772 (7.77% improvement).\n",
      "  Saved new best model (train loss MA) at epoch 8\n",
      "Epoch 8: Generating visualization samples...\n",
      "Saved visualization samples to C:\\Projects\\jetbot-diffusion-world-model-kong-finder-aux\\output_model_5hz_DIAMOND\\samples\\val_vis_epoch_0008_samples.png\n"
     ]
    },
    {
     "data": {
      "application/vnd.jupyter.widget-view+json": {
       "model_id": "",
       "version_major": 2,
       "version_minor": 0
      },
      "text/plain": [
       "Epoch 9 [Train]:   0%|          | 0/855 [00:00<?, ?it/s]"
      ]
     },
     "metadata": {},
     "output_type": "display_data"
    },
    {
     "data": {
      "application/vnd.jupyter.widget-view+json": {
       "model_id": "",
       "version_major": 2,
       "version_minor": 0
      },
      "text/plain": [
       "Epoch 9 [Valid]:   0%|          | 0/96 [00:00<?, ?it/s]"
      ]
     },
     "metadata": {},
     "output_type": "display_data"
    },
    {
     "name": "stdout",
     "output_type": "stream",
     "text": [
      "Epoch 9/1000 - Train Loss: 0.0324 (MA: 0.0780), Val Loss: 0.0284 (MA: 0.0385), Duration: 0:02:55.831062\n",
      "  Train Loss MA improved to 0.078021 from 0.083721 (6.81% improvement).\n",
      "  Saved new best model (train loss MA) at epoch 9\n",
      "Epoch 9: Generating visualization samples...\n",
      "Saved visualization samples to C:\\Projects\\jetbot-diffusion-world-model-kong-finder-aux\\output_model_5hz_DIAMOND\\samples\\val_vis_epoch_0009_samples.png\n"
     ]
    },
    {
     "data": {
      "application/vnd.jupyter.widget-view+json": {
       "model_id": "",
       "version_major": 2,
       "version_minor": 0
      },
      "text/plain": [
       "Epoch 10 [Train]:   0%|          | 0/855 [00:00<?, ?it/s]"
      ]
     },
     "metadata": {},
     "output_type": "display_data"
    },
    {
     "data": {
      "application/vnd.jupyter.widget-view+json": {
       "model_id": "",
       "version_major": 2,
       "version_minor": 0
      },
      "text/plain": [
       "Epoch 10 [Valid]:   0%|          | 0/96 [00:00<?, ?it/s]"
      ]
     },
     "metadata": {},
     "output_type": "display_data"
    },
    {
     "name": "stdout",
     "output_type": "stream",
     "text": [
      "Epoch 10/1000 - Train Loss: 0.0319 (MA: 0.0734), Val Loss: 0.0297 (MA: 0.0365), Duration: 0:02:55.855706\n",
      "  Train Loss MA improved to 0.073410 from 0.078021 (5.91% improvement).\n",
      "  Saved new best model (train loss MA) at epoch 10\n",
      "Epoch 10: Generating visualization samples...\n",
      "Saved visualization samples to C:\\Projects\\jetbot-diffusion-world-model-kong-finder-aux\\output_model_5hz_DIAMOND\\samples\\val_vis_epoch_0010_samples.png\n",
      "Saved loss plot up to epoch 10\n"
     ]
    },
    {
     "data": {
      "application/vnd.jupyter.widget-view+json": {
       "model_id": "",
       "version_major": 2,
       "version_minor": 0
      },
      "text/plain": [
       "Epoch 11 [Train]:   0%|          | 0/855 [00:00<?, ?it/s]"
      ]
     },
     "metadata": {},
     "output_type": "display_data"
    },
    {
     "data": {
      "application/vnd.jupyter.widget-view+json": {
       "model_id": "",
       "version_major": 2,
       "version_minor": 0
      },
      "text/plain": [
       "Epoch 11 [Valid]:   0%|          | 0/96 [00:00<?, ?it/s]"
      ]
     },
     "metadata": {},
     "output_type": "display_data"
    },
    {
     "name": "stdout",
     "output_type": "stream",
     "text": [
      "Epoch 11/1000 - Train Loss: 0.0279 (MA: 0.0475), Val Loss: 0.0267 (MA: 0.0321), Duration: 0:02:56.120544\n",
      "  Train Loss MA improved to 0.047506 from 0.073410 (35.29% improvement).\n",
      "  Saved new best model (train loss MA) at epoch 11\n",
      "Epoch 11: Generating visualization samples...\n",
      "Saved visualization samples to C:\\Projects\\jetbot-diffusion-world-model-kong-finder-aux\\output_model_5hz_DIAMOND\\samples\\val_vis_epoch_0011_samples.png\n"
     ]
    },
    {
     "data": {
      "application/vnd.jupyter.widget-view+json": {
       "model_id": "",
       "version_major": 2,
       "version_minor": 0
      },
      "text/plain": [
       "Epoch 12 [Train]:   0%|          | 0/855 [00:00<?, ?it/s]"
      ]
     },
     "metadata": {},
     "output_type": "display_data"
    },
    {
     "data": {
      "application/vnd.jupyter.widget-view+json": {
       "model_id": "",
       "version_major": 2,
       "version_minor": 0
      },
      "text/plain": [
       "Epoch 12 [Valid]:   0%|          | 0/96 [00:00<?, ?it/s]"
      ]
     },
     "metadata": {},
     "output_type": "display_data"
    },
    {
     "name": "stdout",
     "output_type": "stream",
     "text": [
      "Epoch 12/1000 - Train Loss: 0.0271 (MA: 0.0403), Val Loss: 0.0291 (MA: 0.0296), Duration: 0:02:56.380753\n",
      "  Train Loss MA improved to 0.040336 from 0.047506 (15.09% improvement).\n",
      "  Saved new best model (train loss MA) at epoch 12\n",
      "Epoch 12: Generating visualization samples...\n",
      "Saved visualization samples to C:\\Projects\\jetbot-diffusion-world-model-kong-finder-aux\\output_model_5hz_DIAMOND\\samples\\val_vis_epoch_0012_samples.png\n"
     ]
    },
    {
     "data": {
      "application/vnd.jupyter.widget-view+json": {
       "model_id": "",
       "version_major": 2,
       "version_minor": 0
      },
      "text/plain": [
       "Epoch 13 [Train]:   0%|          | 0/855 [00:00<?, ?it/s]"
      ]
     },
     "metadata": {},
     "output_type": "display_data"
    },
    {
     "data": {
      "application/vnd.jupyter.widget-view+json": {
       "model_id": "",
       "version_major": 2,
       "version_minor": 0
      },
      "text/plain": [
       "Epoch 13 [Valid]:   0%|          | 0/96 [00:00<?, ?it/s]"
      ]
     },
     "metadata": {},
     "output_type": "display_data"
    },
    {
     "name": "stdout",
     "output_type": "stream",
     "text": [
      "Epoch 13/1000 - Train Loss: 0.0270 (MA: 0.0363), Val Loss: 0.0262 (MA: 0.0280), Duration: 0:02:56.232068\n",
      "  Train Loss MA improved to 0.036268 from 0.040336 (10.08% improvement).\n",
      "  Saved new best model (train loss MA) at epoch 13\n",
      "Epoch 13: Generating visualization samples...\n",
      "Saved visualization samples to C:\\Projects\\jetbot-diffusion-world-model-kong-finder-aux\\output_model_5hz_DIAMOND\\samples\\val_vis_epoch_0013_samples.png\n"
     ]
    },
    {
     "data": {
      "application/vnd.jupyter.widget-view+json": {
       "model_id": "",
       "version_major": 2,
       "version_minor": 0
      },
      "text/plain": [
       "Epoch 14 [Train]:   0%|          | 0/855 [00:00<?, ?it/s]"
      ]
     },
     "metadata": {},
     "output_type": "display_data"
    },
    {
     "data": {
      "application/vnd.jupyter.widget-view+json": {
       "model_id": "",
       "version_major": 2,
       "version_minor": 0
      },
      "text/plain": [
       "Epoch 14 [Valid]:   0%|          | 0/96 [00:00<?, ?it/s]"
      ]
     },
     "metadata": {},
     "output_type": "display_data"
    },
    {
     "name": "stdout",
     "output_type": "stream",
     "text": [
      "Epoch 14/1000 - Train Loss: 0.0247 (MA: 0.0332), Val Loss: 0.0232 (MA: 0.0270), Duration: 0:02:56.289024\n",
      "  Train Loss MA improved to 0.033165 from 0.036268 (8.56% improvement).\n",
      "  Saved new best model (train loss MA) at epoch 14\n",
      "Epoch 14: Generating visualization samples...\n",
      "Saved visualization samples to C:\\Projects\\jetbot-diffusion-world-model-kong-finder-aux\\output_model_5hz_DIAMOND\\samples\\val_vis_epoch_0014_samples.png\n"
     ]
    },
    {
     "data": {
      "application/vnd.jupyter.widget-view+json": {
       "model_id": "",
       "version_major": 2,
       "version_minor": 0
      },
      "text/plain": [
       "Epoch 15 [Train]:   0%|          | 0/855 [00:00<?, ?it/s]"
      ]
     },
     "metadata": {},
     "output_type": "display_data"
    },
    {
     "data": {
      "application/vnd.jupyter.widget-view+json": {
       "model_id": "",
       "version_major": 2,
       "version_minor": 0
      },
      "text/plain": [
       "Epoch 15 [Valid]:   0%|          | 0/96 [00:00<?, ?it/s]"
      ]
     },
     "metadata": {},
     "output_type": "display_data"
    },
    {
     "name": "stdout",
     "output_type": "stream",
     "text": [
      "Epoch 15/1000 - Train Loss: 0.0242 (MA: 0.0310), Val Loss: 0.0235 (MA: 0.0258), Duration: 0:02:55.935761\n",
      "  Train Loss MA improved to 0.031004 from 0.033165 (6.51% improvement).\n",
      "  Saved new best model (train loss MA) at epoch 15\n",
      "Epoch 15: Generating visualization samples...\n",
      "Saved visualization samples to C:\\Projects\\jetbot-diffusion-world-model-kong-finder-aux\\output_model_5hz_DIAMOND\\samples\\val_vis_epoch_0015_samples.png\n"
     ]
    },
    {
     "data": {
      "application/vnd.jupyter.widget-view+json": {
       "model_id": "",
       "version_major": 2,
       "version_minor": 0
      },
      "text/plain": [
       "Epoch 16 [Train]:   0%|          | 0/855 [00:00<?, ?it/s]"
      ]
     },
     "metadata": {},
     "output_type": "display_data"
    },
    {
     "data": {
      "application/vnd.jupyter.widget-view+json": {
       "model_id": "",
       "version_major": 2,
       "version_minor": 0
      },
      "text/plain": [
       "Epoch 16 [Valid]:   0%|          | 0/96 [00:00<?, ?it/s]"
      ]
     },
     "metadata": {},
     "output_type": "display_data"
    },
    {
     "name": "stdout",
     "output_type": "stream",
     "text": [
      "Epoch 16/1000 - Train Loss: 0.0234 (MA: 0.0292), Val Loss: 0.0240 (MA: 0.0252), Duration: 0:02:55.960032\n",
      "  Train Loss MA improved to 0.029168 from 0.031004 (5.92% improvement).\n",
      "  Saved new best model (train loss MA) at epoch 16\n",
      "Epoch 16: Generating visualization samples...\n",
      "Saved visualization samples to C:\\Projects\\jetbot-diffusion-world-model-kong-finder-aux\\output_model_5hz_DIAMOND\\samples\\val_vis_epoch_0016_samples.png\n"
     ]
    },
    {
     "data": {
      "application/vnd.jupyter.widget-view+json": {
       "model_id": "",
       "version_major": 2,
       "version_minor": 0
      },
      "text/plain": [
       "Epoch 17 [Train]:   0%|          | 0/855 [00:00<?, ?it/s]"
      ]
     },
     "metadata": {},
     "output_type": "display_data"
    },
    {
     "data": {
      "application/vnd.jupyter.widget-view+json": {
       "model_id": "772ad795c7a743429ae49911bd406038",
       "version_major": 2,
       "version_minor": 0
      },
      "text/plain": [
       "Epoch 17 [Valid]:   0%|          | 0/96 [00:00<?, ?it/s]"
      ]
     },
     "metadata": {},
     "output_type": "display_data"
    },
    {
     "name": "stdout",
     "output_type": "stream",
     "text": [
      "Epoch 17/1000 - Train Loss: 0.0227 (MA: 0.0276), Val Loss: 0.0247 (MA: 0.0243), Duration: 0:02:57.655479\n",
      "  Train Loss MA improved to 0.027565 from 0.029168 (5.50% improvement).\n",
      "  Saved new best model (train loss MA) at epoch 17\n",
      "Epoch 17: Generating visualization samples...\n",
      "Saved visualization samples to C:\\Projects\\jetbot-diffusion-world-model-kong-finder-aux\\output_model_5hz_DIAMOND\\samples\\val_vis_epoch_0017_samples.png\n"
     ]
    },
    {
     "data": {
      "application/vnd.jupyter.widget-view+json": {
       "model_id": "dd963e04408d4ada9552973cd0015cc0",
       "version_major": 2,
       "version_minor": 0
      },
      "text/plain": [
       "Epoch 18 [Train]:   0%|          | 0/855 [00:00<?, ?it/s]"
      ]
     },
     "metadata": {},
     "output_type": "display_data"
    },
    {
     "data": {
      "application/vnd.jupyter.widget-view+json": {
       "model_id": "cd798fd34ee548f8883d577e0367df5c",
       "version_major": 2,
       "version_minor": 0
      },
      "text/plain": [
       "Epoch 18 [Valid]:   0%|          | 0/96 [00:00<?, ?it/s]"
      ]
     },
     "metadata": {},
     "output_type": "display_data"
    },
    {
     "name": "stdout",
     "output_type": "stream",
     "text": [
      "Epoch 18/1000 - Train Loss: 0.0223 (MA: 0.0264), Val Loss: 0.0218 (MA: 0.0235), Duration: 0:02:55.451020\n",
      "  Train Loss MA improved to 0.026356 from 0.027565 (4.39% improvement).\n",
      "  Saved new best model (train loss MA) at epoch 18\n",
      "Epoch 18: Generating visualization samples...\n",
      "Saved visualization samples to C:\\Projects\\jetbot-diffusion-world-model-kong-finder-aux\\output_model_5hz_DIAMOND\\samples\\val_vis_epoch_0018_samples.png\n"
     ]
    },
    {
     "data": {
      "application/vnd.jupyter.widget-view+json": {
       "model_id": "d71dddc073504f69a9fba6505b329a8e",
       "version_major": 2,
       "version_minor": 0
      },
      "text/plain": [
       "Epoch 19 [Train]:   0%|          | 0/855 [00:00<?, ?it/s]"
      ]
     },
     "metadata": {},
     "output_type": "display_data"
    },
    {
     "data": {
      "application/vnd.jupyter.widget-view+json": {
       "model_id": "cf5abf806db045608ae6e360bf847d04",
       "version_major": 2,
       "version_minor": 0
      },
      "text/plain": [
       "Epoch 19 [Valid]:   0%|          | 0/96 [00:00<?, ?it/s]"
      ]
     },
     "metadata": {},
     "output_type": "display_data"
    },
    {
     "name": "stdout",
     "output_type": "stream",
     "text": [
      "Epoch 19/1000 - Train Loss: 0.0229 (MA: 0.0254), Val Loss: 0.0215 (MA: 0.0231), Duration: 0:02:55.116560\n",
      "  Train Loss MA improved to 0.025408 from 0.026356 (3.60% improvement).\n",
      "  Saved new best model (train loss MA) at epoch 19\n",
      "Epoch 19: Generating visualization samples...\n",
      "Saved visualization samples to C:\\Projects\\jetbot-diffusion-world-model-kong-finder-aux\\output_model_5hz_DIAMOND\\samples\\val_vis_epoch_0019_samples.png\n"
     ]
    },
    {
     "data": {
      "application/vnd.jupyter.widget-view+json": {
       "model_id": "b924e7eab73f48319051ef86ab08e182",
       "version_major": 2,
       "version_minor": 0
      },
      "text/plain": [
       "Epoch 20 [Train]:   0%|          | 0/855 [00:00<?, ?it/s]"
      ]
     },
     "metadata": {},
     "output_type": "display_data"
    },
    {
     "data": {
      "application/vnd.jupyter.widget-view+json": {
       "model_id": "a719223eb24748ba9da863ce243c8a11",
       "version_major": 2,
       "version_minor": 0
      },
      "text/plain": [
       "Epoch 20 [Valid]:   0%|          | 0/96 [00:00<?, ?it/s]"
      ]
     },
     "metadata": {},
     "output_type": "display_data"
    },
    {
     "name": "stdout",
     "output_type": "stream",
     "text": [
      "Epoch 20/1000 - Train Loss: 0.0212 (MA: 0.0243), Val Loss: 0.0206 (MA: 0.0225), Duration: 0:02:55.317284\n",
      "  Train Loss MA improved to 0.024340 from 0.025408 (4.20% improvement).\n",
      "  Saved new best model (train loss MA) at epoch 20\n",
      "Epoch 20: Generating visualization samples...\n",
      "Saved visualization samples to C:\\Projects\\jetbot-diffusion-world-model-kong-finder-aux\\output_model_5hz_DIAMOND\\samples\\val_vis_epoch_0020_samples.png\n",
      "Saved loss plot up to epoch 20\n"
     ]
    },
    {
     "data": {
      "application/vnd.jupyter.widget-view+json": {
       "model_id": "15531b962dae4162bba0d5627436f2fc",
       "version_major": 2,
       "version_minor": 0
      },
      "text/plain": [
       "Epoch 21 [Train]:   0%|          | 0/855 [00:00<?, ?it/s]"
      ]
     },
     "metadata": {},
     "output_type": "display_data"
    },
    {
     "data": {
      "application/vnd.jupyter.widget-view+json": {
       "model_id": "faf9af0581964626acdd8ec9029a0451",
       "version_major": 2,
       "version_minor": 0
      },
      "text/plain": [
       "Epoch 21 [Valid]:   0%|          | 0/96 [00:00<?, ?it/s]"
      ]
     },
     "metadata": {},
     "output_type": "display_data"
    },
    {
     "name": "stdout",
     "output_type": "stream",
     "text": [
      "Epoch 21/1000 - Train Loss: 0.0204 (MA: 0.0236), Val Loss: 0.0212 (MA: 0.0219), Duration: 0:02:55.275581\n",
      "  Train Loss MA improved to 0.023588 from 0.024340 (3.09% improvement).\n",
      "  Saved new best model (train loss MA) at epoch 21\n",
      "Epoch 21: Generating visualization samples...\n",
      "Saved visualization samples to C:\\Projects\\jetbot-diffusion-world-model-kong-finder-aux\\output_model_5hz_DIAMOND\\samples\\val_vis_epoch_0021_samples.png\n"
     ]
    },
    {
     "data": {
      "application/vnd.jupyter.widget-view+json": {
       "model_id": "95c1c5350948406dac1facf60c0169d0",
       "version_major": 2,
       "version_minor": 0
      },
      "text/plain": [
       "Epoch 22 [Train]:   0%|          | 0/855 [00:00<?, ?it/s]"
      ]
     },
     "metadata": {},
     "output_type": "display_data"
    },
    {
     "data": {
      "application/vnd.jupyter.widget-view+json": {
       "model_id": "2d2c3f2cd19342f58f8b7f71c4ddf244",
       "version_major": 2,
       "version_minor": 0
      },
      "text/plain": [
       "Epoch 22 [Valid]:   0%|          | 0/96 [00:00<?, ?it/s]"
      ]
     },
     "metadata": {},
     "output_type": "display_data"
    },
    {
     "name": "stdout",
     "output_type": "stream",
     "text": [
      "Epoch 22/1000 - Train Loss: 0.0211 (MA: 0.0230), Val Loss: 0.0205 (MA: 0.0211), Duration: 0:02:55.204795\n",
      "  Train Loss MA improved to 0.022993 from 0.023588 (2.52% improvement).\n",
      "  Saved new best model (train loss MA) at epoch 22\n",
      "Epoch 22: Generating visualization samples...\n",
      "Saved visualization samples to C:\\Projects\\jetbot-diffusion-world-model-kong-finder-aux\\output_model_5hz_DIAMOND\\samples\\val_vis_epoch_0022_samples.png\n"
     ]
    },
    {
     "data": {
      "application/vnd.jupyter.widget-view+json": {
       "model_id": "223b8a4e86a841c09ab201c76e94c43c",
       "version_major": 2,
       "version_minor": 0
      },
      "text/plain": [
       "Epoch 23 [Train]:   0%|          | 0/855 [00:00<?, ?it/s]"
      ]
     },
     "metadata": {},
     "output_type": "display_data"
    },
    {
     "data": {
      "application/vnd.jupyter.widget-view+json": {
       "model_id": "74773206bab047cfa0c042dc3d6e1ca3",
       "version_major": 2,
       "version_minor": 0
      },
      "text/plain": [
       "Epoch 23 [Valid]:   0%|          | 0/96 [00:00<?, ?it/s]"
      ]
     },
     "metadata": {},
     "output_type": "display_data"
    },
    {
     "name": "stdout",
     "output_type": "stream",
     "text": [
      "Epoch 23/1000 - Train Loss: 0.0205 (MA: 0.0223), Val Loss: 0.0219 (MA: 0.0211), Duration: 0:02:55.425035\n",
      "  Train Loss MA improved to 0.022346 from 0.022993 (2.81% improvement).\n",
      "  Saved new best model (train loss MA) at epoch 23\n",
      "Epoch 23: Generating visualization samples...\n",
      "Saved visualization samples to C:\\Projects\\jetbot-diffusion-world-model-kong-finder-aux\\output_model_5hz_DIAMOND\\samples\\val_vis_epoch_0023_samples.png\n"
     ]
    },
    {
     "data": {
      "application/vnd.jupyter.widget-view+json": {
       "model_id": "737bf9ba06344079820757d8a6c67f22",
       "version_major": 2,
       "version_minor": 0
      },
      "text/plain": [
       "Epoch 24 [Train]:   0%|          | 0/855 [00:00<?, ?it/s]"
      ]
     },
     "metadata": {},
     "output_type": "display_data"
    },
    {
     "data": {
      "application/vnd.jupyter.widget-view+json": {
       "model_id": "fb1ab8f588a74fbd8454dc047a2ef0a9",
       "version_major": 2,
       "version_minor": 0
      },
      "text/plain": [
       "Epoch 24 [Valid]:   0%|          | 0/96 [00:00<?, ?it/s]"
      ]
     },
     "metadata": {},
     "output_type": "display_data"
    },
    {
     "name": "stdout",
     "output_type": "stream",
     "text": [
      "Epoch 24/1000 - Train Loss: 0.0198 (MA: 0.0219), Val Loss: 0.0191 (MA: 0.0207), Duration: 0:02:55.401557\n",
      "  Train Loss MA improved to 0.021864 from 0.022346 (2.16% improvement).\n",
      "  Saved new best model (train loss MA) at epoch 24\n",
      "Epoch 24: Generating visualization samples...\n",
      "Saved visualization samples to C:\\Projects\\jetbot-diffusion-world-model-kong-finder-aux\\output_model_5hz_DIAMOND\\samples\\val_vis_epoch_0024_samples.png\n"
     ]
    },
    {
     "data": {
      "application/vnd.jupyter.widget-view+json": {
       "model_id": "d879fd90ffaf41119c033ddf72678d74",
       "version_major": 2,
       "version_minor": 0
      },
      "text/plain": [
       "Epoch 25 [Train]:   0%|          | 0/855 [00:00<?, ?it/s]"
      ]
     },
     "metadata": {},
     "output_type": "display_data"
    },
    {
     "data": {
      "application/vnd.jupyter.widget-view+json": {
       "model_id": "98cf5cf5117644d28f7ef890d0f52c08",
       "version_major": 2,
       "version_minor": 0
      },
      "text/plain": [
       "Epoch 25 [Valid]:   0%|          | 0/96 [00:00<?, ?it/s]"
      ]
     },
     "metadata": {},
     "output_type": "display_data"
    },
    {
     "name": "stdout",
     "output_type": "stream",
     "text": [
      "Epoch 25/1000 - Train Loss: 0.0188 (MA: 0.0213), Val Loss: 0.0181 (MA: 0.0202), Duration: 0:02:55.215060\n",
      "  Train Loss MA improved to 0.021320 from 0.021864 (2.49% improvement).\n",
      "  Saved new best model (train loss MA) at epoch 25\n",
      "Epoch 25: Generating visualization samples...\n",
      "Saved visualization samples to C:\\Projects\\jetbot-diffusion-world-model-kong-finder-aux\\output_model_5hz_DIAMOND\\samples\\val_vis_epoch_0025_samples.png\n"
     ]
    },
    {
     "data": {
      "application/vnd.jupyter.widget-view+json": {
       "model_id": "8940f24146794cc482cad8086894d1d5",
       "version_major": 2,
       "version_minor": 0
      },
      "text/plain": [
       "Epoch 26 [Train]:   0%|          | 0/855 [00:00<?, ?it/s]"
      ]
     },
     "metadata": {},
     "output_type": "display_data"
    },
    {
     "data": {
      "application/vnd.jupyter.widget-view+json": {
       "model_id": "a77a8e34d82547c88f5b53bf6c2453a7",
       "version_major": 2,
       "version_minor": 0
      },
      "text/plain": [
       "Epoch 26 [Valid]:   0%|          | 0/96 [00:00<?, ?it/s]"
      ]
     },
     "metadata": {},
     "output_type": "display_data"
    },
    {
     "name": "stdout",
     "output_type": "stream",
     "text": [
      "Epoch 26/1000 - Train Loss: 0.0191 (MA: 0.0209), Val Loss: 0.0191 (MA: 0.0198), Duration: 0:02:55.186038\n",
      "  Train Loss MA improved to 0.020895 from 0.021320 (2.00% improvement).\n",
      "  Saved new best model (train loss MA) at epoch 26\n",
      "Epoch 26: Generating visualization samples...\n",
      "Saved visualization samples to C:\\Projects\\jetbot-diffusion-world-model-kong-finder-aux\\output_model_5hz_DIAMOND\\samples\\val_vis_epoch_0026_samples.png\n"
     ]
    },
    {
     "data": {
      "application/vnd.jupyter.widget-view+json": {
       "model_id": "6e88ca9ff1a54edd86d18e2c861438a4",
       "version_major": 2,
       "version_minor": 0
      },
      "text/plain": [
       "Epoch 27 [Train]:   0%|          | 0/855 [00:00<?, ?it/s]"
      ]
     },
     "metadata": {},
     "output_type": "display_data"
    },
    {
     "data": {
      "application/vnd.jupyter.widget-view+json": {
       "model_id": "dccd59bdb49f4967bc9d606027654e21",
       "version_major": 2,
       "version_minor": 0
      },
      "text/plain": [
       "Epoch 27 [Valid]:   0%|          | 0/96 [00:00<?, ?it/s]"
      ]
     },
     "metadata": {},
     "output_type": "display_data"
    },
    {
     "name": "stdout",
     "output_type": "stream",
     "text": [
      "Epoch 27/1000 - Train Loss: 0.0186 (MA: 0.0205), Val Loss: 0.0234 (MA: 0.0203), Duration: 0:02:55.114212\n",
      "  Train Loss MA improved to 0.020488 from 0.020895 (1.95% improvement).\n",
      "  Saved new best model (train loss MA) at epoch 27\n",
      "Epoch 27: Generating visualization samples...\n",
      "Saved visualization samples to C:\\Projects\\jetbot-diffusion-world-model-kong-finder-aux\\output_model_5hz_DIAMOND\\samples\\val_vis_epoch_0027_samples.png\n"
     ]
    },
    {
     "data": {
      "application/vnd.jupyter.widget-view+json": {
       "model_id": "34edc34c35294cbea7396c99041db869",
       "version_major": 2,
       "version_minor": 0
      },
      "text/plain": [
       "Epoch 28 [Train]:   0%|          | 0/855 [00:00<?, ?it/s]"
      ]
     },
     "metadata": {},
     "output_type": "display_data"
    },
    {
     "data": {
      "application/vnd.jupyter.widget-view+json": {
       "model_id": "8b1f7c56097a49959022a62f2507e915",
       "version_major": 2,
       "version_minor": 0
      },
      "text/plain": [
       "Epoch 28 [Valid]:   0%|          | 0/96 [00:00<?, ?it/s]"
      ]
     },
     "metadata": {},
     "output_type": "display_data"
    },
    {
     "name": "stdout",
     "output_type": "stream",
     "text": [
      "Epoch 28/1000 - Train Loss: 0.0179 (MA: 0.0200), Val Loss: 0.0179 (MA: 0.0195), Duration: 0:02:55.316236\n",
      "  Train Loss MA improved to 0.020049 from 0.020488 (2.14% improvement).\n",
      "  Saved new best model (train loss MA) at epoch 28\n",
      "Epoch 28: Generating visualization samples...\n",
      "Saved visualization samples to C:\\Projects\\jetbot-diffusion-world-model-kong-finder-aux\\output_model_5hz_DIAMOND\\samples\\val_vis_epoch_0028_samples.png\n"
     ]
    },
    {
     "data": {
      "application/vnd.jupyter.widget-view+json": {
       "model_id": "09c8688bbf714d28b9bc45e0da4101e7",
       "version_major": 2,
       "version_minor": 0
      },
      "text/plain": [
       "Epoch 29 [Train]:   0%|          | 0/855 [00:00<?, ?it/s]"
      ]
     },
     "metadata": {},
     "output_type": "display_data"
    },
    {
     "data": {
      "application/vnd.jupyter.widget-view+json": {
       "model_id": "d6f51d09ae304714a4b7d1fa5a88253a",
       "version_major": 2,
       "version_minor": 0
      },
      "text/plain": [
       "Epoch 29 [Valid]:   0%|          | 0/96 [00:00<?, ?it/s]"
      ]
     },
     "metadata": {},
     "output_type": "display_data"
    },
    {
     "name": "stdout",
     "output_type": "stream",
     "text": [
      "Epoch 29/1000 - Train Loss: 0.0192 (MA: 0.0197), Val Loss: 0.0191 (MA: 0.0195), Duration: 0:02:55.237122\n",
      "  Train Loss MA improved to 0.019673 from 0.020049 (1.87% improvement).\n",
      "  Saved new best model (train loss MA) at epoch 29\n",
      "Epoch 29: Generating visualization samples...\n",
      "Saved visualization samples to C:\\Projects\\jetbot-diffusion-world-model-kong-finder-aux\\output_model_5hz_DIAMOND\\samples\\val_vis_epoch_0029_samples.png\n"
     ]
    },
    {
     "data": {
      "application/vnd.jupyter.widget-view+json": {
       "model_id": "",
       "version_major": 2,
       "version_minor": 0
      },
      "text/plain": [
       "Epoch 30 [Train]:   0%|          | 0/855 [00:00<?, ?it/s]"
      ]
     },
     "metadata": {},
     "output_type": "display_data"
    },
    {
     "data": {
      "application/vnd.jupyter.widget-view+json": {
       "model_id": "",
       "version_major": 2,
       "version_minor": 0
      },
      "text/plain": [
       "Epoch 30 [Valid]:   0%|          | 0/96 [00:00<?, ?it/s]"
      ]
     },
     "metadata": {},
     "output_type": "display_data"
    },
    {
     "name": "stdout",
     "output_type": "stream",
     "text": [
      "Epoch 30/1000 - Train Loss: 0.0180 (MA: 0.0194), Val Loss: 0.0175 (MA: 0.0194), Duration: 0:02:55.627740\n",
      "  Train Loss MA improved to 0.019354 from 0.019673 (1.62% improvement).\n",
      "  Saved new best model (train loss MA) at epoch 30\n",
      "Epoch 30: Generating visualization samples...\n",
      "Saved visualization samples to C:\\Projects\\jetbot-diffusion-world-model-kong-finder-aux\\output_model_5hz_DIAMOND\\samples\\val_vis_epoch_0030_samples.png\n",
      "Saved loss plot up to epoch 30\n"
     ]
    },
    {
     "data": {
      "application/vnd.jupyter.widget-view+json": {
       "model_id": "",
       "version_major": 2,
       "version_minor": 0
      },
      "text/plain": [
       "Epoch 31 [Train]:   0%|          | 0/855 [00:00<?, ?it/s]"
      ]
     },
     "metadata": {},
     "output_type": "display_data"
    },
    {
     "data": {
      "application/vnd.jupyter.widget-view+json": {
       "model_id": "",
       "version_major": 2,
       "version_minor": 0
      },
      "text/plain": [
       "Epoch 31 [Valid]:   0%|          | 0/96 [00:00<?, ?it/s]"
      ]
     },
     "metadata": {},
     "output_type": "display_data"
    },
    {
     "name": "stdout",
     "output_type": "stream",
     "text": [
      "Epoch 31/1000 - Train Loss: 0.0171 (MA: 0.0190), Val Loss: 0.0181 (MA: 0.0192), Duration: 0:02:55.378555\n",
      "  Train Loss MA improved to 0.019027 from 0.019354 (1.69% improvement).\n",
      "  Saved new best model (train loss MA) at epoch 31\n",
      "Epoch 31: Generating visualization samples...\n",
      "Saved visualization samples to C:\\Projects\\jetbot-diffusion-world-model-kong-finder-aux\\output_model_5hz_DIAMOND\\samples\\val_vis_epoch_0031_samples.png\n"
     ]
    },
    {
     "data": {
      "application/vnd.jupyter.widget-view+json": {
       "model_id": "",
       "version_major": 2,
       "version_minor": 0
      },
      "text/plain": [
       "Epoch 32 [Train]:   0%|          | 0/855 [00:00<?, ?it/s]"
      ]
     },
     "metadata": {},
     "output_type": "display_data"
    },
    {
     "data": {
      "application/vnd.jupyter.widget-view+json": {
       "model_id": "",
       "version_major": 2,
       "version_minor": 0
      },
      "text/plain": [
       "Epoch 32 [Valid]:   0%|          | 0/96 [00:00<?, ?it/s]"
      ]
     },
     "metadata": {},
     "output_type": "display_data"
    },
    {
     "name": "stdout",
     "output_type": "stream",
     "text": [
      "Epoch 32/1000 - Train Loss: 0.0177 (MA: 0.0187), Val Loss: 0.0212 (MA: 0.0188), Duration: 0:02:55.174545\n",
      "  Train Loss MA improved to 0.018683 from 0.019027 (1.81% improvement).\n",
      "  Saved new best model (train loss MA) at epoch 32\n",
      "Epoch 32: Generating visualization samples...\n",
      "Saved visualization samples to C:\\Projects\\jetbot-diffusion-world-model-kong-finder-aux\\output_model_5hz_DIAMOND\\samples\\val_vis_epoch_0032_samples.png\n"
     ]
    },
    {
     "data": {
      "application/vnd.jupyter.widget-view+json": {
       "model_id": "",
       "version_major": 2,
       "version_minor": 0
      },
      "text/plain": [
       "Epoch 33 [Train]:   0%|          | 0/855 [00:00<?, ?it/s]"
      ]
     },
     "metadata": {},
     "output_type": "display_data"
    },
    {
     "data": {
      "application/vnd.jupyter.widget-view+json": {
       "model_id": "",
       "version_major": 2,
       "version_minor": 0
      },
      "text/plain": [
       "Epoch 33 [Valid]:   0%|          | 0/96 [00:00<?, ?it/s]"
      ]
     },
     "metadata": {},
     "output_type": "display_data"
    },
    {
     "name": "stdout",
     "output_type": "stream",
     "text": [
      "Epoch 33/1000 - Train Loss: 0.0177 (MA: 0.0184), Val Loss: 0.0191 (MA: 0.0190), Duration: 0:02:55.108260\n",
      "  Train Loss MA improved to 0.018401 from 0.018683 (1.51% improvement).\n",
      "  Saved new best model (train loss MA) at epoch 33\n",
      "Epoch 33: Generating visualization samples...\n",
      "Saved visualization samples to C:\\Projects\\jetbot-diffusion-world-model-kong-finder-aux\\output_model_5hz_DIAMOND\\samples\\val_vis_epoch_0033_samples.png\n"
     ]
    },
    {
     "data": {
      "application/vnd.jupyter.widget-view+json": {
       "model_id": "",
       "version_major": 2,
       "version_minor": 0
      },
      "text/plain": [
       "Epoch 34 [Train]:   0%|          | 0/855 [00:00<?, ?it/s]"
      ]
     },
     "metadata": {},
     "output_type": "display_data"
    },
    {
     "data": {
      "application/vnd.jupyter.widget-view+json": {
       "model_id": "",
       "version_major": 2,
       "version_minor": 0
      },
      "text/plain": [
       "Epoch 34 [Valid]:   0%|          | 0/96 [00:00<?, ?it/s]"
      ]
     },
     "metadata": {},
     "output_type": "display_data"
    },
    {
     "name": "stdout",
     "output_type": "stream",
     "text": [
      "Epoch 34/1000 - Train Loss: 0.0171 (MA: 0.0181), Val Loss: 0.0184 (MA: 0.0189), Duration: 0:02:55.476013\n",
      "  Train Loss MA improved to 0.018132 from 0.018401 (1.47% improvement).\n",
      "  Saved new best model (train loss MA) at epoch 34\n",
      "Epoch 34: Generating visualization samples...\n",
      "Saved visualization samples to C:\\Projects\\jetbot-diffusion-world-model-kong-finder-aux\\output_model_5hz_DIAMOND\\samples\\val_vis_epoch_0034_samples.png\n"
     ]
    },
    {
     "data": {
      "application/vnd.jupyter.widget-view+json": {
       "model_id": "",
       "version_major": 2,
       "version_minor": 0
      },
      "text/plain": [
       "Epoch 35 [Train]:   0%|          | 0/855 [00:00<?, ?it/s]"
      ]
     },
     "metadata": {},
     "output_type": "display_data"
    },
    {
     "data": {
      "application/vnd.jupyter.widget-view+json": {
       "model_id": "",
       "version_major": 2,
       "version_minor": 0
      },
      "text/plain": [
       "Epoch 35 [Valid]:   0%|          | 0/96 [00:00<?, ?it/s]"
      ]
     },
     "metadata": {},
     "output_type": "display_data"
    },
    {
     "name": "stdout",
     "output_type": "stream",
     "text": [
      "Epoch 35/1000 - Train Loss: 0.0177 (MA: 0.0180), Val Loss: 0.0185 (MA: 0.0191), Duration: 0:02:55.163927\n",
      "  Train Loss MA improved to 0.018018 from 0.018132 (0.63% improvement).\n",
      "  Saved new best model (train loss MA) at epoch 35\n",
      "Epoch 35: Generating visualization samples...\n",
      "Saved visualization samples to C:\\Projects\\jetbot-diffusion-world-model-kong-finder-aux\\output_model_5hz_DIAMOND\\samples\\val_vis_epoch_0035_samples.png\n"
     ]
    },
    {
     "data": {
      "application/vnd.jupyter.widget-view+json": {
       "model_id": "",
       "version_major": 2,
       "version_minor": 0
      },
      "text/plain": [
       "Epoch 36 [Train]:   0%|          | 0/855 [00:00<?, ?it/s]"
      ]
     },
     "metadata": {},
     "output_type": "display_data"
    },
    {
     "data": {
      "application/vnd.jupyter.widget-view+json": {
       "model_id": "",
       "version_major": 2,
       "version_minor": 0
      },
      "text/plain": [
       "Epoch 36 [Valid]:   0%|          | 0/96 [00:00<?, ?it/s]"
      ]
     },
     "metadata": {},
     "output_type": "display_data"
    },
    {
     "name": "stdout",
     "output_type": "stream",
     "text": [
      "Epoch 36/1000 - Train Loss: 0.0168 (MA: 0.0178), Val Loss: 0.0223 (MA: 0.0199), Duration: 0:02:55.156975\n",
      "  Train Loss MA improved to 0.017789 from 0.018018 (1.27% improvement).\n",
      "  Saved new best model (train loss MA) at epoch 36\n",
      "Epoch 36: Generating visualization samples...\n",
      "Saved visualization samples to C:\\Projects\\jetbot-diffusion-world-model-kong-finder-aux\\output_model_5hz_DIAMOND\\samples\\val_vis_epoch_0036_samples.png\n"
     ]
    },
    {
     "data": {
      "application/vnd.jupyter.widget-view+json": {
       "model_id": "",
       "version_major": 2,
       "version_minor": 0
      },
      "text/plain": [
       "Epoch 37 [Train]:   0%|          | 0/855 [00:00<?, ?it/s]"
      ]
     },
     "metadata": {},
     "output_type": "display_data"
    },
    {
     "data": {
      "application/vnd.jupyter.widget-view+json": {
       "model_id": "",
       "version_major": 2,
       "version_minor": 0
      },
      "text/plain": [
       "Epoch 37 [Valid]:   0%|          | 0/96 [00:00<?, ?it/s]"
      ]
     },
     "metadata": {},
     "output_type": "display_data"
    },
    {
     "name": "stdout",
     "output_type": "stream",
     "text": [
      "Epoch 37/1000 - Train Loss: 0.0159 (MA: 0.0175), Val Loss: 0.0186 (MA: 0.0194), Duration: 0:02:55.350836\n",
      "  Train Loss MA improved to 0.017518 from 0.017789 (1.52% improvement).\n",
      "  Saved new best model (train loss MA) at epoch 37\n",
      "Epoch 37: Generating visualization samples...\n",
      "Saved visualization samples to C:\\Projects\\jetbot-diffusion-world-model-kong-finder-aux\\output_model_5hz_DIAMOND\\samples\\val_vis_epoch_0037_samples.png\n"
     ]
    },
    {
     "data": {
      "application/vnd.jupyter.widget-view+json": {
       "model_id": "",
       "version_major": 2,
       "version_minor": 0
      },
      "text/plain": [
       "Epoch 38 [Train]:   0%|          | 0/855 [00:00<?, ?it/s]"
      ]
     },
     "metadata": {},
     "output_type": "display_data"
    },
    {
     "data": {
      "application/vnd.jupyter.widget-view+json": {
       "model_id": "",
       "version_major": 2,
       "version_minor": 0
      },
      "text/plain": [
       "Epoch 38 [Valid]:   0%|          | 0/96 [00:00<?, ?it/s]"
      ]
     },
     "metadata": {},
     "output_type": "display_data"
    },
    {
     "name": "stdout",
     "output_type": "stream",
     "text": [
      "Epoch 38/1000 - Train Loss: 0.0165 (MA: 0.0174), Val Loss: 0.0175 (MA: 0.0191), Duration: 0:02:55.120418\n",
      "  Train Loss MA improved to 0.017383 from 0.017518 (0.77% improvement).\n",
      "  Saved new best model (train loss MA) at epoch 38\n",
      "Epoch 38: Generating visualization samples...\n",
      "Saved visualization samples to C:\\Projects\\jetbot-diffusion-world-model-kong-finder-aux\\output_model_5hz_DIAMOND\\samples\\val_vis_epoch_0038_samples.png\n"
     ]
    },
    {
     "data": {
      "application/vnd.jupyter.widget-view+json": {
       "model_id": "",
       "version_major": 2,
       "version_minor": 0
      },
      "text/plain": [
       "Epoch 39 [Train]:   0%|          | 0/855 [00:00<?, ?it/s]"
      ]
     },
     "metadata": {},
     "output_type": "display_data"
    },
    {
     "data": {
      "application/vnd.jupyter.widget-view+json": {
       "model_id": "",
       "version_major": 2,
       "version_minor": 0
      },
      "text/plain": [
       "Epoch 39 [Valid]:   0%|          | 0/96 [00:00<?, ?it/s]"
      ]
     },
     "metadata": {},
     "output_type": "display_data"
    },
    {
     "name": "stdout",
     "output_type": "stream",
     "text": [
      "Epoch 39/1000 - Train Loss: 0.0162 (MA: 0.0171), Val Loss: 0.0189 (MA: 0.0192), Duration: 0:02:55.150594\n",
      "  Train Loss MA improved to 0.017087 from 0.017383 (1.70% improvement).\n",
      "  Saved new best model (train loss MA) at epoch 39\n",
      "Epoch 39: Generating visualization samples...\n",
      "Saved visualization samples to C:\\Projects\\jetbot-diffusion-world-model-kong-finder-aux\\output_model_5hz_DIAMOND\\samples\\val_vis_epoch_0039_samples.png\n"
     ]
    },
    {
     "data": {
      "application/vnd.jupyter.widget-view+json": {
       "model_id": "",
       "version_major": 2,
       "version_minor": 0
      },
      "text/plain": [
       "Epoch 40 [Train]:   0%|          | 0/855 [00:00<?, ?it/s]"
      ]
     },
     "metadata": {},
     "output_type": "display_data"
    },
    {
     "data": {
      "application/vnd.jupyter.widget-view+json": {
       "model_id": "",
       "version_major": 2,
       "version_minor": 0
      },
      "text/plain": [
       "Epoch 40 [Valid]:   0%|          | 0/96 [00:00<?, ?it/s]"
      ]
     },
     "metadata": {},
     "output_type": "display_data"
    },
    {
     "name": "stdout",
     "output_type": "stream",
     "text": [
      "Epoch 40/1000 - Train Loss: 0.0154 (MA: 0.0168), Val Loss: 0.0170 (MA: 0.0189), Duration: 0:02:55.254582\n",
      "  Train Loss MA improved to 0.016826 from 0.017087 (1.53% improvement).\n",
      "  Saved new best model (train loss MA) at epoch 40\n",
      "Epoch 40: Generating visualization samples...\n",
      "Saved visualization samples to C:\\Projects\\jetbot-diffusion-world-model-kong-finder-aux\\output_model_5hz_DIAMOND\\samples\\val_vis_epoch_0040_samples.png\n",
      "Saved loss plot up to epoch 40\n"
     ]
    },
    {
     "data": {
      "application/vnd.jupyter.widget-view+json": {
       "model_id": "",
       "version_major": 2,
       "version_minor": 0
      },
      "text/plain": [
       "Epoch 41 [Train]:   0%|          | 0/855 [00:00<?, ?it/s]"
      ]
     },
     "metadata": {},
     "output_type": "display_data"
    },
    {
     "data": {
      "application/vnd.jupyter.widget-view+json": {
       "model_id": "",
       "version_major": 2,
       "version_minor": 0
      },
      "text/plain": [
       "Epoch 41 [Valid]:   0%|          | 0/96 [00:00<?, ?it/s]"
      ]
     },
     "metadata": {},
     "output_type": "display_data"
    },
    {
     "name": "stdout",
     "output_type": "stream",
     "text": [
      "Epoch 41/1000 - Train Loss: 0.0161 (MA: 0.0167), Val Loss: 0.0198 (MA: 0.0184), Duration: 0:02:55.558640\n",
      "  Train Loss MA improved to 0.016727 from 0.016826 (0.59% improvement).\n",
      "  Saved new best model (train loss MA) at epoch 41\n",
      "Epoch 41: Generating visualization samples...\n",
      "Saved visualization samples to C:\\Projects\\jetbot-diffusion-world-model-kong-finder-aux\\output_model_5hz_DIAMOND\\samples\\val_vis_epoch_0041_samples.png\n"
     ]
    },
    {
     "data": {
      "application/vnd.jupyter.widget-view+json": {
       "model_id": "",
       "version_major": 2,
       "version_minor": 0
      },
      "text/plain": [
       "Epoch 42 [Train]:   0%|          | 0/855 [00:00<?, ?it/s]"
      ]
     },
     "metadata": {},
     "output_type": "display_data"
    },
    {
     "data": {
      "application/vnd.jupyter.widget-view+json": {
       "model_id": "",
       "version_major": 2,
       "version_minor": 0
      },
      "text/plain": [
       "Epoch 42 [Valid]:   0%|          | 0/96 [00:00<?, ?it/s]"
      ]
     },
     "metadata": {},
     "output_type": "display_data"
    },
    {
     "name": "stdout",
     "output_type": "stream",
     "text": [
      "Epoch 42/1000 - Train Loss: 0.0160 (MA: 0.0166), Val Loss: 0.0180 (MA: 0.0183), Duration: 0:02:55.145614\n",
      "  Train Loss MA improved to 0.016557 from 0.016727 (1.02% improvement).\n",
      "  Saved new best model (train loss MA) at epoch 42\n",
      "Epoch 42: Generating visualization samples...\n",
      "Saved visualization samples to C:\\Projects\\jetbot-diffusion-world-model-kong-finder-aux\\output_model_5hz_DIAMOND\\samples\\val_vis_epoch_0042_samples.png\n"
     ]
    },
    {
     "data": {
      "application/vnd.jupyter.widget-view+json": {
       "model_id": "",
       "version_major": 2,
       "version_minor": 0
      },
      "text/plain": [
       "Epoch 43 [Train]:   0%|          | 0/855 [00:00<?, ?it/s]"
      ]
     },
     "metadata": {},
     "output_type": "display_data"
    },
    {
     "data": {
      "application/vnd.jupyter.widget-view+json": {
       "model_id": "",
       "version_major": 2,
       "version_minor": 0
      },
      "text/plain": [
       "Epoch 43 [Valid]:   0%|          | 0/96 [00:00<?, ?it/s]"
      ]
     },
     "metadata": {},
     "output_type": "display_data"
    },
    {
     "name": "stdout",
     "output_type": "stream",
     "text": [
      "Epoch 43/1000 - Train Loss: 0.0160 (MA: 0.0164), Val Loss: 0.0166 (MA: 0.0181), Duration: 0:02:55.021920\n",
      "  Train Loss MA improved to 0.016390 from 0.016557 (1.01% improvement).\n",
      "  Saved new best model (train loss MA) at epoch 43\n",
      "Epoch 43: Generating visualization samples...\n",
      "Saved visualization samples to C:\\Projects\\jetbot-diffusion-world-model-kong-finder-aux\\output_model_5hz_DIAMOND\\samples\\val_vis_epoch_0043_samples.png\n"
     ]
    },
    {
     "data": {
      "application/vnd.jupyter.widget-view+json": {
       "model_id": "",
       "version_major": 2,
       "version_minor": 0
      },
      "text/plain": [
       "Epoch 44 [Train]:   0%|          | 0/855 [00:00<?, ?it/s]"
      ]
     },
     "metadata": {},
     "output_type": "display_data"
    },
    {
     "data": {
      "application/vnd.jupyter.widget-view+json": {
       "model_id": "",
       "version_major": 2,
       "version_minor": 0
      },
      "text/plain": [
       "Epoch 44 [Valid]:   0%|          | 0/96 [00:00<?, ?it/s]"
      ]
     },
     "metadata": {},
     "output_type": "display_data"
    },
    {
     "name": "stdout",
     "output_type": "stream",
     "text": [
      "Epoch 44/1000 - Train Loss: 0.0154 (MA: 0.0162), Val Loss: 0.0178 (MA: 0.0178), Duration: 0:02:55.193201\n",
      "  Train Loss MA improved to 0.016218 from 0.016390 (1.05% improvement).\n",
      "  Saved new best model (train loss MA) at epoch 44\n",
      "Epoch 44: Generating visualization samples...\n",
      "Saved visualization samples to C:\\Projects\\jetbot-diffusion-world-model-kong-finder-aux\\output_model_5hz_DIAMOND\\samples\\val_vis_epoch_0044_samples.png\n"
     ]
    },
    {
     "data": {
      "application/vnd.jupyter.widget-view+json": {
       "model_id": "",
       "version_major": 2,
       "version_minor": 0
      },
      "text/plain": [
       "Epoch 45 [Train]:   0%|          | 0/855 [00:00<?, ?it/s]"
      ]
     },
     "metadata": {},
     "output_type": "display_data"
    },
    {
     "data": {
      "application/vnd.jupyter.widget-view+json": {
       "model_id": "",
       "version_major": 2,
       "version_minor": 0
      },
      "text/plain": [
       "Epoch 45 [Valid]:   0%|          | 0/96 [00:00<?, ?it/s]"
      ]
     },
     "metadata": {},
     "output_type": "display_data"
    },
    {
     "name": "stdout",
     "output_type": "stream",
     "text": [
      "Epoch 45/1000 - Train Loss: 0.0155 (MA: 0.0160), Val Loss: 0.0170 (MA: 0.0178), Duration: 0:02:55.628350\n",
      "  Train Loss MA improved to 0.016005 from 0.016218 (1.31% improvement).\n",
      "  Saved new best model (train loss MA) at epoch 45\n",
      "Epoch 45: Generating visualization samples...\n",
      "Saved visualization samples to C:\\Projects\\jetbot-diffusion-world-model-kong-finder-aux\\output_model_5hz_DIAMOND\\samples\\val_vis_epoch_0045_samples.png\n"
     ]
    },
    {
     "data": {
      "application/vnd.jupyter.widget-view+json": {
       "model_id": "",
       "version_major": 2,
       "version_minor": 0
      },
      "text/plain": [
       "Epoch 46 [Train]:   0%|          | 0/855 [00:00<?, ?it/s]"
      ]
     },
     "metadata": {},
     "output_type": "display_data"
    },
    {
     "data": {
      "application/vnd.jupyter.widget-view+json": {
       "model_id": "",
       "version_major": 2,
       "version_minor": 0
      },
      "text/plain": [
       "Epoch 46 [Valid]:   0%|          | 0/96 [00:00<?, ?it/s]"
      ]
     },
     "metadata": {},
     "output_type": "display_data"
    },
    {
     "name": "stdout",
     "output_type": "stream",
     "text": [
      "Epoch 46/1000 - Train Loss: 0.0149 (MA: 0.0158), Val Loss: 0.0197 (MA: 0.0178), Duration: 0:02:55.188919\n",
      "  Train Loss MA improved to 0.015815 from 0.016005 (1.19% improvement).\n",
      "  Saved new best model (train loss MA) at epoch 46\n",
      "Epoch 46: Generating visualization samples...\n",
      "Saved visualization samples to C:\\Projects\\jetbot-diffusion-world-model-kong-finder-aux\\output_model_5hz_DIAMOND\\samples\\val_vis_epoch_0046_samples.png\n"
     ]
    },
    {
     "data": {
      "application/vnd.jupyter.widget-view+json": {
       "model_id": "",
       "version_major": 2,
       "version_minor": 0
      },
      "text/plain": [
       "Epoch 47 [Train]:   0%|          | 0/855 [00:00<?, ?it/s]"
      ]
     },
     "metadata": {},
     "output_type": "display_data"
    },
    {
     "data": {
      "application/vnd.jupyter.widget-view+json": {
       "model_id": "",
       "version_major": 2,
       "version_minor": 0
      },
      "text/plain": [
       "Epoch 47 [Valid]:   0%|          | 0/96 [00:00<?, ?it/s]"
      ]
     },
     "metadata": {},
     "output_type": "display_data"
    },
    {
     "name": "stdout",
     "output_type": "stream",
     "text": [
      "Epoch 47/1000 - Train Loss: 0.0154 (MA: 0.0158), Val Loss: 0.0173 (MA: 0.0177), Duration: 0:02:55.209335\n",
      "  Train Loss MA improved to 0.015767 from 0.015815 (0.30% improvement).\n",
      "  Saved new best model (train loss MA) at epoch 47\n",
      "Epoch 47: Generating visualization samples...\n",
      "Saved visualization samples to C:\\Projects\\jetbot-diffusion-world-model-kong-finder-aux\\output_model_5hz_DIAMOND\\samples\\val_vis_epoch_0047_samples.png\n"
     ]
    },
    {
     "data": {
      "application/vnd.jupyter.widget-view+json": {
       "model_id": "",
       "version_major": 2,
       "version_minor": 0
      },
      "text/plain": [
       "Epoch 48 [Train]:   0%|          | 0/855 [00:00<?, ?it/s]"
      ]
     },
     "metadata": {},
     "output_type": "display_data"
    },
    {
     "data": {
      "application/vnd.jupyter.widget-view+json": {
       "model_id": "",
       "version_major": 2,
       "version_minor": 0
      },
      "text/plain": [
       "Epoch 48 [Valid]:   0%|          | 0/96 [00:00<?, ?it/s]"
      ]
     },
     "metadata": {},
     "output_type": "display_data"
    },
    {
     "name": "stdout",
     "output_type": "stream",
     "text": [
      "Epoch 48/1000 - Train Loss: 0.0153 (MA: 0.0156), Val Loss: 0.0164 (MA: 0.0176), Duration: 0:02:55.378838\n",
      "  Train Loss MA improved to 0.015646 from 0.015767 (0.77% improvement).\n",
      "  Saved new best model (train loss MA) at epoch 48\n",
      "Epoch 48: Generating visualization samples...\n",
      "Saved visualization samples to C:\\Projects\\jetbot-diffusion-world-model-kong-finder-aux\\output_model_5hz_DIAMOND\\samples\\val_vis_epoch_0048_samples.png\n"
     ]
    },
    {
     "data": {
      "application/vnd.jupyter.widget-view+json": {
       "model_id": "",
       "version_major": 2,
       "version_minor": 0
      },
      "text/plain": [
       "Epoch 49 [Train]:   0%|          | 0/855 [00:00<?, ?it/s]"
      ]
     },
     "metadata": {},
     "output_type": "display_data"
    },
    {
     "data": {
      "application/vnd.jupyter.widget-view+json": {
       "model_id": "",
       "version_major": 2,
       "version_minor": 0
      },
      "text/plain": [
       "Epoch 49 [Valid]:   0%|          | 0/96 [00:00<?, ?it/s]"
      ]
     },
     "metadata": {},
     "output_type": "display_data"
    },
    {
     "name": "stdout",
     "output_type": "stream",
     "text": [
      "Epoch 49/1000 - Train Loss: 0.0145 (MA: 0.0155), Val Loss: 0.0146 (MA: 0.0170), Duration: 0:02:55.739754\n",
      "  Train Loss MA improved to 0.015473 from 0.015646 (1.11% improvement).\n",
      "  Saved new best model (train loss MA) at epoch 49\n",
      "Epoch 49: Generating visualization samples...\n",
      "Saved visualization samples to C:\\Projects\\jetbot-diffusion-world-model-kong-finder-aux\\output_model_5hz_DIAMOND\\samples\\val_vis_epoch_0049_samples.png\n"
     ]
    },
    {
     "data": {
      "application/vnd.jupyter.widget-view+json": {
       "model_id": "",
       "version_major": 2,
       "version_minor": 0
      },
      "text/plain": [
       "Epoch 50 [Train]:   0%|          | 0/855 [00:00<?, ?it/s]"
      ]
     },
     "metadata": {},
     "output_type": "display_data"
    },
    {
     "data": {
      "application/vnd.jupyter.widget-view+json": {
       "model_id": "",
       "version_major": 2,
       "version_minor": 0
      },
      "text/plain": [
       "Epoch 50 [Valid]:   0%|          | 0/96 [00:00<?, ?it/s]"
      ]
     },
     "metadata": {},
     "output_type": "display_data"
    },
    {
     "name": "stdout",
     "output_type": "stream",
     "text": [
      "Epoch 50/1000 - Train Loss: 0.0145 (MA: 0.0154), Val Loss: 0.0156 (MA: 0.0167), Duration: 0:02:55.083876\n",
      "  Train Loss MA improved to 0.015378 from 0.015473 (0.61% improvement).\n",
      "  Saved new best model (train loss MA) at epoch 50\n",
      "Epoch 50: Generating visualization samples...\n",
      "Saved visualization samples to C:\\Projects\\jetbot-diffusion-world-model-kong-finder-aux\\output_model_5hz_DIAMOND\\samples\\val_vis_epoch_0050_samples.png\n",
      "Saved loss plot up to epoch 50\n"
     ]
    },
    {
     "data": {
      "application/vnd.jupyter.widget-view+json": {
       "model_id": "",
       "version_major": 2,
       "version_minor": 0
      },
      "text/plain": [
       "Epoch 51 [Train]:   0%|          | 0/855 [00:00<?, ?it/s]"
      ]
     },
     "metadata": {},
     "output_type": "display_data"
    },
    {
     "data": {
      "application/vnd.jupyter.widget-view+json": {
       "model_id": "",
       "version_major": 2,
       "version_minor": 0
      },
      "text/plain": [
       "Epoch 51 [Valid]:   0%|          | 0/96 [00:00<?, ?it/s]"
      ]
     },
     "metadata": {},
     "output_type": "display_data"
    },
    {
     "name": "stdout",
     "output_type": "stream",
     "text": [
      "Epoch 51/1000 - Train Loss: 0.0145 (MA: 0.0152), Val Loss: 0.0163 (MA: 0.0160), Duration: 0:02:55.245915\n",
      "  Train Loss MA improved to 0.015218 from 0.015378 (1.04% improvement).\n",
      "  Saved new best model (train loss MA) at epoch 51\n",
      "Epoch 51: Generating visualization samples...\n",
      "Saved visualization samples to C:\\Projects\\jetbot-diffusion-world-model-kong-finder-aux\\output_model_5hz_DIAMOND\\samples\\val_vis_epoch_0051_samples.png\n"
     ]
    },
    {
     "data": {
      "application/vnd.jupyter.widget-view+json": {
       "model_id": "",
       "version_major": 2,
       "version_minor": 0
      },
      "text/plain": [
       "Epoch 52 [Train]:   0%|          | 0/855 [00:00<?, ?it/s]"
      ]
     },
     "metadata": {},
     "output_type": "display_data"
    },
    {
     "data": {
      "application/vnd.jupyter.widget-view+json": {
       "model_id": "",
       "version_major": 2,
       "version_minor": 0
      },
      "text/plain": [
       "Epoch 52 [Valid]:   0%|          | 0/96 [00:00<?, ?it/s]"
      ]
     },
     "metadata": {},
     "output_type": "display_data"
    },
    {
     "name": "stdout",
     "output_type": "stream",
     "text": [
      "Epoch 52/1000 - Train Loss: 0.0140 (MA: 0.0150), Val Loss: 0.0180 (MA: 0.0162), Duration: 0:02:55.259997\n",
      "  Train Loss MA improved to 0.015021 from 0.015218 (1.29% improvement).\n",
      "  Saved new best model (train loss MA) at epoch 52\n",
      "Epoch 52: Generating visualization samples...\n",
      "Saved visualization samples to C:\\Projects\\jetbot-diffusion-world-model-kong-finder-aux\\output_model_5hz_DIAMOND\\samples\\val_vis_epoch_0052_samples.png\n"
     ]
    },
    {
     "data": {
      "application/vnd.jupyter.widget-view+json": {
       "model_id": "",
       "version_major": 2,
       "version_minor": 0
      },
      "text/plain": [
       "Epoch 53 [Train]:   0%|          | 0/855 [00:00<?, ?it/s]"
      ]
     },
     "metadata": {},
     "output_type": "display_data"
    },
    {
     "data": {
      "application/vnd.jupyter.widget-view+json": {
       "model_id": "",
       "version_major": 2,
       "version_minor": 0
      },
      "text/plain": [
       "Epoch 53 [Valid]:   0%|          | 0/96 [00:00<?, ?it/s]"
      ]
     },
     "metadata": {},
     "output_type": "display_data"
    },
    {
     "name": "stdout",
     "output_type": "stream",
     "text": [
      "Epoch 53/1000 - Train Loss: 0.0142 (MA: 0.0148), Val Loss: 0.0154 (MA: 0.0160), Duration: 0:02:55.711225\n",
      "  Train Loss MA improved to 0.014837 from 0.015021 (1.23% improvement).\n",
      "  Saved new best model (train loss MA) at epoch 53\n",
      "Epoch 53: Generating visualization samples...\n",
      "Saved visualization samples to C:\\Projects\\jetbot-diffusion-world-model-kong-finder-aux\\output_model_5hz_DIAMOND\\samples\\val_vis_epoch_0053_samples.png\n"
     ]
    },
    {
     "data": {
      "application/vnd.jupyter.widget-view+json": {
       "model_id": "",
       "version_major": 2,
       "version_minor": 0
      },
      "text/plain": [
       "Epoch 54 [Train]:   0%|          | 0/855 [00:00<?, ?it/s]"
      ]
     },
     "metadata": {},
     "output_type": "display_data"
    },
    {
     "data": {
      "application/vnd.jupyter.widget-view+json": {
       "model_id": "",
       "version_major": 2,
       "version_minor": 0
      },
      "text/plain": [
       "Epoch 54 [Valid]:   0%|          | 0/96 [00:00<?, ?it/s]"
      ]
     },
     "metadata": {},
     "output_type": "display_data"
    },
    {
     "name": "stdout",
     "output_type": "stream",
     "text": [
      "Epoch 54/1000 - Train Loss: 0.0141 (MA: 0.0147), Val Loss: 0.0150 (MA: 0.0161), Duration: 0:02:55.230964\n",
      "  Train Loss MA improved to 0.014709 from 0.014837 (0.86% improvement).\n",
      "  Saved new best model (train loss MA) at epoch 54\n",
      "Epoch 54: Generating visualization samples...\n",
      "Saved visualization samples to C:\\Projects\\jetbot-diffusion-world-model-kong-finder-aux\\output_model_5hz_DIAMOND\\samples\\val_vis_epoch_0054_samples.png\n"
     ]
    },
    {
     "data": {
      "application/vnd.jupyter.widget-view+json": {
       "model_id": "",
       "version_major": 2,
       "version_minor": 0
      },
      "text/plain": [
       "Epoch 55 [Train]:   0%|          | 0/855 [00:00<?, ?it/s]"
      ]
     },
     "metadata": {},
     "output_type": "display_data"
    },
    {
     "data": {
      "application/vnd.jupyter.widget-view+json": {
       "model_id": "",
       "version_major": 2,
       "version_minor": 0
      },
      "text/plain": [
       "Epoch 55 [Valid]:   0%|          | 0/96 [00:00<?, ?it/s]"
      ]
     },
     "metadata": {},
     "output_type": "display_data"
    },
    {
     "name": "stdout",
     "output_type": "stream",
     "text": [
      "Epoch 55/1000 - Train Loss: 0.0139 (MA: 0.0145), Val Loss: 0.0158 (MA: 0.0161), Duration: 0:02:55.321641\n",
      "  Train Loss MA improved to 0.014543 from 0.014709 (1.13% improvement).\n",
      "  Saved new best model (train loss MA) at epoch 55\n",
      "Epoch 55: Generating visualization samples...\n",
      "Saved visualization samples to C:\\Projects\\jetbot-diffusion-world-model-kong-finder-aux\\output_model_5hz_DIAMOND\\samples\\val_vis_epoch_0055_samples.png\n"
     ]
    },
    {
     "data": {
      "application/vnd.jupyter.widget-view+json": {
       "model_id": "",
       "version_major": 2,
       "version_minor": 0
      },
      "text/plain": [
       "Epoch 56 [Train]:   0%|          | 0/855 [00:00<?, ?it/s]"
      ]
     },
     "metadata": {},
     "output_type": "display_data"
    },
    {
     "data": {
      "application/vnd.jupyter.widget-view+json": {
       "model_id": "",
       "version_major": 2,
       "version_minor": 0
      },
      "text/plain": [
       "Epoch 56 [Valid]:   0%|          | 0/96 [00:00<?, ?it/s]"
      ]
     },
     "metadata": {},
     "output_type": "display_data"
    },
    {
     "name": "stdout",
     "output_type": "stream",
     "text": [
      "Epoch 56/1000 - Train Loss: 0.0140 (MA: 0.0144), Val Loss: 0.0149 (MA: 0.0158), Duration: 0:02:55.161638\n",
      "  Train Loss MA improved to 0.014449 from 0.014543 (0.64% improvement).\n",
      "  Saved new best model (train loss MA) at epoch 56\n",
      "Epoch 56: Generating visualization samples...\n",
      "Saved visualization samples to C:\\Projects\\jetbot-diffusion-world-model-kong-finder-aux\\output_model_5hz_DIAMOND\\samples\\val_vis_epoch_0056_samples.png\n"
     ]
    },
    {
     "data": {
      "application/vnd.jupyter.widget-view+json": {
       "model_id": "",
       "version_major": 2,
       "version_minor": 0
      },
      "text/plain": [
       "Epoch 57 [Train]:   0%|          | 0/855 [00:00<?, ?it/s]"
      ]
     },
     "metadata": {},
     "output_type": "display_data"
    },
    {
     "data": {
      "application/vnd.jupyter.widget-view+json": {
       "model_id": "",
       "version_major": 2,
       "version_minor": 0
      },
      "text/plain": [
       "Epoch 57 [Valid]:   0%|          | 0/96 [00:00<?, ?it/s]"
      ]
     },
     "metadata": {},
     "output_type": "display_data"
    },
    {
     "name": "stdout",
     "output_type": "stream",
     "text": [
      "Epoch 57/1000 - Train Loss: 0.0133 (MA: 0.0142), Val Loss: 0.0160 (MA: 0.0154), Duration: 0:02:55.327243\n",
      "  Train Loss MA improved to 0.014237 from 0.014449 (1.47% improvement).\n",
      "  Saved new best model (train loss MA) at epoch 57\n",
      "Epoch 57: Generating visualization samples...\n",
      "Saved visualization samples to C:\\Projects\\jetbot-diffusion-world-model-kong-finder-aux\\output_model_5hz_DIAMOND\\samples\\val_vis_epoch_0057_samples.png\n"
     ]
    },
    {
     "data": {
      "application/vnd.jupyter.widget-view+json": {
       "model_id": "",
       "version_major": 2,
       "version_minor": 0
      },
      "text/plain": [
       "Epoch 58 [Train]:   0%|          | 0/855 [00:00<?, ?it/s]"
      ]
     },
     "metadata": {},
     "output_type": "display_data"
    },
    {
     "data": {
      "application/vnd.jupyter.widget-view+json": {
       "model_id": "",
       "version_major": 2,
       "version_minor": 0
      },
      "text/plain": [
       "Epoch 58 [Valid]:   0%|          | 0/96 [00:00<?, ?it/s]"
      ]
     },
     "metadata": {},
     "output_type": "display_data"
    },
    {
     "name": "stdout",
     "output_type": "stream",
     "text": [
      "Epoch 58/1000 - Train Loss: 0.0133 (MA: 0.0140), Val Loss: 0.0158 (MA: 0.0155), Duration: 0:02:55.287680\n",
      "  Train Loss MA improved to 0.014036 from 0.014237 (1.41% improvement).\n",
      "  Saved new best model (train loss MA) at epoch 58\n",
      "Epoch 58: Generating visualization samples...\n",
      "Saved visualization samples to C:\\Projects\\jetbot-diffusion-world-model-kong-finder-aux\\output_model_5hz_DIAMOND\\samples\\val_vis_epoch_0058_samples.png\n"
     ]
    },
    {
     "data": {
      "application/vnd.jupyter.widget-view+json": {
       "model_id": "",
       "version_major": 2,
       "version_minor": 0
      },
      "text/plain": [
       "Epoch 59 [Train]:   0%|          | 0/855 [00:00<?, ?it/s]"
      ]
     },
     "metadata": {},
     "output_type": "display_data"
    },
    {
     "data": {
      "application/vnd.jupyter.widget-view+json": {
       "model_id": "",
       "version_major": 2,
       "version_minor": 0
      },
      "text/plain": [
       "Epoch 59 [Valid]:   0%|          | 0/96 [00:00<?, ?it/s]"
      ]
     },
     "metadata": {},
     "output_type": "display_data"
    },
    {
     "name": "stdout",
     "output_type": "stream",
     "text": [
      "Epoch 59/1000 - Train Loss: 0.0137 (MA: 0.0140), Val Loss: 0.0154 (MA: 0.0156), Duration: 0:02:55.239364\n",
      "  Train Loss MA improved to 0.013961 from 0.014036 (0.53% improvement).\n",
      "  Saved new best model (train loss MA) at epoch 59\n",
      "Epoch 59: Generating visualization samples...\n",
      "Saved visualization samples to C:\\Projects\\jetbot-diffusion-world-model-kong-finder-aux\\output_model_5hz_DIAMOND\\samples\\val_vis_epoch_0059_samples.png\n"
     ]
    },
    {
     "data": {
      "application/vnd.jupyter.widget-view+json": {
       "model_id": "",
       "version_major": 2,
       "version_minor": 0
      },
      "text/plain": [
       "Epoch 60 [Train]:   0%|          | 0/855 [00:00<?, ?it/s]"
      ]
     },
     "metadata": {},
     "output_type": "display_data"
    },
    {
     "data": {
      "application/vnd.jupyter.widget-view+json": {
       "model_id": "",
       "version_major": 2,
       "version_minor": 0
      },
      "text/plain": [
       "Epoch 60 [Valid]:   0%|          | 0/96 [00:00<?, ?it/s]"
      ]
     },
     "metadata": {},
     "output_type": "display_data"
    },
    {
     "name": "stdout",
     "output_type": "stream",
     "text": [
      "Epoch 60/1000 - Train Loss: 0.0133 (MA: 0.0138), Val Loss: 0.0137 (MA: 0.0152), Duration: 0:02:55.375009\n",
      "  Train Loss MA improved to 0.013840 from 0.013961 (0.86% improvement).\n",
      "  Saved new best model (train loss MA) at epoch 60\n",
      "Epoch 60: Generating visualization samples...\n",
      "Saved visualization samples to C:\\Projects\\jetbot-diffusion-world-model-kong-finder-aux\\output_model_5hz_DIAMOND\\samples\\val_vis_epoch_0060_samples.png\n",
      "Saved loss plot up to epoch 60\n"
     ]
    },
    {
     "data": {
      "application/vnd.jupyter.widget-view+json": {
       "model_id": "",
       "version_major": 2,
       "version_minor": 0
      },
      "text/plain": [
       "Epoch 61 [Train]:   0%|          | 0/855 [00:00<?, ?it/s]"
      ]
     },
     "metadata": {},
     "output_type": "display_data"
    },
    {
     "data": {
      "application/vnd.jupyter.widget-view+json": {
       "model_id": "",
       "version_major": 2,
       "version_minor": 0
      },
      "text/plain": [
       "Epoch 61 [Valid]:   0%|          | 0/96 [00:00<?, ?it/s]"
      ]
     },
     "metadata": {},
     "output_type": "display_data"
    },
    {
     "name": "stdout",
     "output_type": "stream",
     "text": [
      "Epoch 61/1000 - Train Loss: 0.0134 (MA: 0.0137), Val Loss: 0.0157 (MA: 0.0153), Duration: 0:02:54.912033\n",
      "  Train Loss MA improved to 0.013721 from 0.013840 (0.86% improvement).\n",
      "  Saved new best model (train loss MA) at epoch 61\n",
      "Epoch 61: Generating visualization samples...\n",
      "Saved visualization samples to C:\\Projects\\jetbot-diffusion-world-model-kong-finder-aux\\output_model_5hz_DIAMOND\\samples\\val_vis_epoch_0061_samples.png\n"
     ]
    },
    {
     "data": {
      "application/vnd.jupyter.widget-view+json": {
       "model_id": "",
       "version_major": 2,
       "version_minor": 0
      },
      "text/plain": [
       "Epoch 62 [Train]:   0%|          | 0/855 [00:00<?, ?it/s]"
      ]
     },
     "metadata": {},
     "output_type": "display_data"
    },
    {
     "data": {
      "application/vnd.jupyter.widget-view+json": {
       "model_id": "",
       "version_major": 2,
       "version_minor": 0
      },
      "text/plain": [
       "Epoch 62 [Valid]:   0%|          | 0/96 [00:00<?, ?it/s]"
      ]
     },
     "metadata": {},
     "output_type": "display_data"
    },
    {
     "name": "stdout",
     "output_type": "stream",
     "text": [
      "Epoch 62/1000 - Train Loss: 0.0135 (MA: 0.0137), Val Loss: 0.0141 (MA: 0.0150), Duration: 0:02:55.346616\n",
      "  Train Loss MA improved to 0.013665 from 0.013721 (0.41% improvement).\n",
      "  Saved new best model (train loss MA) at epoch 62\n",
      "Epoch 62: Generating visualization samples...\n",
      "Saved visualization samples to C:\\Projects\\jetbot-diffusion-world-model-kong-finder-aux\\output_model_5hz_DIAMOND\\samples\\val_vis_epoch_0062_samples.png\n"
     ]
    },
    {
     "data": {
      "application/vnd.jupyter.widget-view+json": {
       "model_id": "",
       "version_major": 2,
       "version_minor": 0
      },
      "text/plain": [
       "Epoch 63 [Train]:   0%|          | 0/855 [00:00<?, ?it/s]"
      ]
     },
     "metadata": {},
     "output_type": "display_data"
    },
    {
     "data": {
      "application/vnd.jupyter.widget-view+json": {
       "model_id": "",
       "version_major": 2,
       "version_minor": 0
      },
      "text/plain": [
       "Epoch 63 [Valid]:   0%|          | 0/96 [00:00<?, ?it/s]"
      ]
     },
     "metadata": {},
     "output_type": "display_data"
    },
    {
     "name": "stdout",
     "output_type": "stream",
     "text": [
      "Epoch 63/1000 - Train Loss: 0.0131 (MA: 0.0136), Val Loss: 0.0159 (MA: 0.0150), Duration: 0:02:54.912086\n",
      "  Train Loss MA improved to 0.013559 from 0.013665 (0.77% improvement).\n",
      "  Saved new best model (train loss MA) at epoch 63\n",
      "Epoch 63: Generating visualization samples...\n",
      "Saved visualization samples to C:\\Projects\\jetbot-diffusion-world-model-kong-finder-aux\\output_model_5hz_DIAMOND\\samples\\val_vis_epoch_0063_samples.png\n"
     ]
    },
    {
     "data": {
      "application/vnd.jupyter.widget-view+json": {
       "model_id": "",
       "version_major": 2,
       "version_minor": 0
      },
      "text/plain": [
       "Epoch 64 [Train]:   0%|          | 0/855 [00:00<?, ?it/s]"
      ]
     },
     "metadata": {},
     "output_type": "display_data"
    },
    {
     "data": {
      "application/vnd.jupyter.widget-view+json": {
       "model_id": "",
       "version_major": 2,
       "version_minor": 0
      },
      "text/plain": [
       "Epoch 64 [Valid]:   0%|          | 0/96 [00:00<?, ?it/s]"
      ]
     },
     "metadata": {},
     "output_type": "display_data"
    },
    {
     "name": "stdout",
     "output_type": "stream",
     "text": [
      "Epoch 64/1000 - Train Loss: 0.0134 (MA: 0.0135), Val Loss: 0.0140 (MA: 0.0147), Duration: 0:02:54.936881\n",
      "  Train Loss MA improved to 0.013489 from 0.013559 (0.52% improvement).\n",
      "  Saved new best model (train loss MA) at epoch 64\n",
      "Epoch 64: Generating visualization samples...\n",
      "Saved visualization samples to C:\\Projects\\jetbot-diffusion-world-model-kong-finder-aux\\output_model_5hz_DIAMOND\\samples\\val_vis_epoch_0064_samples.png\n"
     ]
    },
    {
     "data": {
      "application/vnd.jupyter.widget-view+json": {
       "model_id": "",
       "version_major": 2,
       "version_minor": 0
      },
      "text/plain": [
       "Epoch 65 [Train]:   0%|          | 0/855 [00:00<?, ?it/s]"
      ]
     },
     "metadata": {},
     "output_type": "display_data"
    },
    {
     "data": {
      "application/vnd.jupyter.widget-view+json": {
       "model_id": "",
       "version_major": 2,
       "version_minor": 0
      },
      "text/plain": [
       "Epoch 65 [Valid]:   0%|          | 0/96 [00:00<?, ?it/s]"
      ]
     },
     "metadata": {},
     "output_type": "display_data"
    },
    {
     "name": "stdout",
     "output_type": "stream",
     "text": [
      "Epoch 65/1000 - Train Loss: 0.0129 (MA: 0.0134), Val Loss: 0.0135 (MA: 0.0146), Duration: 0:02:55.026594\n",
      "  Train Loss MA improved to 0.013394 from 0.013489 (0.70% improvement).\n",
      "  Saved new best model (train loss MA) at epoch 65\n",
      "Epoch 65: Generating visualization samples...\n",
      "Saved visualization samples to C:\\Projects\\jetbot-diffusion-world-model-kong-finder-aux\\output_model_5hz_DIAMOND\\samples\\val_vis_epoch_0065_samples.png\n"
     ]
    },
    {
     "data": {
      "application/vnd.jupyter.widget-view+json": {
       "model_id": "",
       "version_major": 2,
       "version_minor": 0
      },
      "text/plain": [
       "Epoch 66 [Train]:   0%|          | 0/855 [00:00<?, ?it/s]"
      ]
     },
     "metadata": {},
     "output_type": "display_data"
    },
    {
     "data": {
      "application/vnd.jupyter.widget-view+json": {
       "model_id": "",
       "version_major": 2,
       "version_minor": 0
      },
      "text/plain": [
       "Epoch 66 [Valid]:   0%|          | 0/96 [00:00<?, ?it/s]"
      ]
     },
     "metadata": {},
     "output_type": "display_data"
    },
    {
     "name": "stdout",
     "output_type": "stream",
     "text": [
      "Epoch 66/1000 - Train Loss: 0.0130 (MA: 0.0133), Val Loss: 0.0140 (MA: 0.0143), Duration: 0:02:54.931138\n",
      "  Train Loss MA improved to 0.013289 from 0.013394 (0.79% improvement).\n",
      "  Saved new best model (train loss MA) at epoch 66\n",
      "Epoch 66: Generating visualization samples...\n",
      "Saved visualization samples to C:\\Projects\\jetbot-diffusion-world-model-kong-finder-aux\\output_model_5hz_DIAMOND\\samples\\val_vis_epoch_0066_samples.png\n"
     ]
    },
    {
     "data": {
      "application/vnd.jupyter.widget-view+json": {
       "model_id": "",
       "version_major": 2,
       "version_minor": 0
      },
      "text/plain": [
       "Epoch 67 [Train]:   0%|          | 0/855 [00:00<?, ?it/s]"
      ]
     },
     "metadata": {},
     "output_type": "display_data"
    },
    {
     "data": {
      "application/vnd.jupyter.widget-view+json": {
       "model_id": "",
       "version_major": 2,
       "version_minor": 0
      },
      "text/plain": [
       "Epoch 67 [Valid]:   0%|          | 0/96 [00:00<?, ?it/s]"
      ]
     },
     "metadata": {},
     "output_type": "display_data"
    },
    {
     "name": "stdout",
     "output_type": "stream",
     "text": [
      "Epoch 67/1000 - Train Loss: 0.0128 (MA: 0.0132), Val Loss: 0.0145 (MA: 0.0144), Duration: 0:02:54.886439\n",
      "  Train Loss MA improved to 0.013243 from 0.013289 (0.34% improvement).\n",
      "  Saved new best model (train loss MA) at epoch 67\n",
      "Epoch 67: Generating visualization samples...\n",
      "Saved visualization samples to C:\\Projects\\jetbot-diffusion-world-model-kong-finder-aux\\output_model_5hz_DIAMOND\\samples\\val_vis_epoch_0067_samples.png\n"
     ]
    },
    {
     "data": {
      "application/vnd.jupyter.widget-view+json": {
       "model_id": "",
       "version_major": 2,
       "version_minor": 0
      },
      "text/plain": [
       "Epoch 68 [Train]:   0%|          | 0/855 [00:00<?, ?it/s]"
      ]
     },
     "metadata": {},
     "output_type": "display_data"
    },
    {
     "data": {
      "application/vnd.jupyter.widget-view+json": {
       "model_id": "",
       "version_major": 2,
       "version_minor": 0
      },
      "text/plain": [
       "Epoch 68 [Valid]:   0%|          | 0/96 [00:00<?, ?it/s]"
      ]
     },
     "metadata": {},
     "output_type": "display_data"
    },
    {
     "name": "stdout",
     "output_type": "stream",
     "text": [
      "Epoch 68/1000 - Train Loss: 0.0124 (MA: 0.0131), Val Loss: 0.0141 (MA: 0.0140), Duration: 0:02:55.039100\n",
      "  Train Loss MA improved to 0.013149 from 0.013243 (0.71% improvement).\n",
      "  Saved new best model (train loss MA) at epoch 68\n",
      "Epoch 68: Generating visualization samples...\n",
      "Saved visualization samples to C:\\Projects\\jetbot-diffusion-world-model-kong-finder-aux\\output_model_5hz_DIAMOND\\samples\\val_vis_epoch_0068_samples.png\n"
     ]
    },
    {
     "data": {
      "application/vnd.jupyter.widget-view+json": {
       "model_id": "",
       "version_major": 2,
       "version_minor": 0
      },
      "text/plain": [
       "Epoch 69 [Train]:   0%|          | 0/855 [00:00<?, ?it/s]"
      ]
     },
     "metadata": {},
     "output_type": "display_data"
    },
    {
     "data": {
      "application/vnd.jupyter.widget-view+json": {
       "model_id": "",
       "version_major": 2,
       "version_minor": 0
      },
      "text/plain": [
       "Epoch 69 [Valid]:   0%|          | 0/96 [00:00<?, ?it/s]"
      ]
     },
     "metadata": {},
     "output_type": "display_data"
    },
    {
     "name": "stdout",
     "output_type": "stream",
     "text": [
      "Epoch 69/1000 - Train Loss: 0.0128 (MA: 0.0131), Val Loss: 0.0144 (MA: 0.0141), Duration: 0:02:55.894920\n",
      "  Train Loss MA improved to 0.013058 from 0.013149 (0.69% improvement).\n",
      "  Saved new best model (train loss MA) at epoch 69\n",
      "Epoch 69: Generating visualization samples...\n",
      "Saved visualization samples to C:\\Projects\\jetbot-diffusion-world-model-kong-finder-aux\\output_model_5hz_DIAMOND\\samples\\val_vis_epoch_0069_samples.png\n"
     ]
    },
    {
     "data": {
      "application/vnd.jupyter.widget-view+json": {
       "model_id": "",
       "version_major": 2,
       "version_minor": 0
      },
      "text/plain": [
       "Epoch 70 [Train]:   0%|          | 0/855 [00:00<?, ?it/s]"
      ]
     },
     "metadata": {},
     "output_type": "display_data"
    },
    {
     "data": {
      "application/vnd.jupyter.widget-view+json": {
       "model_id": "",
       "version_major": 2,
       "version_minor": 0
      },
      "text/plain": [
       "Epoch 70 [Valid]:   0%|          | 0/96 [00:00<?, ?it/s]"
      ]
     },
     "metadata": {},
     "output_type": "display_data"
    },
    {
     "name": "stdout",
     "output_type": "stream",
     "text": [
      "Epoch 70/1000 - Train Loss: 0.0124 (MA: 0.0130), Val Loss: 0.0150 (MA: 0.0144), Duration: 0:02:55.554568\n",
      "  Train Loss MA improved to 0.012969 from 0.013058 (0.69% improvement).\n",
      "  Saved new best model (train loss MA) at epoch 70\n",
      "Epoch 70: Generating visualization samples...\n",
      "Saved visualization samples to C:\\Projects\\jetbot-diffusion-world-model-kong-finder-aux\\output_model_5hz_DIAMOND\\samples\\val_vis_epoch_0070_samples.png\n",
      "Saved loss plot up to epoch 70\n"
     ]
    },
    {
     "data": {
      "application/vnd.jupyter.widget-view+json": {
       "model_id": "",
       "version_major": 2,
       "version_minor": 0
      },
      "text/plain": [
       "Epoch 71 [Train]:   0%|          | 0/855 [00:00<?, ?it/s]"
      ]
     },
     "metadata": {},
     "output_type": "display_data"
    },
    {
     "data": {
      "application/vnd.jupyter.widget-view+json": {
       "model_id": "",
       "version_major": 2,
       "version_minor": 0
      },
      "text/plain": [
       "Epoch 71 [Valid]:   0%|          | 0/96 [00:00<?, ?it/s]"
      ]
     },
     "metadata": {},
     "output_type": "display_data"
    },
    {
     "name": "stdout",
     "output_type": "stream",
     "text": [
      "Epoch 71/1000 - Train Loss: 0.0122 (MA: 0.0128), Val Loss: 0.0151 (MA: 0.0146), Duration: 0:02:55.622427\n",
      "  Train Loss MA improved to 0.012849 from 0.012969 (0.92% improvement).\n",
      "  Saved new best model (train loss MA) at epoch 71\n",
      "Epoch 71: Generating visualization samples...\n",
      "Saved visualization samples to C:\\Projects\\jetbot-diffusion-world-model-kong-finder-aux\\output_model_5hz_DIAMOND\\samples\\val_vis_epoch_0071_samples.png\n"
     ]
    },
    {
     "data": {
      "application/vnd.jupyter.widget-view+json": {
       "model_id": "",
       "version_major": 2,
       "version_minor": 0
      },
      "text/plain": [
       "Epoch 72 [Train]:   0%|          | 0/855 [00:00<?, ?it/s]"
      ]
     },
     "metadata": {},
     "output_type": "display_data"
    },
    {
     "data": {
      "application/vnd.jupyter.widget-view+json": {
       "model_id": "",
       "version_major": 2,
       "version_minor": 0
      },
      "text/plain": [
       "Epoch 72 [Valid]:   0%|          | 0/96 [00:00<?, ?it/s]"
      ]
     },
     "metadata": {},
     "output_type": "display_data"
    },
    {
     "name": "stdout",
     "output_type": "stream",
     "text": [
      "Epoch 72/1000 - Train Loss: 0.0123 (MA: 0.0127), Val Loss: 0.0196 (MA: 0.0157), Duration: 0:02:55.429447\n",
      "  Train Loss MA improved to 0.012733 from 0.012849 (0.91% improvement).\n",
      "  Saved new best model (train loss MA) at epoch 72\n",
      "Epoch 72: Generating visualization samples...\n",
      "Saved visualization samples to C:\\Projects\\jetbot-diffusion-world-model-kong-finder-aux\\output_model_5hz_DIAMOND\\samples\\val_vis_epoch_0072_samples.png\n"
     ]
    },
    {
     "data": {
      "application/vnd.jupyter.widget-view+json": {
       "model_id": "",
       "version_major": 2,
       "version_minor": 0
      },
      "text/plain": [
       "Epoch 73 [Train]:   0%|          | 0/855 [00:00<?, ?it/s]"
      ]
     },
     "metadata": {},
     "output_type": "display_data"
    },
    {
     "data": {
      "application/vnd.jupyter.widget-view+json": {
       "model_id": "",
       "version_major": 2,
       "version_minor": 0
      },
      "text/plain": [
       "Epoch 73 [Valid]:   0%|          | 0/96 [00:00<?, ?it/s]"
      ]
     },
     "metadata": {},
     "output_type": "display_data"
    },
    {
     "name": "stdout",
     "output_type": "stream",
     "text": [
      "Epoch 73/1000 - Train Loss: 0.0126 (MA: 0.0127), Val Loss: 0.0156 (MA: 0.0160), Duration: 0:02:55.966854\n",
      "  Train Loss MA improved to 0.012685 from 0.012733 (0.37% improvement).\n",
      "  Saved new best model (train loss MA) at epoch 73\n",
      "Epoch 73: Generating visualization samples...\n",
      "Saved visualization samples to C:\\Projects\\jetbot-diffusion-world-model-kong-finder-aux\\output_model_5hz_DIAMOND\\samples\\val_vis_epoch_0073_samples.png\n"
     ]
    },
    {
     "data": {
      "application/vnd.jupyter.widget-view+json": {
       "model_id": "",
       "version_major": 2,
       "version_minor": 0
      },
      "text/plain": [
       "Epoch 74 [Train]:   0%|          | 0/855 [00:00<?, ?it/s]"
      ]
     },
     "metadata": {},
     "output_type": "display_data"
    },
    {
     "data": {
      "application/vnd.jupyter.widget-view+json": {
       "model_id": "",
       "version_major": 2,
       "version_minor": 0
      },
      "text/plain": [
       "Epoch 74 [Valid]:   0%|          | 0/96 [00:00<?, ?it/s]"
      ]
     },
     "metadata": {},
     "output_type": "display_data"
    },
    {
     "name": "stdout",
     "output_type": "stream",
     "text": [
      "Epoch 74/1000 - Train Loss: 0.0119 (MA: 0.0125), Val Loss: 0.0137 (MA: 0.0158), Duration: 0:02:55.555546\n",
      "  Train Loss MA improved to 0.012529 from 0.012685 (1.23% improvement).\n",
      "  Saved new best model (train loss MA) at epoch 74\n",
      "Epoch 74: Generating visualization samples...\n",
      "Saved visualization samples to C:\\Projects\\jetbot-diffusion-world-model-kong-finder-aux\\output_model_5hz_DIAMOND\\samples\\val_vis_epoch_0074_samples.png\n"
     ]
    },
    {
     "data": {
      "application/vnd.jupyter.widget-view+json": {
       "model_id": "",
       "version_major": 2,
       "version_minor": 0
      },
      "text/plain": [
       "Epoch 75 [Train]:   0%|          | 0/855 [00:00<?, ?it/s]"
      ]
     },
     "metadata": {},
     "output_type": "display_data"
    },
    {
     "data": {
      "application/vnd.jupyter.widget-view+json": {
       "model_id": "",
       "version_major": 2,
       "version_minor": 0
      },
      "text/plain": [
       "Epoch 75 [Valid]:   0%|          | 0/96 [00:00<?, ?it/s]"
      ]
     },
     "metadata": {},
     "output_type": "display_data"
    },
    {
     "name": "stdout",
     "output_type": "stream",
     "text": [
      "Epoch 75/1000 - Train Loss: 0.0115 (MA: 0.0124), Val Loss: 0.0136 (MA: 0.0155), Duration: 0:02:55.422880\n",
      "  Train Loss MA improved to 0.012384 from 0.012529 (1.16% improvement).\n",
      "  Saved new best model (train loss MA) at epoch 75\n",
      "Epoch 75: Generating visualization samples...\n",
      "Saved visualization samples to C:\\Projects\\jetbot-diffusion-world-model-kong-finder-aux\\output_model_5hz_DIAMOND\\samples\\val_vis_epoch_0075_samples.png\n"
     ]
    },
    {
     "data": {
      "application/vnd.jupyter.widget-view+json": {
       "model_id": "",
       "version_major": 2,
       "version_minor": 0
      },
      "text/plain": [
       "Epoch 76 [Train]:   0%|          | 0/855 [00:00<?, ?it/s]"
      ]
     },
     "metadata": {},
     "output_type": "display_data"
    },
    {
     "data": {
      "application/vnd.jupyter.widget-view+json": {
       "model_id": "",
       "version_major": 2,
       "version_minor": 0
      },
      "text/plain": [
       "Epoch 76 [Valid]:   0%|          | 0/96 [00:00<?, ?it/s]"
      ]
     },
     "metadata": {},
     "output_type": "display_data"
    },
    {
     "name": "stdout",
     "output_type": "stream",
     "text": [
      "Epoch 76/1000 - Train Loss: 0.0123 (MA: 0.0123), Val Loss: 0.0165 (MA: 0.0158), Duration: 0:02:55.379755\n",
      "  Train Loss MA improved to 0.012319 from 0.012384 (0.53% improvement).\n",
      "  Saved new best model (train loss MA) at epoch 76\n",
      "Epoch 76: Generating visualization samples...\n",
      "Saved visualization samples to C:\\Projects\\jetbot-diffusion-world-model-kong-finder-aux\\output_model_5hz_DIAMOND\\samples\\val_vis_epoch_0076_samples.png\n"
     ]
    },
    {
     "data": {
      "application/vnd.jupyter.widget-view+json": {
       "model_id": "",
       "version_major": 2,
       "version_minor": 0
      },
      "text/plain": [
       "Epoch 77 [Train]:   0%|          | 0/855 [00:00<?, ?it/s]"
      ]
     },
     "metadata": {},
     "output_type": "display_data"
    },
    {
     "data": {
      "application/vnd.jupyter.widget-view+json": {
       "model_id": "",
       "version_major": 2,
       "version_minor": 0
      },
      "text/plain": [
       "Epoch 77 [Valid]:   0%|          | 0/96 [00:00<?, ?it/s]"
      ]
     },
     "metadata": {},
     "output_type": "display_data"
    },
    {
     "name": "stdout",
     "output_type": "stream",
     "text": [
      "Epoch 77/1000 - Train Loss: 0.0122 (MA: 0.0123), Val Loss: 0.0138 (MA: 0.0146), Duration: 0:02:54.731351\n",
      "  Train Loss MA improved to 0.012251 from 0.012319 (0.55% improvement).\n",
      "  Saved new best model (train loss MA) at epoch 77\n",
      "Epoch 77: Generating visualization samples...\n",
      "Saved visualization samples to C:\\Projects\\jetbot-diffusion-world-model-kong-finder-aux\\output_model_5hz_DIAMOND\\samples\\val_vis_epoch_0077_samples.png\n"
     ]
    },
    {
     "data": {
      "application/vnd.jupyter.widget-view+json": {
       "model_id": "",
       "version_major": 2,
       "version_minor": 0
      },
      "text/plain": [
       "Epoch 78 [Train]:   0%|          | 0/855 [00:00<?, ?it/s]"
      ]
     },
     "metadata": {},
     "output_type": "display_data"
    },
    {
     "data": {
      "application/vnd.jupyter.widget-view+json": {
       "model_id": "",
       "version_major": 2,
       "version_minor": 0
      },
      "text/plain": [
       "Epoch 78 [Valid]:   0%|          | 0/96 [00:00<?, ?it/s]"
      ]
     },
     "metadata": {},
     "output_type": "display_data"
    },
    {
     "name": "stdout",
     "output_type": "stream",
     "text": [
      "Epoch 78/1000 - Train Loss: 0.0122 (MA: 0.0122), Val Loss: 0.0151 (MA: 0.0145), Duration: 0:02:54.852101\n",
      "  Train Loss MA improved to 0.012239 from 0.012251 (0.10% improvement).\n",
      "  Saved new best model (train loss MA) at epoch 78\n",
      "Epoch 78: Generating visualization samples...\n",
      "Saved visualization samples to C:\\Projects\\jetbot-diffusion-world-model-kong-finder-aux\\output_model_5hz_DIAMOND\\samples\\val_vis_epoch_0078_samples.png\n"
     ]
    },
    {
     "data": {
      "application/vnd.jupyter.widget-view+json": {
       "model_id": "",
       "version_major": 2,
       "version_minor": 0
      },
      "text/plain": [
       "Epoch 79 [Train]:   0%|          | 0/855 [00:00<?, ?it/s]"
      ]
     },
     "metadata": {},
     "output_type": "display_data"
    },
    {
     "data": {
      "application/vnd.jupyter.widget-view+json": {
       "model_id": "",
       "version_major": 2,
       "version_minor": 0
      },
      "text/plain": [
       "Epoch 79 [Valid]:   0%|          | 0/96 [00:00<?, ?it/s]"
      ]
     },
     "metadata": {},
     "output_type": "display_data"
    },
    {
     "name": "stdout",
     "output_type": "stream",
     "text": [
      "Epoch 79/1000 - Train Loss: 0.0120 (MA: 0.0122), Val Loss: 0.0130 (MA: 0.0144), Duration: 0:02:55.256582\n",
      "  Train Loss MA improved to 0.012155 from 0.012239 (0.68% improvement).\n",
      "  Saved new best model (train loss MA) at epoch 79\n",
      "Epoch 79: Generating visualization samples...\n",
      "Saved visualization samples to C:\\Projects\\jetbot-diffusion-world-model-kong-finder-aux\\output_model_5hz_DIAMOND\\samples\\val_vis_epoch_0079_samples.png\n"
     ]
    },
    {
     "data": {
      "application/vnd.jupyter.widget-view+json": {
       "model_id": "",
       "version_major": 2,
       "version_minor": 0
      },
      "text/plain": [
       "Epoch 80 [Train]:   0%|          | 0/855 [00:00<?, ?it/s]"
      ]
     },
     "metadata": {},
     "output_type": "display_data"
    },
    {
     "data": {
      "application/vnd.jupyter.widget-view+json": {
       "model_id": "",
       "version_major": 2,
       "version_minor": 0
      },
      "text/plain": [
       "Epoch 80 [Valid]:   0%|          | 0/96 [00:00<?, ?it/s]"
      ]
     },
     "metadata": {},
     "output_type": "display_data"
    },
    {
     "name": "stdout",
     "output_type": "stream",
     "text": [
      "Epoch 80/1000 - Train Loss: 0.0121 (MA: 0.0121), Val Loss: 0.0146 (MA: 0.0146), Duration: 0:02:54.804321\n",
      "  Train Loss MA improved to 0.012127 from 0.012155 (0.23% improvement).\n",
      "  Saved new best model (train loss MA) at epoch 80\n",
      "Epoch 80: Generating visualization samples...\n",
      "Saved visualization samples to C:\\Projects\\jetbot-diffusion-world-model-kong-finder-aux\\output_model_5hz_DIAMOND\\samples\\val_vis_epoch_0080_samples.png\n",
      "Saved loss plot up to epoch 80\n"
     ]
    },
    {
     "data": {
      "application/vnd.jupyter.widget-view+json": {
       "model_id": "",
       "version_major": 2,
       "version_minor": 0
      },
      "text/plain": [
       "Epoch 81 [Train]:   0%|          | 0/855 [00:00<?, ?it/s]"
      ]
     },
     "metadata": {},
     "output_type": "display_data"
    },
    {
     "data": {
      "application/vnd.jupyter.widget-view+json": {
       "model_id": "",
       "version_major": 2,
       "version_minor": 0
      },
      "text/plain": [
       "Epoch 81 [Valid]:   0%|          | 0/96 [00:00<?, ?it/s]"
      ]
     },
     "metadata": {},
     "output_type": "display_data"
    },
    {
     "name": "stdout",
     "output_type": "stream",
     "text": [
      "Epoch 81/1000 - Train Loss: 0.0114 (MA: 0.0121), Val Loss: 0.0143 (MA: 0.0142), Duration: 0:02:54.880327\n",
      "  Train Loss MA improved to 0.012055 from 0.012127 (0.60% improvement).\n",
      "  Saved new best model (train loss MA) at epoch 81\n",
      "Epoch 81: Generating visualization samples...\n",
      "Saved visualization samples to C:\\Projects\\jetbot-diffusion-world-model-kong-finder-aux\\output_model_5hz_DIAMOND\\samples\\val_vis_epoch_0081_samples.png\n"
     ]
    },
    {
     "data": {
      "application/vnd.jupyter.widget-view+json": {
       "model_id": "",
       "version_major": 2,
       "version_minor": 0
      },
      "text/plain": [
       "Epoch 82 [Train]:   0%|          | 0/855 [00:00<?, ?it/s]"
      ]
     },
     "metadata": {},
     "output_type": "display_data"
    },
    {
     "data": {
      "application/vnd.jupyter.widget-view+json": {
       "model_id": "",
       "version_major": 2,
       "version_minor": 0
      },
      "text/plain": [
       "Epoch 82 [Valid]:   0%|          | 0/96 [00:00<?, ?it/s]"
      ]
     },
     "metadata": {},
     "output_type": "display_data"
    },
    {
     "name": "stdout",
     "output_type": "stream",
     "text": [
      "Epoch 82/1000 - Train Loss: 0.0113 (MA: 0.0120), Val Loss: 0.0136 (MA: 0.0141), Duration: 0:02:54.708918\n",
      "  Train Loss MA improved to 0.011957 from 0.012055 (0.81% improvement).\n",
      "  Saved new best model (train loss MA) at epoch 82\n",
      "Epoch 82: Generating visualization samples...\n",
      "Saved visualization samples to C:\\Projects\\jetbot-diffusion-world-model-kong-finder-aux\\output_model_5hz_DIAMOND\\samples\\val_vis_epoch_0082_samples.png\n"
     ]
    },
    {
     "data": {
      "application/vnd.jupyter.widget-view+json": {
       "model_id": "",
       "version_major": 2,
       "version_minor": 0
      },
      "text/plain": [
       "Epoch 83 [Train]:   0%|          | 0/855 [00:00<?, ?it/s]"
      ]
     },
     "metadata": {},
     "output_type": "display_data"
    },
    {
     "data": {
      "application/vnd.jupyter.widget-view+json": {
       "model_id": "",
       "version_major": 2,
       "version_minor": 0
      },
      "text/plain": [
       "Epoch 83 [Valid]:   0%|          | 0/96 [00:00<?, ?it/s]"
      ]
     },
     "metadata": {},
     "output_type": "display_data"
    },
    {
     "name": "stdout",
     "output_type": "stream",
     "text": [
      "Epoch 83/1000 - Train Loss: 0.0114 (MA: 0.0118), Val Loss: 0.0137 (MA: 0.0138), Duration: 0:02:54.823314\n",
      "  Train Loss MA improved to 0.011836 from 0.011957 (1.01% improvement).\n",
      "  Saved new best model (train loss MA) at epoch 83\n",
      "Epoch 83: Generating visualization samples...\n",
      "Saved visualization samples to C:\\Projects\\jetbot-diffusion-world-model-kong-finder-aux\\output_model_5hz_DIAMOND\\samples\\val_vis_epoch_0083_samples.png\n"
     ]
    },
    {
     "data": {
      "application/vnd.jupyter.widget-view+json": {
       "model_id": "",
       "version_major": 2,
       "version_minor": 0
      },
      "text/plain": [
       "Epoch 84 [Train]:   0%|          | 0/855 [00:00<?, ?it/s]"
      ]
     },
     "metadata": {},
     "output_type": "display_data"
    },
    {
     "data": {
      "application/vnd.jupyter.widget-view+json": {
       "model_id": "",
       "version_major": 2,
       "version_minor": 0
      },
      "text/plain": [
       "Epoch 84 [Valid]:   0%|          | 0/96 [00:00<?, ?it/s]"
      ]
     },
     "metadata": {},
     "output_type": "display_data"
    },
    {
     "name": "stdout",
     "output_type": "stream",
     "text": [
      "Epoch 84/1000 - Train Loss: 0.0113 (MA: 0.0118), Val Loss: 0.0134 (MA: 0.0139), Duration: 0:02:54.953556\n",
      "  Train Loss MA improved to 0.011778 from 0.011836 (0.49% improvement).\n",
      "  Saved new best model (train loss MA) at epoch 84\n",
      "Epoch 84: Generating visualization samples...\n",
      "Saved visualization samples to C:\\Projects\\jetbot-diffusion-world-model-kong-finder-aux\\output_model_5hz_DIAMOND\\samples\\val_vis_epoch_0084_samples.png\n"
     ]
    },
    {
     "data": {
      "application/vnd.jupyter.widget-view+json": {
       "model_id": "",
       "version_major": 2,
       "version_minor": 0
      },
      "text/plain": [
       "Epoch 85 [Train]:   0%|          | 0/855 [00:00<?, ?it/s]"
      ]
     },
     "metadata": {},
     "output_type": "display_data"
    },
    {
     "data": {
      "application/vnd.jupyter.widget-view+json": {
       "model_id": "",
       "version_major": 2,
       "version_minor": 0
      },
      "text/plain": [
       "Epoch 85 [Valid]:   0%|          | 0/96 [00:00<?, ?it/s]"
      ]
     },
     "metadata": {},
     "output_type": "display_data"
    },
    {
     "name": "stdout",
     "output_type": "stream",
     "text": [
      "Epoch 85/1000 - Train Loss: 0.0113 (MA: 0.0118), Val Loss: 0.0148 (MA: 0.0139), Duration: 0:02:55.266969\n",
      "  Train Loss MA improved to 0.011758 from 0.011778 (0.17% improvement).\n",
      "  Saved new best model (train loss MA) at epoch 85\n",
      "Epoch 85: Generating visualization samples...\n",
      "Saved visualization samples to C:\\Projects\\jetbot-diffusion-world-model-kong-finder-aux\\output_model_5hz_DIAMOND\\samples\\val_vis_epoch_0085_samples.png\n"
     ]
    },
    {
     "data": {
      "application/vnd.jupyter.widget-view+json": {
       "model_id": "",
       "version_major": 2,
       "version_minor": 0
      },
      "text/plain": [
       "Epoch 86 [Train]:   0%|          | 0/855 [00:00<?, ?it/s]"
      ]
     },
     "metadata": {},
     "output_type": "display_data"
    },
    {
     "data": {
      "application/vnd.jupyter.widget-view+json": {
       "model_id": "",
       "version_major": 2,
       "version_minor": 0
      },
      "text/plain": [
       "Epoch 86 [Valid]:   0%|          | 0/96 [00:00<?, ?it/s]"
      ]
     },
     "metadata": {},
     "output_type": "display_data"
    },
    {
     "name": "stdout",
     "output_type": "stream",
     "text": [
      "Epoch 86/1000 - Train Loss: 0.0110 (MA: 0.0116), Val Loss: 0.0141 (MA: 0.0139), Duration: 0:02:54.769465\n",
      "  Train Loss MA improved to 0.011630 from 0.011758 (1.09% improvement).\n",
      "  Saved new best model (train loss MA) at epoch 86\n",
      "Epoch 86: Generating visualization samples...\n",
      "Saved visualization samples to C:\\Projects\\jetbot-diffusion-world-model-kong-finder-aux\\output_model_5hz_DIAMOND\\samples\\val_vis_epoch_0086_samples.png\n"
     ]
    },
    {
     "data": {
      "application/vnd.jupyter.widget-view+json": {
       "model_id": "",
       "version_major": 2,
       "version_minor": 0
      },
      "text/plain": [
       "Epoch 87 [Train]:   0%|          | 0/855 [00:00<?, ?it/s]"
      ]
     },
     "metadata": {},
     "output_type": "display_data"
    },
    {
     "data": {
      "application/vnd.jupyter.widget-view+json": {
       "model_id": "",
       "version_major": 2,
       "version_minor": 0
      },
      "text/plain": [
       "Epoch 87 [Valid]:   0%|          | 0/96 [00:00<?, ?it/s]"
      ]
     },
     "metadata": {},
     "output_type": "display_data"
    },
    {
     "name": "stdout",
     "output_type": "stream",
     "text": [
      "Epoch 87/1000 - Train Loss: 0.0111 (MA: 0.0115), Val Loss: 0.0139 (MA: 0.0140), Duration: 0:02:54.938955\n",
      "  Train Loss MA improved to 0.011524 from 0.011630 (0.92% improvement).\n",
      "  Saved new best model (train loss MA) at epoch 87\n",
      "Epoch 87: Generating visualization samples...\n",
      "Saved visualization samples to C:\\Projects\\jetbot-diffusion-world-model-kong-finder-aux\\output_model_5hz_DIAMOND\\samples\\val_vis_epoch_0087_samples.png\n"
     ]
    },
    {
     "data": {
      "application/vnd.jupyter.widget-view+json": {
       "model_id": "",
       "version_major": 2,
       "version_minor": 0
      },
      "text/plain": [
       "Epoch 88 [Train]:   0%|          | 0/855 [00:00<?, ?it/s]"
      ]
     },
     "metadata": {},
     "output_type": "display_data"
    },
    {
     "data": {
      "application/vnd.jupyter.widget-view+json": {
       "model_id": "",
       "version_major": 2,
       "version_minor": 0
      },
      "text/plain": [
       "Epoch 88 [Valid]:   0%|          | 0/96 [00:00<?, ?it/s]"
      ]
     },
     "metadata": {},
     "output_type": "display_data"
    },
    {
     "name": "stdout",
     "output_type": "stream",
     "text": [
      "Epoch 88/1000 - Train Loss: 0.0117 (MA: 0.0115), Val Loss: 0.0147 (MA: 0.0142), Duration: 0:02:54.813221\n",
      "  Train Loss MA improved to 0.011470 from 0.011524 (0.46% improvement).\n",
      "  Saved new best model (train loss MA) at epoch 88\n",
      "Epoch 88: Generating visualization samples...\n",
      "Saved visualization samples to C:\\Projects\\jetbot-diffusion-world-model-kong-finder-aux\\output_model_5hz_DIAMOND\\samples\\val_vis_epoch_0088_samples.png\n"
     ]
    },
    {
     "data": {
      "application/vnd.jupyter.widget-view+json": {
       "model_id": "",
       "version_major": 2,
       "version_minor": 0
      },
      "text/plain": [
       "Epoch 89 [Train]:   0%|          | 0/855 [00:00<?, ?it/s]"
      ]
     },
     "metadata": {},
     "output_type": "display_data"
    },
    {
     "data": {
      "application/vnd.jupyter.widget-view+json": {
       "model_id": "",
       "version_major": 2,
       "version_minor": 0
      },
      "text/plain": [
       "Epoch 89 [Valid]:   0%|          | 0/96 [00:00<?, ?it/s]"
      ]
     },
     "metadata": {},
     "output_type": "display_data"
    },
    {
     "name": "stdout",
     "output_type": "stream",
     "text": [
      "Epoch 89/1000 - Train Loss: 0.0112 (MA: 0.0114), Val Loss: 0.0150 (MA: 0.0145), Duration: 0:02:54.758264\n",
      "  Train Loss MA improved to 0.011394 from 0.011470 (0.66% improvement).\n",
      "  Saved new best model (train loss MA) at epoch 89\n",
      "Epoch 89: Generating visualization samples...\n",
      "Saved visualization samples to C:\\Projects\\jetbot-diffusion-world-model-kong-finder-aux\\output_model_5hz_DIAMOND\\samples\\val_vis_epoch_0089_samples.png\n"
     ]
    },
    {
     "data": {
      "application/vnd.jupyter.widget-view+json": {
       "model_id": "",
       "version_major": 2,
       "version_minor": 0
      },
      "text/plain": [
       "Epoch 90 [Train]:   0%|          | 0/855 [00:00<?, ?it/s]"
      ]
     },
     "metadata": {},
     "output_type": "display_data"
    },
    {
     "data": {
      "application/vnd.jupyter.widget-view+json": {
       "model_id": "",
       "version_major": 2,
       "version_minor": 0
      },
      "text/plain": [
       "Epoch 90 [Valid]:   0%|          | 0/96 [00:00<?, ?it/s]"
      ]
     },
     "metadata": {},
     "output_type": "display_data"
    },
    {
     "name": "stdout",
     "output_type": "stream",
     "text": [
      "Epoch 90/1000 - Train Loss: 0.0112 (MA: 0.0113), Val Loss: 0.0127 (MA: 0.0141), Duration: 0:02:54.933277\n",
      "  Train Loss MA improved to 0.011306 from 0.011394 (0.78% improvement).\n",
      "  Saved new best model (train loss MA) at epoch 90\n",
      "Epoch 90: Generating visualization samples...\n",
      "Saved visualization samples to C:\\Projects\\jetbot-diffusion-world-model-kong-finder-aux\\output_model_5hz_DIAMOND\\samples\\val_vis_epoch_0090_samples.png\n",
      "Saved loss plot up to epoch 90\n"
     ]
    },
    {
     "data": {
      "application/vnd.jupyter.widget-view+json": {
       "model_id": "",
       "version_major": 2,
       "version_minor": 0
      },
      "text/plain": [
       "Epoch 91 [Train]:   0%|          | 0/855 [00:00<?, ?it/s]"
      ]
     },
     "metadata": {},
     "output_type": "display_data"
    },
    {
     "data": {
      "application/vnd.jupyter.widget-view+json": {
       "model_id": "",
       "version_major": 2,
       "version_minor": 0
      },
      "text/plain": [
       "Epoch 91 [Valid]:   0%|          | 0/96 [00:00<?, ?it/s]"
      ]
     },
     "metadata": {},
     "output_type": "display_data"
    },
    {
     "name": "stdout",
     "output_type": "stream",
     "text": [
      "Epoch 91/1000 - Train Loss: 0.0113 (MA: 0.0113), Val Loss: 0.0140 (MA: 0.0141), Duration: 0:02:54.944266\n",
      "  Train Loss MA improved to 0.011296 from 0.011306 (0.08% improvement).\n",
      "  Saved new best model (train loss MA) at epoch 91\n",
      "Epoch 91: Generating visualization samples...\n",
      "Saved visualization samples to C:\\Projects\\jetbot-diffusion-world-model-kong-finder-aux\\output_model_5hz_DIAMOND\\samples\\val_vis_epoch_0091_samples.png\n"
     ]
    },
    {
     "data": {
      "application/vnd.jupyter.widget-view+json": {
       "model_id": "",
       "version_major": 2,
       "version_minor": 0
      },
      "text/plain": [
       "Epoch 92 [Train]:   0%|          | 0/855 [00:00<?, ?it/s]"
      ]
     },
     "metadata": {},
     "output_type": "display_data"
    },
    {
     "data": {
      "application/vnd.jupyter.widget-view+json": {
       "model_id": "",
       "version_major": 2,
       "version_minor": 0
      },
      "text/plain": [
       "Epoch 92 [Valid]:   0%|          | 0/96 [00:00<?, ?it/s]"
      ]
     },
     "metadata": {},
     "output_type": "display_data"
    },
    {
     "name": "stdout",
     "output_type": "stream",
     "text": [
      "Epoch 92/1000 - Train Loss: 0.0111 (MA: 0.0113), Val Loss: 0.0152 (MA: 0.0143), Duration: 0:02:55.345102\n",
      "  Train Loss MA improved to 0.011275 from 0.011296 (0.19% improvement).\n",
      "  Saved new best model (train loss MA) at epoch 92\n",
      "Epoch 92: Generating visualization samples...\n",
      "Saved visualization samples to C:\\Projects\\jetbot-diffusion-world-model-kong-finder-aux\\output_model_5hz_DIAMOND\\samples\\val_vis_epoch_0092_samples.png\n"
     ]
    },
    {
     "data": {
      "application/vnd.jupyter.widget-view+json": {
       "model_id": "",
       "version_major": 2,
       "version_minor": 0
      },
      "text/plain": [
       "Epoch 93 [Train]:   0%|          | 0/855 [00:00<?, ?it/s]"
      ]
     },
     "metadata": {},
     "output_type": "display_data"
    },
    {
     "data": {
      "application/vnd.jupyter.widget-view+json": {
       "model_id": "",
       "version_major": 2,
       "version_minor": 0
      },
      "text/plain": [
       "Epoch 93 [Valid]:   0%|          | 0/96 [00:00<?, ?it/s]"
      ]
     },
     "metadata": {},
     "output_type": "display_data"
    },
    {
     "name": "stdout",
     "output_type": "stream",
     "text": [
      "Epoch 93/1000 - Train Loss: 0.0105 (MA: 0.0112), Val Loss: 0.0134 (MA: 0.0141), Duration: 0:02:54.975565\n",
      "  Train Loss MA improved to 0.011184 from 0.011275 (0.80% improvement).\n",
      "  Saved new best model (train loss MA) at epoch 93\n",
      "Epoch 93: Generating visualization samples...\n",
      "Saved visualization samples to C:\\Projects\\jetbot-diffusion-world-model-kong-finder-aux\\output_model_5hz_DIAMOND\\samples\\val_vis_epoch_0093_samples.png\n"
     ]
    },
    {
     "data": {
      "application/vnd.jupyter.widget-view+json": {
       "model_id": "",
       "version_major": 2,
       "version_minor": 0
      },
      "text/plain": [
       "Epoch 94 [Train]:   0%|          | 0/855 [00:00<?, ?it/s]"
      ]
     },
     "metadata": {},
     "output_type": "display_data"
    },
    {
     "data": {
      "application/vnd.jupyter.widget-view+json": {
       "model_id": "",
       "version_major": 2,
       "version_minor": 0
      },
      "text/plain": [
       "Epoch 94 [Valid]:   0%|          | 0/96 [00:00<?, ?it/s]"
      ]
     },
     "metadata": {},
     "output_type": "display_data"
    },
    {
     "name": "stdout",
     "output_type": "stream",
     "text": [
      "Epoch 94/1000 - Train Loss: 0.0108 (MA: 0.0111), Val Loss: 0.0142 (MA: 0.0139), Duration: 0:02:55.010197\n",
      "  Train Loss MA improved to 0.011132 from 0.011184 (0.47% improvement).\n",
      "  Saved new best model (train loss MA) at epoch 94\n",
      "Epoch 94: Generating visualization samples...\n",
      "Saved visualization samples to C:\\Projects\\jetbot-diffusion-world-model-kong-finder-aux\\output_model_5hz_DIAMOND\\samples\\val_vis_epoch_0094_samples.png\n"
     ]
    },
    {
     "data": {
      "application/vnd.jupyter.widget-view+json": {
       "model_id": "",
       "version_major": 2,
       "version_minor": 0
      },
      "text/plain": [
       "Epoch 95 [Train]:   0%|          | 0/855 [00:00<?, ?it/s]"
      ]
     },
     "metadata": {},
     "output_type": "display_data"
    },
    {
     "data": {
      "application/vnd.jupyter.widget-view+json": {
       "model_id": "",
       "version_major": 2,
       "version_minor": 0
      },
      "text/plain": [
       "Epoch 95 [Valid]:   0%|          | 0/96 [00:00<?, ?it/s]"
      ]
     },
     "metadata": {},
     "output_type": "display_data"
    },
    {
     "name": "stdout",
     "output_type": "stream",
     "text": [
      "Epoch 95/1000 - Train Loss: 0.0105 (MA: 0.0111), Val Loss: 0.0135 (MA: 0.0141), Duration: 0:02:54.779139\n",
      "  Train Loss MA improved to 0.011058 from 0.011132 (0.67% improvement).\n",
      "  Saved new best model (train loss MA) at epoch 95\n",
      "Epoch 95: Generating visualization samples...\n",
      "Saved visualization samples to C:\\Projects\\jetbot-diffusion-world-model-kong-finder-aux\\output_model_5hz_DIAMOND\\samples\\val_vis_epoch_0095_samples.png\n"
     ]
    },
    {
     "data": {
      "application/vnd.jupyter.widget-view+json": {
       "model_id": "",
       "version_major": 2,
       "version_minor": 0
      },
      "text/plain": [
       "Epoch 96 [Train]:   0%|          | 0/855 [00:00<?, ?it/s]"
      ]
     },
     "metadata": {},
     "output_type": "display_data"
    },
    {
     "data": {
      "application/vnd.jupyter.widget-view+json": {
       "model_id": "",
       "version_major": 2,
       "version_minor": 0
      },
      "text/plain": [
       "Epoch 96 [Valid]:   0%|          | 0/96 [00:00<?, ?it/s]"
      ]
     },
     "metadata": {},
     "output_type": "display_data"
    },
    {
     "name": "stdout",
     "output_type": "stream",
     "text": [
      "Epoch 96/1000 - Train Loss: 0.0109 (MA: 0.0110), Val Loss: 0.0123 (MA: 0.0137), Duration: 0:02:54.950155\n",
      "  Train Loss MA improved to 0.011046 from 0.011058 (0.11% improvement).\n",
      "  Saved new best model (train loss MA) at epoch 96\n",
      "Epoch 96: Generating visualization samples...\n",
      "Saved visualization samples to C:\\Projects\\jetbot-diffusion-world-model-kong-finder-aux\\output_model_5hz_DIAMOND\\samples\\val_vis_epoch_0096_samples.png\n"
     ]
    },
    {
     "data": {
      "application/vnd.jupyter.widget-view+json": {
       "model_id": "",
       "version_major": 2,
       "version_minor": 0
      },
      "text/plain": [
       "Epoch 97 [Train]:   0%|          | 0/855 [00:00<?, ?it/s]"
      ]
     },
     "metadata": {},
     "output_type": "display_data"
    },
    {
     "data": {
      "application/vnd.jupyter.widget-view+json": {
       "model_id": "",
       "version_major": 2,
       "version_minor": 0
      },
      "text/plain": [
       "Epoch 97 [Valid]:   0%|          | 0/96 [00:00<?, ?it/s]"
      ]
     },
     "metadata": {},
     "output_type": "display_data"
    },
    {
     "name": "stdout",
     "output_type": "stream",
     "text": [
      "Epoch 97/1000 - Train Loss: 0.0106 (MA: 0.0110), Val Loss: 0.0131 (MA: 0.0133), Duration: 0:02:54.896695\n",
      "  Train Loss MA improved to 0.010994 from 0.011046 (0.47% improvement).\n",
      "  Saved new best model (train loss MA) at epoch 97\n",
      "Epoch 97: Generating visualization samples...\n",
      "Saved visualization samples to C:\\Projects\\jetbot-diffusion-world-model-kong-finder-aux\\output_model_5hz_DIAMOND\\samples\\val_vis_epoch_0097_samples.png\n"
     ]
    },
    {
     "data": {
      "application/vnd.jupyter.widget-view+json": {
       "model_id": "",
       "version_major": 2,
       "version_minor": 0
      },
      "text/plain": [
       "Epoch 98 [Train]:   0%|          | 0/855 [00:00<?, ?it/s]"
      ]
     },
     "metadata": {},
     "output_type": "display_data"
    },
    {
     "data": {
      "application/vnd.jupyter.widget-view+json": {
       "model_id": "",
       "version_major": 2,
       "version_minor": 0
      },
      "text/plain": [
       "Epoch 98 [Valid]:   0%|          | 0/96 [00:00<?, ?it/s]"
      ]
     },
     "metadata": {},
     "output_type": "display_data"
    },
    {
     "name": "stdout",
     "output_type": "stream",
     "text": [
      "Epoch 98/1000 - Train Loss: 0.0106 (MA: 0.0109), Val Loss: 0.0122 (MA: 0.0131), Duration: 0:02:55.086551\n",
      "  Train Loss MA improved to 0.010881 from 0.010994 (1.03% improvement).\n",
      "  Saved new best model (train loss MA) at epoch 98\n",
      "Epoch 98: Generating visualization samples...\n",
      "Saved visualization samples to C:\\Projects\\jetbot-diffusion-world-model-kong-finder-aux\\output_model_5hz_DIAMOND\\samples\\val_vis_epoch_0098_samples.png\n"
     ]
    },
    {
     "data": {
      "application/vnd.jupyter.widget-view+json": {
       "model_id": "",
       "version_major": 2,
       "version_minor": 0
      },
      "text/plain": [
       "Epoch 99 [Train]:   0%|          | 0/855 [00:00<?, ?it/s]"
      ]
     },
     "metadata": {},
     "output_type": "display_data"
    },
    {
     "data": {
      "application/vnd.jupyter.widget-view+json": {
       "model_id": "",
       "version_major": 2,
       "version_minor": 0
      },
      "text/plain": [
       "Epoch 99 [Valid]:   0%|          | 0/96 [00:00<?, ?it/s]"
      ]
     },
     "metadata": {},
     "output_type": "display_data"
    },
    {
     "name": "stdout",
     "output_type": "stream",
     "text": [
      "Epoch 99/1000 - Train Loss: 0.0108 (MA: 0.0108), Val Loss: 0.0123 (MA: 0.0127), Duration: 0:02:55.366523\n",
      "  Train Loss MA improved to 0.010835 from 0.010881 (0.42% improvement).\n",
      "  Saved new best model (train loss MA) at epoch 99\n",
      "Epoch 99: Generating visualization samples...\n",
      "Saved visualization samples to C:\\Projects\\jetbot-diffusion-world-model-kong-finder-aux\\output_model_5hz_DIAMOND\\samples\\val_vis_epoch_0099_samples.png\n"
     ]
    },
    {
     "data": {
      "application/vnd.jupyter.widget-view+json": {
       "model_id": "",
       "version_major": 2,
       "version_minor": 0
      },
      "text/plain": [
       "Epoch 100 [Train]:   0%|          | 0/855 [00:00<?, ?it/s]"
      ]
     },
     "metadata": {},
     "output_type": "display_data"
    },
    {
     "data": {
      "application/vnd.jupyter.widget-view+json": {
       "model_id": "",
       "version_major": 2,
       "version_minor": 0
      },
      "text/plain": [
       "Epoch 100 [Valid]:   0%|          | 0/96 [00:00<?, ?it/s]"
      ]
     },
     "metadata": {},
     "output_type": "display_data"
    },
    {
     "name": "stdout",
     "output_type": "stream",
     "text": [
      "Epoch 100/1000 - Train Loss: 0.0104 (MA: 0.0108), Val Loss: 0.0156 (MA: 0.0131), Duration: 0:02:54.913882\n",
      "  Train Loss MA improved to 0.010753 from 0.010835 (0.76% improvement).\n",
      "  Saved new best model (train loss MA) at epoch 100\n",
      "Epoch 100: Generating visualization samples...\n",
      "Saved visualization samples to C:\\Projects\\jetbot-diffusion-world-model-kong-finder-aux\\output_model_5hz_DIAMOND\\samples\\val_vis_epoch_0100_samples.png\n",
      "Saved loss plot up to epoch 100\n"
     ]
    },
    {
     "data": {
      "application/vnd.jupyter.widget-view+json": {
       "model_id": "",
       "version_major": 2,
       "version_minor": 0
      },
      "text/plain": [
       "Epoch 101 [Train]:   0%|          | 0/855 [00:00<?, ?it/s]"
      ]
     },
     "metadata": {},
     "output_type": "display_data"
    },
    {
     "data": {
      "application/vnd.jupyter.widget-view+json": {
       "model_id": "",
       "version_major": 2,
       "version_minor": 0
      },
      "text/plain": [
       "Epoch 101 [Valid]:   0%|          | 0/96 [00:00<?, ?it/s]"
      ]
     },
     "metadata": {},
     "output_type": "display_data"
    },
    {
     "name": "stdout",
     "output_type": "stream",
     "text": [
      "Epoch 101/1000 - Train Loss: 0.0106 (MA: 0.0107), Val Loss: 0.0151 (MA: 0.0136), Duration: 0:02:54.950397\n",
      "  Train Loss MA improved to 0.010680 from 0.010753 (0.68% improvement).\n",
      "  Saved new best model (train loss MA) at epoch 101\n",
      "Epoch 101: Generating visualization samples...\n",
      "Saved visualization samples to C:\\Projects\\jetbot-diffusion-world-model-kong-finder-aux\\output_model_5hz_DIAMOND\\samples\\val_vis_epoch_0101_samples.png\n"
     ]
    },
    {
     "data": {
      "application/vnd.jupyter.widget-view+json": {
       "model_id": "",
       "version_major": 2,
       "version_minor": 0
      },
      "text/plain": [
       "Epoch 102 [Train]:   0%|          | 0/855 [00:00<?, ?it/s]"
      ]
     },
     "metadata": {},
     "output_type": "display_data"
    },
    {
     "data": {
      "application/vnd.jupyter.widget-view+json": {
       "model_id": "",
       "version_major": 2,
       "version_minor": 0
      },
      "text/plain": [
       "Epoch 102 [Valid]:   0%|          | 0/96 [00:00<?, ?it/s]"
      ]
     },
     "metadata": {},
     "output_type": "display_data"
    },
    {
     "name": "stdout",
     "output_type": "stream",
     "text": [
      "Epoch 102/1000 - Train Loss: 0.0108 (MA: 0.0107), Val Loss: 0.0114 (MA: 0.0133), Duration: 0:02:54.752993\n",
      "  Train Loss MA improved to 0.010651 from 0.010680 (0.27% improvement).\n",
      "  Saved new best model (train loss MA) at epoch 102\n",
      "Epoch 102: Generating visualization samples...\n",
      "Saved visualization samples to C:\\Projects\\jetbot-diffusion-world-model-kong-finder-aux\\output_model_5hz_DIAMOND\\samples\\val_vis_epoch_0102_samples.png\n"
     ]
    },
    {
     "data": {
      "application/vnd.jupyter.widget-view+json": {
       "model_id": "",
       "version_major": 2,
       "version_minor": 0
      },
      "text/plain": [
       "Epoch 103 [Train]:   0%|          | 0/855 [00:00<?, ?it/s]"
      ]
     },
     "metadata": {},
     "output_type": "display_data"
    },
    {
     "data": {
      "application/vnd.jupyter.widget-view+json": {
       "model_id": "",
       "version_major": 2,
       "version_minor": 0
      },
      "text/plain": [
       "Epoch 103 [Valid]:   0%|          | 0/96 [00:00<?, ?it/s]"
      ]
     },
     "metadata": {},
     "output_type": "display_data"
    },
    {
     "name": "stdout",
     "output_type": "stream",
     "text": [
      "Epoch 103/1000 - Train Loss: 0.0106 (MA: 0.0107), Val Loss: 0.0131 (MA: 0.0135), Duration: 0:02:54.656941\n",
      "  No improvement in train loss MA for 1 epoch(s). Best MA: 0.010651, Current MA: 0.010661\n",
      "Epoch 103: Generating visualization samples...\n",
      "Saved visualization samples to C:\\Projects\\jetbot-diffusion-world-model-kong-finder-aux\\output_model_5hz_DIAMOND\\samples\\val_vis_epoch_0103_samples.png\n"
     ]
    },
    {
     "data": {
      "application/vnd.jupyter.widget-view+json": {
       "model_id": "",
       "version_major": 2,
       "version_minor": 0
      },
      "text/plain": [
       "Epoch 104 [Train]:   0%|          | 0/855 [00:00<?, ?it/s]"
      ]
     },
     "metadata": {},
     "output_type": "display_data"
    },
    {
     "data": {
      "application/vnd.jupyter.widget-view+json": {
       "model_id": "",
       "version_major": 2,
       "version_minor": 0
      },
      "text/plain": [
       "Epoch 104 [Valid]:   0%|          | 0/96 [00:00<?, ?it/s]"
      ]
     },
     "metadata": {},
     "output_type": "display_data"
    },
    {
     "name": "stdout",
     "output_type": "stream",
     "text": [
      "Epoch 104/1000 - Train Loss: 0.0101 (MA: 0.0106), Val Loss: 0.0113 (MA: 0.0133), Duration: 0:02:54.765381\n",
      "  Train Loss MA improved to 0.010599 from 0.010651 (0.49% improvement).\n",
      "  Saved new best model (train loss MA) at epoch 104\n",
      "Epoch 104: Generating visualization samples...\n",
      "Saved visualization samples to C:\\Projects\\jetbot-diffusion-world-model-kong-finder-aux\\output_model_5hz_DIAMOND\\samples\\val_vis_epoch_0104_samples.png\n"
     ]
    },
    {
     "data": {
      "application/vnd.jupyter.widget-view+json": {
       "model_id": "",
       "version_major": 2,
       "version_minor": 0
      },
      "text/plain": [
       "Epoch 105 [Train]:   0%|          | 0/855 [00:00<?, ?it/s]"
      ]
     },
     "metadata": {},
     "output_type": "display_data"
    },
    {
     "data": {
      "application/vnd.jupyter.widget-view+json": {
       "model_id": "",
       "version_major": 2,
       "version_minor": 0
      },
      "text/plain": [
       "Epoch 105 [Valid]:   0%|          | 0/96 [00:00<?, ?it/s]"
      ]
     },
     "metadata": {},
     "output_type": "display_data"
    },
    {
     "name": "stdout",
     "output_type": "stream",
     "text": [
      "Epoch 105/1000 - Train Loss: 0.0101 (MA: 0.0106), Val Loss: 0.0137 (MA: 0.0129), Duration: 0:02:54.620750\n",
      "  Train Loss MA improved to 0.010553 from 0.010599 (0.43% improvement).\n",
      "  Saved new best model (train loss MA) at epoch 105\n",
      "Epoch 105: Generating visualization samples...\n",
      "Saved visualization samples to C:\\Projects\\jetbot-diffusion-world-model-kong-finder-aux\\output_model_5hz_DIAMOND\\samples\\val_vis_epoch_0105_samples.png\n"
     ]
    },
    {
     "data": {
      "application/vnd.jupyter.widget-view+json": {
       "model_id": "",
       "version_major": 2,
       "version_minor": 0
      },
      "text/plain": [
       "Epoch 106 [Train]:   0%|          | 0/855 [00:00<?, ?it/s]"
      ]
     },
     "metadata": {},
     "output_type": "display_data"
    },
    {
     "data": {
      "application/vnd.jupyter.widget-view+json": {
       "model_id": "",
       "version_major": 2,
       "version_minor": 0
      },
      "text/plain": [
       "Epoch 106 [Valid]:   0%|          | 0/96 [00:00<?, ?it/s]"
      ]
     },
     "metadata": {},
     "output_type": "display_data"
    },
    {
     "name": "stdout",
     "output_type": "stream",
     "text": [
      "Epoch 106/1000 - Train Loss: 0.0102 (MA: 0.0105), Val Loss: 0.0126 (MA: 0.0124), Duration: 0:02:54.620921\n",
      "  Train Loss MA improved to 0.010482 from 0.010553 (0.67% improvement).\n",
      "  Saved new best model (train loss MA) at epoch 106\n",
      "Epoch 106: Generating visualization samples...\n",
      "Saved visualization samples to C:\\Projects\\jetbot-diffusion-world-model-kong-finder-aux\\output_model_5hz_DIAMOND\\samples\\val_vis_epoch_0106_samples.png\n"
     ]
    },
    {
     "data": {
      "application/vnd.jupyter.widget-view+json": {
       "model_id": "",
       "version_major": 2,
       "version_minor": 0
      },
      "text/plain": [
       "Epoch 107 [Train]:   0%|          | 0/855 [00:00<?, ?it/s]"
      ]
     },
     "metadata": {},
     "output_type": "display_data"
    },
    {
     "data": {
      "application/vnd.jupyter.widget-view+json": {
       "model_id": "",
       "version_major": 2,
       "version_minor": 0
      },
      "text/plain": [
       "Epoch 107 [Valid]:   0%|          | 0/96 [00:00<?, ?it/s]"
      ]
     },
     "metadata": {},
     "output_type": "display_data"
    },
    {
     "name": "stdout",
     "output_type": "stream",
     "text": [
      "Epoch 107/1000 - Train Loss: 0.0104 (MA: 0.0105), Val Loss: 0.0146 (MA: 0.0131), Duration: 0:02:54.783398\n",
      "  Train Loss MA improved to 0.010466 from 0.010482 (0.15% improvement).\n",
      "  Saved new best model (train loss MA) at epoch 107\n",
      "Epoch 107: Generating visualization samples...\n",
      "Saved visualization samples to C:\\Projects\\jetbot-diffusion-world-model-kong-finder-aux\\output_model_5hz_DIAMOND\\samples\\val_vis_epoch_0107_samples.png\n"
     ]
    },
    {
     "data": {
      "application/vnd.jupyter.widget-view+json": {
       "model_id": "",
       "version_major": 2,
       "version_minor": 0
      },
      "text/plain": [
       "Epoch 108 [Train]:   0%|          | 0/855 [00:00<?, ?it/s]"
      ]
     },
     "metadata": {},
     "output_type": "display_data"
    },
    {
     "data": {
      "application/vnd.jupyter.widget-view+json": {
       "model_id": "",
       "version_major": 2,
       "version_minor": 0
      },
      "text/plain": [
       "Epoch 108 [Valid]:   0%|          | 0/96 [00:00<?, ?it/s]"
      ]
     },
     "metadata": {},
     "output_type": "display_data"
    },
    {
     "name": "stdout",
     "output_type": "stream",
     "text": [
      "Epoch 108/1000 - Train Loss: 0.0101 (MA: 0.0104), Val Loss: 0.0124 (MA: 0.0129), Duration: 0:02:54.755268\n",
      "  Train Loss MA improved to 0.010419 from 0.010466 (0.45% improvement).\n",
      "  Saved new best model (train loss MA) at epoch 108\n",
      "Epoch 108: Generating visualization samples...\n",
      "Saved visualization samples to C:\\Projects\\jetbot-diffusion-world-model-kong-finder-aux\\output_model_5hz_DIAMOND\\samples\\val_vis_epoch_0108_samples.png\n"
     ]
    },
    {
     "data": {
      "application/vnd.jupyter.widget-view+json": {
       "model_id": "",
       "version_major": 2,
       "version_minor": 0
      },
      "text/plain": [
       "Epoch 109 [Train]:   0%|          | 0/855 [00:00<?, ?it/s]"
      ]
     },
     "metadata": {},
     "output_type": "display_data"
    },
    {
     "data": {
      "application/vnd.jupyter.widget-view+json": {
       "model_id": "",
       "version_major": 2,
       "version_minor": 0
      },
      "text/plain": [
       "Epoch 109 [Valid]:   0%|          | 0/96 [00:00<?, ?it/s]"
      ]
     },
     "metadata": {},
     "output_type": "display_data"
    },
    {
     "name": "stdout",
     "output_type": "stream",
     "text": [
      "Epoch 109/1000 - Train Loss: 0.0101 (MA: 0.0104), Val Loss: 0.0134 (MA: 0.0134), Duration: 0:02:54.718778\n",
      "  Train Loss MA improved to 0.010353 from 0.010419 (0.64% improvement).\n",
      "  Saved new best model (train loss MA) at epoch 109\n",
      "Epoch 109: Generating visualization samples...\n",
      "Saved visualization samples to C:\\Projects\\jetbot-diffusion-world-model-kong-finder-aux\\output_model_5hz_DIAMOND\\samples\\val_vis_epoch_0109_samples.png\n"
     ]
    },
    {
     "data": {
      "application/vnd.jupyter.widget-view+json": {
       "model_id": "",
       "version_major": 2,
       "version_minor": 0
      },
      "text/plain": [
       "Epoch 110 [Train]:   0%|          | 0/855 [00:00<?, ?it/s]"
      ]
     },
     "metadata": {},
     "output_type": "display_data"
    },
    {
     "data": {
      "application/vnd.jupyter.widget-view+json": {
       "model_id": "",
       "version_major": 2,
       "version_minor": 0
      },
      "text/plain": [
       "Epoch 110 [Valid]:   0%|          | 0/96 [00:00<?, ?it/s]"
      ]
     },
     "metadata": {},
     "output_type": "display_data"
    },
    {
     "name": "stdout",
     "output_type": "stream",
     "text": [
      "Epoch 110/1000 - Train Loss: 0.0102 (MA: 0.0103), Val Loss: 0.0119 (MA: 0.0130), Duration: 0:02:54.925335\n",
      "  Train Loss MA improved to 0.010335 from 0.010353 (0.18% improvement).\n",
      "  Saved new best model (train loss MA) at epoch 110\n",
      "Epoch 110: Generating visualization samples...\n",
      "Saved visualization samples to C:\\Projects\\jetbot-diffusion-world-model-kong-finder-aux\\output_model_5hz_DIAMOND\\samples\\val_vis_epoch_0110_samples.png\n",
      "Saved loss plot up to epoch 110\n"
     ]
    },
    {
     "data": {
      "application/vnd.jupyter.widget-view+json": {
       "model_id": "",
       "version_major": 2,
       "version_minor": 0
      },
      "text/plain": [
       "Epoch 111 [Train]:   0%|          | 0/855 [00:00<?, ?it/s]"
      ]
     },
     "metadata": {},
     "output_type": "display_data"
    },
    {
     "data": {
      "application/vnd.jupyter.widget-view+json": {
       "model_id": "",
       "version_major": 2,
       "version_minor": 0
      },
      "text/plain": [
       "Epoch 111 [Valid]:   0%|          | 0/96 [00:00<?, ?it/s]"
      ]
     },
     "metadata": {},
     "output_type": "display_data"
    },
    {
     "name": "stdout",
     "output_type": "stream",
     "text": [
      "Epoch 111/1000 - Train Loss: 0.0097 (MA: 0.0102), Val Loss: 0.0131 (MA: 0.0131), Duration: 0:02:54.810811\n",
      "  Train Loss MA improved to 0.010248 from 0.010335 (0.84% improvement).\n",
      "  Saved new best model (train loss MA) at epoch 111\n",
      "Epoch 111: Generating visualization samples...\n",
      "Saved visualization samples to C:\\Projects\\jetbot-diffusion-world-model-kong-finder-aux\\output_model_5hz_DIAMOND\\samples\\val_vis_epoch_0111_samples.png\n"
     ]
    },
    {
     "data": {
      "application/vnd.jupyter.widget-view+json": {
       "model_id": "",
       "version_major": 2,
       "version_minor": 0
      },
      "text/plain": [
       "Epoch 112 [Train]:   0%|          | 0/855 [00:00<?, ?it/s]"
      ]
     },
     "metadata": {},
     "output_type": "display_data"
    },
    {
     "data": {
      "application/vnd.jupyter.widget-view+json": {
       "model_id": "",
       "version_major": 2,
       "version_minor": 0
      },
      "text/plain": [
       "Epoch 112 [Valid]:   0%|          | 0/96 [00:00<?, ?it/s]"
      ]
     },
     "metadata": {},
     "output_type": "display_data"
    },
    {
     "name": "stdout",
     "output_type": "stream",
     "text": [
      "Epoch 112/1000 - Train Loss: 0.0097 (MA: 0.0101), Val Loss: 0.0122 (MA: 0.0126), Duration: 0:02:54.779015\n",
      "  Train Loss MA improved to 0.010137 from 0.010248 (1.08% improvement).\n",
      "  Saved new best model (train loss MA) at epoch 112\n",
      "Epoch 112: Generating visualization samples...\n",
      "Saved visualization samples to C:\\Projects\\jetbot-diffusion-world-model-kong-finder-aux\\output_model_5hz_DIAMOND\\samples\\val_vis_epoch_0112_samples.png\n"
     ]
    },
    {
     "data": {
      "application/vnd.jupyter.widget-view+json": {
       "model_id": "",
       "version_major": 2,
       "version_minor": 0
      },
      "text/plain": [
       "Epoch 113 [Train]:   0%|          | 0/855 [00:00<?, ?it/s]"
      ]
     },
     "metadata": {},
     "output_type": "display_data"
    },
    {
     "data": {
      "application/vnd.jupyter.widget-view+json": {
       "model_id": "",
       "version_major": 2,
       "version_minor": 0
      },
      "text/plain": [
       "Epoch 113 [Valid]:   0%|          | 0/96 [00:00<?, ?it/s]"
      ]
     },
     "metadata": {},
     "output_type": "display_data"
    },
    {
     "name": "stdout",
     "output_type": "stream",
     "text": [
      "Epoch 113/1000 - Train Loss: 0.0098 (MA: 0.0101), Val Loss: 0.0140 (MA: 0.0129), Duration: 0:02:54.826201\n",
      "  Train Loss MA improved to 0.010055 from 0.010137 (0.81% improvement).\n",
      "  Saved new best model (train loss MA) at epoch 113\n",
      "Epoch 113: Generating visualization samples...\n",
      "Saved visualization samples to C:\\Projects\\jetbot-diffusion-world-model-kong-finder-aux\\output_model_5hz_DIAMOND\\samples\\val_vis_epoch_0113_samples.png\n"
     ]
    },
    {
     "data": {
      "application/vnd.jupyter.widget-view+json": {
       "model_id": "",
       "version_major": 2,
       "version_minor": 0
      },
      "text/plain": [
       "Epoch 114 [Train]:   0%|          | 0/855 [00:00<?, ?it/s]"
      ]
     },
     "metadata": {},
     "output_type": "display_data"
    },
    {
     "data": {
      "application/vnd.jupyter.widget-view+json": {
       "model_id": "",
       "version_major": 2,
       "version_minor": 0
      },
      "text/plain": [
       "Epoch 114 [Valid]:   0%|          | 0/96 [00:00<?, ?it/s]"
      ]
     },
     "metadata": {},
     "output_type": "display_data"
    },
    {
     "name": "stdout",
     "output_type": "stream",
     "text": [
      "Epoch 114/1000 - Train Loss: 0.0095 (MA: 0.0100), Val Loss: 0.0117 (MA: 0.0126), Duration: 0:02:54.767337\n",
      "  Train Loss MA improved to 0.009992 from 0.010055 (0.63% improvement).\n",
      "  Saved new best model (train loss MA) at epoch 114\n",
      "Epoch 114: Generating visualization samples...\n",
      "Saved visualization samples to C:\\Projects\\jetbot-diffusion-world-model-kong-finder-aux\\output_model_5hz_DIAMOND\\samples\\val_vis_epoch_0114_samples.png\n"
     ]
    },
    {
     "data": {
      "application/vnd.jupyter.widget-view+json": {
       "model_id": "",
       "version_major": 2,
       "version_minor": 0
      },
      "text/plain": [
       "Epoch 115 [Train]:   0%|          | 0/855 [00:00<?, ?it/s]"
      ]
     },
     "metadata": {},
     "output_type": "display_data"
    },
    {
     "data": {
      "application/vnd.jupyter.widget-view+json": {
       "model_id": "",
       "version_major": 2,
       "version_minor": 0
      },
      "text/plain": [
       "Epoch 115 [Valid]:   0%|          | 0/96 [00:00<?, ?it/s]"
      ]
     },
     "metadata": {},
     "output_type": "display_data"
    },
    {
     "name": "stdout",
     "output_type": "stream",
     "text": [
      "Epoch 115/1000 - Train Loss: 0.0093 (MA: 0.0099), Val Loss: 0.0120 (MA: 0.0126), Duration: 0:02:55.348843\n",
      "  Train Loss MA improved to 0.009914 from 0.009992 (0.78% improvement).\n",
      "  Saved new best model (train loss MA) at epoch 115\n",
      "Epoch 115: Generating visualization samples...\n",
      "Saved visualization samples to C:\\Projects\\jetbot-diffusion-world-model-kong-finder-aux\\output_model_5hz_DIAMOND\\samples\\val_vis_epoch_0115_samples.png\n"
     ]
    },
    {
     "data": {
      "application/vnd.jupyter.widget-view+json": {
       "model_id": "",
       "version_major": 2,
       "version_minor": 0
      },
      "text/plain": [
       "Epoch 116 [Train]:   0%|          | 0/855 [00:00<?, ?it/s]"
      ]
     },
     "metadata": {},
     "output_type": "display_data"
    },
    {
     "data": {
      "application/vnd.jupyter.widget-view+json": {
       "model_id": "",
       "version_major": 2,
       "version_minor": 0
      },
      "text/plain": [
       "Epoch 116 [Valid]:   0%|          | 0/96 [00:00<?, ?it/s]"
      ]
     },
     "metadata": {},
     "output_type": "display_data"
    },
    {
     "name": "stdout",
     "output_type": "stream",
     "text": [
      "Epoch 116/1000 - Train Loss: 0.0095 (MA: 0.0098), Val Loss: 0.0134 (MA: 0.0127), Duration: 0:02:54.821137\n",
      "  Train Loss MA improved to 0.009846 from 0.009914 (0.68% improvement).\n",
      "  Saved new best model (train loss MA) at epoch 116\n",
      "Epoch 116: Generating visualization samples...\n",
      "Saved visualization samples to C:\\Projects\\jetbot-diffusion-world-model-kong-finder-aux\\output_model_5hz_DIAMOND\\samples\\val_vis_epoch_0116_samples.png\n"
     ]
    },
    {
     "data": {
      "application/vnd.jupyter.widget-view+json": {
       "model_id": "",
       "version_major": 2,
       "version_minor": 0
      },
      "text/plain": [
       "Epoch 117 [Train]:   0%|          | 0/855 [00:00<?, ?it/s]"
      ]
     },
     "metadata": {},
     "output_type": "display_data"
    },
    {
     "data": {
      "application/vnd.jupyter.widget-view+json": {
       "model_id": "",
       "version_major": 2,
       "version_minor": 0
      },
      "text/plain": [
       "Epoch 117 [Valid]:   0%|          | 0/96 [00:00<?, ?it/s]"
      ]
     },
     "metadata": {},
     "output_type": "display_data"
    },
    {
     "name": "stdout",
     "output_type": "stream",
     "text": [
      "Epoch 117/1000 - Train Loss: 0.0094 (MA: 0.0097), Val Loss: 0.0136 (MA: 0.0129), Duration: 0:02:54.795197\n",
      "  Train Loss MA improved to 0.009744 from 0.009846 (1.04% improvement).\n",
      "  Saved new best model (train loss MA) at epoch 117\n",
      "Epoch 117: Generating visualization samples...\n",
      "Saved visualization samples to C:\\Projects\\jetbot-diffusion-world-model-kong-finder-aux\\output_model_5hz_DIAMOND\\samples\\val_vis_epoch_0117_samples.png\n"
     ]
    },
    {
     "data": {
      "application/vnd.jupyter.widget-view+json": {
       "model_id": "",
       "version_major": 2,
       "version_minor": 0
      },
      "text/plain": [
       "Epoch 118 [Train]:   0%|          | 0/855 [00:00<?, ?it/s]"
      ]
     },
     "metadata": {},
     "output_type": "display_data"
    },
    {
     "data": {
      "application/vnd.jupyter.widget-view+json": {
       "model_id": "",
       "version_major": 2,
       "version_minor": 0
      },
      "text/plain": [
       "Epoch 118 [Valid]:   0%|          | 0/96 [00:00<?, ?it/s]"
      ]
     },
     "metadata": {},
     "output_type": "display_data"
    },
    {
     "name": "stdout",
     "output_type": "stream",
     "text": [
      "Epoch 118/1000 - Train Loss: 0.0096 (MA: 0.0097), Val Loss: 0.0121 (MA: 0.0126), Duration: 0:02:54.784619\n",
      "  Train Loss MA improved to 0.009691 from 0.009744 (0.54% improvement).\n",
      "  Saved new best model (train loss MA) at epoch 118\n",
      "Epoch 118: Generating visualization samples...\n",
      "Saved visualization samples to C:\\Projects\\jetbot-diffusion-world-model-kong-finder-aux\\output_model_5hz_DIAMOND\\samples\\val_vis_epoch_0118_samples.png\n"
     ]
    },
    {
     "data": {
      "application/vnd.jupyter.widget-view+json": {
       "model_id": "",
       "version_major": 2,
       "version_minor": 0
      },
      "text/plain": [
       "Epoch 119 [Train]:   0%|          | 0/855 [00:00<?, ?it/s]"
      ]
     },
     "metadata": {},
     "output_type": "display_data"
    },
    {
     "data": {
      "application/vnd.jupyter.widget-view+json": {
       "model_id": "",
       "version_major": 2,
       "version_minor": 0
      },
      "text/plain": [
       "Epoch 119 [Valid]:   0%|          | 0/96 [00:00<?, ?it/s]"
      ]
     },
     "metadata": {},
     "output_type": "display_data"
    },
    {
     "name": "stdout",
     "output_type": "stream",
     "text": [
      "Epoch 119/1000 - Train Loss: 0.0093 (MA: 0.0096), Val Loss: 0.0110 (MA: 0.0124), Duration: 0:02:54.831140\n",
      "  Train Loss MA improved to 0.009609 from 0.009691 (0.85% improvement).\n",
      "  Saved new best model (train loss MA) at epoch 119\n",
      "Epoch 119: Generating visualization samples...\n",
      "Saved visualization samples to C:\\Projects\\jetbot-diffusion-world-model-kong-finder-aux\\output_model_5hz_DIAMOND\\samples\\val_vis_epoch_0119_samples.png\n"
     ]
    },
    {
     "data": {
      "application/vnd.jupyter.widget-view+json": {
       "model_id": "",
       "version_major": 2,
       "version_minor": 0
      },
      "text/plain": [
       "Epoch 120 [Train]:   0%|          | 0/855 [00:00<?, ?it/s]"
      ]
     },
     "metadata": {},
     "output_type": "display_data"
    },
    {
     "data": {
      "application/vnd.jupyter.widget-view+json": {
       "model_id": "",
       "version_major": 2,
       "version_minor": 0
      },
      "text/plain": [
       "Epoch 120 [Valid]:   0%|          | 0/96 [00:00<?, ?it/s]"
      ]
     },
     "metadata": {},
     "output_type": "display_data"
    },
    {
     "name": "stdout",
     "output_type": "stream",
     "text": [
      "Epoch 120/1000 - Train Loss: 0.0099 (MA: 0.0096), Val Loss: 0.0130 (MA: 0.0126), Duration: 0:02:54.993867\n",
      "  Train Loss MA improved to 0.009574 from 0.009609 (0.37% improvement).\n",
      "  Saved new best model (train loss MA) at epoch 120\n",
      "Epoch 120: Generating visualization samples...\n",
      "Saved visualization samples to C:\\Projects\\jetbot-diffusion-world-model-kong-finder-aux\\output_model_5hz_DIAMOND\\samples\\val_vis_epoch_0120_samples.png\n",
      "Saved loss plot up to epoch 120\n"
     ]
    },
    {
     "data": {
      "application/vnd.jupyter.widget-view+json": {
       "model_id": "",
       "version_major": 2,
       "version_minor": 0
      },
      "text/plain": [
       "Epoch 121 [Train]:   0%|          | 0/855 [00:00<?, ?it/s]"
      ]
     },
     "metadata": {},
     "output_type": "display_data"
    },
    {
     "data": {
      "application/vnd.jupyter.widget-view+json": {
       "model_id": "",
       "version_major": 2,
       "version_minor": 0
      },
      "text/plain": [
       "Epoch 121 [Valid]:   0%|          | 0/96 [00:00<?, ?it/s]"
      ]
     },
     "metadata": {},
     "output_type": "display_data"
    },
    {
     "name": "stdout",
     "output_type": "stream",
     "text": [
      "Epoch 121/1000 - Train Loss: 0.0088 (MA: 0.0095), Val Loss: 0.0116 (MA: 0.0123), Duration: 0:02:55.042167\n",
      "  Train Loss MA improved to 0.009485 from 0.009574 (0.92% improvement).\n",
      "  Saved new best model (train loss MA) at epoch 121\n",
      "Epoch 121: Generating visualization samples...\n",
      "Saved visualization samples to C:\\Projects\\jetbot-diffusion-world-model-kong-finder-aux\\output_model_5hz_DIAMOND\\samples\\val_vis_epoch_0121_samples.png\n"
     ]
    },
    {
     "data": {
      "application/vnd.jupyter.widget-view+json": {
       "model_id": "",
       "version_major": 2,
       "version_minor": 0
      },
      "text/plain": [
       "Epoch 122 [Train]:   0%|          | 0/855 [00:00<?, ?it/s]"
      ]
     },
     "metadata": {},
     "output_type": "display_data"
    },
    {
     "data": {
      "application/vnd.jupyter.widget-view+json": {
       "model_id": "",
       "version_major": 2,
       "version_minor": 0
      },
      "text/plain": [
       "Epoch 122 [Valid]:   0%|          | 0/96 [00:00<?, ?it/s]"
      ]
     },
     "metadata": {},
     "output_type": "display_data"
    },
    {
     "name": "stdout",
     "output_type": "stream",
     "text": [
      "Epoch 122/1000 - Train Loss: 0.0091 (MA: 0.0094), Val Loss: 0.0126 (MA: 0.0121), Duration: 0:02:55.117674\n",
      "  Train Loss MA improved to 0.009419 from 0.009485 (0.70% improvement).\n",
      "  Saved new best model (train loss MA) at epoch 122\n",
      "Epoch 122: Generating visualization samples...\n",
      "Saved visualization samples to C:\\Projects\\jetbot-diffusion-world-model-kong-finder-aux\\output_model_5hz_DIAMOND\\samples\\val_vis_epoch_0122_samples.png\n"
     ]
    },
    {
     "data": {
      "application/vnd.jupyter.widget-view+json": {
       "model_id": "",
       "version_major": 2,
       "version_minor": 0
      },
      "text/plain": [
       "Epoch 123 [Train]:   0%|          | 0/855 [00:00<?, ?it/s]"
      ]
     },
     "metadata": {},
     "output_type": "display_data"
    },
    {
     "data": {
      "application/vnd.jupyter.widget-view+json": {
       "model_id": "",
       "version_major": 2,
       "version_minor": 0
      },
      "text/plain": [
       "Epoch 123 [Valid]:   0%|          | 0/96 [00:00<?, ?it/s]"
      ]
     },
     "metadata": {},
     "output_type": "display_data"
    },
    {
     "name": "stdout",
     "output_type": "stream",
     "text": [
      "Epoch 123/1000 - Train Loss: 0.0094 (MA: 0.0094), Val Loss: 0.0115 (MA: 0.0120), Duration: 0:02:56.444733\n",
      "  Train Loss MA improved to 0.009384 from 0.009419 (0.37% improvement).\n",
      "  Saved new best model (train loss MA) at epoch 123\n",
      "Epoch 123: Generating visualization samples...\n",
      "Saved visualization samples to C:\\Projects\\jetbot-diffusion-world-model-kong-finder-aux\\output_model_5hz_DIAMOND\\samples\\val_vis_epoch_0123_samples.png\n"
     ]
    },
    {
     "data": {
      "application/vnd.jupyter.widget-view+json": {
       "model_id": "",
       "version_major": 2,
       "version_minor": 0
      },
      "text/plain": [
       "Epoch 124 [Train]:   0%|          | 0/855 [00:00<?, ?it/s]"
      ]
     },
     "metadata": {},
     "output_type": "display_data"
    },
    {
     "data": {
      "application/vnd.jupyter.widget-view+json": {
       "model_id": "",
       "version_major": 2,
       "version_minor": 0
      },
      "text/plain": [
       "Epoch 124 [Valid]:   0%|          | 0/96 [00:00<?, ?it/s]"
      ]
     },
     "metadata": {},
     "output_type": "display_data"
    },
    {
     "name": "stdout",
     "output_type": "stream",
     "text": [
      "Epoch 124/1000 - Train Loss: 0.0095 (MA: 0.0094), Val Loss: 0.0151 (MA: 0.0128), Duration: 0:02:57.833279\n",
      "  No improvement in train loss MA for 1 epoch(s). Best MA: 0.009384, Current MA: 0.009387\n",
      "Epoch 124: Generating visualization samples...\n",
      "Saved visualization samples to C:\\Projects\\jetbot-diffusion-world-model-kong-finder-aux\\output_model_5hz_DIAMOND\\samples\\val_vis_epoch_0124_samples.png\n"
     ]
    },
    {
     "data": {
      "application/vnd.jupyter.widget-view+json": {
       "model_id": "",
       "version_major": 2,
       "version_minor": 0
      },
      "text/plain": [
       "Epoch 125 [Train]:   0%|          | 0/855 [00:00<?, ?it/s]"
      ]
     },
     "metadata": {},
     "output_type": "display_data"
    },
    {
     "data": {
      "application/vnd.jupyter.widget-view+json": {
       "model_id": "",
       "version_major": 2,
       "version_minor": 0
      },
      "text/plain": [
       "Epoch 125 [Valid]:   0%|          | 0/96 [00:00<?, ?it/s]"
      ]
     },
     "metadata": {},
     "output_type": "display_data"
    },
    {
     "name": "stdout",
     "output_type": "stream",
     "text": [
      "Epoch 125/1000 - Train Loss: 0.0095 (MA: 0.0094), Val Loss: 0.0117 (MA: 0.0125), Duration: 0:02:55.670444\n",
      "  No improvement in train loss MA for 2 epoch(s). Best MA: 0.009384, Current MA: 0.009410\n",
      "Epoch 125: Generating visualization samples...\n",
      "Saved visualization samples to C:\\Projects\\jetbot-diffusion-world-model-kong-finder-aux\\output_model_5hz_DIAMOND\\samples\\val_vis_epoch_0125_samples.png\n"
     ]
    },
    {
     "data": {
      "application/vnd.jupyter.widget-view+json": {
       "model_id": "",
       "version_major": 2,
       "version_minor": 0
      },
      "text/plain": [
       "Epoch 126 [Train]:   0%|          | 0/855 [00:00<?, ?it/s]"
      ]
     },
     "metadata": {},
     "output_type": "display_data"
    },
    {
     "data": {
      "application/vnd.jupyter.widget-view+json": {
       "model_id": "",
       "version_major": 2,
       "version_minor": 0
      },
      "text/plain": [
       "Epoch 126 [Valid]:   0%|          | 0/96 [00:00<?, ?it/s]"
      ]
     },
     "metadata": {},
     "output_type": "display_data"
    },
    {
     "name": "stdout",
     "output_type": "stream",
     "text": [
      "Epoch 126/1000 - Train Loss: 0.0093 (MA: 0.0094), Val Loss: 0.0114 (MA: 0.0125), Duration: 0:02:56.793127\n",
      "  No improvement in train loss MA for 3 epoch(s). Best MA: 0.009384, Current MA: 0.009387\n",
      "Epoch 126: Generating visualization samples...\n",
      "Saved visualization samples to C:\\Projects\\jetbot-diffusion-world-model-kong-finder-aux\\output_model_5hz_DIAMOND\\samples\\val_vis_epoch_0126_samples.png\n"
     ]
    },
    {
     "data": {
      "application/vnd.jupyter.widget-view+json": {
       "model_id": "",
       "version_major": 2,
       "version_minor": 0
      },
      "text/plain": [
       "Epoch 127 [Train]:   0%|          | 0/855 [00:00<?, ?it/s]"
      ]
     },
     "metadata": {},
     "output_type": "display_data"
    },
    {
     "data": {
      "application/vnd.jupyter.widget-view+json": {
       "model_id": "",
       "version_major": 2,
       "version_minor": 0
      },
      "text/plain": [
       "Epoch 127 [Valid]:   0%|          | 0/96 [00:00<?, ?it/s]"
      ]
     },
     "metadata": {},
     "output_type": "display_data"
    },
    {
     "name": "stdout",
     "output_type": "stream",
     "text": [
      "Epoch 127/1000 - Train Loss: 0.0092 (MA: 0.0094), Val Loss: 0.0126 (MA: 0.0125), Duration: 0:02:55.821117\n",
      "  Train Loss MA improved to 0.009361 from 0.009384 (0.25% improvement).\n",
      "  Saved new best model (train loss MA) at epoch 127\n",
      "Epoch 127: Generating visualization samples...\n",
      "Saved visualization samples to C:\\Projects\\jetbot-diffusion-world-model-kong-finder-aux\\output_model_5hz_DIAMOND\\samples\\val_vis_epoch_0127_samples.png\n"
     ]
    },
    {
     "data": {
      "application/vnd.jupyter.widget-view+json": {
       "model_id": "",
       "version_major": 2,
       "version_minor": 0
      },
      "text/plain": [
       "Epoch 128 [Train]:   0%|          | 0/855 [00:00<?, ?it/s]"
      ]
     },
     "metadata": {},
     "output_type": "display_data"
    },
    {
     "data": {
      "application/vnd.jupyter.widget-view+json": {
       "model_id": "",
       "version_major": 2,
       "version_minor": 0
      },
      "text/plain": [
       "Epoch 128 [Valid]:   0%|          | 0/96 [00:00<?, ?it/s]"
      ]
     },
     "metadata": {},
     "output_type": "display_data"
    },
    {
     "name": "stdout",
     "output_type": "stream",
     "text": [
      "Epoch 128/1000 - Train Loss: 0.0095 (MA: 0.0094), Val Loss: 0.0119 (MA: 0.0125), Duration: 0:02:55.743447\n",
      "  Train Loss MA improved to 0.009350 from 0.009361 (0.11% improvement).\n",
      "  Saved new best model (train loss MA) at epoch 128\n",
      "Epoch 128: Generating visualization samples...\n",
      "Saved visualization samples to C:\\Projects\\jetbot-diffusion-world-model-kong-finder-aux\\output_model_5hz_DIAMOND\\samples\\val_vis_epoch_0128_samples.png\n"
     ]
    },
    {
     "data": {
      "application/vnd.jupyter.widget-view+json": {
       "model_id": "",
       "version_major": 2,
       "version_minor": 0
      },
      "text/plain": [
       "Epoch 129 [Train]:   0%|          | 0/855 [00:00<?, ?it/s]"
      ]
     },
     "metadata": {},
     "output_type": "display_data"
    },
    {
     "data": {
      "application/vnd.jupyter.widget-view+json": {
       "model_id": "",
       "version_major": 2,
       "version_minor": 0
      },
      "text/plain": [
       "Epoch 129 [Valid]:   0%|          | 0/96 [00:00<?, ?it/s]"
      ]
     },
     "metadata": {},
     "output_type": "display_data"
    },
    {
     "name": "stdout",
     "output_type": "stream",
     "text": [
      "Epoch 129/1000 - Train Loss: 0.0088 (MA: 0.0093), Val Loss: 0.0129 (MA: 0.0121), Duration: 0:02:55.823099\n",
      "  Train Loss MA improved to 0.009298 from 0.009350 (0.55% improvement).\n",
      "  Saved new best model (train loss MA) at epoch 129\n",
      "Epoch 129: Generating visualization samples...\n",
      "Saved visualization samples to C:\\Projects\\jetbot-diffusion-world-model-kong-finder-aux\\output_model_5hz_DIAMOND\\samples\\val_vis_epoch_0129_samples.png\n"
     ]
    },
    {
     "data": {
      "application/vnd.jupyter.widget-view+json": {
       "model_id": "",
       "version_major": 2,
       "version_minor": 0
      },
      "text/plain": [
       "Epoch 130 [Train]:   0%|          | 0/855 [00:00<?, ?it/s]"
      ]
     },
     "metadata": {},
     "output_type": "display_data"
    },
    {
     "data": {
      "application/vnd.jupyter.widget-view+json": {
       "model_id": "",
       "version_major": 2,
       "version_minor": 0
      },
      "text/plain": [
       "Epoch 130 [Valid]:   0%|          | 0/96 [00:00<?, ?it/s]"
      ]
     },
     "metadata": {},
     "output_type": "display_data"
    },
    {
     "name": "stdout",
     "output_type": "stream",
     "text": [
      "Epoch 130/1000 - Train Loss: 0.0092 (MA: 0.0092), Val Loss: 0.0127 (MA: 0.0123), Duration: 0:02:55.714973\n",
      "  Train Loss MA improved to 0.009227 from 0.009298 (0.77% improvement).\n",
      "  Saved new best model (train loss MA) at epoch 130\n",
      "Epoch 130: Generating visualization samples...\n",
      "Saved visualization samples to C:\\Projects\\jetbot-diffusion-world-model-kong-finder-aux\\output_model_5hz_DIAMOND\\samples\\val_vis_epoch_0130_samples.png\n",
      "Saved loss plot up to epoch 130\n"
     ]
    },
    {
     "data": {
      "application/vnd.jupyter.widget-view+json": {
       "model_id": "",
       "version_major": 2,
       "version_minor": 0
      },
      "text/plain": [
       "Epoch 131 [Train]:   0%|          | 0/855 [00:00<?, ?it/s]"
      ]
     },
     "metadata": {},
     "output_type": "display_data"
    },
    {
     "data": {
      "application/vnd.jupyter.widget-view+json": {
       "model_id": "",
       "version_major": 2,
       "version_minor": 0
      },
      "text/plain": [
       "Epoch 131 [Valid]:   0%|          | 0/96 [00:00<?, ?it/s]"
      ]
     },
     "metadata": {},
     "output_type": "display_data"
    },
    {
     "name": "stdout",
     "output_type": "stream",
     "text": [
      "Epoch 131/1000 - Train Loss: 0.0090 (MA: 0.0092), Val Loss: 0.0134 (MA: 0.0127), Duration: 0:02:55.828125\n",
      "  No improvement in train loss MA for 1 epoch(s). Best MA: 0.009227, Current MA: 0.009246\n",
      "Epoch 131: Generating visualization samples...\n",
      "Saved visualization samples to C:\\Projects\\jetbot-diffusion-world-model-kong-finder-aux\\output_model_5hz_DIAMOND\\samples\\val_vis_epoch_0131_samples.png\n"
     ]
    },
    {
     "data": {
      "application/vnd.jupyter.widget-view+json": {
       "model_id": "",
       "version_major": 2,
       "version_minor": 0
      },
      "text/plain": [
       "Epoch 132 [Train]:   0%|          | 0/855 [00:00<?, ?it/s]"
      ]
     },
     "metadata": {},
     "output_type": "display_data"
    },
    {
     "data": {
      "application/vnd.jupyter.widget-view+json": {
       "model_id": "",
       "version_major": 2,
       "version_minor": 0
      },
      "text/plain": [
       "Epoch 132 [Valid]:   0%|          | 0/96 [00:00<?, ?it/s]"
      ]
     },
     "metadata": {},
     "output_type": "display_data"
    },
    {
     "name": "stdout",
     "output_type": "stream",
     "text": [
      "Epoch 132/1000 - Train Loss: 0.0089 (MA: 0.0092), Val Loss: 0.0114 (MA: 0.0125), Duration: 0:02:55.820090\n",
      "  No improvement in train loss MA for 2 epoch(s). Best MA: 0.009227, Current MA: 0.009232\n",
      "Epoch 132: Generating visualization samples...\n",
      "Saved visualization samples to C:\\Projects\\jetbot-diffusion-world-model-kong-finder-aux\\output_model_5hz_DIAMOND\\samples\\val_vis_epoch_0132_samples.png\n"
     ]
    },
    {
     "data": {
      "application/vnd.jupyter.widget-view+json": {
       "model_id": "",
       "version_major": 2,
       "version_minor": 0
      },
      "text/plain": [
       "Epoch 133 [Train]:   0%|          | 0/855 [00:00<?, ?it/s]"
      ]
     },
     "metadata": {},
     "output_type": "display_data"
    },
    {
     "data": {
      "application/vnd.jupyter.widget-view+json": {
       "model_id": "",
       "version_major": 2,
       "version_minor": 0
      },
      "text/plain": [
       "Epoch 133 [Valid]:   0%|          | 0/96 [00:00<?, ?it/s]"
      ]
     },
     "metadata": {},
     "output_type": "display_data"
    },
    {
     "name": "stdout",
     "output_type": "stream",
     "text": [
      "Epoch 133/1000 - Train Loss: 0.0089 (MA: 0.0092), Val Loss: 0.0121 (MA: 0.0125), Duration: 0:02:55.696825\n",
      "  Train Loss MA improved to 0.009176 from 0.009227 (0.56% improvement).\n",
      "  Saved new best model (train loss MA) at epoch 133\n",
      "Epoch 133: Generating visualization samples...\n",
      "Saved visualization samples to C:\\Projects\\jetbot-diffusion-world-model-kong-finder-aux\\output_model_5hz_DIAMOND\\samples\\val_vis_epoch_0133_samples.png\n"
     ]
    },
    {
     "data": {
      "application/vnd.jupyter.widget-view+json": {
       "model_id": "",
       "version_major": 2,
       "version_minor": 0
      },
      "text/plain": [
       "Epoch 134 [Train]:   0%|          | 0/855 [00:00<?, ?it/s]"
      ]
     },
     "metadata": {},
     "output_type": "display_data"
    },
    {
     "data": {
      "application/vnd.jupyter.widget-view+json": {
       "model_id": "",
       "version_major": 2,
       "version_minor": 0
      },
      "text/plain": [
       "Epoch 134 [Valid]:   0%|          | 0/96 [00:00<?, ?it/s]"
      ]
     },
     "metadata": {},
     "output_type": "display_data"
    },
    {
     "name": "stdout",
     "output_type": "stream",
     "text": [
      "Epoch 134/1000 - Train Loss: 0.0089 (MA: 0.0091), Val Loss: 0.0152 (MA: 0.0130), Duration: 0:02:55.739095\n",
      "  Train Loss MA improved to 0.009111 from 0.009176 (0.70% improvement).\n",
      "  Saved new best model (train loss MA) at epoch 134\n",
      "Epoch 134: Generating visualization samples...\n",
      "Saved visualization samples to C:\\Projects\\jetbot-diffusion-world-model-kong-finder-aux\\output_model_5hz_DIAMOND\\samples\\val_vis_epoch_0134_samples.png\n"
     ]
    },
    {
     "data": {
      "application/vnd.jupyter.widget-view+json": {
       "model_id": "",
       "version_major": 2,
       "version_minor": 0
      },
      "text/plain": [
       "Epoch 135 [Train]:   0%|          | 0/855 [00:00<?, ?it/s]"
      ]
     },
     "metadata": {},
     "output_type": "display_data"
    },
    {
     "data": {
      "application/vnd.jupyter.widget-view+json": {
       "model_id": "",
       "version_major": 2,
       "version_minor": 0
      },
      "text/plain": [
       "Epoch 135 [Valid]:   0%|          | 0/96 [00:00<?, ?it/s]"
      ]
     },
     "metadata": {},
     "output_type": "display_data"
    },
    {
     "name": "stdout",
     "output_type": "stream",
     "text": [
      "Epoch 135/1000 - Train Loss: 0.0086 (MA: 0.0090), Val Loss: 0.0129 (MA: 0.0130), Duration: 0:02:55.721100\n",
      "  Train Loss MA improved to 0.009017 from 0.009111 (1.04% improvement).\n",
      "  Saved new best model (train loss MA) at epoch 135\n",
      "Epoch 135: Generating visualization samples...\n",
      "Saved visualization samples to C:\\Projects\\jetbot-diffusion-world-model-kong-finder-aux\\output_model_5hz_DIAMOND\\samples\\val_vis_epoch_0135_samples.png\n"
     ]
    },
    {
     "data": {
      "application/vnd.jupyter.widget-view+json": {
       "model_id": "",
       "version_major": 2,
       "version_minor": 0
      },
      "text/plain": [
       "Epoch 136 [Train]:   0%|          | 0/855 [00:00<?, ?it/s]"
      ]
     },
     "metadata": {},
     "output_type": "display_data"
    },
    {
     "data": {
      "application/vnd.jupyter.widget-view+json": {
       "model_id": "",
       "version_major": 2,
       "version_minor": 0
      },
      "text/plain": [
       "Epoch 136 [Valid]:   0%|          | 0/96 [00:00<?, ?it/s]"
      ]
     },
     "metadata": {},
     "output_type": "display_data"
    },
    {
     "name": "stdout",
     "output_type": "stream",
     "text": [
      "Epoch 136/1000 - Train Loss: 0.0086 (MA: 0.0090), Val Loss: 0.0115 (MA: 0.0126), Duration: 0:02:55.907060\n",
      "  Train Loss MA improved to 0.008952 from 0.009017 (0.72% improvement).\n",
      "  Saved new best model (train loss MA) at epoch 136\n",
      "Epoch 136: Generating visualization samples...\n",
      "Saved visualization samples to C:\\Projects\\jetbot-diffusion-world-model-kong-finder-aux\\output_model_5hz_DIAMOND\\samples\\val_vis_epoch_0136_samples.png\n"
     ]
    },
    {
     "data": {
      "application/vnd.jupyter.widget-view+json": {
       "model_id": "",
       "version_major": 2,
       "version_minor": 0
      },
      "text/plain": [
       "Epoch 137 [Train]:   0%|          | 0/855 [00:00<?, ?it/s]"
      ]
     },
     "metadata": {},
     "output_type": "display_data"
    },
    {
     "data": {
      "application/vnd.jupyter.widget-view+json": {
       "model_id": "",
       "version_major": 2,
       "version_minor": 0
      },
      "text/plain": [
       "Epoch 137 [Valid]:   0%|          | 0/96 [00:00<?, ?it/s]"
      ]
     },
     "metadata": {},
     "output_type": "display_data"
    },
    {
     "name": "stdout",
     "output_type": "stream",
     "text": [
      "Epoch 137/1000 - Train Loss: 0.0089 (MA: 0.0089), Val Loss: 0.0109 (MA: 0.0125), Duration: 0:02:55.533075\n",
      "  Train Loss MA improved to 0.008927 from 0.008952 (0.28% improvement).\n",
      "  Saved new best model (train loss MA) at epoch 137\n",
      "Epoch 137: Generating visualization samples...\n",
      "Saved visualization samples to C:\\Projects\\jetbot-diffusion-world-model-kong-finder-aux\\output_model_5hz_DIAMOND\\samples\\val_vis_epoch_0137_samples.png\n"
     ]
    },
    {
     "data": {
      "application/vnd.jupyter.widget-view+json": {
       "model_id": "",
       "version_major": 2,
       "version_minor": 0
      },
      "text/plain": [
       "Epoch 138 [Train]:   0%|          | 0/855 [00:00<?, ?it/s]"
      ]
     },
     "metadata": {},
     "output_type": "display_data"
    },
    {
     "data": {
      "application/vnd.jupyter.widget-view+json": {
       "model_id": "",
       "version_major": 2,
       "version_minor": 0
      },
      "text/plain": [
       "Epoch 138 [Valid]:   0%|          | 0/96 [00:00<?, ?it/s]"
      ]
     },
     "metadata": {},
     "output_type": "display_data"
    },
    {
     "name": "stdout",
     "output_type": "stream",
     "text": [
      "Epoch 138/1000 - Train Loss: 0.0085 (MA: 0.0088), Val Loss: 0.0121 (MA: 0.0125), Duration: 0:02:55.838840\n",
      "  Train Loss MA improved to 0.008826 from 0.008927 (1.12% improvement).\n",
      "  Saved new best model (train loss MA) at epoch 138\n",
      "Epoch 138: Generating visualization samples...\n",
      "Saved visualization samples to C:\\Projects\\jetbot-diffusion-world-model-kong-finder-aux\\output_model_5hz_DIAMOND\\samples\\val_vis_epoch_0138_samples.png\n"
     ]
    },
    {
     "data": {
      "application/vnd.jupyter.widget-view+json": {
       "model_id": "",
       "version_major": 2,
       "version_minor": 0
      },
      "text/plain": [
       "Epoch 139 [Train]:   0%|          | 0/855 [00:00<?, ?it/s]"
      ]
     },
     "metadata": {},
     "output_type": "display_data"
    },
    {
     "data": {
      "application/vnd.jupyter.widget-view+json": {
       "model_id": "",
       "version_major": 2,
       "version_minor": 0
      },
      "text/plain": [
       "Epoch 139 [Valid]:   0%|          | 0/96 [00:00<?, ?it/s]"
      ]
     },
     "metadata": {},
     "output_type": "display_data"
    },
    {
     "name": "stdout",
     "output_type": "stream",
     "text": [
      "Epoch 139/1000 - Train Loss: 0.0089 (MA: 0.0088), Val Loss: 0.0121 (MA: 0.0119), Duration: 0:02:55.857083\n",
      "  No improvement in train loss MA for 1 epoch(s). Best MA: 0.008826, Current MA: 0.008840\n",
      "Epoch 139: Generating visualization samples...\n",
      "Saved visualization samples to C:\\Projects\\jetbot-diffusion-world-model-kong-finder-aux\\output_model_5hz_DIAMOND\\samples\\val_vis_epoch_0139_samples.png\n"
     ]
    },
    {
     "data": {
      "application/vnd.jupyter.widget-view+json": {
       "model_id": "",
       "version_major": 2,
       "version_minor": 0
      },
      "text/plain": [
       "Epoch 140 [Train]:   0%|          | 0/855 [00:00<?, ?it/s]"
      ]
     },
     "metadata": {},
     "output_type": "display_data"
    },
    {
     "data": {
      "application/vnd.jupyter.widget-view+json": {
       "model_id": "",
       "version_major": 2,
       "version_minor": 0
      },
      "text/plain": [
       "Epoch 140 [Valid]:   0%|          | 0/96 [00:00<?, ?it/s]"
      ]
     },
     "metadata": {},
     "output_type": "display_data"
    },
    {
     "name": "stdout",
     "output_type": "stream",
     "text": [
      "Epoch 140/1000 - Train Loss: 0.0087 (MA: 0.0088), Val Loss: 0.0124 (MA: 0.0118), Duration: 0:02:55.981081\n",
      "  Train Loss MA improved to 0.008793 from 0.008826 (0.38% improvement).\n",
      "  Saved new best model (train loss MA) at epoch 140\n",
      "Epoch 140: Generating visualization samples...\n",
      "Saved visualization samples to C:\\Projects\\jetbot-diffusion-world-model-kong-finder-aux\\output_model_5hz_DIAMOND\\samples\\val_vis_epoch_0140_samples.png\n",
      "Saved loss plot up to epoch 140\n"
     ]
    },
    {
     "data": {
      "application/vnd.jupyter.widget-view+json": {
       "model_id": "",
       "version_major": 2,
       "version_minor": 0
      },
      "text/plain": [
       "Epoch 141 [Train]:   0%|          | 0/855 [00:00<?, ?it/s]"
      ]
     },
     "metadata": {},
     "output_type": "display_data"
    },
    {
     "data": {
      "application/vnd.jupyter.widget-view+json": {
       "model_id": "",
       "version_major": 2,
       "version_minor": 0
      },
      "text/plain": [
       "Epoch 141 [Valid]:   0%|          | 0/96 [00:00<?, ?it/s]"
      ]
     },
     "metadata": {},
     "output_type": "display_data"
    },
    {
     "name": "stdout",
     "output_type": "stream",
     "text": [
      "Epoch 141/1000 - Train Loss: 0.0085 (MA: 0.0087), Val Loss: 0.0138 (MA: 0.0123), Duration: 0:02:55.994055\n",
      "  Train Loss MA improved to 0.008735 from 0.008793 (0.66% improvement).\n",
      "  Saved new best model (train loss MA) at epoch 141\n",
      "Epoch 141: Generating visualization samples...\n",
      "Saved visualization samples to C:\\Projects\\jetbot-diffusion-world-model-kong-finder-aux\\output_model_5hz_DIAMOND\\samples\\val_vis_epoch_0141_samples.png\n"
     ]
    },
    {
     "data": {
      "application/vnd.jupyter.widget-view+json": {
       "model_id": "",
       "version_major": 2,
       "version_minor": 0
      },
      "text/plain": [
       "Epoch 142 [Train]:   0%|          | 0/855 [00:00<?, ?it/s]"
      ]
     },
     "metadata": {},
     "output_type": "display_data"
    },
    {
     "data": {
      "application/vnd.jupyter.widget-view+json": {
       "model_id": "",
       "version_major": 2,
       "version_minor": 0
      },
      "text/plain": [
       "Epoch 142 [Valid]:   0%|          | 0/96 [00:00<?, ?it/s]"
      ]
     },
     "metadata": {},
     "output_type": "display_data"
    },
    {
     "name": "stdout",
     "output_type": "stream",
     "text": [
      "Epoch 142/1000 - Train Loss: 0.0089 (MA: 0.0087), Val Loss: 0.0113 (MA: 0.0123), Duration: 0:02:56.626072\n",
      "  Train Loss MA improved to 0.008729 from 0.008735 (0.06% improvement).\n",
      "  Saved new best model (train loss MA) at epoch 142\n",
      "Epoch 142: Generating visualization samples...\n",
      "Saved visualization samples to C:\\Projects\\jetbot-diffusion-world-model-kong-finder-aux\\output_model_5hz_DIAMOND\\samples\\val_vis_epoch_0142_samples.png\n"
     ]
    },
    {
     "data": {
      "application/vnd.jupyter.widget-view+json": {
       "model_id": "",
       "version_major": 2,
       "version_minor": 0
      },
      "text/plain": [
       "Epoch 143 [Train]:   0%|          | 0/855 [00:00<?, ?it/s]"
      ]
     },
     "metadata": {},
     "output_type": "display_data"
    },
    {
     "data": {
      "application/vnd.jupyter.widget-view+json": {
       "model_id": "",
       "version_major": 2,
       "version_minor": 0
      },
      "text/plain": [
       "Epoch 143 [Valid]:   0%|          | 0/96 [00:00<?, ?it/s]"
      ]
     },
     "metadata": {},
     "output_type": "display_data"
    },
    {
     "name": "stdout",
     "output_type": "stream",
     "text": [
      "Epoch 143/1000 - Train Loss: 0.0083 (MA: 0.0087), Val Loss: 0.0116 (MA: 0.0122), Duration: 0:02:55.860857\n",
      "  Train Loss MA improved to 0.008675 from 0.008729 (0.62% improvement).\n",
      "  Saved new best model (train loss MA) at epoch 143\n",
      "Epoch 143: Generating visualization samples...\n",
      "Saved visualization samples to C:\\Projects\\jetbot-diffusion-world-model-kong-finder-aux\\output_model_5hz_DIAMOND\\samples\\val_vis_epoch_0143_samples.png\n"
     ]
    },
    {
     "data": {
      "application/vnd.jupyter.widget-view+json": {
       "model_id": "",
       "version_major": 2,
       "version_minor": 0
      },
      "text/plain": [
       "Epoch 144 [Train]:   0%|          | 0/855 [00:00<?, ?it/s]"
      ]
     },
     "metadata": {},
     "output_type": "display_data"
    },
    {
     "data": {
      "application/vnd.jupyter.widget-view+json": {
       "model_id": "",
       "version_major": 2,
       "version_minor": 0
      },
      "text/plain": [
       "Epoch 144 [Valid]:   0%|          | 0/96 [00:00<?, ?it/s]"
      ]
     },
     "metadata": {},
     "output_type": "display_data"
    },
    {
     "name": "stdout",
     "output_type": "stream",
     "text": [
      "Epoch 144/1000 - Train Loss: 0.0090 (MA: 0.0087), Val Loss: 0.0126 (MA: 0.0123), Duration: 0:02:55.693053\n",
      "  No improvement in train loss MA for 1 epoch(s). Best MA: 0.008675, Current MA: 0.008687\n",
      "Epoch 144: Generating visualization samples...\n",
      "Saved visualization samples to C:\\Projects\\jetbot-diffusion-world-model-kong-finder-aux\\output_model_5hz_DIAMOND\\samples\\val_vis_epoch_0144_samples.png\n"
     ]
    },
    {
     "data": {
      "application/vnd.jupyter.widget-view+json": {
       "model_id": "",
       "version_major": 2,
       "version_minor": 0
      },
      "text/plain": [
       "Epoch 145 [Train]:   0%|          | 0/855 [00:00<?, ?it/s]"
      ]
     },
     "metadata": {},
     "output_type": "display_data"
    },
    {
     "data": {
      "application/vnd.jupyter.widget-view+json": {
       "model_id": "",
       "version_major": 2,
       "version_minor": 0
      },
      "text/plain": [
       "Epoch 145 [Valid]:   0%|          | 0/96 [00:00<?, ?it/s]"
      ]
     },
     "metadata": {},
     "output_type": "display_data"
    },
    {
     "name": "stdout",
     "output_type": "stream",
     "text": [
      "Epoch 145/1000 - Train Loss: 0.0086 (MA: 0.0087), Val Loss: 0.0120 (MA: 0.0123), Duration: 0:02:55.897088\n",
      "  No improvement in train loss MA for 2 epoch(s). Best MA: 0.008675, Current MA: 0.008688\n",
      "Epoch 145: Generating visualization samples...\n",
      "Saved visualization samples to C:\\Projects\\jetbot-diffusion-world-model-kong-finder-aux\\output_model_5hz_DIAMOND\\samples\\val_vis_epoch_0145_samples.png\n"
     ]
    },
    {
     "data": {
      "application/vnd.jupyter.widget-view+json": {
       "model_id": "",
       "version_major": 2,
       "version_minor": 0
      },
      "text/plain": [
       "Epoch 146 [Train]:   0%|          | 0/855 [00:00<?, ?it/s]"
      ]
     },
     "metadata": {},
     "output_type": "display_data"
    },
    {
     "data": {
      "application/vnd.jupyter.widget-view+json": {
       "model_id": "",
       "version_major": 2,
       "version_minor": 0
      },
      "text/plain": [
       "Epoch 146 [Valid]:   0%|          | 0/96 [00:00<?, ?it/s]"
      ]
     },
     "metadata": {},
     "output_type": "display_data"
    },
    {
     "name": "stdout",
     "output_type": "stream",
     "text": [
      "Epoch 146/1000 - Train Loss: 0.0080 (MA: 0.0086), Val Loss: 0.0118 (MA: 0.0119), Duration: 0:02:55.951045\n",
      "  Train Loss MA improved to 0.008629 from 0.008675 (0.53% improvement).\n",
      "  Saved new best model (train loss MA) at epoch 146\n",
      "Epoch 146: Generating visualization samples...\n",
      "Saved visualization samples to C:\\Projects\\jetbot-diffusion-world-model-kong-finder-aux\\output_model_5hz_DIAMOND\\samples\\val_vis_epoch_0146_samples.png\n"
     ]
    },
    {
     "data": {
      "application/vnd.jupyter.widget-view+json": {
       "model_id": "",
       "version_major": 2,
       "version_minor": 0
      },
      "text/plain": [
       "Epoch 147 [Train]:   0%|          | 0/855 [00:00<?, ?it/s]"
      ]
     },
     "metadata": {},
     "output_type": "display_data"
    },
    {
     "data": {
      "application/vnd.jupyter.widget-view+json": {
       "model_id": "",
       "version_major": 2,
       "version_minor": 0
      },
      "text/plain": [
       "Epoch 147 [Valid]:   0%|          | 0/96 [00:00<?, ?it/s]"
      ]
     },
     "metadata": {},
     "output_type": "display_data"
    },
    {
     "name": "stdout",
     "output_type": "stream",
     "text": [
      "Epoch 147/1000 - Train Loss: 0.0087 (MA: 0.0086), Val Loss: 0.0112 (MA: 0.0118), Duration: 0:02:56.092033\n",
      "  Train Loss MA improved to 0.008611 from 0.008629 (0.21% improvement).\n",
      "  Saved new best model (train loss MA) at epoch 147\n",
      "Epoch 147: Generating visualization samples...\n",
      "Saved visualization samples to C:\\Projects\\jetbot-diffusion-world-model-kong-finder-aux\\output_model_5hz_DIAMOND\\samples\\val_vis_epoch_0147_samples.png\n"
     ]
    },
    {
     "data": {
      "application/vnd.jupyter.widget-view+json": {
       "model_id": "",
       "version_major": 2,
       "version_minor": 0
      },
      "text/plain": [
       "Epoch 148 [Train]:   0%|          | 0/855 [00:00<?, ?it/s]"
      ]
     },
     "metadata": {},
     "output_type": "display_data"
    },
    {
     "data": {
      "application/vnd.jupyter.widget-view+json": {
       "model_id": "",
       "version_major": 2,
       "version_minor": 0
      },
      "text/plain": [
       "Epoch 148 [Valid]:   0%|          | 0/96 [00:00<?, ?it/s]"
      ]
     },
     "metadata": {},
     "output_type": "display_data"
    },
    {
     "name": "stdout",
     "output_type": "stream",
     "text": [
      "Epoch 148/1000 - Train Loss: 0.0084 (MA: 0.0086), Val Loss: 0.0140 (MA: 0.0123), Duration: 0:02:55.972078\n",
      "  Train Loss MA improved to 0.008601 from 0.008611 (0.12% improvement).\n",
      "  Saved new best model (train loss MA) at epoch 148\n",
      "Epoch 148: Generating visualization samples...\n",
      "Saved visualization samples to C:\\Projects\\jetbot-diffusion-world-model-kong-finder-aux\\output_model_5hz_DIAMOND\\samples\\val_vis_epoch_0148_samples.png\n"
     ]
    },
    {
     "data": {
      "application/vnd.jupyter.widget-view+json": {
       "model_id": "",
       "version_major": 2,
       "version_minor": 0
      },
      "text/plain": [
       "Epoch 149 [Train]:   0%|          | 0/855 [00:00<?, ?it/s]"
      ]
     },
     "metadata": {},
     "output_type": "display_data"
    },
    {
     "data": {
      "application/vnd.jupyter.widget-view+json": {
       "model_id": "",
       "version_major": 2,
       "version_minor": 0
      },
      "text/plain": [
       "Epoch 149 [Valid]:   0%|          | 0/96 [00:00<?, ?it/s]"
      ]
     },
     "metadata": {},
     "output_type": "display_data"
    },
    {
     "name": "stdout",
     "output_type": "stream",
     "text": [
      "Epoch 149/1000 - Train Loss: 0.0084 (MA: 0.0085), Val Loss: 0.0119 (MA: 0.0122), Duration: 0:02:55.804572\n",
      "  Train Loss MA improved to 0.008546 from 0.008601 (0.64% improvement).\n",
      "  Saved new best model (train loss MA) at epoch 149\n",
      "Epoch 149: Generating visualization samples...\n",
      "Saved visualization samples to C:\\Projects\\jetbot-diffusion-world-model-kong-finder-aux\\output_model_5hz_DIAMOND\\samples\\val_vis_epoch_0149_samples.png\n"
     ]
    },
    {
     "data": {
      "application/vnd.jupyter.widget-view+json": {
       "model_id": "",
       "version_major": 2,
       "version_minor": 0
      },
      "text/plain": [
       "Epoch 150 [Train]:   0%|          | 0/855 [00:00<?, ?it/s]"
      ]
     },
     "metadata": {},
     "output_type": "display_data"
    },
    {
     "data": {
      "application/vnd.jupyter.widget-view+json": {
       "model_id": "",
       "version_major": 2,
       "version_minor": 0
      },
      "text/plain": [
       "Epoch 150 [Valid]:   0%|          | 0/96 [00:00<?, ?it/s]"
      ]
     },
     "metadata": {},
     "output_type": "display_data"
    },
    {
     "name": "stdout",
     "output_type": "stream",
     "text": [
      "Epoch 150/1000 - Train Loss: 0.0083 (MA: 0.0085), Val Loss: 0.0114 (MA: 0.0121), Duration: 0:02:56.017047\n",
      "  Train Loss MA improved to 0.008510 from 0.008546 (0.42% improvement).\n",
      "  Saved new best model (train loss MA) at epoch 150\n",
      "Epoch 150: Generating visualization samples...\n",
      "Saved visualization samples to C:\\Projects\\jetbot-diffusion-world-model-kong-finder-aux\\output_model_5hz_DIAMOND\\samples\\val_vis_epoch_0150_samples.png\n",
      "Saved loss plot up to epoch 150\n"
     ]
    },
    {
     "data": {
      "application/vnd.jupyter.widget-view+json": {
       "model_id": "",
       "version_major": 2,
       "version_minor": 0
      },
      "text/plain": [
       "Epoch 151 [Train]:   0%|          | 0/855 [00:00<?, ?it/s]"
      ]
     },
     "metadata": {},
     "output_type": "display_data"
    },
    {
     "data": {
      "application/vnd.jupyter.widget-view+json": {
       "model_id": "",
       "version_major": 2,
       "version_minor": 0
      },
      "text/plain": [
       "Epoch 151 [Valid]:   0%|          | 0/96 [00:00<?, ?it/s]"
      ]
     },
     "metadata": {},
     "output_type": "display_data"
    },
    {
     "name": "stdout",
     "output_type": "stream",
     "text": [
      "Epoch 151/1000 - Train Loss: 0.0080 (MA: 0.0085), Val Loss: 0.0112 (MA: 0.0119), Duration: 0:02:55.916486\n",
      "  Train Loss MA improved to 0.008461 from 0.008510 (0.58% improvement).\n",
      "  Saved new best model (train loss MA) at epoch 151\n",
      "Epoch 151: Generating visualization samples...\n",
      "Saved visualization samples to C:\\Projects\\jetbot-diffusion-world-model-kong-finder-aux\\output_model_5hz_DIAMOND\\samples\\val_vis_epoch_0151_samples.png\n"
     ]
    },
    {
     "data": {
      "application/vnd.jupyter.widget-view+json": {
       "model_id": "",
       "version_major": 2,
       "version_minor": 0
      },
      "text/plain": [
       "Epoch 152 [Train]:   0%|          | 0/855 [00:00<?, ?it/s]"
      ]
     },
     "metadata": {},
     "output_type": "display_data"
    },
    {
     "data": {
      "application/vnd.jupyter.widget-view+json": {
       "model_id": "",
       "version_major": 2,
       "version_minor": 0
      },
      "text/plain": [
       "Epoch 152 [Valid]:   0%|          | 0/96 [00:00<?, ?it/s]"
      ]
     },
     "metadata": {},
     "output_type": "display_data"
    },
    {
     "name": "stdout",
     "output_type": "stream",
     "text": [
      "Epoch 152/1000 - Train Loss: 0.0082 (MA: 0.0084), Val Loss: 0.0125 (MA: 0.0122), Duration: 0:02:56.073289\n",
      "  Train Loss MA improved to 0.008392 from 0.008461 (0.82% improvement).\n",
      "  Saved new best model (train loss MA) at epoch 152\n",
      "Epoch 152: Generating visualization samples...\n",
      "Saved visualization samples to C:\\Projects\\jetbot-diffusion-world-model-kong-finder-aux\\output_model_5hz_DIAMOND\\samples\\val_vis_epoch_0152_samples.png\n"
     ]
    },
    {
     "data": {
      "application/vnd.jupyter.widget-view+json": {
       "model_id": "",
       "version_major": 2,
       "version_minor": 0
      },
      "text/plain": [
       "Epoch 153 [Train]:   0%|          | 0/855 [00:00<?, ?it/s]"
      ]
     },
     "metadata": {},
     "output_type": "display_data"
    },
    {
     "data": {
      "application/vnd.jupyter.widget-view+json": {
       "model_id": "",
       "version_major": 2,
       "version_minor": 0
      },
      "text/plain": [
       "Epoch 153 [Valid]:   0%|          | 0/96 [00:00<?, ?it/s]"
      ]
     },
     "metadata": {},
     "output_type": "display_data"
    },
    {
     "name": "stdout",
     "output_type": "stream",
     "text": [
      "Epoch 153/1000 - Train Loss: 0.0084 (MA: 0.0084), Val Loss: 0.0115 (MA: 0.0117), Duration: 0:02:56.730053\n",
      "  No improvement in train loss MA for 1 epoch(s). Best MA: 0.008392, Current MA: 0.008396\n",
      "Epoch 153: Generating visualization samples...\n",
      "Saved visualization samples to C:\\Projects\\jetbot-diffusion-world-model-kong-finder-aux\\output_model_5hz_DIAMOND\\samples\\val_vis_epoch_0153_samples.png\n"
     ]
    },
    {
     "data": {
      "application/vnd.jupyter.widget-view+json": {
       "model_id": "",
       "version_major": 2,
       "version_minor": 0
      },
      "text/plain": [
       "Epoch 154 [Train]:   0%|          | 0/855 [00:00<?, ?it/s]"
      ]
     },
     "metadata": {},
     "output_type": "display_data"
    },
    {
     "data": {
      "application/vnd.jupyter.widget-view+json": {
       "model_id": "",
       "version_major": 2,
       "version_minor": 0
      },
      "text/plain": [
       "Epoch 154 [Valid]:   0%|          | 0/96 [00:00<?, ?it/s]"
      ]
     },
     "metadata": {},
     "output_type": "display_data"
    },
    {
     "name": "stdout",
     "output_type": "stream",
     "text": [
      "Epoch 154/1000 - Train Loss: 0.0082 (MA: 0.0083), Val Loss: 0.0125 (MA: 0.0118), Duration: 0:02:55.934709\n",
      "  Train Loss MA improved to 0.008321 from 0.008392 (0.85% improvement).\n",
      "  Saved new best model (train loss MA) at epoch 154\n",
      "Epoch 154: Generating visualization samples...\n",
      "Saved visualization samples to C:\\Projects\\jetbot-diffusion-world-model-kong-finder-aux\\output_model_5hz_DIAMOND\\samples\\val_vis_epoch_0154_samples.png\n"
     ]
    },
    {
     "data": {
      "application/vnd.jupyter.widget-view+json": {
       "model_id": "",
       "version_major": 2,
       "version_minor": 0
      },
      "text/plain": [
       "Epoch 155 [Train]:   0%|          | 0/855 [00:00<?, ?it/s]"
      ]
     },
     "metadata": {},
     "output_type": "display_data"
    },
    {
     "data": {
      "application/vnd.jupyter.widget-view+json": {
       "model_id": "",
       "version_major": 2,
       "version_minor": 0
      },
      "text/plain": [
       "Epoch 155 [Valid]:   0%|          | 0/96 [00:00<?, ?it/s]"
      ]
     },
     "metadata": {},
     "output_type": "display_data"
    },
    {
     "name": "stdout",
     "output_type": "stream",
     "text": [
      "Epoch 155/1000 - Train Loss: 0.0080 (MA: 0.0083), Val Loss: 0.0133 (MA: 0.0122), Duration: 0:02:55.969541\n",
      "  Train Loss MA improved to 0.008265 from 0.008321 (0.67% improvement).\n",
      "  Saved new best model (train loss MA) at epoch 155\n",
      "Epoch 155: Generating visualization samples...\n",
      "Saved visualization samples to C:\\Projects\\jetbot-diffusion-world-model-kong-finder-aux\\output_model_5hz_DIAMOND\\samples\\val_vis_epoch_0155_samples.png\n"
     ]
    },
    {
     "data": {
      "application/vnd.jupyter.widget-view+json": {
       "model_id": "",
       "version_major": 2,
       "version_minor": 0
      },
      "text/plain": [
       "Epoch 156 [Train]:   0%|          | 0/855 [00:00<?, ?it/s]"
      ]
     },
     "metadata": {},
     "output_type": "display_data"
    },
    {
     "data": {
      "application/vnd.jupyter.widget-view+json": {
       "model_id": "",
       "version_major": 2,
       "version_minor": 0
      },
      "text/plain": [
       "Epoch 156 [Valid]:   0%|          | 0/96 [00:00<?, ?it/s]"
      ]
     },
     "metadata": {},
     "output_type": "display_data"
    },
    {
     "name": "stdout",
     "output_type": "stream",
     "text": [
      "Epoch 156/1000 - Train Loss: 0.0084 (MA: 0.0083), Val Loss: 0.0120 (MA: 0.0124), Duration: 0:02:55.980850\n",
      "  No improvement in train loss MA for 1 epoch(s). Best MA: 0.008265, Current MA: 0.008302\n",
      "Epoch 156: Generating visualization samples...\n",
      "Saved visualization samples to C:\\Projects\\jetbot-diffusion-world-model-kong-finder-aux\\output_model_5hz_DIAMOND\\samples\\val_vis_epoch_0156_samples.png\n"
     ]
    },
    {
     "data": {
      "application/vnd.jupyter.widget-view+json": {
       "model_id": "",
       "version_major": 2,
       "version_minor": 0
      },
      "text/plain": [
       "Epoch 157 [Train]:   0%|          | 0/855 [00:00<?, ?it/s]"
      ]
     },
     "metadata": {},
     "output_type": "display_data"
    },
    {
     "data": {
      "application/vnd.jupyter.widget-view+json": {
       "model_id": "",
       "version_major": 2,
       "version_minor": 0
      },
      "text/plain": [
       "Epoch 157 [Valid]:   0%|          | 0/96 [00:00<?, ?it/s]"
      ]
     },
     "metadata": {},
     "output_type": "display_data"
    },
    {
     "name": "stdout",
     "output_type": "stream",
     "text": [
      "Epoch 157/1000 - Train Loss: 0.0083 (MA: 0.0083), Val Loss: 0.0126 (MA: 0.0124), Duration: 0:02:55.776565\n",
      "  Train Loss MA improved to 0.008259 from 0.008265 (0.07% improvement).\n",
      "  Saved new best model (train loss MA) at epoch 157\n",
      "Epoch 157: Generating visualization samples...\n",
      "Saved visualization samples to C:\\Projects\\jetbot-diffusion-world-model-kong-finder-aux\\output_model_5hz_DIAMOND\\samples\\val_vis_epoch_0157_samples.png\n"
     ]
    },
    {
     "data": {
      "application/vnd.jupyter.widget-view+json": {
       "model_id": "",
       "version_major": 2,
       "version_minor": 0
      },
      "text/plain": [
       "Epoch 158 [Train]:   0%|          | 0/855 [00:00<?, ?it/s]"
      ]
     },
     "metadata": {},
     "output_type": "display_data"
    },
    {
     "data": {
      "application/vnd.jupyter.widget-view+json": {
       "model_id": "",
       "version_major": 2,
       "version_minor": 0
      },
      "text/plain": [
       "Epoch 158 [Valid]:   0%|          | 0/96 [00:00<?, ?it/s]"
      ]
     },
     "metadata": {},
     "output_type": "display_data"
    },
    {
     "name": "stdout",
     "output_type": "stream",
     "text": [
      "Epoch 158/1000 - Train Loss: 0.0080 (MA: 0.0082), Val Loss: 0.0115 (MA: 0.0124), Duration: 0:02:56.443888\n",
      "  Train Loss MA improved to 0.008218 from 0.008259 (0.50% improvement).\n",
      "  Saved new best model (train loss MA) at epoch 158\n",
      "Epoch 158: Generating visualization samples...\n",
      "Saved visualization samples to C:\\Projects\\jetbot-diffusion-world-model-kong-finder-aux\\output_model_5hz_DIAMOND\\samples\\val_vis_epoch_0158_samples.png\n"
     ]
    },
    {
     "data": {
      "application/vnd.jupyter.widget-view+json": {
       "model_id": "",
       "version_major": 2,
       "version_minor": 0
      },
      "text/plain": [
       "Epoch 159 [Train]:   0%|          | 0/855 [00:00<?, ?it/s]"
      ]
     },
     "metadata": {},
     "output_type": "display_data"
    },
    {
     "data": {
      "application/vnd.jupyter.widget-view+json": {
       "model_id": "",
       "version_major": 2,
       "version_minor": 0
      },
      "text/plain": [
       "Epoch 159 [Valid]:   0%|          | 0/96 [00:00<?, ?it/s]"
      ]
     },
     "metadata": {},
     "output_type": "display_data"
    },
    {
     "name": "stdout",
     "output_type": "stream",
     "text": [
      "Epoch 159/1000 - Train Loss: 0.0079 (MA: 0.0082), Val Loss: 0.0127 (MA: 0.0124), Duration: 0:02:56.171295\n",
      "  Train Loss MA improved to 0.008172 from 0.008218 (0.57% improvement).\n",
      "  Saved new best model (train loss MA) at epoch 159\n",
      "Epoch 159: Generating visualization samples...\n",
      "Saved visualization samples to C:\\Projects\\jetbot-diffusion-world-model-kong-finder-aux\\output_model_5hz_DIAMOND\\samples\\val_vis_epoch_0159_samples.png\n"
     ]
    },
    {
     "data": {
      "application/vnd.jupyter.widget-view+json": {
       "model_id": "",
       "version_major": 2,
       "version_minor": 0
      },
      "text/plain": [
       "Epoch 160 [Train]:   0%|          | 0/855 [00:00<?, ?it/s]"
      ]
     },
     "metadata": {},
     "output_type": "display_data"
    },
    {
     "data": {
      "application/vnd.jupyter.widget-view+json": {
       "model_id": "",
       "version_major": 2,
       "version_minor": 0
      },
      "text/plain": [
       "Epoch 160 [Valid]:   0%|          | 0/96 [00:00<?, ?it/s]"
      ]
     },
     "metadata": {},
     "output_type": "display_data"
    },
    {
     "name": "stdout",
     "output_type": "stream",
     "text": [
      "Epoch 160/1000 - Train Loss: 0.0079 (MA: 0.0081), Val Loss: 0.0099 (MA: 0.0117), Duration: 0:02:56.022056\n",
      "  Train Loss MA improved to 0.008130 from 0.008172 (0.51% improvement).\n",
      "  Saved new best model (train loss MA) at epoch 160\n",
      "Epoch 160: Generating visualization samples...\n",
      "Saved visualization samples to C:\\Projects\\jetbot-diffusion-world-model-kong-finder-aux\\output_model_5hz_DIAMOND\\samples\\val_vis_epoch_0160_samples.png\n",
      "Saved loss plot up to epoch 160\n"
     ]
    },
    {
     "data": {
      "application/vnd.jupyter.widget-view+json": {
       "model_id": "",
       "version_major": 2,
       "version_minor": 0
      },
      "text/plain": [
       "Epoch 161 [Train]:   0%|          | 0/855 [00:00<?, ?it/s]"
      ]
     },
     "metadata": {},
     "output_type": "display_data"
    },
    {
     "data": {
      "application/vnd.jupyter.widget-view+json": {
       "model_id": "",
       "version_major": 2,
       "version_minor": 0
      },
      "text/plain": [
       "Epoch 161 [Valid]:   0%|          | 0/96 [00:00<?, ?it/s]"
      ]
     },
     "metadata": {},
     "output_type": "display_data"
    },
    {
     "name": "stdout",
     "output_type": "stream",
     "text": [
      "Epoch 161/1000 - Train Loss: 0.0079 (MA: 0.0081), Val Loss: 0.0114 (MA: 0.0116), Duration: 0:02:55.890030\n",
      "  Train Loss MA improved to 0.008120 from 0.008130 (0.13% improvement).\n",
      "  Saved new best model (train loss MA) at epoch 161\n",
      "Epoch 161: Generating visualization samples...\n",
      "Saved visualization samples to C:\\Projects\\jetbot-diffusion-world-model-kong-finder-aux\\output_model_5hz_DIAMOND\\samples\\val_vis_epoch_0161_samples.png\n"
     ]
    },
    {
     "data": {
      "application/vnd.jupyter.widget-view+json": {
       "model_id": "",
       "version_major": 2,
       "version_minor": 0
      },
      "text/plain": [
       "Epoch 162 [Train]:   0%|          | 0/855 [00:00<?, ?it/s]"
      ]
     },
     "metadata": {},
     "output_type": "display_data"
    },
    {
     "data": {
      "application/vnd.jupyter.widget-view+json": {
       "model_id": "",
       "version_major": 2,
       "version_minor": 0
      },
      "text/plain": [
       "Epoch 162 [Valid]:   0%|          | 0/96 [00:00<?, ?it/s]"
      ]
     },
     "metadata": {},
     "output_type": "display_data"
    },
    {
     "name": "stdout",
     "output_type": "stream",
     "text": [
      "Epoch 162/1000 - Train Loss: 0.0079 (MA: 0.0081), Val Loss: 0.0109 (MA: 0.0113), Duration: 0:02:55.983817\n",
      "  Train Loss MA improved to 0.008091 from 0.008120 (0.36% improvement).\n",
      "  Saved new best model (train loss MA) at epoch 162\n",
      "Epoch 162: Generating visualization samples...\n",
      "Saved visualization samples to C:\\Projects\\jetbot-diffusion-world-model-kong-finder-aux\\output_model_5hz_DIAMOND\\samples\\val_vis_epoch_0162_samples.png\n"
     ]
    },
    {
     "data": {
      "application/vnd.jupyter.widget-view+json": {
       "model_id": "",
       "version_major": 2,
       "version_minor": 0
      },
      "text/plain": [
       "Epoch 163 [Train]:   0%|          | 0/855 [00:00<?, ?it/s]"
      ]
     },
     "metadata": {},
     "output_type": "display_data"
    },
    {
     "data": {
      "application/vnd.jupyter.widget-view+json": {
       "model_id": "",
       "version_major": 2,
       "version_minor": 0
      },
      "text/plain": [
       "Epoch 163 [Valid]:   0%|          | 0/96 [00:00<?, ?it/s]"
      ]
     },
     "metadata": {},
     "output_type": "display_data"
    },
    {
     "name": "stdout",
     "output_type": "stream",
     "text": [
      "Epoch 163/1000 - Train Loss: 0.0082 (MA: 0.0081), Val Loss: 0.0121 (MA: 0.0114), Duration: 0:02:55.597884\n",
      "  Train Loss MA improved to 0.008074 from 0.008091 (0.20% improvement).\n",
      "  Saved new best model (train loss MA) at epoch 163\n",
      "Epoch 163: Generating visualization samples...\n",
      "Saved visualization samples to C:\\Projects\\jetbot-diffusion-world-model-kong-finder-aux\\output_model_5hz_DIAMOND\\samples\\val_vis_epoch_0163_samples.png\n"
     ]
    },
    {
     "data": {
      "application/vnd.jupyter.widget-view+json": {
       "model_id": "",
       "version_major": 2,
       "version_minor": 0
      },
      "text/plain": [
       "Epoch 164 [Train]:   0%|          | 0/855 [00:00<?, ?it/s]"
      ]
     },
     "metadata": {},
     "output_type": "display_data"
    },
    {
     "data": {
      "application/vnd.jupyter.widget-view+json": {
       "model_id": "",
       "version_major": 2,
       "version_minor": 0
      },
      "text/plain": [
       "Epoch 164 [Valid]:   0%|          | 0/96 [00:00<?, ?it/s]"
      ]
     },
     "metadata": {},
     "output_type": "display_data"
    },
    {
     "name": "stdout",
     "output_type": "stream",
     "text": [
      "Epoch 164/1000 - Train Loss: 0.0079 (MA: 0.0080), Val Loss: 0.0120 (MA: 0.0112), Duration: 0:02:57.064101\n",
      "  Train Loss MA improved to 0.008039 from 0.008074 (0.44% improvement).\n",
      "  Saved new best model (train loss MA) at epoch 164\n",
      "Epoch 164: Generating visualization samples...\n",
      "Saved visualization samples to C:\\Projects\\jetbot-diffusion-world-model-kong-finder-aux\\output_model_5hz_DIAMOND\\samples\\val_vis_epoch_0164_samples.png\n"
     ]
    },
    {
     "data": {
      "application/vnd.jupyter.widget-view+json": {
       "model_id": "",
       "version_major": 2,
       "version_minor": 0
      },
      "text/plain": [
       "Epoch 165 [Train]:   0%|          | 0/855 [00:00<?, ?it/s]"
      ]
     },
     "metadata": {},
     "output_type": "display_data"
    },
    {
     "data": {
      "application/vnd.jupyter.widget-view+json": {
       "model_id": "",
       "version_major": 2,
       "version_minor": 0
      },
      "text/plain": [
       "Epoch 165 [Valid]:   0%|          | 0/96 [00:00<?, ?it/s]"
      ]
     },
     "metadata": {},
     "output_type": "display_data"
    },
    {
     "name": "stdout",
     "output_type": "stream",
     "text": [
      "Epoch 165/1000 - Train Loss: 0.0080 (MA: 0.0080), Val Loss: 0.0122 (MA: 0.0117), Duration: 0:02:55.922050\n",
      "  Train Loss MA improved to 0.008033 from 0.008039 (0.07% improvement).\n",
      "  Saved new best model (train loss MA) at epoch 165\n",
      "Epoch 165: Generating visualization samples...\n",
      "Saved visualization samples to C:\\Projects\\jetbot-diffusion-world-model-kong-finder-aux\\output_model_5hz_DIAMOND\\samples\\val_vis_epoch_0165_samples.png\n"
     ]
    },
    {
     "data": {
      "application/vnd.jupyter.widget-view+json": {
       "model_id": "",
       "version_major": 2,
       "version_minor": 0
      },
      "text/plain": [
       "Epoch 166 [Train]:   0%|          | 0/855 [00:00<?, ?it/s]"
      ]
     },
     "metadata": {},
     "output_type": "display_data"
    },
    {
     "data": {
      "application/vnd.jupyter.widget-view+json": {
       "model_id": "",
       "version_major": 2,
       "version_minor": 0
      },
      "text/plain": [
       "Epoch 166 [Valid]:   0%|          | 0/96 [00:00<?, ?it/s]"
      ]
     },
     "metadata": {},
     "output_type": "display_data"
    },
    {
     "name": "stdout",
     "output_type": "stream",
     "text": [
      "Epoch 166/1000 - Train Loss: 0.0080 (MA: 0.0080), Val Loss: 0.0119 (MA: 0.0118), Duration: 0:02:56.135309\n",
      "  Train Loss MA improved to 0.007991 from 0.008033 (0.52% improvement).\n",
      "  Saved new best model (train loss MA) at epoch 166\n",
      "Epoch 166: Generating visualization samples...\n",
      "Saved visualization samples to C:\\Projects\\jetbot-diffusion-world-model-kong-finder-aux\\output_model_5hz_DIAMOND\\samples\\val_vis_epoch_0166_samples.png\n"
     ]
    },
    {
     "data": {
      "application/vnd.jupyter.widget-view+json": {
       "model_id": "",
       "version_major": 2,
       "version_minor": 0
      },
      "text/plain": [
       "Epoch 167 [Train]:   0%|          | 0/855 [00:00<?, ?it/s]"
      ]
     },
     "metadata": {},
     "output_type": "display_data"
    },
    {
     "data": {
      "application/vnd.jupyter.widget-view+json": {
       "model_id": "",
       "version_major": 2,
       "version_minor": 0
      },
      "text/plain": [
       "Epoch 167 [Valid]:   0%|          | 0/96 [00:00<?, ?it/s]"
      ]
     },
     "metadata": {},
     "output_type": "display_data"
    },
    {
     "name": "stdout",
     "output_type": "stream",
     "text": [
      "Epoch 167/1000 - Train Loss: 0.0080 (MA: 0.0080), Val Loss: 0.0121 (MA: 0.0121), Duration: 0:02:55.847591\n",
      "  Train Loss MA improved to 0.007962 from 0.007991 (0.36% improvement).\n",
      "  Saved new best model (train loss MA) at epoch 167\n",
      "Epoch 167: Generating visualization samples...\n",
      "Saved visualization samples to C:\\Projects\\jetbot-diffusion-world-model-kong-finder-aux\\output_model_5hz_DIAMOND\\samples\\val_vis_epoch_0167_samples.png\n"
     ]
    },
    {
     "data": {
      "application/vnd.jupyter.widget-view+json": {
       "model_id": "",
       "version_major": 2,
       "version_minor": 0
      },
      "text/plain": [
       "Epoch 168 [Train]:   0%|          | 0/855 [00:00<?, ?it/s]"
      ]
     },
     "metadata": {},
     "output_type": "display_data"
    },
    {
     "data": {
      "application/vnd.jupyter.widget-view+json": {
       "model_id": "",
       "version_major": 2,
       "version_minor": 0
      },
      "text/plain": [
       "Epoch 168 [Valid]:   0%|          | 0/96 [00:00<?, ?it/s]"
      ]
     },
     "metadata": {},
     "output_type": "display_data"
    },
    {
     "name": "stdout",
     "output_type": "stream",
     "text": [
      "Epoch 168/1000 - Train Loss: 0.0079 (MA: 0.0080), Val Loss: 0.0130 (MA: 0.0123), Duration: 0:02:55.789056\n",
      "  Train Loss MA improved to 0.007955 from 0.007962 (0.09% improvement).\n",
      "  Saved new best model (train loss MA) at epoch 168\n",
      "Epoch 168: Generating visualization samples...\n",
      "Saved visualization samples to C:\\Projects\\jetbot-diffusion-world-model-kong-finder-aux\\output_model_5hz_DIAMOND\\samples\\val_vis_epoch_0168_samples.png\n"
     ]
    },
    {
     "data": {
      "application/vnd.jupyter.widget-view+json": {
       "model_id": "",
       "version_major": 2,
       "version_minor": 0
      },
      "text/plain": [
       "Epoch 169 [Train]:   0%|          | 0/855 [00:00<?, ?it/s]"
      ]
     },
     "metadata": {},
     "output_type": "display_data"
    },
    {
     "data": {
      "application/vnd.jupyter.widget-view+json": {
       "model_id": "",
       "version_major": 2,
       "version_minor": 0
      },
      "text/plain": [
       "Epoch 169 [Valid]:   0%|          | 0/96 [00:00<?, ?it/s]"
      ]
     },
     "metadata": {},
     "output_type": "display_data"
    },
    {
     "name": "stdout",
     "output_type": "stream",
     "text": [
      "Epoch 169/1000 - Train Loss: 0.0077 (MA: 0.0079), Val Loss: 0.0104 (MA: 0.0119), Duration: 0:02:55.894157\n",
      "  Train Loss MA improved to 0.007934 from 0.007955 (0.26% improvement).\n",
      "  Saved new best model (train loss MA) at epoch 169\n",
      "Epoch 169: Generating visualization samples...\n",
      "Saved visualization samples to C:\\Projects\\jetbot-diffusion-world-model-kong-finder-aux\\output_model_5hz_DIAMOND\\samples\\val_vis_epoch_0169_samples.png\n"
     ]
    },
    {
     "data": {
      "application/vnd.jupyter.widget-view+json": {
       "model_id": "",
       "version_major": 2,
       "version_minor": 0
      },
      "text/plain": [
       "Epoch 170 [Train]:   0%|          | 0/855 [00:00<?, ?it/s]"
      ]
     },
     "metadata": {},
     "output_type": "display_data"
    },
    {
     "data": {
      "application/vnd.jupyter.widget-view+json": {
       "model_id": "",
       "version_major": 2,
       "version_minor": 0
      },
      "text/plain": [
       "Epoch 170 [Valid]:   0%|          | 0/96 [00:00<?, ?it/s]"
      ]
     },
     "metadata": {},
     "output_type": "display_data"
    },
    {
     "name": "stdout",
     "output_type": "stream",
     "text": [
      "Epoch 170/1000 - Train Loss: 0.0075 (MA: 0.0079), Val Loss: 0.0103 (MA: 0.0115), Duration: 0:02:55.800538\n",
      "  Train Loss MA improved to 0.007898 from 0.007934 (0.45% improvement).\n",
      "  Saved new best model (train loss MA) at epoch 170\n",
      "Epoch 170: Generating visualization samples...\n",
      "Saved visualization samples to C:\\Projects\\jetbot-diffusion-world-model-kong-finder-aux\\output_model_5hz_DIAMOND\\samples\\val_vis_epoch_0170_samples.png\n",
      "Saved loss plot up to epoch 170\n"
     ]
    },
    {
     "data": {
      "application/vnd.jupyter.widget-view+json": {
       "model_id": "",
       "version_major": 2,
       "version_minor": 0
      },
      "text/plain": [
       "Epoch 171 [Train]:   0%|          | 0/855 [00:00<?, ?it/s]"
      ]
     },
     "metadata": {},
     "output_type": "display_data"
    },
    {
     "data": {
      "application/vnd.jupyter.widget-view+json": {
       "model_id": "",
       "version_major": 2,
       "version_minor": 0
      },
      "text/plain": [
       "Epoch 171 [Valid]:   0%|          | 0/96 [00:00<?, ?it/s]"
      ]
     },
     "metadata": {},
     "output_type": "display_data"
    },
    {
     "name": "stdout",
     "output_type": "stream",
     "text": [
      "Epoch 171/1000 - Train Loss: 0.0078 (MA: 0.0079), Val Loss: 0.0116 (MA: 0.0115), Duration: 0:02:55.856045\n",
      "  Train Loss MA improved to 0.007889 from 0.007898 (0.12% improvement).\n",
      "  Saved new best model (train loss MA) at epoch 171\n",
      "Epoch 171: Generating visualization samples...\n",
      "Saved visualization samples to C:\\Projects\\jetbot-diffusion-world-model-kong-finder-aux\\output_model_5hz_DIAMOND\\samples\\val_vis_epoch_0171_samples.png\n"
     ]
    },
    {
     "data": {
      "application/vnd.jupyter.widget-view+json": {
       "model_id": "",
       "version_major": 2,
       "version_minor": 0
      },
      "text/plain": [
       "Epoch 172 [Train]:   0%|          | 0/855 [00:00<?, ?it/s]"
      ]
     },
     "metadata": {},
     "output_type": "display_data"
    },
    {
     "data": {
      "application/vnd.jupyter.widget-view+json": {
       "model_id": "",
       "version_major": 2,
       "version_minor": 0
      },
      "text/plain": [
       "Epoch 172 [Valid]:   0%|          | 0/96 [00:00<?, ?it/s]"
      ]
     },
     "metadata": {},
     "output_type": "display_data"
    },
    {
     "name": "stdout",
     "output_type": "stream",
     "text": [
      "Epoch 172/1000 - Train Loss: 0.0080 (MA: 0.0079), Val Loss: 0.0117 (MA: 0.0114), Duration: 0:02:55.911930\n",
      "  No improvement in train loss MA for 1 epoch(s). Best MA: 0.007889, Current MA: 0.007904\n",
      "Epoch 172: Generating visualization samples...\n",
      "Saved visualization samples to C:\\Projects\\jetbot-diffusion-world-model-kong-finder-aux\\output_model_5hz_DIAMOND\\samples\\val_vis_epoch_0172_samples.png\n"
     ]
    },
    {
     "data": {
      "application/vnd.jupyter.widget-view+json": {
       "model_id": "",
       "version_major": 2,
       "version_minor": 0
      },
      "text/plain": [
       "Epoch 173 [Train]:   0%|          | 0/855 [00:00<?, ?it/s]"
      ]
     },
     "metadata": {},
     "output_type": "display_data"
    },
    {
     "data": {
      "application/vnd.jupyter.widget-view+json": {
       "model_id": "",
       "version_major": 2,
       "version_minor": 0
      },
      "text/plain": [
       "Epoch 173 [Valid]:   0%|          | 0/96 [00:00<?, ?it/s]"
      ]
     },
     "metadata": {},
     "output_type": "display_data"
    },
    {
     "name": "stdout",
     "output_type": "stream",
     "text": [
      "Epoch 173/1000 - Train Loss: 0.0075 (MA: 0.0078), Val Loss: 0.0113 (MA: 0.0111), Duration: 0:02:55.991026\n",
      "  Train Loss MA improved to 0.007832 from 0.007889 (0.72% improvement).\n",
      "  Saved new best model (train loss MA) at epoch 173\n",
      "Epoch 173: Generating visualization samples...\n",
      "Saved visualization samples to C:\\Projects\\jetbot-diffusion-world-model-kong-finder-aux\\output_model_5hz_DIAMOND\\samples\\val_vis_epoch_0173_samples.png\n"
     ]
    },
    {
     "data": {
      "application/vnd.jupyter.widget-view+json": {
       "model_id": "",
       "version_major": 2,
       "version_minor": 0
      },
      "text/plain": [
       "Epoch 174 [Train]:   0%|          | 0/855 [00:00<?, ?it/s]"
      ]
     },
     "metadata": {},
     "output_type": "display_data"
    },
    {
     "data": {
      "application/vnd.jupyter.widget-view+json": {
       "model_id": "",
       "version_major": 2,
       "version_minor": 0
      },
      "text/plain": [
       "Epoch 174 [Valid]:   0%|          | 0/96 [00:00<?, ?it/s]"
      ]
     },
     "metadata": {},
     "output_type": "display_data"
    },
    {
     "name": "stdout",
     "output_type": "stream",
     "text": [
      "Epoch 174/1000 - Train Loss: 0.0077 (MA: 0.0078), Val Loss: 0.0118 (MA: 0.0113), Duration: 0:02:55.897838\n",
      "  Train Loss MA improved to 0.007810 from 0.007832 (0.28% improvement).\n",
      "  Saved new best model (train loss MA) at epoch 174\n",
      "Epoch 174: Generating visualization samples...\n",
      "Saved visualization samples to C:\\Projects\\jetbot-diffusion-world-model-kong-finder-aux\\output_model_5hz_DIAMOND\\samples\\val_vis_epoch_0174_samples.png\n"
     ]
    },
    {
     "data": {
      "application/vnd.jupyter.widget-view+json": {
       "model_id": "",
       "version_major": 2,
       "version_minor": 0
      },
      "text/plain": [
       "Epoch 175 [Train]:   0%|          | 0/855 [00:00<?, ?it/s]"
      ]
     },
     "metadata": {},
     "output_type": "display_data"
    },
    {
     "data": {
      "application/vnd.jupyter.widget-view+json": {
       "model_id": "",
       "version_major": 2,
       "version_minor": 0
      },
      "text/plain": [
       "Epoch 175 [Valid]:   0%|          | 0/96 [00:00<?, ?it/s]"
      ]
     },
     "metadata": {},
     "output_type": "display_data"
    },
    {
     "name": "stdout",
     "output_type": "stream",
     "text": [
      "Epoch 175/1000 - Train Loss: 0.0079 (MA: 0.0078), Val Loss: 0.0117 (MA: 0.0116), Duration: 0:02:55.695175\n",
      "  Train Loss MA improved to 0.007802 from 0.007810 (0.11% improvement).\n",
      "  Saved new best model (train loss MA) at epoch 175\n",
      "Epoch 175: Generating visualization samples...\n",
      "Saved visualization samples to C:\\Projects\\jetbot-diffusion-world-model-kong-finder-aux\\output_model_5hz_DIAMOND\\samples\\val_vis_epoch_0175_samples.png\n"
     ]
    },
    {
     "data": {
      "application/vnd.jupyter.widget-view+json": {
       "model_id": "",
       "version_major": 2,
       "version_minor": 0
      },
      "text/plain": [
       "Epoch 176 [Train]:   0%|          | 0/855 [00:00<?, ?it/s]"
      ]
     },
     "metadata": {},
     "output_type": "display_data"
    },
    {
     "data": {
      "application/vnd.jupyter.widget-view+json": {
       "model_id": "",
       "version_major": 2,
       "version_minor": 0
      },
      "text/plain": [
       "Epoch 176 [Valid]:   0%|          | 0/96 [00:00<?, ?it/s]"
      ]
     },
     "metadata": {},
     "output_type": "display_data"
    },
    {
     "name": "stdout",
     "output_type": "stream",
     "text": [
      "Epoch 176/1000 - Train Loss: 0.0074 (MA: 0.0077), Val Loss: 0.0098 (MA: 0.0113), Duration: 0:02:56.740833\n",
      "  Train Loss MA improved to 0.007743 from 0.007802 (0.75% improvement).\n",
      "  Saved new best model (train loss MA) at epoch 176\n",
      "Epoch 176: Generating visualization samples...\n",
      "Saved visualization samples to C:\\Projects\\jetbot-diffusion-world-model-kong-finder-aux\\output_model_5hz_DIAMOND\\samples\\val_vis_epoch_0176_samples.png\n"
     ]
    },
    {
     "data": {
      "application/vnd.jupyter.widget-view+json": {
       "model_id": "",
       "version_major": 2,
       "version_minor": 0
      },
      "text/plain": [
       "Epoch 177 [Train]:   0%|          | 0/855 [00:00<?, ?it/s]"
      ]
     },
     "metadata": {},
     "output_type": "display_data"
    },
    {
     "data": {
      "application/vnd.jupyter.widget-view+json": {
       "model_id": "",
       "version_major": 2,
       "version_minor": 0
      },
      "text/plain": [
       "Epoch 177 [Valid]:   0%|          | 0/96 [00:00<?, ?it/s]"
      ]
     },
     "metadata": {},
     "output_type": "display_data"
    },
    {
     "name": "stdout",
     "output_type": "stream",
     "text": [
      "Epoch 177/1000 - Train Loss: 0.0074 (MA: 0.0077), Val Loss: 0.0114 (MA: 0.0112), Duration: 0:02:55.614108\n",
      "  Train Loss MA improved to 0.007679 from 0.007743 (0.82% improvement).\n",
      "  Saved new best model (train loss MA) at epoch 177\n",
      "Epoch 177: Generating visualization samples...\n",
      "Saved visualization samples to C:\\Projects\\jetbot-diffusion-world-model-kong-finder-aux\\output_model_5hz_DIAMOND\\samples\\val_vis_epoch_0177_samples.png\n"
     ]
    },
    {
     "data": {
      "application/vnd.jupyter.widget-view+json": {
       "model_id": "",
       "version_major": 2,
       "version_minor": 0
      },
      "text/plain": [
       "Epoch 178 [Train]:   0%|          | 0/855 [00:00<?, ?it/s]"
      ]
     },
     "metadata": {},
     "output_type": "display_data"
    },
    {
     "data": {
      "application/vnd.jupyter.widget-view+json": {
       "model_id": "",
       "version_major": 2,
       "version_minor": 0
      },
      "text/plain": [
       "Epoch 178 [Valid]:   0%|          | 0/96 [00:00<?, ?it/s]"
      ]
     },
     "metadata": {},
     "output_type": "display_data"
    },
    {
     "name": "stdout",
     "output_type": "stream",
     "text": [
      "Epoch 178/1000 - Train Loss: 0.0072 (MA: 0.0076), Val Loss: 0.0107 (MA: 0.0111), Duration: 0:02:55.812690\n",
      "  Train Loss MA improved to 0.007613 from 0.007679 (0.86% improvement).\n",
      "  Saved new best model (train loss MA) at epoch 178\n",
      "Epoch 178: Generating visualization samples...\n",
      "Saved visualization samples to C:\\Projects\\jetbot-diffusion-world-model-kong-finder-aux\\output_model_5hz_DIAMOND\\samples\\val_vis_epoch_0178_samples.png\n"
     ]
    },
    {
     "data": {
      "application/vnd.jupyter.widget-view+json": {
       "model_id": "",
       "version_major": 2,
       "version_minor": 0
      },
      "text/plain": [
       "Epoch 179 [Train]:   0%|          | 0/855 [00:00<?, ?it/s]"
      ]
     },
     "metadata": {},
     "output_type": "display_data"
    },
    {
     "data": {
      "application/vnd.jupyter.widget-view+json": {
       "model_id": "",
       "version_major": 2,
       "version_minor": 0
      },
      "text/plain": [
       "Epoch 179 [Valid]:   0%|          | 0/96 [00:00<?, ?it/s]"
      ]
     },
     "metadata": {},
     "output_type": "display_data"
    },
    {
     "name": "stdout",
     "output_type": "stream",
     "text": [
      "Epoch 179/1000 - Train Loss: 0.0076 (MA: 0.0076), Val Loss: 0.0111 (MA: 0.0110), Duration: 0:02:55.730793\n",
      "  Train Loss MA improved to 0.007602 from 0.007613 (0.15% improvement).\n",
      "  Saved new best model (train loss MA) at epoch 179\n",
      "Epoch 179: Generating visualization samples...\n",
      "Saved visualization samples to C:\\Projects\\jetbot-diffusion-world-model-kong-finder-aux\\output_model_5hz_DIAMOND\\samples\\val_vis_epoch_0179_samples.png\n"
     ]
    },
    {
     "data": {
      "application/vnd.jupyter.widget-view+json": {
       "model_id": "",
       "version_major": 2,
       "version_minor": 0
      },
      "text/plain": [
       "Epoch 180 [Train]:   0%|          | 0/855 [00:00<?, ?it/s]"
      ]
     },
     "metadata": {},
     "output_type": "display_data"
    },
    {
     "data": {
      "application/vnd.jupyter.widget-view+json": {
       "model_id": "",
       "version_major": 2,
       "version_minor": 0
      },
      "text/plain": [
       "Epoch 180 [Valid]:   0%|          | 0/96 [00:00<?, ?it/s]"
      ]
     },
     "metadata": {},
     "output_type": "display_data"
    },
    {
     "name": "stdout",
     "output_type": "stream",
     "text": [
      "Epoch 180/1000 - Train Loss: 0.0072 (MA: 0.0076), Val Loss: 0.0105 (MA: 0.0107), Duration: 0:02:56.035026\n",
      "  Train Loss MA improved to 0.007563 from 0.007602 (0.50% improvement).\n",
      "  Saved new best model (train loss MA) at epoch 180\n",
      "Epoch 180: Generating visualization samples...\n",
      "Saved visualization samples to C:\\Projects\\jetbot-diffusion-world-model-kong-finder-aux\\output_model_5hz_DIAMOND\\samples\\val_vis_epoch_0180_samples.png\n",
      "Saved loss plot up to epoch 180\n"
     ]
    },
    {
     "data": {
      "application/vnd.jupyter.widget-view+json": {
       "model_id": "",
       "version_major": 2,
       "version_minor": 0
      },
      "text/plain": [
       "Epoch 181 [Train]:   0%|          | 0/855 [00:00<?, ?it/s]"
      ]
     },
     "metadata": {},
     "output_type": "display_data"
    },
    {
     "data": {
      "application/vnd.jupyter.widget-view+json": {
       "model_id": "",
       "version_major": 2,
       "version_minor": 0
      },
      "text/plain": [
       "Epoch 181 [Valid]:   0%|          | 0/96 [00:00<?, ?it/s]"
      ]
     },
     "metadata": {},
     "output_type": "display_data"
    },
    {
     "name": "stdout",
     "output_type": "stream",
     "text": [
      "Epoch 181/1000 - Train Loss: 0.0074 (MA: 0.0075), Val Loss: 0.0119 (MA: 0.0111), Duration: 0:02:55.911045\n",
      "  Train Loss MA improved to 0.007527 from 0.007563 (0.48% improvement).\n",
      "  Saved new best model (train loss MA) at epoch 181\n",
      "Epoch 181: Generating visualization samples...\n",
      "Saved visualization samples to C:\\Projects\\jetbot-diffusion-world-model-kong-finder-aux\\output_model_5hz_DIAMOND\\samples\\val_vis_epoch_0181_samples.png\n"
     ]
    },
    {
     "data": {
      "application/vnd.jupyter.widget-view+json": {
       "model_id": "",
       "version_major": 2,
       "version_minor": 0
      },
      "text/plain": [
       "Epoch 182 [Train]:   0%|          | 0/855 [00:00<?, ?it/s]"
      ]
     },
     "metadata": {},
     "output_type": "display_data"
    },
    {
     "data": {
      "application/vnd.jupyter.widget-view+json": {
       "model_id": "",
       "version_major": 2,
       "version_minor": 0
      },
      "text/plain": [
       "Epoch 182 [Valid]:   0%|          | 0/96 [00:00<?, ?it/s]"
      ]
     },
     "metadata": {},
     "output_type": "display_data"
    },
    {
     "name": "stdout",
     "output_type": "stream",
     "text": [
      "Epoch 182/1000 - Train Loss: 0.0073 (MA: 0.0075), Val Loss: 0.0131 (MA: 0.0115), Duration: 0:02:55.678683\n",
      "  Train Loss MA improved to 0.007456 from 0.007527 (0.95% improvement).\n",
      "  Saved new best model (train loss MA) at epoch 182\n",
      "Epoch 182: Generating visualization samples...\n",
      "Saved visualization samples to C:\\Projects\\jetbot-diffusion-world-model-kong-finder-aux\\output_model_5hz_DIAMOND\\samples\\val_vis_epoch_0182_samples.png\n"
     ]
    },
    {
     "data": {
      "application/vnd.jupyter.widget-view+json": {
       "model_id": "",
       "version_major": 2,
       "version_minor": 0
      },
      "text/plain": [
       "Epoch 183 [Train]:   0%|          | 0/855 [00:00<?, ?it/s]"
      ]
     },
     "metadata": {},
     "output_type": "display_data"
    },
    {
     "data": {
      "application/vnd.jupyter.widget-view+json": {
       "model_id": "",
       "version_major": 2,
       "version_minor": 0
      },
      "text/plain": [
       "Epoch 183 [Valid]:   0%|          | 0/96 [00:00<?, ?it/s]"
      ]
     },
     "metadata": {},
     "output_type": "display_data"
    },
    {
     "name": "stdout",
     "output_type": "stream",
     "text": [
      "Epoch 183/1000 - Train Loss: 0.0078 (MA: 0.0075), Val Loss: 0.0121 (MA: 0.0118), Duration: 0:02:55.903026\n",
      "  No improvement in train loss MA for 1 epoch(s). Best MA: 0.007456, Current MA: 0.007484\n",
      "Epoch 183: Generating visualization samples...\n",
      "Saved visualization samples to C:\\Projects\\jetbot-diffusion-world-model-kong-finder-aux\\output_model_5hz_DIAMOND\\samples\\val_vis_epoch_0183_samples.png\n"
     ]
    },
    {
     "data": {
      "application/vnd.jupyter.widget-view+json": {
       "model_id": "",
       "version_major": 2,
       "version_minor": 0
      },
      "text/plain": [
       "Epoch 184 [Train]:   0%|          | 0/855 [00:00<?, ?it/s]"
      ]
     },
     "metadata": {},
     "output_type": "display_data"
    },
    {
     "data": {
      "application/vnd.jupyter.widget-view+json": {
       "model_id": "",
       "version_major": 2,
       "version_minor": 0
      },
      "text/plain": [
       "Epoch 184 [Valid]:   0%|          | 0/96 [00:00<?, ?it/s]"
      ]
     },
     "metadata": {},
     "output_type": "display_data"
    },
    {
     "name": "stdout",
     "output_type": "stream",
     "text": [
      "Epoch 184/1000 - Train Loss: 0.0071 (MA: 0.0074), Val Loss: 0.0122 (MA: 0.0120), Duration: 0:02:55.703746\n",
      "  Train Loss MA improved to 0.007429 from 0.007456 (0.36% improvement).\n",
      "  Saved new best model (train loss MA) at epoch 184\n",
      "Epoch 184: Generating visualization samples...\n",
      "Saved visualization samples to C:\\Projects\\jetbot-diffusion-world-model-kong-finder-aux\\output_model_5hz_DIAMOND\\samples\\val_vis_epoch_0184_samples.png\n"
     ]
    },
    {
     "data": {
      "application/vnd.jupyter.widget-view+json": {
       "model_id": "",
       "version_major": 2,
       "version_minor": 0
      },
      "text/plain": [
       "Epoch 185 [Train]:   0%|          | 0/855 [00:00<?, ?it/s]"
      ]
     },
     "metadata": {},
     "output_type": "display_data"
    },
    {
     "data": {
      "application/vnd.jupyter.widget-view+json": {
       "model_id": "",
       "version_major": 2,
       "version_minor": 0
      },
      "text/plain": [
       "Epoch 185 [Valid]:   0%|          | 0/96 [00:00<?, ?it/s]"
      ]
     },
     "metadata": {},
     "output_type": "display_data"
    },
    {
     "name": "stdout",
     "output_type": "stream",
     "text": [
      "Epoch 185/1000 - Train Loss: 0.0078 (MA: 0.0074), Val Loss: 0.0099 (MA: 0.0118), Duration: 0:02:55.836018\n",
      "  Train Loss MA improved to 0.007420 from 0.007429 (0.13% improvement).\n",
      "  Saved new best model (train loss MA) at epoch 185\n",
      "Epoch 185: Generating visualization samples...\n",
      "Saved visualization samples to C:\\Projects\\jetbot-diffusion-world-model-kong-finder-aux\\output_model_5hz_DIAMOND\\samples\\val_vis_epoch_0185_samples.png\n"
     ]
    },
    {
     "data": {
      "application/vnd.jupyter.widget-view+json": {
       "model_id": "",
       "version_major": 2,
       "version_minor": 0
      },
      "text/plain": [
       "Epoch 186 [Train]:   0%|          | 0/855 [00:00<?, ?it/s]"
      ]
     },
     "metadata": {},
     "output_type": "display_data"
    },
    {
     "data": {
      "application/vnd.jupyter.widget-view+json": {
       "model_id": "",
       "version_major": 2,
       "version_minor": 0
      },
      "text/plain": [
       "Epoch 186 [Valid]:   0%|          | 0/96 [00:00<?, ?it/s]"
      ]
     },
     "metadata": {},
     "output_type": "display_data"
    },
    {
     "name": "stdout",
     "output_type": "stream",
     "text": [
      "Epoch 186/1000 - Train Loss: 0.0075 (MA: 0.0074), Val Loss: 0.0105 (MA: 0.0116), Duration: 0:02:55.719039\n",
      "  No improvement in train loss MA for 1 epoch(s). Best MA: 0.007420, Current MA: 0.007427\n",
      "Epoch 186: Generating visualization samples...\n",
      "Saved visualization samples to C:\\Projects\\jetbot-diffusion-world-model-kong-finder-aux\\output_model_5hz_DIAMOND\\samples\\val_vis_epoch_0186_samples.png\n"
     ]
    },
    {
     "data": {
      "application/vnd.jupyter.widget-view+json": {
       "model_id": "",
       "version_major": 2,
       "version_minor": 0
      },
      "text/plain": [
       "Epoch 187 [Train]:   0%|          | 0/855 [00:00<?, ?it/s]"
      ]
     },
     "metadata": {},
     "output_type": "display_data"
    },
    {
     "data": {
      "application/vnd.jupyter.widget-view+json": {
       "model_id": "",
       "version_major": 2,
       "version_minor": 0
      },
      "text/plain": [
       "Epoch 187 [Valid]:   0%|          | 0/96 [00:00<?, ?it/s]"
      ]
     },
     "metadata": {},
     "output_type": "display_data"
    },
    {
     "name": "stdout",
     "output_type": "stream",
     "text": [
      "Epoch 187/1000 - Train Loss: 0.0074 (MA: 0.0074), Val Loss: 0.0122 (MA: 0.0114), Duration: 0:02:55.938629\n",
      "  No improvement in train loss MA for 2 epoch(s). Best MA: 0.007420, Current MA: 0.007426\n",
      "Epoch 187: Generating visualization samples...\n",
      "Saved visualization samples to C:\\Projects\\jetbot-diffusion-world-model-kong-finder-aux\\output_model_5hz_DIAMOND\\samples\\val_vis_epoch_0187_samples.png\n"
     ]
    },
    {
     "data": {
      "application/vnd.jupyter.widget-view+json": {
       "model_id": "",
       "version_major": 2,
       "version_minor": 0
      },
      "text/plain": [
       "Epoch 188 [Train]:   0%|          | 0/855 [00:00<?, ?it/s]"
      ]
     },
     "metadata": {},
     "output_type": "display_data"
    },
    {
     "data": {
      "application/vnd.jupyter.widget-view+json": {
       "model_id": "",
       "version_major": 2,
       "version_minor": 0
      },
      "text/plain": [
       "Epoch 188 [Valid]:   0%|          | 0/96 [00:00<?, ?it/s]"
      ]
     },
     "metadata": {},
     "output_type": "display_data"
    },
    {
     "name": "stdout",
     "output_type": "stream",
     "text": [
      "Epoch 188/1000 - Train Loss: 0.0074 (MA: 0.0074), Val Loss: 0.0110 (MA: 0.0112), Duration: 0:02:55.806765\n",
      "  No improvement in train loss MA for 3 epoch(s). Best MA: 0.007420, Current MA: 0.007446\n",
      "Epoch 188: Generating visualization samples...\n",
      "Saved visualization samples to C:\\Projects\\jetbot-diffusion-world-model-kong-finder-aux\\output_model_5hz_DIAMOND\\samples\\val_vis_epoch_0188_samples.png\n"
     ]
    },
    {
     "data": {
      "application/vnd.jupyter.widget-view+json": {
       "model_id": "",
       "version_major": 2,
       "version_minor": 0
      },
      "text/plain": [
       "Epoch 189 [Train]:   0%|          | 0/855 [00:00<?, ?it/s]"
      ]
     },
     "metadata": {},
     "output_type": "display_data"
    },
    {
     "data": {
      "application/vnd.jupyter.widget-view+json": {
       "model_id": "",
       "version_major": 2,
       "version_minor": 0
      },
      "text/plain": [
       "Epoch 189 [Valid]:   0%|          | 0/96 [00:00<?, ?it/s]"
      ]
     },
     "metadata": {},
     "output_type": "display_data"
    },
    {
     "name": "stdout",
     "output_type": "stream",
     "text": [
      "Epoch 189/1000 - Train Loss: 0.0070 (MA: 0.0074), Val Loss: 0.0103 (MA: 0.0108), Duration: 0:02:55.709548\n",
      "  Train Loss MA improved to 0.007393 from 0.007420 (0.36% improvement).\n",
      "  Saved new best model (train loss MA) at epoch 189\n",
      "Epoch 189: Generating visualization samples...\n",
      "Saved visualization samples to C:\\Projects\\jetbot-diffusion-world-model-kong-finder-aux\\output_model_5hz_DIAMOND\\samples\\val_vis_epoch_0189_samples.png\n"
     ]
    },
    {
     "data": {
      "application/vnd.jupyter.widget-view+json": {
       "model_id": "",
       "version_major": 2,
       "version_minor": 0
      },
      "text/plain": [
       "Epoch 190 [Train]:   0%|          | 0/855 [00:00<?, ?it/s]"
      ]
     },
     "metadata": {},
     "output_type": "display_data"
    },
    {
     "data": {
      "application/vnd.jupyter.widget-view+json": {
       "model_id": "",
       "version_major": 2,
       "version_minor": 0
      },
      "text/plain": [
       "Epoch 190 [Valid]:   0%|          | 0/96 [00:00<?, ?it/s]"
      ]
     },
     "metadata": {},
     "output_type": "display_data"
    },
    {
     "name": "stdout",
     "output_type": "stream",
     "text": [
      "Epoch 190/1000 - Train Loss: 0.0071 (MA: 0.0074), Val Loss: 0.0110 (MA: 0.0110), Duration: 0:02:55.732313\n",
      "  Train Loss MA improved to 0.007387 from 0.007393 (0.09% improvement).\n",
      "  Saved new best model (train loss MA) at epoch 190\n",
      "Epoch 190: Generating visualization samples...\n",
      "Saved visualization samples to C:\\Projects\\jetbot-diffusion-world-model-kong-finder-aux\\output_model_5hz_DIAMOND\\samples\\val_vis_epoch_0190_samples.png\n",
      "Saved loss plot up to epoch 190\n"
     ]
    },
    {
     "data": {
      "application/vnd.jupyter.widget-view+json": {
       "model_id": "",
       "version_major": 2,
       "version_minor": 0
      },
      "text/plain": [
       "Epoch 191 [Train]:   0%|          | 0/855 [00:00<?, ?it/s]"
      ]
     },
     "metadata": {},
     "output_type": "display_data"
    },
    {
     "data": {
      "application/vnd.jupyter.widget-view+json": {
       "model_id": "",
       "version_major": 2,
       "version_minor": 0
      },
      "text/plain": [
       "Epoch 191 [Valid]:   0%|          | 0/96 [00:00<?, ?it/s]"
      ]
     },
     "metadata": {},
     "output_type": "display_data"
    },
    {
     "name": "stdout",
     "output_type": "stream",
     "text": [
      "Epoch 191/1000 - Train Loss: 0.0070 (MA: 0.0073), Val Loss: 0.0115 (MA: 0.0112), Duration: 0:02:55.690689\n",
      "  Train Loss MA improved to 0.007342 from 0.007387 (0.61% improvement).\n",
      "  Saved new best model (train loss MA) at epoch 191\n",
      "Epoch 191: Generating visualization samples...\n",
      "Saved visualization samples to C:\\Projects\\jetbot-diffusion-world-model-kong-finder-aux\\output_model_5hz_DIAMOND\\samples\\val_vis_epoch_0191_samples.png\n"
     ]
    },
    {
     "data": {
      "application/vnd.jupyter.widget-view+json": {
       "model_id": "",
       "version_major": 2,
       "version_minor": 0
      },
      "text/plain": [
       "Epoch 192 [Train]:   0%|          | 0/855 [00:00<?, ?it/s]"
      ]
     },
     "metadata": {},
     "output_type": "display_data"
    },
    {
     "data": {
      "application/vnd.jupyter.widget-view+json": {
       "model_id": "",
       "version_major": 2,
       "version_minor": 0
      },
      "text/plain": [
       "Epoch 192 [Valid]:   0%|          | 0/96 [00:00<?, ?it/s]"
      ]
     },
     "metadata": {},
     "output_type": "display_data"
    },
    {
     "name": "stdout",
     "output_type": "stream",
     "text": [
      "Epoch 192/1000 - Train Loss: 0.0074 (MA: 0.0074), Val Loss: 0.0112 (MA: 0.0110), Duration: 0:02:55.761794\n",
      "  No improvement in train loss MA for 1 epoch(s). Best MA: 0.007342, Current MA: 0.007352\n",
      "Epoch 192: Generating visualization samples...\n",
      "Saved visualization samples to C:\\Projects\\jetbot-diffusion-world-model-kong-finder-aux\\output_model_5hz_DIAMOND\\samples\\val_vis_epoch_0192_samples.png\n"
     ]
    },
    {
     "data": {
      "application/vnd.jupyter.widget-view+json": {
       "model_id": "",
       "version_major": 2,
       "version_minor": 0
      },
      "text/plain": [
       "Epoch 193 [Train]:   0%|          | 0/855 [00:00<?, ?it/s]"
      ]
     },
     "metadata": {},
     "output_type": "display_data"
    },
    {
     "data": {
      "application/vnd.jupyter.widget-view+json": {
       "model_id": "",
       "version_major": 2,
       "version_minor": 0
      },
      "text/plain": [
       "Epoch 193 [Valid]:   0%|          | 0/96 [00:00<?, ?it/s]"
      ]
     },
     "metadata": {},
     "output_type": "display_data"
    },
    {
     "name": "stdout",
     "output_type": "stream",
     "text": [
      "Epoch 193/1000 - Train Loss: 0.0072 (MA: 0.0073), Val Loss: 0.0124 (MA: 0.0113), Duration: 0:02:55.719028\n",
      "  Train Loss MA improved to 0.007287 from 0.007342 (0.74% improvement).\n",
      "  Saved new best model (train loss MA) at epoch 193\n",
      "Epoch 193: Generating visualization samples...\n",
      "Saved visualization samples to C:\\Projects\\jetbot-diffusion-world-model-kong-finder-aux\\output_model_5hz_DIAMOND\\samples\\val_vis_epoch_0193_samples.png\n"
     ]
    },
    {
     "data": {
      "application/vnd.jupyter.widget-view+json": {
       "model_id": "",
       "version_major": 2,
       "version_minor": 0
      },
      "text/plain": [
       "Epoch 194 [Train]:   0%|          | 0/855 [00:00<?, ?it/s]"
      ]
     },
     "metadata": {},
     "output_type": "display_data"
    },
    {
     "data": {
      "application/vnd.jupyter.widget-view+json": {
       "model_id": "",
       "version_major": 2,
       "version_minor": 0
      },
      "text/plain": [
       "Epoch 194 [Valid]:   0%|          | 0/96 [00:00<?, ?it/s]"
      ]
     },
     "metadata": {},
     "output_type": "display_data"
    },
    {
     "name": "stdout",
     "output_type": "stream",
     "text": [
      "Epoch 194/1000 - Train Loss: 0.0069 (MA: 0.0073), Val Loss: 0.0134 (MA: 0.0119), Duration: 0:02:55.936574\n",
      "  Train Loss MA improved to 0.007269 from 0.007287 (0.25% improvement).\n",
      "  Saved new best model (train loss MA) at epoch 194\n",
      "Epoch 194: Generating visualization samples...\n",
      "Saved visualization samples to C:\\Projects\\jetbot-diffusion-world-model-kong-finder-aux\\output_model_5hz_DIAMOND\\samples\\val_vis_epoch_0194_samples.png\n"
     ]
    },
    {
     "data": {
      "application/vnd.jupyter.widget-view+json": {
       "model_id": "",
       "version_major": 2,
       "version_minor": 0
      },
      "text/plain": [
       "Epoch 195 [Train]:   0%|          | 0/855 [00:00<?, ?it/s]"
      ]
     },
     "metadata": {},
     "output_type": "display_data"
    },
    {
     "data": {
      "application/vnd.jupyter.widget-view+json": {
       "model_id": "",
       "version_major": 2,
       "version_minor": 0
      },
      "text/plain": [
       "Epoch 195 [Valid]:   0%|          | 0/96 [00:00<?, ?it/s]"
      ]
     },
     "metadata": {},
     "output_type": "display_data"
    },
    {
     "name": "stdout",
     "output_type": "stream",
     "text": [
      "Epoch 195/1000 - Train Loss: 0.0072 (MA: 0.0072), Val Loss: 0.0114 (MA: 0.0120), Duration: 0:02:55.842155\n",
      "  Train Loss MA improved to 0.007207 from 0.007269 (0.85% improvement).\n",
      "  Saved new best model (train loss MA) at epoch 195\n",
      "Epoch 195: Generating visualization samples...\n",
      "Saved visualization samples to C:\\Projects\\jetbot-diffusion-world-model-kong-finder-aux\\output_model_5hz_DIAMOND\\samples\\val_vis_epoch_0195_samples.png\n"
     ]
    },
    {
     "data": {
      "application/vnd.jupyter.widget-view+json": {
       "model_id": "",
       "version_major": 2,
       "version_minor": 0
      },
      "text/plain": [
       "Epoch 196 [Train]:   0%|          | 0/855 [00:00<?, ?it/s]"
      ]
     },
     "metadata": {},
     "output_type": "display_data"
    },
    {
     "data": {
      "application/vnd.jupyter.widget-view+json": {
       "model_id": "",
       "version_major": 2,
       "version_minor": 0
      },
      "text/plain": [
       "Epoch 196 [Valid]:   0%|          | 0/96 [00:00<?, ?it/s]"
      ]
     },
     "metadata": {},
     "output_type": "display_data"
    },
    {
     "name": "stdout",
     "output_type": "stream",
     "text": [
      "Epoch 196/1000 - Train Loss: 0.0070 (MA: 0.0072), Val Loss: 0.0108 (MA: 0.0118), Duration: 0:02:55.886930\n",
      "  Train Loss MA improved to 0.007160 from 0.007207 (0.66% improvement).\n",
      "  Saved new best model (train loss MA) at epoch 196\n",
      "Epoch 196: Generating visualization samples...\n",
      "Saved visualization samples to C:\\Projects\\jetbot-diffusion-world-model-kong-finder-aux\\output_model_5hz_DIAMOND\\samples\\val_vis_epoch_0196_samples.png\n"
     ]
    },
    {
     "data": {
      "application/vnd.jupyter.widget-view+json": {
       "model_id": "",
       "version_major": 2,
       "version_minor": 0
      },
      "text/plain": [
       "Epoch 197 [Train]:   0%|          | 0/855 [00:00<?, ?it/s]"
      ]
     },
     "metadata": {},
     "output_type": "display_data"
    },
    {
     "data": {
      "application/vnd.jupyter.widget-view+json": {
       "model_id": "",
       "version_major": 2,
       "version_minor": 0
      },
      "text/plain": [
       "Epoch 197 [Valid]:   0%|          | 0/96 [00:00<?, ?it/s]"
      ]
     },
     "metadata": {},
     "output_type": "display_data"
    },
    {
     "name": "stdout",
     "output_type": "stream",
     "text": [
      "Epoch 197/1000 - Train Loss: 0.0071 (MA: 0.0071), Val Loss: 0.0120 (MA: 0.0120), Duration: 0:02:55.982652\n",
      "  Train Loss MA improved to 0.007138 from 0.007160 (0.30% improvement).\n",
      "  Saved new best model (train loss MA) at epoch 197\n",
      "Epoch 197: Generating visualization samples...\n",
      "Saved visualization samples to C:\\Projects\\jetbot-diffusion-world-model-kong-finder-aux\\output_model_5hz_DIAMOND\\samples\\val_vis_epoch_0197_samples.png\n"
     ]
    },
    {
     "data": {
      "application/vnd.jupyter.widget-view+json": {
       "model_id": "",
       "version_major": 2,
       "version_minor": 0
      },
      "text/plain": [
       "Epoch 198 [Train]:   0%|          | 0/855 [00:00<?, ?it/s]"
      ]
     },
     "metadata": {},
     "output_type": "display_data"
    },
    {
     "data": {
      "application/vnd.jupyter.widget-view+json": {
       "model_id": "",
       "version_major": 2,
       "version_minor": 0
      },
      "text/plain": [
       "Epoch 198 [Valid]:   0%|          | 0/96 [00:00<?, ?it/s]"
      ]
     },
     "metadata": {},
     "output_type": "display_data"
    },
    {
     "name": "stdout",
     "output_type": "stream",
     "text": [
      "Epoch 198/1000 - Train Loss: 0.0075 (MA: 0.0071), Val Loss: 0.0110 (MA: 0.0117), Duration: 0:02:55.740088\n",
      "  No improvement in train loss MA for 1 epoch(s). Best MA: 0.007138, Current MA: 0.007147\n",
      "Epoch 198: Generating visualization samples...\n",
      "Saved visualization samples to C:\\Projects\\jetbot-diffusion-world-model-kong-finder-aux\\output_model_5hz_DIAMOND\\samples\\val_vis_epoch_0198_samples.png\n"
     ]
    },
    {
     "data": {
      "application/vnd.jupyter.widget-view+json": {
       "model_id": "",
       "version_major": 2,
       "version_minor": 0
      },
      "text/plain": [
       "Epoch 199 [Train]:   0%|          | 0/855 [00:00<?, ?it/s]"
      ]
     },
     "metadata": {},
     "output_type": "display_data"
    },
    {
     "data": {
      "application/vnd.jupyter.widget-view+json": {
       "model_id": "",
       "version_major": 2,
       "version_minor": 0
      },
      "text/plain": [
       "Epoch 199 [Valid]:   0%|          | 0/96 [00:00<?, ?it/s]"
      ]
     },
     "metadata": {},
     "output_type": "display_data"
    },
    {
     "name": "stdout",
     "output_type": "stream",
     "text": [
      "Epoch 199/1000 - Train Loss: 0.0071 (MA: 0.0072), Val Loss: 0.0121 (MA: 0.0115), Duration: 0:02:55.771028\n",
      "  No improvement in train loss MA for 2 epoch(s). Best MA: 0.007138, Current MA: 0.007155\n",
      "Epoch 199: Generating visualization samples...\n",
      "Saved visualization samples to C:\\Projects\\jetbot-diffusion-world-model-kong-finder-aux\\output_model_5hz_DIAMOND\\samples\\val_vis_epoch_0199_samples.png\n"
     ]
    },
    {
     "data": {
      "application/vnd.jupyter.widget-view+json": {
       "model_id": "",
       "version_major": 2,
       "version_minor": 0
      },
      "text/plain": [
       "Epoch 200 [Train]:   0%|          | 0/855 [00:00<?, ?it/s]"
      ]
     },
     "metadata": {},
     "output_type": "display_data"
    },
    {
     "data": {
      "application/vnd.jupyter.widget-view+json": {
       "model_id": "",
       "version_major": 2,
       "version_minor": 0
      },
      "text/plain": [
       "Epoch 200 [Valid]:   0%|          | 0/96 [00:00<?, ?it/s]"
      ]
     },
     "metadata": {},
     "output_type": "display_data"
    },
    {
     "name": "stdout",
     "output_type": "stream",
     "text": [
      "Epoch 200/1000 - Train Loss: 0.0071 (MA: 0.0072), Val Loss: 0.0108 (MA: 0.0114), Duration: 0:02:55.900046\n",
      "  No improvement in train loss MA for 3 epoch(s). Best MA: 0.007138, Current MA: 0.007151\n",
      "Saved model checkpoint at epoch 200\n",
      "Epoch 200: Generating visualization samples...\n",
      "Saved visualization samples to C:\\Projects\\jetbot-diffusion-world-model-kong-finder-aux\\output_model_5hz_DIAMOND\\samples\\val_vis_epoch_0200_samples.png\n",
      "Saved loss plot up to epoch 200\n"
     ]
    },
    {
     "data": {
      "application/vnd.jupyter.widget-view+json": {
       "model_id": "",
       "version_major": 2,
       "version_minor": 0
      },
      "text/plain": [
       "Epoch 201 [Train]:   0%|          | 0/855 [00:00<?, ?it/s]"
      ]
     },
     "metadata": {},
     "output_type": "display_data"
    },
    {
     "data": {
      "application/vnd.jupyter.widget-view+json": {
       "model_id": "",
       "version_major": 2,
       "version_minor": 0
      },
      "text/plain": [
       "Epoch 201 [Valid]:   0%|          | 0/96 [00:00<?, ?it/s]"
      ]
     },
     "metadata": {},
     "output_type": "display_data"
    },
    {
     "name": "stdout",
     "output_type": "stream",
     "text": [
      "Epoch 201/1000 - Train Loss: 0.0070 (MA: 0.0072), Val Loss: 0.0117 (MA: 0.0115), Duration: 0:02:55.838039\n",
      "  No improvement in train loss MA for 4 epoch(s). Best MA: 0.007138, Current MA: 0.007154\n",
      "Epoch 201: Generating visualization samples...\n",
      "Saved visualization samples to C:\\Projects\\jetbot-diffusion-world-model-kong-finder-aux\\output_model_5hz_DIAMOND\\samples\\val_vis_epoch_0201_samples.png\n"
     ]
    },
    {
     "data": {
      "application/vnd.jupyter.widget-view+json": {
       "model_id": "",
       "version_major": 2,
       "version_minor": 0
      },
      "text/plain": [
       "Epoch 202 [Train]:   0%|          | 0/855 [00:00<?, ?it/s]"
      ]
     },
     "metadata": {},
     "output_type": "display_data"
    },
    {
     "data": {
      "application/vnd.jupyter.widget-view+json": {
       "model_id": "",
       "version_major": 2,
       "version_minor": 0
      },
      "text/plain": [
       "Epoch 202 [Valid]:   0%|          | 0/96 [00:00<?, ?it/s]"
      ]
     },
     "metadata": {},
     "output_type": "display_data"
    },
    {
     "name": "stdout",
     "output_type": "stream",
     "text": [
      "Epoch 202/1000 - Train Loss: 0.0073 (MA: 0.0071), Val Loss: 0.0116 (MA: 0.0115), Duration: 0:02:56.898924\n",
      "  No improvement in train loss MA for 5 epoch(s). Best MA: 0.007138, Current MA: 0.007143\n",
      "  Patience met. Current Train MA: 0.007143, Historical MA before streak (10 epochs): 0.007138. Improvement: -0.06%\n",
      "Early stopping triggered: Improvement -0.06% < threshold 0.1%.\n",
      "--- Training Complete (Stopped after epoch 202) ---\n",
      "Total training duration: 10:09:04.225860\n",
      "Final loss plot saved to C:\\Projects\\jetbot-diffusion-world-model-kong-finder-aux\\output_model_5hz_DIAMOND\\plots\\denoiser_final_loss_plot.png\n"
     ]
    },
    {
     "data": {
      "image/png": "[encoded data removed]",
      "text/plain": [
       "<Figure size 1200x600 with 1 Axes>"
      ]
     },
     "metadata": {},
     "output_type": "display_data"
    }
   ],
   "source": [
    "print(\"--- Starting Training Process ---\")\n",
    "overall_training_start_time = time.time() \n",
    "\n",
    "all_train_losses_for_plot = [] \n",
    "all_val_losses_for_plot = []   \n",
    "\n",
    "train_loss_moving_avg_q = deque(maxlen=TRAIN_MOVING_AVG_WINDOW)\n",
    "best_train_loss_ma = BEST_TRAIN_LOSS_MA_FROM_CKPT \n",
    "epochs_without_improvement_train = 0\n",
    "previous_best_train_model_path = PREVIOUS_BEST_TRAIN_MODEL_PATH \n",
    "\n",
    "val_loss_moving_avg_q = deque(maxlen=VAL_MOVING_AVG_WINDOW)\n",
    "final_epoch_completed = START_EPOCH -1 # Corrected initialization\n",
    "\n",
    "for epoch in range(START_EPOCH, NUM_EPOCHS):\n",
    "    epoch_start_time = time.time()\n",
    "    current_epoch_num_for_log = epoch + 1\n",
    "    # final_epoch_completed = epoch # Moved to end of loop for correct value if early stopping\n",
    "\n",
    "    avg_train_loss = train_denoiser_epoch(\n",
    "        denoiser, train_dataloader, optimizer,\n",
    "        GRAD_CLIP_VALUE, DEVICE, current_epoch_num_for_log\n",
    "    )\n",
    "    all_train_losses_for_plot.append(avg_train_loss)\n",
    "    train_loss_moving_avg_q.append(avg_train_loss)\n",
    "    current_train_moving_avg = sum(train_loss_moving_avg_q) / len(train_loss_moving_avg_q) if train_loss_moving_avg_q else float('inf')\n",
    "\n",
    "    avg_val_loss = validate_denoiser_epoch(\n",
    "        denoiser, val_dataloader, DEVICE, current_epoch_num_for_log\n",
    "    )\n",
    "    all_val_losses_for_plot.append(avg_val_loss)\n",
    "    val_loss_moving_avg_q.append(avg_val_loss) \n",
    "    current_val_moving_avg = sum(val_loss_moving_avg_q) / len(val_loss_moving_avg_q) if val_loss_moving_avg_q else float('inf')\n",
    "\n",
    "    epoch_duration_seconds = time.time() - epoch_start_time\n",
    "    epoch_duration_formatted = str(datetime.timedelta(seconds=epoch_duration_seconds))\n",
    "\n",
    "    print(f\"Epoch {current_epoch_num_for_log}/{NUM_EPOCHS} - Train Loss: {avg_train_loss:.4f} (MA: {current_train_moving_avg:.4f}), Val Loss: {avg_val_loss:.4f} (MA: {current_val_moving_avg:.4f}), Duration: {epoch_duration_formatted}\")\n",
    "\n",
    "    if lr_scheduler: lr_scheduler.step(avg_val_loss if isinstance(lr_scheduler, torch.optim.lr_scheduler.ReduceLROnPlateau) else None)\n",
    "\n",
    "    should_stop_early = False\n",
    "    # Early stopping logic (using EARLY_STOPPING_MIN_EPOCHS correctly)\n",
    "    if current_epoch_num_for_log > EARLY_STOPPING_MIN_EPOCHS: # Check after min epochs completed\n",
    "        if current_train_moving_avg < best_train_loss_ma : \n",
    "            # ... (rest of early stopping logic seems okay, ensure it uses current_epoch_num_for_log correctly)\n",
    "            improvement_over_absolute_best = (best_train_loss_ma - current_train_moving_avg) / abs(best_train_loss_ma + 1e-9) * 100\n",
    "            print(f\"  Train Loss MA improved to {current_train_moving_avg:.6f} from {best_train_loss_ma:.6f} ({improvement_over_absolute_best:.2f}% improvement).\")\n",
    "            best_train_loss_ma = current_train_moving_avg\n",
    "            epochs_without_improvement_train = 0\n",
    "            new_best_model_path = os.path.join(config.CHECKPOINT_DIR, \"denoiser_model_best_train_loss.pth\")\n",
    "            torch.save({\n",
    "                'epoch': epoch, 'model_state_dict': denoiser.state_dict(),\n",
    "                'optimizer_state_dict': optimizer.state_dict(), 'loss': avg_train_loss, \n",
    "                'val_loss': avg_val_loss, 'best_train_loss_ma': best_train_loss_ma\n",
    "            }, new_best_model_path)\n",
    "            print(f\"  Saved new best model (train loss MA) at epoch {current_epoch_num_for_log}\")\n",
    "            if previous_best_train_model_path and previous_best_train_model_path != new_best_model_path and os.path.exists(previous_best_train_model_path):\n",
    "                try: os.remove(previous_best_train_model_path); print(f\"  Deleted previous best train model: {previous_best_train_model_path}\")\n",
    "                except OSError as e: print(f\"  Warning: Could not delete previous best train model '{previous_best_train_model_path}': {e}\")\n",
    "            previous_best_train_model_path = new_best_model_path\n",
    "        else: \n",
    "            epochs_without_improvement_train += 1\n",
    "            print(f\"  No improvement in train loss MA for {epochs_without_improvement_train} epoch(s). Best MA: {best_train_loss_ma:.6f}, Current MA: {current_train_moving_avg:.6f}\")\n",
    "            if epochs_without_improvement_train >= EARLY_STOPPING_PATIENCE:\n",
    "                # ... (percentage improvement check)\n",
    "                idx_before_streak_started = len(all_train_losses_for_plot) - epochs_without_improvement_train -1 # Index of the epoch before non-improvement streak\n",
    "                # Ensure indices are valid\n",
    "                if idx_before_streak_started >= 0:\n",
    "                    # Calculate MA from historical_losses_for_ma of length TRAIN_MOVING_AVG_WINDOW ending at idx_before_streak_started\n",
    "                    historical_window_start = max(0, idx_before_streak_started - TRAIN_MOVING_AVG_WINDOW + 1)\n",
    "                    historical_losses_for_ma_calc = all_train_losses_for_plot[historical_window_start : idx_before_streak_started + 1]\n",
    "\n",
    "                    if len(historical_losses_for_ma_calc) >= TRAIN_MOVING_AVG_WINDOW // 2 : # Need at least half window\n",
    "                        historical_train_ma = sum(historical_losses_for_ma_calc) / len(historical_losses_for_ma_calc)\n",
    "                        # Improvement is positive if current_train_moving_avg is smaller\n",
    "                        percentage_improvement_vs_historical = (historical_train_ma - current_train_moving_avg) / abs(historical_train_ma + 1e-9) * 100\n",
    "                        print(f\"  Patience met. Current Train MA: {current_train_moving_avg:.6f}, Historical MA before streak ({len(historical_losses_for_ma_calc)} epochs): {historical_train_ma:.6f}. Improvement: {percentage_improvement_vs_historical:.2f}%\")\n",
    "                        if percentage_improvement_vs_historical < EARLY_STOPPING_PERCENTAGE:\n",
    "                            should_stop_early = True\n",
    "                            print(f\"Early stopping triggered: Improvement {percentage_improvement_vs_historical:.2f}% < threshold {EARLY_STOPPING_PERCENTAGE}%.\")\n",
    "                    else:\n",
    "                        print(f\"  Patience met, but not enough historical data ({len(historical_losses_for_ma_calc)} points out of {TRAIN_MOVING_AVG_WINDOW}) to reliably calculate percentage improvement for early stopping.\")\n",
    "                else:\n",
    "                     print(f\"  Patience met, but not enough historical data (idx_before_streak_started = {idx_before_streak_started}) to compare.\")\n",
    "\n",
    "    \n",
    "    if (current_epoch_num_for_log % SAVE_MODEL_EVERY == 0) or (epoch == NUM_EPOCHS - 1):\n",
    "        is_best_this_epoch = current_train_moving_avg == best_train_loss_ma # Check if current MA is the best overall\n",
    "        # Avoid saving regular checkpoint if it's also the best_train_loss epoch to prevent duplicate saves\n",
    "        if not (is_best_this_epoch and os.path.join(config.CHECKPOINT_DIR, \"denoiser_model_best_train_loss.pth\") == previous_best_train_model_path):\n",
    "             torch.save({\n",
    "                'epoch': epoch, 'model_state_dict': denoiser.state_dict(),\n",
    "                'optimizer_state_dict': optimizer.state_dict(), 'loss': avg_train_loss,\n",
    "                'val_loss': avg_val_loss, 'best_train_loss_ma': best_train_loss_ma # Save current best_train_loss_ma\n",
    "            }, os.path.join(config.CHECKPOINT_DIR, f\"denoiser_model_epoch_{current_epoch_num_for_log:04d}.pth\"))\n",
    "             print(f\"Saved model checkpoint at epoch {current_epoch_num_for_log}\")\n",
    "    \n",
    "    final_epoch_completed = epoch # Update last completed epoch here\n",
    "    if should_stop_early: break\n",
    "\n",
    "    if (current_epoch_num_for_log % SAMPLE_EVERY == 0) or (epoch == NUM_EPOCHS - 1):\n",
    "        print(f\"Epoch {current_epoch_num_for_log}: Generating visualization samples...\")\n",
    "        denoiser.eval()\n",
    "        try: \n",
    "            vis_batch_target_img, vis_batch_act_single, vis_batch_prev_frames_flat = next(iter(val_dataloader))\n",
    "        except StopIteration: \n",
    "            val_dataloader_iter = iter(DataLoader(val_dataset, batch_size=BATCH_SIZE, shuffle=True)); \n",
    "            vis_batch_target_img, vis_batch_act_single, vis_batch_prev_frames_flat = next(val_dataloader_iter)\n",
    "        \n",
    "        n_vis_samples = min(4, vis_batch_target_img.shape[0])\n",
    "        \n",
    "        # Prepare inputs for DiffusionSampler.sample(prev_obs, prev_act)\n",
    "        # 1. prev_obs: Needs to be (B, NumPrevFrames, C, H, W) for the sampler's initial unpack\n",
    "        prev_frames_flat_for_sampler = vis_batch_prev_frames_flat[:n_vis_samples].to(DEVICE) # Shape (B, NumPrevFrames*C, H, W)\n",
    "        \n",
    "        num_prev_frames_const = config.NUM_PREV_FRAMES\n",
    "        img_channels_const = DM_IMG_CHANNELS\n",
    "        img_h_const = config.IMAGE_SIZE\n",
    "        img_w_const = config.IMAGE_SIZE\n",
    "        \n",
    "        prev_frames_for_sampler_input_5d = prev_frames_flat_for_sampler.view(\n",
    "            n_vis_samples, \n",
    "            num_prev_frames_const, \n",
    "            img_channels_const, \n",
    "            img_h_const, \n",
    "            img_w_const\n",
    "        )\n",
    "\n",
    "        # 2. prev_act: (B, NumPrevFrames)\n",
    "        action_single_for_sampler = vis_batch_act_single[:n_vis_samples].to(DEVICE) # (B, 1)\n",
    "        action_sequence_for_sampler = action_single_for_sampler.repeat(1, config.NUM_PREV_FRAMES).long() # (B, NumPrevFrames)\n",
    "        \n",
    "        with torch.no_grad():\n",
    "            generated_output = diffusion_sampler.sample(\n",
    "                prev_obs=prev_frames_for_sampler_input_5d, # Pass the reshaped 5D tensor\n",
    "                prev_act=action_sequence_for_sampler \n",
    "            )\n",
    "        generated_sample_tensor = generated_output[0] \n",
    "        \n",
    "        ground_truth_for_vis = vis_batch_target_img[:n_vis_samples].to(DEVICE) \n",
    "        \n",
    "        save_visualization_samples(generated_sample_tensor, ground_truth_for_vis, current_epoch_num_for_log, config.SAMPLE_DIR, prefix=\"val_vis\")\n",
    "        denoiser.train()\n",
    "\n",
    "    if (current_epoch_num_for_log % PLOT_EVERY == 0) or (epoch == NUM_EPOCHS - 1) or should_stop_early :\n",
    "        plt.figure(figsize=(12, 6))\n",
    "        plt.plot(all_train_losses_for_plot, label=\"Avg Train Loss\")\n",
    "        plt.plot(all_val_losses_for_plot, label=\"Avg Validation Loss\")\n",
    "        if len(all_train_losses_for_plot) >= TRAIN_MOVING_AVG_WINDOW:\n",
    "            train_ma_plot = [sum(all_train_losses_for_plot[i-TRAIN_MOVING_AVG_WINDOW+1:i+1])/TRAIN_MOVING_AVG_WINDOW for i in range(TRAIN_MOVING_AVG_WINDOW-1, len(all_train_losses_for_plot))]\n",
    "            plt.plot(range(TRAIN_MOVING_AVG_WINDOW-1, len(all_train_losses_for_plot)), train_ma_plot, label=f'Train Loss MA ({TRAIN_MOVING_AVG_WINDOW} epochs)', linestyle=':')\n",
    "        if len(all_val_losses_for_plot) >= VAL_MOVING_AVG_WINDOW:\n",
    "            val_ma_plot = [sum(all_val_losses_for_plot[i-VAL_MOVING_AVG_WINDOW+1:i+1])/VAL_MOVING_AVG_WINDOW for i in range(VAL_MOVING_AVG_WINDOW-1, len(all_val_losses_for_plot))]\n",
    "            plt.plot(range(VAL_MOVING_AVG_WINDOW-1, len(all_val_losses_for_plot)), val_ma_plot, label=f'Val Loss MA ({VAL_MOVING_AVG_WINDOW} epochs)', linestyle='--')\n",
    "        plt.xlabel(\"Epoch\"); plt.ylabel(\"Loss\"); plt.title(f\"Progress (Epoch {current_epoch_num_for_log})\")\n",
    "        plt.legend(); plt.grid(True)\n",
    "        plt.savefig(os.path.join(config.PLOT_DIR, f\"loss_plot_epoch_{current_epoch_num_for_log:04d}.png\"))\n",
    "        plt.close()\n",
    "        print(f\"Saved loss plot up to epoch {current_epoch_num_for_log}\")\n",
    "\n",
    "overall_training_end_time = time.time()\n",
    "total_training_duration_seconds = overall_training_end_time - overall_training_start_time\n",
    "total_training_duration_formatted = str(datetime.timedelta(seconds=total_training_duration_seconds))\n",
    "\n",
    "# final_epoch_completed is the last epoch index that ran (0-indexed)\n",
    "print(f\"--- Training Complete (Stopped after epoch {final_epoch_completed + 1}) ---\") \n",
    "print(f\"Total training duration: {total_training_duration_formatted}\") \n",
    "\n",
    "# Final Plot\n",
    "plt.figure(figsize=(12, 6))\n",
    "plt.plot(all_train_losses_for_plot, label=\"Avg Train Loss\")\n",
    "plt.plot(all_val_losses_for_plot, label=\"Avg Validation Loss\")\n",
    "if len(all_train_losses_for_plot) >= TRAIN_MOVING_AVG_WINDOW:\n",
    "    train_ma_plot = [sum(all_train_losses_for_plot[i-TRAIN_MOVING_AVG_WINDOW+1:i+1])/TRAIN_MOVING_AVG_WINDOW for i in range(TRAIN_MOVING_AVG_WINDOW-1, len(all_train_losses_for_plot))]\n",
    "    plt.plot(range(TRAIN_MOVING_AVG_WINDOW-1, len(all_train_losses_for_plot)), train_ma_plot, label=f'Train Loss MA ({TRAIN_MOVING_AVG_WINDOW} epochs)', linestyle=':')\n",
    "if len(all_val_losses_for_plot) >= VAL_MOVING_AVG_WINDOW:\n",
    "    val_ma_plot = [sum(all_val_losses_for_plot[i-VAL_MOVING_AVG_WINDOW+1:i+1])/VAL_MOVING_AVG_WINDOW for i in range(VAL_MOVING_AVG_WINDOW-1, len(all_val_losses_for_plot))]\n",
    "    plt.plot(range(VAL_MOVING_AVG_WINDOW-1, len(all_val_losses_for_plot)), val_ma_plot, label=f'Val Loss MA ({VAL_MOVING_AVG_WINDOW} epochs)', linestyle='--')\n",
    "plt.xlabel(\"Epoch\"); plt.ylabel(\"Loss\"); plt.title(f\"Denoiser Final Training & Validation Loss (Up to Epoch {final_epoch_completed + 1})\")\n",
    "plt.legend(); plt.grid(True)\n",
    "final_loss_plot_path = os.path.join(config.PLOT_DIR, \"denoiser_final_loss_plot.png\")\n",
    "plt.savefig(final_loss_plot_path)\n",
    "# plt.show() # Usually not needed in script, but can be uncommented for interactive\n",
    "print(f\"Final loss plot saved to {final_loss_plot_path}\")\n"
   ]
  }
 ],
 "metadata": {
  "kernelspec": {
   "display_name": "Python 3 (ipykernel)",
   "language": "python",
   "name": "python3"
  },
  "language_info": {
   "codemirror_mode": {
    "name": "ipython",
    "version": 3
   },
   "file_extension": ".py",
   "mimetype": "text/x-python",
   "name": "python",
   "nbconvert_exporter": "python",
   "pygments_lexer": "ipython3",
   "version": "3.11.9"
  }
 },
 "nbformat": 4,
 "nbformat_minor": 5
}
