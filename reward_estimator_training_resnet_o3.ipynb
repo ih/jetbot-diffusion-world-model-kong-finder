{
 "cells": [
  {
   "cell_type": "markdown",
   "id": "5b413e25",
   "metadata": {},
   "source": [
    "# Reward Estimator Training – **ResNet‑18 + Multi‑Frame + Reward Labels**  (v4)\n",
    "Now with live **progress bars** and a quick sanity check that the GPU is actually used.\n",
    "*If your MSI Afterburner still shows 0 % GPU, scroll to the first code cell – it prints what Torch thinks the current device is and whether CUDA is available.*"
   ]
  },
  {
   "cell_type": "code",
   "execution_count": 1,
   "id": "7920c544",
   "metadata": {},
   "outputs": [
    {
     "name": "stdout",
     "output_type": "stream",
     "text": [
      "Using device: cuda | CUDA visible → True\n"
     ]
    }
   ],
   "source": [
    "import os, random, numpy as np, pandas as pd, torch, torch.nn as nn\n",
    "from torch.utils.data import DataLoader, Dataset, random_split\n",
    "from torchvision import transforms\n",
    "from tqdm.auto import tqdm\n",
    "from PIL import Image\n",
    "from pathlib import Path\n",
    "import config\n",
    "from models import RewardEstimatorResNet\n",
    "\n",
    "device = torch.device('cuda' if torch.cuda.is_available() else 'cpu')\n",
    "print('Using device:', device, '| CUDA visible →', torch.cuda.is_available())"
   ]
  },
  {
   "cell_type": "code",
   "execution_count": 2,
   "id": "96d9c1fd",
   "metadata": {},
   "outputs": [
    {
     "name": "stdout",
     "output_type": "stream",
     "text": [
      "REWARD_MODEL_OUTPUT_DIR  → C:\\Projects\\jetbot-diffusion-world-model-kong-finder-aux\\output_model_small_session_split_data\\reward_estimator\n",
      "REWARD_CSV_PATH          → C:\\Projects\\jetbot-diffusion-world-model-kong-finder-aux\\jetbot_data_two_actions\\interactive_reward_labels_subset.csv\n",
      "MAIN_CSV_PATH            → C:\\Projects\\jetbot-diffusion-world-model-kong-finder-aux\\jetbot_data_two_actions\\data.csv\n",
      "MAIN_DATA_DIR            → C:\\Projects\\jetbot-diffusion-world-model-kong-finder-aux\\jetbot_data_two_actions\n",
      "Config ready ✨\n"
     ]
    }
   ],
   "source": [
    "# ---------------- Hyper‑parameters / paths ----------------\n",
    "# CHECKPOINT_DIR = Path(\"outputs/reward_estimator_resnet\")\n",
    "# CHECKPOINT_DIR.mkdir(parents=True, exist_ok=True)\n",
    "\n",
    "REWARD_MODEL_OUTPUT_DIR = os.path.join(config.OUTPUT_DIR, \"reward_estimator\")\n",
    "os.makedirs(REWARD_MODEL_OUTPUT_DIR, exist_ok=True)\n",
    "\n",
    "REWARD_CSV_PATH = config.MANUAL_COLLECTED_REWARD_CSV   # labels CSV\n",
    "MAIN_CSV_PATH   = config.CSV_PATH                      # master frames CSV\n",
    "MAIN_DATA_DIR   = config.DATA_DIR                      # image folder\n",
    "\n",
    "# print(\"CHECKPOINT_DIR           →\", CHECKPOINT_DIR.resolve())\n",
    "print(\"REWARD_MODEL_OUTPUT_DIR  →\", os.path.abspath(REWARD_MODEL_OUTPUT_DIR))\n",
    "print(\"REWARD_CSV_PATH          →\", REWARD_CSV_PATH)\n",
    "print(\"MAIN_CSV_PATH            →\", MAIN_CSV_PATH)\n",
    "print(\"MAIN_DATA_DIR            →\", MAIN_DATA_DIR)\n",
    "\n",
    "config.NUM_PREV_FRAMES = 4               # N previous frames (→ 5‑frame input)\n",
    "config.BATCH_SIZE      = 64\n",
    "config.LR              = 3e-4\n",
    "config.IMAGE_SIZE      = getattr(config, 'IMAGE_SIZE', 128)\n",
    "print('Config ready ✨')"
   ]
  },
  {
   "cell_type": "code",
   "execution_count": 3,
   "id": "6d258831",
   "metadata": {},
   "outputs": [],
   "source": [
    "# ---------------- Dataset (unchanged from v3) ----------------\n",
    "class StackedRewardDataset(Dataset):\n",
    "    def __init__(self, main_csv_path, reward_csv_path, data_dir, image_size, num_prev_frames, transform=None):\n",
    "        super().__init__()\n",
    "        self.main_df   = pd.read_csv(main_csv_path)\n",
    "        self.reward_df = pd.read_csv(reward_csv_path)\n",
    "        self.data_dir  = data_dir\n",
    "        self.image_size = image_size\n",
    "        self.transform = transform\n",
    "        self.num_prev_frames = num_prev_frames\n",
    "\n",
    "        self.reward_map = dict(zip(self.reward_df['dataframe_index'], self.reward_df['assigned_reward']))\n",
    "        self.valid_indices = [\n",
    "            i for i in range(self.num_prev_frames, len(self.main_df))\n",
    "            if i in self.reward_map and (\n",
    "                'session_id' not in self.main_df.columns or\n",
    "                self.main_df.iloc[i]['session_id'] == self.main_df.iloc[i - self.num_prev_frames]['session_id']\n",
    "            )\n",
    "        ]\n",
    "        if not self.valid_indices:\n",
    "            raise ValueError('No valid indices found')\n",
    "        print(f'Dataset loaded → {len(self.valid_indices)} sequences with labels')\n",
    "\n",
    "    def __len__(self):\n",
    "        return len(self.valid_indices)\n",
    "\n",
    "    def _load(self, rel):\n",
    "        img = Image.open(os.path.join(self.data_dir, rel)).convert('RGB')\n",
    "        return self.transform(img) if self.transform else transforms.ToTensor()(img)\n",
    "\n",
    "    def __getitem__(self, idx):\n",
    "        i = self.valid_indices[idx]\n",
    "        reward = self.reward_map[i]\n",
    "        curr_row = self.main_df.iloc[i]\n",
    "        curr = self._load(curr_row['image_path'])\n",
    "        prev = [self._load(self.main_df.iloc[i - off]['image_path']) for off in range(self.num_prev_frames, 0, -1)]\n",
    "        stacked = torch.cat(prev + [curr], dim=0)\n",
    "        return stacked, torch.tensor(reward, dtype=torch.float32)"
   ]
  },
  {
   "cell_type": "code",
   "execution_count": 4,
   "id": "0c4f15f8",
   "metadata": {},
   "outputs": [
    {
     "name": "stdout",
     "output_type": "stream",
     "text": [
      "Dataset loaded → 3164 sequences with labels\n",
      "Train/Val split → 2531 / 633 samples\n"
     ]
    }
   ],
   "source": [
    "# ---------------- Build loaders ----------------\n",
    "tfm = transforms.Compose([\n",
    "    transforms.Resize((config.IMAGE_SIZE, config.IMAGE_SIZE)),\n",
    "    transforms.ToTensor()\n",
    "])\n",
    "\n",
    "full_ds = StackedRewardDataset(\n",
    "    MAIN_CSV_PATH,        # ← new\n",
    "    REWARD_CSV_PATH,      # ← new\n",
    "    MAIN_DATA_DIR,        # ← new\n",
    "    config.IMAGE_SIZE,\n",
    "    config.NUM_PREV_FRAMES,\n",
    "    tfm\n",
    ")\n",
    "train_ds, val_ds = random_split(full_ds, [int(0.8 * len(full_ds)), len(full_ds) - int(0.8 * len(full_ds))], generator=torch.Generator().manual_seed(42))\n",
    "\n",
    "train_loader = DataLoader(train_ds, batch_size=config.BATCH_SIZE, shuffle=True,  num_workers=0, pin_memory=True)\n",
    "val_loader   = DataLoader(val_ds,   batch_size=config.BATCH_SIZE, shuffle=False, num_workers=0, pin_memory=True)\n",
    "\n",
    "print(f'Train/Val split → {len(train_ds)} / {len(val_ds)} samples')"
   ]
  },
  {
   "cell_type": "code",
   "execution_count": 5,
   "id": "3a631b4a",
   "metadata": {},
   "outputs": [
    {
     "name": "stdout",
     "output_type": "stream",
     "text": [
      "Param count: 11.21 M\n"
     ]
    }
   ],
   "source": [
    "# ---------------- Model / Optim / AMP ----------------\n",
    "model = RewardEstimatorResNet(n_frames=config.NUM_PREV_FRAMES + 1).to(device)\n",
    "opt   = torch.optim.AdamW(model.parameters(), lr=config.LR)\n",
    "scaler = torch.cuda.amp.GradScaler(enabled=(device.type=='cuda'))\n",
    "loss_fn = nn.MSELoss()\n",
    "\n",
    "print(f'Param count: {sum(p.numel() for p in model.parameters())/1e6:.2f} M')"
   ]
  },
  {
   "cell_type": "code",
   "execution_count": 7,
   "id": "46f847a7",
   "metadata": {},
   "outputs": [
    {
     "data": {
      "application/vnd.jupyter.widget-view+json": {
       "model_id": "",
       "version_major": 2,
       "version_minor": 0
      },
      "text/plain": [
       "E01/train:   0%|          | 0/40 [00:00<?, ?batch/s]"
      ]
     },
     "metadata": {},
     "output_type": "display_data"
    },
    {
     "data": {
      "application/vnd.jupyter.widget-view+json": {
       "model_id": "",
       "version_major": 2,
       "version_minor": 0
      },
      "text/plain": [
       "E01/val :   0%|          | 0/10 [00:00<?, ?batch/s]"
      ]
     },
     "metadata": {},
     "output_type": "display_data"
    },
    {
     "name": "stdout",
     "output_type": "stream",
     "text": [
      "Epoch 01/50 ▸ train 0.0024  val 0.0072  best 0.0072✨  (best)\n"
     ]
    },
    {
     "data": {
      "application/vnd.jupyter.widget-view+json": {
       "model_id": "",
       "version_major": 2,
       "version_minor": 0
      },
      "text/plain": [
       "E02/train:   0%|          | 0/40 [00:00<?, ?batch/s]"
      ]
     },
     "metadata": {},
     "output_type": "display_data"
    },
    {
     "data": {
      "application/vnd.jupyter.widget-view+json": {
       "model_id": "",
       "version_major": 2,
       "version_minor": 0
      },
      "text/plain": [
       "E02/val :   0%|          | 0/10 [00:00<?, ?batch/s]"
      ]
     },
     "metadata": {},
     "output_type": "display_data"
    },
    {
     "name": "stdout",
     "output_type": "stream",
     "text": [
      "Epoch 02/50 ▸ train 0.0028  val 0.0049  best 0.0049✨  (best)\n"
     ]
    },
    {
     "data": {
      "application/vnd.jupyter.widget-view+json": {
       "model_id": "",
       "version_major": 2,
       "version_minor": 0
      },
      "text/plain": [
       "E03/train:   0%|          | 0/40 [00:00<?, ?batch/s]"
      ]
     },
     "metadata": {},
     "output_type": "display_data"
    },
    {
     "data": {
      "application/vnd.jupyter.widget-view+json": {
       "model_id": "",
       "version_major": 2,
       "version_minor": 0
      },
      "text/plain": [
       "E03/val :   0%|          | 0/10 [00:00<?, ?batch/s]"
      ]
     },
     "metadata": {},
     "output_type": "display_data"
    },
    {
     "name": "stdout",
     "output_type": "stream",
     "text": [
      "Epoch 03/50 ▸ train 0.0023  val 0.0050  best 0.0049\n"
     ]
    },
    {
     "data": {
      "application/vnd.jupyter.widget-view+json": {
       "model_id": "",
       "version_major": 2,
       "version_minor": 0
      },
      "text/plain": [
       "E04/train:   0%|          | 0/40 [00:00<?, ?batch/s]"
      ]
     },
     "metadata": {},
     "output_type": "display_data"
    },
    {
     "data": {
      "application/vnd.jupyter.widget-view+json": {
       "model_id": "",
       "version_major": 2,
       "version_minor": 0
      },
      "text/plain": [
       "E04/val :   0%|          | 0/10 [00:00<?, ?batch/s]"
      ]
     },
     "metadata": {},
     "output_type": "display_data"
    },
    {
     "name": "stdout",
     "output_type": "stream",
     "text": [
      "Epoch 04/50 ▸ train 0.0015  val 0.0044  best 0.0044✨  (best)\n"
     ]
    },
    {
     "data": {
      "application/vnd.jupyter.widget-view+json": {
       "model_id": "",
       "version_major": 2,
       "version_minor": 0
      },
      "text/plain": [
       "E05/train:   0%|          | 0/40 [00:00<?, ?batch/s]"
      ]
     },
     "metadata": {},
     "output_type": "display_data"
    },
    {
     "data": {
      "application/vnd.jupyter.widget-view+json": {
       "model_id": "",
       "version_major": 2,
       "version_minor": 0
      },
      "text/plain": [
       "E05/val :   0%|          | 0/10 [00:00<?, ?batch/s]"
      ]
     },
     "metadata": {},
     "output_type": "display_data"
    },
    {
     "name": "stdout",
     "output_type": "stream",
     "text": [
      "Epoch 05/50 ▸ train 0.0019  val 0.0056  best 0.0044\n"
     ]
    },
    {
     "data": {
      "application/vnd.jupyter.widget-view+json": {
       "model_id": "",
       "version_major": 2,
       "version_minor": 0
      },
      "text/plain": [
       "E06/train:   0%|          | 0/40 [00:00<?, ?batch/s]"
      ]
     },
     "metadata": {},
     "output_type": "display_data"
    },
    {
     "data": {
      "application/vnd.jupyter.widget-view+json": {
       "model_id": "",
       "version_major": 2,
       "version_minor": 0
      },
      "text/plain": [
       "E06/val :   0%|          | 0/10 [00:00<?, ?batch/s]"
      ]
     },
     "metadata": {},
     "output_type": "display_data"
    },
    {
     "name": "stdout",
     "output_type": "stream",
     "text": [
      "Epoch 06/50 ▸ train 0.0019  val 0.0043  best 0.0043✨  (best)\n"
     ]
    },
    {
     "data": {
      "application/vnd.jupyter.widget-view+json": {
       "model_id": "",
       "version_major": 2,
       "version_minor": 0
      },
      "text/plain": [
       "E07/train:   0%|          | 0/40 [00:00<?, ?batch/s]"
      ]
     },
     "metadata": {},
     "output_type": "display_data"
    },
    {
     "data": {
      "application/vnd.jupyter.widget-view+json": {
       "model_id": "",
       "version_major": 2,
       "version_minor": 0
      },
      "text/plain": [
       "E07/val :   0%|          | 0/10 [00:00<?, ?batch/s]"
      ]
     },
     "metadata": {},
     "output_type": "display_data"
    },
    {
     "name": "stdout",
     "output_type": "stream",
     "text": [
      "Epoch 07/50 ▸ train 0.0018  val 0.0039  best 0.0039✨  (best)\n"
     ]
    },
    {
     "data": {
      "application/vnd.jupyter.widget-view+json": {
       "model_id": "",
       "version_major": 2,
       "version_minor": 0
      },
      "text/plain": [
       "E08/train:   0%|          | 0/40 [00:00<?, ?batch/s]"
      ]
     },
     "metadata": {},
     "output_type": "display_data"
    },
    {
     "data": {
      "application/vnd.jupyter.widget-view+json": {
       "model_id": "",
       "version_major": 2,
       "version_minor": 0
      },
      "text/plain": [
       "E08/val :   0%|          | 0/10 [00:00<?, ?batch/s]"
      ]
     },
     "metadata": {},
     "output_type": "display_data"
    },
    {
     "name": "stdout",
     "output_type": "stream",
     "text": [
      "Epoch 08/50 ▸ train 0.0018  val 0.0038  best 0.0038✨  (best)\n"
     ]
    },
    {
     "data": {
      "application/vnd.jupyter.widget-view+json": {
       "model_id": "",
       "version_major": 2,
       "version_minor": 0
      },
      "text/plain": [
       "E09/train:   0%|          | 0/40 [00:00<?, ?batch/s]"
      ]
     },
     "metadata": {},
     "output_type": "display_data"
    },
    {
     "data": {
      "application/vnd.jupyter.widget-view+json": {
       "model_id": "",
       "version_major": 2,
       "version_minor": 0
      },
      "text/plain": [
       "E09/val :   0%|          | 0/10 [00:00<?, ?batch/s]"
      ]
     },
     "metadata": {},
     "output_type": "display_data"
    },
    {
     "name": "stdout",
     "output_type": "stream",
     "text": [
      "Epoch 09/50 ▸ train 0.0012  val 0.0034  best 0.0034✨  (best)\n"
     ]
    },
    {
     "data": {
      "application/vnd.jupyter.widget-view+json": {
       "model_id": "",
       "version_major": 2,
       "version_minor": 0
      },
      "text/plain": [
       "E10/train:   0%|          | 0/40 [00:00<?, ?batch/s]"
      ]
     },
     "metadata": {},
     "output_type": "display_data"
    },
    {
     "data": {
      "application/vnd.jupyter.widget-view+json": {
       "model_id": "",
       "version_major": 2,
       "version_minor": 0
      },
      "text/plain": [
       "E10/val :   0%|          | 0/10 [00:00<?, ?batch/s]"
      ]
     },
     "metadata": {},
     "output_type": "display_data"
    },
    {
     "name": "stdout",
     "output_type": "stream",
     "text": [
      "Epoch 10/50 ▸ train 0.0014  val 0.0037  best 0.0034\n"
     ]
    },
    {
     "data": {
      "application/vnd.jupyter.widget-view+json": {
       "model_id": "",
       "version_major": 2,
       "version_minor": 0
      },
      "text/plain": [
       "E11/train:   0%|          | 0/40 [00:00<?, ?batch/s]"
      ]
     },
     "metadata": {},
     "output_type": "display_data"
    },
    {
     "data": {
      "application/vnd.jupyter.widget-view+json": {
       "model_id": "",
       "version_major": 2,
       "version_minor": 0
      },
      "text/plain": [
       "E11/val :   0%|          | 0/10 [00:00<?, ?batch/s]"
      ]
     },
     "metadata": {},
     "output_type": "display_data"
    },
    {
     "name": "stdout",
     "output_type": "stream",
     "text": [
      "Epoch 11/50 ▸ train 0.0022  val 0.0068  best 0.0034\n"
     ]
    },
    {
     "data": {
      "application/vnd.jupyter.widget-view+json": {
       "model_id": "",
       "version_major": 2,
       "version_minor": 0
      },
      "text/plain": [
       "E12/train:   0%|          | 0/40 [00:00<?, ?batch/s]"
      ]
     },
     "metadata": {},
     "output_type": "display_data"
    },
    {
     "data": {
      "application/vnd.jupyter.widget-view+json": {
       "model_id": "",
       "version_major": 2,
       "version_minor": 0
      },
      "text/plain": [
       "E12/val :   0%|          | 0/10 [00:00<?, ?batch/s]"
      ]
     },
     "metadata": {},
     "output_type": "display_data"
    },
    {
     "name": "stdout",
     "output_type": "stream",
     "text": [
      "Epoch 12/50 ▸ train 0.0022  val 0.0067  best 0.0034\n"
     ]
    },
    {
     "data": {
      "application/vnd.jupyter.widget-view+json": {
       "model_id": "",
       "version_major": 2,
       "version_minor": 0
      },
      "text/plain": [
       "E13/train:   0%|          | 0/40 [00:00<?, ?batch/s]"
      ]
     },
     "metadata": {},
     "output_type": "display_data"
    },
    {
     "data": {
      "application/vnd.jupyter.widget-view+json": {
       "model_id": "",
       "version_major": 2,
       "version_minor": 0
      },
      "text/plain": [
       "E13/val :   0%|          | 0/10 [00:00<?, ?batch/s]"
      ]
     },
     "metadata": {},
     "output_type": "display_data"
    },
    {
     "name": "stdout",
     "output_type": "stream",
     "text": [
      "Epoch 13/50 ▸ train 0.0014  val 0.0047  best 0.0034\n"
     ]
    },
    {
     "data": {
      "application/vnd.jupyter.widget-view+json": {
       "model_id": "",
       "version_major": 2,
       "version_minor": 0
      },
      "text/plain": [
       "E14/train:   0%|          | 0/40 [00:00<?, ?batch/s]"
      ]
     },
     "metadata": {},
     "output_type": "display_data"
    },
    {
     "data": {
      "application/vnd.jupyter.widget-view+json": {
       "model_id": "",
       "version_major": 2,
       "version_minor": 0
      },
      "text/plain": [
       "E14/val :   0%|          | 0/10 [00:00<?, ?batch/s]"
      ]
     },
     "metadata": {},
     "output_type": "display_data"
    },
    {
     "name": "stdout",
     "output_type": "stream",
     "text": [
      "Epoch 14/50 ▸ train 0.0011  val 0.0039  best 0.0034\n"
     ]
    },
    {
     "data": {
      "application/vnd.jupyter.widget-view+json": {
       "model_id": "",
       "version_major": 2,
       "version_minor": 0
      },
      "text/plain": [
       "E15/train:   0%|          | 0/40 [00:00<?, ?batch/s]"
      ]
     },
     "metadata": {},
     "output_type": "display_data"
    },
    {
     "data": {
      "application/vnd.jupyter.widget-view+json": {
       "model_id": "",
       "version_major": 2,
       "version_minor": 0
      },
      "text/plain": [
       "E15/val :   0%|          | 0/10 [00:00<?, ?batch/s]"
      ]
     },
     "metadata": {},
     "output_type": "display_data"
    },
    {
     "name": "stdout",
     "output_type": "stream",
     "text": [
      "Epoch 15/50 ▸ train 0.0011  val 0.0037  best 0.0034\n"
     ]
    },
    {
     "data": {
      "application/vnd.jupyter.widget-view+json": {
       "model_id": "",
       "version_major": 2,
       "version_minor": 0
      },
      "text/plain": [
       "E16/train:   0%|          | 0/40 [00:00<?, ?batch/s]"
      ]
     },
     "metadata": {},
     "output_type": "display_data"
    },
    {
     "data": {
      "application/vnd.jupyter.widget-view+json": {
       "model_id": "",
       "version_major": 2,
       "version_minor": 0
      },
      "text/plain": [
       "E16/val :   0%|          | 0/10 [00:00<?, ?batch/s]"
      ]
     },
     "metadata": {},
     "output_type": "display_data"
    },
    {
     "name": "stdout",
     "output_type": "stream",
     "text": [
      "Epoch 16/50 ▸ train 0.0008  val 0.0035  best 0.0034\n"
     ]
    },
    {
     "data": {
      "application/vnd.jupyter.widget-view+json": {
       "model_id": "",
       "version_major": 2,
       "version_minor": 0
      },
      "text/plain": [
       "E17/train:   0%|          | 0/40 [00:00<?, ?batch/s]"
      ]
     },
     "metadata": {},
     "output_type": "display_data"
    },
    {
     "data": {
      "application/vnd.jupyter.widget-view+json": {
       "model_id": "",
       "version_major": 2,
       "version_minor": 0
      },
      "text/plain": [
       "E17/val :   0%|          | 0/10 [00:00<?, ?batch/s]"
      ]
     },
     "metadata": {},
     "output_type": "display_data"
    },
    {
     "name": "stdout",
     "output_type": "stream",
     "text": [
      "Epoch 17/50 ▸ train 0.0008  val 0.0034  best 0.0034✨  (best)\n"
     ]
    },
    {
     "data": {
      "application/vnd.jupyter.widget-view+json": {
       "model_id": "2a50bd06efe94dc48b739c4add42310a",
       "version_major": 2,
       "version_minor": 0
      },
      "text/plain": [
       "E18/train:   0%|          | 0/40 [00:00<?, ?batch/s]"
      ]
     },
     "metadata": {},
     "output_type": "display_data"
    },
    {
     "data": {
      "application/vnd.jupyter.widget-view+json": {
       "model_id": "32f1b51b493d4f50a77be3c77bcbb917",
       "version_major": 2,
       "version_minor": 0
      },
      "text/plain": [
       "E18/val :   0%|          | 0/10 [00:00<?, ?batch/s]"
      ]
     },
     "metadata": {},
     "output_type": "display_data"
    },
    {
     "name": "stdout",
     "output_type": "stream",
     "text": [
      "Epoch 18/50 ▸ train 0.0007  val 0.0037  best 0.0034\n"
     ]
    },
    {
     "data": {
      "application/vnd.jupyter.widget-view+json": {
       "model_id": "4e7b300cf2e144fe8ca136f9f3bba09d",
       "version_major": 2,
       "version_minor": 0
      },
      "text/plain": [
       "E19/train:   0%|          | 0/40 [00:00<?, ?batch/s]"
      ]
     },
     "metadata": {},
     "output_type": "display_data"
    },
    {
     "data": {
      "application/vnd.jupyter.widget-view+json": {
       "model_id": "8d52f2a523c24e668df3ecf367abcc4c",
       "version_major": 2,
       "version_minor": 0
      },
      "text/plain": [
       "E19/val :   0%|          | 0/10 [00:00<?, ?batch/s]"
      ]
     },
     "metadata": {},
     "output_type": "display_data"
    },
    {
     "name": "stdout",
     "output_type": "stream",
     "text": [
      "Epoch 19/50 ▸ train 0.0009  val 0.0036  best 0.0034\n"
     ]
    },
    {
     "data": {
      "application/vnd.jupyter.widget-view+json": {
       "model_id": "ead63cc8b9a14cbf9ed43db306120881",
       "version_major": 2,
       "version_minor": 0
      },
      "text/plain": [
       "E20/train:   0%|          | 0/40 [00:00<?, ?batch/s]"
      ]
     },
     "metadata": {},
     "output_type": "display_data"
    },
    {
     "data": {
      "application/vnd.jupyter.widget-view+json": {
       "model_id": "363f78459e494d849dbcee23f8792254",
       "version_major": 2,
       "version_minor": 0
      },
      "text/plain": [
       "E20/val :   0%|          | 0/10 [00:00<?, ?batch/s]"
      ]
     },
     "metadata": {},
     "output_type": "display_data"
    },
    {
     "name": "stdout",
     "output_type": "stream",
     "text": [
      "Epoch 20/50 ▸ train 0.0007  val 0.0036  best 0.0034\n"
     ]
    },
    {
     "data": {
      "application/vnd.jupyter.widget-view+json": {
       "model_id": "1280ef7e38b84c468849b9ac52dd31d0",
       "version_major": 2,
       "version_minor": 0
      },
      "text/plain": [
       "E21/train:   0%|          | 0/40 [00:00<?, ?batch/s]"
      ]
     },
     "metadata": {},
     "output_type": "display_data"
    },
    {
     "data": {
      "application/vnd.jupyter.widget-view+json": {
       "model_id": "36d5836e9b444a2e9e7ac1d5c321375b",
       "version_major": 2,
       "version_minor": 0
      },
      "text/plain": [
       "E21/val :   0%|          | 0/10 [00:00<?, ?batch/s]"
      ]
     },
     "metadata": {},
     "output_type": "display_data"
    },
    {
     "name": "stdout",
     "output_type": "stream",
     "text": [
      "Epoch 21/50 ▸ train 0.0007  val 0.0041  best 0.0034\n"
     ]
    },
    {
     "data": {
      "application/vnd.jupyter.widget-view+json": {
       "model_id": "7444a6bf7e1a4eed8576ee2f3c9baa70",
       "version_major": 2,
       "version_minor": 0
      },
      "text/plain": [
       "E22/train:   0%|          | 0/40 [00:00<?, ?batch/s]"
      ]
     },
     "metadata": {},
     "output_type": "display_data"
    },
    {
     "data": {
      "application/vnd.jupyter.widget-view+json": {
       "model_id": "26c6421e6cf6411ba60ec23f60376610",
       "version_major": 2,
       "version_minor": 0
      },
      "text/plain": [
       "E22/val :   0%|          | 0/10 [00:00<?, ?batch/s]"
      ]
     },
     "metadata": {},
     "output_type": "display_data"
    },
    {
     "name": "stdout",
     "output_type": "stream",
     "text": [
      "Epoch 22/50 ▸ train 0.0010  val 0.0035  best 0.0034\n"
     ]
    },
    {
     "data": {
      "application/vnd.jupyter.widget-view+json": {
       "model_id": "81e41d86e5384630970be0a064668a50",
       "version_major": 2,
       "version_minor": 0
      },
      "text/plain": [
       "E23/train:   0%|          | 0/40 [00:00<?, ?batch/s]"
      ]
     },
     "metadata": {},
     "output_type": "display_data"
    },
    {
     "data": {
      "application/vnd.jupyter.widget-view+json": {
       "model_id": "28f8648968464b39a935e903dcda0a75",
       "version_major": 2,
       "version_minor": 0
      },
      "text/plain": [
       "E23/val :   0%|          | 0/10 [00:00<?, ?batch/s]"
      ]
     },
     "metadata": {},
     "output_type": "display_data"
    },
    {
     "name": "stdout",
     "output_type": "stream",
     "text": [
      "Epoch 23/50 ▸ train 0.0007  val 0.0036  best 0.0034\n"
     ]
    },
    {
     "data": {
      "application/vnd.jupyter.widget-view+json": {
       "model_id": "384719f13cea4b559b03261662bdc035",
       "version_major": 2,
       "version_minor": 0
      },
      "text/plain": [
       "E24/train:   0%|          | 0/40 [00:00<?, ?batch/s]"
      ]
     },
     "metadata": {},
     "output_type": "display_data"
    },
    {
     "data": {
      "application/vnd.jupyter.widget-view+json": {
       "model_id": "2feb8006537e49d4a967dac88012ed7f",
       "version_major": 2,
       "version_minor": 0
      },
      "text/plain": [
       "E24/val :   0%|          | 0/10 [00:00<?, ?batch/s]"
      ]
     },
     "metadata": {},
     "output_type": "display_data"
    },
    {
     "name": "stdout",
     "output_type": "stream",
     "text": [
      "Epoch 24/50 ▸ train 0.0008  val 0.0054  best 0.0034\n"
     ]
    },
    {
     "data": {
      "application/vnd.jupyter.widget-view+json": {
       "model_id": "8e11d2a6850b4e979760d75f312c2343",
       "version_major": 2,
       "version_minor": 0
      },
      "text/plain": [
       "E25/train:   0%|          | 0/40 [00:00<?, ?batch/s]"
      ]
     },
     "metadata": {},
     "output_type": "display_data"
    },
    {
     "data": {
      "application/vnd.jupyter.widget-view+json": {
       "model_id": "9a1aa81d18614f62b546ed9ab1990038",
       "version_major": 2,
       "version_minor": 0
      },
      "text/plain": [
       "E25/val :   0%|          | 0/10 [00:00<?, ?batch/s]"
      ]
     },
     "metadata": {},
     "output_type": "display_data"
    },
    {
     "name": "stdout",
     "output_type": "stream",
     "text": [
      "Epoch 25/50 ▸ train 0.0007  val 0.0036  best 0.0034\n"
     ]
    },
    {
     "data": {
      "application/vnd.jupyter.widget-view+json": {
       "model_id": "268c248cdc5742cab1c357efe5b75cd8",
       "version_major": 2,
       "version_minor": 0
      },
      "text/plain": [
       "E26/train:   0%|          | 0/40 [00:00<?, ?batch/s]"
      ]
     },
     "metadata": {},
     "output_type": "display_data"
    },
    {
     "data": {
      "application/vnd.jupyter.widget-view+json": {
       "model_id": "6767a55dda14473ca7d891073b2ae85b",
       "version_major": 2,
       "version_minor": 0
      },
      "text/plain": [
       "E26/val :   0%|          | 0/10 [00:00<?, ?batch/s]"
      ]
     },
     "metadata": {},
     "output_type": "display_data"
    },
    {
     "name": "stdout",
     "output_type": "stream",
     "text": [
      "Epoch 26/50 ▸ train 0.0006  val 0.0045  best 0.0034\n"
     ]
    },
    {
     "data": {
      "application/vnd.jupyter.widget-view+json": {
       "model_id": "066451eb6f994a4e8890f0b7faf7def3",
       "version_major": 2,
       "version_minor": 0
      },
      "text/plain": [
       "E27/train:   0%|          | 0/40 [00:00<?, ?batch/s]"
      ]
     },
     "metadata": {},
     "output_type": "display_data"
    },
    {
     "data": {
      "application/vnd.jupyter.widget-view+json": {
       "model_id": "5022549b27964e51909ef2dfafb2238b",
       "version_major": 2,
       "version_minor": 0
      },
      "text/plain": [
       "E27/val :   0%|          | 0/10 [00:00<?, ?batch/s]"
      ]
     },
     "metadata": {},
     "output_type": "display_data"
    },
    {
     "name": "stdout",
     "output_type": "stream",
     "text": [
      "Epoch 27/50 ▸ train 0.0006  val 0.0036  best 0.0034\n"
     ]
    },
    {
     "data": {
      "application/vnd.jupyter.widget-view+json": {
       "model_id": "8ec16e7cec95453cbeb533140fa26420",
       "version_major": 2,
       "version_minor": 0
      },
      "text/plain": [
       "E28/train:   0%|          | 0/40 [00:00<?, ?batch/s]"
      ]
     },
     "metadata": {},
     "output_type": "display_data"
    },
    {
     "data": {
      "application/vnd.jupyter.widget-view+json": {
       "model_id": "c8c1a6df2f6644c8a0c198a68101a16b",
       "version_major": 2,
       "version_minor": 0
      },
      "text/plain": [
       "E28/val :   0%|          | 0/10 [00:00<?, ?batch/s]"
      ]
     },
     "metadata": {},
     "output_type": "display_data"
    },
    {
     "name": "stdout",
     "output_type": "stream",
     "text": [
      "Epoch 28/50 ▸ train 0.0007  val 0.0037  best 0.0034\n"
     ]
    },
    {
     "data": {
      "application/vnd.jupyter.widget-view+json": {
       "model_id": "6e48b89e59d147cab6861e1368e004a8",
       "version_major": 2,
       "version_minor": 0
      },
      "text/plain": [
       "E29/train:   0%|          | 0/40 [00:00<?, ?batch/s]"
      ]
     },
     "metadata": {},
     "output_type": "display_data"
    },
    {
     "data": {
      "application/vnd.jupyter.widget-view+json": {
       "model_id": "ffd30fc5e59548e0875a2543428ba221",
       "version_major": 2,
       "version_minor": 0
      },
      "text/plain": [
       "E29/val :   0%|          | 0/10 [00:00<?, ?batch/s]"
      ]
     },
     "metadata": {},
     "output_type": "display_data"
    },
    {
     "name": "stdout",
     "output_type": "stream",
     "text": [
      "Epoch 29/50 ▸ train 0.0007  val 0.0059  best 0.0034\n"
     ]
    },
    {
     "data": {
      "application/vnd.jupyter.widget-view+json": {
       "model_id": "ba2c9c4dc1364f939e9a0441e5b57c12",
       "version_major": 2,
       "version_minor": 0
      },
      "text/plain": [
       "E30/train:   0%|          | 0/40 [00:00<?, ?batch/s]"
      ]
     },
     "metadata": {},
     "output_type": "display_data"
    },
    {
     "data": {
      "application/vnd.jupyter.widget-view+json": {
       "model_id": "b763551c52464afdbf120a1bc9fa0861",
       "version_major": 2,
       "version_minor": 0
      },
      "text/plain": [
       "E30/val :   0%|          | 0/10 [00:00<?, ?batch/s]"
      ]
     },
     "metadata": {},
     "output_type": "display_data"
    },
    {
     "name": "stdout",
     "output_type": "stream",
     "text": [
      "Epoch 30/50 ▸ train 0.0015  val 0.0036  best 0.0034\n"
     ]
    },
    {
     "data": {
      "application/vnd.jupyter.widget-view+json": {
       "model_id": "269eecb414f04ff49822aa8ef1dd996f",
       "version_major": 2,
       "version_minor": 0
      },
      "text/plain": [
       "E31/train:   0%|          | 0/40 [00:00<?, ?batch/s]"
      ]
     },
     "metadata": {},
     "output_type": "display_data"
    },
    {
     "data": {
      "application/vnd.jupyter.widget-view+json": {
       "model_id": "ee9e507702b84279b802e7380a43cec2",
       "version_major": 2,
       "version_minor": 0
      },
      "text/plain": [
       "E31/val :   0%|          | 0/10 [00:00<?, ?batch/s]"
      ]
     },
     "metadata": {},
     "output_type": "display_data"
    },
    {
     "name": "stdout",
     "output_type": "stream",
     "text": [
      "Epoch 31/50 ▸ train 0.0008  val 0.0037  best 0.0034\n"
     ]
    },
    {
     "data": {
      "application/vnd.jupyter.widget-view+json": {
       "model_id": "d0b76965f3d1486fa14a3ed30ab30c60",
       "version_major": 2,
       "version_minor": 0
      },
      "text/plain": [
       "E32/train:   0%|          | 0/40 [00:00<?, ?batch/s]"
      ]
     },
     "metadata": {},
     "output_type": "display_data"
    },
    {
     "data": {
      "application/vnd.jupyter.widget-view+json": {
       "model_id": "21394db830e04feb9d8bea0271df14e0",
       "version_major": 2,
       "version_minor": 0
      },
      "text/plain": [
       "E32/val :   0%|          | 0/10 [00:00<?, ?batch/s]"
      ]
     },
     "metadata": {},
     "output_type": "display_data"
    },
    {
     "name": "stdout",
     "output_type": "stream",
     "text": [
      "Epoch 32/50 ▸ train 0.0007  val 0.0035  best 0.0034\n"
     ]
    },
    {
     "data": {
      "application/vnd.jupyter.widget-view+json": {
       "model_id": "c8c11f8e21274126846c4aac99e5f03c",
       "version_major": 2,
       "version_minor": 0
      },
      "text/plain": [
       "E33/train:   0%|          | 0/40 [00:00<?, ?batch/s]"
      ]
     },
     "metadata": {},
     "output_type": "display_data"
    },
    {
     "data": {
      "application/vnd.jupyter.widget-view+json": {
       "model_id": "1d12e218c37749ffafac89a1a50c702e",
       "version_major": 2,
       "version_minor": 0
      },
      "text/plain": [
       "E33/val :   0%|          | 0/10 [00:00<?, ?batch/s]"
      ]
     },
     "metadata": {},
     "output_type": "display_data"
    },
    {
     "name": "stdout",
     "output_type": "stream",
     "text": [
      "Epoch 33/50 ▸ train 0.0009  val 0.0040  best 0.0034\n"
     ]
    },
    {
     "data": {
      "application/vnd.jupyter.widget-view+json": {
       "model_id": "d1b40b6276b24fb086ce3a765a75f2e2",
       "version_major": 2,
       "version_minor": 0
      },
      "text/plain": [
       "E34/train:   0%|          | 0/40 [00:00<?, ?batch/s]"
      ]
     },
     "metadata": {},
     "output_type": "display_data"
    },
    {
     "data": {
      "application/vnd.jupyter.widget-view+json": {
       "model_id": "997277efeead4c7b959de522ca6e97a2",
       "version_major": 2,
       "version_minor": 0
      },
      "text/plain": [
       "E34/val :   0%|          | 0/10 [00:00<?, ?batch/s]"
      ]
     },
     "metadata": {},
     "output_type": "display_data"
    },
    {
     "name": "stdout",
     "output_type": "stream",
     "text": [
      "Epoch 34/50 ▸ train 0.0010  val 0.0034  best 0.0034✨  (best)\n"
     ]
    },
    {
     "data": {
      "application/vnd.jupyter.widget-view+json": {
       "model_id": "8d60caf8e19244e68cea7812cd0fa988",
       "version_major": 2,
       "version_minor": 0
      },
      "text/plain": [
       "E35/train:   0%|          | 0/40 [00:00<?, ?batch/s]"
      ]
     },
     "metadata": {},
     "output_type": "display_data"
    },
    {
     "data": {
      "application/vnd.jupyter.widget-view+json": {
       "model_id": "22f309e6104b4ca1ba66ee0a43d70f97",
       "version_major": 2,
       "version_minor": 0
      },
      "text/plain": [
       "E35/val :   0%|          | 0/10 [00:00<?, ?batch/s]"
      ]
     },
     "metadata": {},
     "output_type": "display_data"
    },
    {
     "name": "stdout",
     "output_type": "stream",
     "text": [
      "Epoch 35/50 ▸ train 0.0010  val 0.0033  best 0.0033✨  (best)\n"
     ]
    },
    {
     "data": {
      "application/vnd.jupyter.widget-view+json": {
       "model_id": "096dc00001954e84aaf63e209de681dc",
       "version_major": 2,
       "version_minor": 0
      },
      "text/plain": [
       "E36/train:   0%|          | 0/40 [00:00<?, ?batch/s]"
      ]
     },
     "metadata": {},
     "output_type": "display_data"
    },
    {
     "data": {
      "application/vnd.jupyter.widget-view+json": {
       "model_id": "4709138a985c41cfb4d47445d0fb02f8",
       "version_major": 2,
       "version_minor": 0
      },
      "text/plain": [
       "E36/val :   0%|          | 0/10 [00:00<?, ?batch/s]"
      ]
     },
     "metadata": {},
     "output_type": "display_data"
    },
    {
     "name": "stdout",
     "output_type": "stream",
     "text": [
      "Epoch 36/50 ▸ train 0.0008  val 0.0050  best 0.0033\n"
     ]
    },
    {
     "data": {
      "application/vnd.jupyter.widget-view+json": {
       "model_id": "bd86b38e0e3349629829c9edd114792b",
       "version_major": 2,
       "version_minor": 0
      },
      "text/plain": [
       "E37/train:   0%|          | 0/40 [00:00<?, ?batch/s]"
      ]
     },
     "metadata": {},
     "output_type": "display_data"
    },
    {
     "data": {
      "application/vnd.jupyter.widget-view+json": {
       "model_id": "5e97c5759ca541e38fc2bc8fb1f0d101",
       "version_major": 2,
       "version_minor": 0
      },
      "text/plain": [
       "E37/val :   0%|          | 0/10 [00:00<?, ?batch/s]"
      ]
     },
     "metadata": {},
     "output_type": "display_data"
    },
    {
     "name": "stdout",
     "output_type": "stream",
     "text": [
      "Epoch 37/50 ▸ train 0.0015  val 0.0034  best 0.0033\n"
     ]
    },
    {
     "data": {
      "application/vnd.jupyter.widget-view+json": {
       "model_id": "3c7d5fa0b82f47db80772960adeca2da",
       "version_major": 2,
       "version_minor": 0
      },
      "text/plain": [
       "E38/train:   0%|          | 0/40 [00:00<?, ?batch/s]"
      ]
     },
     "metadata": {},
     "output_type": "display_data"
    },
    {
     "data": {
      "application/vnd.jupyter.widget-view+json": {
       "model_id": "00710ff11f614e0fa2766efe526da1d7",
       "version_major": 2,
       "version_minor": 0
      },
      "text/plain": [
       "E38/val :   0%|          | 0/10 [00:00<?, ?batch/s]"
      ]
     },
     "metadata": {},
     "output_type": "display_data"
    },
    {
     "name": "stdout",
     "output_type": "stream",
     "text": [
      "Epoch 38/50 ▸ train 0.0007  val 0.0033  best 0.0033\n"
     ]
    },
    {
     "data": {
      "application/vnd.jupyter.widget-view+json": {
       "model_id": "3eaf273cf3ff46188ea14fd0506de4ac",
       "version_major": 2,
       "version_minor": 0
      },
      "text/plain": [
       "E39/train:   0%|          | 0/40 [00:00<?, ?batch/s]"
      ]
     },
     "metadata": {},
     "output_type": "display_data"
    },
    {
     "data": {
      "application/vnd.jupyter.widget-view+json": {
       "model_id": "9630cebd77ef41a6a4de985615fd768c",
       "version_major": 2,
       "version_minor": 0
      },
      "text/plain": [
       "E39/val :   0%|          | 0/10 [00:00<?, ?batch/s]"
      ]
     },
     "metadata": {},
     "output_type": "display_data"
    },
    {
     "name": "stdout",
     "output_type": "stream",
     "text": [
      "Epoch 39/50 ▸ train 0.0006  val 0.0047  best 0.0033\n"
     ]
    },
    {
     "data": {
      "application/vnd.jupyter.widget-view+json": {
       "model_id": "c18a8eed072b4195869335a70f1ef718",
       "version_major": 2,
       "version_minor": 0
      },
      "text/plain": [
       "E40/train:   0%|          | 0/40 [00:00<?, ?batch/s]"
      ]
     },
     "metadata": {},
     "output_type": "display_data"
    },
    {
     "data": {
      "application/vnd.jupyter.widget-view+json": {
       "model_id": "9002de5016644d70a311853612b20da6",
       "version_major": 2,
       "version_minor": 0
      },
      "text/plain": [
       "E40/val :   0%|          | 0/10 [00:00<?, ?batch/s]"
      ]
     },
     "metadata": {},
     "output_type": "display_data"
    },
    {
     "name": "stdout",
     "output_type": "stream",
     "text": [
      "Epoch 40/50 ▸ train 0.0005  val 0.0036  best 0.0033\n"
     ]
    },
    {
     "data": {
      "application/vnd.jupyter.widget-view+json": {
       "model_id": "ff61e29648a14880afd55acc0567184c",
       "version_major": 2,
       "version_minor": 0
      },
      "text/plain": [
       "E41/train:   0%|          | 0/40 [00:00<?, ?batch/s]"
      ]
     },
     "metadata": {},
     "output_type": "display_data"
    },
    {
     "data": {
      "application/vnd.jupyter.widget-view+json": {
       "model_id": "286765e69c3f4164843f633bc2607b51",
       "version_major": 2,
       "version_minor": 0
      },
      "text/plain": [
       "E41/val :   0%|          | 0/10 [00:00<?, ?batch/s]"
      ]
     },
     "metadata": {},
     "output_type": "display_data"
    },
    {
     "name": "stdout",
     "output_type": "stream",
     "text": [
      "Epoch 41/50 ▸ train 0.0007  val 0.0044  best 0.0033\n"
     ]
    },
    {
     "data": {
      "application/vnd.jupyter.widget-view+json": {
       "model_id": "5cc9ced4ade645cb8241d319feef8cec",
       "version_major": 2,
       "version_minor": 0
      },
      "text/plain": [
       "E42/train:   0%|          | 0/40 [00:00<?, ?batch/s]"
      ]
     },
     "metadata": {},
     "output_type": "display_data"
    },
    {
     "data": {
      "application/vnd.jupyter.widget-view+json": {
       "model_id": "6227936ebc3142fba4878ca3d4424166",
       "version_major": 2,
       "version_minor": 0
      },
      "text/plain": [
       "E42/val :   0%|          | 0/10 [00:00<?, ?batch/s]"
      ]
     },
     "metadata": {},
     "output_type": "display_data"
    },
    {
     "name": "stdout",
     "output_type": "stream",
     "text": [
      "Epoch 42/50 ▸ train 0.0010  val 0.0041  best 0.0033\n"
     ]
    },
    {
     "data": {
      "application/vnd.jupyter.widget-view+json": {
       "model_id": "052f40e997844c2ba9fc87d6a3a5ce81",
       "version_major": 2,
       "version_minor": 0
      },
      "text/plain": [
       "E43/train:   0%|          | 0/40 [00:00<?, ?batch/s]"
      ]
     },
     "metadata": {},
     "output_type": "display_data"
    },
    {
     "data": {
      "application/vnd.jupyter.widget-view+json": {
       "model_id": "4684d99afc104fafb4f9ff6f1f7f52c6",
       "version_major": 2,
       "version_minor": 0
      },
      "text/plain": [
       "E43/val :   0%|          | 0/10 [00:00<?, ?batch/s]"
      ]
     },
     "metadata": {},
     "output_type": "display_data"
    },
    {
     "name": "stdout",
     "output_type": "stream",
     "text": [
      "Epoch 43/50 ▸ train 0.0005  val 0.0036  best 0.0033\n"
     ]
    },
    {
     "data": {
      "application/vnd.jupyter.widget-view+json": {
       "model_id": "5e5eee6915594b51b39fe06f2da40370",
       "version_major": 2,
       "version_minor": 0
      },
      "text/plain": [
       "E44/train:   0%|          | 0/40 [00:00<?, ?batch/s]"
      ]
     },
     "metadata": {},
     "output_type": "display_data"
    },
    {
     "data": {
      "application/vnd.jupyter.widget-view+json": {
       "model_id": "c5b5553af33c42d0a173401d502070f6",
       "version_major": 2,
       "version_minor": 0
      },
      "text/plain": [
       "E44/val :   0%|          | 0/10 [00:00<?, ?batch/s]"
      ]
     },
     "metadata": {},
     "output_type": "display_data"
    },
    {
     "name": "stdout",
     "output_type": "stream",
     "text": [
      "Epoch 44/50 ▸ train 0.0005  val 0.0035  best 0.0033\n"
     ]
    },
    {
     "data": {
      "application/vnd.jupyter.widget-view+json": {
       "model_id": "b87d599e44d64864a054667856a316ad",
       "version_major": 2,
       "version_minor": 0
      },
      "text/plain": [
       "E45/train:   0%|          | 0/40 [00:00<?, ?batch/s]"
      ]
     },
     "metadata": {},
     "output_type": "display_data"
    },
    {
     "data": {
      "application/vnd.jupyter.widget-view+json": {
       "model_id": "12a3c5eb7e30423590cf84cdfb695d17",
       "version_major": 2,
       "version_minor": 0
      },
      "text/plain": [
       "E45/val :   0%|          | 0/10 [00:00<?, ?batch/s]"
      ]
     },
     "metadata": {},
     "output_type": "display_data"
    },
    {
     "name": "stdout",
     "output_type": "stream",
     "text": [
      "Epoch 45/50 ▸ train 0.0005  val 0.0034  best 0.0033\n"
     ]
    },
    {
     "data": {
      "application/vnd.jupyter.widget-view+json": {
       "model_id": "558f1fa4530c4a8a8884561ad31d5087",
       "version_major": 2,
       "version_minor": 0
      },
      "text/plain": [
       "E46/train:   0%|          | 0/40 [00:00<?, ?batch/s]"
      ]
     },
     "metadata": {},
     "output_type": "display_data"
    },
    {
     "data": {
      "application/vnd.jupyter.widget-view+json": {
       "model_id": "d7d9125e04bf425fb02963e37bbee62c",
       "version_major": 2,
       "version_minor": 0
      },
      "text/plain": [
       "E46/val :   0%|          | 0/10 [00:00<?, ?batch/s]"
      ]
     },
     "metadata": {},
     "output_type": "display_data"
    },
    {
     "name": "stdout",
     "output_type": "stream",
     "text": [
      "Epoch 46/50 ▸ train 0.0004  val 0.0033  best 0.0033\n"
     ]
    },
    {
     "data": {
      "application/vnd.jupyter.widget-view+json": {
       "model_id": "4944cb127eb646c79301cb266dd2b7b2",
       "version_major": 2,
       "version_minor": 0
      },
      "text/plain": [
       "E47/train:   0%|          | 0/40 [00:00<?, ?batch/s]"
      ]
     },
     "metadata": {},
     "output_type": "display_data"
    },
    {
     "data": {
      "application/vnd.jupyter.widget-view+json": {
       "model_id": "8dd04230bdb24e07b1f1835299b650f4",
       "version_major": 2,
       "version_minor": 0
      },
      "text/plain": [
       "E47/val :   0%|          | 0/10 [00:00<?, ?batch/s]"
      ]
     },
     "metadata": {},
     "output_type": "display_data"
    },
    {
     "name": "stdout",
     "output_type": "stream",
     "text": [
      "Epoch 47/50 ▸ train 0.0006  val 0.0039  best 0.0033\n"
     ]
    },
    {
     "data": {
      "application/vnd.jupyter.widget-view+json": {
       "model_id": "",
       "version_major": 2,
       "version_minor": 0
      },
      "text/plain": [
       "E48/train:   0%|          | 0/40 [00:00<?, ?batch/s]"
      ]
     },
     "metadata": {},
     "output_type": "display_data"
    },
    {
     "data": {
      "application/vnd.jupyter.widget-view+json": {
       "model_id": "",
       "version_major": 2,
       "version_minor": 0
      },
      "text/plain": [
       "E48/val :   0%|          | 0/10 [00:00<?, ?batch/s]"
      ]
     },
     "metadata": {},
     "output_type": "display_data"
    },
    {
     "name": "stdout",
     "output_type": "stream",
     "text": [
      "Epoch 48/50 ▸ train 0.0005  val 0.0032  best 0.0032✨  (best)\n"
     ]
    },
    {
     "data": {
      "application/vnd.jupyter.widget-view+json": {
       "model_id": "",
       "version_major": 2,
       "version_minor": 0
      },
      "text/plain": [
       "E49/train:   0%|          | 0/40 [00:00<?, ?batch/s]"
      ]
     },
     "metadata": {},
     "output_type": "display_data"
    },
    {
     "data": {
      "application/vnd.jupyter.widget-view+json": {
       "model_id": "",
       "version_major": 2,
       "version_minor": 0
      },
      "text/plain": [
       "E49/val :   0%|          | 0/10 [00:00<?, ?batch/s]"
      ]
     },
     "metadata": {},
     "output_type": "display_data"
    },
    {
     "name": "stdout",
     "output_type": "stream",
     "text": [
      "Epoch 49/50 ▸ train 0.0006  val 0.0043  best 0.0032\n"
     ]
    },
    {
     "data": {
      "application/vnd.jupyter.widget-view+json": {
       "model_id": "",
       "version_major": 2,
       "version_minor": 0
      },
      "text/plain": [
       "E50/train:   0%|          | 0/40 [00:00<?, ?batch/s]"
      ]
     },
     "metadata": {},
     "output_type": "display_data"
    },
    {
     "data": {
      "application/vnd.jupyter.widget-view+json": {
       "model_id": "",
       "version_major": 2,
       "version_minor": 0
      },
      "text/plain": [
       "E50/val :   0%|          | 0/10 [00:00<?, ?batch/s]"
      ]
     },
     "metadata": {},
     "output_type": "display_data"
    },
    {
     "name": "stdout",
     "output_type": "stream",
     "text": [
      "Epoch 50/50 ▸ train 0.0007  val 0.0034  best 0.0032\n"
     ]
    }
   ],
   "source": [
    "# ---------------- Training loop with progress bars ----------------\n",
    "EPOCHS   = 50\n",
    "best_val = float(\"inf\")\n",
    "\n",
    "for epoch in range(1, EPOCHS + 1):\n",
    "    # ── training ────────────────────────────────────────────────\n",
    "    model.train(); running = 0.0\n",
    "    for x, y in tqdm(train_loader,\n",
    "                     desc=f\"E{epoch:02}/train\",\n",
    "                     leave=False,\n",
    "                     unit=\"batch\"):\n",
    "        x, y = x.to(device, non_blocking=True), y.to(device, non_blocking=True)\n",
    "        opt.zero_grad(set_to_none=True)\n",
    "\n",
    "        with torch.cuda.amp.autocast(enabled=(device.type == \"cuda\")):\n",
    "            pred  = model(x).squeeze()\n",
    "            loss  = loss_fn(pred, y)\n",
    "\n",
    "        scaler.scale(loss).backward()\n",
    "        scaler.step(opt); scaler.update()\n",
    "        running += loss.item() * x.size(0)\n",
    "\n",
    "    train_loss = running / len(train_loader.dataset)\n",
    "\n",
    "    # ── validation ──────────────────────────────────────────────\n",
    "    model.eval(); running = 0.0\n",
    "    with torch.no_grad():\n",
    "        for x, y in tqdm(val_loader,\n",
    "                         desc=f\"E{epoch:02}/val \",\n",
    "                         leave=False,\n",
    "                         unit=\"batch\"):\n",
    "            x, y = x.to(device, non_blocking=True), y.to(device, non_blocking=True)\n",
    "            with torch.cuda.amp.autocast(enabled=(device.type == \"cuda\")):\n",
    "                running += loss_fn(model(x).squeeze(), y).item() * x.size(0)\n",
    "\n",
    "    val_loss = running / len(val_loader.dataset)\n",
    "\n",
    "    # ── checkpoint (weights-only copy) ───────────────────────────\n",
    "    if val_loss < best_val:\n",
    "        best_val = val_loss\n",
    "        torch.save(\n",
    "            model.state_dict(),\n",
    "            os.path.join(REWARD_MODEL_OUTPUT_DIR,\n",
    "                         \"best_reward_estimator_weights.pth\")\n",
    "        )\n",
    "        checkpoint_flag = \"✨  (best)\"\n",
    "    else:\n",
    "        checkpoint_flag = \"\"\n",
    "\n",
    "    # ── epoch summary line (no overwrite) ───────────────────────\n",
    "    print(f\"Epoch {epoch:02}/{EPOCHS} ▸ \"\n",
    "          f\"train {train_loss:.4f}  val {val_loss:.4f}  \"\n",
    "          f\"best {best_val:.4f}{checkpoint_flag}\")\n"
   ]
  },
  {
   "cell_type": "markdown",
   "id": "fa05ae13",
   "metadata": {},
   "source": [
    "### Why the GPU might still sit idle\n",
    "1. **CPU transforms bottleneck** – heavy PIL transforms can starve the GPU; enable more `num_workers`.\n",
    "2. **Small network / batch** – ResNet‑18 + 128×128 images at BS = 64 may use <10 % GPU; try bigger batches.\n",
    "3. **CUDA toolkit mismatch** – if `torch.cuda.is_available()` prints **False**, reinstall PyTorch with the correct CUDA build.\n",
    "4. **Data pinned to CPU** – ensure `.to(device)` is called (this notebook does).\n",
    "\n",
    "Monitor real‑time usage with `nvidia‑smi dmon` or MSI Afterburner while a training epoch is running."
   ]
  },
  {
   "cell_type": "code",
   "execution_count": null,
   "id": "ad9a85a6-bad9-43b0-936a-f61e30aac56a",
   "metadata": {},
   "outputs": [],
   "source": []
  }
 ],
 "metadata": {
  "kernelspec": {
   "display_name": "Python 3 (ipykernel)",
   "language": "python",
   "name": "python3"
  },
  "language_info": {
   "codemirror_mode": {
    "name": "ipython",
    "version": 3
   },
   "file_extension": ".py",
   "mimetype": "text/x-python",
   "name": "python",
   "nbconvert_exporter": "python",
   "pygments_lexer": "ipython3",
   "version": "3.11.9"
  }
 },
 "nbformat": 4,
 "nbformat_minor": 5
}
