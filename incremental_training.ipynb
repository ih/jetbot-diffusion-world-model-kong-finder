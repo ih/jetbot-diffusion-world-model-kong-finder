{
 "cells": [
  {
   "cell_type": "code",
   "execution_count": null,
   "id": "72ee5d92",
   "metadata": {
    "lines_to_next_cell": 0
   },
   "outputs": [],
   "source": []
  },
  {
   "cell_type": "code",
   "execution_count": 1,
   "id": "a0b39856",
   "metadata": {},
   "outputs": [],
   "source": [
    "import os\n",
    "from importnb import Notebook\n",
    "import torch\n",
    "from torch.utils.data import DataLoader, Dataset, IterableDataset, Subset\n",
    "import random\n",
    "import pickle\n",
    "import numpy as np"
   ]
  },
  {
   "cell_type": "code",
   "execution_count": 2,
   "id": "018a46c3",
   "metadata": {},
   "outputs": [
    {
     "name": "stdout",
     "output_type": "stream",
     "text": [
      "Imports successful.\n",
      "Visualization helpers defined.\n",
      "Training and validation epoch functions adapted for Batch object and Denoiser.forward.\n"
     ]
    }
   ],
   "source": [
    "import config\n",
    "with Notebook():\n",
    "    from jetbot_dataset import JetbotDataset\n",
    "    from combine_session_data import combine_sessions_append, gather_new_sessions_only\n",
    "    from compare_diamond_models import load_sampler, evaluate_models_alternating\n",
    "from diamond_world_model_trainer import train_diamond_model, split_dataset"
   ]
  },
  {
   "cell_type": "code",
   "execution_count": 3,
   "id": "70959a96",
   "metadata": {
    "lines_to_next_cell": 1
   },
   "outputs": [],
   "source": [
    "import models"
   ]
  },
  {
   "cell_type": "code",
   "execution_count": 4,
   "id": "max-holdout",
   "metadata": {},
   "outputs": [],
   "source": [
    "MAX_HOLDOUT = 10\n",
    "EVAL_SEED = 42\n"
   ]
  },
  {
   "cell_type": "code",
   "execution_count": 5,
   "id": "37b6f6af",
   "metadata": {
    "lines_to_next_cell": 1
   },
   "outputs": [],
   "source": [
    "class ReplayBuffer(Dataset):\n",
    "    \"\"\"A simple replay buffer storing dataset indices in memory.\"\"\"\n",
    "\n",
    "    def __init__(self, dataset, max_size=50000):\n",
    "        self.dataset = dataset\n",
    "        self.max_size = max_size\n",
    "        # Initialize indices in memory. If dataset is large, take a random subset or the latest `max_size` items.\n",
    "        # For simplicity, taking the first `max_size` indices, assuming newer data is appended.\n",
    "        # If dataset can be shorter than max_size, list slicing handles it.\n",
    "        if len(dataset) > max_size:\n",
    "            # If you want to prioritize newest data (assuming it's at the end of `dataset` after updates):\n",
    "            # self.indices = list(range(len(dataset) - max_size, len(dataset)))\n",
    "            # Or, for random sampling from a large dataset initially:\n",
    "            # self.indices = random.sample(range(len(dataset)), max_size)\n",
    "            # Current: take the first max_size, new data added to front via add_episode\n",
    "            self.indices = list(range(max_size)) \n",
    "        else:\n",
    "            self.indices = list(range(len(dataset)))\n",
    "\n",
    "    def __len__(self):\n",
    "        return len(self.indices)\n",
    "\n",
    "    def __getitem__(self, idx):\n",
    "        return self.dataset[self.indices[idx]]\n",
    "\n",
    "    def sample(self, k):\n",
    "        idxs = random.sample(self.indices, min(k, len(self.indices)))\n",
    "        return [self.dataset[i] for i in idxs]"
   ]
  },
  {
   "cell_type": "code",
   "execution_count": 6,
   "id": "c79f37ef",
   "metadata": {
    "lines_to_next_cell": 1
   },
   "outputs": [],
   "source": [
    "class MixedDataset(IterableDataset):\n",
    "    \"\"\"Yields samples from fresh data with probability ``alpha`` and from the\n",
    "    replay buffer otherwise.\"\"\"\n",
    "\n",
    "    def __init__(self, fresh_ds, replay_buffer, alpha=0.2):\n",
    "        self.fresh_ds = fresh_ds\n",
    "        self.replay_buffer = replay_buffer\n",
    "        self.alpha = alpha\n",
    "\n",
    "    def __iter__(self):\n",
    "        while True:\n",
    "            if random.random() < self.alpha and len(self.fresh_ds) > 0:\n",
    "                idx = random.randint(0, len(self.fresh_ds) - 1)\n",
    "                yield self.fresh_ds[idx]\n",
    "            else:\n",
    "                yield self.replay_buffer.sample(1)[0]"
   ]
  },
  {
   "cell_type": "code",
   "execution_count": 7,
   "id": "5aeea1be",
   "metadata": {},
   "outputs": [],
   "source": [
    "def build_batch(samples):\n",
    "    \"\"\"Collate function building a ``models.Batch`` from dataset samples.\"\"\"\n",
    "    imgs, acts, prevs = zip(*samples)\n",
    "    imgs  = torch.stack(imgs, 0)\n",
    "    acts  = torch.stack(acts, 0)\n",
    "    prevs = torch.stack(prevs, 0)\n",
    "\n",
    "    b        = len(samples)\n",
    "    num_prev = config.NUM_PREV_FRAMES\n",
    "    c, h, w  = config.DM_IMG_CHANNELS, config.IMAGE_SIZE, config.IMAGE_SIZE\n",
    "    prev_seq = prevs.view(b, num_prev, c, h, w)\n",
    "    obs      = torch.cat((prev_seq, imgs.unsqueeze(1)), dim=1)\n",
    "    act_seq  = acts.repeat(1, num_prev).long()\n",
    "    mask     = torch.ones(b, num_prev + 1, dtype=torch.bool, device=imgs.device)\n",
    "    return models.Batch(obs=obs, act=act_seq, mask_padding=mask, info=[{}] * b)"
   ]
  },
  {
   "cell_type": "code",
   "execution_count": 8,
   "id": "ff659086",
   "metadata": {
    "lines_to_next_cell": 1
   },
   "outputs": [],
   "source": [
    "def main():\n",
    "    # Step 1: gather only new sessions into a temporary dataset\n",
    "    gather_new_sessions_only(\n",
    "        config.SESSION_DATA_DIR,\n",
    "        config.CSV_PATH,\n",
    "        config.NEW_IMAGE_DIR,\n",
    "        config.NEW_CSV_PATH,\n",
    "    )\n",
    "\n",
    "    fresh_ds = JetbotDataset(\n",
    "        config.NEW_CSV_PATH,\n",
    "        config.NEW_DATA_DIR,\n",
    "        config.IMAGE_SIZE,\n",
    "        config.NUM_PREV_FRAMES,\n",
    "        transform=config.TRANSFORM,\n",
    "    ) if os.path.exists(config.NEW_CSV_PATH) else []\n",
    "\n",
    "    # Use split_dataset from diamond_world_model_trainer\n",
    "    train_ds, val_ds = split_dataset() # train_ds replaces full_ds, val_ds replaces val_dataset\n",
    "\n",
    "    replay_ds = ReplayBuffer(train_ds, max_size=50000) # Removed index_path\n",
    "\n",
    "    mixed_dataset = MixedDataset(fresh_ds, replay_ds, alpha=0.2)\n",
    "    train_loader = DataLoader(\n",
    "        mixed_dataset,\n",
    "        batch_size=config.BATCH_SIZE,\n",
    "        collate_fn=build_batch,\n",
    "        pin_memory=True,\n",
    "        drop_last=True,\n",
    "    )\n",
    "\n",
    "    val_loader = DataLoader(\n",
    "        val_ds, # Use val_ds from split_dataset\n",
    "        batch_size=config.BATCH_SIZE,\n",
    "        shuffle=False,\n",
    "        collate_fn=build_batch,\n",
    "        pin_memory=True,\n",
    "    )\n",
    "\n",
    "    # Step 2: train a new model starting from the last best checkpoint\n",
    "    ckpt_path = os.path.join(config.CHECKPOINT_DIR, 'denoiser_model_best_val_loss.pth')\n",
    "    print(\"Starting training\")\n",
    "    new_ckpt = train_diamond_model(\n",
    "        train_loader,\n",
    "        val_loader,\n",
    "        start_checkpoint=ckpt_path,\n",
    "        max_steps=config.NUM_TRAIN_STEPS,\n",
    "    )\n",
    "    print(\"Training Complete\")\n",
    "\n",
    "    # Step 3: compare old best with the newly trained checkpoint\n",
    "    if os.path.exists(ckpt_path):\n",
    "        sampler_a = load_sampler(ckpt_path, config.DEVICE)\n",
    "        sampler_b = load_sampler(new_ckpt, config.DEVICE)\n",
    "        dataset_holdout = JetbotDataset(\n",
    "            config.HOLDOUT_CSV_PATH,\n",
    "            config.HOLDOUT_DATA_DIR,\n",
    "            config.IMAGE_SIZE,\n",
    "            config.NUM_PREV_FRAMES,\n",
    "            transform=config.TRANSFORM,\n",
    "        )\n",
    "        if MAX_HOLDOUT and MAX_HOLDOUT < len(dataset_holdout):\n",
    "            rng = np.random.RandomState(EVAL_SEED)\n",
    "            subset_idx = rng.choice(len(dataset_holdout), size=MAX_HOLDOUT, replace=False)\n",
    "            dataset_holdout = Subset(dataset_holdout, subset_idx.tolist())\n",
    "        dl_holdout = DataLoader(dataset_holdout, batch_size=1, shuffle=False)\n",
    "        results = evaluate_models_alternating(\n",
    "            sampler_a, sampler_b, dl_holdout, config.DEVICE, config.NUM_PREV_FRAMES\n",
    "        )\n",
    "        if results['B']['avg_mse'] < results['A']['avg_mse']:\n",
    "            os.replace(new_ckpt, ckpt_path)\n",
    "        else:\n",
    "            os.remove(new_ckpt)\n",
    "    else:\n",
    "        os.replace(new_ckpt, ckpt_path)\n",
    "\n",
    "    # After training, permanently add new sessions to the full dataset\n",
    "    # The ReplayBuffer's dataset (`train_ds`) is a Subset. To correctly update \n",
    "    # the underlying full dataset and add new indices, we need to handle this carefully.\n",
    "    # For now, we'll assume that `combine_sessions_append` updates the source from which `split_dataset` reads.\n",
    "    # A more robust solution might involve updating the `full_dataset` object used by `split_dataset` \n",
    "    # and then re-splitting, or carefully managing indices if `train_ds` is a subset of a global dataset.\n",
    "\n",
    "    # Assuming `split_dataset` will pick up new data on next run after `combine_sessions_append`\n",
    "    # The current `replay_ds.dataset` (which is `train_ds`) will not reflect these new sessions until the script is rerun\n",
    "    # and `split_dataset` is called again. This behavior is kept as is for now.\n",
    "    # To add *newly collected* data (from `fresh_ds`) to the replay buffer for the *current* training run, that's handled by `MixedDataset`.\n",
    "    # The logic below primarily concerns adding to the *persistent* dataset for future runs.\n",
    "\n",
    "    # Ensure all new data (including fresh_ds from this run) is combined into the main persistent dataset.\n",
    "    # This makes it available for the next execution of incremental_training.ipynb, \n",
    "    # where split_dataset will create new train/val splits from the complete data.\n",
    "    print(\"Combining all session data into the main dataset for future runs...\")\n",
    "    combine_sessions_append(config.SESSION_DATA_DIR, config.IMAGE_DIR, config.CSV_PATH)\n",
    "    print(\"Session data combined.\")\n",
    "\n",
    "    # No need to update the current run's replay_ds instance further, as it's ephemeral and will be rebuilt on the next run.\n",
    "\n",
    "    # Delete the dataset split file to ensure a fresh split on the next run\n",
    "    split_file_path = os.path.join(config.OUTPUT_DIR, getattr(config, 'SPLIT_DATASET_FILENAME', 'dataset_split.pth'))\n",
    "    if os.path.exists(split_file_path):\n",
    "        try:\n",
    "            os.remove(split_file_path)\n",
    "            print(f\"Deleted dataset split file: {split_file_path}\")\n",
    "        except OSError as e:\n",
    "            print(f\"Error deleting dataset split file {split_file_path}: {e}\")"
   ]
  },
  {
   "cell_type": "code",
   "execution_count": 9,
   "id": "d1c9df26",
   "metadata": {},
   "outputs": [
    {
     "name": "stdout",
     "output_type": "stream",
     "text": [
      "Found 1 new sessions to collect.\n"
     ]
    },
    {
     "data": {
      "application/vnd.jupyter.widget-view+json": {
       "model_id": "c030914066734c4b886cd626241f9ad9",
       "version_major": 2,
       "version_minor": 0
      },
      "text/plain": [
       "Collecting New Sessions:   0%|          | 0/1 [00:00<?, ?it/s]"
      ]
     },
     "metadata": {},
     "output_type": "display_data"
    },
    {
     "name": "stdout",
     "output_type": "stream",
     "text": [
      "Wrote 4542 entries to C:\\Projects\\jetbot-diffusion-world-model-kong-finder-aux\\jetbot_new_data\\new.csv\n",
      "Loaded combined CSV with columns: ['session_id', 'image_path', 'timestamp', 'action']\n",
      "Loaded combined CSV with columns: ['session_id', 'image_path', 'timestamp', 'action']\n",
      "Full dataset size: 21483\n",
      "Loading dataset split from C:\\Projects\\jetbot-diffusion-world-model-kong-finder-aux\\output_model_5hz_DIAMOND_laundry_incremental\\dataset_split.pth\n",
      "Starting training\n",
      "Filtering dataset with 2149 samples for actions: [0.0]\n"
     ]
    },
    {
     "data": {
      "application/vnd.jupyter.widget-view+json": {
       "model_id": "465507d0c4ce4e929f06cd30bee32240",
       "version_major": 2,
       "version_minor": 0
      },
      "text/plain": [
       "Filtering Dataset:   0%|          | 0/2149 [00:00<?, ?it/s]"
      ]
     },
     "metadata": {},
     "output_type": "display_data"
    },
    {
     "name": "stdout",
     "output_type": "stream",
     "text": [
      "Filtered down to 1073 samples.\n",
      "Filtering dataset with 2149 samples for actions: [0.13]\n"
     ]
    },
    {
     "data": {
      "application/vnd.jupyter.widget-view+json": {
       "model_id": "624a58cab8f447ad995c01776cc27602",
       "version_major": 2,
       "version_minor": 0
      },
      "text/plain": [
       "Filtering Dataset:   0%|          | 0/2149 [00:00<?, ?it/s]"
      ]
     },
     "metadata": {},
     "output_type": "display_data"
    },
    {
     "name": "stdout",
     "output_type": "stream",
     "text": [
      "Filtered down to 1076 samples.\n"
     ]
    },
    {
     "data": {
      "application/vnd.jupyter.widget-view+json": {
       "model_id": "cfa020fc04d04f3eba35c0c0c5c869cf",
       "version_major": 2,
       "version_minor": 0
      },
      "text/plain": [
       "Incremental Training Steps:   0%|          | 0/100 [00:00<?, ?it/s]"
      ]
     },
     "metadata": {},
     "output_type": "display_data"
    },
    {
     "data": {
      "application/vnd.jupyter.widget-view+json": {
       "model_id": "ea0b1e6f3e154e16bca7e291481acdcb",
       "version_major": 2,
       "version_minor": 0
      },
      "text/plain": [
       "Epoch 100 [Valid]:   0%|          | 0/1075 [00:00<?, ?it/s]"
      ]
     },
     "metadata": {},
     "output_type": "display_data"
    },
    {
     "ename": "TypeError",
     "evalue": "cannot unpack non-iterable Batch object",
     "output_type": "error",
     "traceback": [
      "\u001b[1;31m---------------------------------------------------------------------------\u001b[0m",
      "\u001b[1;31mTypeError\u001b[0m                                 Traceback (most recent call last)",
      "Cell \u001b[1;32mIn[9], line 2\u001b[0m\n\u001b[0;32m      1\u001b[0m \u001b[38;5;28;01mif\u001b[39;00m \u001b[38;5;18m__name__\u001b[39m \u001b[38;5;241m==\u001b[39m \u001b[38;5;124m'\u001b[39m\u001b[38;5;124m__main__\u001b[39m\u001b[38;5;124m'\u001b[39m:\n\u001b[1;32m----> 2\u001b[0m     \u001b[43mmain\u001b[49m\u001b[43m(\u001b[49m\u001b[43m)\u001b[49m\n",
      "Cell \u001b[1;32mIn[8], line 43\u001b[0m, in \u001b[0;36mmain\u001b[1;34m()\u001b[0m\n\u001b[0;32m     41\u001b[0m ckpt_path \u001b[38;5;241m=\u001b[39m os\u001b[38;5;241m.\u001b[39mpath\u001b[38;5;241m.\u001b[39mjoin(config\u001b[38;5;241m.\u001b[39mCHECKPOINT_DIR, \u001b[38;5;124m'\u001b[39m\u001b[38;5;124mdenoiser_model_best_val_loss.pth\u001b[39m\u001b[38;5;124m'\u001b[39m)\n\u001b[0;32m     42\u001b[0m \u001b[38;5;28mprint\u001b[39m(\u001b[38;5;124m\"\u001b[39m\u001b[38;5;124mStarting training\u001b[39m\u001b[38;5;124m\"\u001b[39m)\n\u001b[1;32m---> 43\u001b[0m new_ckpt \u001b[38;5;241m=\u001b[39m \u001b[43mtrain_diamond_model\u001b[49m\u001b[43m(\u001b[49m\n\u001b[0;32m     44\u001b[0m \u001b[43m    \u001b[49m\u001b[43mtrain_loader\u001b[49m\u001b[43m,\u001b[49m\n\u001b[0;32m     45\u001b[0m \u001b[43m    \u001b[49m\u001b[43mval_loader\u001b[49m\u001b[43m,\u001b[49m\n\u001b[0;32m     46\u001b[0m \u001b[43m    \u001b[49m\u001b[43mstart_checkpoint\u001b[49m\u001b[38;5;241;43m=\u001b[39;49m\u001b[43mckpt_path\u001b[49m\u001b[43m,\u001b[49m\n\u001b[0;32m     47\u001b[0m \u001b[43m    \u001b[49m\u001b[43mmax_steps\u001b[49m\u001b[38;5;241;43m=\u001b[39;49m\u001b[43mconfig\u001b[49m\u001b[38;5;241;43m.\u001b[39;49m\u001b[43mNUM_TRAIN_STEPS\u001b[49m\u001b[43m,\u001b[49m\n\u001b[0;32m     48\u001b[0m \u001b[43m\u001b[49m\u001b[43m)\u001b[49m\n\u001b[0;32m     49\u001b[0m \u001b[38;5;28mprint\u001b[39m(\u001b[38;5;124m\"\u001b[39m\u001b[38;5;124mTraining Complete\u001b[39m\u001b[38;5;124m\"\u001b[39m)\n\u001b[0;32m     51\u001b[0m \u001b[38;5;66;03m# Step 3: compare old best with the newly trained checkpoint\u001b[39;00m\n",
      "File \u001b[1;32mC:\\Projects\\jetbot-diffusion-world-model-kong-finder\\diamond_world_model_trainer.py:404\u001b[0m, in \u001b[0;36mtrain_diamond_model\u001b[1;34m(train_loader, val_loader, start_checkpoint, max_steps)\u001b[0m\n\u001b[0;32m    397\u001b[0m     wandb\u001b[38;5;241m.\u001b[39mlog({\n\u001b[0;32m    398\u001b[0m         \u001b[38;5;124m\"\u001b[39m\u001b[38;5;124mincremental_step_train_loss\u001b[39m\u001b[38;5;124m\"\u001b[39m: train_loss_val,\n\u001b[0;32m    399\u001b[0m         \u001b[38;5;124m\"\u001b[39m\u001b[38;5;124mincremental_step_denoising_loss\u001b[39m\u001b[38;5;124m\"\u001b[39m: logs\u001b[38;5;241m.\u001b[39mget(\u001b[38;5;124m\"\u001b[39m\u001b[38;5;124mloss_denoising\u001b[39m\u001b[38;5;124m\"\u001b[39m),\n\u001b[0;32m    400\u001b[0m         \u001b[38;5;124m\"\u001b[39m\u001b[38;5;124mincremental_step_learning_rate\u001b[39m\u001b[38;5;124m\"\u001b[39m: scheduler\u001b[38;5;241m.\u001b[39mget_last_lr()[\u001b[38;5;241m0\u001b[39m]\n\u001b[0;32m    401\u001b[0m     }, step\u001b[38;5;241m=\u001b[39mstep)\n\u001b[0;32m    403\u001b[0m \u001b[38;5;28;01mif\u001b[39;00m (step \u001b[38;5;241m+\u001b[39m \u001b[38;5;241m1\u001b[39m) \u001b[38;5;241m%\u001b[39m config\u001b[38;5;241m.\u001b[39mSAVE_MODEL_EVERY \u001b[38;5;241m==\u001b[39m \u001b[38;5;241m0\u001b[39m \u001b[38;5;129;01mor\u001b[39;00m (step \u001b[38;5;241m+\u001b[39m \u001b[38;5;241m1\u001b[39m) \u001b[38;5;241m==\u001b[39m num_steps:\n\u001b[1;32m--> 404\u001b[0m     current_val_loss \u001b[38;5;241m=\u001b[39m \u001b[43mvalidate_denoiser_epoch\u001b[49m\u001b[43m(\u001b[49m\n\u001b[0;32m    405\u001b[0m \u001b[43m        \u001b[49m\u001b[43mdenoiser\u001b[49m\u001b[43m,\u001b[49m\u001b[43m \u001b[49m\u001b[43mval_loader\u001b[49m\u001b[43m,\u001b[49m\u001b[43m \u001b[49m\u001b[43mdevice\u001b[49m\u001b[43m,\u001b[49m\u001b[43m \u001b[49m\u001b[43mstep\u001b[49m\u001b[43m \u001b[49m\u001b[38;5;241;43m+\u001b[39;49m\u001b[43m \u001b[49m\u001b[38;5;241;43m1\u001b[39;49m\u001b[43m,\u001b[49m\u001b[43m \u001b[49m\u001b[38;5;241;43m0\u001b[39;49m\u001b[43m,\u001b[49m\u001b[43m \u001b[49m\u001b[38;5;241;43m0\u001b[39;49m\u001b[43m \u001b[49m\u001b[38;5;66;43;03m# epoch_num_for_log set to step, might need adjustment if used for global step\u001b[39;49;00m\n\u001b[0;32m    406\u001b[0m \u001b[43m    \u001b[49m\u001b[43m)\u001b[49m\n\u001b[0;32m    408\u001b[0m     \u001b[38;5;28;01mif\u001b[39;00m wandb\u001b[38;5;241m.\u001b[39mrun:\n\u001b[0;32m    409\u001b[0m         wandb\u001b[38;5;241m.\u001b[39mlog({\u001b[38;5;124m\"\u001b[39m\u001b[38;5;124mincremental_eval_val_loss\u001b[39m\u001b[38;5;124m\"\u001b[39m: current_val_loss}, step\u001b[38;5;241m=\u001b[39mstep)\n",
      "File \u001b[1;32mC:\\Projects\\pythonenv-deeprl\\Lib\\site-packages\\torch\\utils\\_contextlib.py:115\u001b[0m, in \u001b[0;36mcontext_decorator.<locals>.decorate_context\u001b[1;34m(*args, **kwargs)\u001b[0m\n\u001b[0;32m    112\u001b[0m \u001b[38;5;129m@functools\u001b[39m\u001b[38;5;241m.\u001b[39mwraps(func)\n\u001b[0;32m    113\u001b[0m \u001b[38;5;28;01mdef\u001b[39;00m \u001b[38;5;21mdecorate_context\u001b[39m(\u001b[38;5;241m*\u001b[39margs, \u001b[38;5;241m*\u001b[39m\u001b[38;5;241m*\u001b[39mkwargs):\n\u001b[0;32m    114\u001b[0m     \u001b[38;5;28;01mwith\u001b[39;00m ctx_factory():\n\u001b[1;32m--> 115\u001b[0m         \u001b[38;5;28;01mreturn\u001b[39;00m \u001b[43mfunc\u001b[49m\u001b[43m(\u001b[49m\u001b[38;5;241;43m*\u001b[39;49m\u001b[43margs\u001b[49m\u001b[43m,\u001b[49m\u001b[43m \u001b[49m\u001b[38;5;241;43m*\u001b[39;49m\u001b[38;5;241;43m*\u001b[39;49m\u001b[43mkwargs\u001b[49m\u001b[43m)\u001b[49m\n",
      "File \u001b[1;32mC:\\Projects\\jetbot-diffusion-world-model-kong-finder\\diamond_world_model_trainer.py:261\u001b[0m, in \u001b[0;36mvalidate_denoiser_epoch\u001b[1;34m(denoiser_model, val_dl, device, epoch_num_for_log, num_train_batches_total, num_val_batches_total)\u001b[0m\n\u001b[0;32m    258\u001b[0m num_prev_frames \u001b[38;5;241m=\u001b[39m config\u001b[38;5;241m.\u001b[39mNUM_PREV_FRAMES\n\u001b[0;32m    259\u001b[0m c, h, w \u001b[38;5;241m=\u001b[39m config\u001b[38;5;241m.\u001b[39mDM_IMG_CHANNELS, config\u001b[38;5;241m.\u001b[39mIMAGE_SIZE, config\u001b[38;5;241m.\u001b[39mIMAGE_SIZE\n\u001b[1;32m--> 261\u001b[0m \u001b[38;5;28;01mfor\u001b[39;00m batch_idx, (target_img_batch, action_batch, prev_frames_flat_batch) \u001b[38;5;129;01min\u001b[39;00m \u001b[38;5;28menumerate\u001b[39m(progress_bar):\n\u001b[0;32m    262\u001b[0m     current_batch_size \u001b[38;5;241m=\u001b[39m target_img_batch\u001b[38;5;241m.\u001b[39mshape[\u001b[38;5;241m0\u001b[39m]\n\u001b[0;32m    263\u001b[0m     target_img_batch \u001b[38;5;241m=\u001b[39m target_img_batch\u001b[38;5;241m.\u001b[39mto(device)\n",
      "\u001b[1;31mTypeError\u001b[0m: cannot unpack non-iterable Batch object"
     ]
    }
   ],
   "source": [
    "if __name__ == '__main__':\n",
    "    main()"
   ]
  },
  {
   "cell_type": "code",
   "execution_count": null,
   "id": "cf071f68-306c-4b69-ab4e-29a9133c8498",
   "metadata": {},
   "outputs": [],
   "source": []
  }
 ],
 "metadata": {
  "jupytext": {
   "cell_metadata_filter": "-all",
   "encoding": "# coding: utf-8",
   "executable": "/usr/bin/env python",
   "main_language": "python",
   "notebook_metadata_filter": "-all"
  },
  "kernelspec": {
   "display_name": "Python 3 (ipykernel)",
   "language": "python",
   "name": "python3"
  },
  "language_info": {
   "codemirror_mode": {
    "name": "ipython",
    "version": 3
   },
   "file_extension": ".py",
   "mimetype": "text/x-python",
   "name": "python",
   "nbconvert_exporter": "python",
   "pygments_lexer": "ipython3",
   "version": "3.11.9"
  }
 },
 "nbformat": 4,
 "nbformat_minor": 5
}
