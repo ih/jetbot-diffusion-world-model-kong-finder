{
 "cells": [
  {
   "cell_type": "code",
   "execution_count": null,
   "id": "72ee5d92",
   "metadata": {
    "lines_to_next_cell": 0
   },
   "outputs": [],
   "source": []
  },
  {
   "cell_type": "code",
   "execution_count": 2,
   "id": "a0b39856",
   "metadata": {},
   "outputs": [],
   "source": [
    "import os\n",
    "from importnb import Notebook\n",
    "import torch\n",
    "from torch.utils.data import DataLoader, Dataset, IterableDataset, Subset\n",
    "import random\n",
    "import pickle\n",
    "import numpy as np"
   ]
  },
  {
   "cell_type": "code",
   "execution_count": 3,
   "id": "018a46c3",
   "metadata": {},
   "outputs": [
    {
     "name": "stdout",
     "output_type": "stream",
     "text": [
      "Imports successful.\n",
      "--- Configuration ---\n",
      "Using device: cuda\n",
      "Configuration loaded.\n"
     ]
    },
    {
     "name": "stderr",
     "output_type": "stream",
     "text": [
      "wandb: ERROR Failed to detect the name of this notebook. You can set it manually with the WANDB_NOTEBOOK_NAME environment variable to enable code saving.\n",
      "wandb: Currently logged in as: irvin-hwang (irvin-hwang-simulacra-systems) to https://api.wandb.ai. Use `wandb login --relogin` to force relogin\n"
     ]
    },
    {
     "data": {
      "text/html": [
       "Tracking run with wandb version 0.19.11"
      ],
      "text/plain": [
       "<IPython.core.display.HTML object>"
      ]
     },
     "metadata": {},
     "output_type": "display_data"
    },
    {
     "data": {
      "text/html": [
       "Run data is saved locally in <code>C:\\Projects\\jetbot-diffusion-world-model-kong-finder\\wandb\\run-20250627_091153-jyr7xeoa</code>"
      ],
      "text/plain": [
       "<IPython.core.display.HTML object>"
      ]
     },
     "metadata": {},
     "output_type": "display_data"
    },
    {
     "data": {
      "text/html": [
       "Syncing run <strong><a href='https://wandb.ai/irvin-hwang-simulacra-systems/jetbot-diamond-world-model/runs/jyr7xeoa' target=\"_blank\">proud-sky-27</a></strong> to <a href='https://wandb.ai/irvin-hwang-simulacra-systems/jetbot-diamond-world-model' target=\"_blank\">Weights & Biases</a> (<a href='https://wandb.me/developer-guide' target=\"_blank\">docs</a>)<br>"
      ],
      "text/plain": [
       "<IPython.core.display.HTML object>"
      ]
     },
     "metadata": {},
     "output_type": "display_data"
    },
    {
     "data": {
      "text/html": [
       " View project at <a href='https://wandb.ai/irvin-hwang-simulacra-systems/jetbot-diamond-world-model' target=\"_blank\">https://wandb.ai/irvin-hwang-simulacra-systems/jetbot-diamond-world-model</a>"
      ],
      "text/plain": [
       "<IPython.core.display.HTML object>"
      ]
     },
     "metadata": {},
     "output_type": "display_data"
    },
    {
     "data": {
      "text/html": [
       " View run at <a href='https://wandb.ai/irvin-hwang-simulacra-systems/jetbot-diamond-world-model/runs/jyr7xeoa' target=\"_blank\">https://wandb.ai/irvin-hwang-simulacra-systems/jetbot-diamond-world-model/runs/jyr7xeoa</a>"
      ],
      "text/plain": [
       "<IPython.core.display.HTML object>"
      ]
     },
     "metadata": {},
     "output_type": "display_data"
    },
    {
     "name": "stdout",
     "output_type": "stream",
     "text": [
      "Wandb initialized.\n",
      "--- Initializing Models ---\n",
      "Using InnerModel (Diamond-style U-Net) as the inner model.\n",
      "InnerModelImpl parameter count: 330,464,131\n",
      "Denoiser model created and training sigma distribution configured. Total parameter count: 330,464,131\n",
      "DiffusionSampler created for visualization.\n",
      "--- Setting up Optimizer and Scheduler ---\n",
      "Optimizer: AdamW with LR=0.0001, Weight Decay=0.01\n",
      "LR Scheduler: LambdaLR with 100 warmup steps.\n",
      "Wandb is watching the denoiser model for gradients and parameters.\n",
      "No specific checkpoint in config.LOAD_CHECKPOINT. Found existing best_val_loss model: C:\\Projects\\jetbot-diffusion-world-model-kong-finder-aux\\output_model_5hz_DIAMOND_laundry_30_sessions\\checkpoints\\denoiser_model_best_val_loss.pth\n",
      "Loading checkpoint from: C:\\Projects\\jetbot-diffusion-world-model-kong-finder-aux\\output_model_5hz_DIAMOND_laundry_30_sessions\\checkpoints\\denoiser_model_best_val_loss.pth\n",
      "Resuming training from epoch 33. Last best train_loss_ma: 0.026988, Last best val_loss_ma: 0.025903\n",
      "Visualization helpers defined.\n",
      "Training and validation epoch functions adapted for Batch object and Denoiser.forward.\n"
     ]
    }
   ],
   "source": [
    "import config\n",
    "with Notebook():\n",
    "    from jetbot_dataset import JetbotDataset\n",
    "    from combine_session_data import combine_sessions_append, gather_new_sessions_only\n",
    "    from compare_diamond_models import load_sampler, evaluate_models_alternating\n",
    "from diamond_world_model_trainer import train_diamond_model"
   ]
  },
  {
   "cell_type": "code",
   "execution_count": 3,
   "id": "70959a96",
   "metadata": {
    "lines_to_next_cell": 1
   },
   "outputs": [],
   "source": [
    "import models"
   ]
  },
  {
   "cell_type": "code",
   "execution_count": 4,
   "id": "max-holdout",
   "metadata": {},
   "outputs": [],
   "source": [
    "MAX_HOLDOUT = 10\n",
    "EVAL_SEED = 42\n"
   ]
  },
  {
   "cell_type": "code",
   "execution_count": 5,
   "id": "37b6f6af",
   "metadata": {
    "lines_to_next_cell": 1
   },
   "outputs": [],
   "source": [
    "class ReplayBuffer(Dataset):\n",
    "    \"\"\"A simple replay buffer storing dataset indices.\"\"\"\n",
    "\n",
    "    def __init__(self, dataset, max_size=50000, index_path=None):\n",
    "        self.dataset = dataset\n",
    "        self.max_size = max_size\n",
    "        self.index_path = index_path\n",
    "        if index_path and os.path.exists(index_path):\n",
    "            with open(index_path, \"rb\") as f:\n",
    "                self.indices = pickle.load(f)\n",
    "        else:\n",
    "            self.indices = list(range(len(dataset)))[:max_size]\n",
    "            if index_path:\n",
    "                with open(index_path, \"wb\") as f:\n",
    "                    pickle.dump(self.indices, f)\n",
    "\n",
    "    def __len__(self):\n",
    "        return len(self.indices)\n",
    "\n",
    "    def __getitem__(self, idx):\n",
    "        return self.dataset[self.indices[idx]]\n",
    "\n",
    "    def sample(self, k):\n",
    "        idxs = random.sample(self.indices, min(k, len(self.indices)))\n",
    "        return [self.dataset[i] for i in idxs]\n",
    "\n",
    "    def add_episode(self, new_idx):\n",
    "        \"\"\"Add new indices from a recently processed session.\"\"\"\n",
    "        self.indices = list(new_idx) + self.indices\n",
    "        self.indices = self.indices[: self.max_size]\n",
    "        if self.index_path:\n",
    "            with open(self.index_path, \"wb\") as f:\n",
    "                pickle.dump(self.indices, f)"
   ]
  },
  {
   "cell_type": "code",
   "execution_count": 6,
   "id": "c79f37ef",
   "metadata": {
    "lines_to_next_cell": 1
   },
   "outputs": [],
   "source": [
    "class MixedDataset(IterableDataset):\n",
    "    \"\"\"Yields samples from fresh data with probability ``alpha`` and from the\n",
    "    replay buffer otherwise.\"\"\"\n",
    "\n",
    "    def __init__(self, fresh_ds, replay_buffer, alpha=0.2):\n",
    "        self.fresh_ds = fresh_ds\n",
    "        self.replay_buffer = replay_buffer\n",
    "        self.alpha = alpha\n",
    "\n",
    "    def __iter__(self):\n",
    "        while True:\n",
    "            if random.random() < self.alpha and len(self.fresh_ds) > 0:\n",
    "                idx = random.randint(0, len(self.fresh_ds) - 1)\n",
    "                yield self.fresh_ds[idx]\n",
    "            else:\n",
    "                yield self.replay_buffer.sample(1)[0]"
   ]
  },
  {
   "cell_type": "code",
   "execution_count": 7,
   "id": "5aeea1be",
   "metadata": {},
   "outputs": [],
   "source": [
    "def build_batch(samples):\n",
    "    \"\"\"Collate function building a ``models.Batch`` from dataset samples.\"\"\"\n",
    "    imgs, acts, prevs = zip(*samples)\n",
    "    imgs  = torch.stack(imgs, 0)\n",
    "    acts  = torch.stack(acts, 0)\n",
    "    prevs = torch.stack(prevs, 0)\n",
    "\n",
    "    b        = len(samples)\n",
    "    num_prev = config.NUM_PREV_FRAMES\n",
    "    c, h, w  = config.DM_IMG_CHANNELS, config.IMAGE_SIZE, config.IMAGE_SIZE\n",
    "    prev_seq = prevs.view(b, num_prev, c, h, w)\n",
    "    obs      = torch.cat((prev_seq, imgs.unsqueeze(1)), dim=1)\n",
    "    act_seq  = acts.repeat(1, num_prev).long()\n",
    "    mask     = torch.ones(b, num_prev + 1, dtype=torch.bool, device=imgs.device)\n",
    "    return models.Batch(obs=obs, act=act_seq, mask_padding=mask, info=[{}] * b)"
   ]
  },
  {
   "cell_type": "code",
   "execution_count": 8,
   "id": "ff659086",
   "metadata": {
    "lines_to_next_cell": 1
   },
   "outputs": [],
   "source": [
    "def main():\n",
    "    # Step 1: gather only new sessions into a temporary dataset\n",
    "    gather_new_sessions_only(\n",
    "        config.SESSION_DATA_DIR,\n",
    "        config.CSV_PATH,\n",
    "        config.NEW_IMAGE_DIR,\n",
    "        config.NEW_CSV_PATH,\n",
    "    )\n",
    "\n",
    "    fresh_ds = JetbotDataset(\n",
    "        config.NEW_CSV_PATH,\n",
    "        config.NEW_DATA_DIR,\n",
    "        config.IMAGE_SIZE,\n",
    "        config.NUM_PREV_FRAMES,\n",
    "        transform=config.TRANSFORM,\n",
    "    ) if os.path.exists(config.NEW_CSV_PATH) else []\n",
    "\n",
    "    full_ds = JetbotDataset(\n",
    "        config.CSV_PATH,\n",
    "        config.DATA_DIR,\n",
    "        config.IMAGE_SIZE,\n",
    "        config.NUM_PREV_FRAMES,\n",
    "        transform=config.TRANSFORM,\n",
    "    )\n",
    "    replay_ds = ReplayBuffer(full_ds, max_size=50000, index_path=config.REPLAY_INDEX_PATH)\n",
    "\n",
    "    mixed_dataset = MixedDataset(fresh_ds, replay_ds, alpha=0.2)\n",
    "    train_loader = DataLoader(\n",
    "        mixed_dataset,\n",
    "        batch_size=config.BATCH_SIZE,\n",
    "        collate_fn=build_batch,\n",
    "        num_workers=4,\n",
    "        pin_memory=True,\n",
    "        drop_last=True,\n",
    "    )\n",
    "\n",
    "    val_dataset = JetbotDataset(\n",
    "        config.HOLDOUT_CSV_PATH,\n",
    "        config.HOLDOUT_DATA_DIR,\n",
    "        config.IMAGE_SIZE,\n",
    "        config.NUM_PREV_FRAMES,\n",
    "        transform=config.TRANSFORM,\n",
    "    )\n",
    "    val_loader = DataLoader(\n",
    "        val_dataset,\n",
    "        batch_size=config.BATCH_SIZE,\n",
    "        shuffle=False,\n",
    "        collate_fn=build_batch,\n",
    "        num_workers=4,\n",
    "        pin_memory=True,\n",
    "    )\n",
    "\n",
    "    # Step 2: train a new model starting from the last best checkpoint\n",
    "    ckpt_path = os.path.join(config.CHECKPOINT_DIR, 'denoiser_model_best_val_loss.pth')\n",
    "    new_ckpt = train_diamond_model(\n",
    "        train_loader,\n",
    "        val_loader,\n",
    "        start_checkpoint=ckpt_path,\n",
    "        max_steps=config.NUM_TRAIN_STEPS,\n",
    "    )\n",
    "\n",
    "    # Step 3: compare old best with the newly trained checkpoint\n",
    "    if os.path.exists(ckpt_path):\n",
    "        sampler_a = load_sampler(ckpt_path, config.DEVICE)\n",
    "        sampler_b = load_sampler(new_ckpt, config.DEVICE)\n",
    "        dataset_holdout = JetbotDataset(\n",
    "            config.HOLDOUT_CSV_PATH,\n",
    "            config.HOLDOUT_DATA_DIR,\n",
    "            config.IMAGE_SIZE,\n",
    "            config.NUM_PREV_FRAMES,\n",
    "            transform=config.TRANSFORM,\n",
    "        )\n",
    "        if MAX_HOLDOUT and MAX_HOLDOUT < len(dataset_holdout):\n",
    "            rng = np.random.RandomState(EVAL_SEED)\n",
    "            subset_idx = rng.choice(len(dataset_holdout), size=MAX_HOLDOUT, replace=False)\n",
    "            dataset_holdout = Subset(dataset_holdout, subset_idx.tolist())\n",
    "        dl_holdout = DataLoader(dataset_holdout, batch_size=1, shuffle=False)\n",
    "        results = evaluate_models_alternating(\n",
    "            sampler_a, sampler_b, dl_holdout, config.DEVICE, config.NUM_PREV_FRAMES\n",
    "        )\n",
    "        if results['B']['avg_mse'] < results['A']['avg_mse']:\n",
    "            os.replace(new_ckpt, ckpt_path)\n",
    "        else:\n",
    "            os.remove(new_ckpt)\n",
    "    else:\n",
    "        os.replace(new_ckpt, ckpt_path)\n",
    "\n",
    "    # After training, permanently add new sessions to the full dataset\n",
    "    old_len = len(full_ds)\n",
    "    combine_sessions_append(config.SESSION_DATA_DIR, config.IMAGE_DIR, config.CSV_PATH)\n",
    "    updated_ds = JetbotDataset(config.CSV_PATH, config.DATA_DIR, config.IMAGE_SIZE, config.NUM_PREV_FRAMES, transform=config.TRANSFORM)\n",
    "    new_indices = range(old_len, len(updated_ds))\n",
    "    replay_ds.dataset = updated_ds\n",
    "    replay_ds.add_episode(new_indices)"
   ]
  },
  {
   "cell_type": "code",
   "execution_count": null,
   "id": "d1c9df26",
   "metadata": {},
   "outputs": [
    {
     "name": "stdout",
     "output_type": "stream",
     "text": [
      "Found 0 new sessions to collect.\n"
     ]
    },
    {
     "data": {
      "application/vnd.jupyter.widget-view+json": {
       "model_id": "66bc660842ea45b1a978669a49417cd9",
       "version_major": 2,
       "version_minor": 0
      },
      "text/plain": [
       "Collecting New Sessions: 0it [00:00, ?it/s]"
      ]
     },
     "metadata": {},
     "output_type": "display_data"
    },
    {
     "name": "stdout",
     "output_type": "stream",
     "text": [
      "No new session data found.\n",
      "Loaded combined CSV with columns: ['session_id', 'image_path', 'timestamp', 'action']\n",
      "Loaded combined CSV with columns: ['session_id', 'image_path', 'timestamp', 'action']\n"
     ]
    }
   ],
   "source": [
    "if __name__ == '__main__':\n",
    "    main()"
   ]
  },
  {
   "cell_type": "code",
   "execution_count": null,
   "id": "cf071f68-306c-4b69-ab4e-29a9133c8498",
   "metadata": {},
   "outputs": [],
   "source": []
  }
 ],
 "metadata": {
  "jupytext": {
   "cell_metadata_filter": "-all",
   "encoding": "# coding: utf-8",
   "executable": "/usr/bin/env python",
   "main_language": "python",
   "notebook_metadata_filter": "-all"
  },
  "kernelspec": {
   "display_name": "Python 3 (ipykernel)",
   "language": "python",
   "name": "python3"
  },
  "language_info": {
   "codemirror_mode": {
    "name": "ipython",
    "version": 3
   },
   "file_extension": ".py",
   "mimetype": "text/x-python",
   "name": "python",
   "nbconvert_exporter": "python",
   "pygments_lexer": "ipython3",
   "version": "3.11.9"
  }
 },
 "nbformat": 4,
 "nbformat_minor": 5
}
