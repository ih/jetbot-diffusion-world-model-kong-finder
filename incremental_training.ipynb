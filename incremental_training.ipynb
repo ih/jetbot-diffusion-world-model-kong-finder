{
 "cells": [
  {
   "cell_type": "code",
   "execution_count": null,
   "id": "72ee5d92",
   "metadata": {
    "lines_to_next_cell": 0
   },
   "outputs": [],
   "source": []
  },
  {
   "cell_type": "code",
   "execution_count": 1,
   "id": "a0b39856",
   "metadata": {},
   "outputs": [],
   "source": [
    "import os\n",
    "from importnb import Notebook\n",
    "import torch\n",
    "from torch.utils.data import DataLoader, Dataset, IterableDataset, Subset\n",
    "import random\n",
    "import pickle\n",
    "import numpy as np\n",
    "import wandb"
   ]
  },
  {
   "cell_type": "code",
   "execution_count": 2,
   "id": "018a46c3",
   "metadata": {},
   "outputs": [
    {
     "name": "stdout",
     "output_type": "stream",
     "text": [
      "Imports successful.\n",
      "Visualization helpers defined.\n",
      "Training and validation epoch functions adapted for Batch object and Denoiser.forward.\n"
     ]
    }
   ],
   "source": [
    "import config\n",
    "with Notebook():\n",
    "    from jetbot_dataset import JetbotDataset\n",
    "    from combine_session_data import combine_sessions_append, gather_new_sessions_only\n",
    "    from compare_diamond_models import load_sampler, evaluate_models_alternating\n",
    "from diamond_world_model_trainer import train_diamond_model, split_dataset"
   ]
  },
  {
   "cell_type": "code",
   "execution_count": 3,
   "id": "70959a96",
   "metadata": {
    "lines_to_next_cell": 1
   },
   "outputs": [],
   "source": [
    "import models"
   ]
  },
  {
   "cell_type": "code",
   "execution_count": 4,
   "id": "max-holdout",
   "metadata": {},
   "outputs": [],
   "source": [
    "MAX_HOLDOUT = 10\n",
    "EVAL_SEED = 42\n"
   ]
  },
  {
   "cell_type": "code",
   "execution_count": 5,
   "id": "37b6f6af",
   "metadata": {
    "lines_to_next_cell": 1
   },
   "outputs": [],
   "source": [
    "class ReplayBuffer(Dataset):\n",
    "    \"\"\"A simple replay buffer storing dataset indices in memory.\"\"\"\n",
    "\n",
    "    def __init__(self, dataset, max_size=50000):\n",
    "        self.dataset = dataset\n",
    "        self.max_size = max_size\n",
    "        # Initialize indices in memory. If dataset is large, take a random subset or the latest `max_size` items.\n",
    "        # For simplicity, taking the first `max_size` indices, assuming newer data is appended.\n",
    "        # If dataset can be shorter than max_size, list slicing handles it.\n",
    "        if len(dataset) > max_size:\n",
    "            # If you want to prioritize newest data (assuming it's at the end of `dataset` after updates):\n",
    "            # self.indices = list(range(len(dataset) - max_size, len(dataset)))\n",
    "            # Or, for random sampling from a large dataset initially:\n",
    "            # self.indices = random.sample(range(len(dataset)), max_size)\n",
    "            # Current: take the first max_size, new data added to front via add_episode\n",
    "            self.indices = list(range(max_size)) \n",
    "        else:\n",
    "            self.indices = list(range(len(dataset)))\n",
    "\n",
    "    def __len__(self):\n",
    "        return len(self.indices)\n",
    "\n",
    "    def __getitem__(self, idx):\n",
    "        return self.dataset[self.indices[idx]]\n",
    "\n",
    "    def sample(self, k):\n",
    "        idxs = random.sample(self.indices, min(k, len(self.indices)))\n",
    "        return [self.dataset[i] for i in idxs]"
   ]
  },
  {
   "cell_type": "code",
   "execution_count": 6,
   "id": "c79f37ef",
   "metadata": {
    "lines_to_next_cell": 1
   },
   "outputs": [],
   "source": [
    "class MixedDataset(IterableDataset):\n",
    "    \"\"\"Yields samples from fresh data with probability ``alpha`` and from the\n",
    "    replay buffer otherwise.\"\"\"\n",
    "\n",
    "    def __init__(self, fresh_ds, replay_buffer, alpha=0.2):\n",
    "        self.fresh_ds = fresh_ds\n",
    "        self.replay_buffer = replay_buffer\n",
    "        self.alpha = alpha\n",
    "\n",
    "    def __iter__(self):\n",
    "        while True:\n",
    "            if random.random() < self.alpha and len(self.fresh_ds) > 0:\n",
    "                idx = random.randint(0, len(self.fresh_ds) - 1)\n",
    "                yield self.fresh_ds[idx]\n",
    "            else:\n",
    "                yield self.replay_buffer.sample(1)[0]"
   ]
  },
  {
   "cell_type": "code",
   "execution_count": 7,
   "id": "5aeea1be",
   "metadata": {},
   "outputs": [],
   "source": [
    "def build_batch(samples):\n",
    "    \"\"\"Collate function building a ``models.Batch`` from dataset samples.\"\"\"\n",
    "    imgs, acts, prevs = zip(*samples)\n",
    "    imgs  = torch.stack(imgs, 0)\n",
    "    acts  = torch.stack(acts, 0)\n",
    "    prevs = torch.stack(prevs, 0)\n",
    "\n",
    "    b        = len(samples)\n",
    "    num_prev = config.NUM_PREV_FRAMES\n",
    "    c, h, w  = config.DM_IMG_CHANNELS, config.IMAGE_SIZE, config.IMAGE_SIZE\n",
    "    prev_seq = prevs.view(b, num_prev, c, h, w)\n",
    "    obs      = torch.cat((prev_seq, imgs.unsqueeze(1)), dim=1)\n",
    "    act_seq  = acts.repeat(1, num_prev).long()\n",
    "    mask     = torch.ones(b, num_prev + 1, dtype=torch.bool, device=imgs.device)\n",
    "    return models.Batch(obs=obs, act=act_seq, mask_padding=mask, info=[{}] * b)"
   ]
  },
  {
   "cell_type": "code",
   "execution_count": 8,
   "id": "ff659086",
   "metadata": {
    "lines_to_next_cell": 1
   },
   "outputs": [],
   "source": [
    "def main():\n",
    "    # Step 1: gather only new sessions into a temporary dataset\n",
    "    gather_new_sessions_only(\n",
    "        config.SESSION_DATA_DIR,\n",
    "        config.CSV_PATH,\n",
    "        config.NEW_IMAGE_DIR,\n",
    "        config.NEW_CSV_PATH,\n",
    "    )\n",
    "\n",
    "    fresh_ds = JetbotDataset(\n",
    "        config.NEW_CSV_PATH,\n",
    "        config.NEW_DATA_DIR,\n",
    "        config.IMAGE_SIZE,\n",
    "        config.NUM_PREV_FRAMES,\n",
    "        transform=config.TRANSFORM,\n",
    "    ) if os.path.exists(config.NEW_CSV_PATH) else []\n",
    "\n",
    "    # Use split_dataset from diamond_world_model_trainer\n",
    "    train_ds, val_ds = split_dataset() # train_ds replaces full_ds, val_ds replaces val_dataset\n",
    "\n",
    "    replay_ds = ReplayBuffer(train_ds, max_size=50000) # Removed index_path\n",
    "\n",
    "    mixed_dataset = MixedDataset(fresh_ds, replay_ds, alpha=0.2)\n",
    "    train_loader = DataLoader(\n",
    "        mixed_dataset,\n",
    "        batch_size=config.BATCH_SIZE,\n",
    "        collate_fn=build_batch,\n",
    "        pin_memory=True,\n",
    "        drop_last=True,\n",
    "    )\n",
    "\n",
    "    val_loader = DataLoader(\n",
    "        val_ds, # Use val_ds from split_dataset\n",
    "        batch_size=config.BATCH_SIZE,\n",
    "        shuffle=False,\n",
    "        collate_fn=build_batch,\n",
    "        pin_memory=True,\n",
    "    )\n",
    "\n",
    "    # Step 2: train a new model starting from the last best checkpoint\n",
    "    ckpt_path = os.path.join(config.CHECKPOINT_DIR, 'denoiser_model_best_val_loss.pth')\n",
    "    print(\"Starting training\")\n",
    "    new_ckpt = train_diamond_model(\n",
    "        train_loader,\n",
    "        val_loader,\n",
    "        start_checkpoint=ckpt_path,\n",
    "        max_steps=config.NUM_TRAIN_STEPS,\n",
    "    )\n",
    "    print(\"Training Complete\")\n",
    "\n",
    "    # Step 3: compare old best with the newly trained checkpoint\n",
    "    if os.path.exists(ckpt_path):\n",
    "        sampler_a = load_sampler(ckpt_path, config.DEVICE)\n",
    "        sampler_b = load_sampler(new_ckpt, config.DEVICE)\n",
    "        dataset_holdout = JetbotDataset(\n",
    "            config.HOLDOUT_CSV_PATH,\n",
    "            config.HOLDOUT_DATA_DIR,\n",
    "            config.IMAGE_SIZE,\n",
    "            config.NUM_PREV_FRAMES,\n",
    "            transform=config.TRANSFORM,\n",
    "        )\n",
    "        if MAX_HOLDOUT and MAX_HOLDOUT < len(dataset_holdout):\n",
    "            rng = np.random.RandomState(EVAL_SEED)\n",
    "            subset_idx = rng.choice(len(dataset_holdout), size=MAX_HOLDOUT, replace=False)\n",
    "            dataset_holdout = Subset(dataset_holdout, subset_idx.tolist())\n",
    "        dl_holdout = DataLoader(dataset_holdout, batch_size=1, shuffle=False)\n",
    "        results = evaluate_models_alternating(\n",
    "            sampler_a, sampler_b, dl_holdout, config.DEVICE, config.NUM_PREV_FRAMES\n",
    "        )\n",
    "        if results['B']['avg_mse'] < results['A']['avg_mse']:\n",
    "            print(\"New model outperforms old model\")\n",
    "            os.replace(new_ckpt, ckpt_path)\n",
    "        else:\n",
    "            print(\"Keeping old model\")\n",
    "            os.remove(new_ckpt)\n",
    "    else:\n",
    "        os.replace(new_ckpt, ckpt_path)\n",
    "\n",
    "    # After training, permanently add new sessions to the full dataset\n",
    "    # The ReplayBuffer's dataset (`train_ds`) is a Subset. To correctly update \n",
    "    # the underlying full dataset and add new indices, we need to handle this carefully.\n",
    "    # For now, we'll assume that `combine_sessions_append` updates the source from which `split_dataset` reads.\n",
    "    # A more robust solution might involve updating the `full_dataset` object used by `split_dataset` \n",
    "    # and then re-splitting, or carefully managing indices if `train_ds` is a subset of a global dataset.\n",
    "\n",
    "    # Assuming `split_dataset` will pick up new data on next run after `combine_sessions_append`\n",
    "    # The current `replay_ds.dataset` (which is `train_ds`) will not reflect these new sessions until the script is rerun\n",
    "    # and `split_dataset` is called again. This behavior is kept as is for now.\n",
    "    # To add *newly collected* data (from `fresh_ds`) to the replay buffer for the *current* training run, that's handled by `MixedDataset`.\n",
    "    # The logic below primarily concerns adding to the *persistent* dataset for future runs.\n",
    "\n",
    "    # Ensure all new data (including fresh_ds from this run) is combined into the main persistent dataset.\n",
    "    # This makes it available for the next execution of incremental_training.ipynb, \n",
    "    # where split_dataset will create new train/val splits from the complete data.\n",
    "    print(\"Combining all session data into the main dataset for future runs...\")\n",
    "    combine_sessions_append(config.SESSION_DATA_DIR, config.IMAGE_DIR, config.CSV_PATH)\n",
    "    print(\"Session data combined.\")\n",
    "\n",
    "    # No need to update the current run's replay_ds instance further, as it's ephemeral and will be rebuilt on the next run.\n",
    "\n",
    "    # Delete the dataset split file to ensure a fresh split on the next run\n",
    "    split_file_path = os.path.join(config.OUTPUT_DIR, getattr(config, 'SPLIT_DATASET_FILENAME', 'dataset_split.pth'))\n",
    "    if os.path.exists(split_file_path):\n",
    "        try:\n",
    "            os.remove(split_file_path)\n",
    "            print(f\"Deleted dataset split file: {split_file_path}\")\n",
    "        except OSError as e:\n",
    "            print(f\"Error deleting dataset split file {split_file_path}: {e}\")"
   ]
  },
  {
   "cell_type": "code",
   "execution_count": 9,
   "id": "d1c9df26",
   "metadata": {},
   "outputs": [
    {
     "name": "stderr",
     "output_type": "stream",
     "text": [
      "wandb: ERROR Failed to detect the name of this notebook. You can set it manually with the WANDB_NOTEBOOK_NAME environment variable to enable code saving.\n",
      "wandb: Currently logged in as: irvin-hwang (irvin-hwang-simulacra-systems) to https://api.wandb.ai. Use `wandb login --relogin` to force relogin\n"
     ]
    },
    {
     "data": {
      "text/html": [
       "Tracking run with wandb version 0.19.11"
      ],
      "text/plain": [
       "<IPython.core.display.HTML object>"
      ]
     },
     "metadata": {},
     "output_type": "display_data"
    },
    {
     "data": {
      "text/html": [
       "Run data is saved locally in <code>C:\\Projects\\jetbot-diffusion-world-model-kong-finder\\wandb\\run-20250628_120814-2l660vdl</code>"
      ],
      "text/plain": [
       "<IPython.core.display.HTML object>"
      ]
     },
     "metadata": {},
     "output_type": "display_data"
    },
    {
     "data": {
      "text/html": [
       "Syncing run <strong><a href='https://wandb.ai/irvin-hwang-simulacra-systems/jetbot-diffusion-world-model-kong-finder/runs/2l660vdl' target=\"_blank\">comic-pine-2</a></strong> to <a href='https://wandb.ai/irvin-hwang-simulacra-systems/jetbot-diffusion-world-model-kong-finder' target=\"_blank\">Weights & Biases</a> (<a href='https://wandb.me/developer-guide' target=\"_blank\">docs</a>)<br>"
      ],
      "text/plain": [
       "<IPython.core.display.HTML object>"
      ]
     },
     "metadata": {},
     "output_type": "display_data"
    },
    {
     "data": {
      "text/html": [
       " View project at <a href='https://wandb.ai/irvin-hwang-simulacra-systems/jetbot-diffusion-world-model-kong-finder' target=\"_blank\">https://wandb.ai/irvin-hwang-simulacra-systems/jetbot-diffusion-world-model-kong-finder</a>"
      ],
      "text/plain": [
       "<IPython.core.display.HTML object>"
      ]
     },
     "metadata": {},
     "output_type": "display_data"
    },
    {
     "data": {
      "text/html": [
       " View run at <a href='https://wandb.ai/irvin-hwang-simulacra-systems/jetbot-diffusion-world-model-kong-finder/runs/2l660vdl' target=\"_blank\">https://wandb.ai/irvin-hwang-simulacra-systems/jetbot-diffusion-world-model-kong-finder/runs/2l660vdl</a>"
      ],
      "text/plain": [
       "<IPython.core.display.HTML object>"
      ]
     },
     "metadata": {},
     "output_type": "display_data"
    },
    {
     "name": "stdout",
     "output_type": "stream",
     "text": [
      "Found 1 new sessions to collect.\n"
     ]
    },
    {
     "data": {
      "application/vnd.jupyter.widget-view+json": {
       "model_id": "a5e376ba75eb426aa4e4c24e1b1e34bc",
       "version_major": 2,
       "version_minor": 0
      },
      "text/plain": [
       "Collecting New Sessions:   0%|          | 0/1 [00:00<?, ?it/s]"
      ]
     },
     "metadata": {},
     "output_type": "display_data"
    },
    {
     "name": "stdout",
     "output_type": "stream",
     "text": [
      "Wrote 4542 entries to C:\\Projects\\jetbot-diffusion-world-model-kong-finder-aux\\jetbot_new_data\\new.csv\n",
      "Loaded combined CSV with columns: ['session_id', 'image_path', 'timestamp', 'action']\n",
      "Loaded combined CSV with columns: ['session_id', 'image_path', 'timestamp', 'action']\n",
      "Full dataset size: 21483\n",
      "Loading dataset split from C:\\Projects\\jetbot-diffusion-world-model-kong-finder-aux\\output_model_5hz_DIAMOND_laundry_incremental\\dataset_split.pth\n",
      "Starting training\n",
      "Filtering dataset with 2149 samples for actions: [0.0]\n"
     ]
    },
    {
     "data": {
      "application/vnd.jupyter.widget-view+json": {
       "model_id": "7c8faa282d4c45bb889a98189ae1dc8d",
       "version_major": 2,
       "version_minor": 0
      },
      "text/plain": [
       "Filtering Dataset:   0%|          | 0/2149 [00:00<?, ?it/s]"
      ]
     },
     "metadata": {},
     "output_type": "display_data"
    },
    {
     "name": "stdout",
     "output_type": "stream",
     "text": [
      "Filtered down to 1073 samples.\n",
      "Filtering dataset with 2149 samples for actions: [0.13]\n"
     ]
    },
    {
     "data": {
      "application/vnd.jupyter.widget-view+json": {
       "model_id": "688049bd4c794ee1a790ac22475ee434",
       "version_major": 2,
       "version_minor": 0
      },
      "text/plain": [
       "Filtering Dataset:   0%|          | 0/2149 [00:00<?, ?it/s]"
      ]
     },
     "metadata": {},
     "output_type": "display_data"
    },
    {
     "name": "stdout",
     "output_type": "stream",
     "text": [
      "Filtered down to 1076 samples.\n"
     ]
    },
    {
     "data": {
      "application/vnd.jupyter.widget-view+json": {
       "model_id": "eb538473cbc74188b1db4fb82adc0a97",
       "version_major": 2,
       "version_minor": 0
      },
      "text/plain": [
       "Incremental Training Steps:   0%|          | 0/10 [00:00<?, ?it/s]"
      ]
     },
     "metadata": {},
     "output_type": "display_data"
    },
    {
     "data": {
      "application/vnd.jupyter.widget-view+json": {
       "model_id": "a420b57ab2524b69b4cc89c07a44385f",
       "version_major": 2,
       "version_minor": 0
      },
      "text/plain": [
       "Epoch 10 [Valid]:   0%|          | 0/1075 [00:00<?, ?it/s]"
      ]
     },
     "metadata": {},
     "output_type": "display_data"
    },
    {
     "name": "stderr",
     "output_type": "stream",
     "text": [
      "wandb: WARNING Tried to log to step 0 that is less than the current step 9. Steps must be monotonically increasing, so this data will be ignored. See https://wandb.me/define-metric to log data out of order.\n",
      "wandb: WARNING Tried to log to step 9 that is less than the current step 1070. Steps must be monotonically increasing, so this data will be ignored. See https://wandb.me/define-metric to log data out of order.\n",
      "wandb: WARNING Tried to log to step 9 that is less than the current step 1070. Steps must be monotonically increasing, so this data will be ignored. See https://wandb.me/define-metric to log data out of order.\n"
     ]
    },
    {
     "name": "stdout",
     "output_type": "stream",
     "text": [
      "Training Complete\n",
      "Loaded combined CSV with columns: ['session_id', 'image_path', 'timestamp', 'action']\n"
     ]
    },
    {
     "data": {
      "application/vnd.jupyter.widget-view+json": {
       "model_id": "791791979fed4207a60528ea5f7caad9",
       "version_major": 2,
       "version_minor": 0
      },
      "text/plain": [
       "Evaluating:   0%|          | 0/10 [00:00<?, ?it/s]"
      ]
     },
     "metadata": {},
     "output_type": "display_data"
    },
    {
     "name": "stderr",
     "output_type": "stream",
     "text": [
      "C:\\Projects\\pythonenv-deeprl\\Lib\\site-packages\\torchmetrics\\utilities\\prints.py:70: FutureWarning: Importing `spectral_angle_mapper` from `torchmetrics.functional` was deprecated and will be removed in 2.0. Import `spectral_angle_mapper` from `torchmetrics.image` instead.\n",
      "  _future_warning(\n"
     ]
    },
    {
     "name": "stdout",
     "output_type": "stream",
     "text": [
      "Sample 0 Model A -> MSE: 0.0074, SSIM: 0.8962, Avg MSE: 0.0074, Avg SSIM: 0.8962\n",
      "Sample 0 Model B -> MSE: 0.0074, SSIM: 0.8960, Avg MSE: 0.0074, Avg SSIM: 0.8960\n"
     ]
    },
    {
     "name": "stderr",
     "output_type": "stream",
     "text": [
      "wandb: WARNING Tried to log to step 9 that is less than the current step 1070. Steps must be monotonically increasing, so this data will be ignored. See https://wandb.me/define-metric to log data out of order.\n"
     ]
    },
    {
     "name": "stdout",
     "output_type": "stream",
     "text": [
      "Sample 1 Model A -> MSE: 0.0182, SSIM: 0.8425, Avg MSE: 0.0128, Avg SSIM: 0.8694\n",
      "Sample 1 Model B -> MSE: 0.0181, SSIM: 0.8428, Avg MSE: 0.0127, Avg SSIM: 0.8694\n",
      "Sample 2 Model A -> MSE: 0.0098, SSIM: 0.8952, Avg MSE: 0.0118, Avg SSIM: 0.8780\n",
      "Sample 2 Model B -> MSE: 0.0098, SSIM: 0.8952, Avg MSE: 0.0117, Avg SSIM: 0.8780\n",
      "Sample 3 Model A -> MSE: 0.0348, SSIM: 0.7395, Avg MSE: 0.0175, Avg SSIM: 0.8433\n",
      "Sample 3 Model B -> MSE: 0.0347, SSIM: 0.7394, Avg MSE: 0.0175, Avg SSIM: 0.8433\n",
      "Sample 4 Model A -> MSE: 0.0036, SSIM: 0.8894, Avg MSE: 0.0147, Avg SSIM: 0.8526\n",
      "Sample 4 Model B -> MSE: 0.0036, SSIM: 0.8893, Avg MSE: 0.0147, Avg SSIM: 0.8525\n",
      "Sample 5 Model A -> MSE: 0.0045, SSIM: 0.8826, Avg MSE: 0.0130, Avg SSIM: 0.8576\n",
      "Sample 5 Model B -> MSE: 0.0045, SSIM: 0.8828, Avg MSE: 0.0130, Avg SSIM: 0.8576\n",
      "Sample 6 Model A -> MSE: 0.0131, SSIM: 0.8881, Avg MSE: 0.0130, Avg SSIM: 0.8619\n",
      "Sample 6 Model B -> MSE: 0.0131, SSIM: 0.8882, Avg MSE: 0.0130, Avg SSIM: 0.8620\n",
      "Sample 7 Model A -> MSE: 0.0401, SSIM: 0.6621, Avg MSE: 0.0164, Avg SSIM: 0.8370\n",
      "Sample 7 Model B -> MSE: 0.0400, SSIM: 0.6626, Avg MSE: 0.0164, Avg SSIM: 0.8370\n",
      "Sample 8 Model A -> MSE: 0.0035, SSIM: 0.8903, Avg MSE: 0.0150, Avg SSIM: 0.8429\n",
      "Sample 8 Model B -> MSE: 0.0035, SSIM: 0.8904, Avg MSE: 0.0150, Avg SSIM: 0.8430\n",
      "Sample 9 Model A -> MSE: 0.0132, SSIM: 0.8242, Avg MSE: 0.0148, Avg SSIM: 0.8410\n",
      "Sample 9 Model B -> MSE: 0.0133, SSIM: 0.8238, Avg MSE: 0.0148, Avg SSIM: 0.8411\n",
      "Combining all session data into the main dataset for future runs...\n",
      "Found 31 sessions to check from 'C:\\Projects\\jetbot-diffusion-world-model-kong-finder-aux\\jetbot_laundry_session_data_two_actions'.\n",
      "Reading existing sessions from: C:\\Projects\\jetbot-diffusion-world-model-kong-finder-aux\\jetbot_data_two_actions\\laundry_data_30_sessions.csv\n",
      "Found 30 existing sessions.\n",
      "Found 1 new sessions to process.\n"
     ]
    },
    {
     "data": {
      "application/vnd.jupyter.widget-view+json": {
       "model_id": "a0eced357aa44a95aab2fe43307760bf",
       "version_major": 2,
       "version_minor": 0
      },
      "text/plain": [
       "Processing New Sessions:   0%|          | 0/1 [00:00<?, ?it/s]"
      ]
     },
     "metadata": {},
     "output_type": "display_data"
    },
    {
     "name": "stdout",
     "output_type": "stream",
     "text": [
      "Processing session: session_20250611_114218, 4542 entries.\n"
     ]
    },
    {
     "data": {
      "application/vnd.jupyter.widget-view+json": {
       "model_id": "97b6bdb404fa4ad9a7abb0a8c4ff9dd0",
       "version_major": 2,
       "version_minor": 0
      },
      "text/plain": [
       "  Processing session_20250611_114218:   0%|          | 0/4542 [00:00<?, ?it/s]"
      ]
     },
     "metadata": {},
     "output_type": "display_data"
    },
    {
     "name": "stdout",
     "output_type": "stream",
     "text": [
      "Appending 4542 new entries to C:\\Projects\\jetbot-diffusion-world-model-kong-finder-aux\\jetbot_data_two_actions\\laundry_data_30_sessions.csv\n",
      "\n",
      "Aggregate data saved. Total entries now: 134156\n",
      "Session data combined.\n",
      "Deleted dataset split file: C:\\Projects\\jetbot-diffusion-world-model-kong-finder-aux\\output_model_5hz_DIAMOND_laundry_incremental\\dataset_split.pth\n"
     ]
    }
   ],
   "source": [
    "wandb.init()\n",
    "if __name__ == '__main__':\n",
    "    main()"
   ]
  },
  {
   "cell_type": "code",
   "execution_count": null,
   "id": "cf071f68-306c-4b69-ab4e-29a9133c8498",
   "metadata": {},
   "outputs": [],
   "source": []
  }
 ],
 "metadata": {
  "jupytext": {
   "cell_metadata_filter": "-all",
   "encoding": "# coding: utf-8",
   "executable": "/usr/bin/env python",
   "main_language": "python",
   "notebook_metadata_filter": "-all"
  },
  "kernelspec": {
   "display_name": "Python 3 (ipykernel)",
   "language": "python",
   "name": "python3"
  },
  "language_info": {
   "codemirror_mode": {
    "name": "ipython",
    "version": 3
   },
   "file_extension": ".py",
   "mimetype": "text/x-python",
   "name": "python",
   "nbconvert_exporter": "python",
   "pygments_lexer": "ipython3",
   "version": "3.11.9"
  }
 },
 "nbformat": 4,
 "nbformat_minor": 5
}
